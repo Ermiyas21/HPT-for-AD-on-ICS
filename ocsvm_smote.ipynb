{
 "cells": [
  {
   "cell_type": "code",
   "execution_count": 8,
   "id": "a45d7f46",
   "metadata": {
    "executionInfo": {
     "elapsed": 6092,
     "status": "ok",
     "timestamp": 1732823377492,
     "user": {
      "displayName": "Narmin Aliyeva",
      "userId": "05305446266640033678"
     },
     "user_tz": -240
    },
    "id": "a45d7f46"
   },
   "outputs": [],
   "source": [
    "# Importing necessary libraries\n",
    "import pandas as pd\n",
    "import numpy as np\n",
    "import matplotlib.pyplot as plt\n",
    "import seaborn as sns\n",
    "from joblib import load, dump\n",
    "\n",
    "from sklearn.svm import OneClassSVM\n",
    "import matplotlib.pyplot as plt\n",
    "from sklearn.metrics import roc_curve, auc\n",
    "from imblearn.over_sampling import SMOTE\n",
    "from sklearn.model_selection import train_test_split\n",
    "from tensorflow.keras.models import Sequential\n",
    "from sklearn.preprocessing import MinMaxScaler\n",
    "from tensorflow.keras.callbacks import EarlyStopping\n",
    "from sklearn.metrics import confusion_matrix, precision_score, make_scorer, recall_score, f1_score, roc_curve, roc_auc_score,accuracy_score,classification_report"
   ]
  },
  {
   "cell_type": "code",
   "execution_count": 2,
   "id": "87d9fcfe",
   "metadata": {
    "id": "87d9fcfe"
   },
   "outputs": [],
   "source": [
    "# data=pd.read_csv(r'C:\\Users\\azad.aliyev\\Downloads\\data.csv')"
   ]
  },
  {
   "cell_type": "code",
   "execution_count": 5,
   "id": "c65ef661",
   "metadata": {},
   "outputs": [],
   "source": [
    "data=pd.read_csv(r'C:\\Users\\Asus\\Downloads\\Thesis\\dataset\\data.csv')"
   ]
  },
  {
   "cell_type": "code",
   "execution_count": 128,
   "id": "efd8c3cf-3737-481e-94ff-eb1125e01e71",
   "metadata": {},
   "outputs": [],
   "source": [
    "sampled_data = data.sample(n=10000, random_state=42)\n",
    "\n",
    "X = sampled_data.drop(columns=['anomaly'])\n",
    "y = sampled_data['anomaly']\n",
    "\n",
    "# Step 1: Prepare sampled data\n",
    "X_train, X_test, y_train, y_test = train_test_split(X, y, test_size=0.2, stratify=y, random_state=42)"
   ]
  },
  {
   "cell_type": "code",
   "execution_count": 2,
   "id": "awVMKRxrUyCv",
   "metadata": {
    "colab": {
     "base_uri": "https://localhost:8080/"
    },
    "executionInfo": {
     "elapsed": 19905,
     "status": "ok",
     "timestamp": 1732823448205,
     "user": {
      "displayName": "Narmin Aliyeva",
      "userId": "05305446266640033678"
     },
     "user_tz": -240
    },
    "id": "awVMKRxrUyCv",
    "outputId": "a2ffea33-7205-4356-8e51-e5379e004698"
   },
   "outputs": [
    {
     "name": "stdout",
     "output_type": "stream",
     "text": [
      "Mounted at /content/drive/\n"
     ]
    }
   ],
   "source": [
    "# from google.colab import drive\n",
    "# drive.mount('/content/drive/')"
   ]
  },
  {
   "cell_type": "code",
   "execution_count": 3,
   "id": "EjMhNKk6U9V7",
   "metadata": {
    "executionInfo": {
     "elapsed": 4824,
     "status": "ok",
     "timestamp": 1732823483821,
     "user": {
      "displayName": "Narmin Aliyeva",
      "userId": "05305446266640033678"
     },
     "user_tz": -240
    },
    "id": "EjMhNKk6U9V7"
   },
   "outputs": [],
   "source": [
    "# data = pd.read_csv('/content/drive/My Drive/thesis/data.csv')"
   ]
  },
  {
   "cell_type": "code",
   "execution_count": 3,
   "id": "d26022f5",
   "metadata": {
    "executionInfo": {
     "elapsed": 498,
     "status": "ok",
     "timestamp": 1732825356476,
     "user": {
      "displayName": "Narmin Aliyeva",
      "userId": "05305446266640033678"
     },
     "user_tz": -240
    },
    "id": "d26022f5"
   },
   "outputs": [],
   "source": [
    "sampled_data = data.sample(n=100000, random_state=42)"
   ]
  },
  {
   "cell_type": "code",
   "execution_count": 47,
   "id": "88f7f2b5-819b-4521-b336-901d6d06cf56",
   "metadata": {},
   "outputs": [
    {
     "name": "stderr",
     "output_type": "stream",
     "text": [
      "C:\\Users\\azad.aliyev\\AppData\\Local\\anaconda3\\Lib\\site-packages\\numpy\\core\\fromnumeric.py:59: FutureWarning: 'DataFrame.swapaxes' is deprecated and will be removed in a future version. Please use 'DataFrame.transpose' instead.\n",
      "  return bound(*args, **kwds)\n"
     ]
    }
   ],
   "source": [
    "# Function to predict on a data chunk using a single model\n",
    "def predict_on_chunk(data_chunk, model):\n",
    "    return model.predict(data_chunk)  # -1 = anomaly, 1 = normal\n",
    "\n",
    "# Split the test dataset into chunks\n",
    "test_chunks = np.array_split(X_test, 8)  # Adjust the number of chunks as needed\n",
    "\n",
    "start_predict_time = time.time()\n",
    "# Predict each chunk in parallel using a single model (e.g., the first trained model)\n",
    "chunk_predictions = Parallel(n_jobs=-1)(\n",
    "    delayed(predict_on_chunk)(chunk, models[0]) for chunk in test_chunks\n",
    ")\n",
    "\n",
    "# Combine predictions from all chunks\n",
    "final_predictions = np.concatenate(chunk_predictions)\n",
    "\n",
    "# Convert predictions to binary labels: -1 -> anomaly (1), 1 -> normal (0)\n",
    "final_predictions = (final_predictions == -1).astype(int)\n",
    "\n",
    "end_predict_time = time.time()\n",
    "prediction_time = end_predict_time - start_predict_time"
   ]
  },
  {
   "cell_type": "markdown",
   "id": "4c0d5b95",
   "metadata": {},
   "source": [
    "### Normal feature selection"
   ]
  },
  {
   "cell_type": "code",
   "execution_count": 4,
   "id": "619d9f63",
   "metadata": {
    "executionInfo": {
     "elapsed": 388,
     "status": "ok",
     "timestamp": 1732825375169,
     "user": {
      "displayName": "Narmin Aliyeva",
      "userId": "05305446266640033678"
     },
     "user_tz": -240
    },
    "id": "619d9f63"
   },
   "outputs": [],
   "source": [
    "X = sampled_data.drop(columns=['anomaly'])\n",
    "y = sampled_data['anomaly']"
   ]
  },
  {
   "cell_type": "code",
   "execution_count": 5,
   "id": "17fcbbcc",
   "metadata": {
    "colab": {
     "base_uri": "https://localhost:8080/"
    },
    "executionInfo": {
     "elapsed": 5,
     "status": "ok",
     "timestamp": 1732825376115,
     "user": {
      "displayName": "Narmin Aliyeva",
      "userId": "05305446266640033678"
     },
     "user_tz": -240
    },
    "id": "17fcbbcc",
    "outputId": "7ed869e6-e1ed-44ad-9ec3-b50ba3df446e"
   },
   "outputs": [
    {
     "name": "stdout",
     "output_type": "stream",
     "text": [
      "Training data shape: (80000, 20)\n",
      "Test data shape: (20000, 20)\n"
     ]
    }
   ],
   "source": [
    "X_train, X_test, y_train, y_test = train_test_split(X, y, test_size=0.2, random_state=42)\n",
    "print(\"Training data shape:\", X_train.shape)\n",
    "print(\"Test data shape:\", X_test.shape)"
   ]
  },
  {
   "cell_type": "code",
   "execution_count": 7,
   "id": "0717ad1e",
   "metadata": {
    "colab": {
     "base_uri": "https://localhost:8080/",
     "height": 80
    },
    "executionInfo": {
     "elapsed": 328,
     "status": "ok",
     "timestamp": 1732823669917,
     "user": {
      "displayName": "Narmin Aliyeva",
      "userId": "05305446266640033678"
     },
     "user_tz": -240
    },
    "id": "0717ad1e",
    "outputId": "845d41c9-277a-48e0-f411-53fd829fe397"
   },
   "outputs": [
    {
     "data": {
      "text/html": [
       "<style>#sk-container-id-1 {\n",
       "  /* Definition of color scheme common for light and dark mode */\n",
       "  --sklearn-color-text: black;\n",
       "  --sklearn-color-line: gray;\n",
       "  /* Definition of color scheme for unfitted estimators */\n",
       "  --sklearn-color-unfitted-level-0: #fff5e6;\n",
       "  --sklearn-color-unfitted-level-1: #f6e4d2;\n",
       "  --sklearn-color-unfitted-level-2: #ffe0b3;\n",
       "  --sklearn-color-unfitted-level-3: chocolate;\n",
       "  /* Definition of color scheme for fitted estimators */\n",
       "  --sklearn-color-fitted-level-0: #f0f8ff;\n",
       "  --sklearn-color-fitted-level-1: #d4ebff;\n",
       "  --sklearn-color-fitted-level-2: #b3dbfd;\n",
       "  --sklearn-color-fitted-level-3: cornflowerblue;\n",
       "\n",
       "  /* Specific color for light theme */\n",
       "  --sklearn-color-text-on-default-background: var(--sg-text-color, var(--theme-code-foreground, var(--jp-content-font-color1, black)));\n",
       "  --sklearn-color-background: var(--sg-background-color, var(--theme-background, var(--jp-layout-color0, white)));\n",
       "  --sklearn-color-border-box: var(--sg-text-color, var(--theme-code-foreground, var(--jp-content-font-color1, black)));\n",
       "  --sklearn-color-icon: #696969;\n",
       "\n",
       "  @media (prefers-color-scheme: dark) {\n",
       "    /* Redefinition of color scheme for dark theme */\n",
       "    --sklearn-color-text-on-default-background: var(--sg-text-color, var(--theme-code-foreground, var(--jp-content-font-color1, white)));\n",
       "    --sklearn-color-background: var(--sg-background-color, var(--theme-background, var(--jp-layout-color0, #111)));\n",
       "    --sklearn-color-border-box: var(--sg-text-color, var(--theme-code-foreground, var(--jp-content-font-color1, white)));\n",
       "    --sklearn-color-icon: #878787;\n",
       "  }\n",
       "}\n",
       "\n",
       "#sk-container-id-1 {\n",
       "  color: var(--sklearn-color-text);\n",
       "}\n",
       "\n",
       "#sk-container-id-1 pre {\n",
       "  padding: 0;\n",
       "}\n",
       "\n",
       "#sk-container-id-1 input.sk-hidden--visually {\n",
       "  border: 0;\n",
       "  clip: rect(1px 1px 1px 1px);\n",
       "  clip: rect(1px, 1px, 1px, 1px);\n",
       "  height: 1px;\n",
       "  margin: -1px;\n",
       "  overflow: hidden;\n",
       "  padding: 0;\n",
       "  position: absolute;\n",
       "  width: 1px;\n",
       "}\n",
       "\n",
       "#sk-container-id-1 div.sk-dashed-wrapped {\n",
       "  border: 1px dashed var(--sklearn-color-line);\n",
       "  margin: 0 0.4em 0.5em 0.4em;\n",
       "  box-sizing: border-box;\n",
       "  padding-bottom: 0.4em;\n",
       "  background-color: var(--sklearn-color-background);\n",
       "}\n",
       "\n",
       "#sk-container-id-1 div.sk-container {\n",
       "  /* jupyter's `normalize.less` sets `[hidden] { display: none; }`\n",
       "     but bootstrap.min.css set `[hidden] { display: none !important; }`\n",
       "     so we also need the `!important` here to be able to override the\n",
       "     default hidden behavior on the sphinx rendered scikit-learn.org.\n",
       "     See: https://github.com/scikit-learn/scikit-learn/issues/21755 */\n",
       "  display: inline-block !important;\n",
       "  position: relative;\n",
       "}\n",
       "\n",
       "#sk-container-id-1 div.sk-text-repr-fallback {\n",
       "  display: none;\n",
       "}\n",
       "\n",
       "div.sk-parallel-item,\n",
       "div.sk-serial,\n",
       "div.sk-item {\n",
       "  /* draw centered vertical line to link estimators */\n",
       "  background-image: linear-gradient(var(--sklearn-color-text-on-default-background), var(--sklearn-color-text-on-default-background));\n",
       "  background-size: 2px 100%;\n",
       "  background-repeat: no-repeat;\n",
       "  background-position: center center;\n",
       "}\n",
       "\n",
       "/* Parallel-specific style estimator block */\n",
       "\n",
       "#sk-container-id-1 div.sk-parallel-item::after {\n",
       "  content: \"\";\n",
       "  width: 100%;\n",
       "  border-bottom: 2px solid var(--sklearn-color-text-on-default-background);\n",
       "  flex-grow: 1;\n",
       "}\n",
       "\n",
       "#sk-container-id-1 div.sk-parallel {\n",
       "  display: flex;\n",
       "  align-items: stretch;\n",
       "  justify-content: center;\n",
       "  background-color: var(--sklearn-color-background);\n",
       "  position: relative;\n",
       "}\n",
       "\n",
       "#sk-container-id-1 div.sk-parallel-item {\n",
       "  display: flex;\n",
       "  flex-direction: column;\n",
       "}\n",
       "\n",
       "#sk-container-id-1 div.sk-parallel-item:first-child::after {\n",
       "  align-self: flex-end;\n",
       "  width: 50%;\n",
       "}\n",
       "\n",
       "#sk-container-id-1 div.sk-parallel-item:last-child::after {\n",
       "  align-self: flex-start;\n",
       "  width: 50%;\n",
       "}\n",
       "\n",
       "#sk-container-id-1 div.sk-parallel-item:only-child::after {\n",
       "  width: 0;\n",
       "}\n",
       "\n",
       "/* Serial-specific style estimator block */\n",
       "\n",
       "#sk-container-id-1 div.sk-serial {\n",
       "  display: flex;\n",
       "  flex-direction: column;\n",
       "  align-items: center;\n",
       "  background-color: var(--sklearn-color-background);\n",
       "  padding-right: 1em;\n",
       "  padding-left: 1em;\n",
       "}\n",
       "\n",
       "\n",
       "/* Toggleable style: style used for estimator/Pipeline/ColumnTransformer box that is\n",
       "clickable and can be expanded/collapsed.\n",
       "- Pipeline and ColumnTransformer use this feature and define the default style\n",
       "- Estimators will overwrite some part of the style using the `sk-estimator` class\n",
       "*/\n",
       "\n",
       "/* Pipeline and ColumnTransformer style (default) */\n",
       "\n",
       "#sk-container-id-1 div.sk-toggleable {\n",
       "  /* Default theme specific background. It is overwritten whether we have a\n",
       "  specific estimator or a Pipeline/ColumnTransformer */\n",
       "  background-color: var(--sklearn-color-background);\n",
       "}\n",
       "\n",
       "/* Toggleable label */\n",
       "#sk-container-id-1 label.sk-toggleable__label {\n",
       "  cursor: pointer;\n",
       "  display: block;\n",
       "  width: 100%;\n",
       "  margin-bottom: 0;\n",
       "  padding: 0.5em;\n",
       "  box-sizing: border-box;\n",
       "  text-align: center;\n",
       "}\n",
       "\n",
       "#sk-container-id-1 label.sk-toggleable__label-arrow:before {\n",
       "  /* Arrow on the left of the label */\n",
       "  content: \"▸\";\n",
       "  float: left;\n",
       "  margin-right: 0.25em;\n",
       "  color: var(--sklearn-color-icon);\n",
       "}\n",
       "\n",
       "#sk-container-id-1 label.sk-toggleable__label-arrow:hover:before {\n",
       "  color: var(--sklearn-color-text);\n",
       "}\n",
       "\n",
       "/* Toggleable content - dropdown */\n",
       "\n",
       "#sk-container-id-1 div.sk-toggleable__content {\n",
       "  max-height: 0;\n",
       "  max-width: 0;\n",
       "  overflow: hidden;\n",
       "  text-align: left;\n",
       "  /* unfitted */\n",
       "  background-color: var(--sklearn-color-unfitted-level-0);\n",
       "}\n",
       "\n",
       "#sk-container-id-1 div.sk-toggleable__content.fitted {\n",
       "  /* fitted */\n",
       "  background-color: var(--sklearn-color-fitted-level-0);\n",
       "}\n",
       "\n",
       "#sk-container-id-1 div.sk-toggleable__content pre {\n",
       "  margin: 0.2em;\n",
       "  border-radius: 0.25em;\n",
       "  color: var(--sklearn-color-text);\n",
       "  /* unfitted */\n",
       "  background-color: var(--sklearn-color-unfitted-level-0);\n",
       "}\n",
       "\n",
       "#sk-container-id-1 div.sk-toggleable__content.fitted pre {\n",
       "  /* unfitted */\n",
       "  background-color: var(--sklearn-color-fitted-level-0);\n",
       "}\n",
       "\n",
       "#sk-container-id-1 input.sk-toggleable__control:checked~div.sk-toggleable__content {\n",
       "  /* Expand drop-down */\n",
       "  max-height: 200px;\n",
       "  max-width: 100%;\n",
       "  overflow: auto;\n",
       "}\n",
       "\n",
       "#sk-container-id-1 input.sk-toggleable__control:checked~label.sk-toggleable__label-arrow:before {\n",
       "  content: \"▾\";\n",
       "}\n",
       "\n",
       "/* Pipeline/ColumnTransformer-specific style */\n",
       "\n",
       "#sk-container-id-1 div.sk-label input.sk-toggleable__control:checked~label.sk-toggleable__label {\n",
       "  color: var(--sklearn-color-text);\n",
       "  background-color: var(--sklearn-color-unfitted-level-2);\n",
       "}\n",
       "\n",
       "#sk-container-id-1 div.sk-label.fitted input.sk-toggleable__control:checked~label.sk-toggleable__label {\n",
       "  background-color: var(--sklearn-color-fitted-level-2);\n",
       "}\n",
       "\n",
       "/* Estimator-specific style */\n",
       "\n",
       "/* Colorize estimator box */\n",
       "#sk-container-id-1 div.sk-estimator input.sk-toggleable__control:checked~label.sk-toggleable__label {\n",
       "  /* unfitted */\n",
       "  background-color: var(--sklearn-color-unfitted-level-2);\n",
       "}\n",
       "\n",
       "#sk-container-id-1 div.sk-estimator.fitted input.sk-toggleable__control:checked~label.sk-toggleable__label {\n",
       "  /* fitted */\n",
       "  background-color: var(--sklearn-color-fitted-level-2);\n",
       "}\n",
       "\n",
       "#sk-container-id-1 div.sk-label label.sk-toggleable__label,\n",
       "#sk-container-id-1 div.sk-label label {\n",
       "  /* The background is the default theme color */\n",
       "  color: var(--sklearn-color-text-on-default-background);\n",
       "}\n",
       "\n",
       "/* On hover, darken the color of the background */\n",
       "#sk-container-id-1 div.sk-label:hover label.sk-toggleable__label {\n",
       "  color: var(--sklearn-color-text);\n",
       "  background-color: var(--sklearn-color-unfitted-level-2);\n",
       "}\n",
       "\n",
       "/* Label box, darken color on hover, fitted */\n",
       "#sk-container-id-1 div.sk-label.fitted:hover label.sk-toggleable__label.fitted {\n",
       "  color: var(--sklearn-color-text);\n",
       "  background-color: var(--sklearn-color-fitted-level-2);\n",
       "}\n",
       "\n",
       "/* Estimator label */\n",
       "\n",
       "#sk-container-id-1 div.sk-label label {\n",
       "  font-family: monospace;\n",
       "  font-weight: bold;\n",
       "  display: inline-block;\n",
       "  line-height: 1.2em;\n",
       "}\n",
       "\n",
       "#sk-container-id-1 div.sk-label-container {\n",
       "  text-align: center;\n",
       "}\n",
       "\n",
       "/* Estimator-specific */\n",
       "#sk-container-id-1 div.sk-estimator {\n",
       "  font-family: monospace;\n",
       "  border: 1px dotted var(--sklearn-color-border-box);\n",
       "  border-radius: 0.25em;\n",
       "  box-sizing: border-box;\n",
       "  margin-bottom: 0.5em;\n",
       "  /* unfitted */\n",
       "  background-color: var(--sklearn-color-unfitted-level-0);\n",
       "}\n",
       "\n",
       "#sk-container-id-1 div.sk-estimator.fitted {\n",
       "  /* fitted */\n",
       "  background-color: var(--sklearn-color-fitted-level-0);\n",
       "}\n",
       "\n",
       "/* on hover */\n",
       "#sk-container-id-1 div.sk-estimator:hover {\n",
       "  /* unfitted */\n",
       "  background-color: var(--sklearn-color-unfitted-level-2);\n",
       "}\n",
       "\n",
       "#sk-container-id-1 div.sk-estimator.fitted:hover {\n",
       "  /* fitted */\n",
       "  background-color: var(--sklearn-color-fitted-level-2);\n",
       "}\n",
       "\n",
       "/* Specification for estimator info (e.g. \"i\" and \"?\") */\n",
       "\n",
       "/* Common style for \"i\" and \"?\" */\n",
       "\n",
       ".sk-estimator-doc-link,\n",
       "a:link.sk-estimator-doc-link,\n",
       "a:visited.sk-estimator-doc-link {\n",
       "  float: right;\n",
       "  font-size: smaller;\n",
       "  line-height: 1em;\n",
       "  font-family: monospace;\n",
       "  background-color: var(--sklearn-color-background);\n",
       "  border-radius: 1em;\n",
       "  height: 1em;\n",
       "  width: 1em;\n",
       "  text-decoration: none !important;\n",
       "  margin-left: 1ex;\n",
       "  /* unfitted */\n",
       "  border: var(--sklearn-color-unfitted-level-1) 1pt solid;\n",
       "  color: var(--sklearn-color-unfitted-level-1);\n",
       "}\n",
       "\n",
       ".sk-estimator-doc-link.fitted,\n",
       "a:link.sk-estimator-doc-link.fitted,\n",
       "a:visited.sk-estimator-doc-link.fitted {\n",
       "  /* fitted */\n",
       "  border: var(--sklearn-color-fitted-level-1) 1pt solid;\n",
       "  color: var(--sklearn-color-fitted-level-1);\n",
       "}\n",
       "\n",
       "/* On hover */\n",
       "div.sk-estimator:hover .sk-estimator-doc-link:hover,\n",
       ".sk-estimator-doc-link:hover,\n",
       "div.sk-label-container:hover .sk-estimator-doc-link:hover,\n",
       ".sk-estimator-doc-link:hover {\n",
       "  /* unfitted */\n",
       "  background-color: var(--sklearn-color-unfitted-level-3);\n",
       "  color: var(--sklearn-color-background);\n",
       "  text-decoration: none;\n",
       "}\n",
       "\n",
       "div.sk-estimator.fitted:hover .sk-estimator-doc-link.fitted:hover,\n",
       ".sk-estimator-doc-link.fitted:hover,\n",
       "div.sk-label-container:hover .sk-estimator-doc-link.fitted:hover,\n",
       ".sk-estimator-doc-link.fitted:hover {\n",
       "  /* fitted */\n",
       "  background-color: var(--sklearn-color-fitted-level-3);\n",
       "  color: var(--sklearn-color-background);\n",
       "  text-decoration: none;\n",
       "}\n",
       "\n",
       "/* Span, style for the box shown on hovering the info icon */\n",
       ".sk-estimator-doc-link span {\n",
       "  display: none;\n",
       "  z-index: 9999;\n",
       "  position: relative;\n",
       "  font-weight: normal;\n",
       "  right: .2ex;\n",
       "  padding: .5ex;\n",
       "  margin: .5ex;\n",
       "  width: min-content;\n",
       "  min-width: 20ex;\n",
       "  max-width: 50ex;\n",
       "  color: var(--sklearn-color-text);\n",
       "  box-shadow: 2pt 2pt 4pt #999;\n",
       "  /* unfitted */\n",
       "  background: var(--sklearn-color-unfitted-level-0);\n",
       "  border: .5pt solid var(--sklearn-color-unfitted-level-3);\n",
       "}\n",
       "\n",
       ".sk-estimator-doc-link.fitted span {\n",
       "  /* fitted */\n",
       "  background: var(--sklearn-color-fitted-level-0);\n",
       "  border: var(--sklearn-color-fitted-level-3);\n",
       "}\n",
       "\n",
       ".sk-estimator-doc-link:hover span {\n",
       "  display: block;\n",
       "}\n",
       "\n",
       "/* \"?\"-specific style due to the `<a>` HTML tag */\n",
       "\n",
       "#sk-container-id-1 a.estimator_doc_link {\n",
       "  float: right;\n",
       "  font-size: 1rem;\n",
       "  line-height: 1em;\n",
       "  font-family: monospace;\n",
       "  background-color: var(--sklearn-color-background);\n",
       "  border-radius: 1rem;\n",
       "  height: 1rem;\n",
       "  width: 1rem;\n",
       "  text-decoration: none;\n",
       "  /* unfitted */\n",
       "  color: var(--sklearn-color-unfitted-level-1);\n",
       "  border: var(--sklearn-color-unfitted-level-1) 1pt solid;\n",
       "}\n",
       "\n",
       "#sk-container-id-1 a.estimator_doc_link.fitted {\n",
       "  /* fitted */\n",
       "  border: var(--sklearn-color-fitted-level-1) 1pt solid;\n",
       "  color: var(--sklearn-color-fitted-level-1);\n",
       "}\n",
       "\n",
       "/* On hover */\n",
       "#sk-container-id-1 a.estimator_doc_link:hover {\n",
       "  /* unfitted */\n",
       "  background-color: var(--sklearn-color-unfitted-level-3);\n",
       "  color: var(--sklearn-color-background);\n",
       "  text-decoration: none;\n",
       "}\n",
       "\n",
       "#sk-container-id-1 a.estimator_doc_link.fitted:hover {\n",
       "  /* fitted */\n",
       "  background-color: var(--sklearn-color-fitted-level-3);\n",
       "}\n",
       "</style><div id=\"sk-container-id-1\" class=\"sk-top-container\"><div class=\"sk-text-repr-fallback\"><pre>OneClassSVM(gamma=&#x27;auto&#x27;, nu=0.01)</pre><b>In a Jupyter environment, please rerun this cell to show the HTML representation or trust the notebook. <br />On GitHub, the HTML representation is unable to render, please try loading this page with nbviewer.org.</b></div><div class=\"sk-container\" hidden><div class=\"sk-item\"><div class=\"sk-estimator fitted sk-toggleable\"><input class=\"sk-toggleable__control sk-hidden--visually\" id=\"sk-estimator-id-1\" type=\"checkbox\" checked><label for=\"sk-estimator-id-1\" class=\"sk-toggleable__label fitted sk-toggleable__label-arrow fitted\">&nbsp;&nbsp;OneClassSVM<a class=\"sk-estimator-doc-link fitted\" rel=\"noreferrer\" target=\"_blank\" href=\"https://scikit-learn.org/1.5/modules/generated/sklearn.svm.OneClassSVM.html\">?<span>Documentation for OneClassSVM</span></a><span class=\"sk-estimator-doc-link fitted\">i<span>Fitted</span></span></label><div class=\"sk-toggleable__content fitted\"><pre>OneClassSVM(gamma=&#x27;auto&#x27;, nu=0.01)</pre></div> </div></div></div></div>"
      ],
      "text/plain": [
       "OneClassSVM(gamma='auto', nu=0.01)"
      ]
     },
     "execution_count": 7,
     "metadata": {},
     "output_type": "execute_result"
    }
   ],
   "source": [
    "ocsvm_model = OneClassSVM(kernel='rbf', gamma='auto', nu=0.01)  # nu is roughly the proportion of outliers\n",
    "\n",
    "normal_data_train = X_train[y_train == 0]\n",
    "ocsvm_model.fit(normal_data_train)"
   ]
  },
  {
   "cell_type": "code",
   "execution_count": 8,
   "id": "40f65f76",
   "metadata": {
    "colab": {
     "base_uri": "https://localhost:8080/"
    },
    "executionInfo": {
     "elapsed": 318,
     "status": "ok",
     "timestamp": 1732823671631,
     "user": {
      "displayName": "Narmin Aliyeva",
      "userId": "05305446266640033678"
     },
     "user_tz": -240
    },
    "id": "40f65f76",
    "outputId": "53be8c30-046f-4465-db2a-ac74c9709920"
   },
   "outputs": [
    {
     "name": "stdout",
     "output_type": "stream",
     "text": [
      "Accuracy: 0.9715\n",
      "Confusion Matrix:\n",
      "[[1864   19]\n",
      " [  38   79]]\n",
      "Precision: 0.8061224489795918\n",
      "Recall: 0.6752136752136753\n",
      "F1 Score: 0.7348837209302326\n",
      "Classification Report:\n",
      "              precision    recall  f1-score   support\n",
      "\n",
      "         0.0       0.98      0.99      0.98      1883\n",
      "         1.0       0.81      0.68      0.73       117\n",
      "\n",
      "    accuracy                           0.97      2000\n",
      "   macro avg       0.89      0.83      0.86      2000\n",
      "weighted avg       0.97      0.97      0.97      2000\n",
      "\n"
     ]
    }
   ],
   "source": [
    "ocsvm_predictions = ocsvm_model.predict(X_test)\n",
    "ocsvm_binary_predictions = [0 if pred == 1 else 1 for pred in ocsvm_predictions]\n",
    "\n",
    "ocsvm_true_labels = y_test\n",
    "ocsvm_predicted_labels = ocsvm_binary_predictions\n",
    "accuracy = accuracy_score(ocsvm_true_labels, ocsvm_predicted_labels)\n",
    "confusion = confusion_matrix(ocsvm_true_labels, ocsvm_predicted_labels)\n",
    "precision = precision_score(ocsvm_true_labels, ocsvm_predicted_labels)\n",
    "recall = recall_score(ocsvm_true_labels, ocsvm_predicted_labels)\n",
    "f1 = f1_score(ocsvm_true_labels, ocsvm_predicted_labels)\n",
    "\n",
    "print(\"Accuracy:\", accuracy)\n",
    "print(\"Confusion Matrix:\")\n",
    "print(confusion)\n",
    "print(\"Precision:\", precision)\n",
    "print(\"Recall:\", recall)\n",
    "print(\"F1 Score:\", f1)\n",
    "print(\"Classification Report:\")\n",
    "print(classification_report(ocsvm_true_labels, ocsvm_predicted_labels))"
   ]
  },
  {
   "cell_type": "code",
   "execution_count": 9,
   "id": "49d4ac8d",
   "metadata": {
    "colab": {
     "base_uri": "https://localhost:8080/",
     "height": 333
    },
    "executionInfo": {
     "elapsed": 459,
     "status": "ok",
     "timestamp": 1732823701932,
     "user": {
      "displayName": "Narmin Aliyeva",
      "userId": "05305446266640033678"
     },
     "user_tz": -240
    },
    "id": "49d4ac8d",
    "outputId": "9b8092de-37b1-41a1-b552-9c748dba685a"
   },
   "outputs": [
    {
     "data": {
      "image/png": "[encoded data removed]",
      "text/plain": [
       "<Figure size 400x300 with 1 Axes>"
      ]
     },
     "metadata": {},
     "output_type": "display_data"
    }
   ],
   "source": [
    "import matplotlib.pyplot as plt\n",
    "from sklearn.metrics import roc_curve, auc\n",
    "\n",
    "decision_scores = ocsvm_model.decision_function(X_test)\n",
    "fpr, tpr, thresholds = roc_curve(ocsvm_true_labels, -decision_scores)\n",
    "roc_auc = auc(fpr, tpr)\n",
    "\n",
    "# Plot the ROC Curve\n",
    "plt.figure(figsize=(4, 3))\n",
    "plt.plot(fpr, tpr, color='blue', lw=2, label=f\"ROC Curve (AUC = {roc_auc:.4f})\")\n",
    "plt.plot([0, 1], [0, 1], color='gray', linestyle='--', lw=1)  # Diagonal line\n",
    "plt.xlim([0.0, 1.0])\n",
    "plt.ylim([0.0, 1.05])\n",
    "plt.xlabel('False Positive Rate (FPR)')\n",
    "plt.ylabel('True Positive Rate (TPR)')\n",
    "plt.title('ROC Curve for OCSVM')\n",
    "plt.legend(loc=\"lower right\")\n",
    "plt.grid()\n",
    "plt.show()"
   ]
  },
  {
   "cell_type": "code",
   "execution_count": null,
   "id": "9c4bc939",
   "metadata": {
    "id": "9c4bc939",
    "outputId": "f667d3b5-6d56-4689-d74a-4ab7896e0eac"
   },
   "outputs": [
    {
     "data": {
      "text/plain": [
       "['C:\\\\Users\\\\Asus\\\\Downloads\\\\Thesis\\\\models\\\\model\\\\ocsvm\\\\basic_ocsvm.joblib']"
      ]
     },
     "execution_count": 63,
     "metadata": {},
     "output_type": "execute_result"
    }
   ],
   "source": [
    "from joblib import dump\n",
    "dump(ocsvm_model, r'C:\\Users\\Asus\\Downloads\\Thesis\\models\\model\\ocsvm\\basic_ocsvm.joblib')"
   ]
  },
  {
   "cell_type": "markdown",
   "id": "83270143",
   "metadata": {
    "id": "83270143"
   },
   "source": [
    "### Baseline with SMOTE"
   ]
  },
  {
   "cell_type": "code",
   "execution_count": 34,
   "id": "81b60569",
   "metadata": {
    "colab": {
     "base_uri": "https://localhost:8080/"
    },
    "executionInfo": {
     "elapsed": 393,
     "status": "ok",
     "timestamp": 1732825386955,
     "user": {
      "displayName": "Narmin Aliyeva",
      "userId": "05305446266640033678"
     },
     "user_tz": -240
    },
    "id": "81b60569",
    "outputId": "19477c7a-72f4-49ff-e4fc-1c538c208926"
   },
   "outputs": [
    {
     "name": "stdout",
     "output_type": "stream",
     "text": [
      "anomaly\n",
      "0.0    75329\n",
      "1.0    75329\n",
      "Name: count, dtype: int64\n"
     ]
    }
   ],
   "source": [
    "# Create a SMOTE object\n",
    "smote = SMOTE(random_state=42)\n",
    "\n",
    "# Resample the training set\n",
    "X_train_smote, y_train_smote = smote.fit_resample(X_train, y_train)\n",
    "\n",
    "# Checking the balance\n",
    "print(y_train_smote.value_counts())"
   ]
  },
  {
   "cell_type": "code",
   "execution_count": null,
   "id": "4e299056",
   "metadata": {
    "id": "4e299056",
    "outputId": "becd32ef-f2aa-467e-fc03-ee9bc737e09a"
   },
   "outputs": [
    {
     "data": {
      "text/html": [
       "<style>#sk-container-id-6 {color: black;background-color: white;}#sk-container-id-6 pre{padding: 0;}#sk-container-id-6 div.sk-toggleable {background-color: white;}#sk-container-id-6 label.sk-toggleable__label {cursor: pointer;display: block;width: 100%;margin-bottom: 0;padding: 0.3em;box-sizing: border-box;text-align: center;}#sk-container-id-6 label.sk-toggleable__label-arrow:before {content: \"▸\";float: left;margin-right: 0.25em;color: #696969;}#sk-container-id-6 label.sk-toggleable__label-arrow:hover:before {color: black;}#sk-container-id-6 div.sk-estimator:hover label.sk-toggleable__label-arrow:before {color: black;}#sk-container-id-6 div.sk-toggleable__content {max-height: 0;max-width: 0;overflow: hidden;text-align: left;background-color: #f0f8ff;}#sk-container-id-6 div.sk-toggleable__content pre {margin: 0.2em;color: black;border-radius: 0.25em;background-color: #f0f8ff;}#sk-container-id-6 input.sk-toggleable__control:checked~div.sk-toggleable__content {max-height: 200px;max-width: 100%;overflow: auto;}#sk-container-id-6 input.sk-toggleable__control:checked~label.sk-toggleable__label-arrow:before {content: \"▾\";}#sk-container-id-6 div.sk-estimator input.sk-toggleable__control:checked~label.sk-toggleable__label {background-color: #d4ebff;}#sk-container-id-6 div.sk-label input.sk-toggleable__control:checked~label.sk-toggleable__label {background-color: #d4ebff;}#sk-container-id-6 input.sk-hidden--visually {border: 0;clip: rect(1px 1px 1px 1px);clip: rect(1px, 1px, 1px, 1px);height: 1px;margin: -1px;overflow: hidden;padding: 0;position: absolute;width: 1px;}#sk-container-id-6 div.sk-estimator {font-family: monospace;background-color: #f0f8ff;border: 1px dotted black;border-radius: 0.25em;box-sizing: border-box;margin-bottom: 0.5em;}#sk-container-id-6 div.sk-estimator:hover {background-color: #d4ebff;}#sk-container-id-6 div.sk-parallel-item::after {content: \"\";width: 100%;border-bottom: 1px solid gray;flex-grow: 1;}#sk-container-id-6 div.sk-label:hover label.sk-toggleable__label {background-color: #d4ebff;}#sk-container-id-6 div.sk-serial::before {content: \"\";position: absolute;border-left: 1px solid gray;box-sizing: border-box;top: 0;bottom: 0;left: 50%;z-index: 0;}#sk-container-id-6 div.sk-serial {display: flex;flex-direction: column;align-items: center;background-color: white;padding-right: 0.2em;padding-left: 0.2em;position: relative;}#sk-container-id-6 div.sk-item {position: relative;z-index: 1;}#sk-container-id-6 div.sk-parallel {display: flex;align-items: stretch;justify-content: center;background-color: white;position: relative;}#sk-container-id-6 div.sk-item::before, #sk-container-id-6 div.sk-parallel-item::before {content: \"\";position: absolute;border-left: 1px solid gray;box-sizing: border-box;top: 0;bottom: 0;left: 50%;z-index: -1;}#sk-container-id-6 div.sk-parallel-item {display: flex;flex-direction: column;z-index: 1;position: relative;background-color: white;}#sk-container-id-6 div.sk-parallel-item:first-child::after {align-self: flex-end;width: 50%;}#sk-container-id-6 div.sk-parallel-item:last-child::after {align-self: flex-start;width: 50%;}#sk-container-id-6 div.sk-parallel-item:only-child::after {width: 0;}#sk-container-id-6 div.sk-dashed-wrapped {border: 1px dashed gray;margin: 0 0.4em 0.5em 0.4em;box-sizing: border-box;padding-bottom: 0.4em;background-color: white;}#sk-container-id-6 div.sk-label label {font-family: monospace;font-weight: bold;display: inline-block;line-height: 1.2em;}#sk-container-id-6 div.sk-label-container {text-align: center;}#sk-container-id-6 div.sk-container {/* jupyter's `normalize.less` sets `[hidden] { display: none; }` but bootstrap.min.css set `[hidden] { display: none !important; }` so we also need the `!important` here to be able to override the default hidden behavior on the sphinx rendered scikit-learn.org. See: https://github.com/scikit-learn/scikit-learn/issues/21755 */display: inline-block !important;position: relative;}#sk-container-id-6 div.sk-text-repr-fallback {display: none;}</style><div id=\"sk-container-id-6\" class=\"sk-top-container\"><div class=\"sk-text-repr-fallback\"><pre>OneClassSVM(gamma=&#x27;auto&#x27;, nu=0.01)</pre><b>In a Jupyter environment, please rerun this cell to show the HTML representation or trust the notebook. <br />On GitHub, the HTML representation is unable to render, please try loading this page with nbviewer.org.</b></div><div class=\"sk-container\" hidden><div class=\"sk-item\"><div class=\"sk-estimator sk-toggleable\"><input class=\"sk-toggleable__control sk-hidden--visually\" id=\"sk-estimator-id-6\" type=\"checkbox\" checked><label for=\"sk-estimator-id-6\" class=\"sk-toggleable__label sk-toggleable__label-arrow\">OneClassSVM</label><div class=\"sk-toggleable__content\"><pre>OneClassSVM(gamma=&#x27;auto&#x27;, nu=0.01)</pre></div></div></div></div></div>"
      ],
      "text/plain": [
       "OneClassSVM(gamma='auto', nu=0.01)"
      ]
     },
     "execution_count": 46,
     "metadata": {},
     "output_type": "execute_result"
    }
   ],
   "source": [
    "ocsvm_model = OneClassSVM(kernel='rbf', gamma='auto', nu=0.01)  # nu is roughly the proportion of outliers\n",
    "\n",
    "normal_data_train = X_train_smote[y_train_smote == 0]\n",
    "ocsvm_model.fit(normal_data_train)"
   ]
  },
  {
   "cell_type": "code",
   "execution_count": null,
   "id": "c0dea3ed",
   "metadata": {
    "id": "c0dea3ed",
    "outputId": "8ebcd6ec-e233-4594-9c73-94f4f2ea38d9"
   },
   "outputs": [
    {
     "name": "stdout",
     "output_type": "stream",
     "text": [
      "Accuracy: 0.9691\n",
      "Confusion Matrix:\n",
      "[[18685   178]\n",
      " [  440   697]]\n",
      "Precision: 0.7965714285714286\n",
      "Recall: 0.6130167106420404\n",
      "F1 Score: 0.6928429423459245\n",
      "Classification Report:\n",
      "              precision    recall  f1-score   support\n",
      "\n",
      "         0.0       0.98      0.99      0.98     18863\n",
      "         1.0       0.80      0.61      0.69      1137\n",
      "\n",
      "    accuracy                           0.97     20000\n",
      "   macro avg       0.89      0.80      0.84     20000\n",
      "weighted avg       0.97      0.97      0.97     20000\n",
      "\n"
     ]
    }
   ],
   "source": [
    "ocsvm_predictions = ocsvm_model.predict(X_test)\n",
    "ocsvm_binary_predictions = [0 if pred == 1 else 1 for pred in ocsvm_predictions]\n",
    "\n",
    "ocsvm_true_labels = y_test\n",
    "ocsvm_predicted_labels = ocsvm_binary_predictions\n",
    "accuracy = accuracy_score(ocsvm_true_labels, ocsvm_predicted_labels)\n",
    "confusion = confusion_matrix(ocsvm_true_labels, ocsvm_predicted_labels)\n",
    "precision = precision_score(ocsvm_true_labels, ocsvm_predicted_labels)\n",
    "recall = recall_score(ocsvm_true_labels, ocsvm_predicted_labels)\n",
    "f1 = f1_score(ocsvm_true_labels, ocsvm_predicted_labels)\n",
    "\n",
    "print(\"Accuracy:\", accuracy)\n",
    "print(\"Confusion Matrix:\")\n",
    "print(confusion)\n",
    "print(\"Precision:\", precision)\n",
    "print(\"Recall:\", recall)\n",
    "print(\"F1 Score:\", f1)\n",
    "print(\"Classification Report:\")\n",
    "print(classification_report(ocsvm_true_labels, ocsvm_predicted_labels))"
   ]
  },
  {
   "cell_type": "code",
   "execution_count": null,
   "id": "c3e7e54d",
   "metadata": {
    "id": "c3e7e54d",
    "outputId": "64428e48-1fec-4efb-ac7b-c4a68d31812f"
   },
   "outputs": [
    {
     "data": {
      "image/png": "[encoded data removed]",
      "text/plain": [
       "<Figure size 400x300 with 1 Axes>"
      ]
     },
     "metadata": {},
     "output_type": "display_data"
    }
   ],
   "source": [
    "import matplotlib.pyplot as plt\n",
    "from sklearn.metrics import roc_curve, auc\n",
    "\n",
    "decision_scores = ocsvm_model.decision_function(X_test)\n",
    "fpr, tpr, thresholds = roc_curve(ocsvm_true_labels, -decision_scores)\n",
    "roc_auc = auc(fpr, tpr)\n",
    "\n",
    "# Plot the ROC Curve\n",
    "plt.figure(figsize=(4, 3))\n",
    "plt.plot(fpr, tpr, color='blue', lw=2, label=f\"ROC Curve (AUC = {roc_auc:.4f})\")\n",
    "plt.plot([0, 1], [0, 1], color='gray', linestyle='--', lw=1)  # Diagonal line\n",
    "plt.xlim([0.0, 1.0])\n",
    "plt.ylim([0.0, 1.05])\n",
    "plt.xlabel('False Positive Rate (FPR)')\n",
    "plt.ylabel('True Positive Rate (TPR)')\n",
    "plt.title('ROC Curve for OCSVM with SMOTE')\n",
    "plt.legend(loc=\"lower right\")\n",
    "plt.grid()\n",
    "plt.show()"
   ]
  },
  {
   "cell_type": "markdown",
   "id": "ee877f5a",
   "metadata": {
    "id": "ee877f5a"
   },
   "source": [
    "## Optimization\n",
    "**Grid Search** (kernel='rbf', gamma='scale', nu=0.1)  \n",
    "**Random Search** (kernel='poly', gamma='scale', nu=0.42390845139540895)  \n",
    "**Bayesian** (kernel='poly', gamma='scale', nu=0.44692718648402907)  \n",
    "**PSO** (gamma_optimal = 0.12157344 nu_optimal = 0.08416075 kernel_type = 'rbf')  \n",
    "**Hyperband** (gamma=0.0563750769961434, kernel='sigmoid', nu=0.010035039446789056)"
   ]
  },
  {
   "cell_type": "markdown",
   "id": "b055d58c",
   "metadata": {
    "id": "b055d58c"
   },
   "source": [
    "### Grid search"
   ]
  },
  {
   "cell_type": "code",
   "execution_count": null,
   "id": "b07bd570",
   "metadata": {},
   "outputs": [],
   "source": [
    "from sklearn.model_selection import GridSearchCV"
   ]
  },
  {
   "cell_type": "code",
   "execution_count": null,
   "id": "15cd3f88",
   "metadata": {},
   "outputs": [],
   "source": [
    "param_grid = {\n",
    "    'nu': [0.1, 0.5, 0.7],\n",
    "    'kernel': ['rbf', 'linear', 'poly'],\n",
    "    'gamma': ['scale', 'auto', 0.1, 0.5]\n",
    "}\n",
    "\n",
    "# Custom scoring function\n",
    "def custom_f1(y_true, y_pred):\n",
    "    return f1_score(y_true, y_pred, average='binary')\n",
    "\n",
    "scorer = make_scorer(custom_f1, greater_is_better=True)"
   ]
  },
  {
   "cell_type": "code",
   "execution_count": null,
   "id": "5bb2c29e",
   "metadata": {},
   "outputs": [],
   "source": [
    "# Initialize OCSVM\n",
    "ocsvm = OneClassSVM()\n",
    "\n",
    "# Perform Grid Search\n",
    "grid_search = GridSearchCV(estimator=ocsvm, param_grid=param_grid, scoring=scorer, cv=3, verbose=2)\n",
    "grid_search.fit(X_train, y_train)\n",
    "\n",
    "# Best Parameters\n",
    "print(\"Best Parameters:\", grid_search.best_params_)\n",
    "\n",
    "# Train the optimized model\n",
    "best_ocsvm = grid_search.best_estimator_"
   ]
  },
  {
   "cell_type": "code",
   "execution_count": null,
   "id": "00605baa",
   "metadata": {
    "id": "00605baa",
    "outputId": "344d4996-1d71-4b64-e042-2b57442df4f2"
   },
   "outputs": [
    {
     "data": {
      "text/html": [
       "<style>#sk-container-id-8 {color: black;background-color: white;}#sk-container-id-8 pre{padding: 0;}#sk-container-id-8 div.sk-toggleable {background-color: white;}#sk-container-id-8 label.sk-toggleable__label {cursor: pointer;display: block;width: 100%;margin-bottom: 0;padding: 0.3em;box-sizing: border-box;text-align: center;}#sk-container-id-8 label.sk-toggleable__label-arrow:before {content: \"▸\";float: left;margin-right: 0.25em;color: #696969;}#sk-container-id-8 label.sk-toggleable__label-arrow:hover:before {color: black;}#sk-container-id-8 div.sk-estimator:hover label.sk-toggleable__label-arrow:before {color: black;}#sk-container-id-8 div.sk-toggleable__content {max-height: 0;max-width: 0;overflow: hidden;text-align: left;background-color: #f0f8ff;}#sk-container-id-8 div.sk-toggleable__content pre {margin: 0.2em;color: black;border-radius: 0.25em;background-color: #f0f8ff;}#sk-container-id-8 input.sk-toggleable__control:checked~div.sk-toggleable__content {max-height: 200px;max-width: 100%;overflow: auto;}#sk-container-id-8 input.sk-toggleable__control:checked~label.sk-toggleable__label-arrow:before {content: \"▾\";}#sk-container-id-8 div.sk-estimator input.sk-toggleable__control:checked~label.sk-toggleable__label {background-color: #d4ebff;}#sk-container-id-8 div.sk-label input.sk-toggleable__control:checked~label.sk-toggleable__label {background-color: #d4ebff;}#sk-container-id-8 input.sk-hidden--visually {border: 0;clip: rect(1px 1px 1px 1px);clip: rect(1px, 1px, 1px, 1px);height: 1px;margin: -1px;overflow: hidden;padding: 0;position: absolute;width: 1px;}#sk-container-id-8 div.sk-estimator {font-family: monospace;background-color: #f0f8ff;border: 1px dotted black;border-radius: 0.25em;box-sizing: border-box;margin-bottom: 0.5em;}#sk-container-id-8 div.sk-estimator:hover {background-color: #d4ebff;}#sk-container-id-8 div.sk-parallel-item::after {content: \"\";width: 100%;border-bottom: 1px solid gray;flex-grow: 1;}#sk-container-id-8 div.sk-label:hover label.sk-toggleable__label {background-color: #d4ebff;}#sk-container-id-8 div.sk-serial::before {content: \"\";position: absolute;border-left: 1px solid gray;box-sizing: border-box;top: 0;bottom: 0;left: 50%;z-index: 0;}#sk-container-id-8 div.sk-serial {display: flex;flex-direction: column;align-items: center;background-color: white;padding-right: 0.2em;padding-left: 0.2em;position: relative;}#sk-container-id-8 div.sk-item {position: relative;z-index: 1;}#sk-container-id-8 div.sk-parallel {display: flex;align-items: stretch;justify-content: center;background-color: white;position: relative;}#sk-container-id-8 div.sk-item::before, #sk-container-id-8 div.sk-parallel-item::before {content: \"\";position: absolute;border-left: 1px solid gray;box-sizing: border-box;top: 0;bottom: 0;left: 50%;z-index: -1;}#sk-container-id-8 div.sk-parallel-item {display: flex;flex-direction: column;z-index: 1;position: relative;background-color: white;}#sk-container-id-8 div.sk-parallel-item:first-child::after {align-self: flex-end;width: 50%;}#sk-container-id-8 div.sk-parallel-item:last-child::after {align-self: flex-start;width: 50%;}#sk-container-id-8 div.sk-parallel-item:only-child::after {width: 0;}#sk-container-id-8 div.sk-dashed-wrapped {border: 1px dashed gray;margin: 0 0.4em 0.5em 0.4em;box-sizing: border-box;padding-bottom: 0.4em;background-color: white;}#sk-container-id-8 div.sk-label label {font-family: monospace;font-weight: bold;display: inline-block;line-height: 1.2em;}#sk-container-id-8 div.sk-label-container {text-align: center;}#sk-container-id-8 div.sk-container {/* jupyter's `normalize.less` sets `[hidden] { display: none; }` but bootstrap.min.css set `[hidden] { display: none !important; }` so we also need the `!important` here to be able to override the default hidden behavior on the sphinx rendered scikit-learn.org. See: https://github.com/scikit-learn/scikit-learn/issues/21755 */display: inline-block !important;position: relative;}#sk-container-id-8 div.sk-text-repr-fallback {display: none;}</style><div id=\"sk-container-id-8\" class=\"sk-top-container\"><div class=\"sk-text-repr-fallback\"><pre>OneClassSVM(nu=0.1)</pre><b>In a Jupyter environment, please rerun this cell to show the HTML representation or trust the notebook. <br />On GitHub, the HTML representation is unable to render, please try loading this page with nbviewer.org.</b></div><div class=\"sk-container\" hidden><div class=\"sk-item\"><div class=\"sk-estimator sk-toggleable\"><input class=\"sk-toggleable__control sk-hidden--visually\" id=\"sk-estimator-id-8\" type=\"checkbox\" checked><label for=\"sk-estimator-id-8\" class=\"sk-toggleable__label sk-toggleable__label-arrow\">OneClassSVM</label><div class=\"sk-toggleable__content\"><pre>OneClassSVM(nu=0.1)</pre></div></div></div></div></div>"
      ],
      "text/plain": [
       "OneClassSVM(nu=0.1)"
      ]
     },
     "execution_count": 51,
     "metadata": {},
     "output_type": "execute_result"
    }
   ],
   "source": [
    "gs_ocsvm = OneClassSVM(kernel='rbf', gamma='scale', nu=0.1)\n",
    "\n",
    "normal_data_train = X_train[y_train == 0]\n",
    "gs_ocsvm.fit(normal_data_train)"
   ]
  },
  {
   "cell_type": "code",
   "execution_count": null,
   "id": "7fbcfb33",
   "metadata": {
    "id": "7fbcfb33",
    "outputId": "77662c33-c989-4879-8907-f710a791adc9"
   },
   "outputs": [
    {
     "name": "stdout",
     "output_type": "stream",
     "text": [
      "Accuracy: 0.8892\n",
      "Confusion Matrix:\n",
      "[[16978  1885]\n",
      " [  331   806]]\n",
      "Precision: 0.2995169082125604\n",
      "Recall: 0.7088830255057168\n",
      "F1 Score: 0.4211076280041797\n"
     ]
    }
   ],
   "source": [
    "ocsvm_predictions = gs_ocsvm.predict(X_test)\n",
    "ocsvm_binary_predictions = [0 if pred == 1 else 1 for pred in ocsvm_predictions]\n",
    "\n",
    "ocsvm_true_labels = y_test\n",
    "ocsvm_predicted_labels = ocsvm_binary_predictions\n",
    "accuracy = accuracy_score(ocsvm_true_labels, ocsvm_predicted_labels)\n",
    "confusion = confusion_matrix(ocsvm_true_labels, ocsvm_predicted_labels)\n",
    "precision = precision_score(ocsvm_true_labels, ocsvm_predicted_labels)\n",
    "recall = recall_score(ocsvm_true_labels, ocsvm_predicted_labels)\n",
    "f1 = f1_score(ocsvm_true_labels, ocsvm_predicted_labels)\n",
    "\n",
    "print(\"Accuracy:\", accuracy)\n",
    "print(\"Confusion Matrix:\")\n",
    "print(confusion)\n",
    "print(\"Precision:\", precision)\n",
    "print(\"Recall:\", recall)\n",
    "print(\"F1 Score:\", f1)"
   ]
  },
  {
   "cell_type": "code",
   "execution_count": null,
   "id": "1bc7fa5b",
   "metadata": {
    "id": "1bc7fa5b",
    "outputId": "199b9d3f-3765-4376-e3bf-1efcad48474b"
   },
   "outputs": [
    {
     "data": {
      "image/png": "[encoded data removed]",
      "text/plain": [
       "<Figure size 400x300 with 1 Axes>"
      ]
     },
     "metadata": {},
     "output_type": "display_data"
    }
   ],
   "source": [
    "import matplotlib.pyplot as plt\n",
    "from sklearn.metrics import roc_curve, auc\n",
    "\n",
    "decision_scores = gs_ocsvm.decision_function(X_test)\n",
    "fpr, tpr, thresholds = roc_curve(ocsvm_true_labels, -decision_scores)\n",
    "roc_auc = auc(fpr, tpr)\n",
    "\n",
    "# Plot the ROC Curve\n",
    "plt.figure(figsize=(4, 3))\n",
    "plt.plot(fpr, tpr, color='blue', lw=2, label=f\"ROC Curve (AUC = {roc_auc:.4f})\")\n",
    "plt.plot([0, 1], [0, 1], color='gray', linestyle='--', lw=1)  # Diagonal line\n",
    "plt.xlim([0.0, 1.0])\n",
    "plt.ylim([0.0, 1.05])\n",
    "plt.xlabel('False Positive Rate (FPR)')\n",
    "plt.ylabel('True Positive Rate (TPR)')\n",
    "plt.title('ROC Curve for Grid Search')\n",
    "plt.legend(loc=\"lower right\")\n",
    "plt.grid()\n",
    "plt.show()"
   ]
  },
  {
   "cell_type": "code",
   "execution_count": null,
   "id": "ce9ca7d6",
   "metadata": {
    "id": "ce9ca7d6",
    "outputId": "b6ae4c10-1847-48b8-b006-91655e83451d"
   },
   "outputs": [
    {
     "data": {
      "text/plain": [
       "['C:\\\\Users\\\\Asus\\\\Downloads\\\\Thesis\\\\models\\\\model\\\\gs_ocsvm.joblib']"
      ]
     },
     "execution_count": 62,
     "metadata": {},
     "output_type": "execute_result"
    }
   ],
   "source": [
    "dump(gs_ocsvm, r'C:\\Users\\Asus\\Downloads\\Thesis\\models\\model\\gs_ocsvm.joblib')"
   ]
  },
  {
   "cell_type": "markdown",
   "id": "2922afce",
   "metadata": {
    "id": "2922afce"
   },
   "source": [
    "### Random Search"
   ]
  },
  {
   "cell_type": "code",
   "execution_count": null,
   "id": "e00b74e3",
   "metadata": {},
   "outputs": [],
   "source": [
    "param_distributions = {\n",
    "    'nu': uniform(0.01, 0.7),  # Assuming a continuous distribution from 0.01 to 0.7\n",
    "    'kernel': ['rbf', 'linear', 'poly'],\n",
    "    'gamma': ['scale', 'auto', 0.1, 0.5]  # You could use a distribution for gamma if needed\n",
    "}\n",
    "\n",
    "# Custom scoring function\n",
    "def custom_f1(y_true, y_pred):\n",
    "    # Since One-Class SVM outputs -1 and 1, convert them as per your anomaly setup\n",
    "    y_pred = (y_pred == -1).astype(int)\n",
    "    return f1_score(y_true, y_pred, average='binary')\n",
    "\n",
    "scorer = make_scorer(custom_f1, greater_is_better=True)\n",
    "\n",
    "# Initialize OCSVM\n",
    "ocsvm = OneClassSVM()\n",
    "\n",
    "# Perform Randomized Search\n",
    "random_search = RandomizedSearchCV(estimator=ocsvm, param_distributions=param_distributions, n_iter=50, scoring=scorer, cv=3, verbose=2, random_state=42)\n",
    "random_search.fit(X_train, y_train)  # Ensure y_train is appropriately formatted for your anomaly detection setup\n",
    "\n",
    "# Best Parameters\n",
    "print(\"Best Parameters:\", random_search.best_params_)\n",
    "\n",
    "# Train the optimized model\n",
    "best_ocsvm = random_search.best_estimator_"
   ]
  },
  {
   "cell_type": "code",
   "execution_count": null,
   "id": "97e3a8b5",
   "metadata": {
    "id": "97e3a8b5",
    "outputId": "660d2b53-6c7c-4a4a-fffe-9e38f00b24c3"
   },
   "outputs": [
    {
     "data": {
      "text/html": [
       "<style>#sk-container-id-9 {color: black;background-color: white;}#sk-container-id-9 pre{padding: 0;}#sk-container-id-9 div.sk-toggleable {background-color: white;}#sk-container-id-9 label.sk-toggleable__label {cursor: pointer;display: block;width: 100%;margin-bottom: 0;padding: 0.3em;box-sizing: border-box;text-align: center;}#sk-container-id-9 label.sk-toggleable__label-arrow:before {content: \"▸\";float: left;margin-right: 0.25em;color: #696969;}#sk-container-id-9 label.sk-toggleable__label-arrow:hover:before {color: black;}#sk-container-id-9 div.sk-estimator:hover label.sk-toggleable__label-arrow:before {color: black;}#sk-container-id-9 div.sk-toggleable__content {max-height: 0;max-width: 0;overflow: hidden;text-align: left;background-color: #f0f8ff;}#sk-container-id-9 div.sk-toggleable__content pre {margin: 0.2em;color: black;border-radius: 0.25em;background-color: #f0f8ff;}#sk-container-id-9 input.sk-toggleable__control:checked~div.sk-toggleable__content {max-height: 200px;max-width: 100%;overflow: auto;}#sk-container-id-9 input.sk-toggleable__control:checked~label.sk-toggleable__label-arrow:before {content: \"▾\";}#sk-container-id-9 div.sk-estimator input.sk-toggleable__control:checked~label.sk-toggleable__label {background-color: #d4ebff;}#sk-container-id-9 div.sk-label input.sk-toggleable__control:checked~label.sk-toggleable__label {background-color: #d4ebff;}#sk-container-id-9 input.sk-hidden--visually {border: 0;clip: rect(1px 1px 1px 1px);clip: rect(1px, 1px, 1px, 1px);height: 1px;margin: -1px;overflow: hidden;padding: 0;position: absolute;width: 1px;}#sk-container-id-9 div.sk-estimator {font-family: monospace;background-color: #f0f8ff;border: 1px dotted black;border-radius: 0.25em;box-sizing: border-box;margin-bottom: 0.5em;}#sk-container-id-9 div.sk-estimator:hover {background-color: #d4ebff;}#sk-container-id-9 div.sk-parallel-item::after {content: \"\";width: 100%;border-bottom: 1px solid gray;flex-grow: 1;}#sk-container-id-9 div.sk-label:hover label.sk-toggleable__label {background-color: #d4ebff;}#sk-container-id-9 div.sk-serial::before {content: \"\";position: absolute;border-left: 1px solid gray;box-sizing: border-box;top: 0;bottom: 0;left: 50%;z-index: 0;}#sk-container-id-9 div.sk-serial {display: flex;flex-direction: column;align-items: center;background-color: white;padding-right: 0.2em;padding-left: 0.2em;position: relative;}#sk-container-id-9 div.sk-item {position: relative;z-index: 1;}#sk-container-id-9 div.sk-parallel {display: flex;align-items: stretch;justify-content: center;background-color: white;position: relative;}#sk-container-id-9 div.sk-item::before, #sk-container-id-9 div.sk-parallel-item::before {content: \"\";position: absolute;border-left: 1px solid gray;box-sizing: border-box;top: 0;bottom: 0;left: 50%;z-index: -1;}#sk-container-id-9 div.sk-parallel-item {display: flex;flex-direction: column;z-index: 1;position: relative;background-color: white;}#sk-container-id-9 div.sk-parallel-item:first-child::after {align-self: flex-end;width: 50%;}#sk-container-id-9 div.sk-parallel-item:last-child::after {align-self: flex-start;width: 50%;}#sk-container-id-9 div.sk-parallel-item:only-child::after {width: 0;}#sk-container-id-9 div.sk-dashed-wrapped {border: 1px dashed gray;margin: 0 0.4em 0.5em 0.4em;box-sizing: border-box;padding-bottom: 0.4em;background-color: white;}#sk-container-id-9 div.sk-label label {font-family: monospace;font-weight: bold;display: inline-block;line-height: 1.2em;}#sk-container-id-9 div.sk-label-container {text-align: center;}#sk-container-id-9 div.sk-container {/* jupyter's `normalize.less` sets `[hidden] { display: none; }` but bootstrap.min.css set `[hidden] { display: none !important; }` so we also need the `!important` here to be able to override the default hidden behavior on the sphinx rendered scikit-learn.org. See: https://github.com/scikit-learn/scikit-learn/issues/21755 */display: inline-block !important;position: relative;}#sk-container-id-9 div.sk-text-repr-fallback {display: none;}</style><div id=\"sk-container-id-9\" class=\"sk-top-container\"><div class=\"sk-text-repr-fallback\"><pre>OneClassSVM(kernel=&#x27;poly&#x27;, nu=0.42390845139540895)</pre><b>In a Jupyter environment, please rerun this cell to show the HTML representation or trust the notebook. <br />On GitHub, the HTML representation is unable to render, please try loading this page with nbviewer.org.</b></div><div class=\"sk-container\" hidden><div class=\"sk-item\"><div class=\"sk-estimator sk-toggleable\"><input class=\"sk-toggleable__control sk-hidden--visually\" id=\"sk-estimator-id-9\" type=\"checkbox\" checked><label for=\"sk-estimator-id-9\" class=\"sk-toggleable__label sk-toggleable__label-arrow\">OneClassSVM</label><div class=\"sk-toggleable__content\"><pre>OneClassSVM(kernel=&#x27;poly&#x27;, nu=0.42390845139540895)</pre></div></div></div></div></div>"
      ],
      "text/plain": [
       "OneClassSVM(kernel='poly', nu=0.42390845139540895)"
      ]
     },
     "execution_count": 55,
     "metadata": {},
     "output_type": "execute_result"
    }
   ],
   "source": [
    "rs_ocsvm = OneClassSVM(kernel='poly', gamma='scale', nu=0.42390845139540895)\n",
    "\n",
    "normal_data_train = X_train[y_train == 0]\n",
    "rs_ocsvm.fit(normal_data_train)"
   ]
  },
  {
   "cell_type": "code",
   "execution_count": null,
   "id": "cb7068d7",
   "metadata": {
    "id": "cb7068d7",
    "outputId": "114989d6-e8ac-4a6f-c117-c384c48284e2"
   },
   "outputs": [
    {
     "name": "stdout",
     "output_type": "stream",
     "text": [
      "Accuracy: 0.5951\n",
      "Confusion Matrix:\n",
      "[[10948  7915]\n",
      " [  183   954]]\n",
      "Precision: 0.10756567820498365\n",
      "Recall: 0.8390501319261213\n",
      "F1 Score: 0.19068558864681193\n"
     ]
    }
   ],
   "source": [
    "ocsvm_predictions = rs_ocsvm.predict(X_test)\n",
    "ocsvm_binary_predictions = [0 if pred == 1 else 1 for pred in ocsvm_predictions]\n",
    "\n",
    "ocsvm_true_labels = y_test\n",
    "ocsvm_predicted_labels = ocsvm_binary_predictions\n",
    "accuracy = accuracy_score(ocsvm_true_labels, ocsvm_predicted_labels)\n",
    "confusion = confusion_matrix(ocsvm_true_labels, ocsvm_predicted_labels)\n",
    "precision = precision_score(ocsvm_true_labels, ocsvm_predicted_labels)\n",
    "recall = recall_score(ocsvm_true_labels, ocsvm_predicted_labels)\n",
    "f1 = f1_score(ocsvm_true_labels, ocsvm_predicted_labels)\n",
    "\n",
    "print(\"Accuracy:\", accuracy)\n",
    "print(\"Confusion Matrix:\")\n",
    "print(confusion)\n",
    "print(\"Precision:\", precision)\n",
    "print(\"Recall:\", recall)\n",
    "print(\"F1 Score:\", f1)"
   ]
  },
  {
   "cell_type": "code",
   "execution_count": null,
   "id": "0d9d1120",
   "metadata": {
    "id": "0d9d1120",
    "outputId": "5733fe55-ab84-4769-ee5b-e34b66464dd5"
   },
   "outputs": [
    {
     "data": {
      "image/png": "[encoded data removed]",
      "text/plain": [
       "<Figure size 400x300 with 1 Axes>"
      ]
     },
     "metadata": {},
     "output_type": "display_data"
    }
   ],
   "source": [
    "decision_scores = rs_ocsvm.decision_function(X_test)\n",
    "fpr, tpr, thresholds = roc_curve(ocsvm_true_labels, -decision_scores)\n",
    "roc_auc = auc(fpr, tpr)\n",
    "\n",
    "# Plot the ROC Curve\n",
    "plt.figure(figsize=(4, 3))\n",
    "plt.plot(fpr, tpr, color='blue', lw=2, label=f\"ROC Curve (AUC = {roc_auc:.4f})\")\n",
    "plt.plot([0, 1], [0, 1], color='gray', linestyle='--', lw=1)  # Diagonal line\n",
    "plt.xlim([0.0, 1.0])\n",
    "plt.ylim([0.0, 1.05])\n",
    "plt.xlabel('False Positive Rate (FPR)')\n",
    "plt.ylabel('True Positive Rate (TPR)')\n",
    "plt.title('ROC Curve for Grid Search')\n",
    "plt.legend(loc=\"lower right\")\n",
    "plt.grid()\n",
    "plt.show()"
   ]
  },
  {
   "cell_type": "code",
   "execution_count": null,
   "id": "4cf0232e",
   "metadata": {
    "id": "4cf0232e",
    "outputId": "8862f911-5290-4ba9-da07-875842452cf2"
   },
   "outputs": [
    {
     "data": {
      "text/plain": [
       "['C:\\\\Users\\\\Asus\\\\Downloads\\\\Thesis\\\\models\\\\model\\\\ocsvm\\\\rs_ocsvm.joblib']"
      ]
     },
     "execution_count": 61,
     "metadata": {},
     "output_type": "execute_result"
    }
   ],
   "source": [
    "dump(rs_ocsvm, r'C:\\Users\\Asus\\Downloads\\Thesis\\models\\model\\ocsvm\\rs_ocsvm.joblib')"
   ]
  },
  {
   "cell_type": "markdown",
   "id": "7ea59694",
   "metadata": {
    "id": "7ea59694"
   },
   "source": [
    "### Bayesian"
   ]
  },
  {
   "cell_type": "code",
   "execution_count": null,
   "id": "e4c66a0b",
   "metadata": {},
   "outputs": [],
   "source": [
    "from skopt import BayesSearchCV\n",
    "from skopt.space import Real, Categorical\n",
    "from sklearn.svm import OneClassSVM\n",
    "from sklearn.metrics import make_scorer, f1_score"
   ]
  },
  {
   "cell_type": "code",
   "execution_count": null,
   "id": "96a596bf",
   "metadata": {},
   "outputs": [],
   "source": [
    "# Define the search space\n",
    "search_spaces = {\n",
    "    'nu': Real(0.01, 0.7),  # Range for nu\n",
    "    'kernel': Categorical(['rbf', 'linear', 'poly']),  # Categorical variables for kernel\n",
    "    'gamma': Categorical(['scale', 'auto', 0.1, 0.5])  # Gamma settings\n",
    "}\n",
    "\n",
    "# Custom scoring function\n",
    "def custom_f1(y_true, y_pred):\n",
    "    # Adjust the prediction from {-1, 1} to {0, 1} for anomaly detection\n",
    "    y_pred = (y_pred == -1).astype(int)\n",
    "    return f1_score(y_true, y_pred, average='binary')\n",
    "\n",
    "scorer = make_scorer(custom_f1, greater_is_better=True)\n",
    "\n",
    "# Initialize the One-Class SVM\n",
    "ocsvm = OneClassSVM()\n",
    "\n",
    "# Set up Bayesian optimization\n",
    "bayes_search = BayesSearchCV(estimator=ocsvm, search_spaces=search_spaces, n_iter=50, scoring=scorer, cv=3, verbose=2, random_state=42)\n",
    "\n",
    "# Perform the search\n",
    "bayes_search.fit(df_train, target_train)\n",
    "\n",
    "# Best Parameters\n",
    "print(\"Best Parameters:\", bayes_search.best_params_)\n",
    "\n",
    "# Train the optimized model\n",
    "best_ocsvm = bayes_search.best_estimator_"
   ]
  },
  {
   "cell_type": "code",
   "execution_count": null,
   "id": "4ec1cca0",
   "metadata": {
    "id": "4ec1cca0",
    "outputId": "ecabe6ee-67a0-42fa-f6fb-0812356c42db"
   },
   "outputs": [
    {
     "data": {
      "text/html": [
       "<style>#sk-container-id-11 {color: black;background-color: white;}#sk-container-id-11 pre{padding: 0;}#sk-container-id-11 div.sk-toggleable {background-color: white;}#sk-container-id-11 label.sk-toggleable__label {cursor: pointer;display: block;width: 100%;margin-bottom: 0;padding: 0.3em;box-sizing: border-box;text-align: center;}#sk-container-id-11 label.sk-toggleable__label-arrow:before {content: \"▸\";float: left;margin-right: 0.25em;color: #696969;}#sk-container-id-11 label.sk-toggleable__label-arrow:hover:before {color: black;}#sk-container-id-11 div.sk-estimator:hover label.sk-toggleable__label-arrow:before {color: black;}#sk-container-id-11 div.sk-toggleable__content {max-height: 0;max-width: 0;overflow: hidden;text-align: left;background-color: #f0f8ff;}#sk-container-id-11 div.sk-toggleable__content pre {margin: 0.2em;color: black;border-radius: 0.25em;background-color: #f0f8ff;}#sk-container-id-11 input.sk-toggleable__control:checked~div.sk-toggleable__content {max-height: 200px;max-width: 100%;overflow: auto;}#sk-container-id-11 input.sk-toggleable__control:checked~label.sk-toggleable__label-arrow:before {content: \"▾\";}#sk-container-id-11 div.sk-estimator input.sk-toggleable__control:checked~label.sk-toggleable__label {background-color: #d4ebff;}#sk-container-id-11 div.sk-label input.sk-toggleable__control:checked~label.sk-toggleable__label {background-color: #d4ebff;}#sk-container-id-11 input.sk-hidden--visually {border: 0;clip: rect(1px 1px 1px 1px);clip: rect(1px, 1px, 1px, 1px);height: 1px;margin: -1px;overflow: hidden;padding: 0;position: absolute;width: 1px;}#sk-container-id-11 div.sk-estimator {font-family: monospace;background-color: #f0f8ff;border: 1px dotted black;border-radius: 0.25em;box-sizing: border-box;margin-bottom: 0.5em;}#sk-container-id-11 div.sk-estimator:hover {background-color: #d4ebff;}#sk-container-id-11 div.sk-parallel-item::after {content: \"\";width: 100%;border-bottom: 1px solid gray;flex-grow: 1;}#sk-container-id-11 div.sk-label:hover label.sk-toggleable__label {background-color: #d4ebff;}#sk-container-id-11 div.sk-serial::before {content: \"\";position: absolute;border-left: 1px solid gray;box-sizing: border-box;top: 0;bottom: 0;left: 50%;z-index: 0;}#sk-container-id-11 div.sk-serial {display: flex;flex-direction: column;align-items: center;background-color: white;padding-right: 0.2em;padding-left: 0.2em;position: relative;}#sk-container-id-11 div.sk-item {position: relative;z-index: 1;}#sk-container-id-11 div.sk-parallel {display: flex;align-items: stretch;justify-content: center;background-color: white;position: relative;}#sk-container-id-11 div.sk-item::before, #sk-container-id-11 div.sk-parallel-item::before {content: \"\";position: absolute;border-left: 1px solid gray;box-sizing: border-box;top: 0;bottom: 0;left: 50%;z-index: -1;}#sk-container-id-11 div.sk-parallel-item {display: flex;flex-direction: column;z-index: 1;position: relative;background-color: white;}#sk-container-id-11 div.sk-parallel-item:first-child::after {align-self: flex-end;width: 50%;}#sk-container-id-11 div.sk-parallel-item:last-child::after {align-self: flex-start;width: 50%;}#sk-container-id-11 div.sk-parallel-item:only-child::after {width: 0;}#sk-container-id-11 div.sk-dashed-wrapped {border: 1px dashed gray;margin: 0 0.4em 0.5em 0.4em;box-sizing: border-box;padding-bottom: 0.4em;background-color: white;}#sk-container-id-11 div.sk-label label {font-family: monospace;font-weight: bold;display: inline-block;line-height: 1.2em;}#sk-container-id-11 div.sk-label-container {text-align: center;}#sk-container-id-11 div.sk-container {/* jupyter's `normalize.less` sets `[hidden] { display: none; }` but bootstrap.min.css set `[hidden] { display: none !important; }` so we also need the `!important` here to be able to override the default hidden behavior on the sphinx rendered scikit-learn.org. See: https://github.com/scikit-learn/scikit-learn/issues/21755 */display: inline-block !important;position: relative;}#sk-container-id-11 div.sk-text-repr-fallback {display: none;}</style><div id=\"sk-container-id-11\" class=\"sk-top-container\"><div class=\"sk-text-repr-fallback\"><pre>OneClassSVM(kernel=&#x27;poly&#x27;, nu=0.44692718648402907)</pre><b>In a Jupyter environment, please rerun this cell to show the HTML representation or trust the notebook. <br />On GitHub, the HTML representation is unable to render, please try loading this page with nbviewer.org.</b></div><div class=\"sk-container\" hidden><div class=\"sk-item\"><div class=\"sk-estimator sk-toggleable\"><input class=\"sk-toggleable__control sk-hidden--visually\" id=\"sk-estimator-id-11\" type=\"checkbox\" checked><label for=\"sk-estimator-id-11\" class=\"sk-toggleable__label sk-toggleable__label-arrow\">OneClassSVM</label><div class=\"sk-toggleable__content\"><pre>OneClassSVM(kernel=&#x27;poly&#x27;, nu=0.44692718648402907)</pre></div></div></div></div></div>"
      ],
      "text/plain": [
       "OneClassSVM(kernel='poly', nu=0.44692718648402907)"
      ]
     },
     "execution_count": 67,
     "metadata": {},
     "output_type": "execute_result"
    }
   ],
   "source": [
    "bo_ocsvm = OneClassSVM(kernel='poly', gamma='scale', nu=0.44692718648402907)\n",
    "\n",
    "normal_data_train = X_train[y_train == 0]\n",
    "bo_ocsvm.fit(normal_data_train)"
   ]
  },
  {
   "cell_type": "code",
   "execution_count": 41,
   "id": "4eb4c2f1-f0e4-439e-858e-383a93b202f9",
   "metadata": {},
   "outputs": [],
   "source": [
    "# Function to predict using one model\n",
    "def predict_with_model(model, data):\n",
    "    return model.predict(data)  # -1 = anomaly, 1 = normal"
   ]
  },
  {
   "cell_type": "code",
   "execution_count": 43,
   "id": "833f3eef",
   "metadata": {},
   "outputs": [],
   "source": [
    "# Make predictions with all models in parallel\n",
    "start_predict_time = time.time()\n",
    "\n",
    "all_predictions = Parallel(n_jobs=-1)(\n",
    "    delayed(predict_with_model)(model, X_test) for model in models\n",
    ")\n",
    "\n",
    "# Aggregate predictions (e.g., majority voting)\n",
    "final_predictions = np.sign(np.sum(all_predictions, axis=0))\n",
    "\n",
    "# Convert predictions to binary labels: -1 -> anomaly (1), 1 -> normal (0)\n",
    "final_predictions = (final_predictions == -1).astype(int)\n",
    "\n",
    "end_predict_time = time.time()\n",
    "prediction_time = end_predict_time - start_predict_time"
   ]
  },
  {
   "cell_type": "code",
   "execution_count": null,
   "id": "f1f9b950",
   "metadata": {
    "id": "f1f9b950",
    "outputId": "6380700d-393a-4d81-af10-a088c51ca12b"
   },
   "outputs": [
    {
     "name": "stdout",
     "output_type": "stream",
     "text": [
      "Accuracy: 0.57565\n",
      "Confusion Matrix:\n",
      "[[10541  8322]\n",
      " [  165   972]]\n",
      "Precision: 0.10458360232408005\n",
      "Recall: 0.8548812664907651\n",
      "F1 Score: 0.18636755823986195\n"
     ]
    }
   ],
   "source": [
    "ocsvm_predictions = bo_ocsvm.predict(X_test)\n",
    "ocsvm_binary_predictions = [0 if pred == 1 else 1 for pred in ocsvm_predictions]\n",
    "\n",
    "ocsvm_true_labels = y_test\n",
    "ocsvm_predicted_labels = ocsvm_binary_predictions\n",
    "accuracy = accuracy_score(ocsvm_true_labels, ocsvm_predicted_labels)\n",
    "confusion = confusion_matrix(ocsvm_true_labels, ocsvm_predicted_labels)\n",
    "precision = precision_score(ocsvm_true_labels, ocsvm_predicted_labels)\n",
    "recall = recall_score(ocsvm_true_labels, ocsvm_predicted_labels)\n",
    "f1 = f1_score(ocsvm_true_labels, ocsvm_predicted_labels)\n",
    "\n",
    "print(\"Accuracy:\", accuracy)\n",
    "print(\"Confusion Matrix:\")\n",
    "print(confusion)\n",
    "print(\"Precision:\", precision)\n",
    "print(\"Recall:\", recall)\n",
    "print(\"F1 Score:\", f1)"
   ]
  },
  {
   "cell_type": "code",
   "execution_count": null,
   "id": "8d5297d1",
   "metadata": {
    "id": "8d5297d1",
    "outputId": "12a388c1-65f1-42ed-cb53-650a8f250241"
   },
   "outputs": [
    {
     "data": {
      "image/png": "[encoded data removed]",
      "text/plain": [
       "<Figure size 400x300 with 1 Axes>"
      ]
     },
     "metadata": {},
     "output_type": "display_data"
    }
   ],
   "source": [
    "decision_scores = bo_ocsvm.decision_function(X_test)\n",
    "fpr, tpr, thresholds = roc_curve(ocsvm_true_labels, -decision_scores)\n",
    "roc_auc = auc(fpr, tpr)\n",
    "\n",
    "# Plot the ROC Curve\n",
    "plt.figure(figsize=(4, 3))\n",
    "plt.plot(fpr, tpr, color='blue', lw=2, label=f\"ROC Curve (AUC = {roc_auc:.4f})\")\n",
    "plt.plot([0, 1], [0, 1], color='gray', linestyle='--', lw=1)  # Diagonal line\n",
    "plt.xlim([0.0, 1.0])\n",
    "plt.ylim([0.0, 1.05])\n",
    "plt.xlabel('False Positive Rate (FPR)')\n",
    "plt.ylabel('True Positive Rate (TPR)')\n",
    "plt.title('ROC Curve for Grid Search')\n",
    "plt.legend(loc=\"lower right\")\n",
    "plt.grid()\n",
    "plt.show()"
   ]
  },
  {
   "cell_type": "code",
   "execution_count": null,
   "id": "9f445f22",
   "metadata": {
    "id": "9f445f22",
    "outputId": "154b5f88-2dd1-4338-f8af-d2a4aa990f57"
   },
   "outputs": [
    {
     "data": {
      "text/plain": [
       "['C:\\\\Users\\\\Asus\\\\Downloads\\\\Thesis\\\\models\\\\model\\\\ocsvm\\\\bo_ocsvm.joblib']"
      ]
     },
     "execution_count": 72,
     "metadata": {},
     "output_type": "execute_result"
    }
   ],
   "source": [
    "dump(bo_ocsvm, r'C:\\Users\\Asus\\Downloads\\Thesis\\models\\model\\ocsvm\\bo_ocsvm.joblib')"
   ]
  },
  {
   "cell_type": "markdown",
   "id": "37627661",
   "metadata": {
    "id": "37627661"
   },
   "source": [
    "### PSO optimization"
   ]
  },
  {
   "cell_type": "code",
   "execution_count": 13,
   "id": "58bcb574",
   "metadata": {
    "executionInfo": {
     "elapsed": 320,
     "status": "ok",
     "timestamp": 1732824423005,
     "user": {
      "displayName": "Narmin Aliyeva",
      "userId": "05305446266640033678"
     },
     "user_tz": -240
    },
    "id": "58bcb574"
   },
   "outputs": [],
   "source": [
    "from pyswarm import pso\n",
    "from sklearn.metrics import precision_recall_fscore_support"
   ]
  },
  {
   "cell_type": "code",
   "execution_count": 12,
   "id": "6nVQEOvqYSGH",
   "metadata": {
    "colab": {
     "base_uri": "https://localhost:8080/"
    },
    "executionInfo": {
     "elapsed": 5368,
     "status": "ok",
     "timestamp": 1732824417244,
     "user": {
      "displayName": "Narmin Aliyeva",
      "userId": "05305446266640033678"
     },
     "user_tz": -240
    },
    "id": "6nVQEOvqYSGH",
    "outputId": "67b23f0d-980c-49e7-ac77-4f3f8a2c7dd9",
    "scrolled": true
   },
   "outputs": [
    {
     "name": "stdout",
     "output_type": "stream",
     "text": [
      "Collecting pyswarm\n",
      "  Downloading pyswarm-0.6.tar.gz (4.3 kB)\n",
      "  Preparing metadata (setup.py) ... \u001b[?25l\u001b[?25hdone\n",
      "Requirement already satisfied: numpy in /usr/local/lib/python3.10/dist-packages (from pyswarm) (1.26.4)\n",
      "Building wheels for collected packages: pyswarm\n",
      "  Building wheel for pyswarm (setup.py) ... \u001b[?25l\u001b[?25hdone\n",
      "  Created wheel for pyswarm: filename=pyswarm-0.6-py3-none-any.whl size=4464 sha256=69ecb717a2c2870b9879f2c291e1ba5fe6473a9b3e18d09f2e76e8425e80685b\n",
      "  Stored in directory: /root/.cache/pip/wheels/71/67/40/62fa158f497f942277cbab8199b05cb61c571ab324e67ad0d6\n",
      "Successfully built pyswarm\n",
      "Installing collected packages: pyswarm\n",
      "Successfully installed pyswarm-0.6\n"
     ]
    }
   ],
   "source": [
    "! pip install pyswarm"
   ]
  },
  {
   "cell_type": "code",
   "execution_count": 19,
   "id": "2ODGWygGYXGm",
   "metadata": {
    "executionInfo": {
     "elapsed": 305,
     "status": "ok",
     "timestamp": 1732824693163,
     "user": {
      "displayName": "Narmin Aliyeva",
      "userId": "05305446266640033678"
     },
     "user_tz": -240
    },
    "id": "2ODGWygGYXGm"
   },
   "outputs": [],
   "source": [
    "def save_state(state, filename='pso_state.pkl'):\n",
    "    with open(filename, 'wb') as f:\n",
    "        pickle.dump(state, f)\n",
    "\n",
    "def load_state(filename='pso_state.pkl'):\n",
    "    try:\n",
    "        with open(filename, 'rb') as f:\n",
    "            return pickle.load(f)\n",
    "    except FileNotFoundError:\n",
    "        return None  # Return None if no file found"
   ]
  },
  {
   "cell_type": "code",
   "execution_count": 20,
   "id": "a745ca25",
   "metadata": {
    "colab": {
     "base_uri": "https://localhost:8080/"
    },
    "executionInfo": {
     "elapsed": 260984,
     "status": "ok",
     "timestamp": 1732824984593,
     "user": {
      "displayName": "Narmin Aliyeva",
      "userId": "05305446266640033678"
     },
     "user_tz": -240
    },
    "id": "a745ca25",
    "outputId": "bd7ac034-5304-4ff6-c193-8a4147ba8fe1"
   },
   "outputs": [
    {
     "name": "stdout",
     "output_type": "stream",
     "text": [
      "Stopping search: maximum iterations reached --> 50\n",
      "Best parameters found: [0.12157344 0.08416075]\n",
      "Best negative weighted score found: -0.9117032178725148\n"
     ]
    }
   ],
   "source": [
    "# Define the objective function and include the global variable check and update within it\n",
    "global_best_params = None\n",
    "global_best_score = float('inf')\n",
    "\n",
    "def ocsvm_f1_optimize(params):\n",
    "    global global_best_params, global_best_score\n",
    "\n",
    "    ocsvm = OneClassSVM(gamma=params[0], nu=params[1])\n",
    "    ocsvm.fit(X_train)\n",
    "    preds = ocsvm.predict(X_test)\n",
    "    preds = [1 if x == -1 else 0 for x in preds]\n",
    "    precision, recall, f1, _ = precision_recall_fscore_support(y_test, preds, average='binary')\n",
    "    weighted_score = -(f1 + 0.5 * precision)\n",
    "\n",
    "    if weighted_score < global_best_score:\n",
    "        global_best_score = weighted_score\n",
    "        global_best_params = params\n",
    "        save_state({'params': global_best_params, 'score': global_best_score})\n",
    "\n",
    "    return weighted_score\n",
    "\n",
    "# Load previous state if it exists\n",
    "state = load_state()\n",
    "if state:\n",
    "    global_best_params = state['params']\n",
    "    global_best_score = state['score']\n",
    "\n",
    "# Set bounds and other PSO parameters\n",
    "lb = [0.0001, 0.01]\n",
    "ub = [1, 0.5]\n",
    "xopt, fopt = pso(ocsvm_f1_optimize, lb, ub, swarmsize=10, maxiter=50)\n",
    "\n",
    "print(\"Best parameters found:\", xopt)\n",
    "print(\"Best negative weighted score found:\", fopt)"
   ]
  },
  {
   "cell_type": "code",
   "execution_count": 6,
   "id": "sTu9pU4GcDCp",
   "metadata": {
    "colab": {
     "base_uri": "https://localhost:8080/",
     "height": 80
    },
    "executionInfo": {
     "elapsed": 126633,
     "status": "ok",
     "timestamp": 1732825817944,
     "user": {
      "displayName": "Narmin Aliyeva",
      "userId": "05305446266640033678"
     },
     "user_tz": -240
    },
    "id": "sTu9pU4GcDCp",
    "outputId": "8c4c7c2a-878e-4b63-b4ab-fd3d137f44b7"
   },
   "outputs": [
    {
     "data": {
      "text/html": [
       "<style>#sk-container-id-1 {color: black;background-color: white;}#sk-container-id-1 pre{padding: 0;}#sk-container-id-1 div.sk-toggleable {background-color: white;}#sk-container-id-1 label.sk-toggleable__label {cursor: pointer;display: block;width: 100%;margin-bottom: 0;padding: 0.3em;box-sizing: border-box;text-align: center;}#sk-container-id-1 label.sk-toggleable__label-arrow:before {content: \"▸\";float: left;margin-right: 0.25em;color: #696969;}#sk-container-id-1 label.sk-toggleable__label-arrow:hover:before {color: black;}#sk-container-id-1 div.sk-estimator:hover label.sk-toggleable__label-arrow:before {color: black;}#sk-container-id-1 div.sk-toggleable__content {max-height: 0;max-width: 0;overflow: hidden;text-align: left;background-color: #f0f8ff;}#sk-container-id-1 div.sk-toggleable__content pre {margin: 0.2em;color: black;border-radius: 0.25em;background-color: #f0f8ff;}#sk-container-id-1 input.sk-toggleable__control:checked~div.sk-toggleable__content {max-height: 200px;max-width: 100%;overflow: auto;}#sk-container-id-1 input.sk-toggleable__control:checked~label.sk-toggleable__label-arrow:before {content: \"▾\";}#sk-container-id-1 div.sk-estimator input.sk-toggleable__control:checked~label.sk-toggleable__label {background-color: #d4ebff;}#sk-container-id-1 div.sk-label input.sk-toggleable__control:checked~label.sk-toggleable__label {background-color: #d4ebff;}#sk-container-id-1 input.sk-hidden--visually {border: 0;clip: rect(1px 1px 1px 1px);clip: rect(1px, 1px, 1px, 1px);height: 1px;margin: -1px;overflow: hidden;padding: 0;position: absolute;width: 1px;}#sk-container-id-1 div.sk-estimator {font-family: monospace;background-color: #f0f8ff;border: 1px dotted black;border-radius: 0.25em;box-sizing: border-box;margin-bottom: 0.5em;}#sk-container-id-1 div.sk-estimator:hover {background-color: #d4ebff;}#sk-container-id-1 div.sk-parallel-item::after {content: \"\";width: 100%;border-bottom: 1px solid gray;flex-grow: 1;}#sk-container-id-1 div.sk-label:hover label.sk-toggleable__label {background-color: #d4ebff;}#sk-container-id-1 div.sk-serial::before {content: \"\";position: absolute;border-left: 1px solid gray;box-sizing: border-box;top: 0;bottom: 0;left: 50%;z-index: 0;}#sk-container-id-1 div.sk-serial {display: flex;flex-direction: column;align-items: center;background-color: white;padding-right: 0.2em;padding-left: 0.2em;position: relative;}#sk-container-id-1 div.sk-item {position: relative;z-index: 1;}#sk-container-id-1 div.sk-parallel {display: flex;align-items: stretch;justify-content: center;background-color: white;position: relative;}#sk-container-id-1 div.sk-item::before, #sk-container-id-1 div.sk-parallel-item::before {content: \"\";position: absolute;border-left: 1px solid gray;box-sizing: border-box;top: 0;bottom: 0;left: 50%;z-index: -1;}#sk-container-id-1 div.sk-parallel-item {display: flex;flex-direction: column;z-index: 1;position: relative;background-color: white;}#sk-container-id-1 div.sk-parallel-item:first-child::after {align-self: flex-end;width: 50%;}#sk-container-id-1 div.sk-parallel-item:last-child::after {align-self: flex-start;width: 50%;}#sk-container-id-1 div.sk-parallel-item:only-child::after {width: 0;}#sk-container-id-1 div.sk-dashed-wrapped {border: 1px dashed gray;margin: 0 0.4em 0.5em 0.4em;box-sizing: border-box;padding-bottom: 0.4em;background-color: white;}#sk-container-id-1 div.sk-label label {font-family: monospace;font-weight: bold;display: inline-block;line-height: 1.2em;}#sk-container-id-1 div.sk-label-container {text-align: center;}#sk-container-id-1 div.sk-container {/* jupyter's `normalize.less` sets `[hidden] { display: none; }` but bootstrap.min.css set `[hidden] { display: none !important; }` so we also need the `!important` here to be able to override the default hidden behavior on the sphinx rendered scikit-learn.org. See: https://github.com/scikit-learn/scikit-learn/issues/21755 */display: inline-block !important;position: relative;}#sk-container-id-1 div.sk-text-repr-fallback {display: none;}</style><div id=\"sk-container-id-1\" class=\"sk-top-container\"><div class=\"sk-text-repr-fallback\"><pre>OneClassSVM(gamma=0.12157344, nu=0.08416075)</pre><b>In a Jupyter environment, please rerun this cell to show the HTML representation or trust the notebook. <br />On GitHub, the HTML representation is unable to render, please try loading this page with nbviewer.org.</b></div><div class=\"sk-container\" hidden><div class=\"sk-item\"><div class=\"sk-estimator sk-toggleable\"><input class=\"sk-toggleable__control sk-hidden--visually\" id=\"sk-estimator-id-1\" type=\"checkbox\" checked><label for=\"sk-estimator-id-1\" class=\"sk-toggleable__label sk-toggleable__label-arrow\">OneClassSVM</label><div class=\"sk-toggleable__content\"><pre>OneClassSVM(gamma=0.12157344, nu=0.08416075)</pre></div></div></div></div></div>"
      ],
      "text/plain": [
       "OneClassSVM(gamma=0.12157344, nu=0.08416075)"
      ]
     },
     "execution_count": 6,
     "metadata": {},
     "output_type": "execute_result"
    }
   ],
   "source": [
    "# Best parameters found from PSO\n",
    "gamma_optimal = 0.12157344\n",
    "nu_optimal = 0.08416075\n",
    "kernel_type = 'rbf'\n",
    "\n",
    "\n",
    "pso_ocsvm = OneClassSVM(kernel=kernel_type, gamma=gamma_optimal, nu=nu_optimal)\n",
    "normal_data_train = X_train[y_train == 0]\n",
    "pso_ocsvm.fit(normal_data_train)"
   ]
  },
  {
   "cell_type": "code",
   "execution_count": 7,
   "id": "lGAiDzvBgKsR",
   "metadata": {
    "colab": {
     "base_uri": "https://localhost:8080/"
    },
    "executionInfo": {
     "elapsed": 11341,
     "status": "ok",
     "timestamp": 1732826552985,
     "user": {
      "displayName": "Narmin Aliyeva",
      "userId": "05305446266640033678"
     },
     "user_tz": -240
    },
    "id": "lGAiDzvBgKsR",
    "outputId": "1a65302d-a45a-43b9-c23d-22a3840c678b"
   },
   "outputs": [
    {
     "name": "stdout",
     "output_type": "stream",
     "text": [
      "Accuracy: 0.9026\n",
      "Confusion Matrix:\n",
      "[[17264  1599]\n",
      " [  349   788]]\n",
      "Precision: 0.330121491411814\n",
      "Recall: 0.693051890941073\n",
      "F1 Score: 0.44721906923950056\n"
     ]
    }
   ],
   "source": [
    "ocsvm_predictions = pso_ocsvm.predict(X_test)\n",
    "ocsvm_binary_predictions = [0 if pred == 1 else 1 for pred in ocsvm_predictions]\n",
    "\n",
    "ocsvm_true_labels = y_test\n",
    "ocsvm_predicted_labels = ocsvm_binary_predictions\n",
    "accuracy = accuracy_score(ocsvm_true_labels, ocsvm_predicted_labels)\n",
    "confusion = confusion_matrix(ocsvm_true_labels, ocsvm_predicted_labels)\n",
    "precision = precision_score(ocsvm_true_labels, ocsvm_predicted_labels)\n",
    "recall = recall_score(ocsvm_true_labels, ocsvm_predicted_labels)\n",
    "f1 = f1_score(ocsvm_true_labels, ocsvm_predicted_labels)\n",
    "\n",
    "print(\"Accuracy:\", accuracy)\n",
    "print(\"Confusion Matrix:\")\n",
    "print(confusion)\n",
    "print(\"Precision:\", precision)\n",
    "print(\"Recall:\", recall)\n",
    "print(\"F1 Score:\", f1)"
   ]
  },
  {
   "cell_type": "code",
   "execution_count": 41,
   "id": "TqVZsTD8dbLd",
   "metadata": {
    "colab": {
     "base_uri": "https://localhost:8080/",
     "height": 333
    },
    "executionInfo": {
     "elapsed": 9086,
     "status": "ok",
     "timestamp": 1732825890989,
     "user": {
      "displayName": "Narmin Aliyeva",
      "userId": "05305446266640033678"
     },
     "user_tz": -240
    },
    "id": "TqVZsTD8dbLd",
    "outputId": "9c85abb5-add8-40c7-9346-4246660f3ae3"
   },
   "outputs": [
    {
     "data": {
      "image/png": "[encoded data removed]",
      "text/plain": [
       "<Figure size 400x300 with 1 Axes>"
      ]
     },
     "metadata": {},
     "output_type": "display_data"
    }
   ],
   "source": [
    "decision_scores = pso_ocsvm.decision_function(X_test)\n",
    "fpr, tpr, thresholds = roc_curve(ocsvm_true_labels, -decision_scores)\n",
    "roc_auc = auc(fpr, tpr)\n",
    "\n",
    "# Plot the ROC Curve\n",
    "plt.figure(figsize=(4, 3))\n",
    "plt.plot(fpr, tpr, color='blue', lw=2, label=f\"ROC Curve (AUC = {roc_auc:.4f})\")\n",
    "plt.plot([0, 1], [0, 1], color='gray', linestyle='--', lw=1)  # Diagonal line\n",
    "plt.xlim([0.0, 1.0])\n",
    "plt.ylim([0.0, 1.05])\n",
    "plt.xlabel('False Positive Rate (FPR)')\n",
    "plt.ylabel('True Positive Rate (TPR)')\n",
    "plt.title('ROC Curve for OCSVM: PSO')\n",
    "plt.legend(loc=\"lower right\")\n",
    "plt.grid()\n",
    "plt.show()"
   ]
  },
  {
   "cell_type": "code",
   "execution_count": 8,
   "id": "cny7-IcYdetD",
   "metadata": {
    "colab": {
     "base_uri": "https://localhost:8080/"
    },
    "executionInfo": {
     "elapsed": 333,
     "status": "ok",
     "timestamp": 1732826141846,
     "user": {
      "displayName": "Narmin Aliyeva",
      "userId": "05305446266640033678"
     },
     "user_tz": -240
    },
    "id": "cny7-IcYdetD",
    "outputId": "d01f2339-6f18-4fd9-b095-eb764da22b6c"
   },
   "outputs": [
    {
     "data": {
      "text/plain": [
       "['C:\\\\Users\\\\Asus\\\\Downloads\\\\Thesis\\\\models\\\\model\\\\ocsvm\\\\pso_ocsvm.joblib']"
      ]
     },
     "execution_count": 8,
     "metadata": {},
     "output_type": "execute_result"
    }
   ],
   "source": [
    "from joblib import dump\n",
    "\n",
    "dump(pso_ocsvm, r'C:\\Users\\Asus\\Downloads\\Thesis\\models\\model\\ocsvm\\pso_ocsvm.joblib')"
   ]
  },
  {
   "cell_type": "markdown",
   "id": "39ac99b8",
   "metadata": {},
   "source": [
    "### Hyperband Optimization"
   ]
  },
  {
   "cell_type": "code",
   "execution_count": 3,
   "id": "adf46a9f-f259-43ea-8c32-520442ec57a5",
   "metadata": {},
   "outputs": [],
   "source": [
    "import optuna"
   ]
  },
  {
   "cell_type": "code",
   "execution_count": 248,
   "id": "1813a1de-5320-45e5-9e7c-b54229774882",
   "metadata": {},
   "outputs": [],
   "source": [
    "sampled_data = data.sample(n=10000, random_state=42)"
   ]
  },
  {
   "cell_type": "code",
   "execution_count": 250,
   "id": "ec06937e-f5a1-495d-9ef0-f013402fc89d",
   "metadata": {},
   "outputs": [],
   "source": [
    "X = sampled_data.drop(columns=['anomaly'])\n",
    "y = sampled_data['anomaly']"
   ]
  },
  {
   "cell_type": "code",
   "execution_count": 252,
   "id": "5a59cb20-7d4c-42dd-aed2-4544c2dc75b7",
   "metadata": {},
   "outputs": [],
   "source": [
    "# Step 1: Prepare sampled data\n",
    "X_train, X_test, y_train, y_test = train_test_split(\n",
    "    X, y, test_size=0.2, stratify=y, random_state=42\n",
    ")"
   ]
  },
  {
   "cell_type": "code",
   "execution_count": 305,
   "id": "d6db550c-24e1-44e1-bd25-94b369300955",
   "metadata": {},
   "outputs": [],
   "source": [
    "# Baseline results (replace with your actual baseline metrics)\n",
    "baseline_f1 = 0.6928\n",
    "baseline_precision = 0.7965\n",
    "baseline_recall = 0.613\n",
    "baseline_auc = 0.8453"
   ]
  },
  {
   "cell_type": "code",
   "execution_count": 307,
   "id": "104d7a4c-1846-4a8e-ae7f-86880e246d24",
   "metadata": {},
   "outputs": [],
   "source": [
    "def objective(trial):\n",
    "    # Hyperparameter suggestions\n",
    "    nu = trial.suggest_float(\"nu\", 0.01, 0.1)  # Proportion of anomalies\n",
    "    gamma = trial.suggest_loguniform(\"gamma\", 1e-3, 1e-1)  # Kernel coefficient\n",
    "    kernel = trial.suggest_categorical(\"kernel\", [\"rbf\", \"poly\", \"sigmoid\"])\n",
    "\n",
    "    # Initialize the One-Class SVM\n",
    "    model = OneClassSVM(kernel=kernel, gamma=gamma, nu=nu, shrinking=True)\n",
    "    normal_data_train = X_train[y_train == 0]\n",
    "    model.fit(normal_data_train)\n",
    "\n",
    "    # Predict anomalies on the test set\n",
    "    y_pred = model.predict(X_test)\n",
    "    y_pred = (y_pred == -1).astype(int)  # Convert to binary (1 = anomaly)\n",
    "\n",
    "    # Compute metrics\n",
    "    precision = precision_score(y_test, y_pred)\n",
    "    recall = recall_score(y_test, y_pred)\n",
    "    f1 = f1_score(y_test, y_pred)\n",
    "    auc = roc_auc_score(y_test, y_pred)\n",
    "\n",
    "    # Compare with baseline\n",
    "    if f1 < baseline_f1:\n",
    "        return -1  # Penalize trials that perform worse than baseline\n",
    "    else:\n",
    "        return 0.4 * f1 + 0.3 * recall + 0.3 * precision  # Reward trials that outperform baseline\n"
   ]
  },
  {
   "cell_type": "code",
   "execution_count": 333,
   "id": "3bf2a73d-7d58-448d-8269-4dd71d2d9089",
   "metadata": {
    "collapsed": true
   },
   "outputs": [
    {
     "name": "stderr",
     "output_type": "stream",
     "text": [
      "[I 2024-12-01 03:09:46,808] A new study created in memory with name: no-name-67ce28f8-2521-400f-872b-06ffbcaf8663\n",
      "C:\\Users\\azad.aliyev\\AppData\\Local\\Temp\\ipykernel_16688\\3042600700.py:4: FutureWarning: suggest_loguniform has been deprecated in v3.0.0. This feature will be removed in v6.0.0. See https://github.com/optuna/optuna/releases/tag/v3.0.0. Use suggest_float(..., log=True) instead.\n",
      "  gamma = trial.suggest_loguniform(\"gamma\", 1e-3, 1e-1)  # Kernel coefficient\n",
      "C:\\Users\\azad.aliyev\\AppData\\Local\\Temp\\ipykernel_16688\\3042600700.py:4: FutureWarning: suggest_loguniform has been deprecated in v3.0.0. This feature will be removed in v6.0.0. See https://github.com/optuna/optuna/releases/tag/v3.0.0. Use suggest_float(..., log=True) instead.\n",
      "  gamma = trial.suggest_loguniform(\"gamma\", 1e-3, 1e-1)  # Kernel coefficient\n",
      "C:\\Users\\azad.aliyev\\AppData\\Local\\Temp\\ipykernel_16688\\3042600700.py:4: FutureWarning: suggest_loguniform has been deprecated in v3.0.0. This feature will be removed in v6.0.0. See https://github.com/optuna/optuna/releases/tag/v3.0.0. Use suggest_float(..., log=True) instead.\n",
      "  gamma = trial.suggest_loguniform(\"gamma\", 1e-3, 1e-1)  # Kernel coefficient\n",
      "C:\\Users\\azad.aliyev\\AppData\\Local\\Temp\\ipykernel_16688\\3042600700.py:4: FutureWarning: suggest_loguniform has been deprecated in v3.0.0. This feature will be removed in v6.0.0. See https://github.com/optuna/optuna/releases/tag/v3.0.0. Use suggest_float(..., log=True) instead.\n",
      "  gamma = trial.suggest_loguniform(\"gamma\", 1e-3, 1e-1)  # Kernel coefficient\n",
      "C:\\Users\\azad.aliyev\\AppData\\Local\\Temp\\ipykernel_16688\\3042600700.py:4: FutureWarning: suggest_loguniform has been deprecated in v3.0.0. This feature will be removed in v6.0.0. See https://github.com/optuna/optuna/releases/tag/v3.0.0. Use suggest_float(..., log=True) instead.\n",
      "  gamma = trial.suggest_loguniform(\"gamma\", 1e-3, 1e-1)  # Kernel coefficient\n",
      "C:\\Users\\azad.aliyev\\AppData\\Local\\Temp\\ipykernel_16688\\3042600700.py:4: FutureWarning: suggest_loguniform has been deprecated in v3.0.0. This feature will be removed in v6.0.0. See https://github.com/optuna/optuna/releases/tag/v3.0.0. Use suggest_float(..., log=True) instead.\n",
      "  gamma = trial.suggest_loguniform(\"gamma\", 1e-3, 1e-1)  # Kernel coefficient\n",
      "[I 2024-12-01 03:09:47,493] Trial 7 finished with value: -1.0 and parameters: {'nu': 0.023818371010634054, 'gamma': 0.0012728180066318721, 'kernel': 'poly'}. Best is trial 7 with value: -1.0.\n",
      "C:\\Users\\azad.aliyev\\AppData\\Local\\Temp\\ipykernel_16688\\3042600700.py:4: FutureWarning: suggest_loguniform has been deprecated in v3.0.0. This feature will be removed in v6.0.0. See https://github.com/optuna/optuna/releases/tag/v3.0.0. Use suggest_float(..., log=True) instead.\n",
      "  gamma = trial.suggest_loguniform(\"gamma\", 1e-3, 1e-1)  # Kernel coefficient\n",
      "C:\\Users\\azad.aliyev\\AppData\\Local\\Temp\\ipykernel_16688\\3042600700.py:4: FutureWarning: suggest_loguniform has been deprecated in v3.0.0. This feature will be removed in v6.0.0. See https://github.com/optuna/optuna/releases/tag/v3.0.0. Use suggest_float(..., log=True) instead.\n",
      "  gamma = trial.suggest_loguniform(\"gamma\", 1e-3, 1e-1)  # Kernel coefficient\n",
      "C:\\Users\\azad.aliyev\\AppData\\Local\\Temp\\ipykernel_16688\\3042600700.py:4: FutureWarning: suggest_loguniform has been deprecated in v3.0.0. This feature will be removed in v6.0.0. See https://github.com/optuna/optuna/releases/tag/v3.0.0. Use suggest_float(..., log=True) instead.\n",
      "  gamma = trial.suggest_loguniform(\"gamma\", 1e-3, 1e-1)  # Kernel coefficient\n",
      "[I 2024-12-01 03:09:47,934] Trial 8 finished with value: 0.7069280744243263 and parameters: {'nu': 0.01757539589214916, 'gamma': 0.011952402583455236, 'kernel': 'sigmoid'}. Best is trial 8 with value: 0.7069280744243263.\n",
      "C:\\Users\\azad.aliyev\\AppData\\Local\\Temp\\ipykernel_16688\\3042600700.py:4: FutureWarning: suggest_loguniform has been deprecated in v3.0.0. This feature will be removed in v6.0.0. See https://github.com/optuna/optuna/releases/tag/v3.0.0. Use suggest_float(..., log=True) instead.\n",
      "  gamma = trial.suggest_loguniform(\"gamma\", 1e-3, 1e-1)  # Kernel coefficient\n",
      "C:\\Users\\azad.aliyev\\AppData\\Local\\Temp\\ipykernel_16688\\3042600700.py:4: FutureWarning: suggest_loguniform has been deprecated in v3.0.0. This feature will be removed in v6.0.0. See https://github.com/optuna/optuna/releases/tag/v3.0.0. Use suggest_float(..., log=True) instead.\n",
      "  gamma = trial.suggest_loguniform(\"gamma\", 1e-3, 1e-1)  # Kernel coefficient\n",
      "[I 2024-12-01 03:09:48,370] Trial 5 finished with value: -1.0 and parameters: {'nu': 0.041898265329725216, 'gamma': 0.0024637971207691982, 'kernel': 'sigmoid'}. Best is trial 8 with value: 0.7069280744243263.\n",
      "C:\\Users\\azad.aliyev\\AppData\\Local\\Temp\\ipykernel_16688\\3042600700.py:4: FutureWarning: suggest_loguniform has been deprecated in v3.0.0. This feature will be removed in v6.0.0. See https://github.com/optuna/optuna/releases/tag/v3.0.0. Use suggest_float(..., log=True) instead.\n",
      "  gamma = trial.suggest_loguniform(\"gamma\", 1e-3, 1e-1)  # Kernel coefficient\n",
      "[I 2024-12-01 03:09:48,489] Trial 0 finished with value: -1.0 and parameters: {'nu': 0.059636902901942436, 'gamma': 0.009169049224702748, 'kernel': 'poly'}. Best is trial 8 with value: 0.7069280744243263.\n",
      "C:\\Users\\azad.aliyev\\AppData\\Local\\Temp\\ipykernel_16688\\3042600700.py:4: FutureWarning: suggest_loguniform has been deprecated in v3.0.0. This feature will be removed in v6.0.0. See https://github.com/optuna/optuna/releases/tag/v3.0.0. Use suggest_float(..., log=True) instead.\n",
      "  gamma = trial.suggest_loguniform(\"gamma\", 1e-3, 1e-1)  # Kernel coefficient\n",
      "[I 2024-12-01 03:09:48,520] Trial 6 finished with value: -1.0 and parameters: {'nu': 0.04459824598116001, 'gamma': 0.0017959004383097943, 'kernel': 'sigmoid'}. Best is trial 8 with value: 0.7069280744243263.\n",
      "C:\\Users\\azad.aliyev\\AppData\\Local\\Temp\\ipykernel_16688\\3042600700.py:4: FutureWarning: suggest_loguniform has been deprecated in v3.0.0. This feature will be removed in v6.0.0. See https://github.com/optuna/optuna/releases/tag/v3.0.0. Use suggest_float(..., log=True) instead.\n",
      "  gamma = trial.suggest_loguniform(\"gamma\", 1e-3, 1e-1)  # Kernel coefficient\n",
      "[I 2024-12-01 03:09:48,839] Trial 10 finished with value: -1.0 and parameters: {'nu': 0.0441225362388217, 'gamma': 0.008759867316992877, 'kernel': 'poly'}. Best is trial 8 with value: 0.7069280744243263.\n",
      "[I 2024-12-01 03:09:48,971] Trial 1 finished with value: -1.0 and parameters: {'nu': 0.07760667129244786, 'gamma': 0.08824190007575822, 'kernel': 'poly'}. Best is trial 8 with value: 0.7069280744243263.\n",
      "[I 2024-12-01 03:09:48,963] Trial 2 finished with value: -1.0 and parameters: {'nu': 0.05933700261584318, 'gamma': 0.020551968346583824, 'kernel': 'sigmoid'}. Best is trial 8 with value: 0.7069280744243263.\n",
      "C:\\Users\\azad.aliyev\\AppData\\Local\\Temp\\ipykernel_16688\\3042600700.py:4: FutureWarning: suggest_loguniform has been deprecated in v3.0.0. This feature will be removed in v6.0.0. See https://github.com/optuna/optuna/releases/tag/v3.0.0. Use suggest_float(..., log=True) instead.\n",
      "  gamma = trial.suggest_loguniform(\"gamma\", 1e-3, 1e-1)  # Kernel coefficient\n",
      "[I 2024-12-01 03:09:48,955] Trial 13 finished with value: -1.0 and parameters: {'nu': 0.024615769718348283, 'gamma': 0.0011797213238815183, 'kernel': 'sigmoid'}. Best is trial 8 with value: 0.7069280744243263.\n",
      "C:\\Users\\azad.aliyev\\AppData\\Local\\Temp\\ipykernel_16688\\3042600700.py:4: FutureWarning: suggest_loguniform has been deprecated in v3.0.0. This feature will be removed in v6.0.0. See https://github.com/optuna/optuna/releases/tag/v3.0.0. Use suggest_float(..., log=True) instead.\n",
      "  gamma = trial.suggest_loguniform(\"gamma\", 1e-3, 1e-1)  # Kernel coefficient\n",
      "[I 2024-12-01 03:09:49,227] Trial 16 finished with value: 0.7345588235294118 and parameters: {'nu': 0.013231803396806116, 'gamma': 0.0027793515599141413, 'kernel': 'sigmoid'}. Best is trial 16 with value: 0.7345588235294118.\n",
      "C:\\Users\\azad.aliyev\\AppData\\Local\\Temp\\ipykernel_16688\\3042600700.py:4: FutureWarning: suggest_loguniform has been deprecated in v3.0.0. This feature will be removed in v6.0.0. See https://github.com/optuna/optuna/releases/tag/v3.0.0. Use suggest_float(..., log=True) instead.\n",
      "  gamma = trial.suggest_loguniform(\"gamma\", 1e-3, 1e-1)  # Kernel coefficient\n",
      "[I 2024-12-01 03:09:49,459] Trial 12 finished with value: -1.0 and parameters: {'nu': 0.053305640393108686, 'gamma': 0.04962952914095289, 'kernel': 'poly'}. Best is trial 16 with value: 0.7345588235294118.\n",
      "C:\\Users\\azad.aliyev\\AppData\\Local\\Temp\\ipykernel_16688\\3042600700.py:4: FutureWarning: suggest_loguniform has been deprecated in v3.0.0. This feature will be removed in v6.0.0. See https://github.com/optuna/optuna/releases/tag/v3.0.0. Use suggest_float(..., log=True) instead.\n",
      "  gamma = trial.suggest_loguniform(\"gamma\", 1e-3, 1e-1)  # Kernel coefficient\n",
      "[I 2024-12-01 03:09:49,721] Trial 18 finished with value: 0.7173537512256356 and parameters: {'nu': 0.01607047723130687, 'gamma': 0.0014866939520506118, 'kernel': 'sigmoid'}. Best is trial 16 with value: 0.7345588235294118.\n",
      "C:\\Users\\azad.aliyev\\AppData\\Local\\Temp\\ipykernel_16688\\3042600700.py:4: FutureWarning: suggest_loguniform has been deprecated in v3.0.0. This feature will be removed in v6.0.0. See https://github.com/optuna/optuna/releases/tag/v3.0.0. Use suggest_float(..., log=True) instead.\n",
      "  gamma = trial.suggest_loguniform(\"gamma\", 1e-3, 1e-1)  # Kernel coefficient\n",
      "[I 2024-12-01 03:09:50,051] Trial 9 finished with value: -1.0 and parameters: {'nu': 0.06689642391842551, 'gamma': 0.0026431984884092517, 'kernel': 'sigmoid'}. Best is trial 16 with value: 0.7345588235294118.\n",
      "C:\\Users\\azad.aliyev\\AppData\\Local\\Temp\\ipykernel_16688\\3042600700.py:4: FutureWarning: suggest_loguniform has been deprecated in v3.0.0. This feature will be removed in v6.0.0. See https://github.com/optuna/optuna/releases/tag/v3.0.0. Use suggest_float(..., log=True) instead.\n",
      "  gamma = trial.suggest_loguniform(\"gamma\", 1e-3, 1e-1)  # Kernel coefficient\n",
      "[I 2024-12-01 03:09:50,265] Trial 4 finished with value: -1.0 and parameters: {'nu': 0.08819466631855497, 'gamma': 0.0026577608504584657, 'kernel': 'sigmoid'}. Best is trial 16 with value: 0.7345588235294118.\n",
      "C:\\Users\\azad.aliyev\\AppData\\Local\\Temp\\ipykernel_16688\\3042600700.py:4: FutureWarning: suggest_loguniform has been deprecated in v3.0.0. This feature will be removed in v6.0.0. See https://github.com/optuna/optuna/releases/tag/v3.0.0. Use suggest_float(..., log=True) instead.\n",
      "  gamma = trial.suggest_loguniform(\"gamma\", 1e-3, 1e-1)  # Kernel coefficient\n",
      "[I 2024-12-01 03:09:50,524] Trial 3 finished with value: -1.0 and parameters: {'nu': 0.08718287987705008, 'gamma': 0.013674824210110013, 'kernel': 'sigmoid'}. Best is trial 16 with value: 0.7345588235294118.\n",
      "[I 2024-12-01 03:09:50,563] Trial 22 finished with value: 0.7004892891918209 and parameters: {'nu': 0.017120363218325878, 'gamma': 0.004001377248396401, 'kernel': 'rbf'}. Best is trial 16 with value: 0.7345588235294118.\n",
      "C:\\Users\\azad.aliyev\\AppData\\Local\\Temp\\ipykernel_16688\\3042600700.py:4: FutureWarning: suggest_loguniform has been deprecated in v3.0.0. This feature will be removed in v6.0.0. See https://github.com/optuna/optuna/releases/tag/v3.0.0. Use suggest_float(..., log=True) instead.\n",
      "  gamma = trial.suggest_loguniform(\"gamma\", 1e-3, 1e-1)  # Kernel coefficient\n",
      "C:\\Users\\azad.aliyev\\AppData\\Local\\Temp\\ipykernel_16688\\3042600700.py:4: FutureWarning: suggest_loguniform has been deprecated in v3.0.0. This feature will be removed in v6.0.0. See https://github.com/optuna/optuna/releases/tag/v3.0.0. Use suggest_float(..., log=True) instead.\n",
      "  gamma = trial.suggest_loguniform(\"gamma\", 1e-3, 1e-1)  # Kernel coefficient\n",
      "[I 2024-12-01 03:09:50,779] Trial 15 finished with value: -1.0 and parameters: {'nu': 0.06883939944076131, 'gamma': 0.027922222013204597, 'kernel': 'sigmoid'}. Best is trial 16 with value: 0.7345588235294118.\n",
      "[I 2024-12-01 03:09:50,795] Trial 23 finished with value: 0.7151415562630516 and parameters: {'nu': 0.012866524030770234, 'gamma': 0.0037031347564381962, 'kernel': 'rbf'}. Best is trial 16 with value: 0.7345588235294118.\n",
      "[I 2024-12-01 03:09:50,837] Trial 24 finished with value: 0.6982843137254902 and parameters: {'nu': 0.010714375838341044, 'gamma': 0.004250684944982147, 'kernel': 'rbf'}. Best is trial 16 with value: 0.7345588235294118.\n",
      "C:\\Users\\azad.aliyev\\AppData\\Local\\Temp\\ipykernel_16688\\3042600700.py:4: FutureWarning: suggest_loguniform has been deprecated in v3.0.0. This feature will be removed in v6.0.0. See https://github.com/optuna/optuna/releases/tag/v3.0.0. Use suggest_float(..., log=True) instead.\n",
      "  gamma = trial.suggest_loguniform(\"gamma\", 1e-3, 1e-1)  # Kernel coefficient\n",
      "C:\\Users\\azad.aliyev\\AppData\\Local\\Temp\\ipykernel_16688\\3042600700.py:4: FutureWarning: suggest_loguniform has been deprecated in v3.0.0. This feature will be removed in v6.0.0. See https://github.com/optuna/optuna/releases/tag/v3.0.0. Use suggest_float(..., log=True) instead.\n",
      "  gamma = trial.suggest_loguniform(\"gamma\", 1e-3, 1e-1)  # Kernel coefficient\n",
      "[I 2024-12-01 03:09:50,952] Trial 25 finished with value: -1.0 and parameters: {'nu': 0.010002640512071163, 'gamma': 0.004730763306620139, 'kernel': 'rbf'}. Best is trial 16 with value: 0.7345588235294118.\n",
      "C:\\Users\\azad.aliyev\\AppData\\Local\\Temp\\ipykernel_16688\\3042600700.py:4: FutureWarning: suggest_loguniform has been deprecated in v3.0.0. This feature will be removed in v6.0.0. See https://github.com/optuna/optuna/releases/tag/v3.0.0. Use suggest_float(..., log=True) instead.\n",
      "  gamma = trial.suggest_loguniform(\"gamma\", 1e-3, 1e-1)  # Kernel coefficient\n",
      "C:\\Users\\azad.aliyev\\AppData\\Local\\Temp\\ipykernel_16688\\3042600700.py:4: FutureWarning: suggest_loguniform has been deprecated in v3.0.0. This feature will be removed in v6.0.0. See https://github.com/optuna/optuna/releases/tag/v3.0.0. Use suggest_float(..., log=True) instead.\n",
      "  gamma = trial.suggest_loguniform(\"gamma\", 1e-3, 1e-1)  # Kernel coefficient\n",
      "[I 2024-12-01 03:09:51,461] Trial 26 finished with value: 0.7039382239382239 and parameters: {'nu': 0.011417005357192955, 'gamma': 0.005629864278310234, 'kernel': 'rbf'}. Best is trial 16 with value: 0.7345588235294118.\n",
      "C:\\Users\\azad.aliyev\\AppData\\Local\\Temp\\ipykernel_16688\\3042600700.py:4: FutureWarning: suggest_loguniform has been deprecated in v3.0.0. This feature will be removed in v6.0.0. See https://github.com/optuna/optuna/releases/tag/v3.0.0. Use suggest_float(..., log=True) instead.\n",
      "  gamma = trial.suggest_loguniform(\"gamma\", 1e-3, 1e-1)  # Kernel coefficient\n",
      "[I 2024-12-01 03:09:51,636] Trial 14 finished with value: -1.0 and parameters: {'nu': 0.07340883989767215, 'gamma': 0.02209658396473333, 'kernel': 'rbf'}. Best is trial 16 with value: 0.7345588235294118.\n",
      "C:\\Users\\azad.aliyev\\AppData\\Local\\Temp\\ipykernel_16688\\3042600700.py:4: FutureWarning: suggest_loguniform has been deprecated in v3.0.0. This feature will be removed in v6.0.0. See https://github.com/optuna/optuna/releases/tag/v3.0.0. Use suggest_float(..., log=True) instead.\n",
      "  gamma = trial.suggest_loguniform(\"gamma\", 1e-3, 1e-1)  # Kernel coefficient\n",
      "[I 2024-12-01 03:09:51,760] Trial 20 finished with value: -1.0 and parameters: {'nu': 0.051597930838412465, 'gamma': 0.07703899929824337, 'kernel': 'rbf'}. Best is trial 16 with value: 0.7345588235294118.\n",
      "C:\\Users\\azad.aliyev\\AppData\\Local\\Temp\\ipykernel_16688\\3042600700.py:4: FutureWarning: suggest_loguniform has been deprecated in v3.0.0. This feature will be removed in v6.0.0. See https://github.com/optuna/optuna/releases/tag/v3.0.0. Use suggest_float(..., log=True) instead.\n",
      "  gamma = trial.suggest_loguniform(\"gamma\", 1e-3, 1e-1)  # Kernel coefficient\n",
      "[I 2024-12-01 03:09:51,964] Trial 11 finished with value: -1.0 and parameters: {'nu': 0.0995330286906055, 'gamma': 0.0011825622271356149, 'kernel': 'rbf'}. Best is trial 16 with value: 0.7345588235294118.\n",
      "C:\\Users\\azad.aliyev\\AppData\\Local\\Temp\\ipykernel_16688\\3042600700.py:4: FutureWarning: suggest_loguniform has been deprecated in v3.0.0. This feature will be removed in v6.0.0. See https://github.com/optuna/optuna/releases/tag/v3.0.0. Use suggest_float(..., log=True) instead.\n",
      "  gamma = trial.suggest_loguniform(\"gamma\", 1e-3, 1e-1)  # Kernel coefficient\n",
      "[I 2024-12-01 03:09:52,058] Trial 17 finished with value: -1.0 and parameters: {'nu': 0.06009627244129761, 'gamma': 0.0030616871303589875, 'kernel': 'rbf'}. Best is trial 16 with value: 0.7345588235294118.\n",
      "[I 2024-12-01 03:09:52,083] Trial 28 finished with value: -1.0 and parameters: {'nu': 0.030843459732303492, 'gamma': 0.0010041683922554026, 'kernel': 'sigmoid'}. Best is trial 16 with value: 0.7345588235294118.\n",
      "C:\\Users\\azad.aliyev\\AppData\\Local\\Temp\\ipykernel_16688\\3042600700.py:4: FutureWarning: suggest_loguniform has been deprecated in v3.0.0. This feature will be removed in v6.0.0. See https://github.com/optuna/optuna/releases/tag/v3.0.0. Use suggest_float(..., log=True) instead.\n",
      "  gamma = trial.suggest_loguniform(\"gamma\", 1e-3, 1e-1)  # Kernel coefficient\n",
      "[I 2024-12-01 03:09:52,283] Trial 30 finished with value: -1.0 and parameters: {'nu': 0.03296245545264766, 'gamma': 0.006031501345637526, 'kernel': 'sigmoid'}. Best is trial 16 with value: 0.7345588235294118.\n",
      "C:\\Users\\azad.aliyev\\AppData\\Local\\Temp\\ipykernel_16688\\3042600700.py:4: FutureWarning: suggest_loguniform has been deprecated in v3.0.0. This feature will be removed in v6.0.0. See https://github.com/optuna/optuna/releases/tag/v3.0.0. Use suggest_float(..., log=True) instead.\n",
      "  gamma = trial.suggest_loguniform(\"gamma\", 1e-3, 1e-1)  # Kernel coefficient\n",
      "C:\\Users\\azad.aliyev\\AppData\\Local\\Temp\\ipykernel_16688\\3042600700.py:4: FutureWarning: suggest_loguniform has been deprecated in v3.0.0. This feature will be removed in v6.0.0. See https://github.com/optuna/optuna/releases/tag/v3.0.0. Use suggest_float(..., log=True) instead.\n",
      "  gamma = trial.suggest_loguniform(\"gamma\", 1e-3, 1e-1)  # Kernel coefficient\n",
      "[I 2024-12-01 03:09:52,599] Trial 19 finished with value: -1.0 and parameters: {'nu': 0.0692939803686876, 'gamma': 0.002596597485069868, 'kernel': 'rbf'}. Best is trial 16 with value: 0.7345588235294118.\n",
      "C:\\Users\\azad.aliyev\\AppData\\Local\\Temp\\ipykernel_16688\\3042600700.py:4: FutureWarning: suggest_loguniform has been deprecated in v3.0.0. This feature will be removed in v6.0.0. See https://github.com/optuna/optuna/releases/tag/v3.0.0. Use suggest_float(..., log=True) instead.\n",
      "  gamma = trial.suggest_loguniform(\"gamma\", 1e-3, 1e-1)  # Kernel coefficient\n",
      "[I 2024-12-01 03:09:52,630] Trial 31 finished with value: -1.0 and parameters: {'nu': 0.032554464696967926, 'gamma': 0.006238616690056647, 'kernel': 'sigmoid'}. Best is trial 16 with value: 0.7345588235294118.\n",
      "C:\\Users\\azad.aliyev\\AppData\\Local\\Temp\\ipykernel_16688\\3042600700.py:4: FutureWarning: suggest_loguniform has been deprecated in v3.0.0. This feature will be removed in v6.0.0. See https://github.com/optuna/optuna/releases/tag/v3.0.0. Use suggest_float(..., log=True) instead.\n",
      "  gamma = trial.suggest_loguniform(\"gamma\", 1e-3, 1e-1)  # Kernel coefficient\n",
      "[I 2024-12-01 03:09:52,659] Trial 27 finished with value: -1.0 and parameters: {'nu': 0.03355602084916476, 'gamma': 0.004642516081101121, 'kernel': 'rbf'}. Best is trial 16 with value: 0.7345588235294118.\n",
      "C:\\Users\\azad.aliyev\\AppData\\Local\\Temp\\ipykernel_16688\\3042600700.py:4: FutureWarning: suggest_loguniform has been deprecated in v3.0.0. This feature will be removed in v6.0.0. See https://github.com/optuna/optuna/releases/tag/v3.0.0. Use suggest_float(..., log=True) instead.\n",
      "  gamma = trial.suggest_loguniform(\"gamma\", 1e-3, 1e-1)  # Kernel coefficient\n",
      "[I 2024-12-01 03:09:52,835] Trial 36 finished with value: -1.0 and parameters: {'nu': 0.033394983886109605, 'gamma': 0.001753224253540116, 'kernel': 'sigmoid'}. Best is trial 16 with value: 0.7345588235294118.\n",
      "[I 2024-12-01 03:09:52,871] Trial 33 finished with value: -1.0 and parameters: {'nu': 0.030363381166576848, 'gamma': 0.0017529348365002628, 'kernel': 'rbf'}. Best is trial 16 with value: 0.7345588235294118.\n",
      "[I 2024-12-01 03:09:52,882] Trial 29 finished with value: -1.0 and parameters: {'nu': 0.032215275409557265, 'gamma': 0.0010297915496483765, 'kernel': 'sigmoid'}. Best is trial 16 with value: 0.7345588235294118.\n",
      "C:\\Users\\azad.aliyev\\AppData\\Local\\Temp\\ipykernel_16688\\3042600700.py:4: FutureWarning: suggest_loguniform has been deprecated in v3.0.0. This feature will be removed in v6.0.0. See https://github.com/optuna/optuna/releases/tag/v3.0.0. Use suggest_float(..., log=True) instead.\n",
      "  gamma = trial.suggest_loguniform(\"gamma\", 1e-3, 1e-1)  # Kernel coefficient\n",
      "C:\\Users\\azad.aliyev\\AppData\\Local\\Temp\\ipykernel_16688\\3042600700.py:4: FutureWarning: suggest_loguniform has been deprecated in v3.0.0. This feature will be removed in v6.0.0. See https://github.com/optuna/optuna/releases/tag/v3.0.0. Use suggest_float(..., log=True) instead.\n",
      "  gamma = trial.suggest_loguniform(\"gamma\", 1e-3, 1e-1)  # Kernel coefficient\n",
      "[I 2024-12-01 03:09:52,959] Trial 35 finished with value: -1.0 and parameters: {'nu': 0.03258191998675351, 'gamma': 0.002011485413948258, 'kernel': 'sigmoid'}. Best is trial 16 with value: 0.7345588235294118.\n",
      "[I 2024-12-01 03:09:53,006] Trial 34 finished with value: -1.0 and parameters: {'nu': 0.032970675746277094, 'gamma': 0.0018539621138912203, 'kernel': 'sigmoid'}. Best is trial 16 with value: 0.7345588235294118.\n",
      "C:\\Users\\azad.aliyev\\AppData\\Local\\Temp\\ipykernel_16688\\3042600700.py:4: FutureWarning: suggest_loguniform has been deprecated in v3.0.0. This feature will be removed in v6.0.0. See https://github.com/optuna/optuna/releases/tag/v3.0.0. Use suggest_float(..., log=True) instead.\n",
      "  gamma = trial.suggest_loguniform(\"gamma\", 1e-3, 1e-1)  # Kernel coefficient\n",
      "[I 2024-12-01 03:09:53,144] Trial 32 finished with value: -1.0 and parameters: {'nu': 0.03172179723460959, 'gamma': 0.0017708244962748565, 'kernel': 'rbf'}. Best is trial 16 with value: 0.7345588235294118.\n",
      "C:\\Users\\azad.aliyev\\AppData\\Local\\Temp\\ipykernel_16688\\3042600700.py:4: FutureWarning: suggest_loguniform has been deprecated in v3.0.0. This feature will be removed in v6.0.0. See https://github.com/optuna/optuna/releases/tag/v3.0.0. Use suggest_float(..., log=True) instead.\n",
      "  gamma = trial.suggest_loguniform(\"gamma\", 1e-3, 1e-1)  # Kernel coefficient\n",
      "C:\\Users\\azad.aliyev\\AppData\\Local\\Temp\\ipykernel_16688\\3042600700.py:4: FutureWarning: suggest_loguniform has been deprecated in v3.0.0. This feature will be removed in v6.0.0. See https://github.com/optuna/optuna/releases/tag/v3.0.0. Use suggest_float(..., log=True) instead.\n",
      "  gamma = trial.suggest_loguniform(\"gamma\", 1e-3, 1e-1)  # Kernel coefficient\n",
      "C:\\Users\\azad.aliyev\\AppData\\Local\\Temp\\ipykernel_16688\\3042600700.py:4: FutureWarning: suggest_loguniform has been deprecated in v3.0.0. This feature will be removed in v6.0.0. See https://github.com/optuna/optuna/releases/tag/v3.0.0. Use suggest_float(..., log=True) instead.\n",
      "  gamma = trial.suggest_loguniform(\"gamma\", 1e-3, 1e-1)  # Kernel coefficient\n",
      "[I 2024-12-01 03:09:53,245] Trial 38 finished with value: -1.0 and parameters: {'nu': 0.03350645594482164, 'gamma': 0.0022586513512623334, 'kernel': 'sigmoid'}. Best is trial 16 with value: 0.7345588235294118.\n",
      "C:\\Users\\azad.aliyev\\AppData\\Local\\Temp\\ipykernel_16688\\3042600700.py:4: FutureWarning: suggest_loguniform has been deprecated in v3.0.0. This feature will be removed in v6.0.0. See https://github.com/optuna/optuna/releases/tag/v3.0.0. Use suggest_float(..., log=True) instead.\n",
      "  gamma = trial.suggest_loguniform(\"gamma\", 1e-3, 1e-1)  # Kernel coefficient\n",
      "[I 2024-12-01 03:09:53,394] Trial 37 finished with value: -1.0 and parameters: {'nu': 0.032403789871244225, 'gamma': 0.0018078184280534626, 'kernel': 'sigmoid'}. Best is trial 16 with value: 0.7345588235294118.\n",
      "C:\\Users\\azad.aliyev\\AppData\\Local\\Temp\\ipykernel_16688\\3042600700.py:4: FutureWarning: suggest_loguniform has been deprecated in v3.0.0. This feature will be removed in v6.0.0. See https://github.com/optuna/optuna/releases/tag/v3.0.0. Use suggest_float(..., log=True) instead.\n",
      "  gamma = trial.suggest_loguniform(\"gamma\", 1e-3, 1e-1)  # Kernel coefficient\n",
      "[I 2024-12-01 03:09:53,428] Trial 21 finished with value: -1.0 and parameters: {'nu': 0.09562974312202258, 'gamma': 0.00331272328012524, 'kernel': 'rbf'}. Best is trial 16 with value: 0.7345588235294118.\n",
      "C:\\Users\\azad.aliyev\\AppData\\Local\\Temp\\ipykernel_16688\\3042600700.py:4: FutureWarning: suggest_loguniform has been deprecated in v3.0.0. This feature will be removed in v6.0.0. See https://github.com/optuna/optuna/releases/tag/v3.0.0. Use suggest_float(..., log=True) instead.\n",
      "  gamma = trial.suggest_loguniform(\"gamma\", 1e-3, 1e-1)  # Kernel coefficient\n",
      "[I 2024-12-01 03:09:53,500] Trial 41 finished with value: -1.0 and parameters: {'nu': 0.020715110311773675, 'gamma': 0.0014444978129990382, 'kernel': 'sigmoid'}. Best is trial 16 with value: 0.7345588235294118.\n",
      "[I 2024-12-01 03:09:53,521] Trial 40 finished with value: -1.0 and parameters: {'nu': 0.020784673959866187, 'gamma': 0.0017220352651650952, 'kernel': 'sigmoid'}. Best is trial 16 with value: 0.7345588235294118.\n",
      "C:\\Users\\azad.aliyev\\AppData\\Local\\Temp\\ipykernel_16688\\3042600700.py:4: FutureWarning: suggest_loguniform has been deprecated in v3.0.0. This feature will be removed in v6.0.0. See https://github.com/optuna/optuna/releases/tag/v3.0.0. Use suggest_float(..., log=True) instead.\n",
      "  gamma = trial.suggest_loguniform(\"gamma\", 1e-3, 1e-1)  # Kernel coefficient\n",
      "[I 2024-12-01 03:09:53,644] Trial 39 finished with value: -1.0 and parameters: {'nu': 0.03303381618607323, 'gamma': 0.0017235026382280516, 'kernel': 'sigmoid'}. Best is trial 16 with value: 0.7345588235294118.\n",
      "C:\\Users\\azad.aliyev\\AppData\\Local\\Temp\\ipykernel_16688\\3042600700.py:4: FutureWarning: suggest_loguniform has been deprecated in v3.0.0. This feature will be removed in v6.0.0. See https://github.com/optuna/optuna/releases/tag/v3.0.0. Use suggest_float(..., log=True) instead.\n",
      "  gamma = trial.suggest_loguniform(\"gamma\", 1e-3, 1e-1)  # Kernel coefficient\n",
      "C:\\Users\\azad.aliyev\\AppData\\Local\\Temp\\ipykernel_16688\\3042600700.py:4: FutureWarning: suggest_loguniform has been deprecated in v3.0.0. This feature will be removed in v6.0.0. See https://github.com/optuna/optuna/releases/tag/v3.0.0. Use suggest_float(..., log=True) instead.\n",
      "  gamma = trial.suggest_loguniform(\"gamma\", 1e-3, 1e-1)  # Kernel coefficient\n",
      "[I 2024-12-01 03:09:53,818] Trial 45 finished with value: 0.7173537512256356 and parameters: {'nu': 0.017031998910753254, 'gamma': 0.009676111447382953, 'kernel': 'poly'}. Best is trial 16 with value: 0.7345588235294118.\n",
      "C:\\Users\\azad.aliyev\\AppData\\Local\\Temp\\ipykernel_16688\\3042600700.py:4: FutureWarning: suggest_loguniform has been deprecated in v3.0.0. This feature will be removed in v6.0.0. See https://github.com/optuna/optuna/releases/tag/v3.0.0. Use suggest_float(..., log=True) instead.\n",
      "  gamma = trial.suggest_loguniform(\"gamma\", 1e-3, 1e-1)  # Kernel coefficient\n",
      "[I 2024-12-01 03:09:54,028] Trial 46 finished with value: 0.7076260257210039 and parameters: {'nu': 0.01807457299987365, 'gamma': 0.012020599045919747, 'kernel': 'poly'}. Best is trial 16 with value: 0.7345588235294118.\n",
      "[I 2024-12-01 03:09:54,048] Trial 43 finished with value: 0.6978799226978095 and parameters: {'nu': 0.018574455918869977, 'gamma': 0.008871403518809245, 'kernel': 'sigmoid'}. Best is trial 16 with value: 0.7345588235294118.\n",
      "C:\\Users\\azad.aliyev\\AppData\\Local\\Temp\\ipykernel_16688\\3042600700.py:4: FutureWarning: suggest_loguniform has been deprecated in v3.0.0. This feature will be removed in v6.0.0. See https://github.com/optuna/optuna/releases/tag/v3.0.0. Use suggest_float(..., log=True) instead.\n",
      "  gamma = trial.suggest_loguniform(\"gamma\", 1e-3, 1e-1)  # Kernel coefficient\n",
      "C:\\Users\\azad.aliyev\\AppData\\Local\\Temp\\ipykernel_16688\\3042600700.py:4: FutureWarning: suggest_loguniform has been deprecated in v3.0.0. This feature will be removed in v6.0.0. See https://github.com/optuna/optuna/releases/tag/v3.0.0. Use suggest_float(..., log=True) instead.\n",
      "  gamma = trial.suggest_loguniform(\"gamma\", 1e-3, 1e-1)  # Kernel coefficient\n",
      "[I 2024-12-01 03:09:54,156] Trial 48 finished with value: 0.7173537512256356 and parameters: {'nu': 0.017568239896970105, 'gamma': 0.012028869193906855, 'kernel': 'poly'}. Best is trial 16 with value: 0.7345588235294118.\n",
      "C:\\Users\\azad.aliyev\\AppData\\Local\\Temp\\ipykernel_16688\\3042600700.py:4: FutureWarning: suggest_loguniform has been deprecated in v3.0.0. This feature will be removed in v6.0.0. See https://github.com/optuna/optuna/releases/tag/v3.0.0. Use suggest_float(..., log=True) instead.\n",
      "  gamma = trial.suggest_loguniform(\"gamma\", 1e-3, 1e-1)  # Kernel coefficient\n",
      "[I 2024-12-01 03:09:54,206] Trial 49 finished with value: 0.703870440151334 and parameters: {'nu': 0.0189388351916532, 'gamma': 0.01048866714551778, 'kernel': 'poly'}. Best is trial 16 with value: 0.7345588235294118.\n",
      "[I 2024-12-01 03:09:54,274] Trial 42 finished with value: -1.0 and parameters: {'nu': 0.021541436366631063, 'gamma': 0.010026591399645441, 'kernel': 'sigmoid'}. Best is trial 16 with value: 0.7345588235294118.\n",
      "C:\\Users\\azad.aliyev\\AppData\\Local\\Temp\\ipykernel_16688\\3042600700.py:4: FutureWarning: suggest_loguniform has been deprecated in v3.0.0. This feature will be removed in v6.0.0. See https://github.com/optuna/optuna/releases/tag/v3.0.0. Use suggest_float(..., log=True) instead.\n",
      "  gamma = trial.suggest_loguniform(\"gamma\", 1e-3, 1e-1)  # Kernel coefficient\n",
      "C:\\Users\\azad.aliyev\\AppData\\Local\\Temp\\ipykernel_16688\\3042600700.py:4: FutureWarning: suggest_loguniform has been deprecated in v3.0.0. This feature will be removed in v6.0.0. See https://github.com/optuna/optuna/releases/tag/v3.0.0. Use suggest_float(..., log=True) instead.\n",
      "  gamma = trial.suggest_loguniform(\"gamma\", 1e-3, 1e-1)  # Kernel coefficient\n",
      "[I 2024-12-01 03:09:54,342] Trial 47 finished with value: 0.7069280744243263 and parameters: {'nu': 0.018390257142826258, 'gamma': 0.013368559186482245, 'kernel': 'poly'}. Best is trial 16 with value: 0.7345588235294118.\n",
      "C:\\Users\\azad.aliyev\\AppData\\Local\\Temp\\ipykernel_16688\\3042600700.py:4: FutureWarning: suggest_loguniform has been deprecated in v3.0.0. This feature will be removed in v6.0.0. See https://github.com/optuna/optuna/releases/tag/v3.0.0. Use suggest_float(..., log=True) instead.\n",
      "  gamma = trial.suggest_loguniform(\"gamma\", 1e-3, 1e-1)  # Kernel coefficient\n",
      "[I 2024-12-01 03:09:54,470] Trial 50 finished with value: 0.7076260257210039 and parameters: {'nu': 0.017707831310949523, 'gamma': 0.007996992969705982, 'kernel': 'poly'}. Best is trial 16 with value: 0.7345588235294118.\n",
      "[I 2024-12-01 03:09:54,478] Trial 51 finished with value: 0.731012771012771 and parameters: {'nu': 0.015212498604465424, 'gamma': 0.01090077669961913, 'kernel': 'poly'}. Best is trial 16 with value: 0.7345588235294118.\n",
      "[I 2024-12-01 03:09:54,488] Trial 54 finished with value: 0.704475685914701 and parameters: {'nu': 0.01786432364123138, 'gamma': 0.01090077775904224, 'kernel': 'poly'}. Best is trial 16 with value: 0.7345588235294118.\n",
      "C:\\Users\\azad.aliyev\\AppData\\Local\\Temp\\ipykernel_16688\\3042600700.py:4: FutureWarning: suggest_loguniform has been deprecated in v3.0.0. This feature will be removed in v6.0.0. See https://github.com/optuna/optuna/releases/tag/v3.0.0. Use suggest_float(..., log=True) instead.\n",
      "  gamma = trial.suggest_loguniform(\"gamma\", 1e-3, 1e-1)  # Kernel coefficient\n",
      "C:\\Users\\azad.aliyev\\AppData\\Local\\Temp\\ipykernel_16688\\3042600700.py:4: FutureWarning: suggest_loguniform has been deprecated in v3.0.0. This feature will be removed in v6.0.0. See https://github.com/optuna/optuna/releases/tag/v3.0.0. Use suggest_float(..., log=True) instead.\n",
      "  gamma = trial.suggest_loguniform(\"gamma\", 1e-3, 1e-1)  # Kernel coefficient\n",
      "C:\\Users\\azad.aliyev\\AppData\\Local\\Temp\\ipykernel_16688\\3042600700.py:4: FutureWarning: suggest_loguniform has been deprecated in v3.0.0. This feature will be removed in v6.0.0. See https://github.com/optuna/optuna/releases/tag/v3.0.0. Use suggest_float(..., log=True) instead.\n",
      "  gamma = trial.suggest_loguniform(\"gamma\", 1e-3, 1e-1)  # Kernel coefficient\n",
      "[I 2024-12-01 03:09:54,651] Trial 55 finished with value: 0.7240808257163397 and parameters: {'nu': 0.014929287261936618, 'gamma': 0.013884631093013194, 'kernel': 'poly'}. Best is trial 16 with value: 0.7345588235294118.\n",
      "[I 2024-12-01 03:09:54,661] Trial 44 finished with value: 0.7076260257210039 and parameters: {'nu': 0.01836825847523004, 'gamma': 0.011593302227879392, 'kernel': 'poly'}. Best is trial 16 with value: 0.7345588235294118.\n",
      "[I 2024-12-01 03:09:54,702] Trial 52 finished with value: 0.7240808257163397 and parameters: {'nu': 0.01537428789166857, 'gamma': 0.011005729933870903, 'kernel': 'poly'}. Best is trial 16 with value: 0.7345588235294118.\n",
      "C:\\Users\\azad.aliyev\\AppData\\Local\\Temp\\ipykernel_16688\\3042600700.py:4: FutureWarning: suggest_loguniform has been deprecated in v3.0.0. This feature will be removed in v6.0.0. See https://github.com/optuna/optuna/releases/tag/v3.0.0. Use suggest_float(..., log=True) instead.\n",
      "  gamma = trial.suggest_loguniform(\"gamma\", 1e-3, 1e-1)  # Kernel coefficient\n",
      "C:\\Users\\azad.aliyev\\AppData\\Local\\Temp\\ipykernel_16688\\3042600700.py:4: FutureWarning: suggest_loguniform has been deprecated in v3.0.0. This feature will be removed in v6.0.0. See https://github.com/optuna/optuna/releases/tag/v3.0.0. Use suggest_float(..., log=True) instead.\n",
      "  gamma = trial.suggest_loguniform(\"gamma\", 1e-3, 1e-1)  # Kernel coefficient\n",
      "C:\\Users\\azad.aliyev\\AppData\\Local\\Temp\\ipykernel_16688\\3042600700.py:4: FutureWarning: suggest_loguniform has been deprecated in v3.0.0. This feature will be removed in v6.0.0. See https://github.com/optuna/optuna/releases/tag/v3.0.0. Use suggest_float(..., log=True) instead.\n",
      "  gamma = trial.suggest_loguniform(\"gamma\", 1e-3, 1e-1)  # Kernel coefficient\n",
      "[I 2024-12-01 03:09:54,825] Trial 53 finished with value: 0.731012771012771 and parameters: {'nu': 0.01438267034087436, 'gamma': 0.01182717092937624, 'kernel': 'poly'}. Best is trial 16 with value: 0.7345588235294118.\n",
      "[I 2024-12-01 03:09:54,864] Trial 56 finished with value: 0.7275205503524312 and parameters: {'nu': 0.014458698418392531, 'gamma': 0.015335129143486672, 'kernel': 'poly'}. Best is trial 16 with value: 0.7345588235294118.\n",
      "C:\\Users\\azad.aliyev\\AppData\\Local\\Temp\\ipykernel_16688\\3042600700.py:4: FutureWarning: suggest_loguniform has been deprecated in v3.0.0. This feature will be removed in v6.0.0. See https://github.com/optuna/optuna/releases/tag/v3.0.0. Use suggest_float(..., log=True) instead.\n",
      "  gamma = trial.suggest_loguniform(\"gamma\", 1e-3, 1e-1)  # Kernel coefficient\n",
      "[I 2024-12-01 03:09:54,897] Trial 58 finished with value: -1.0 and parameters: {'nu': 0.026420460427927638, 'gamma': 0.020545771117969073, 'kernel': 'poly'}. Best is trial 16 with value: 0.7345588235294118.\n",
      "C:\\Users\\azad.aliyev\\AppData\\Local\\Temp\\ipykernel_16688\\3042600700.py:4: FutureWarning: suggest_loguniform has been deprecated in v3.0.0. This feature will be removed in v6.0.0. See https://github.com/optuna/optuna/releases/tag/v3.0.0. Use suggest_float(..., log=True) instead.\n",
      "  gamma = trial.suggest_loguniform(\"gamma\", 1e-3, 1e-1)  # Kernel coefficient\n",
      "[I 2024-12-01 03:09:54,918] Trial 59 finished with value: 0.7275205503524312 and parameters: {'nu': 0.014410565091413396, 'gamma': 0.018647118979443295, 'kernel': 'poly'}. Best is trial 16 with value: 0.7345588235294118.\n",
      "[I 2024-12-01 03:09:54,979] Trial 60 finished with value: 0.7275205503524312 and parameters: {'nu': 0.014371743079525948, 'gamma': 0.01996558984371003, 'kernel': 'poly'}. Best is trial 16 with value: 0.7345588235294118.\n",
      "C:\\Users\\azad.aliyev\\AppData\\Local\\Temp\\ipykernel_16688\\3042600700.py:4: FutureWarning: suggest_loguniform has been deprecated in v3.0.0. This feature will be removed in v6.0.0. See https://github.com/optuna/optuna/releases/tag/v3.0.0. Use suggest_float(..., log=True) instead.\n",
      "  gamma = trial.suggest_loguniform(\"gamma\", 1e-3, 1e-1)  # Kernel coefficient\n",
      "C:\\Users\\azad.aliyev\\AppData\\Local\\Temp\\ipykernel_16688\\3042600700.py:4: FutureWarning: suggest_loguniform has been deprecated in v3.0.0. This feature will be removed in v6.0.0. See https://github.com/optuna/optuna/releases/tag/v3.0.0. Use suggest_float(..., log=True) instead.\n",
      "  gamma = trial.suggest_loguniform(\"gamma\", 1e-3, 1e-1)  # Kernel coefficient\n",
      "C:\\Users\\azad.aliyev\\AppData\\Local\\Temp\\ipykernel_16688\\3042600700.py:4: FutureWarning: suggest_loguniform has been deprecated in v3.0.0. This feature will be removed in v6.0.0. See https://github.com/optuna/optuna/releases/tag/v3.0.0. Use suggest_float(..., log=True) instead.\n",
      "  gamma = trial.suggest_loguniform(\"gamma\", 1e-3, 1e-1)  # Kernel coefficient\n",
      "[I 2024-12-01 03:09:55,345] Trial 57 finished with value: -1.0 and parameters: {'nu': 0.025369573591577543, 'gamma': 0.014931146831632195, 'kernel': 'poly'}. Best is trial 16 with value: 0.7345588235294118.\n",
      "C:\\Users\\azad.aliyev\\AppData\\Local\\Temp\\ipykernel_16688\\3042600700.py:4: FutureWarning: suggest_loguniform has been deprecated in v3.0.0. This feature will be removed in v6.0.0. See https://github.com/optuna/optuna/releases/tag/v3.0.0. Use suggest_float(..., log=True) instead.\n",
      "  gamma = trial.suggest_loguniform(\"gamma\", 1e-3, 1e-1)  # Kernel coefficient\n",
      "[I 2024-12-01 03:09:55,507] Trial 61 finished with value: -1.0 and parameters: {'nu': 0.027276517060435414, 'gamma': 0.017665906083144868, 'kernel': 'poly'}. Best is trial 16 with value: 0.7345588235294118.\n",
      "C:\\Users\\azad.aliyev\\AppData\\Local\\Temp\\ipykernel_16688\\3042600700.py:4: FutureWarning: suggest_loguniform has been deprecated in v3.0.0. This feature will be removed in v6.0.0. See https://github.com/optuna/optuna/releases/tag/v3.0.0. Use suggest_float(..., log=True) instead.\n",
      "  gamma = trial.suggest_loguniform(\"gamma\", 1e-3, 1e-1)  # Kernel coefficient\n",
      "[I 2024-12-01 03:09:55,651] Trial 63 finished with value: -1.0 and parameters: {'nu': 0.02645723214227349, 'gamma': 0.019223227866534454, 'kernel': 'poly'}. Best is trial 16 with value: 0.7345588235294118.\n",
      "C:\\Users\\azad.aliyev\\AppData\\Local\\Temp\\ipykernel_16688\\3042600700.py:4: FutureWarning: suggest_loguniform has been deprecated in v3.0.0. This feature will be removed in v6.0.0. See https://github.com/optuna/optuna/releases/tag/v3.0.0. Use suggest_float(..., log=True) instead.\n",
      "  gamma = trial.suggest_loguniform(\"gamma\", 1e-3, 1e-1)  # Kernel coefficient\n",
      "[I 2024-12-01 03:09:55,861] Trial 62 finished with value: -1.0 and parameters: {'nu': 0.02611437677892294, 'gamma': 0.019487128538977674, 'kernel': 'poly'}. Best is trial 16 with value: 0.7345588235294118.\n",
      "C:\\Users\\azad.aliyev\\AppData\\Local\\Temp\\ipykernel_16688\\3042600700.py:4: FutureWarning: suggest_loguniform has been deprecated in v3.0.0. This feature will be removed in v6.0.0. See https://github.com/optuna/optuna/releases/tag/v3.0.0. Use suggest_float(..., log=True) instead.\n",
      "  gamma = trial.suggest_loguniform(\"gamma\", 1e-3, 1e-1)  # Kernel coefficient\n",
      "[I 2024-12-01 03:09:55,909] Trial 72 finished with value: 0.7345588235294118 and parameters: {'nu': 0.013070727581961553, 'gamma': 0.018092544346373297, 'kernel': 'poly'}. Best is trial 16 with value: 0.7345588235294118.\n",
      "[I 2024-12-01 03:09:55,974] Trial 69 finished with value: 0.731012771012771 and parameters: {'nu': 0.013262287014848707, 'gamma': 0.018087615007383664, 'kernel': 'poly'}. Best is trial 16 with value: 0.7345588235294118.\n",
      "C:\\Users\\azad.aliyev\\AppData\\Local\\Temp\\ipykernel_16688\\3042600700.py:4: FutureWarning: suggest_loguniform has been deprecated in v3.0.0. This feature will be removed in v6.0.0. See https://github.com/optuna/optuna/releases/tag/v3.0.0. Use suggest_float(..., log=True) instead.\n",
      "  gamma = trial.suggest_loguniform(\"gamma\", 1e-3, 1e-1)  # Kernel coefficient\n",
      "C:\\Users\\azad.aliyev\\AppData\\Local\\Temp\\ipykernel_16688\\3042600700.py:4: FutureWarning: suggest_loguniform has been deprecated in v3.0.0. This feature will be removed in v6.0.0. See https://github.com/optuna/optuna/releases/tag/v3.0.0. Use suggest_float(..., log=True) instead.\n",
      "  gamma = trial.suggest_loguniform(\"gamma\", 1e-3, 1e-1)  # Kernel coefficient\n",
      "[I 2024-12-01 03:09:56,132] Trial 64 finished with value: -1.0 and parameters: {'nu': 0.026921212339719593, 'gamma': 0.017938850604012874, 'kernel': 'poly'}. Best is trial 16 with value: 0.7345588235294118.\n",
      "[I 2024-12-01 03:09:56,172] Trial 68 finished with value: -1.0 and parameters: {'nu': 0.025594275148913714, 'gamma': 0.017610365521394753, 'kernel': 'poly'}. Best is trial 16 with value: 0.7345588235294118.\n",
      "C:\\Users\\azad.aliyev\\AppData\\Local\\Temp\\ipykernel_16688\\3042600700.py:4: FutureWarning: suggest_loguniform has been deprecated in v3.0.0. This feature will be removed in v6.0.0. See https://github.com/optuna/optuna/releases/tag/v3.0.0. Use suggest_float(..., log=True) instead.\n",
      "  gamma = trial.suggest_loguniform(\"gamma\", 1e-3, 1e-1)  # Kernel coefficient\n",
      "[I 2024-12-01 03:09:56,244] Trial 65 finished with value: -1.0 and parameters: {'nu': 0.02534000919904222, 'gamma': 0.016710798712774304, 'kernel': 'poly'}. Best is trial 16 with value: 0.7345588235294118.\n",
      "C:\\Users\\azad.aliyev\\AppData\\Local\\Temp\\ipykernel_16688\\3042600700.py:4: FutureWarning: suggest_loguniform has been deprecated in v3.0.0. This feature will be removed in v6.0.0. See https://github.com/optuna/optuna/releases/tag/v3.0.0. Use suggest_float(..., log=True) instead.\n",
      "  gamma = trial.suggest_loguniform(\"gamma\", 1e-3, 1e-1)  # Kernel coefficient\n",
      "C:\\Users\\azad.aliyev\\AppData\\Local\\Temp\\ipykernel_16688\\3042600700.py:4: FutureWarning: suggest_loguniform has been deprecated in v3.0.0. This feature will be removed in v6.0.0. See https://github.com/optuna/optuna/releases/tag/v3.0.0. Use suggest_float(..., log=True) instead.\n",
      "  gamma = trial.suggest_loguniform(\"gamma\", 1e-3, 1e-1)  # Kernel coefficient\n",
      "[I 2024-12-01 03:09:56,430] Trial 67 finished with value: -1.0 and parameters: {'nu': 0.026633072957905617, 'gamma': 0.017521200845942983, 'kernel': 'poly'}. Best is trial 16 with value: 0.7345588235294118.\n",
      "[I 2024-12-01 03:09:56,430] Trial 73 finished with value: 0.731012771012771 and parameters: {'nu': 0.013469631132757147, 'gamma': 0.03121453491495878, 'kernel': 'poly'}. Best is trial 16 with value: 0.7345588235294118.\n",
      "C:\\Users\\azad.aliyev\\AppData\\Local\\Temp\\ipykernel_16688\\3042600700.py:4: FutureWarning: suggest_loguniform has been deprecated in v3.0.0. This feature will be removed in v6.0.0. See https://github.com/optuna/optuna/releases/tag/v3.0.0. Use suggest_float(..., log=True) instead.\n",
      "  gamma = trial.suggest_loguniform(\"gamma\", 1e-3, 1e-1)  # Kernel coefficient\n",
      "C:\\Users\\azad.aliyev\\AppData\\Local\\Temp\\ipykernel_16688\\3042600700.py:4: FutureWarning: suggest_loguniform has been deprecated in v3.0.0. This feature will be removed in v6.0.0. See https://github.com/optuna/optuna/releases/tag/v3.0.0. Use suggest_float(..., log=True) instead.\n",
      "  gamma = trial.suggest_loguniform(\"gamma\", 1e-3, 1e-1)  # Kernel coefficient\n",
      "[I 2024-12-01 03:09:56,581] Trial 66 finished with value: -1.0 and parameters: {'nu': 0.026962327292145885, 'gamma': 0.01699312291725687, 'kernel': 'poly'}. Best is trial 16 with value: 0.7345588235294118.\n",
      "[I 2024-12-01 03:09:56,581] Trial 75 finished with value: 0.731012771012771 and parameters: {'nu': 0.013437636987258923, 'gamma': 0.02652547975278317, 'kernel': 'poly'}. Best is trial 16 with value: 0.7345588235294118.\n",
      "[I 2024-12-01 03:09:56,591] Trial 70 finished with value: -1.0 and parameters: {'nu': 0.038786058733858014, 'gamma': 0.01703071207609548, 'kernel': 'poly'}. Best is trial 16 with value: 0.7345588235294118.\n",
      "C:\\Users\\azad.aliyev\\AppData\\Local\\Temp\\ipykernel_16688\\3042600700.py:4: FutureWarning: suggest_loguniform has been deprecated in v3.0.0. This feature will be removed in v6.0.0. See https://github.com/optuna/optuna/releases/tag/v3.0.0. Use suggest_float(..., log=True) instead.\n",
      "  gamma = trial.suggest_loguniform(\"gamma\", 1e-3, 1e-1)  # Kernel coefficient\n",
      "[I 2024-12-01 03:09:56,630] Trial 77 finished with value: 0.7455340735202667 and parameters: {'nu': 0.01009083483247028, 'gamma': 0.027519652136032576, 'kernel': 'poly'}. Best is trial 77 with value: 0.7455340735202667.\n",
      "[I 2024-12-01 03:09:56,632] Trial 71 finished with value: -1.0 and parameters: {'nu': 0.026773172772335777, 'gamma': 0.01622444916341003, 'kernel': 'poly'}. Best is trial 77 with value: 0.7455340735202667.\n",
      "C:\\Users\\azad.aliyev\\AppData\\Local\\Temp\\ipykernel_16688\\3042600700.py:4: FutureWarning: suggest_loguniform has been deprecated in v3.0.0. This feature will be removed in v6.0.0. See https://github.com/optuna/optuna/releases/tag/v3.0.0. Use suggest_float(..., log=True) instead.\n",
      "  gamma = trial.suggest_loguniform(\"gamma\", 1e-3, 1e-1)  # Kernel coefficient\n",
      "C:\\Users\\azad.aliyev\\AppData\\Local\\Temp\\ipykernel_16688\\3042600700.py:4: FutureWarning: suggest_loguniform has been deprecated in v3.0.0. This feature will be removed in v6.0.0. See https://github.com/optuna/optuna/releases/tag/v3.0.0. Use suggest_float(..., log=True) instead.\n",
      "  gamma = trial.suggest_loguniform(\"gamma\", 1e-3, 1e-1)  # Kernel coefficient\n",
      "[I 2024-12-01 03:09:56,782] Trial 76 finished with value: 0.731012771012771 and parameters: {'nu': 0.013620693647219202, 'gamma': 0.02733327110053743, 'kernel': 'poly'}. Best is trial 77 with value: 0.7455340735202667.\n",
      "C:\\Users\\azad.aliyev\\AppData\\Local\\Temp\\ipykernel_16688\\3042600700.py:4: FutureWarning: suggest_loguniform has been deprecated in v3.0.0. This feature will be removed in v6.0.0. See https://github.com/optuna/optuna/releases/tag/v3.0.0. Use suggest_float(..., log=True) instead.\n",
      "  gamma = trial.suggest_loguniform(\"gamma\", 1e-3, 1e-1)  # Kernel coefficient\n",
      "C:\\Users\\azad.aliyev\\AppData\\Local\\Temp\\ipykernel_16688\\3042600700.py:4: FutureWarning: suggest_loguniform has been deprecated in v3.0.0. This feature will be removed in v6.0.0. See https://github.com/optuna/optuna/releases/tag/v3.0.0. Use suggest_float(..., log=True) instead.\n",
      "  gamma = trial.suggest_loguniform(\"gamma\", 1e-3, 1e-1)  # Kernel coefficient\n",
      "[I 2024-12-01 03:09:56,915] Trial 74 finished with value: -1.0 and parameters: {'nu': 0.03811282977740363, 'gamma': 0.027199982302122595, 'kernel': 'poly'}. Best is trial 77 with value: 0.7455340735202667.\n",
      "C:\\Users\\azad.aliyev\\AppData\\Local\\Temp\\ipykernel_16688\\3042600700.py:4: FutureWarning: suggest_loguniform has been deprecated in v3.0.0. This feature will be removed in v6.0.0. See https://github.com/optuna/optuna/releases/tag/v3.0.0. Use suggest_float(..., log=True) instead.\n",
      "  gamma = trial.suggest_loguniform(\"gamma\", 1e-3, 1e-1)  # Kernel coefficient\n",
      "[I 2024-12-01 03:09:57,079] Trial 80 finished with value: 0.7345588235294118 and parameters: {'nu': 0.012098204448935633, 'gamma': 0.026916904202372707, 'kernel': 'poly'}. Best is trial 77 with value: 0.7455340735202667.\n",
      "[I 2024-12-01 03:09:57,081] Trial 79 finished with value: -1.0 and parameters: {'nu': 0.022756951996004405, 'gamma': 0.027136444770510113, 'kernel': 'poly'}. Best is trial 77 with value: 0.7455340735202667.\n",
      "C:\\Users\\azad.aliyev\\AppData\\Local\\Temp\\ipykernel_16688\\3042600700.py:4: FutureWarning: suggest_loguniform has been deprecated in v3.0.0. This feature will be removed in v6.0.0. See https://github.com/optuna/optuna/releases/tag/v3.0.0. Use suggest_float(..., log=True) instead.\n",
      "  gamma = trial.suggest_loguniform(\"gamma\", 1e-3, 1e-1)  # Kernel coefficient\n",
      "C:\\Users\\azad.aliyev\\AppData\\Local\\Temp\\ipykernel_16688\\3042600700.py:4: FutureWarning: suggest_loguniform has been deprecated in v3.0.0. This feature will be removed in v6.0.0. See https://github.com/optuna/optuna/releases/tag/v3.0.0. Use suggest_float(..., log=True) instead.\n",
      "  gamma = trial.suggest_loguniform(\"gamma\", 1e-3, 1e-1)  # Kernel coefficient\n",
      "[I 2024-12-01 03:09:57,278] Trial 81 finished with value: 0.7345588235294118 and parameters: {'nu': 0.012569933606970682, 'gamma': 0.028030998445426933, 'kernel': 'poly'}. Best is trial 77 with value: 0.7455340735202667.\n",
      "C:\\Users\\azad.aliyev\\AppData\\Local\\Temp\\ipykernel_16688\\3042600700.py:4: FutureWarning: suggest_loguniform has been deprecated in v3.0.0. This feature will be removed in v6.0.0. See https://github.com/optuna/optuna/releases/tag/v3.0.0. Use suggest_float(..., log=True) instead.\n",
      "  gamma = trial.suggest_loguniform(\"gamma\", 1e-3, 1e-1)  # Kernel coefficient\n",
      "[I 2024-12-01 03:09:57,346] Trial 82 finished with value: 0.7345588235294118 and parameters: {'nu': 0.012616648590387365, 'gamma': 0.026127216609918683, 'kernel': 'poly'}. Best is trial 77 with value: 0.7455340735202667.\n",
      "C:\\Users\\azad.aliyev\\AppData\\Local\\Temp\\ipykernel_16688\\3042600700.py:4: FutureWarning: suggest_loguniform has been deprecated in v3.0.0. This feature will be removed in v6.0.0. See https://github.com/optuna/optuna/releases/tag/v3.0.0. Use suggest_float(..., log=True) instead.\n",
      "  gamma = trial.suggest_loguniform(\"gamma\", 1e-3, 1e-1)  # Kernel coefficient\n",
      "[I 2024-12-01 03:09:57,439] Trial 78 finished with value: 0.7345588235294118 and parameters: {'nu': 0.012627982000511757, 'gamma': 0.026163774168340828, 'kernel': 'poly'}. Best is trial 77 with value: 0.7455340735202667.\n",
      "[I 2024-12-01 03:09:57,479] Trial 90 finished with value: 0.741818012768859 and parameters: {'nu': 0.01129166986558384, 'gamma': 0.03423922107043154, 'kernel': 'poly'}. Best is trial 77 with value: 0.7455340735202667.\n",
      "[I 2024-12-01 03:09:57,489] Trial 84 finished with value: 0.7345588235294118 and parameters: {'nu': 0.01190540967078877, 'gamma': 0.02941582480573635, 'kernel': 'poly'}. Best is trial 77 with value: 0.7455340735202667.\n",
      "C:\\Users\\azad.aliyev\\AppData\\Local\\Temp\\ipykernel_16688\\3042600700.py:4: FutureWarning: suggest_loguniform has been deprecated in v3.0.0. This feature will be removed in v6.0.0. See https://github.com/optuna/optuna/releases/tag/v3.0.0. Use suggest_float(..., log=True) instead.\n",
      "  gamma = trial.suggest_loguniform(\"gamma\", 1e-3, 1e-1)  # Kernel coefficient\n",
      "[I 2024-12-01 03:09:57,591] Trial 86 finished with value: 0.7345588235294118 and parameters: {'nu': 0.011797349008905719, 'gamma': 0.0282762149985028, 'kernel': 'poly'}. Best is trial 77 with value: 0.7455340735202667.\n",
      "C:\\Users\\azad.aliyev\\AppData\\Local\\Temp\\ipykernel_16688\\3042600700.py:4: FutureWarning: suggest_loguniform has been deprecated in v3.0.0. This feature will be removed in v6.0.0. See https://github.com/optuna/optuna/releases/tag/v3.0.0. Use suggest_float(..., log=True) instead.\n",
      "  gamma = trial.suggest_loguniform(\"gamma\", 1e-3, 1e-1)  # Kernel coefficient\n",
      "C:\\Users\\azad.aliyev\\AppData\\Local\\Temp\\ipykernel_16688\\3042600700.py:4: FutureWarning: suggest_loguniform has been deprecated in v3.0.0. This feature will be removed in v6.0.0. See https://github.com/optuna/optuna/releases/tag/v3.0.0. Use suggest_float(..., log=True) instead.\n",
      "  gamma = trial.suggest_loguniform(\"gamma\", 1e-3, 1e-1)  # Kernel coefficient\n",
      "[I 2024-12-01 03:09:57,672] Trial 88 finished with value: 0.741818012768859 and parameters: {'nu': 0.01089889795926672, 'gamma': 0.04119973324211311, 'kernel': 'poly'}. Best is trial 77 with value: 0.7455340735202667.\n",
      "[I 2024-12-01 03:09:57,733] Trial 85 finished with value: 0.7345588235294118 and parameters: {'nu': 0.012156700445869749, 'gamma': 0.02582568284520868, 'kernel': 'poly'}. Best is trial 77 with value: 0.7455340735202667.\n",
      "C:\\Users\\azad.aliyev\\AppData\\Local\\Temp\\ipykernel_16688\\3042600700.py:4: FutureWarning: suggest_loguniform has been deprecated in v3.0.0. This feature will be removed in v6.0.0. See https://github.com/optuna/optuna/releases/tag/v3.0.0. Use suggest_float(..., log=True) instead.\n",
      "  gamma = trial.suggest_loguniform(\"gamma\", 1e-3, 1e-1)  # Kernel coefficient\n",
      "[I 2024-12-01 03:09:57,743] Trial 89 finished with value: 0.741818012768859 and parameters: {'nu': 0.011472661519848467, 'gamma': 0.038658346880641, 'kernel': 'poly'}. Best is trial 77 with value: 0.7455340735202667.\n",
      "C:\\Users\\azad.aliyev\\AppData\\Local\\Temp\\ipykernel_16688\\3042600700.py:4: FutureWarning: suggest_loguniform has been deprecated in v3.0.0. This feature will be removed in v6.0.0. See https://github.com/optuna/optuna/releases/tag/v3.0.0. Use suggest_float(..., log=True) instead.\n",
      "  gamma = trial.suggest_loguniform(\"gamma\", 1e-3, 1e-1)  # Kernel coefficient\n",
      "[I 2024-12-01 03:09:57,835] Trial 83 finished with value: 0.7345588235294118 and parameters: {'nu': 0.011929549668588658, 'gamma': 0.0295972304724338, 'kernel': 'poly'}. Best is trial 77 with value: 0.7455340735202667.\n",
      "C:\\Users\\azad.aliyev\\AppData\\Local\\Temp\\ipykernel_16688\\3042600700.py:4: FutureWarning: suggest_loguniform has been deprecated in v3.0.0. This feature will be removed in v6.0.0. See https://github.com/optuna/optuna/releases/tag/v3.0.0. Use suggest_float(..., log=True) instead.\n",
      "  gamma = trial.suggest_loguniform(\"gamma\", 1e-3, 1e-1)  # Kernel coefficient\n",
      "[I 2024-12-01 03:09:57,865] Trial 87 finished with value: 0.7381600923348497 and parameters: {'nu': 0.011559569178526777, 'gamma': 0.03343302105942367, 'kernel': 'poly'}. Best is trial 77 with value: 0.7455340735202667.\n",
      "[I 2024-12-01 03:09:57,936] Trial 91 finished with value: 0.741818012768859 and parameters: {'nu': 0.01062402294746387, 'gamma': 0.04198264191952079, 'kernel': 'poly'}. Best is trial 77 with value: 0.7455340735202667.\n",
      "C:\\Users\\azad.aliyev\\AppData\\Local\\Temp\\ipykernel_16688\\3042600700.py:4: FutureWarning: suggest_loguniform has been deprecated in v3.0.0. This feature will be removed in v6.0.0. See https://github.com/optuna/optuna/releases/tag/v3.0.0. Use suggest_float(..., log=True) instead.\n",
      "  gamma = trial.suggest_loguniform(\"gamma\", 1e-3, 1e-1)  # Kernel coefficient\n",
      "C:\\Users\\azad.aliyev\\AppData\\Local\\Temp\\ipykernel_16688\\3042600700.py:4: FutureWarning: suggest_loguniform has been deprecated in v3.0.0. This feature will be removed in v6.0.0. See https://github.com/optuna/optuna/releases/tag/v3.0.0. Use suggest_float(..., log=True) instead.\n",
      "  gamma = trial.suggest_loguniform(\"gamma\", 1e-3, 1e-1)  # Kernel coefficient\n",
      "C:\\Users\\azad.aliyev\\AppData\\Local\\Temp\\ipykernel_16688\\3042600700.py:4: FutureWarning: suggest_loguniform has been deprecated in v3.0.0. This feature will be removed in v6.0.0. See https://github.com/optuna/optuna/releases/tag/v3.0.0. Use suggest_float(..., log=True) instead.\n",
      "  gamma = trial.suggest_loguniform(\"gamma\", 1e-3, 1e-1)  # Kernel coefficient\n",
      "[I 2024-12-01 03:09:58,156] Trial 96 finished with value: 0.741818012768859 and parameters: {'nu': 0.011069833095721562, 'gamma': 0.0424077278030228, 'kernel': 'poly'}. Best is trial 77 with value: 0.7455340735202667.\n",
      "C:\\Users\\azad.aliyev\\AppData\\Local\\Temp\\ipykernel_16688\\3042600700.py:4: FutureWarning: suggest_loguniform has been deprecated in v3.0.0. This feature will be removed in v6.0.0. See https://github.com/optuna/optuna/releases/tag/v3.0.0. Use suggest_float(..., log=True) instead.\n",
      "  gamma = trial.suggest_loguniform(\"gamma\", 1e-3, 1e-1)  # Kernel coefficient\n",
      "[I 2024-12-01 03:09:58,274] Trial 93 finished with value: 0.7455340735202667 and parameters: {'nu': 0.010107441615609346, 'gamma': 0.03791716348143272, 'kernel': 'poly'}. Best is trial 77 with value: 0.7455340735202667.\n",
      "C:\\Users\\azad.aliyev\\AppData\\Local\\Temp\\ipykernel_16688\\3042600700.py:4: FutureWarning: suggest_loguniform has been deprecated in v3.0.0. This feature will be removed in v6.0.0. See https://github.com/optuna/optuna/releases/tag/v3.0.0. Use suggest_float(..., log=True) instead.\n",
      "  gamma = trial.suggest_loguniform(\"gamma\", 1e-3, 1e-1)  # Kernel coefficient\n",
      "[I 2024-12-01 03:09:58,345] Trial 99 finished with value: 0.7455340735202667 and parameters: {'nu': 0.010074241785738411, 'gamma': 0.039345721199205805, 'kernel': 'poly'}. Best is trial 77 with value: 0.7455340735202667.\n",
      "[I 2024-12-01 03:09:58,403] Trial 97 finished with value: 0.741818012768859 and parameters: {'nu': 0.011234526086357322, 'gamma': 0.042793714840119026, 'kernel': 'poly'}. Best is trial 77 with value: 0.7455340735202667.\n",
      "[I 2024-12-01 03:09:58,405] Trial 92 finished with value: 0.7455340735202667 and parameters: {'nu': 0.010340168446315611, 'gamma': 0.036934957063758794, 'kernel': 'poly'}. Best is trial 77 with value: 0.7455340735202667.\n",
      "C:\\Users\\azad.aliyev\\AppData\\Local\\Temp\\ipykernel_16688\\3042600700.py:4: FutureWarning: suggest_loguniform has been deprecated in v3.0.0. This feature will be removed in v6.0.0. See https://github.com/optuna/optuna/releases/tag/v3.0.0. Use suggest_float(..., log=True) instead.\n",
      "  gamma = trial.suggest_loguniform(\"gamma\", 1e-3, 1e-1)  # Kernel coefficient\n",
      "[I 2024-12-01 03:09:58,416] Trial 98 finished with value: 0.7455340735202667 and parameters: {'nu': 0.010307186311700536, 'gamma': 0.038819566898049156, 'kernel': 'poly'}. Best is trial 77 with value: 0.7455340735202667.\n",
      "[I 2024-12-01 03:09:58,475] Trial 94 finished with value: 0.7455340735202667 and parameters: {'nu': 0.010184126602979338, 'gamma': 0.03834670350814323, 'kernel': 'poly'}. Best is trial 77 with value: 0.7455340735202667.\n",
      "C:\\Users\\azad.aliyev\\AppData\\Local\\Temp\\ipykernel_16688\\3042600700.py:4: FutureWarning: suggest_loguniform has been deprecated in v3.0.0. This feature will be removed in v6.0.0. See https://github.com/optuna/optuna/releases/tag/v3.0.0. Use suggest_float(..., log=True) instead.\n",
      "  gamma = trial.suggest_loguniform(\"gamma\", 1e-3, 1e-1)  # Kernel coefficient\n",
      "C:\\Users\\azad.aliyev\\AppData\\Local\\Temp\\ipykernel_16688\\3042600700.py:4: FutureWarning: suggest_loguniform has been deprecated in v3.0.0. This feature will be removed in v6.0.0. See https://github.com/optuna/optuna/releases/tag/v3.0.0. Use suggest_float(..., log=True) instead.\n",
      "  gamma = trial.suggest_loguniform(\"gamma\", 1e-3, 1e-1)  # Kernel coefficient\n",
      "[I 2024-12-01 03:09:58,522] Trial 100 finished with value: 0.7455340735202667 and parameters: {'nu': 0.010266360283185155, 'gamma': 0.044748014137147706, 'kernel': 'poly'}. Best is trial 77 with value: 0.7455340735202667.\n",
      "C:\\Users\\azad.aliyev\\AppData\\Local\\Temp\\ipykernel_16688\\3042600700.py:4: FutureWarning: suggest_loguniform has been deprecated in v3.0.0. This feature will be removed in v6.0.0. See https://github.com/optuna/optuna/releases/tag/v3.0.0. Use suggest_float(..., log=True) instead.\n",
      "  gamma = trial.suggest_loguniform(\"gamma\", 1e-3, 1e-1)  # Kernel coefficient\n",
      "[I 2024-12-01 03:09:58,604] Trial 103 finished with value: 0.741818012768859 and parameters: {'nu': 0.01050216762603082, 'gamma': 0.03931297455055011, 'kernel': 'poly'}. Best is trial 77 with value: 0.7455340735202667.\n",
      "C:\\Users\\azad.aliyev\\AppData\\Local\\Temp\\ipykernel_16688\\3042600700.py:4: FutureWarning: suggest_loguniform has been deprecated in v3.0.0. This feature will be removed in v6.0.0. See https://github.com/optuna/optuna/releases/tag/v3.0.0. Use suggest_float(..., log=True) instead.\n",
      "  gamma = trial.suggest_loguniform(\"gamma\", 1e-3, 1e-1)  # Kernel coefficient\n",
      "C:\\Users\\azad.aliyev\\AppData\\Local\\Temp\\ipykernel_16688\\3042600700.py:4: FutureWarning: suggest_loguniform has been deprecated in v3.0.0. This feature will be removed in v6.0.0. See https://github.com/optuna/optuna/releases/tag/v3.0.0. Use suggest_float(..., log=True) instead.\n",
      "  gamma = trial.suggest_loguniform(\"gamma\", 1e-3, 1e-1)  # Kernel coefficient\n",
      "C:\\Users\\azad.aliyev\\AppData\\Local\\Temp\\ipykernel_16688\\3042600700.py:4: FutureWarning: suggest_loguniform has been deprecated in v3.0.0. This feature will be removed in v6.0.0. See https://github.com/optuna/optuna/releases/tag/v3.0.0. Use suggest_float(..., log=True) instead.\n",
      "  gamma = trial.suggest_loguniform(\"gamma\", 1e-3, 1e-1)  # Kernel coefficient\n",
      "[I 2024-12-01 03:09:58,686] Trial 95 finished with value: 0.741818012768859 and parameters: {'nu': 0.011368906521870628, 'gamma': 0.040215121172656715, 'kernel': 'poly'}. Best is trial 77 with value: 0.7455340735202667.\n",
      "[I 2024-12-01 03:09:58,724] Trial 101 finished with value: 0.7455340735202667 and parameters: {'nu': 0.01008633891832012, 'gamma': 0.0386244982511003, 'kernel': 'poly'}. Best is trial 77 with value: 0.7455340735202667.\n",
      "C:\\Users\\azad.aliyev\\AppData\\Local\\Temp\\ipykernel_16688\\3042600700.py:4: FutureWarning: suggest_loguniform has been deprecated in v3.0.0. This feature will be removed in v6.0.0. See https://github.com/optuna/optuna/releases/tag/v3.0.0. Use suggest_float(..., log=True) instead.\n",
      "  gamma = trial.suggest_loguniform(\"gamma\", 1e-3, 1e-1)  # Kernel coefficient\n",
      "[I 2024-12-01 03:09:58,793] Trial 104 finished with value: 0.741818012768859 and parameters: {'nu': 0.010695937129435147, 'gamma': 0.04195813209255828, 'kernel': 'poly'}. Best is trial 77 with value: 0.7455340735202667.\n",
      "[I 2024-12-01 03:09:58,880] Trial 106 finished with value: 0.741818012768859 and parameters: {'nu': 0.010345887671546919, 'gamma': 0.060751894670059335, 'kernel': 'poly'}. Best is trial 77 with value: 0.7455340735202667.\n",
      "C:\\Users\\azad.aliyev\\AppData\\Local\\Temp\\ipykernel_16688\\3042600700.py:4: FutureWarning: suggest_loguniform has been deprecated in v3.0.0. This feature will be removed in v6.0.0. See https://github.com/optuna/optuna/releases/tag/v3.0.0. Use suggest_float(..., log=True) instead.\n",
      "  gamma = trial.suggest_loguniform(\"gamma\", 1e-3, 1e-1)  # Kernel coefficient\n",
      "C:\\Users\\azad.aliyev\\AppData\\Local\\Temp\\ipykernel_16688\\3042600700.py:4: FutureWarning: suggest_loguniform has been deprecated in v3.0.0. This feature will be removed in v6.0.0. See https://github.com/optuna/optuna/releases/tag/v3.0.0. Use suggest_float(..., log=True) instead.\n",
      "  gamma = trial.suggest_loguniform(\"gamma\", 1e-3, 1e-1)  # Kernel coefficient\n",
      "[I 2024-12-01 03:09:58,940] Trial 102 finished with value: 0.741818012768859 and parameters: {'nu': 0.01083130762882663, 'gamma': 0.03930902401555191, 'kernel': 'poly'}. Best is trial 77 with value: 0.7455340735202667.\n",
      "C:\\Users\\azad.aliyev\\AppData\\Local\\Temp\\ipykernel_16688\\3042600700.py:4: FutureWarning: suggest_loguniform has been deprecated in v3.0.0. This feature will be removed in v6.0.0. See https://github.com/optuna/optuna/releases/tag/v3.0.0. Use suggest_float(..., log=True) instead.\n",
      "  gamma = trial.suggest_loguniform(\"gamma\", 1e-3, 1e-1)  # Kernel coefficient\n",
      "[I 2024-12-01 03:09:59,124] Trial 105 finished with value: 0.6978799226978095 and parameters: {'nu': 0.020562568167890465, 'gamma': 0.04194375639430018, 'kernel': 'poly'}. Best is trial 77 with value: 0.7455340735202667.\n",
      "C:\\Users\\azad.aliyev\\AppData\\Local\\Temp\\ipykernel_16688\\3042600700.py:4: FutureWarning: suggest_loguniform has been deprecated in v3.0.0. This feature will be removed in v6.0.0. See https://github.com/optuna/optuna/releases/tag/v3.0.0. Use suggest_float(..., log=True) instead.\n",
      "  gamma = trial.suggest_loguniform(\"gamma\", 1e-3, 1e-1)  # Kernel coefficient\n",
      "[I 2024-12-01 03:09:59,764] Trial 110 finished with value: 0.7455340735202667 and parameters: {'nu': 0.010105841896945168, 'gamma': 0.06304297256903466, 'kernel': 'poly'}. Best is trial 77 with value: 0.7455340735202667.\n",
      "C:\\Users\\azad.aliyev\\AppData\\Local\\Temp\\ipykernel_16688\\3042600700.py:4: FutureWarning: suggest_loguniform has been deprecated in v3.0.0. This feature will be removed in v6.0.0. See https://github.com/optuna/optuna/releases/tag/v3.0.0. Use suggest_float(..., log=True) instead.\n",
      "  gamma = trial.suggest_loguniform(\"gamma\", 1e-3, 1e-1)  # Kernel coefficient\n",
      "C:\\Users\\azad.aliyev\\AppData\\Local\\Temp\\ipykernel_16688\\3042600700.py:4: FutureWarning: suggest_loguniform has been deprecated in v3.0.0. This feature will be removed in v6.0.0. See https://github.com/optuna/optuna/releases/tag/v3.0.0. Use suggest_float(..., log=True) instead.\n",
      "  gamma = trial.suggest_loguniform(\"gamma\", 1e-3, 1e-1)  # Kernel coefficient\n",
      "[I 2024-12-01 03:10:00,100] Trial 115 finished with value: 0.7240808257163397 and parameters: {'nu': 0.015423299629565854, 'gamma': 0.05963106565179288, 'kernel': 'poly'}. Best is trial 77 with value: 0.7455340735202667.\n",
      "[I 2024-12-01 03:10:00,274] Trial 113 finished with value: 0.7173537512256356 and parameters: {'nu': 0.016346865421683156, 'gamma': 0.06186774957818804, 'kernel': 'poly'}. Best is trial 77 with value: 0.7455340735202667.\n",
      "C:\\Users\\azad.aliyev\\AppData\\Local\\Temp\\ipykernel_16688\\3042600700.py:4: FutureWarning: suggest_loguniform has been deprecated in v3.0.0. This feature will be removed in v6.0.0. See https://github.com/optuna/optuna/releases/tag/v3.0.0. Use suggest_float(..., log=True) instead.\n",
      "  gamma = trial.suggest_loguniform(\"gamma\", 1e-3, 1e-1)  # Kernel coefficient\n",
      "[I 2024-12-01 03:10:00,517] Trial 116 finished with value: 0.7173537512256356 and parameters: {'nu': 0.01599371550324161, 'gamma': 0.0524304488544676, 'kernel': 'poly'}. Best is trial 77 with value: 0.7455340735202667.\n",
      "C:\\Users\\azad.aliyev\\AppData\\Local\\Temp\\ipykernel_16688\\3042600700.py:4: FutureWarning: suggest_loguniform has been deprecated in v3.0.0. This feature will be removed in v6.0.0. See https://github.com/optuna/optuna/releases/tag/v3.0.0. Use suggest_float(..., log=True) instead.\n",
      "  gamma = trial.suggest_loguniform(\"gamma\", 1e-3, 1e-1)  # Kernel coefficient\n",
      "[I 2024-12-01 03:10:00,528] Trial 117 finished with value: 0.7173537512256356 and parameters: {'nu': 0.01636603992673483, 'gamma': 0.05378954537171485, 'kernel': 'poly'}. Best is trial 77 with value: 0.7455340735202667.\n",
      "[I 2024-12-01 03:10:00,732] Trial 114 finished with value: 0.7173537512256356 and parameters: {'nu': 0.016063391790272014, 'gamma': 0.055364153218927736, 'kernel': 'poly'}. Best is trial 77 with value: 0.7455340735202667.\n",
      "C:\\Users\\azad.aliyev\\AppData\\Local\\Temp\\ipykernel_16688\\3042600700.py:4: FutureWarning: suggest_loguniform has been deprecated in v3.0.0. This feature will be removed in v6.0.0. See https://github.com/optuna/optuna/releases/tag/v3.0.0. Use suggest_float(..., log=True) instead.\n",
      "  gamma = trial.suggest_loguniform(\"gamma\", 1e-3, 1e-1)  # Kernel coefficient\n",
      "C:\\Users\\azad.aliyev\\AppData\\Local\\Temp\\ipykernel_16688\\3042600700.py:4: FutureWarning: suggest_loguniform has been deprecated in v3.0.0. This feature will be removed in v6.0.0. See https://github.com/optuna/optuna/releases/tag/v3.0.0. Use suggest_float(..., log=True) instead.\n",
      "  gamma = trial.suggest_loguniform(\"gamma\", 1e-3, 1e-1)  # Kernel coefficient\n",
      "C:\\Users\\azad.aliyev\\AppData\\Local\\Temp\\ipykernel_16688\\3042600700.py:4: FutureWarning: suggest_loguniform has been deprecated in v3.0.0. This feature will be removed in v6.0.0. See https://github.com/optuna/optuna/releases/tag/v3.0.0. Use suggest_float(..., log=True) instead.\n",
      "  gamma = trial.suggest_loguniform(\"gamma\", 1e-3, 1e-1)  # Kernel coefficient\n",
      "[I 2024-12-01 03:10:01,237] Trial 119 finished with value: 0.7173537512256356 and parameters: {'nu': 0.016194091577159845, 'gamma': 0.05578496663606616, 'kernel': 'poly'}. Best is trial 77 with value: 0.7455340735202667.\n",
      "C:\\Users\\azad.aliyev\\AppData\\Local\\Temp\\ipykernel_16688\\3042600700.py:4: FutureWarning: suggest_loguniform has been deprecated in v3.0.0. This feature will be removed in v6.0.0. See https://github.com/optuna/optuna/releases/tag/v3.0.0. Use suggest_float(..., log=True) instead.\n",
      "  gamma = trial.suggest_loguniform(\"gamma\", 1e-3, 1e-1)  # Kernel coefficient\n",
      "[I 2024-12-01 03:10:01,278] Trial 118 finished with value: 0.7173537512256356 and parameters: {'nu': 0.016199680994113112, 'gamma': 0.05609669409361767, 'kernel': 'poly'}. Best is trial 77 with value: 0.7455340735202667.\n",
      "C:\\Users\\azad.aliyev\\AppData\\Local\\Temp\\ipykernel_16688\\3042600700.py:4: FutureWarning: suggest_loguniform has been deprecated in v3.0.0. This feature will be removed in v6.0.0. See https://github.com/optuna/optuna/releases/tag/v3.0.0. Use suggest_float(..., log=True) instead.\n",
      "  gamma = trial.suggest_loguniform(\"gamma\", 1e-3, 1e-1)  # Kernel coefficient\n",
      "[I 2024-12-01 03:10:01,690] Trial 122 finished with value: 0.6978799226978095 and parameters: {'nu': 0.020532598810117222, 'gamma': 0.03558653254033776, 'kernel': 'poly'}. Best is trial 77 with value: 0.7455340735202667.\n",
      "C:\\Users\\azad.aliyev\\AppData\\Local\\Temp\\ipykernel_16688\\3042600700.py:4: FutureWarning: suggest_loguniform has been deprecated in v3.0.0. This feature will be removed in v6.0.0. See https://github.com/optuna/optuna/releases/tag/v3.0.0. Use suggest_float(..., log=True) instead.\n",
      "  gamma = trial.suggest_loguniform(\"gamma\", 1e-3, 1e-1)  # Kernel coefficient\n",
      "[I 2024-12-01 03:10:01,743] Trial 107 finished with value: -1.0 and parameters: {'nu': 0.08233910525165268, 'gamma': 0.0652705790394388, 'kernel': 'poly'}. Best is trial 77 with value: 0.7455340735202667.\n",
      "C:\\Users\\azad.aliyev\\AppData\\Local\\Temp\\ipykernel_16688\\3042600700.py:4: FutureWarning: suggest_loguniform has been deprecated in v3.0.0. This feature will be removed in v6.0.0. See https://github.com/optuna/optuna/releases/tag/v3.0.0. Use suggest_float(..., log=True) instead.\n",
      "  gamma = trial.suggest_loguniform(\"gamma\", 1e-3, 1e-1)  # Kernel coefficient\n",
      "[I 2024-12-01 03:10:01,998] Trial 109 finished with value: -1.0 and parameters: {'nu': 0.08048302595918914, 'gamma': 0.06366948691112335, 'kernel': 'poly'}. Best is trial 77 with value: 0.7455340735202667.\n",
      "[I 2024-12-01 03:10:02,078] Trial 124 finished with value: 0.6978799226978095 and parameters: {'nu': 0.019394002232716485, 'gamma': 0.0881567755634493, 'kernel': 'poly'}. Best is trial 77 with value: 0.7455340735202667.\n",
      "C:\\Users\\azad.aliyev\\AppData\\Local\\Temp\\ipykernel_16688\\3042600700.py:4: FutureWarning: suggest_loguniform has been deprecated in v3.0.0. This feature will be removed in v6.0.0. See https://github.com/optuna/optuna/releases/tag/v3.0.0. Use suggest_float(..., log=True) instead.\n",
      "  gamma = trial.suggest_loguniform(\"gamma\", 1e-3, 1e-1)  # Kernel coefficient\n",
      "C:\\Users\\azad.aliyev\\AppData\\Local\\Temp\\ipykernel_16688\\3042600700.py:4: FutureWarning: suggest_loguniform has been deprecated in v3.0.0. This feature will be removed in v6.0.0. See https://github.com/optuna/optuna/releases/tag/v3.0.0. Use suggest_float(..., log=True) instead.\n",
      "  gamma = trial.suggest_loguniform(\"gamma\", 1e-3, 1e-1)  # Kernel coefficient\n",
      "[I 2024-12-01 03:10:02,313] Trial 111 finished with value: -1.0 and parameters: {'nu': 0.0876323419038734, 'gamma': 0.06200303472855706, 'kernel': 'poly'}. Best is trial 77 with value: 0.7455340735202667.\n",
      "[I 2024-12-01 03:10:02,353] Trial 123 finished with value: 0.6978799226978095 and parameters: {'nu': 0.019922914723827758, 'gamma': 0.07825192601034771, 'kernel': 'poly'}. Best is trial 77 with value: 0.7455340735202667.\n",
      "[I 2024-12-01 03:10:02,363] Trial 108 finished with value: -1.0 and parameters: {'nu': 0.08419447207912865, 'gamma': 0.07239845282966906, 'kernel': 'poly'}. Best is trial 77 with value: 0.7455340735202667.\n",
      "[I 2024-12-01 03:10:02,435] Trial 125 finished with value: 0.6947184883568812 and parameters: {'nu': 0.020801834542694686, 'gamma': 0.03575240999154106, 'kernel': 'rbf'}. Best is trial 77 with value: 0.7455340735202667.\n",
      "[I 2024-12-01 03:10:02,494] Trial 120 finished with value: -1.0 and parameters: {'nu': 0.04809559710473796, 'gamma': 0.08700577216836636, 'kernel': 'poly'}. Best is trial 77 with value: 0.7455340735202667.\n",
      "C:\\Users\\azad.aliyev\\AppData\\Local\\Temp\\ipykernel_16688\\3042600700.py:4: FutureWarning: suggest_loguniform has been deprecated in v3.0.0. This feature will be removed in v6.0.0. See https://github.com/optuna/optuna/releases/tag/v3.0.0. Use suggest_float(..., log=True) instead.\n",
      "  gamma = trial.suggest_loguniform(\"gamma\", 1e-3, 1e-1)  # Kernel coefficient\n",
      "C:\\Users\\azad.aliyev\\AppData\\Local\\Temp\\ipykernel_16688\\3042600700.py:4: FutureWarning: suggest_loguniform has been deprecated in v3.0.0. This feature will be removed in v6.0.0. See https://github.com/optuna/optuna/releases/tag/v3.0.0. Use suggest_float(..., log=True) instead.\n",
      "  gamma = trial.suggest_loguniform(\"gamma\", 1e-3, 1e-1)  # Kernel coefficient\n",
      "C:\\Users\\azad.aliyev\\AppData\\Local\\Temp\\ipykernel_16688\\3042600700.py:4: FutureWarning: suggest_loguniform has been deprecated in v3.0.0. This feature will be removed in v6.0.0. See https://github.com/optuna/optuna/releases/tag/v3.0.0. Use suggest_float(..., log=True) instead.\n",
      "  gamma = trial.suggest_loguniform(\"gamma\", 1e-3, 1e-1)  # Kernel coefficient\n",
      "C:\\Users\\azad.aliyev\\AppData\\Local\\Temp\\ipykernel_16688\\3042600700.py:4: FutureWarning: suggest_loguniform has been deprecated in v3.0.0. This feature will be removed in v6.0.0. See https://github.com/optuna/optuna/releases/tag/v3.0.0. Use suggest_float(..., log=True) instead.\n",
      "  gamma = trial.suggest_loguniform(\"gamma\", 1e-3, 1e-1)  # Kernel coefficient\n",
      "[I 2024-12-01 03:10:02,749] Trial 112 finished with value: -1.0 and parameters: {'nu': 0.08325302282586064, 'gamma': 0.06229677273408404, 'kernel': 'poly'}. Best is trial 77 with value: 0.7455340735202667.\n",
      "C:\\Users\\azad.aliyev\\AppData\\Local\\Temp\\ipykernel_16688\\3042600700.py:4: FutureWarning: suggest_loguniform has been deprecated in v3.0.0. This feature will be removed in v6.0.0. See https://github.com/optuna/optuna/releases/tag/v3.0.0. Use suggest_float(..., log=True) instead.\n",
      "  gamma = trial.suggest_loguniform(\"gamma\", 1e-3, 1e-1)  # Kernel coefficient\n",
      "[I 2024-12-01 03:10:02,891] Trial 126 finished with value: 0.7140545150650894 and parameters: {'nu': 0.0196364324990076, 'gamma': 0.07379761962994322, 'kernel': 'rbf'}. Best is trial 77 with value: 0.7455340735202667.\n",
      "[I 2024-12-01 03:10:02,983] Trial 121 finished with value: -1.0 and parameters: {'nu': 0.08470163524095195, 'gamma': 0.07784334016543706, 'kernel': 'poly'}. Best is trial 77 with value: 0.7455340735202667.\n",
      "C:\\Users\\azad.aliyev\\AppData\\Local\\Temp\\ipykernel_16688\\3042600700.py:4: FutureWarning: suggest_loguniform has been deprecated in v3.0.0. This feature will be removed in v6.0.0. See https://github.com/optuna/optuna/releases/tag/v3.0.0. Use suggest_float(..., log=True) instead.\n",
      "  gamma = trial.suggest_loguniform(\"gamma\", 1e-3, 1e-1)  # Kernel coefficient\n",
      "C:\\Users\\azad.aliyev\\AppData\\Local\\Temp\\ipykernel_16688\\3042600700.py:4: FutureWarning: suggest_loguniform has been deprecated in v3.0.0. This feature will be removed in v6.0.0. See https://github.com/optuna/optuna/releases/tag/v3.0.0. Use suggest_float(..., log=True) instead.\n",
      "  gamma = trial.suggest_loguniform(\"gamma\", 1e-3, 1e-1)  # Kernel coefficient\n",
      "[I 2024-12-01 03:10:03,205] Trial 128 finished with value: 0.7031135405509504 and parameters: {'nu': 0.019165856997909608, 'gamma': 0.04705396428951079, 'kernel': 'rbf'}. Best is trial 77 with value: 0.7455340735202667.\n",
      "C:\\Users\\azad.aliyev\\AppData\\Local\\Temp\\ipykernel_16688\\3042600700.py:4: FutureWarning: suggest_loguniform has been deprecated in v3.0.0. This feature will be removed in v6.0.0. See https://github.com/optuna/optuna/releases/tag/v3.0.0. Use suggest_float(..., log=True) instead.\n",
      "  gamma = trial.suggest_loguniform(\"gamma\", 1e-3, 1e-1)  # Kernel coefficient\n",
      "[I 2024-12-01 03:10:03,373] Trial 131 finished with value: 0.7275205503524312 and parameters: {'nu': 0.014149156361180332, 'gamma': 0.046529124200674614, 'kernel': 'poly'}. Best is trial 77 with value: 0.7455340735202667.\n",
      "[I 2024-12-01 03:10:03,493] Trial 136 finished with value: 0.7455340735202667 and parameters: {'nu': 0.01012319209771013, 'gamma': 0.04911879038997916, 'kernel': 'poly'}. Best is trial 77 with value: 0.7455340735202667.\n",
      "C:\\Users\\azad.aliyev\\AppData\\Local\\Temp\\ipykernel_16688\\3042600700.py:4: FutureWarning: suggest_loguniform has been deprecated in v3.0.0. This feature will be removed in v6.0.0. See https://github.com/optuna/optuna/releases/tag/v3.0.0. Use suggest_float(..., log=True) instead.\n",
      "  gamma = trial.suggest_loguniform(\"gamma\", 1e-3, 1e-1)  # Kernel coefficient\n",
      "C:\\Users\\azad.aliyev\\AppData\\Local\\Temp\\ipykernel_16688\\3042600700.py:4: FutureWarning: suggest_loguniform has been deprecated in v3.0.0. This feature will be removed in v6.0.0. See https://github.com/optuna/optuna/releases/tag/v3.0.0. Use suggest_float(..., log=True) instead.\n",
      "  gamma = trial.suggest_loguniform(\"gamma\", 1e-3, 1e-1)  # Kernel coefficient\n",
      "[I 2024-12-01 03:10:03,755] Trial 132 finished with value: -1.0 and parameters: {'nu': 0.022886223943332812, 'gamma': 0.045790244680527586, 'kernel': 'poly'}. Best is trial 77 with value: 0.7455340735202667.\n",
      "C:\\Users\\azad.aliyev\\AppData\\Local\\Temp\\ipykernel_16688\\3042600700.py:4: FutureWarning: suggest_loguniform has been deprecated in v3.0.0. This feature will be removed in v6.0.0. See https://github.com/optuna/optuna/releases/tag/v3.0.0. Use suggest_float(..., log=True) instead.\n",
      "  gamma = trial.suggest_loguniform(\"gamma\", 1e-3, 1e-1)  # Kernel coefficient\n",
      "[I 2024-12-01 03:10:03,926] Trial 135 finished with value: 0.7455340735202667 and parameters: {'nu': 0.010158769443231897, 'gamma': 0.04751667067778662, 'kernel': 'poly'}. Best is trial 77 with value: 0.7455340735202667.\n",
      "C:\\Users\\azad.aliyev\\AppData\\Local\\Temp\\ipykernel_16688\\3042600700.py:4: FutureWarning: suggest_loguniform has been deprecated in v3.0.0. This feature will be removed in v6.0.0. See https://github.com/optuna/optuna/releases/tag/v3.0.0. Use suggest_float(..., log=True) instead.\n",
      "  gamma = trial.suggest_loguniform(\"gamma\", 1e-3, 1e-1)  # Kernel coefficient\n",
      "[I 2024-12-01 03:10:04,003] Trial 138 finished with value: 0.7455340735202667 and parameters: {'nu': 0.010337435087251691, 'gamma': 0.023048788813917018, 'kernel': 'poly'}. Best is trial 77 with value: 0.7455340735202667.\n",
      "C:\\Users\\azad.aliyev\\AppData\\Local\\Temp\\ipykernel_16688\\3042600700.py:4: FutureWarning: suggest_loguniform has been deprecated in v3.0.0. This feature will be removed in v6.0.0. See https://github.com/optuna/optuna/releases/tag/v3.0.0. Use suggest_float(..., log=True) instead.\n",
      "  gamma = trial.suggest_loguniform(\"gamma\", 1e-3, 1e-1)  # Kernel coefficient\n",
      "[I 2024-12-01 03:10:04,364] Trial 129 finished with value: -1.0 and parameters: {'nu': 0.048172705036886254, 'gamma': 0.046961960998804265, 'kernel': 'rbf'}. Best is trial 77 with value: 0.7455340735202667.\n",
      "[I 2024-12-01 03:10:04,364] Trial 142 finished with value: 0.7455340735202667 and parameters: {'nu': 0.01027972363099336, 'gamma': 0.03533168382745603, 'kernel': 'poly'}. Best is trial 77 with value: 0.7455340735202667.\n",
      "C:\\Users\\azad.aliyev\\AppData\\Local\\Temp\\ipykernel_16688\\3042600700.py:4: FutureWarning: suggest_loguniform has been deprecated in v3.0.0. This feature will be removed in v6.0.0. See https://github.com/optuna/optuna/releases/tag/v3.0.0. Use suggest_float(..., log=True) instead.\n",
      "  gamma = trial.suggest_loguniform(\"gamma\", 1e-3, 1e-1)  # Kernel coefficient\n",
      "[I 2024-12-01 03:10:04,575] Trial 143 finished with value: 0.7455340735202667 and parameters: {'nu': 0.010062515488359092, 'gamma': 0.035700443688705744, 'kernel': 'poly'}. Best is trial 77 with value: 0.7455340735202667.\n",
      "C:\\Users\\azad.aliyev\\AppData\\Local\\Temp\\ipykernel_16688\\3042600700.py:4: FutureWarning: suggest_loguniform has been deprecated in v3.0.0. This feature will be removed in v6.0.0. See https://github.com/optuna/optuna/releases/tag/v3.0.0. Use suggest_float(..., log=True) instead.\n",
      "  gamma = trial.suggest_loguniform(\"gamma\", 1e-3, 1e-1)  # Kernel coefficient\n",
      "[I 2024-12-01 03:10:04,822] Trial 130 finished with value: -1.0 and parameters: {'nu': 0.06447882856670188, 'gamma': 0.04829479837038374, 'kernel': 'rbf'}. Best is trial 77 with value: 0.7455340735202667.\n",
      "C:\\Users\\azad.aliyev\\AppData\\Local\\Temp\\ipykernel_16688\\3042600700.py:4: FutureWarning: suggest_loguniform has been deprecated in v3.0.0. This feature will be removed in v6.0.0. See https://github.com/optuna/optuna/releases/tag/v3.0.0. Use suggest_float(..., log=True) instead.\n",
      "  gamma = trial.suggest_loguniform(\"gamma\", 1e-3, 1e-1)  # Kernel coefficient\n",
      "[I 2024-12-01 03:10:04,889] Trial 133 finished with value: -1.0 and parameters: {'nu': 0.06039483183165243, 'gamma': 0.04790419261438677, 'kernel': 'poly'}. Best is trial 77 with value: 0.7455340735202667.\n",
      "C:\\Users\\azad.aliyev\\AppData\\Local\\Temp\\ipykernel_16688\\3042600700.py:4: FutureWarning: suggest_loguniform has been deprecated in v3.0.0. This feature will be removed in v6.0.0. See https://github.com/optuna/optuna/releases/tag/v3.0.0. Use suggest_float(..., log=True) instead.\n",
      "  gamma = trial.suggest_loguniform(\"gamma\", 1e-3, 1e-1)  # Kernel coefficient\n",
      "[I 2024-12-01 03:10:05,021] Trial 144 finished with value: 0.741818012768859 and parameters: {'nu': 0.010047741074670328, 'gamma': 0.022596311223062642, 'kernel': 'poly'}. Best is trial 77 with value: 0.7455340735202667.\n",
      "[I 2024-12-01 03:10:05,057] Trial 145 finished with value: 0.7275205503524312 and parameters: {'nu': 0.01426292415016344, 'gamma': 0.023646157820057436, 'kernel': 'poly'}. Best is trial 77 with value: 0.7455340735202667.\n",
      "C:\\Users\\azad.aliyev\\AppData\\Local\\Temp\\ipykernel_16688\\3042600700.py:4: FutureWarning: suggest_loguniform has been deprecated in v3.0.0. This feature will be removed in v6.0.0. See https://github.com/optuna/optuna/releases/tag/v3.0.0. Use suggest_float(..., log=True) instead.\n",
      "  gamma = trial.suggest_loguniform(\"gamma\", 1e-3, 1e-1)  # Kernel coefficient\n",
      "C:\\Users\\azad.aliyev\\AppData\\Local\\Temp\\ipykernel_16688\\3042600700.py:4: FutureWarning: suggest_loguniform has been deprecated in v3.0.0. This feature will be removed in v6.0.0. See https://github.com/optuna/optuna/releases/tag/v3.0.0. Use suggest_float(..., log=True) instead.\n",
      "  gamma = trial.suggest_loguniform(\"gamma\", 1e-3, 1e-1)  # Kernel coefficient\n",
      "[I 2024-12-01 03:10:05,425] Trial 147 finished with value: 0.7455340735202667 and parameters: {'nu': 0.010056982840970688, 'gamma': 0.03307111288645233, 'kernel': 'poly'}. Best is trial 77 with value: 0.7455340735202667.\n",
      "C:\\Users\\azad.aliyev\\AppData\\Local\\Temp\\ipykernel_16688\\3042600700.py:4: FutureWarning: suggest_loguniform has been deprecated in v3.0.0. This feature will be removed in v6.0.0. See https://github.com/optuna/optuna/releases/tag/v3.0.0. Use suggest_float(..., log=True) instead.\n",
      "  gamma = trial.suggest_loguniform(\"gamma\", 1e-3, 1e-1)  # Kernel coefficient\n",
      "[I 2024-12-01 03:10:05,484] Trial 148 finished with value: 0.731012771012771 and parameters: {'nu': 0.01344538077047365, 'gamma': 0.03214370918121619, 'kernel': 'poly'}. Best is trial 77 with value: 0.7455340735202667.\n",
      "[I 2024-12-01 03:10:05,497] Trial 137 finished with value: -1.0 and parameters: {'nu': 0.06202605055741111, 'gamma': 0.0489892464593158, 'kernel': 'poly'}. Best is trial 77 with value: 0.7455340735202667.\n",
      "C:\\Users\\azad.aliyev\\AppData\\Local\\Temp\\ipykernel_16688\\3042600700.py:4: FutureWarning: suggest_loguniform has been deprecated in v3.0.0. This feature will be removed in v6.0.0. See https://github.com/optuna/optuna/releases/tag/v3.0.0. Use suggest_float(..., log=True) instead.\n",
      "  gamma = trial.suggest_loguniform(\"gamma\", 1e-3, 1e-1)  # Kernel coefficient\n",
      "[I 2024-12-01 03:10:05,576] Trial 127 finished with value: -1.0 and parameters: {'nu': 0.07418555280013726, 'gamma': 0.07092803824186157, 'kernel': 'rbf'}. Best is trial 77 with value: 0.7455340735202667.\n",
      "C:\\Users\\azad.aliyev\\AppData\\Local\\Temp\\ipykernel_16688\\3042600700.py:4: FutureWarning: suggest_loguniform has been deprecated in v3.0.0. This feature will be removed in v6.0.0. See https://github.com/optuna/optuna/releases/tag/v3.0.0. Use suggest_float(..., log=True) instead.\n",
      "  gamma = trial.suggest_loguniform(\"gamma\", 1e-3, 1e-1)  # Kernel coefficient\n",
      "[I 2024-12-01 03:10:05,576] Trial 146 finished with value: 0.731012771012771 and parameters: {'nu': 0.014075581265091584, 'gamma': 0.023578675490292265, 'kernel': 'poly'}. Best is trial 77 with value: 0.7455340735202667.\n",
      "[I 2024-12-01 03:10:05,617] Trial 140 finished with value: -1.0 and parameters: {'nu': 0.05985169329847998, 'gamma': 0.047177281721740266, 'kernel': 'poly'}. Best is trial 77 with value: 0.7455340735202667.\n",
      "C:\\Users\\azad.aliyev\\AppData\\Local\\Temp\\ipykernel_16688\\3042600700.py:4: FutureWarning: suggest_loguniform has been deprecated in v3.0.0. This feature will be removed in v6.0.0. See https://github.com/optuna/optuna/releases/tag/v3.0.0. Use suggest_float(..., log=True) instead.\n",
      "  gamma = trial.suggest_loguniform(\"gamma\", 1e-3, 1e-1)  # Kernel coefficient\n",
      "C:\\Users\\azad.aliyev\\AppData\\Local\\Temp\\ipykernel_16688\\3042600700.py:4: FutureWarning: suggest_loguniform has been deprecated in v3.0.0. This feature will be removed in v6.0.0. See https://github.com/optuna/optuna/releases/tag/v3.0.0. Use suggest_float(..., log=True) instead.\n",
      "  gamma = trial.suggest_loguniform(\"gamma\", 1e-3, 1e-1)  # Kernel coefficient\n",
      "[I 2024-12-01 03:10:05,650] Trial 134 finished with value: -1.0 and parameters: {'nu': 0.056616555120146995, 'gamma': 0.04724618515680992, 'kernel': 'poly'}. Best is trial 77 with value: 0.7455340735202667.\n",
      "C:\\Users\\azad.aliyev\\AppData\\Local\\Temp\\ipykernel_16688\\3042600700.py:4: FutureWarning: suggest_loguniform has been deprecated in v3.0.0. This feature will be removed in v6.0.0. See https://github.com/optuna/optuna/releases/tag/v3.0.0. Use suggest_float(..., log=True) instead.\n",
      "  gamma = trial.suggest_loguniform(\"gamma\", 1e-3, 1e-1)  # Kernel coefficient\n",
      "C:\\Users\\azad.aliyev\\AppData\\Local\\Temp\\ipykernel_16688\\3042600700.py:4: FutureWarning: suggest_loguniform has been deprecated in v3.0.0. This feature will be removed in v6.0.0. See https://github.com/optuna/optuna/releases/tag/v3.0.0. Use suggest_float(..., log=True) instead.\n",
      "  gamma = trial.suggest_loguniform(\"gamma\", 1e-3, 1e-1)  # Kernel coefficient\n",
      "[I 2024-12-01 03:10:05,692] Trial 149 finished with value: 0.7455340735202667 and parameters: {'nu': 0.010095673549457137, 'gamma': 0.032688475993707285, 'kernel': 'poly'}. Best is trial 77 with value: 0.7455340735202667.\n",
      "[I 2024-12-01 03:10:05,709] Trial 139 finished with value: -1.0 and parameters: {'nu': 0.05729172448113487, 'gamma': 0.04765982965017649, 'kernel': 'poly'}. Best is trial 77 with value: 0.7455340735202667.\n",
      "[I 2024-12-01 03:10:05,717] Trial 150 finished with value: 0.7455340735202667 and parameters: {'nu': 0.010050316509391638, 'gamma': 0.03213220415287563, 'kernel': 'poly'}. Best is trial 77 with value: 0.7455340735202667.\n",
      "C:\\Users\\azad.aliyev\\AppData\\Local\\Temp\\ipykernel_16688\\3042600700.py:4: FutureWarning: suggest_loguniform has been deprecated in v3.0.0. This feature will be removed in v6.0.0. See https://github.com/optuna/optuna/releases/tag/v3.0.0. Use suggest_float(..., log=True) instead.\n",
      "  gamma = trial.suggest_loguniform(\"gamma\", 1e-3, 1e-1)  # Kernel coefficient\n",
      "C:\\Users\\azad.aliyev\\AppData\\Local\\Temp\\ipykernel_16688\\3042600700.py:4: FutureWarning: suggest_loguniform has been deprecated in v3.0.0. This feature will be removed in v6.0.0. See https://github.com/optuna/optuna/releases/tag/v3.0.0. Use suggest_float(..., log=True) instead.\n",
      "  gamma = trial.suggest_loguniform(\"gamma\", 1e-3, 1e-1)  # Kernel coefficient\n",
      "C:\\Users\\azad.aliyev\\AppData\\Local\\Temp\\ipykernel_16688\\3042600700.py:4: FutureWarning: suggest_loguniform has been deprecated in v3.0.0. This feature will be removed in v6.0.0. See https://github.com/optuna/optuna/releases/tag/v3.0.0. Use suggest_float(..., log=True) instead.\n",
      "  gamma = trial.suggest_loguniform(\"gamma\", 1e-3, 1e-1)  # Kernel coefficient\n",
      "[I 2024-12-01 03:10:05,750] Trial 141 finished with value: -1.0 and parameters: {'nu': 0.05912349925149846, 'gamma': 0.023395689067696745, 'kernel': 'poly'}. Best is trial 77 with value: 0.7455340735202667.\n",
      "C:\\Users\\azad.aliyev\\AppData\\Local\\Temp\\ipykernel_16688\\3042600700.py:4: FutureWarning: suggest_loguniform has been deprecated in v3.0.0. This feature will be removed in v6.0.0. See https://github.com/optuna/optuna/releases/tag/v3.0.0. Use suggest_float(..., log=True) instead.\n",
      "  gamma = trial.suggest_loguniform(\"gamma\", 1e-3, 1e-1)  # Kernel coefficient\n",
      "[I 2024-12-01 03:10:05,782] Trial 151 finished with value: 0.7455340735202667 and parameters: {'nu': 0.010015943012677143, 'gamma': 0.03137774486868357, 'kernel': 'poly'}. Best is trial 77 with value: 0.7455340735202667.\n",
      "C:\\Users\\azad.aliyev\\AppData\\Local\\Temp\\ipykernel_16688\\3042600700.py:4: FutureWarning: suggest_loguniform has been deprecated in v3.0.0. This feature will be removed in v6.0.0. See https://github.com/optuna/optuna/releases/tag/v3.0.0. Use suggest_float(..., log=True) instead.\n",
      "  gamma = trial.suggest_loguniform(\"gamma\", 1e-3, 1e-1)  # Kernel coefficient\n",
      "[I 2024-12-01 03:10:05,842] Trial 153 finished with value: 0.7455340735202667 and parameters: {'nu': 0.010090905999568174, 'gamma': 0.036907374622153884, 'kernel': 'poly'}. Best is trial 77 with value: 0.7455340735202667.\n",
      "[I 2024-12-01 03:10:05,842] Trial 152 finished with value: 0.7455340735202667 and parameters: {'nu': 0.010146901080895613, 'gamma': 0.031051164424518336, 'kernel': 'poly'}. Best is trial 77 with value: 0.7455340735202667.\n",
      "C:\\Users\\azad.aliyev\\AppData\\Local\\Temp\\ipykernel_16688\\3042600700.py:4: FutureWarning: suggest_loguniform has been deprecated in v3.0.0. This feature will be removed in v6.0.0. See https://github.com/optuna/optuna/releases/tag/v3.0.0. Use suggest_float(..., log=True) instead.\n",
      "  gamma = trial.suggest_loguniform(\"gamma\", 1e-3, 1e-1)  # Kernel coefficient\n",
      "C:\\Users\\azad.aliyev\\AppData\\Local\\Temp\\ipykernel_16688\\3042600700.py:4: FutureWarning: suggest_loguniform has been deprecated in v3.0.0. This feature will be removed in v6.0.0. See https://github.com/optuna/optuna/releases/tag/v3.0.0. Use suggest_float(..., log=True) instead.\n",
      "  gamma = trial.suggest_loguniform(\"gamma\", 1e-3, 1e-1)  # Kernel coefficient\n",
      "[I 2024-12-01 03:10:05,901] Trial 154 finished with value: 0.731012771012771 and parameters: {'nu': 0.013812326168736361, 'gamma': 0.03703051435485584, 'kernel': 'poly'}. Best is trial 77 with value: 0.7455340735202667.\n",
      "[I 2024-12-01 03:10:05,909] Trial 155 finished with value: 0.7345588235294118 and parameters: {'nu': 0.013221102160134692, 'gamma': 0.036680667507247, 'kernel': 'poly'}. Best is trial 77 with value: 0.7455340735202667.\n",
      "[I 2024-12-01 03:10:05,925] Trial 156 finished with value: 0.7455340735202667 and parameters: {'nu': 0.010261478250022972, 'gamma': 0.03614011862856609, 'kernel': 'poly'}. Best is trial 77 with value: 0.7455340735202667.\n",
      "[I 2024-12-01 03:10:05,933] Trial 157 finished with value: 0.7455340735202667 and parameters: {'nu': 0.010326166996198429, 'gamma': 0.031164288315727023, 'kernel': 'poly'}. Best is trial 77 with value: 0.7455340735202667.\n",
      "[I 2024-12-01 03:10:05,942] Trial 158 finished with value: 0.741818012768859 and parameters: {'nu': 0.010053989461549307, 'gamma': 0.034652489651449625, 'kernel': 'poly'}. Best is trial 77 with value: 0.7455340735202667.\n",
      "C:\\Users\\azad.aliyev\\AppData\\Local\\Temp\\ipykernel_16688\\3042600700.py:4: FutureWarning: suggest_loguniform has been deprecated in v3.0.0. This feature will be removed in v6.0.0. See https://github.com/optuna/optuna/releases/tag/v3.0.0. Use suggest_float(..., log=True) instead.\n",
      "  gamma = trial.suggest_loguniform(\"gamma\", 1e-3, 1e-1)  # Kernel coefficient\n",
      "C:\\Users\\azad.aliyev\\AppData\\Local\\Temp\\ipykernel_16688\\3042600700.py:4: FutureWarning: suggest_loguniform has been deprecated in v3.0.0. This feature will be removed in v6.0.0. See https://github.com/optuna/optuna/releases/tag/v3.0.0. Use suggest_float(..., log=True) instead.\n",
      "  gamma = trial.suggest_loguniform(\"gamma\", 1e-3, 1e-1)  # Kernel coefficient\n",
      "C:\\Users\\azad.aliyev\\AppData\\Local\\Temp\\ipykernel_16688\\3042600700.py:4: FutureWarning: suggest_loguniform has been deprecated in v3.0.0. This feature will be removed in v6.0.0. See https://github.com/optuna/optuna/releases/tag/v3.0.0. Use suggest_float(..., log=True) instead.\n",
      "  gamma = trial.suggest_loguniform(\"gamma\", 1e-3, 1e-1)  # Kernel coefficient\n",
      "C:\\Users\\azad.aliyev\\AppData\\Local\\Temp\\ipykernel_16688\\3042600700.py:4: FutureWarning: suggest_loguniform has been deprecated in v3.0.0. This feature will be removed in v6.0.0. See https://github.com/optuna/optuna/releases/tag/v3.0.0. Use suggest_float(..., log=True) instead.\n",
      "  gamma = trial.suggest_loguniform(\"gamma\", 1e-3, 1e-1)  # Kernel coefficient\n",
      "C:\\Users\\azad.aliyev\\AppData\\Local\\Temp\\ipykernel_16688\\3042600700.py:4: FutureWarning: suggest_loguniform has been deprecated in v3.0.0. This feature will be removed in v6.0.0. See https://github.com/optuna/optuna/releases/tag/v3.0.0. Use suggest_float(..., log=True) instead.\n",
      "  gamma = trial.suggest_loguniform(\"gamma\", 1e-3, 1e-1)  # Kernel coefficient\n",
      "[I 2024-12-01 03:10:06,025] Trial 160 finished with value: 0.7345588235294118 and parameters: {'nu': 0.013048873640747024, 'gamma': 0.03640763445073356, 'kernel': 'poly'}. Best is trial 77 with value: 0.7455340735202667.\n",
      "[I 2024-12-01 03:10:06,034] Trial 161 finished with value: 0.7345588235294118 and parameters: {'nu': 0.012947619369255724, 'gamma': 0.03685439503631843, 'kernel': 'poly'}. Best is trial 77 with value: 0.7455340735202667.\n",
      "C:\\Users\\azad.aliyev\\AppData\\Local\\Temp\\ipykernel_16688\\3042600700.py:4: FutureWarning: suggest_loguniform has been deprecated in v3.0.0. This feature will be removed in v6.0.0. See https://github.com/optuna/optuna/releases/tag/v3.0.0. Use suggest_float(..., log=True) instead.\n",
      "  gamma = trial.suggest_loguniform(\"gamma\", 1e-3, 1e-1)  # Kernel coefficient\n",
      "C:\\Users\\azad.aliyev\\AppData\\Local\\Temp\\ipykernel_16688\\3042600700.py:4: FutureWarning: suggest_loguniform has been deprecated in v3.0.0. This feature will be removed in v6.0.0. See https://github.com/optuna/optuna/releases/tag/v3.0.0. Use suggest_float(..., log=True) instead.\n",
      "  gamma = trial.suggest_loguniform(\"gamma\", 1e-3, 1e-1)  # Kernel coefficient\n",
      "[I 2024-12-01 03:10:06,171] Trial 162 finished with value: 0.7345588235294118 and parameters: {'nu': 0.012960665598699884, 'gamma': 0.03645030232698547, 'kernel': 'poly'}. Best is trial 77 with value: 0.7455340735202667.\n",
      "[I 2024-12-01 03:10:06,187] Trial 163 finished with value: 0.7345588235294118 and parameters: {'nu': 0.01291789047445123, 'gamma': 0.037436928202604344, 'kernel': 'poly'}. Best is trial 77 with value: 0.7455340735202667.\n",
      "C:\\Users\\azad.aliyev\\AppData\\Local\\Temp\\ipykernel_16688\\3042600700.py:4: FutureWarning: suggest_loguniform has been deprecated in v3.0.0. This feature will be removed in v6.0.0. See https://github.com/optuna/optuna/releases/tag/v3.0.0. Use suggest_float(..., log=True) instead.\n",
      "  gamma = trial.suggest_loguniform(\"gamma\", 1e-3, 1e-1)  # Kernel coefficient\n",
      "C:\\Users\\azad.aliyev\\AppData\\Local\\Temp\\ipykernel_16688\\3042600700.py:4: FutureWarning: suggest_loguniform has been deprecated in v3.0.0. This feature will be removed in v6.0.0. See https://github.com/optuna/optuna/releases/tag/v3.0.0. Use suggest_float(..., log=True) instead.\n",
      "  gamma = trial.suggest_loguniform(\"gamma\", 1e-3, 1e-1)  # Kernel coefficient\n",
      "[I 2024-12-01 03:10:06,226] Trial 159 finished with value: -1.0 and parameters: {'nu': 0.09425687061797189, 'gamma': 0.03565595378412377, 'kernel': 'poly'}. Best is trial 77 with value: 0.7455340735202667.\n",
      "C:\\Users\\azad.aliyev\\AppData\\Local\\Temp\\ipykernel_16688\\3042600700.py:4: FutureWarning: suggest_loguniform has been deprecated in v3.0.0. This feature will be removed in v6.0.0. See https://github.com/optuna/optuna/releases/tag/v3.0.0. Use suggest_float(..., log=True) instead.\n",
      "  gamma = trial.suggest_loguniform(\"gamma\", 1e-3, 1e-1)  # Kernel coefficient\n",
      "[I 2024-12-01 03:10:06,267] Trial 164 finished with value: 0.7345588235294118 and parameters: {'nu': 0.013234117284174283, 'gamma': 0.036475197601092565, 'kernel': 'poly'}. Best is trial 77 with value: 0.7455340735202667.\n",
      "[I 2024-12-01 03:10:06,311] Trial 165 finished with value: 0.7345588235294118 and parameters: {'nu': 0.01267185782906186, 'gamma': 0.03578663855242807, 'kernel': 'poly'}. Best is trial 77 with value: 0.7455340735202667.\n",
      "C:\\Users\\azad.aliyev\\AppData\\Local\\Temp\\ipykernel_16688\\3042600700.py:4: FutureWarning: suggest_loguniform has been deprecated in v3.0.0. This feature will be removed in v6.0.0. See https://github.com/optuna/optuna/releases/tag/v3.0.0. Use suggest_float(..., log=True) instead.\n",
      "  gamma = trial.suggest_loguniform(\"gamma\", 1e-3, 1e-1)  # Kernel coefficient\n",
      "C:\\Users\\azad.aliyev\\AppData\\Local\\Temp\\ipykernel_16688\\3042600700.py:4: FutureWarning: suggest_loguniform has been deprecated in v3.0.0. This feature will be removed in v6.0.0. See https://github.com/optuna/optuna/releases/tag/v3.0.0. Use suggest_float(..., log=True) instead.\n",
      "  gamma = trial.suggest_loguniform(\"gamma\", 1e-3, 1e-1)  # Kernel coefficient\n",
      "[I 2024-12-01 03:10:06,495] Trial 167 finished with value: 0.7345588235294118 and parameters: {'nu': 0.012451055402357475, 'gamma': 0.03926281611593002, 'kernel': 'poly'}. Best is trial 77 with value: 0.7455340735202667.\n",
      "[I 2024-12-01 03:10:06,516] Trial 168 finished with value: 0.7345588235294118 and parameters: {'nu': 0.012624723148529545, 'gamma': 0.04271428717153718, 'kernel': 'poly'}. Best is trial 77 with value: 0.7455340735202667.\n",
      "[I 2024-12-01 03:10:06,545] Trial 166 finished with value: 0.7345588235294118 and parameters: {'nu': 0.01293714362137689, 'gamma': 0.03939063692335137, 'kernel': 'poly'}. Best is trial 77 with value: 0.7455340735202667.\n",
      "[I 2024-12-01 03:10:06,577] Trial 169 finished with value: 0.7345588235294118 and parameters: {'nu': 0.01271971584286663, 'gamma': 0.04327930810792838, 'kernel': 'poly'}. Best is trial 77 with value: 0.7455340735202667.\n",
      "C:\\Users\\azad.aliyev\\AppData\\Local\\Temp\\ipykernel_16688\\3042600700.py:4: FutureWarning: suggest_loguniform has been deprecated in v3.0.0. This feature will be removed in v6.0.0. See https://github.com/optuna/optuna/releases/tag/v3.0.0. Use suggest_float(..., log=True) instead.\n",
      "  gamma = trial.suggest_loguniform(\"gamma\", 1e-3, 1e-1)  # Kernel coefficient\n",
      "C:\\Users\\azad.aliyev\\AppData\\Local\\Temp\\ipykernel_16688\\3042600700.py:4: FutureWarning: suggest_loguniform has been deprecated in v3.0.0. This feature will be removed in v6.0.0. See https://github.com/optuna/optuna/releases/tag/v3.0.0. Use suggest_float(..., log=True) instead.\n",
      "  gamma = trial.suggest_loguniform(\"gamma\", 1e-3, 1e-1)  # Kernel coefficient\n",
      "C:\\Users\\azad.aliyev\\AppData\\Local\\Temp\\ipykernel_16688\\3042600700.py:4: FutureWarning: suggest_loguniform has been deprecated in v3.0.0. This feature will be removed in v6.0.0. See https://github.com/optuna/optuna/releases/tag/v3.0.0. Use suggest_float(..., log=True) instead.\n",
      "  gamma = trial.suggest_loguniform(\"gamma\", 1e-3, 1e-1)  # Kernel coefficient\n",
      "[I 2024-12-01 03:10:06,674] Trial 170 finished with value: 0.7345588235294118 and parameters: {'nu': 0.012722195879680232, 'gamma': 0.03894273939455343, 'kernel': 'poly'}. Best is trial 77 with value: 0.7455340735202667.\n",
      "C:\\Users\\azad.aliyev\\AppData\\Local\\Temp\\ipykernel_16688\\3042600700.py:4: FutureWarning: suggest_loguniform has been deprecated in v3.0.0. This feature will be removed in v6.0.0. See https://github.com/optuna/optuna/releases/tag/v3.0.0. Use suggest_float(..., log=True) instead.\n",
      "  gamma = trial.suggest_loguniform(\"gamma\", 1e-3, 1e-1)  # Kernel coefficient\n",
      "C:\\Users\\azad.aliyev\\AppData\\Local\\Temp\\ipykernel_16688\\3042600700.py:4: FutureWarning: suggest_loguniform has been deprecated in v3.0.0. This feature will be removed in v6.0.0. See https://github.com/optuna/optuna/releases/tag/v3.0.0. Use suggest_float(..., log=True) instead.\n",
      "  gamma = trial.suggest_loguniform(\"gamma\", 1e-3, 1e-1)  # Kernel coefficient\n",
      "[I 2024-12-01 03:10:07,397] Trial 173 finished with value: 0.7345588235294118 and parameters: {'nu': 0.012445893600864384, 'gamma': 0.033656601321083855, 'kernel': 'poly'}. Best is trial 77 with value: 0.7455340735202667.\n",
      "[I 2024-12-01 03:10:07,434] Trial 174 finished with value: 0.7240808257163397 and parameters: {'nu': 0.01549950354339153, 'gamma': 0.03214792157776645, 'kernel': 'poly'}. Best is trial 77 with value: 0.7455340735202667.\n",
      "C:\\Users\\azad.aliyev\\AppData\\Local\\Temp\\ipykernel_16688\\3042600700.py:4: FutureWarning: suggest_loguniform has been deprecated in v3.0.0. This feature will be removed in v6.0.0. See https://github.com/optuna/optuna/releases/tag/v3.0.0. Use suggest_float(..., log=True) instead.\n",
      "  gamma = trial.suggest_loguniform(\"gamma\", 1e-3, 1e-1)  # Kernel coefficient\n",
      "[I 2024-12-01 03:10:07,654] Trial 175 finished with value: 0.7240808257163397 and parameters: {'nu': 0.015376024856570598, 'gamma': 0.04214369592751654, 'kernel': 'poly'}. Best is trial 77 with value: 0.7455340735202667.\n",
      "C:\\Users\\azad.aliyev\\AppData\\Local\\Temp\\ipykernel_16688\\3042600700.py:4: FutureWarning: suggest_loguniform has been deprecated in v3.0.0. This feature will be removed in v6.0.0. See https://github.com/optuna/optuna/releases/tag/v3.0.0. Use suggest_float(..., log=True) instead.\n",
      "  gamma = trial.suggest_loguniform(\"gamma\", 1e-3, 1e-1)  # Kernel coefficient\n",
      "[I 2024-12-01 03:10:07,678] Trial 176 finished with value: 0.7240808257163397 and parameters: {'nu': 0.014966558918372109, 'gamma': 0.041574680578866235, 'kernel': 'poly'}. Best is trial 77 with value: 0.7455340735202667.\n",
      "C:\\Users\\azad.aliyev\\AppData\\Local\\Temp\\ipykernel_16688\\3042600700.py:4: FutureWarning: suggest_loguniform has been deprecated in v3.0.0. This feature will be removed in v6.0.0. See https://github.com/optuna/optuna/releases/tag/v3.0.0. Use suggest_float(..., log=True) instead.\n",
      "  gamma = trial.suggest_loguniform(\"gamma\", 1e-3, 1e-1)  # Kernel coefficient\n",
      "C:\\Users\\azad.aliyev\\AppData\\Local\\Temp\\ipykernel_16688\\3042600700.py:4: FutureWarning: suggest_loguniform has been deprecated in v3.0.0. This feature will be removed in v6.0.0. See https://github.com/optuna/optuna/releases/tag/v3.0.0. Use suggest_float(..., log=True) instead.\n",
      "  gamma = trial.suggest_loguniform(\"gamma\", 1e-3, 1e-1)  # Kernel coefficient\n",
      "[I 2024-12-01 03:10:07,991] Trial 178 finished with value: 0.7240808257163397 and parameters: {'nu': 0.015254595929605498, 'gamma': 0.03266795991842883, 'kernel': 'poly'}. Best is trial 77 with value: 0.7455340735202667.\n",
      "[I 2024-12-01 03:10:08,076] Trial 171 finished with value: -1.0 and parameters: {'nu': 0.09569642366151514, 'gamma': 0.03987353603507012, 'kernel': 'poly'}. Best is trial 77 with value: 0.7455340735202667.\n",
      "[I 2024-12-01 03:10:08,108] Trial 177 finished with value: 0.7240808257163397 and parameters: {'nu': 0.015131070711880185, 'gamma': 0.04308419426335365, 'kernel': 'poly'}. Best is trial 77 with value: 0.7455340735202667.\n",
      "C:\\Users\\azad.aliyev\\AppData\\Local\\Temp\\ipykernel_16688\\3042600700.py:4: FutureWarning: suggest_loguniform has been deprecated in v3.0.0. This feature will be removed in v6.0.0. See https://github.com/optuna/optuna/releases/tag/v3.0.0. Use suggest_float(..., log=True) instead.\n",
      "  gamma = trial.suggest_loguniform(\"gamma\", 1e-3, 1e-1)  # Kernel coefficient\n",
      "C:\\Users\\azad.aliyev\\AppData\\Local\\Temp\\ipykernel_16688\\3042600700.py:4: FutureWarning: suggest_loguniform has been deprecated in v3.0.0. This feature will be removed in v6.0.0. See https://github.com/optuna/optuna/releases/tag/v3.0.0. Use suggest_float(..., log=True) instead.\n",
      "  gamma = trial.suggest_loguniform(\"gamma\", 1e-3, 1e-1)  # Kernel coefficient\n",
      "[I 2024-12-01 03:10:08,208] Trial 181 finished with value: 0.7240808257163397 and parameters: {'nu': 0.01523896362588017, 'gamma': 0.03271065938681911, 'kernel': 'poly'}. Best is trial 77 with value: 0.7455340735202667.\n",
      "C:\\Users\\azad.aliyev\\AppData\\Local\\Temp\\ipykernel_16688\\3042600700.py:4: FutureWarning: suggest_loguniform has been deprecated in v3.0.0. This feature will be removed in v6.0.0. See https://github.com/optuna/optuna/releases/tag/v3.0.0. Use suggest_float(..., log=True) instead.\n",
      "  gamma = trial.suggest_loguniform(\"gamma\", 1e-3, 1e-1)  # Kernel coefficient\n",
      "C:\\Users\\azad.aliyev\\AppData\\Local\\Temp\\ipykernel_16688\\3042600700.py:4: FutureWarning: suggest_loguniform has been deprecated in v3.0.0. This feature will be removed in v6.0.0. See https://github.com/optuna/optuna/releases/tag/v3.0.0. Use suggest_float(..., log=True) instead.\n",
      "  gamma = trial.suggest_loguniform(\"gamma\", 1e-3, 1e-1)  # Kernel coefficient\n",
      "[I 2024-12-01 03:10:08,397] Trial 184 finished with value: 0.7455340735202667 and parameters: {'nu': 0.010048794113099429, 'gamma': 0.029713076633075933, 'kernel': 'poly'}. Best is trial 77 with value: 0.7455340735202667.\n",
      "[I 2024-12-01 03:10:08,404] Trial 183 finished with value: 0.7240808257163397 and parameters: {'nu': 0.014921481791947206, 'gamma': 0.03126608272445668, 'kernel': 'poly'}. Best is trial 77 with value: 0.7455340735202667.\n",
      "C:\\Users\\azad.aliyev\\AppData\\Local\\Temp\\ipykernel_16688\\3042600700.py:4: FutureWarning: suggest_loguniform has been deprecated in v3.0.0. This feature will be removed in v6.0.0. See https://github.com/optuna/optuna/releases/tag/v3.0.0. Use suggest_float(..., log=True) instead.\n",
      "  gamma = trial.suggest_loguniform(\"gamma\", 1e-3, 1e-1)  # Kernel coefficient\n",
      "[I 2024-12-01 03:10:08,587] Trial 180 finished with value: 0.7240808257163397 and parameters: {'nu': 0.015426529991143852, 'gamma': 0.0323649169538419, 'kernel': 'poly'}. Best is trial 77 with value: 0.7455340735202667.\n",
      "[I 2024-12-01 03:10:08,596] Trial 179 finished with value: 0.7240808257163397 and parameters: {'nu': 0.01496622506128115, 'gamma': 0.03166956711947293, 'kernel': 'poly'}. Best is trial 77 with value: 0.7455340735202667.\n",
      "[I 2024-12-01 03:10:08,607] Trial 186 finished with value: 0.7076260257210039 and parameters: {'nu': 0.01712655336610551, 'gamma': 0.03051340403375466, 'kernel': 'poly'}. Best is trial 77 with value: 0.7455340735202667.\n",
      "C:\\Users\\azad.aliyev\\AppData\\Local\\Temp\\ipykernel_16688\\3042600700.py:4: FutureWarning: suggest_loguniform has been deprecated in v3.0.0. This feature will be removed in v6.0.0. See https://github.com/optuna/optuna/releases/tag/v3.0.0. Use suggest_float(..., log=True) instead.\n",
      "  gamma = trial.suggest_loguniform(\"gamma\", 1e-3, 1e-1)  # Kernel coefficient\n",
      "C:\\Users\\azad.aliyev\\AppData\\Local\\Temp\\ipykernel_16688\\3042600700.py:4: FutureWarning: suggest_loguniform has been deprecated in v3.0.0. This feature will be removed in v6.0.0. See https://github.com/optuna/optuna/releases/tag/v3.0.0. Use suggest_float(..., log=True) instead.\n",
      "  gamma = trial.suggest_loguniform(\"gamma\", 1e-3, 1e-1)  # Kernel coefficient\n",
      "C:\\Users\\azad.aliyev\\AppData\\Local\\Temp\\ipykernel_16688\\3042600700.py:4: FutureWarning: suggest_loguniform has been deprecated in v3.0.0. This feature will be removed in v6.0.0. See https://github.com/optuna/optuna/releases/tag/v3.0.0. Use suggest_float(..., log=True) instead.\n",
      "  gamma = trial.suggest_loguniform(\"gamma\", 1e-3, 1e-1)  # Kernel coefficient\n",
      "[I 2024-12-01 03:10:08,646] Trial 182 finished with value: 0.7240808257163397 and parameters: {'nu': 0.01536507118973213, 'gamma': 0.03223911111580646, 'kernel': 'poly'}. Best is trial 77 with value: 0.7455340735202667.\n",
      "[I 2024-12-01 03:10:08,654] Trial 172 finished with value: -1.0 and parameters: {'nu': 0.0940500093507922, 'gamma': 0.03290832726775251, 'kernel': 'poly'}. Best is trial 77 with value: 0.7455340735202667.\n",
      "[I 2024-12-01 03:10:08,654] Trial 185 finished with value: 0.7076260257210039 and parameters: {'nu': 0.01739435362024063, 'gamma': 0.05221698299760735, 'kernel': 'poly'}. Best is trial 77 with value: 0.7455340735202667.\n",
      "C:\\Users\\azad.aliyev\\AppData\\Local\\Temp\\ipykernel_16688\\3042600700.py:4: FutureWarning: suggest_loguniform has been deprecated in v3.0.0. This feature will be removed in v6.0.0. See https://github.com/optuna/optuna/releases/tag/v3.0.0. Use suggest_float(..., log=True) instead.\n",
      "  gamma = trial.suggest_loguniform(\"gamma\", 1e-3, 1e-1)  # Kernel coefficient\n",
      "C:\\Users\\azad.aliyev\\AppData\\Local\\Temp\\ipykernel_16688\\3042600700.py:4: FutureWarning: suggest_loguniform has been deprecated in v3.0.0. This feature will be removed in v6.0.0. See https://github.com/optuna/optuna/releases/tag/v3.0.0. Use suggest_float(..., log=True) instead.\n",
      "  gamma = trial.suggest_loguniform(\"gamma\", 1e-3, 1e-1)  # Kernel coefficient\n",
      "C:\\Users\\azad.aliyev\\AppData\\Local\\Temp\\ipykernel_16688\\3042600700.py:4: FutureWarning: suggest_loguniform has been deprecated in v3.0.0. This feature will be removed in v6.0.0. See https://github.com/optuna/optuna/releases/tag/v3.0.0. Use suggest_float(..., log=True) instead.\n",
      "  gamma = trial.suggest_loguniform(\"gamma\", 1e-3, 1e-1)  # Kernel coefficient\n",
      "[I 2024-12-01 03:10:08,745] Trial 187 finished with value: 0.7531468531468531 and parameters: {'nu': 0.010044236231830749, 'gamma': 0.030569083184976212, 'kernel': 'sigmoid'}. Best is trial 187 with value: 0.7531468531468531.\n",
      "[I 2024-12-01 03:10:08,756] Trial 190 finished with value: 0.7531468531468531 and parameters: {'nu': 0.010204296000071165, 'gamma': 0.030590475029834304, 'kernel': 'sigmoid'}. Best is trial 187 with value: 0.7531468531468531.\n",
      "C:\\Users\\azad.aliyev\\AppData\\Local\\Temp\\ipykernel_16688\\3042600700.py:4: FutureWarning: suggest_loguniform has been deprecated in v3.0.0. This feature will be removed in v6.0.0. See https://github.com/optuna/optuna/releases/tag/v3.0.0. Use suggest_float(..., log=True) instead.\n",
      "  gamma = trial.suggest_loguniform(\"gamma\", 1e-3, 1e-1)  # Kernel coefficient\n",
      "[I 2024-12-01 03:10:08,776] Trial 188 finished with value: 0.7531468531468531 and parameters: {'nu': 0.010093973663784173, 'gamma': 0.029689848555114876, 'kernel': 'sigmoid'}. Best is trial 187 with value: 0.7531468531468531.\n",
      "C:\\Users\\azad.aliyev\\AppData\\Local\\Temp\\ipykernel_16688\\3042600700.py:4: FutureWarning: suggest_loguniform has been deprecated in v3.0.0. This feature will be removed in v6.0.0. See https://github.com/optuna/optuna/releases/tag/v3.0.0. Use suggest_float(..., log=True) instead.\n",
      "  gamma = trial.suggest_loguniform(\"gamma\", 1e-3, 1e-1)  # Kernel coefficient\n",
      "[I 2024-12-01 03:10:08,797] Trial 189 finished with value: 0.7531468531468531 and parameters: {'nu': 0.01014022960606191, 'gamma': 0.029694978076871544, 'kernel': 'sigmoid'}. Best is trial 187 with value: 0.7531468531468531.\n",
      "C:\\Users\\azad.aliyev\\AppData\\Local\\Temp\\ipykernel_16688\\3042600700.py:4: FutureWarning: suggest_loguniform has been deprecated in v3.0.0. This feature will be removed in v6.0.0. See https://github.com/optuna/optuna/releases/tag/v3.0.0. Use suggest_float(..., log=True) instead.\n",
      "  gamma = trial.suggest_loguniform(\"gamma\", 1e-3, 1e-1)  # Kernel coefficient\n",
      "[I 2024-12-01 03:10:08,797] Trial 191 finished with value: 0.7455340735202667 and parameters: {'nu': 0.010069696606640931, 'gamma': 0.05222146201483209, 'kernel': 'poly'}. Best is trial 187 with value: 0.7531468531468531.\n",
      "[I 2024-12-01 03:10:08,807] Trial 192 finished with value: 0.7455340735202667 and parameters: {'nu': 0.010207478971857501, 'gamma': 0.029260565551106676, 'kernel': 'poly'}. Best is trial 187 with value: 0.7531468531468531.\n",
      "C:\\Users\\azad.aliyev\\AppData\\Local\\Temp\\ipykernel_16688\\3042600700.py:4: FutureWarning: suggest_loguniform has been deprecated in v3.0.0. This feature will be removed in v6.0.0. See https://github.com/optuna/optuna/releases/tag/v3.0.0. Use suggest_float(..., log=True) instead.\n",
      "  gamma = trial.suggest_loguniform(\"gamma\", 1e-3, 1e-1)  # Kernel coefficient\n",
      "C:\\Users\\azad.aliyev\\AppData\\Local\\Temp\\ipykernel_16688\\3042600700.py:4: FutureWarning: suggest_loguniform has been deprecated in v3.0.0. This feature will be removed in v6.0.0. See https://github.com/optuna/optuna/releases/tag/v3.0.0. Use suggest_float(..., log=True) instead.\n",
      "  gamma = trial.suggest_loguniform(\"gamma\", 1e-3, 1e-1)  # Kernel coefficient\n",
      "C:\\Users\\azad.aliyev\\AppData\\Local\\Temp\\ipykernel_16688\\3042600700.py:4: FutureWarning: suggest_loguniform has been deprecated in v3.0.0. This feature will be removed in v6.0.0. See https://github.com/optuna/optuna/releases/tag/v3.0.0. Use suggest_float(..., log=True) instead.\n",
      "  gamma = trial.suggest_loguniform(\"gamma\", 1e-3, 1e-1)  # Kernel coefficient\n",
      "[I 2024-12-01 03:10:08,862] Trial 194 finished with value: 0.7493098192130451 and parameters: {'nu': 0.010196869595984629, 'gamma': 0.025944904667973265, 'kernel': 'sigmoid'}. Best is trial 187 with value: 0.7531468531468531.\n",
      "C:\\Users\\azad.aliyev\\AppData\\Local\\Temp\\ipykernel_16688\\3042600700.py:4: FutureWarning: suggest_loguniform has been deprecated in v3.0.0. This feature will be removed in v6.0.0. See https://github.com/optuna/optuna/releases/tag/v3.0.0. Use suggest_float(..., log=True) instead.\n",
      "  gamma = trial.suggest_loguniform(\"gamma\", 1e-3, 1e-1)  # Kernel coefficient\n",
      "[I 2024-12-01 03:10:08,887] Trial 195 finished with value: 0.7531468531468531 and parameters: {'nu': 0.010053608268874319, 'gamma': 0.05172491987060412, 'kernel': 'sigmoid'}. Best is trial 187 with value: 0.7531468531468531.\n",
      "[I 2024-12-01 03:10:08,912] Trial 193 finished with value: 0.7531468531468531 and parameters: {'nu': 0.010156419741267457, 'gamma': 0.028356862200884844, 'kernel': 'sigmoid'}. Best is trial 187 with value: 0.7531468531468531.\n",
      "C:\\Users\\azad.aliyev\\AppData\\Local\\Temp\\ipykernel_16688\\3042600700.py:4: FutureWarning: suggest_loguniform has been deprecated in v3.0.0. This feature will be removed in v6.0.0. See https://github.com/optuna/optuna/releases/tag/v3.0.0. Use suggest_float(..., log=True) instead.\n",
      "  gamma = trial.suggest_loguniform(\"gamma\", 1e-3, 1e-1)  # Kernel coefficient\n",
      "[I 2024-12-01 03:10:08,929] Trial 196 finished with value: 0.7493098192130451 and parameters: {'nu': 0.010404468911192259, 'gamma': 0.024358322120483573, 'kernel': 'sigmoid'}. Best is trial 187 with value: 0.7531468531468531.\n",
      "C:\\Users\\azad.aliyev\\AppData\\Local\\Temp\\ipykernel_16688\\3042600700.py:4: FutureWarning: suggest_loguniform has been deprecated in v3.0.0. This feature will be removed in v6.0.0. See https://github.com/optuna/optuna/releases/tag/v3.0.0. Use suggest_float(..., log=True) instead.\n",
      "  gamma = trial.suggest_loguniform(\"gamma\", 1e-3, 1e-1)  # Kernel coefficient\n",
      "C:\\Users\\azad.aliyev\\AppData\\Local\\Temp\\ipykernel_16688\\3042600700.py:4: FutureWarning: suggest_loguniform has been deprecated in v3.0.0. This feature will be removed in v6.0.0. See https://github.com/optuna/optuna/releases/tag/v3.0.0. Use suggest_float(..., log=True) instead.\n",
      "  gamma = trial.suggest_loguniform(\"gamma\", 1e-3, 1e-1)  # Kernel coefficient\n",
      "[I 2024-12-01 03:10:08,974] Trial 197 finished with value: 0.7531468531468531 and parameters: {'nu': 0.010061886600023573, 'gamma': 0.02871109061751148, 'kernel': 'sigmoid'}. Best is trial 187 with value: 0.7531468531468531.\n",
      "[I 2024-12-01 03:10:08,993] Trial 198 finished with value: 0.7477005829165297 and parameters: {'nu': 0.01005704327836199, 'gamma': 0.026002924847358305, 'kernel': 'sigmoid'}. Best is trial 187 with value: 0.7531468531468531.\n",
      "C:\\Users\\azad.aliyev\\AppData\\Local\\Temp\\ipykernel_16688\\3042600700.py:4: FutureWarning: suggest_loguniform has been deprecated in v3.0.0. This feature will be removed in v6.0.0. See https://github.com/optuna/optuna/releases/tag/v3.0.0. Use suggest_float(..., log=True) instead.\n",
      "  gamma = trial.suggest_loguniform(\"gamma\", 1e-3, 1e-1)  # Kernel coefficient\n",
      "C:\\Users\\azad.aliyev\\AppData\\Local\\Temp\\ipykernel_16688\\3042600700.py:4: FutureWarning: suggest_loguniform has been deprecated in v3.0.0. This feature will be removed in v6.0.0. See https://github.com/optuna/optuna/releases/tag/v3.0.0. Use suggest_float(..., log=True) instead.\n",
      "  gamma = trial.suggest_loguniform(\"gamma\", 1e-3, 1e-1)  # Kernel coefficient\n",
      "[I 2024-12-01 03:10:09,044] Trial 199 finished with value: 0.7493098192130451 and parameters: {'nu': 0.010317477341450339, 'gamma': 0.02442248038016538, 'kernel': 'sigmoid'}. Best is trial 187 with value: 0.7531468531468531.\n",
      "[I 2024-12-01 03:10:09,046] Trial 200 finished with value: 0.7477005829165297 and parameters: {'nu': 0.010099248837504144, 'gamma': 0.02518579246520295, 'kernel': 'sigmoid'}. Best is trial 187 with value: 0.7531468531468531.\n",
      "[I 2024-12-01 03:10:09,066] Trial 201 finished with value: 0.7381600923348497 and parameters: {'nu': 0.011474808492819375, 'gamma': 0.0254218009582716, 'kernel': 'sigmoid'}. Best is trial 187 with value: 0.7531468531468531.\n",
      "C:\\Users\\azad.aliyev\\AppData\\Local\\Temp\\ipykernel_16688\\3042600700.py:4: FutureWarning: suggest_loguniform has been deprecated in v3.0.0. This feature will be removed in v6.0.0. See https://github.com/optuna/optuna/releases/tag/v3.0.0. Use suggest_float(..., log=True) instead.\n",
      "  gamma = trial.suggest_loguniform(\"gamma\", 1e-3, 1e-1)  # Kernel coefficient\n",
      "C:\\Users\\azad.aliyev\\AppData\\Local\\Temp\\ipykernel_16688\\3042600700.py:4: FutureWarning: suggest_loguniform has been deprecated in v3.0.0. This feature will be removed in v6.0.0. See https://github.com/optuna/optuna/releases/tag/v3.0.0. Use suggest_float(..., log=True) instead.\n",
      "  gamma = trial.suggest_loguniform(\"gamma\", 1e-3, 1e-1)  # Kernel coefficient\n",
      "C:\\Users\\azad.aliyev\\AppData\\Local\\Temp\\ipykernel_16688\\3042600700.py:4: FutureWarning: suggest_loguniform has been deprecated in v3.0.0. This feature will be removed in v6.0.0. See https://github.com/optuna/optuna/releases/tag/v3.0.0. Use suggest_float(..., log=True) instead.\n",
      "  gamma = trial.suggest_loguniform(\"gamma\", 1e-3, 1e-1)  # Kernel coefficient\n",
      "[I 2024-12-01 03:10:09,107] Trial 202 finished with value: 0.7381600923348497 and parameters: {'nu': 0.011834557928145334, 'gamma': 0.025569157822910252, 'kernel': 'sigmoid'}. Best is trial 187 with value: 0.7531468531468531.\n",
      "[I 2024-12-01 03:10:09,117] Trial 203 finished with value: 0.7381600923348497 and parameters: {'nu': 0.011358171233012259, 'gamma': 0.025055948212474092, 'kernel': 'sigmoid'}. Best is trial 187 with value: 0.7531468531468531.\n",
      "[I 2024-12-01 03:10:09,117] Trial 204 finished with value: 0.7381600923348497 and parameters: {'nu': 0.011473734966948949, 'gamma': 0.025171412945556394, 'kernel': 'sigmoid'}. Best is trial 187 with value: 0.7531468531468531.\n",
      "C:\\Users\\azad.aliyev\\AppData\\Local\\Temp\\ipykernel_16688\\3042600700.py:4: FutureWarning: suggest_loguniform has been deprecated in v3.0.0. This feature will be removed in v6.0.0. See https://github.com/optuna/optuna/releases/tag/v3.0.0. Use suggest_float(..., log=True) instead.\n",
      "  gamma = trial.suggest_loguniform(\"gamma\", 1e-3, 1e-1)  # Kernel coefficient\n",
      "C:\\Users\\azad.aliyev\\AppData\\Local\\Temp\\ipykernel_16688\\3042600700.py:4: FutureWarning: suggest_loguniform has been deprecated in v3.0.0. This feature will be removed in v6.0.0. See https://github.com/optuna/optuna/releases/tag/v3.0.0. Use suggest_float(..., log=True) instead.\n",
      "  gamma = trial.suggest_loguniform(\"gamma\", 1e-3, 1e-1)  # Kernel coefficient\n",
      "C:\\Users\\azad.aliyev\\AppData\\Local\\Temp\\ipykernel_16688\\3042600700.py:4: FutureWarning: suggest_loguniform has been deprecated in v3.0.0. This feature will be removed in v6.0.0. See https://github.com/optuna/optuna/releases/tag/v3.0.0. Use suggest_float(..., log=True) instead.\n",
      "  gamma = trial.suggest_loguniform(\"gamma\", 1e-3, 1e-1)  # Kernel coefficient\n",
      "[I 2024-12-01 03:10:09,157] Trial 205 finished with value: 0.7381600923348497 and parameters: {'nu': 0.011558115687540681, 'gamma': 0.025468101444274, 'kernel': 'sigmoid'}. Best is trial 187 with value: 0.7531468531468531.\n",
      "[I 2024-12-01 03:10:09,175] Trial 206 finished with value: 0.7381600923348497 and parameters: {'nu': 0.011630411549947435, 'gamma': 0.021930933826686858, 'kernel': 'sigmoid'}. Best is trial 187 with value: 0.7531468531468531.\n",
      "[I 2024-12-01 03:10:09,175] Trial 207 finished with value: 0.7381600923348497 and parameters: {'nu': 0.01168508308924322, 'gamma': 0.024672163176042126, 'kernel': 'sigmoid'}. Best is trial 187 with value: 0.7531468531468531.\n",
      "C:\\Users\\azad.aliyev\\AppData\\Local\\Temp\\ipykernel_16688\\3042600700.py:4: FutureWarning: suggest_loguniform has been deprecated in v3.0.0. This feature will be removed in v6.0.0. See https://github.com/optuna/optuna/releases/tag/v3.0.0. Use suggest_float(..., log=True) instead.\n",
      "  gamma = trial.suggest_loguniform(\"gamma\", 1e-3, 1e-1)  # Kernel coefficient\n",
      "C:\\Users\\azad.aliyev\\AppData\\Local\\Temp\\ipykernel_16688\\3042600700.py:4: FutureWarning: suggest_loguniform has been deprecated in v3.0.0. This feature will be removed in v6.0.0. See https://github.com/optuna/optuna/releases/tag/v3.0.0. Use suggest_float(..., log=True) instead.\n",
      "  gamma = trial.suggest_loguniform(\"gamma\", 1e-3, 1e-1)  # Kernel coefficient\n",
      "C:\\Users\\azad.aliyev\\AppData\\Local\\Temp\\ipykernel_16688\\3042600700.py:4: FutureWarning: suggest_loguniform has been deprecated in v3.0.0. This feature will be removed in v6.0.0. See https://github.com/optuna/optuna/releases/tag/v3.0.0. Use suggest_float(..., log=True) instead.\n",
      "  gamma = trial.suggest_loguniform(\"gamma\", 1e-3, 1e-1)  # Kernel coefficient\n",
      "[I 2024-12-01 03:10:09,242] Trial 208 finished with value: 0.7436274509803922 and parameters: {'nu': 0.012318219171876307, 'gamma': 0.02425322686253378, 'kernel': 'sigmoid'}. Best is trial 187 with value: 0.7531468531468531.\n",
      "C:\\Users\\azad.aliyev\\AppData\\Local\\Temp\\ipykernel_16688\\3042600700.py:4: FutureWarning: suggest_loguniform has been deprecated in v3.0.0. This feature will be removed in v6.0.0. See https://github.com/optuna/optuna/releases/tag/v3.0.0. Use suggest_float(..., log=True) instead.\n",
      "  gamma = trial.suggest_loguniform(\"gamma\", 1e-3, 1e-1)  # Kernel coefficient\n",
      "[I 2024-12-01 03:10:09,258] Trial 210 finished with value: 0.7381600923348497 and parameters: {'nu': 0.011980572410138213, 'gamma': 0.02583003473228853, 'kernel': 'sigmoid'}. Best is trial 187 with value: 0.7531468531468531.\n",
      "[I 2024-12-01 03:10:09,266] Trial 209 finished with value: 0.7381600923348497 and parameters: {'nu': 0.011728250397999594, 'gamma': 0.024289834331982542, 'kernel': 'sigmoid'}. Best is trial 187 with value: 0.7531468531468531.\n",
      "C:\\Users\\azad.aliyev\\AppData\\Local\\Temp\\ipykernel_16688\\3042600700.py:4: FutureWarning: suggest_loguniform has been deprecated in v3.0.0. This feature will be removed in v6.0.0. See https://github.com/optuna/optuna/releases/tag/v3.0.0. Use suggest_float(..., log=True) instead.\n",
      "  gamma = trial.suggest_loguniform(\"gamma\", 1e-3, 1e-1)  # Kernel coefficient\n",
      "C:\\Users\\azad.aliyev\\AppData\\Local\\Temp\\ipykernel_16688\\3042600700.py:4: FutureWarning: suggest_loguniform has been deprecated in v3.0.0. This feature will be removed in v6.0.0. See https://github.com/optuna/optuna/releases/tag/v3.0.0. Use suggest_float(..., log=True) instead.\n",
      "  gamma = trial.suggest_loguniform(\"gamma\", 1e-3, 1e-1)  # Kernel coefficient\n",
      "[I 2024-12-01 03:10:09,315] Trial 211 finished with value: 0.7381600923348497 and parameters: {'nu': 0.011671319952268368, 'gamma': 0.02534504873984198, 'kernel': 'sigmoid'}. Best is trial 187 with value: 0.7531468531468531.\n",
      "C:\\Users\\azad.aliyev\\AppData\\Local\\Temp\\ipykernel_16688\\3042600700.py:4: FutureWarning: suggest_loguniform has been deprecated in v3.0.0. This feature will be removed in v6.0.0. See https://github.com/optuna/optuna/releases/tag/v3.0.0. Use suggest_float(..., log=True) instead.\n",
      "  gamma = trial.suggest_loguniform(\"gamma\", 1e-3, 1e-1)  # Kernel coefficient\n",
      "[I 2024-12-01 03:10:09,342] Trial 212 finished with value: 0.7381600923348497 and parameters: {'nu': 0.012019219791511961, 'gamma': 0.020683660583841225, 'kernel': 'sigmoid'}. Best is trial 187 with value: 0.7531468531468531.\n",
      "[I 2024-12-01 03:10:09,350] Trial 215 finished with value: 0.7381600923348497 and parameters: {'nu': 0.011944721701062878, 'gamma': 0.021736147845070334, 'kernel': 'sigmoid'}. Best is trial 187 with value: 0.7531468531468531.\n",
      "[I 2024-12-01 03:10:09,358] Trial 213 finished with value: 0.7381600923348497 and parameters: {'nu': 0.012081568188497456, 'gamma': 0.024409795287364307, 'kernel': 'sigmoid'}. Best is trial 187 with value: 0.7531468531468531.\n",
      "[I 2024-12-01 03:10:09,366] Trial 214 finished with value: 0.7436274509803922 and parameters: {'nu': 0.012283708124401486, 'gamma': 0.020839458242131157, 'kernel': 'sigmoid'}. Best is trial 187 with value: 0.7531468531468531.\n",
      "[I 2024-12-01 03:10:09,374] Trial 216 finished with value: 0.7381600923348497 and parameters: {'nu': 0.012007237518519925, 'gamma': 0.02792757268443978, 'kernel': 'sigmoid'}. Best is trial 187 with value: 0.7531468531468531.\n",
      "C:\\Users\\azad.aliyev\\AppData\\Local\\Temp\\ipykernel_16688\\3042600700.py:4: FutureWarning: suggest_loguniform has been deprecated in v3.0.0. This feature will be removed in v6.0.0. See https://github.com/optuna/optuna/releases/tag/v3.0.0. Use suggest_float(..., log=True) instead.\n",
      "  gamma = trial.suggest_loguniform(\"gamma\", 1e-3, 1e-1)  # Kernel coefficient\n",
      "C:\\Users\\azad.aliyev\\AppData\\Local\\Temp\\ipykernel_16688\\3042600700.py:4: FutureWarning: suggest_loguniform has been deprecated in v3.0.0. This feature will be removed in v6.0.0. See https://github.com/optuna/optuna/releases/tag/v3.0.0. Use suggest_float(..., log=True) instead.\n",
      "  gamma = trial.suggest_loguniform(\"gamma\", 1e-3, 1e-1)  # Kernel coefficient\n",
      "C:\\Users\\azad.aliyev\\AppData\\Local\\Temp\\ipykernel_16688\\3042600700.py:4: FutureWarning: suggest_loguniform has been deprecated in v3.0.0. This feature will be removed in v6.0.0. See https://github.com/optuna/optuna/releases/tag/v3.0.0. Use suggest_float(..., log=True) instead.\n",
      "  gamma = trial.suggest_loguniform(\"gamma\", 1e-3, 1e-1)  # Kernel coefficient\n",
      "C:\\Users\\azad.aliyev\\AppData\\Local\\Temp\\ipykernel_16688\\3042600700.py:4: FutureWarning: suggest_loguniform has been deprecated in v3.0.0. This feature will be removed in v6.0.0. See https://github.com/optuna/optuna/releases/tag/v3.0.0. Use suggest_float(..., log=True) instead.\n",
      "  gamma = trial.suggest_loguniform(\"gamma\", 1e-3, 1e-1)  # Kernel coefficient\n",
      "C:\\Users\\azad.aliyev\\AppData\\Local\\Temp\\ipykernel_16688\\3042600700.py:4: FutureWarning: suggest_loguniform has been deprecated in v3.0.0. This feature will be removed in v6.0.0. See https://github.com/optuna/optuna/releases/tag/v3.0.0. Use suggest_float(..., log=True) instead.\n",
      "  gamma = trial.suggest_loguniform(\"gamma\", 1e-3, 1e-1)  # Kernel coefficient\n",
      "[I 2024-12-01 03:10:09,450] Trial 217 finished with value: 0.7381600923348497 and parameters: {'nu': 0.011921597838127613, 'gamma': 0.026823187396688465, 'kernel': 'sigmoid'}. Best is trial 187 with value: 0.7531468531468531.\n",
      "[I 2024-12-01 03:10:09,458] Trial 219 finished with value: 0.7436274509803922 and parameters: {'nu': 0.012341772090251476, 'gamma': 0.020513836688358184, 'kernel': 'sigmoid'}. Best is trial 187 with value: 0.7531468531468531.\n",
      "[I 2024-12-01 03:10:09,474] Trial 218 finished with value: 0.731012771012771 and parameters: {'nu': 0.013749323804040666, 'gamma': 0.027777702331568274, 'kernel': 'sigmoid'}. Best is trial 187 with value: 0.7531468531468531.\n",
      "[I 2024-12-01 03:10:09,509] Trial 220 finished with value: 0.731012771012771 and parameters: {'nu': 0.014008929473796007, 'gamma': 0.021037280155423062, 'kernel': 'sigmoid'}. Best is trial 187 with value: 0.7531468531468531.\n",
      "C:\\Users\\azad.aliyev\\AppData\\Local\\Temp\\ipykernel_16688\\3042600700.py:4: FutureWarning: suggest_loguniform has been deprecated in v3.0.0. This feature will be removed in v6.0.0. See https://github.com/optuna/optuna/releases/tag/v3.0.0. Use suggest_float(..., log=True) instead.\n",
      "  gamma = trial.suggest_loguniform(\"gamma\", 1e-3, 1e-1)  # Kernel coefficient\n",
      "C:\\Users\\azad.aliyev\\AppData\\Local\\Temp\\ipykernel_16688\\3042600700.py:4: FutureWarning: suggest_loguniform has been deprecated in v3.0.0. This feature will be removed in v6.0.0. See https://github.com/optuna/optuna/releases/tag/v3.0.0. Use suggest_float(..., log=True) instead.\n",
      "  gamma = trial.suggest_loguniform(\"gamma\", 1e-3, 1e-1)  # Kernel coefficient\n",
      "C:\\Users\\azad.aliyev\\AppData\\Local\\Temp\\ipykernel_16688\\3042600700.py:4: FutureWarning: suggest_loguniform has been deprecated in v3.0.0. This feature will be removed in v6.0.0. See https://github.com/optuna/optuna/releases/tag/v3.0.0. Use suggest_float(..., log=True) instead.\n",
      "  gamma = trial.suggest_loguniform(\"gamma\", 1e-3, 1e-1)  # Kernel coefficient\n",
      "C:\\Users\\azad.aliyev\\AppData\\Local\\Temp\\ipykernel_16688\\3042600700.py:4: FutureWarning: suggest_loguniform has been deprecated in v3.0.0. This feature will be removed in v6.0.0. See https://github.com/optuna/optuna/releases/tag/v3.0.0. Use suggest_float(..., log=True) instead.\n",
      "  gamma = trial.suggest_loguniform(\"gamma\", 1e-3, 1e-1)  # Kernel coefficient\n",
      "[I 2024-12-01 03:10:09,752] Trial 221 finished with value: 0.731012771012771 and parameters: {'nu': 0.013902471042623637, 'gamma': 0.028332029445298976, 'kernel': 'sigmoid'}. Best is trial 187 with value: 0.7531468531468531.\n",
      "[I 2024-12-01 03:10:09,813] Trial 223 finished with value: 0.731012771012771 and parameters: {'nu': 0.0142547696163532, 'gamma': 0.028138429976923493, 'kernel': 'sigmoid'}. Best is trial 187 with value: 0.7531468531468531.\n",
      "[I 2024-12-01 03:10:09,821] Trial 222 finished with value: 0.74003762003762 and parameters: {'nu': 0.013517759434631554, 'gamma': 0.02772951348464153, 'kernel': 'sigmoid'}. Best is trial 187 with value: 0.7531468531468531.\n",
      "[I 2024-12-01 03:10:09,876] Trial 226 finished with value: 0.731012771012771 and parameters: {'nu': 0.013970799359676902, 'gamma': 0.028759532341626228, 'kernel': 'sigmoid'}. Best is trial 187 with value: 0.7531468531468531.\n",
      "C:\\Users\\azad.aliyev\\AppData\\Local\\Temp\\ipykernel_16688\\3042600700.py:4: FutureWarning: suggest_loguniform has been deprecated in v3.0.0. This feature will be removed in v6.0.0. See https://github.com/optuna/optuna/releases/tag/v3.0.0. Use suggest_float(..., log=True) instead.\n",
      "  gamma = trial.suggest_loguniform(\"gamma\", 1e-3, 1e-1)  # Kernel coefficient\n",
      "C:\\Users\\azad.aliyev\\AppData\\Local\\Temp\\ipykernel_16688\\3042600700.py:4: FutureWarning: suggest_loguniform has been deprecated in v3.0.0. This feature will be removed in v6.0.0. See https://github.com/optuna/optuna/releases/tag/v3.0.0. Use suggest_float(..., log=True) instead.\n",
      "  gamma = trial.suggest_loguniform(\"gamma\", 1e-3, 1e-1)  # Kernel coefficient\n",
      "C:\\Users\\azad.aliyev\\AppData\\Local\\Temp\\ipykernel_16688\\3042600700.py:4: FutureWarning: suggest_loguniform has been deprecated in v3.0.0. This feature will be removed in v6.0.0. See https://github.com/optuna/optuna/releases/tag/v3.0.0. Use suggest_float(..., log=True) instead.\n",
      "  gamma = trial.suggest_loguniform(\"gamma\", 1e-3, 1e-1)  # Kernel coefficient\n",
      "[I 2024-12-01 03:10:09,915] Trial 227 finished with value: 0.731012771012771 and parameters: {'nu': 0.014155918585536865, 'gamma': 0.02836362053978476, 'kernel': 'sigmoid'}. Best is trial 187 with value: 0.7531468531468531.\n",
      "[I 2024-12-01 03:10:09,917] Trial 224 finished with value: 0.731012771012771 and parameters: {'nu': 0.013887145232570057, 'gamma': 0.02685080737526195, 'kernel': 'sigmoid'}. Best is trial 187 with value: 0.7531468531468531.\n",
      "C:\\Users\\azad.aliyev\\AppData\\Local\\Temp\\ipykernel_16688\\3042600700.py:4: FutureWarning: suggest_loguniform has been deprecated in v3.0.0. This feature will be removed in v6.0.0. See https://github.com/optuna/optuna/releases/tag/v3.0.0. Use suggest_float(..., log=True) instead.\n",
      "  gamma = trial.suggest_loguniform(\"gamma\", 1e-3, 1e-1)  # Kernel coefficient\n",
      "C:\\Users\\azad.aliyev\\AppData\\Local\\Temp\\ipykernel_16688\\3042600700.py:4: FutureWarning: suggest_loguniform has been deprecated in v3.0.0. This feature will be removed in v6.0.0. See https://github.com/optuna/optuna/releases/tag/v3.0.0. Use suggest_float(..., log=True) instead.\n",
      "  gamma = trial.suggest_loguniform(\"gamma\", 1e-3, 1e-1)  # Kernel coefficient\n",
      "[I 2024-12-01 03:10:10,085] Trial 228 finished with value: 0.731012771012771 and parameters: {'nu': 0.013951345531622408, 'gamma': 0.02854441911077623, 'kernel': 'sigmoid'}. Best is trial 187 with value: 0.7531468531468531.\n",
      "[I 2024-12-01 03:10:10,196] Trial 229 finished with value: 0.731012771012771 and parameters: {'nu': 0.014190597983176644, 'gamma': 0.02876439173187974, 'kernel': 'sigmoid'}. Best is trial 187 with value: 0.7531468531468531.\n",
      "[I 2024-12-01 03:10:10,197] Trial 225 finished with value: 0.731012771012771 and parameters: {'nu': 0.013953153385351408, 'gamma': 0.028381365741163365, 'kernel': 'sigmoid'}. Best is trial 187 with value: 0.7531468531468531.\n",
      "C:\\Users\\azad.aliyev\\AppData\\Local\\Temp\\ipykernel_16688\\3042600700.py:4: FutureWarning: suggest_loguniform has been deprecated in v3.0.0. This feature will be removed in v6.0.0. See https://github.com/optuna/optuna/releases/tag/v3.0.0. Use suggest_float(..., log=True) instead.\n",
      "  gamma = trial.suggest_loguniform(\"gamma\", 1e-3, 1e-1)  # Kernel coefficient\n",
      "[I 2024-12-01 03:10:10,261] Trial 232 finished with value: 0.7531468531468531 and parameters: {'nu': 0.010064294261597061, 'gamma': 0.029141997675235613, 'kernel': 'sigmoid'}. Best is trial 187 with value: 0.7531468531468531.\n",
      "C:\\Users\\azad.aliyev\\AppData\\Local\\Temp\\ipykernel_16688\\3042600700.py:4: FutureWarning: suggest_loguniform has been deprecated in v3.0.0. This feature will be removed in v6.0.0. See https://github.com/optuna/optuna/releases/tag/v3.0.0. Use suggest_float(..., log=True) instead.\n",
      "  gamma = trial.suggest_loguniform(\"gamma\", 1e-3, 1e-1)  # Kernel coefficient\n",
      "C:\\Users\\azad.aliyev\\AppData\\Local\\Temp\\ipykernel_16688\\3042600700.py:4: FutureWarning: suggest_loguniform has been deprecated in v3.0.0. This feature will be removed in v6.0.0. See https://github.com/optuna/optuna/releases/tag/v3.0.0. Use suggest_float(..., log=True) instead.\n",
      "  gamma = trial.suggest_loguniform(\"gamma\", 1e-3, 1e-1)  # Kernel coefficient\n",
      "[I 2024-12-01 03:10:10,321] Trial 231 finished with value: 0.731012771012771 and parameters: {'nu': 0.013894307955753636, 'gamma': 0.02734358433467278, 'kernel': 'sigmoid'}. Best is trial 187 with value: 0.7531468531468531.\n",
      "[I 2024-12-01 03:10:10,341] Trial 230 finished with value: 0.7365022855419674 and parameters: {'nu': 0.0140344388004301, 'gamma': 0.028286044736287284, 'kernel': 'sigmoid'}. Best is trial 187 with value: 0.7531468531468531.\n",
      "C:\\Users\\azad.aliyev\\AppData\\Local\\Temp\\ipykernel_16688\\3042600700.py:4: FutureWarning: suggest_loguniform has been deprecated in v3.0.0. This feature will be removed in v6.0.0. See https://github.com/optuna/optuna/releases/tag/v3.0.0. Use suggest_float(..., log=True) instead.\n",
      "  gamma = trial.suggest_loguniform(\"gamma\", 1e-3, 1e-1)  # Kernel coefficient\n",
      "C:\\Users\\azad.aliyev\\AppData\\Local\\Temp\\ipykernel_16688\\3042600700.py:4: FutureWarning: suggest_loguniform has been deprecated in v3.0.0. This feature will be removed in v6.0.0. See https://github.com/optuna/optuna/releases/tag/v3.0.0. Use suggest_float(..., log=True) instead.\n",
      "  gamma = trial.suggest_loguniform(\"gamma\", 1e-3, 1e-1)  # Kernel coefficient\n",
      "C:\\Users\\azad.aliyev\\AppData\\Local\\Temp\\ipykernel_16688\\3042600700.py:4: FutureWarning: suggest_loguniform has been deprecated in v3.0.0. This feature will be removed in v6.0.0. See https://github.com/optuna/optuna/releases/tag/v3.0.0. Use suggest_float(..., log=True) instead.\n",
      "  gamma = trial.suggest_loguniform(\"gamma\", 1e-3, 1e-1)  # Kernel coefficient\n",
      "[I 2024-12-01 03:10:10,759] Trial 238 finished with value: 0.7570468402029864 and parameters: {'nu': 0.010035039446789056, 'gamma': 0.0563750769961434, 'kernel': 'sigmoid'}. Best is trial 238 with value: 0.7570468402029864.\n",
      "C:\\Users\\azad.aliyev\\AppData\\Local\\Temp\\ipykernel_16688\\3042600700.py:4: FutureWarning: suggest_loguniform has been deprecated in v3.0.0. This feature will be removed in v6.0.0. See https://github.com/optuna/optuna/releases/tag/v3.0.0. Use suggest_float(..., log=True) instead.\n",
      "  gamma = trial.suggest_loguniform(\"gamma\", 1e-3, 1e-1)  # Kernel coefficient\n",
      "[I 2024-12-01 03:10:10,850] Trial 235 finished with value: 0.7531468531468531 and parameters: {'nu': 0.010070127130859547, 'gamma': 0.045867845410052364, 'kernel': 'sigmoid'}. Best is trial 238 with value: 0.7570468402029864.\n",
      "[I 2024-12-01 03:10:10,920] Trial 239 finished with value: 0.7531468531468531 and parameters: {'nu': 0.010269979471586322, 'gamma': 0.05527781254060131, 'kernel': 'sigmoid'}. Best is trial 238 with value: 0.7570468402029864.\n",
      "[I 2024-12-01 03:10:11,005] Trial 236 finished with value: 0.7493098192130451 and parameters: {'nu': 0.01080754017563483, 'gamma': 0.05735536484415113, 'kernel': 'sigmoid'}. Best is trial 238 with value: 0.7570468402029864.\n",
      "[I 2024-12-01 03:10:11,053] Trial 240 finished with value: 0.7531468531468531 and parameters: {'nu': 0.010395330411269997, 'gamma': 0.044253655134537634, 'kernel': 'sigmoid'}. Best is trial 238 with value: 0.7570468402029864.\n",
      "[I 2024-12-01 03:10:11,067] Trial 233 finished with value: 0.7531468531468531 and parameters: {'nu': 0.010231025991145438, 'gamma': 0.05290601604854408, 'kernel': 'sigmoid'}. Best is trial 238 with value: 0.7570468402029864.\n",
      "[I 2024-12-01 03:10:11,079] Trial 234 finished with value: 0.7531468531468531 and parameters: {'nu': 0.01027785724164286, 'gamma': 0.05141316740124052, 'kernel': 'sigmoid'}. Best is trial 238 with value: 0.7570468402029864.\n",
      "C:\\Users\\azad.aliyev\\AppData\\Local\\Temp\\ipykernel_16688\\3042600700.py:4: FutureWarning: suggest_loguniform has been deprecated in v3.0.0. This feature will be removed in v6.0.0. See https://github.com/optuna/optuna/releases/tag/v3.0.0. Use suggest_float(..., log=True) instead.\n",
      "  gamma = trial.suggest_loguniform(\"gamma\", 1e-3, 1e-1)  # Kernel coefficient\n",
      "C:\\Users\\azad.aliyev\\AppData\\Local\\Temp\\ipykernel_16688\\3042600700.py:4: FutureWarning: suggest_loguniform has been deprecated in v3.0.0. This feature will be removed in v6.0.0. See https://github.com/optuna/optuna/releases/tag/v3.0.0. Use suggest_float(..., log=True) instead.\n",
      "  gamma = trial.suggest_loguniform(\"gamma\", 1e-3, 1e-1)  # Kernel coefficient\n",
      "C:\\Users\\azad.aliyev\\AppData\\Local\\Temp\\ipykernel_16688\\3042600700.py:4: FutureWarning: suggest_loguniform has been deprecated in v3.0.0. This feature will be removed in v6.0.0. See https://github.com/optuna/optuna/releases/tag/v3.0.0. Use suggest_float(..., log=True) instead.\n",
      "  gamma = trial.suggest_loguniform(\"gamma\", 1e-3, 1e-1)  # Kernel coefficient\n",
      "C:\\Users\\azad.aliyev\\AppData\\Local\\Temp\\ipykernel_16688\\3042600700.py:4: FutureWarning: suggest_loguniform has been deprecated in v3.0.0. This feature will be removed in v6.0.0. See https://github.com/optuna/optuna/releases/tag/v3.0.0. Use suggest_float(..., log=True) instead.\n",
      "  gamma = trial.suggest_loguniform(\"gamma\", 1e-3, 1e-1)  # Kernel coefficient\n",
      "[I 2024-12-01 03:10:11,230] Trial 237 finished with value: 0.7531468531468531 and parameters: {'nu': 0.010074853908459924, 'gamma': 0.05385674905272859, 'kernel': 'sigmoid'}. Best is trial 238 with value: 0.7570468402029864.\n",
      "C:\\Users\\azad.aliyev\\AppData\\Local\\Temp\\ipykernel_16688\\3042600700.py:4: FutureWarning: suggest_loguniform has been deprecated in v3.0.0. This feature will be removed in v6.0.0. See https://github.com/optuna/optuna/releases/tag/v3.0.0. Use suggest_float(..., log=True) instead.\n",
      "  gamma = trial.suggest_loguniform(\"gamma\", 1e-3, 1e-1)  # Kernel coefficient\n",
      "[I 2024-12-01 03:10:11,271] Trial 244 finished with value: 0.7531468531468531 and parameters: {'nu': 0.010678546388605813, 'gamma': 0.05547794302958483, 'kernel': 'sigmoid'}. Best is trial 238 with value: 0.7570468402029864.\n",
      "[I 2024-12-01 03:10:11,271] Trial 241 finished with value: 0.7477005829165297 and parameters: {'nu': 0.010011351690687662, 'gamma': 0.05872844173504951, 'kernel': 'sigmoid'}. Best is trial 238 with value: 0.7570468402029864.\n",
      "[I 2024-12-01 03:10:11,291] Trial 243 finished with value: 0.7531468531468531 and parameters: {'nu': 0.010211005635106308, 'gamma': 0.051883811306389305, 'kernel': 'sigmoid'}. Best is trial 238 with value: 0.7570468402029864.\n",
      "C:\\Users\\azad.aliyev\\AppData\\Local\\Temp\\ipykernel_16688\\3042600700.py:4: FutureWarning: suggest_loguniform has been deprecated in v3.0.0. This feature will be removed in v6.0.0. See https://github.com/optuna/optuna/releases/tag/v3.0.0. Use suggest_float(..., log=True) instead.\n",
      "  gamma = trial.suggest_loguniform(\"gamma\", 1e-3, 1e-1)  # Kernel coefficient\n",
      "C:\\Users\\azad.aliyev\\AppData\\Local\\Temp\\ipykernel_16688\\3042600700.py:4: FutureWarning: suggest_loguniform has been deprecated in v3.0.0. This feature will be removed in v6.0.0. See https://github.com/optuna/optuna/releases/tag/v3.0.0. Use suggest_float(..., log=True) instead.\n",
      "  gamma = trial.suggest_loguniform(\"gamma\", 1e-3, 1e-1)  # Kernel coefficient\n",
      "C:\\Users\\azad.aliyev\\AppData\\Local\\Temp\\ipykernel_16688\\3042600700.py:4: FutureWarning: suggest_loguniform has been deprecated in v3.0.0. This feature will be removed in v6.0.0. See https://github.com/optuna/optuna/releases/tag/v3.0.0. Use suggest_float(..., log=True) instead.\n",
      "  gamma = trial.suggest_loguniform(\"gamma\", 1e-3, 1e-1)  # Kernel coefficient\n",
      "[I 2024-12-01 03:10:11,433] Trial 242 finished with value: 0.7531468531468531 and parameters: {'nu': 0.010478028233075662, 'gamma': 0.05204288098798339, 'kernel': 'sigmoid'}. Best is trial 238 with value: 0.7570468402029864.\n",
      "[I 2024-12-01 03:10:11,463] Trial 245 finished with value: 0.7531468531468531 and parameters: {'nu': 0.010546195585313755, 'gamma': 0.05580003416305585, 'kernel': 'sigmoid'}. Best is trial 238 with value: 0.7570468402029864.\n",
      "C:\\Users\\azad.aliyev\\AppData\\Local\\Temp\\ipykernel_16688\\3042600700.py:4: FutureWarning: suggest_loguniform has been deprecated in v3.0.0. This feature will be removed in v6.0.0. See https://github.com/optuna/optuna/releases/tag/v3.0.0. Use suggest_float(..., log=True) instead.\n",
      "  gamma = trial.suggest_loguniform(\"gamma\", 1e-3, 1e-1)  # Kernel coefficient\n",
      "C:\\Users\\azad.aliyev\\AppData\\Local\\Temp\\ipykernel_16688\\3042600700.py:4: FutureWarning: suggest_loguniform has been deprecated in v3.0.0. This feature will be removed in v6.0.0. See https://github.com/optuna/optuna/releases/tag/v3.0.0. Use suggest_float(..., log=True) instead.\n",
      "  gamma = trial.suggest_loguniform(\"gamma\", 1e-3, 1e-1)  # Kernel coefficient\n",
      "[I 2024-12-01 03:10:11,512] Trial 249 finished with value: 0.7570468402029864 and parameters: {'nu': 0.01014218130268081, 'gamma': 0.05726182352078084, 'kernel': 'sigmoid'}. Best is trial 238 with value: 0.7570468402029864.\n",
      "[I 2024-12-01 03:10:11,514] Trial 247 finished with value: 0.7570468402029864 and parameters: {'nu': 0.010078454736123012, 'gamma': 0.05628227935186573, 'kernel': 'sigmoid'}. Best is trial 238 with value: 0.7570468402029864.\n",
      "[I 2024-12-01 03:10:11,514] Trial 248 finished with value: 0.7531468531468531 and parameters: {'nu': 0.010210788295662018, 'gamma': 0.05822995020068408, 'kernel': 'sigmoid'}. Best is trial 238 with value: 0.7570468402029864.\n",
      "[I 2024-12-01 03:10:11,522] Trial 246 finished with value: 0.7531468531468531 and parameters: {'nu': 0.010165878998691655, 'gamma': 0.05466572617780393, 'kernel': 'sigmoid'}. Best is trial 238 with value: 0.7570468402029864.\n",
      "[I 2024-12-01 03:10:11,524] Trial 250 finished with value: 0.7531468531468531 and parameters: {'nu': 0.010435473895885422, 'gamma': 0.05550605964138103, 'kernel': 'sigmoid'}. Best is trial 238 with value: 0.7570468402029864.\n",
      "C:\\Users\\azad.aliyev\\AppData\\Local\\Temp\\ipykernel_16688\\3042600700.py:4: FutureWarning: suggest_loguniform has been deprecated in v3.0.0. This feature will be removed in v6.0.0. See https://github.com/optuna/optuna/releases/tag/v3.0.0. Use suggest_float(..., log=True) instead.\n",
      "  gamma = trial.suggest_loguniform(\"gamma\", 1e-3, 1e-1)  # Kernel coefficient\n",
      "[I 2024-12-01 03:10:11,565] Trial 251 finished with value: 0.7531468531468531 and parameters: {'nu': 0.010177310243373951, 'gamma': 0.0504027570237427, 'kernel': 'sigmoid'}. Best is trial 238 with value: 0.7570468402029864.\n",
      "C:\\Users\\azad.aliyev\\AppData\\Local\\Temp\\ipykernel_16688\\3042600700.py:4: FutureWarning: suggest_loguniform has been deprecated in v3.0.0. This feature will be removed in v6.0.0. See https://github.com/optuna/optuna/releases/tag/v3.0.0. Use suggest_float(..., log=True) instead.\n",
      "  gamma = trial.suggest_loguniform(\"gamma\", 1e-3, 1e-1)  # Kernel coefficient\n",
      "C:\\Users\\azad.aliyev\\AppData\\Local\\Temp\\ipykernel_16688\\3042600700.py:4: FutureWarning: suggest_loguniform has been deprecated in v3.0.0. This feature will be removed in v6.0.0. See https://github.com/optuna/optuna/releases/tag/v3.0.0. Use suggest_float(..., log=True) instead.\n",
      "  gamma = trial.suggest_loguniform(\"gamma\", 1e-3, 1e-1)  # Kernel coefficient\n",
      "C:\\Users\\azad.aliyev\\AppData\\Local\\Temp\\ipykernel_16688\\3042600700.py:4: FutureWarning: suggest_loguniform has been deprecated in v3.0.0. This feature will be removed in v6.0.0. See https://github.com/optuna/optuna/releases/tag/v3.0.0. Use suggest_float(..., log=True) instead.\n",
      "  gamma = trial.suggest_loguniform(\"gamma\", 1e-3, 1e-1)  # Kernel coefficient\n",
      "C:\\Users\\azad.aliyev\\AppData\\Local\\Temp\\ipykernel_16688\\3042600700.py:4: FutureWarning: suggest_loguniform has been deprecated in v3.0.0. This feature will be removed in v6.0.0. See https://github.com/optuna/optuna/releases/tag/v3.0.0. Use suggest_float(..., log=True) instead.\n",
      "  gamma = trial.suggest_loguniform(\"gamma\", 1e-3, 1e-1)  # Kernel coefficient\n",
      "[I 2024-12-01 03:10:11,603] Trial 252 finished with value: 0.7531468531468531 and parameters: {'nu': 0.010226216485257155, 'gamma': 0.05827308039970145, 'kernel': 'sigmoid'}. Best is trial 238 with value: 0.7570468402029864.\n",
      "[I 2024-12-01 03:10:11,605] Trial 254 finished with value: 0.7570468402029864 and parameters: {'nu': 0.010093015572606296, 'gamma': 0.05534451435672895, 'kernel': 'sigmoid'}. Best is trial 238 with value: 0.7570468402029864.\n",
      "C:\\Users\\azad.aliyev\\AppData\\Local\\Temp\\ipykernel_16688\\3042600700.py:4: FutureWarning: suggest_loguniform has been deprecated in v3.0.0. This feature will be removed in v6.0.0. See https://github.com/optuna/optuna/releases/tag/v3.0.0. Use suggest_float(..., log=True) instead.\n",
      "  gamma = trial.suggest_loguniform(\"gamma\", 1e-3, 1e-1)  # Kernel coefficient\n",
      "[I 2024-12-01 03:10:11,632] Trial 255 finished with value: 0.7438487438487438 and parameters: {'nu': 0.01008329954288298, 'gamma': 0.06752518267428383, 'kernel': 'sigmoid'}. Best is trial 238 with value: 0.7570468402029864.\n",
      "C:\\Users\\azad.aliyev\\AppData\\Local\\Temp\\ipykernel_16688\\3042600700.py:4: FutureWarning: suggest_loguniform has been deprecated in v3.0.0. This feature will be removed in v6.0.0. See https://github.com/optuna/optuna/releases/tag/v3.0.0. Use suggest_float(..., log=True) instead.\n",
      "  gamma = trial.suggest_loguniform(\"gamma\", 1e-3, 1e-1)  # Kernel coefficient\n",
      "[I 2024-12-01 03:10:11,650] Trial 253 finished with value: 0.7531468531468531 and parameters: {'nu': 0.010190463110242095, 'gamma': 0.057928541172639444, 'kernel': 'sigmoid'}. Best is trial 238 with value: 0.7570468402029864.\n",
      "C:\\Users\\azad.aliyev\\AppData\\Local\\Temp\\ipykernel_16688\\3042600700.py:4: FutureWarning: suggest_loguniform has been deprecated in v3.0.0. This feature will be removed in v6.0.0. See https://github.com/optuna/optuna/releases/tag/v3.0.0. Use suggest_float(..., log=True) instead.\n",
      "  gamma = trial.suggest_loguniform(\"gamma\", 1e-3, 1e-1)  # Kernel coefficient\n",
      "C:\\Users\\azad.aliyev\\AppData\\Local\\Temp\\ipykernel_16688\\3042600700.py:4: FutureWarning: suggest_loguniform has been deprecated in v3.0.0. This feature will be removed in v6.0.0. See https://github.com/optuna/optuna/releases/tag/v3.0.0. Use suggest_float(..., log=True) instead.\n",
      "  gamma = trial.suggest_loguniform(\"gamma\", 1e-3, 1e-1)  # Kernel coefficient\n",
      "C:\\Users\\azad.aliyev\\AppData\\Local\\Temp\\ipykernel_16688\\3042600700.py:4: FutureWarning: suggest_loguniform has been deprecated in v3.0.0. This feature will be removed in v6.0.0. See https://github.com/optuna/optuna/releases/tag/v3.0.0. Use suggest_float(..., log=True) instead.\n",
      "  gamma = trial.suggest_loguniform(\"gamma\", 1e-3, 1e-1)  # Kernel coefficient\n",
      "[I 2024-12-01 03:10:11,964] Trial 260 finished with value: 0.7455340735202667 and parameters: {'nu': 0.012157986981222292, 'gamma': 0.06843752729996574, 'kernel': 'sigmoid'}. Best is trial 238 with value: 0.7570468402029864.\n",
      "[I 2024-12-01 03:10:12,021] Trial 257 finished with value: 0.7455340735202667 and parameters: {'nu': 0.011697832581503236, 'gamma': 0.06829209933279665, 'kernel': 'sigmoid'}. Best is trial 238 with value: 0.7570468402029864.\n",
      "C:\\Users\\azad.aliyev\\AppData\\Local\\Temp\\ipykernel_16688\\3042600700.py:4: FutureWarning: suggest_loguniform has been deprecated in v3.0.0. This feature will be removed in v6.0.0. See https://github.com/optuna/optuna/releases/tag/v3.0.0. Use suggest_float(..., log=True) instead.\n",
      "  gamma = trial.suggest_loguniform(\"gamma\", 1e-3, 1e-1)  # Kernel coefficient\n",
      "[I 2024-12-01 03:10:12,051] Trial 256 finished with value: 0.7438487438487438 and parameters: {'nu': 0.010091457792666262, 'gamma': 0.0673210136625389, 'kernel': 'sigmoid'}. Best is trial 238 with value: 0.7570468402029864.\n",
      "C:\\Users\\azad.aliyev\\AppData\\Local\\Temp\\ipykernel_16688\\3042600700.py:4: FutureWarning: suggest_loguniform has been deprecated in v3.0.0. This feature will be removed in v6.0.0. See https://github.com/optuna/optuna/releases/tag/v3.0.0. Use suggest_float(..., log=True) instead.\n",
      "  gamma = trial.suggest_loguniform(\"gamma\", 1e-3, 1e-1)  # Kernel coefficient\n",
      "C:\\Users\\azad.aliyev\\AppData\\Local\\Temp\\ipykernel_16688\\3042600700.py:4: FutureWarning: suggest_loguniform has been deprecated in v3.0.0. This feature will be removed in v6.0.0. See https://github.com/optuna/optuna/releases/tag/v3.0.0. Use suggest_float(..., log=True) instead.\n",
      "  gamma = trial.suggest_loguniform(\"gamma\", 1e-3, 1e-1)  # Kernel coefficient\n",
      "[I 2024-12-01 03:10:12,229] Trial 259 finished with value: 0.7455340735202667 and parameters: {'nu': 0.01179093912224024, 'gamma': 0.06982886763391748, 'kernel': 'sigmoid'}. Best is trial 238 with value: 0.7570468402029864.\n",
      "[I 2024-12-01 03:10:12,341] Trial 263 finished with value: 0.7455340735202667 and parameters: {'nu': 0.0122766170828459, 'gamma': 0.0701088169838036, 'kernel': 'sigmoid'}. Best is trial 238 with value: 0.7570468402029864.\n",
      "C:\\Users\\azad.aliyev\\AppData\\Local\\Temp\\ipykernel_16688\\3042600700.py:4: FutureWarning: suggest_loguniform has been deprecated in v3.0.0. This feature will be removed in v6.0.0. See https://github.com/optuna/optuna/releases/tag/v3.0.0. Use suggest_float(..., log=True) instead.\n",
      "  gamma = trial.suggest_loguniform(\"gamma\", 1e-3, 1e-1)  # Kernel coefficient\n",
      "[I 2024-12-01 03:10:12,421] Trial 262 finished with value: 0.7455340735202667 and parameters: {'nu': 0.012055992429664559, 'gamma': 0.06909416372513533, 'kernel': 'sigmoid'}. Best is trial 238 with value: 0.7570468402029864.\n",
      "[I 2024-12-01 03:10:12,469] Trial 258 finished with value: -1.0 and parameters: {'nu': 0.036401444808944104, 'gamma': 0.054666271529013155, 'kernel': 'sigmoid'}. Best is trial 238 with value: 0.7570468402029864.\n",
      "C:\\Users\\azad.aliyev\\AppData\\Local\\Temp\\ipykernel_16688\\3042600700.py:4: FutureWarning: suggest_loguniform has been deprecated in v3.0.0. This feature will be removed in v6.0.0. See https://github.com/optuna/optuna/releases/tag/v3.0.0. Use suggest_float(..., log=True) instead.\n",
      "  gamma = trial.suggest_loguniform(\"gamma\", 1e-3, 1e-1)  # Kernel coefficient\n",
      "C:\\Users\\azad.aliyev\\AppData\\Local\\Temp\\ipykernel_16688\\3042600700.py:4: FutureWarning: suggest_loguniform has been deprecated in v3.0.0. This feature will be removed in v6.0.0. See https://github.com/optuna/optuna/releases/tag/v3.0.0. Use suggest_float(..., log=True) instead.\n",
      "  gamma = trial.suggest_loguniform(\"gamma\", 1e-3, 1e-1)  # Kernel coefficient\n",
      "C:\\Users\\azad.aliyev\\AppData\\Local\\Temp\\ipykernel_16688\\3042600700.py:4: FutureWarning: suggest_loguniform has been deprecated in v3.0.0. This feature will be removed in v6.0.0. See https://github.com/optuna/optuna/releases/tag/v3.0.0. Use suggest_float(..., log=True) instead.\n",
      "  gamma = trial.suggest_loguniform(\"gamma\", 1e-3, 1e-1)  # Kernel coefficient\n",
      "[I 2024-12-01 03:10:12,705] Trial 261 finished with value: 0.7381600923348497 and parameters: {'nu': 0.012023222197046853, 'gamma': 0.05534615705416948, 'kernel': 'sigmoid'}. Best is trial 238 with value: 0.7570468402029864.\n",
      "[I 2024-12-01 03:10:12,725] Trial 264 finished with value: 0.7381600923348497 and parameters: {'nu': 0.012006688682532294, 'gamma': 0.05343380196824268, 'kernel': 'sigmoid'}. Best is trial 238 with value: 0.7570468402029864.\n",
      "[I 2024-12-01 03:10:12,745] Trial 269 finished with value: 0.7345588235294118 and parameters: {'nu': 0.012367676184897543, 'gamma': 0.061094651556269045, 'kernel': 'sigmoid'}. Best is trial 238 with value: 0.7570468402029864.\n",
      "[I 2024-12-01 03:10:12,765] Trial 267 finished with value: 0.7345588235294118 and parameters: {'nu': 0.012053339387651883, 'gamma': 0.051969288407096435, 'kernel': 'sigmoid'}. Best is trial 238 with value: 0.7570468402029864.\n",
      "C:\\Users\\azad.aliyev\\AppData\\Local\\Temp\\ipykernel_16688\\3042600700.py:4: FutureWarning: suggest_loguniform has been deprecated in v3.0.0. This feature will be removed in v6.0.0. See https://github.com/optuna/optuna/releases/tag/v3.0.0. Use suggest_float(..., log=True) instead.\n",
      "  gamma = trial.suggest_loguniform(\"gamma\", 1e-3, 1e-1)  # Kernel coefficient\n",
      "C:\\Users\\azad.aliyev\\AppData\\Local\\Temp\\ipykernel_16688\\3042600700.py:4: FutureWarning: suggest_loguniform has been deprecated in v3.0.0. This feature will be removed in v6.0.0. See https://github.com/optuna/optuna/releases/tag/v3.0.0. Use suggest_float(..., log=True) instead.\n",
      "  gamma = trial.suggest_loguniform(\"gamma\", 1e-3, 1e-1)  # Kernel coefficient\n",
      "C:\\Users\\azad.aliyev\\AppData\\Local\\Temp\\ipykernel_16688\\3042600700.py:4: FutureWarning: suggest_loguniform has been deprecated in v3.0.0. This feature will be removed in v6.0.0. See https://github.com/optuna/optuna/releases/tag/v3.0.0. Use suggest_float(..., log=True) instead.\n",
      "  gamma = trial.suggest_loguniform(\"gamma\", 1e-3, 1e-1)  # Kernel coefficient\n",
      "C:\\Users\\azad.aliyev\\AppData\\Local\\Temp\\ipykernel_16688\\3042600700.py:4: FutureWarning: suggest_loguniform has been deprecated in v3.0.0. This feature will be removed in v6.0.0. See https://github.com/optuna/optuna/releases/tag/v3.0.0. Use suggest_float(..., log=True) instead.\n",
      "  gamma = trial.suggest_loguniform(\"gamma\", 1e-3, 1e-1)  # Kernel coefficient\n",
      "[I 2024-12-01 03:10:12,956] Trial 268 finished with value: 0.7345588235294118 and parameters: {'nu': 0.012244041830099243, 'gamma': 0.05274891697480073, 'kernel': 'sigmoid'}. Best is trial 238 with value: 0.7570468402029864.\n",
      "[I 2024-12-01 03:10:12,987] Trial 266 finished with value: 0.7345588235294118 and parameters: {'nu': 0.012269450895321537, 'gamma': 0.05367242237371758, 'kernel': 'sigmoid'}. Best is trial 238 with value: 0.7570468402029864.\n",
      "[I 2024-12-01 03:10:13,043] Trial 274 finished with value: 0.7345588235294118 and parameters: {'nu': 0.012573779664695493, 'gamma': 0.052540360000119565, 'kernel': 'sigmoid'}. Best is trial 238 with value: 0.7570468402029864.\n",
      "C:\\Users\\azad.aliyev\\AppData\\Local\\Temp\\ipykernel_16688\\3042600700.py:4: FutureWarning: suggest_loguniform has been deprecated in v3.0.0. This feature will be removed in v6.0.0. See https://github.com/optuna/optuna/releases/tag/v3.0.0. Use suggest_float(..., log=True) instead.\n",
      "  gamma = trial.suggest_loguniform(\"gamma\", 1e-3, 1e-1)  # Kernel coefficient\n",
      "[I 2024-12-01 03:10:13,051] Trial 265 finished with value: 0.7345588235294118 and parameters: {'nu': 0.012255340949731328, 'gamma': 0.0557886189347269, 'kernel': 'sigmoid'}. Best is trial 238 with value: 0.7570468402029864.\n",
      "C:\\Users\\azad.aliyev\\AppData\\Local\\Temp\\ipykernel_16688\\3042600700.py:4: FutureWarning: suggest_loguniform has been deprecated in v3.0.0. This feature will be removed in v6.0.0. See https://github.com/optuna/optuna/releases/tag/v3.0.0. Use suggest_float(..., log=True) instead.\n",
      "  gamma = trial.suggest_loguniform(\"gamma\", 1e-3, 1e-1)  # Kernel coefficient\n",
      "[I 2024-12-01 03:10:13,184] Trial 272 finished with value: 0.7345588235294118 and parameters: {'nu': 0.012402767915550096, 'gamma': 0.0533048966732651, 'kernel': 'sigmoid'}. Best is trial 238 with value: 0.7570468402029864.\n",
      "C:\\Users\\azad.aliyev\\AppData\\Local\\Temp\\ipykernel_16688\\3042600700.py:4: FutureWarning: suggest_loguniform has been deprecated in v3.0.0. This feature will be removed in v6.0.0. See https://github.com/optuna/optuna/releases/tag/v3.0.0. Use suggest_float(..., log=True) instead.\n",
      "  gamma = trial.suggest_loguniform(\"gamma\", 1e-3, 1e-1)  # Kernel coefficient\n",
      "[I 2024-12-01 03:10:13,205] Trial 271 finished with value: 0.7345588235294118 and parameters: {'nu': 0.012281048110010215, 'gamma': 0.05517650709348455, 'kernel': 'sigmoid'}. Best is trial 238 with value: 0.7570468402029864.\n",
      "[I 2024-12-01 03:10:13,244] Trial 273 finished with value: 0.7345588235294118 and parameters: {'nu': 0.012056650748558634, 'gamma': 0.05126300674101739, 'kernel': 'sigmoid'}. Best is trial 238 with value: 0.7570468402029864.\n",
      "C:\\Users\\azad.aliyev\\AppData\\Local\\Temp\\ipykernel_16688\\3042600700.py:4: FutureWarning: suggest_loguniform has been deprecated in v3.0.0. This feature will be removed in v6.0.0. See https://github.com/optuna/optuna/releases/tag/v3.0.0. Use suggest_float(..., log=True) instead.\n",
      "  gamma = trial.suggest_loguniform(\"gamma\", 1e-3, 1e-1)  # Kernel coefficient\n",
      "[I 2024-12-01 03:10:13,266] Trial 270 finished with value: 0.7345588235294118 and parameters: {'nu': 0.012365893435350904, 'gamma': 0.05846752811819943, 'kernel': 'sigmoid'}. Best is trial 238 with value: 0.7570468402029864.\n",
      "C:\\Users\\azad.aliyev\\AppData\\Local\\Temp\\ipykernel_16688\\3042600700.py:4: FutureWarning: suggest_loguniform has been deprecated in v3.0.0. This feature will be removed in v6.0.0. See https://github.com/optuna/optuna/releases/tag/v3.0.0. Use suggest_float(..., log=True) instead.\n",
      "  gamma = trial.suggest_loguniform(\"gamma\", 1e-3, 1e-1)  # Kernel coefficient\n",
      "C:\\Users\\azad.aliyev\\AppData\\Local\\Temp\\ipykernel_16688\\3042600700.py:4: FutureWarning: suggest_loguniform has been deprecated in v3.0.0. This feature will be removed in v6.0.0. See https://github.com/optuna/optuna/releases/tag/v3.0.0. Use suggest_float(..., log=True) instead.\n",
      "  gamma = trial.suggest_loguniform(\"gamma\", 1e-3, 1e-1)  # Kernel coefficient\n",
      "C:\\Users\\azad.aliyev\\AppData\\Local\\Temp\\ipykernel_16688\\3042600700.py:4: FutureWarning: suggest_loguniform has been deprecated in v3.0.0. This feature will be removed in v6.0.0. See https://github.com/optuna/optuna/releases/tag/v3.0.0. Use suggest_float(..., log=True) instead.\n",
      "  gamma = trial.suggest_loguniform(\"gamma\", 1e-3, 1e-1)  # Kernel coefficient\n",
      "[I 2024-12-01 03:10:13,487] Trial 276 finished with value: 0.7345588235294118 and parameters: {'nu': 0.01274315945972742, 'gamma': 0.05174861700824882, 'kernel': 'sigmoid'}. Best is trial 238 with value: 0.7570468402029864.\n",
      "[I 2024-12-01 03:10:13,518] Trial 275 finished with value: 0.74003762003762 and parameters: {'nu': 0.012887643737583108, 'gamma': 0.05139495905588053, 'kernel': 'sigmoid'}. Best is trial 238 with value: 0.7570468402029864.\n",
      "C:\\Users\\azad.aliyev\\AppData\\Local\\Temp\\ipykernel_16688\\3042600700.py:4: FutureWarning: suggest_loguniform has been deprecated in v3.0.0. This feature will be removed in v6.0.0. See https://github.com/optuna/optuna/releases/tag/v3.0.0. Use suggest_float(..., log=True) instead.\n",
      "  gamma = trial.suggest_loguniform(\"gamma\", 1e-3, 1e-1)  # Kernel coefficient\n",
      "[I 2024-12-01 03:10:13,609] Trial 277 finished with value: 0.7069280744243263 and parameters: {'nu': 0.01723567828525818, 'gamma': 0.05151815261415785, 'kernel': 'sigmoid'}. Best is trial 238 with value: 0.7570468402029864.\n",
      "C:\\Users\\azad.aliyev\\AppData\\Local\\Temp\\ipykernel_16688\\3042600700.py:4: FutureWarning: suggest_loguniform has been deprecated in v3.0.0. This feature will be removed in v6.0.0. See https://github.com/optuna/optuna/releases/tag/v3.0.0. Use suggest_float(..., log=True) instead.\n",
      "  gamma = trial.suggest_loguniform(\"gamma\", 1e-3, 1e-1)  # Kernel coefficient\n",
      "C:\\Users\\azad.aliyev\\AppData\\Local\\Temp\\ipykernel_16688\\3042600700.py:4: FutureWarning: suggest_loguniform has been deprecated in v3.0.0. This feature will be removed in v6.0.0. See https://github.com/optuna/optuna/releases/tag/v3.0.0. Use suggest_float(..., log=True) instead.\n",
      "  gamma = trial.suggest_loguniform(\"gamma\", 1e-3, 1e-1)  # Kernel coefficient\n",
      "C:\\Users\\azad.aliyev\\AppData\\Local\\Temp\\ipykernel_16688\\3042600700.py:4: FutureWarning: suggest_loguniform has been deprecated in v3.0.0. This feature will be removed in v6.0.0. See https://github.com/optuna/optuna/releases/tag/v3.0.0. Use suggest_float(..., log=True) instead.\n",
      "  gamma = trial.suggest_loguniform(\"gamma\", 1e-3, 1e-1)  # Kernel coefficient\n",
      "[I 2024-12-01 03:10:13,817] Trial 278 finished with value: 0.7100285679233047 and parameters: {'nu': 0.01683171923920133, 'gamma': 0.05190571852732304, 'kernel': 'sigmoid'}. Best is trial 238 with value: 0.7570468402029864.\n",
      "[I 2024-12-01 03:10:13,829] Trial 279 finished with value: 0.7345588235294118 and parameters: {'nu': 0.013087913995485746, 'gamma': 0.0613595253177821, 'kernel': 'sigmoid'}. Best is trial 238 with value: 0.7570468402029864.\n",
      "C:\\Users\\azad.aliyev\\AppData\\Local\\Temp\\ipykernel_16688\\3042600700.py:4: FutureWarning: suggest_loguniform has been deprecated in v3.0.0. This feature will be removed in v6.0.0. See https://github.com/optuna/optuna/releases/tag/v3.0.0. Use suggest_float(..., log=True) instead.\n",
      "  gamma = trial.suggest_loguniform(\"gamma\", 1e-3, 1e-1)  # Kernel coefficient\n",
      "[I 2024-12-01 03:10:14,029] Trial 280 finished with value: 0.7069280744243263 and parameters: {'nu': 0.017158354947635256, 'gamma': 0.06167916012197535, 'kernel': 'sigmoid'}. Best is trial 238 with value: 0.7570468402029864.\n",
      "[I 2024-12-01 03:10:14,120] Trial 283 finished with value: 0.7131729166050058 and parameters: {'nu': 0.01629430378228209, 'gamma': 0.061612467098774736, 'kernel': 'sigmoid'}. Best is trial 238 with value: 0.7570468402029864.\n",
      "C:\\Users\\azad.aliyev\\AppData\\Local\\Temp\\ipykernel_16688\\3042600700.py:4: FutureWarning: suggest_loguniform has been deprecated in v3.0.0. This feature will be removed in v6.0.0. See https://github.com/optuna/optuna/releases/tag/v3.0.0. Use suggest_float(..., log=True) instead.\n",
      "  gamma = trial.suggest_loguniform(\"gamma\", 1e-3, 1e-1)  # Kernel coefficient\n",
      "[I 2024-12-01 03:10:14,311] Trial 289 finished with value: 0.7163621494953373 and parameters: {'nu': 0.01600792445496404, 'gamma': 0.0640169448539506, 'kernel': 'sigmoid'}. Best is trial 238 with value: 0.7570468402029864.\n",
      "C:\\Users\\azad.aliyev\\AppData\\Local\\Temp\\ipykernel_16688\\3042600700.py:4: FutureWarning: suggest_loguniform has been deprecated in v3.0.0. This feature will be removed in v6.0.0. See https://github.com/optuna/optuna/releases/tag/v3.0.0. Use suggest_float(..., log=True) instead.\n",
      "  gamma = trial.suggest_loguniform(\"gamma\", 1e-3, 1e-1)  # Kernel coefficient\n",
      "C:\\Users\\azad.aliyev\\AppData\\Local\\Temp\\ipykernel_16688\\3042600700.py:4: FutureWarning: suggest_loguniform has been deprecated in v3.0.0. This feature will be removed in v6.0.0. See https://github.com/optuna/optuna/releases/tag/v3.0.0. Use suggest_float(..., log=True) instead.\n",
      "  gamma = trial.suggest_loguniform(\"gamma\", 1e-3, 1e-1)  # Kernel coefficient\n",
      "[I 2024-12-01 03:10:14,516] Trial 282 finished with value: 0.7069280744243263 and parameters: {'nu': 0.017322652881236075, 'gamma': 0.06308079742737827, 'kernel': 'sigmoid'}. Best is trial 238 with value: 0.7570468402029864.\n",
      "C:\\Users\\azad.aliyev\\AppData\\Local\\Temp\\ipykernel_16688\\3042600700.py:4: FutureWarning: suggest_loguniform has been deprecated in v3.0.0. This feature will be removed in v6.0.0. See https://github.com/optuna/optuna/releases/tag/v3.0.0. Use suggest_float(..., log=True) instead.\n",
      "  gamma = trial.suggest_loguniform(\"gamma\", 1e-3, 1e-1)  # Kernel coefficient\n",
      "[I 2024-12-01 03:10:14,711] Trial 284 finished with value: -1.0 and parameters: {'nu': 0.029494027278715057, 'gamma': 0.06356773728452654, 'kernel': 'sigmoid'}. Best is trial 238 with value: 0.7570468402029864.\n",
      "C:\\Users\\azad.aliyev\\AppData\\Local\\Temp\\ipykernel_16688\\3042600700.py:4: FutureWarning: suggest_loguniform has been deprecated in v3.0.0. This feature will be removed in v6.0.0. See https://github.com/optuna/optuna/releases/tag/v3.0.0. Use suggest_float(..., log=True) instead.\n",
      "  gamma = trial.suggest_loguniform(\"gamma\", 1e-3, 1e-1)  # Kernel coefficient\n",
      "[I 2024-12-01 03:10:14,852] Trial 287 finished with value: 0.7438487438487438 and parameters: {'nu': 0.010027571481597405, 'gamma': 0.0627005794319725, 'kernel': 'sigmoid'}. Best is trial 238 with value: 0.7570468402029864.\n",
      "[I 2024-12-01 03:10:14,872] Trial 285 finished with value: 0.7076260257210039 and parameters: {'nu': 0.016918663104288748, 'gamma': 0.04625387263316161, 'kernel': 'sigmoid'}. Best is trial 238 with value: 0.7570468402029864.\n",
      "C:\\Users\\azad.aliyev\\AppData\\Local\\Temp\\ipykernel_16688\\3042600700.py:4: FutureWarning: suggest_loguniform has been deprecated in v3.0.0. This feature will be removed in v6.0.0. See https://github.com/optuna/optuna/releases/tag/v3.0.0. Use suggest_float(..., log=True) instead.\n",
      "  gamma = trial.suggest_loguniform(\"gamma\", 1e-3, 1e-1)  # Kernel coefficient\n",
      "[I 2024-12-01 03:10:14,994] Trial 288 finished with value: 0.7100285679233047 and parameters: {'nu': 0.01674269804331716, 'gamma': 0.06303483689874322, 'kernel': 'sigmoid'}. Best is trial 238 with value: 0.7570468402029864.\n",
      "[I 2024-12-01 03:10:15,014] Trial 286 finished with value: 0.7100285679233047 and parameters: {'nu': 0.01618379552507719, 'gamma': 0.061700973594506665, 'kernel': 'sigmoid'}. Best is trial 238 with value: 0.7570468402029864.\n",
      "C:\\Users\\azad.aliyev\\AppData\\Local\\Temp\\ipykernel_16688\\3042600700.py:4: FutureWarning: suggest_loguniform has been deprecated in v3.0.0. This feature will be removed in v6.0.0. See https://github.com/optuna/optuna/releases/tag/v3.0.0. Use suggest_float(..., log=True) instead.\n",
      "  gamma = trial.suggest_loguniform(\"gamma\", 1e-3, 1e-1)  # Kernel coefficient\n",
      "C:\\Users\\azad.aliyev\\AppData\\Local\\Temp\\ipykernel_16688\\3042600700.py:4: FutureWarning: suggest_loguniform has been deprecated in v3.0.0. This feature will be removed in v6.0.0. See https://github.com/optuna/optuna/releases/tag/v3.0.0. Use suggest_float(..., log=True) instead.\n",
      "  gamma = trial.suggest_loguniform(\"gamma\", 1e-3, 1e-1)  # Kernel coefficient\n",
      "[I 2024-12-01 03:10:15,096] Trial 293 finished with value: 0.7330200951696278 and parameters: {'nu': 0.01485884390240637, 'gamma': 0.04521432530334585, 'kernel': 'sigmoid'}. Best is trial 238 with value: 0.7570468402029864.\n",
      "[I 2024-12-01 03:10:15,106] Trial 281 finished with value: 0.7069280744243263 and parameters: {'nu': 0.01666445144760738, 'gamma': 0.06349545811805775, 'kernel': 'sigmoid'}. Best is trial 238 with value: 0.7570468402029864.\n",
      "[I 2024-12-01 03:10:15,306] Trial 296 finished with value: 0.7531468531468531 and parameters: {'nu': 0.010215136810730623, 'gamma': 0.045130054223434656, 'kernel': 'sigmoid'}. Best is trial 238 with value: 0.7570468402029864.\n",
      "[I 2024-12-01 03:10:15,316] Trial 292 finished with value: 0.7531468531468531 and parameters: {'nu': 0.010016399530657949, 'gamma': 0.04594769593485981, 'kernel': 'sigmoid'}. Best is trial 238 with value: 0.7570468402029864.\n",
      "[I 2024-12-01 03:10:15,367] Trial 297 finished with value: 0.7531468531468531 and parameters: {'nu': 0.010005714399797342, 'gamma': 0.04556732470271713, 'kernel': 'sigmoid'}. Best is trial 238 with value: 0.7570468402029864.\n",
      "[I 2024-12-01 03:10:15,375] Trial 295 finished with value: 0.7531468531468531 and parameters: {'nu': 0.010164882102278842, 'gamma': 0.04605202186541842, 'kernel': 'sigmoid'}. Best is trial 238 with value: 0.7570468402029864.\n",
      "[I 2024-12-01 03:10:15,561] Trial 298 finished with value: 0.7330200951696278 and parameters: {'nu': 0.014122607068585986, 'gamma': 0.048472129610754144, 'kernel': 'sigmoid'}. Best is trial 238 with value: 0.7570468402029864.\n",
      "[I 2024-12-01 03:10:15,569] Trial 299 finished with value: 0.7438487438487438 and parameters: {'nu': 0.0101377457150314, 'gamma': 0.0783514152346388, 'kernel': 'sigmoid'}. Best is trial 238 with value: 0.7570468402029864.\n",
      "[I 2024-12-01 03:10:15,740] Trial 294 finished with value: -1.0 and parameters: {'nu': 0.04211550936509949, 'gamma': 0.04559352860229653, 'kernel': 'sigmoid'}. Best is trial 238 with value: 0.7570468402029864.\n",
      "[I 2024-12-01 03:10:15,870] Trial 291 finished with value: -1.0 and parameters: {'nu': 0.04331288027110784, 'gamma': 0.045753152781210706, 'kernel': 'sigmoid'}. Best is trial 238 with value: 0.7570468402029864.\n",
      "[I 2024-12-01 03:10:16,028] Trial 290 finished with value: -1.0 and parameters: {'nu': 0.05187987767353969, 'gamma': 0.04426459193957657, 'kernel': 'sigmoid'}. Best is trial 238 with value: 0.7570468402029864.\n"
     ]
    },
    {
     "name": "stdout",
     "output_type": "stream",
     "text": [
      "Best hyperparameters: {'nu': 0.010035039446789056, 'gamma': 0.0563750769961434, 'kernel': 'sigmoid'}\n"
     ]
    }
   ],
   "source": [
    "# Step 2: Configure Optuna with Hyperband\n",
    "study = optuna.create_study(\n",
    "    direction=\"maximize\",\n",
    "    sampler=optuna.samplers.TPESampler(),\n",
    "    pruner=optuna.pruners.HyperbandPruner(min_resource=10, max_resource=50)\n",
    ")\n",
    "\n",
    "# Step 3: Run the optimization\n",
    "study.optimize(objective, n_trials=300, n_jobs=-1, timeout=3600)\n",
    "\n",
    "# Step 4: Display the best parameters and comparison with baseline\n",
    "best_params = study.best_params\n",
    "print(\"Best hyperparameters:\", best_params)"
   ]
  },
  {
   "cell_type": "code",
   "execution_count": 39,
   "id": "e68ed3ac",
   "metadata": {},
   "outputs": [
    {
     "data": {
      "text/html": [
       "<style>#sk-container-id-1 {color: black;background-color: white;}#sk-container-id-1 pre{padding: 0;}#sk-container-id-1 div.sk-toggleable {background-color: white;}#sk-container-id-1 label.sk-toggleable__label {cursor: pointer;display: block;width: 100%;margin-bottom: 0;padding: 0.3em;box-sizing: border-box;text-align: center;}#sk-container-id-1 label.sk-toggleable__label-arrow:before {content: \"▸\";float: left;margin-right: 0.25em;color: #696969;}#sk-container-id-1 label.sk-toggleable__label-arrow:hover:before {color: black;}#sk-container-id-1 div.sk-estimator:hover label.sk-toggleable__label-arrow:before {color: black;}#sk-container-id-1 div.sk-toggleable__content {max-height: 0;max-width: 0;overflow: hidden;text-align: left;background-color: #f0f8ff;}#sk-container-id-1 div.sk-toggleable__content pre {margin: 0.2em;color: black;border-radius: 0.25em;background-color: #f0f8ff;}#sk-container-id-1 input.sk-toggleable__control:checked~div.sk-toggleable__content {max-height: 200px;max-width: 100%;overflow: auto;}#sk-container-id-1 input.sk-toggleable__control:checked~label.sk-toggleable__label-arrow:before {content: \"▾\";}#sk-container-id-1 div.sk-estimator input.sk-toggleable__control:checked~label.sk-toggleable__label {background-color: #d4ebff;}#sk-container-id-1 div.sk-label input.sk-toggleable__control:checked~label.sk-toggleable__label {background-color: #d4ebff;}#sk-container-id-1 input.sk-hidden--visually {border: 0;clip: rect(1px 1px 1px 1px);clip: rect(1px, 1px, 1px, 1px);height: 1px;margin: -1px;overflow: hidden;padding: 0;position: absolute;width: 1px;}#sk-container-id-1 div.sk-estimator {font-family: monospace;background-color: #f0f8ff;border: 1px dotted black;border-radius: 0.25em;box-sizing: border-box;margin-bottom: 0.5em;}#sk-container-id-1 div.sk-estimator:hover {background-color: #d4ebff;}#sk-container-id-1 div.sk-parallel-item::after {content: \"\";width: 100%;border-bottom: 1px solid gray;flex-grow: 1;}#sk-container-id-1 div.sk-label:hover label.sk-toggleable__label {background-color: #d4ebff;}#sk-container-id-1 div.sk-serial::before {content: \"\";position: absolute;border-left: 1px solid gray;box-sizing: border-box;top: 0;bottom: 0;left: 50%;z-index: 0;}#sk-container-id-1 div.sk-serial {display: flex;flex-direction: column;align-items: center;background-color: white;padding-right: 0.2em;padding-left: 0.2em;position: relative;}#sk-container-id-1 div.sk-item {position: relative;z-index: 1;}#sk-container-id-1 div.sk-parallel {display: flex;align-items: stretch;justify-content: center;background-color: white;position: relative;}#sk-container-id-1 div.sk-item::before, #sk-container-id-1 div.sk-parallel-item::before {content: \"\";position: absolute;border-left: 1px solid gray;box-sizing: border-box;top: 0;bottom: 0;left: 50%;z-index: -1;}#sk-container-id-1 div.sk-parallel-item {display: flex;flex-direction: column;z-index: 1;position: relative;background-color: white;}#sk-container-id-1 div.sk-parallel-item:first-child::after {align-self: flex-end;width: 50%;}#sk-container-id-1 div.sk-parallel-item:last-child::after {align-self: flex-start;width: 50%;}#sk-container-id-1 div.sk-parallel-item:only-child::after {width: 0;}#sk-container-id-1 div.sk-dashed-wrapped {border: 1px dashed gray;margin: 0 0.4em 0.5em 0.4em;box-sizing: border-box;padding-bottom: 0.4em;background-color: white;}#sk-container-id-1 div.sk-label label {font-family: monospace;font-weight: bold;display: inline-block;line-height: 1.2em;}#sk-container-id-1 div.sk-label-container {text-align: center;}#sk-container-id-1 div.sk-container {/* jupyter's `normalize.less` sets `[hidden] { display: none; }` but bootstrap.min.css set `[hidden] { display: none !important; }` so we also need the `!important` here to be able to override the default hidden behavior on the sphinx rendered scikit-learn.org. See: https://github.com/scikit-learn/scikit-learn/issues/21755 */display: inline-block !important;position: relative;}#sk-container-id-1 div.sk-text-repr-fallback {display: none;}</style><div id=\"sk-container-id-1\" class=\"sk-top-container\"><div class=\"sk-text-repr-fallback\"><pre>OneClassSVM(gamma=0.0563750769961434, kernel=&#x27;sigmoid&#x27;, nu=0.010035039446789056)</pre><b>In a Jupyter environment, please rerun this cell to show the HTML representation or trust the notebook. <br />On GitHub, the HTML representation is unable to render, please try loading this page with nbviewer.org.</b></div><div class=\"sk-container\" hidden><div class=\"sk-item\"><div class=\"sk-estimator sk-toggleable\"><input class=\"sk-toggleable__control sk-hidden--visually\" id=\"sk-estimator-id-1\" type=\"checkbox\" checked><label for=\"sk-estimator-id-1\" class=\"sk-toggleable__label sk-toggleable__label-arrow\">OneClassSVM</label><div class=\"sk-toggleable__content\"><pre>OneClassSVM(gamma=0.0563750769961434, kernel=&#x27;sigmoid&#x27;, nu=0.010035039446789056)</pre></div></div></div></div></div>"
      ],
      "text/plain": [
       "OneClassSVM(gamma=0.0563750769961434, kernel='sigmoid', nu=0.010035039446789056)"
      ]
     },
     "execution_count": 39,
     "metadata": {},
     "output_type": "execute_result"
    }
   ],
   "source": [
    "#best_params = study.best_params\n",
    "best_model = OneClassSVM(kernel='sigmoid', gamma=0.0563750769961434, nu=0.010035039446789056, shrinking=True)\n",
    "normal_data_train = X_train[y_train == 0]\n",
    "best_model.fit(normal_data_train)"
   ]
  },
  {
   "cell_type": "code",
   "execution_count": 335,
   "id": "35c82dad-43fa-4c23-a153-2eebbc7e887d",
   "metadata": {},
   "outputs": [
    {
     "data": {
      "text/html": [
       "<style>#sk-container-id-31 {\n",
       "  /* Definition of color scheme common for light and dark mode */\n",
       "  --sklearn-color-text: black;\n",
       "  --sklearn-color-line: gray;\n",
       "  /* Definition of color scheme for unfitted estimators */\n",
       "  --sklearn-color-unfitted-level-0: #fff5e6;\n",
       "  --sklearn-color-unfitted-level-1: #f6e4d2;\n",
       "  --sklearn-color-unfitted-level-2: #ffe0b3;\n",
       "  --sklearn-color-unfitted-level-3: chocolate;\n",
       "  /* Definition of color scheme for fitted estimators */\n",
       "  --sklearn-color-fitted-level-0: #f0f8ff;\n",
       "  --sklearn-color-fitted-level-1: #d4ebff;\n",
       "  --sklearn-color-fitted-level-2: #b3dbfd;\n",
       "  --sklearn-color-fitted-level-3: cornflowerblue;\n",
       "\n",
       "  /* Specific color for light theme */\n",
       "  --sklearn-color-text-on-default-background: var(--sg-text-color, var(--theme-code-foreground, var(--jp-content-font-color1, black)));\n",
       "  --sklearn-color-background: var(--sg-background-color, var(--theme-background, var(--jp-layout-color0, white)));\n",
       "  --sklearn-color-border-box: var(--sg-text-color, var(--theme-code-foreground, var(--jp-content-font-color1, black)));\n",
       "  --sklearn-color-icon: #696969;\n",
       "\n",
       "  @media (prefers-color-scheme: dark) {\n",
       "    /* Redefinition of color scheme for dark theme */\n",
       "    --sklearn-color-text-on-default-background: var(--sg-text-color, var(--theme-code-foreground, var(--jp-content-font-color1, white)));\n",
       "    --sklearn-color-background: var(--sg-background-color, var(--theme-background, var(--jp-layout-color0, #111)));\n",
       "    --sklearn-color-border-box: var(--sg-text-color, var(--theme-code-foreground, var(--jp-content-font-color1, white)));\n",
       "    --sklearn-color-icon: #878787;\n",
       "  }\n",
       "}\n",
       "\n",
       "#sk-container-id-31 {\n",
       "  color: var(--sklearn-color-text);\n",
       "}\n",
       "\n",
       "#sk-container-id-31 pre {\n",
       "  padding: 0;\n",
       "}\n",
       "\n",
       "#sk-container-id-31 input.sk-hidden--visually {\n",
       "  border: 0;\n",
       "  clip: rect(1px 1px 1px 1px);\n",
       "  clip: rect(1px, 1px, 1px, 1px);\n",
       "  height: 1px;\n",
       "  margin: -1px;\n",
       "  overflow: hidden;\n",
       "  padding: 0;\n",
       "  position: absolute;\n",
       "  width: 1px;\n",
       "}\n",
       "\n",
       "#sk-container-id-31 div.sk-dashed-wrapped {\n",
       "  border: 1px dashed var(--sklearn-color-line);\n",
       "  margin: 0 0.4em 0.5em 0.4em;\n",
       "  box-sizing: border-box;\n",
       "  padding-bottom: 0.4em;\n",
       "  background-color: var(--sklearn-color-background);\n",
       "}\n",
       "\n",
       "#sk-container-id-31 div.sk-container {\n",
       "  /* jupyter's `normalize.less` sets `[hidden] { display: none; }`\n",
       "     but bootstrap.min.css set `[hidden] { display: none !important; }`\n",
       "     so we also need the `!important` here to be able to override the\n",
       "     default hidden behavior on the sphinx rendered scikit-learn.org.\n",
       "     See: https://github.com/scikit-learn/scikit-learn/issues/21755 */\n",
       "  display: inline-block !important;\n",
       "  position: relative;\n",
       "}\n",
       "\n",
       "#sk-container-id-31 div.sk-text-repr-fallback {\n",
       "  display: none;\n",
       "}\n",
       "\n",
       "div.sk-parallel-item,\n",
       "div.sk-serial,\n",
       "div.sk-item {\n",
       "  /* draw centered vertical line to link estimators */\n",
       "  background-image: linear-gradient(var(--sklearn-color-text-on-default-background), var(--sklearn-color-text-on-default-background));\n",
       "  background-size: 2px 100%;\n",
       "  background-repeat: no-repeat;\n",
       "  background-position: center center;\n",
       "}\n",
       "\n",
       "/* Parallel-specific style estimator block */\n",
       "\n",
       "#sk-container-id-31 div.sk-parallel-item::after {\n",
       "  content: \"\";\n",
       "  width: 100%;\n",
       "  border-bottom: 2px solid var(--sklearn-color-text-on-default-background);\n",
       "  flex-grow: 1;\n",
       "}\n",
       "\n",
       "#sk-container-id-31 div.sk-parallel {\n",
       "  display: flex;\n",
       "  align-items: stretch;\n",
       "  justify-content: center;\n",
       "  background-color: var(--sklearn-color-background);\n",
       "  position: relative;\n",
       "}\n",
       "\n",
       "#sk-container-id-31 div.sk-parallel-item {\n",
       "  display: flex;\n",
       "  flex-direction: column;\n",
       "}\n",
       "\n",
       "#sk-container-id-31 div.sk-parallel-item:first-child::after {\n",
       "  align-self: flex-end;\n",
       "  width: 50%;\n",
       "}\n",
       "\n",
       "#sk-container-id-31 div.sk-parallel-item:last-child::after {\n",
       "  align-self: flex-start;\n",
       "  width: 50%;\n",
       "}\n",
       "\n",
       "#sk-container-id-31 div.sk-parallel-item:only-child::after {\n",
       "  width: 0;\n",
       "}\n",
       "\n",
       "/* Serial-specific style estimator block */\n",
       "\n",
       "#sk-container-id-31 div.sk-serial {\n",
       "  display: flex;\n",
       "  flex-direction: column;\n",
       "  align-items: center;\n",
       "  background-color: var(--sklearn-color-background);\n",
       "  padding-right: 1em;\n",
       "  padding-left: 1em;\n",
       "}\n",
       "\n",
       "\n",
       "/* Toggleable style: style used for estimator/Pipeline/ColumnTransformer box that is\n",
       "clickable and can be expanded/collapsed.\n",
       "- Pipeline and ColumnTransformer use this feature and define the default style\n",
       "- Estimators will overwrite some part of the style using the `sk-estimator` class\n",
       "*/\n",
       "\n",
       "/* Pipeline and ColumnTransformer style (default) */\n",
       "\n",
       "#sk-container-id-31 div.sk-toggleable {\n",
       "  /* Default theme specific background. It is overwritten whether we have a\n",
       "  specific estimator or a Pipeline/ColumnTransformer */\n",
       "  background-color: var(--sklearn-color-background);\n",
       "}\n",
       "\n",
       "/* Toggleable label */\n",
       "#sk-container-id-31 label.sk-toggleable__label {\n",
       "  cursor: pointer;\n",
       "  display: block;\n",
       "  width: 100%;\n",
       "  margin-bottom: 0;\n",
       "  padding: 0.5em;\n",
       "  box-sizing: border-box;\n",
       "  text-align: center;\n",
       "}\n",
       "\n",
       "#sk-container-id-31 label.sk-toggleable__label-arrow:before {\n",
       "  /* Arrow on the left of the label */\n",
       "  content: \"▸\";\n",
       "  float: left;\n",
       "  margin-right: 0.25em;\n",
       "  color: var(--sklearn-color-icon);\n",
       "}\n",
       "\n",
       "#sk-container-id-31 label.sk-toggleable__label-arrow:hover:before {\n",
       "  color: var(--sklearn-color-text);\n",
       "}\n",
       "\n",
       "/* Toggleable content - dropdown */\n",
       "\n",
       "#sk-container-id-31 div.sk-toggleable__content {\n",
       "  max-height: 0;\n",
       "  max-width: 0;\n",
       "  overflow: hidden;\n",
       "  text-align: left;\n",
       "  /* unfitted */\n",
       "  background-color: var(--sklearn-color-unfitted-level-0);\n",
       "}\n",
       "\n",
       "#sk-container-id-31 div.sk-toggleable__content.fitted {\n",
       "  /* fitted */\n",
       "  background-color: var(--sklearn-color-fitted-level-0);\n",
       "}\n",
       "\n",
       "#sk-container-id-31 div.sk-toggleable__content pre {\n",
       "  margin: 0.2em;\n",
       "  border-radius: 0.25em;\n",
       "  color: var(--sklearn-color-text);\n",
       "  /* unfitted */\n",
       "  background-color: var(--sklearn-color-unfitted-level-0);\n",
       "}\n",
       "\n",
       "#sk-container-id-31 div.sk-toggleable__content.fitted pre {\n",
       "  /* unfitted */\n",
       "  background-color: var(--sklearn-color-fitted-level-0);\n",
       "}\n",
       "\n",
       "#sk-container-id-31 input.sk-toggleable__control:checked~div.sk-toggleable__content {\n",
       "  /* Expand drop-down */\n",
       "  max-height: 200px;\n",
       "  max-width: 100%;\n",
       "  overflow: auto;\n",
       "}\n",
       "\n",
       "#sk-container-id-31 input.sk-toggleable__control:checked~label.sk-toggleable__label-arrow:before {\n",
       "  content: \"▾\";\n",
       "}\n",
       "\n",
       "/* Pipeline/ColumnTransformer-specific style */\n",
       "\n",
       "#sk-container-id-31 div.sk-label input.sk-toggleable__control:checked~label.sk-toggleable__label {\n",
       "  color: var(--sklearn-color-text);\n",
       "  background-color: var(--sklearn-color-unfitted-level-2);\n",
       "}\n",
       "\n",
       "#sk-container-id-31 div.sk-label.fitted input.sk-toggleable__control:checked~label.sk-toggleable__label {\n",
       "  background-color: var(--sklearn-color-fitted-level-2);\n",
       "}\n",
       "\n",
       "/* Estimator-specific style */\n",
       "\n",
       "/* Colorize estimator box */\n",
       "#sk-container-id-31 div.sk-estimator input.sk-toggleable__control:checked~label.sk-toggleable__label {\n",
       "  /* unfitted */\n",
       "  background-color: var(--sklearn-color-unfitted-level-2);\n",
       "}\n",
       "\n",
       "#sk-container-id-31 div.sk-estimator.fitted input.sk-toggleable__control:checked~label.sk-toggleable__label {\n",
       "  /* fitted */\n",
       "  background-color: var(--sklearn-color-fitted-level-2);\n",
       "}\n",
       "\n",
       "#sk-container-id-31 div.sk-label label.sk-toggleable__label,\n",
       "#sk-container-id-31 div.sk-label label {\n",
       "  /* The background is the default theme color */\n",
       "  color: var(--sklearn-color-text-on-default-background);\n",
       "}\n",
       "\n",
       "/* On hover, darken the color of the background */\n",
       "#sk-container-id-31 div.sk-label:hover label.sk-toggleable__label {\n",
       "  color: var(--sklearn-color-text);\n",
       "  background-color: var(--sklearn-color-unfitted-level-2);\n",
       "}\n",
       "\n",
       "/* Label box, darken color on hover, fitted */\n",
       "#sk-container-id-31 div.sk-label.fitted:hover label.sk-toggleable__label.fitted {\n",
       "  color: var(--sklearn-color-text);\n",
       "  background-color: var(--sklearn-color-fitted-level-2);\n",
       "}\n",
       "\n",
       "/* Estimator label */\n",
       "\n",
       "#sk-container-id-31 div.sk-label label {\n",
       "  font-family: monospace;\n",
       "  font-weight: bold;\n",
       "  display: inline-block;\n",
       "  line-height: 1.2em;\n",
       "}\n",
       "\n",
       "#sk-container-id-31 div.sk-label-container {\n",
       "  text-align: center;\n",
       "}\n",
       "\n",
       "/* Estimator-specific */\n",
       "#sk-container-id-31 div.sk-estimator {\n",
       "  font-family: monospace;\n",
       "  border: 1px dotted var(--sklearn-color-border-box);\n",
       "  border-radius: 0.25em;\n",
       "  box-sizing: border-box;\n",
       "  margin-bottom: 0.5em;\n",
       "  /* unfitted */\n",
       "  background-color: var(--sklearn-color-unfitted-level-0);\n",
       "}\n",
       "\n",
       "#sk-container-id-31 div.sk-estimator.fitted {\n",
       "  /* fitted */\n",
       "  background-color: var(--sklearn-color-fitted-level-0);\n",
       "}\n",
       "\n",
       "/* on hover */\n",
       "#sk-container-id-31 div.sk-estimator:hover {\n",
       "  /* unfitted */\n",
       "  background-color: var(--sklearn-color-unfitted-level-2);\n",
       "}\n",
       "\n",
       "#sk-container-id-31 div.sk-estimator.fitted:hover {\n",
       "  /* fitted */\n",
       "  background-color: var(--sklearn-color-fitted-level-2);\n",
       "}\n",
       "\n",
       "/* Specification for estimator info (e.g. \"i\" and \"?\") */\n",
       "\n",
       "/* Common style for \"i\" and \"?\" */\n",
       "\n",
       ".sk-estimator-doc-link,\n",
       "a:link.sk-estimator-doc-link,\n",
       "a:visited.sk-estimator-doc-link {\n",
       "  float: right;\n",
       "  font-size: smaller;\n",
       "  line-height: 1em;\n",
       "  font-family: monospace;\n",
       "  background-color: var(--sklearn-color-background);\n",
       "  border-radius: 1em;\n",
       "  height: 1em;\n",
       "  width: 1em;\n",
       "  text-decoration: none !important;\n",
       "  margin-left: 1ex;\n",
       "  /* unfitted */\n",
       "  border: var(--sklearn-color-unfitted-level-1) 1pt solid;\n",
       "  color: var(--sklearn-color-unfitted-level-1);\n",
       "}\n",
       "\n",
       ".sk-estimator-doc-link.fitted,\n",
       "a:link.sk-estimator-doc-link.fitted,\n",
       "a:visited.sk-estimator-doc-link.fitted {\n",
       "  /* fitted */\n",
       "  border: var(--sklearn-color-fitted-level-1) 1pt solid;\n",
       "  color: var(--sklearn-color-fitted-level-1);\n",
       "}\n",
       "\n",
       "/* On hover */\n",
       "div.sk-estimator:hover .sk-estimator-doc-link:hover,\n",
       ".sk-estimator-doc-link:hover,\n",
       "div.sk-label-container:hover .sk-estimator-doc-link:hover,\n",
       ".sk-estimator-doc-link:hover {\n",
       "  /* unfitted */\n",
       "  background-color: var(--sklearn-color-unfitted-level-3);\n",
       "  color: var(--sklearn-color-background);\n",
       "  text-decoration: none;\n",
       "}\n",
       "\n",
       "div.sk-estimator.fitted:hover .sk-estimator-doc-link.fitted:hover,\n",
       ".sk-estimator-doc-link.fitted:hover,\n",
       "div.sk-label-container:hover .sk-estimator-doc-link.fitted:hover,\n",
       ".sk-estimator-doc-link.fitted:hover {\n",
       "  /* fitted */\n",
       "  background-color: var(--sklearn-color-fitted-level-3);\n",
       "  color: var(--sklearn-color-background);\n",
       "  text-decoration: none;\n",
       "}\n",
       "\n",
       "/* Span, style for the box shown on hovering the info icon */\n",
       ".sk-estimator-doc-link span {\n",
       "  display: none;\n",
       "  z-index: 9999;\n",
       "  position: relative;\n",
       "  font-weight: normal;\n",
       "  right: .2ex;\n",
       "  padding: .5ex;\n",
       "  margin: .5ex;\n",
       "  width: min-content;\n",
       "  min-width: 20ex;\n",
       "  max-width: 50ex;\n",
       "  color: var(--sklearn-color-text);\n",
       "  box-shadow: 2pt 2pt 4pt #999;\n",
       "  /* unfitted */\n",
       "  background: var(--sklearn-color-unfitted-level-0);\n",
       "  border: .5pt solid var(--sklearn-color-unfitted-level-3);\n",
       "}\n",
       "\n",
       ".sk-estimator-doc-link.fitted span {\n",
       "  /* fitted */\n",
       "  background: var(--sklearn-color-fitted-level-0);\n",
       "  border: var(--sklearn-color-fitted-level-3);\n",
       "}\n",
       "\n",
       ".sk-estimator-doc-link:hover span {\n",
       "  display: block;\n",
       "}\n",
       "\n",
       "/* \"?\"-specific style due to the `<a>` HTML tag */\n",
       "\n",
       "#sk-container-id-31 a.estimator_doc_link {\n",
       "  float: right;\n",
       "  font-size: 1rem;\n",
       "  line-height: 1em;\n",
       "  font-family: monospace;\n",
       "  background-color: var(--sklearn-color-background);\n",
       "  border-radius: 1rem;\n",
       "  height: 1rem;\n",
       "  width: 1rem;\n",
       "  text-decoration: none;\n",
       "  /* unfitted */\n",
       "  color: var(--sklearn-color-unfitted-level-1);\n",
       "  border: var(--sklearn-color-unfitted-level-1) 1pt solid;\n",
       "}\n",
       "\n",
       "#sk-container-id-31 a.estimator_doc_link.fitted {\n",
       "  /* fitted */\n",
       "  border: var(--sklearn-color-fitted-level-1) 1pt solid;\n",
       "  color: var(--sklearn-color-fitted-level-1);\n",
       "}\n",
       "\n",
       "/* On hover */\n",
       "#sk-container-id-31 a.estimator_doc_link:hover {\n",
       "  /* unfitted */\n",
       "  background-color: var(--sklearn-color-unfitted-level-3);\n",
       "  color: var(--sklearn-color-background);\n",
       "  text-decoration: none;\n",
       "}\n",
       "\n",
       "#sk-container-id-31 a.estimator_doc_link.fitted:hover {\n",
       "  /* fitted */\n",
       "  background-color: var(--sklearn-color-fitted-level-3);\n",
       "}\n",
       "</style><div id=\"sk-container-id-31\" class=\"sk-top-container\"><div class=\"sk-text-repr-fallback\"><pre>OneClassSVM(gamma=0.0563750769961434, kernel=&#x27;sigmoid&#x27;, nu=0.010035039446789056)</pre><b>In a Jupyter environment, please rerun this cell to show the HTML representation or trust the notebook. <br />On GitHub, the HTML representation is unable to render, please try loading this page with nbviewer.org.</b></div><div class=\"sk-container\" hidden><div class=\"sk-item\"><div class=\"sk-estimator fitted sk-toggleable\"><input class=\"sk-toggleable__control sk-hidden--visually\" id=\"sk-estimator-id-31\" type=\"checkbox\" checked><label for=\"sk-estimator-id-31\" class=\"sk-toggleable__label fitted sk-toggleable__label-arrow fitted\">&nbsp;&nbsp;OneClassSVM<a class=\"sk-estimator-doc-link fitted\" rel=\"noreferrer\" target=\"_blank\" href=\"https://scikit-learn.org/1.5/modules/generated/sklearn.svm.OneClassSVM.html\">?<span>Documentation for OneClassSVM</span></a><span class=\"sk-estimator-doc-link fitted\">i<span>Fitted</span></span></label><div class=\"sk-toggleable__content fitted\"><pre>OneClassSVM(gamma=0.0563750769961434, kernel=&#x27;sigmoid&#x27;, nu=0.010035039446789056)</pre></div> </div></div></div></div>"
      ],
      "text/plain": [
       "OneClassSVM(gamma=0.0563750769961434, kernel='sigmoid', nu=0.010035039446789056)"
      ]
     },
     "execution_count": 335,
     "metadata": {},
     "output_type": "execute_result"
    }
   ],
   "source": [
    "best_params = study.best_params\n",
    "best_model = OneClassSVM(kernel=best_params['kernel'], gamma=best_params['gamma'], nu=best_params['nu'], shrinking=True)\n",
    "normal_data_train = X_train[y_train == 0]\n",
    "best_model.fit(normal_data_train)"
   ]
  },
  {
   "cell_type": "code",
   "execution_count": 37,
   "id": "df894db3-33ec-452a-aeb8-03c6f6e00c73",
   "metadata": {},
   "outputs": [],
   "source": [
    "sampled_data = data.sample(n=10000, random_state=42)\n",
    "\n",
    "X = sampled_data.drop(columns=['anomaly'])\n",
    "y = sampled_data['anomaly']\n",
    "\n",
    "# Step 1: Prepare sampled data\n",
    "X_train, X_test, y_train, y_test = train_test_split(X, y, test_size=0.2, stratify=y, random_state=42)"
   ]
  },
  {
   "cell_type": "code",
   "execution_count": 40,
   "id": "946a6a51-ebde-4483-a8a4-fae68fb246d9",
   "metadata": {},
   "outputs": [
    {
     "name": "stdout",
     "output_type": "stream",
     "text": [
      "Accuracy===>: 0.9735\n",
      "Final Model Performance:\n",
      "Precision 0.7677===>: 0.8265\n",
      "Recall 0.6496===>: 0.6923\n",
      "F1 Score 0.7037===>: 0.7535\n",
      "AUC 0.8453===>: 0.8416\n",
      "Confusion Matrix:\n",
      "[[1866   17]\n",
      " [  36   81]]\n"
     ]
    }
   ],
   "source": [
    "# Step 7: Evaluate the final model on the test set\n",
    "y_pred = best_model.predict(X_test)\n",
    "y_pred = [0 if pred == 1 else 1 for pred in y_pred]\n",
    "\n",
    "# Compute evaluation metrics\n",
    "precision = precision_score(y_test, y_pred)\n",
    "recall = recall_score(y_test, y_pred)\n",
    "f1 = f1_score(y_test, y_pred)\n",
    "auc = roc_auc_score(y_test, y_pred)\n",
    "conf_matrix = confusion_matrix(y_test, y_pred)\n",
    "accuracy = accuracy_score(y_test, y_pred)\n",
    "\n",
    "print(f\"Accuracy===>: {accuracy:.4f}\")\n",
    "print(\"Final Model Performance:\")\n",
    "print(f\"Precision 0.7677===>: {precision:.4f}\")\n",
    "print(f\"Recall 0.6496===>: {recall:.4f}\")\n",
    "print(f\"F1 Score 0.7037===>: {f1:.4f}\")\n",
    "print(f\"AUC 0.8453===>: {auc:.4f}\")\n",
    "print(\"Confusion Matrix:\")\n",
    "print(conf_matrix)"
   ]
  },
  {
   "cell_type": "code",
   "execution_count": 319,
   "id": "f476b641-38db-42d4-8a7b-c45a499d90a6",
   "metadata": {},
   "outputs": [
    {
     "data": {
      "text/plain": [
       "['C:\\\\Users\\\\azad.aliyev\\\\Downloads\\\\hb_ocsvm.joblib']"
      ]
     },
     "execution_count": 319,
     "metadata": {},
     "output_type": "execute_result"
    }
   ],
   "source": [
    "from joblib import dump\n",
    "dump(best_model, r'C:\\Users\\azad.aliyev\\Downloads\\hb_ocsvm.joblib')"
   ]
  },
  {
   "cell_type": "markdown",
   "id": "442f71da",
   "metadata": {
    "id": "YQQHVw2ngole",
    "jp-MarkdownHeadingCollapsed": true
   },
   "source": [
    "## Data Splitting"
   ]
  },
  {
   "cell_type": "code",
   "execution_count": 14,
   "id": "e7b971e7",
   "metadata": {},
   "outputs": [
    {
     "name": "stderr",
     "output_type": "stream",
     "text": [
      "C:\\Users\\Asus\\anaconda3\\Lib\\site-packages\\sklearn\\base.py:288: UserWarning: Trying to unpickle estimator OneClassSVM from version 1.5.1 when using version 1.2.0. This might lead to breaking code or invalid results. Use at your own risk. For more info please refer to:\n",
      "https://scikit-learn.org/stable/model_persistence.html#security-maintainability-limitations\n",
      "  warnings.warn(\n"
     ]
    }
   ],
   "source": [
    "from joblib import load\n",
    "\n",
    "ocsvm = load(r'C:\\Users\\Asus\\Downloads\\Thesis\\models\\model\\ocsvm\\hb_ocsvm.joblib')"
   ]
  },
  {
   "cell_type": "markdown",
   "id": "0354d4ae",
   "metadata": {},
   "source": [
    "### 70/30 Splitting"
   ]
  },
  {
   "cell_type": "code",
   "execution_count": 15,
   "id": "7af63a2f",
   "metadata": {},
   "outputs": [
    {
     "name": "stdout",
     "output_type": "stream",
     "text": [
      "Training data shape: (7000, 20)\n",
      "Test data shape: (3000, 20)\n"
     ]
    }
   ],
   "source": [
    "X_train, X_test, y_train, y_test = train_test_split(X, y, test_size=0.3, random_state=42)\n",
    "print(\"Training data shape:\", X_train.shape)\n",
    "print(\"Test data shape:\", X_test.shape)"
   ]
  },
  {
   "cell_type": "code",
   "execution_count": 16,
   "id": "244ad805",
   "metadata": {},
   "outputs": [
    {
     "name": "stdout",
     "output_type": "stream",
     "text": [
      "Accuracy: 0.9733333333333334\n",
      "Confusion Matrix:\n",
      "[[2794   23]\n",
      " [  57  126]]\n",
      "Precision: 0.8456375838926175\n",
      "Recall: 0.6885245901639344\n",
      "F1 Score: 0.7590361445783133\n"
     ]
    }
   ],
   "source": [
    "ocsvm_predictions = ocsvm.predict(X_test)\n",
    "ocsvm_binary_predictions = [0 if pred == 1 else 1 for pred in ocsvm_predictions]\n",
    "\n",
    "ocsvm_true_labels = y_test\n",
    "ocsvm_predicted_labels = ocsvm_binary_predictions\n",
    "accuracy = accuracy_score(ocsvm_true_labels, ocsvm_predicted_labels)\n",
    "confusion = confusion_matrix(ocsvm_true_labels, ocsvm_predicted_labels)\n",
    "precision = precision_score(ocsvm_true_labels, ocsvm_predicted_labels)\n",
    "recall = recall_score(ocsvm_true_labels, ocsvm_predicted_labels)\n",
    "f1 = f1_score(ocsvm_true_labels, ocsvm_predicted_labels)\n",
    "\n",
    "print(\"Accuracy:\", accuracy)\n",
    "print(\"Confusion Matrix:\")\n",
    "print(confusion)\n",
    "print(\"Precision:\", precision)\n",
    "print(\"Recall:\", recall)\n",
    "print(\"F1 Score:\", f1)"
   ]
  },
  {
   "cell_type": "code",
   "execution_count": 17,
   "id": "484f8aee",
   "metadata": {},
   "outputs": [
    {
     "data": {
      "image/png": "[encoded data removed]",
      "text/plain": [
       "<Figure size 400x300 with 1 Axes>"
      ]
     },
     "metadata": {},
     "output_type": "display_data"
    }
   ],
   "source": [
    "decision_scores = ocsvm.decision_function(X_test)\n",
    "fpr, tpr, thresholds = roc_curve(ocsvm_true_labels, -decision_scores)\n",
    "roc_auc = auc(fpr, tpr)\n",
    "\n",
    "# Plot the ROC Curve\n",
    "plt.figure(figsize=(4, 3))\n",
    "plt.plot(fpr, tpr, color='blue', lw=2, label=f\"ROC Curve (AUC = {roc_auc:.4f})\")\n",
    "plt.plot([0, 1], [0, 1], color='gray', linestyle='--', lw=1)  # Diagonal line\n",
    "plt.xlim([0.0, 1.0])\n",
    "plt.ylim([0.0, 1.05])\n",
    "plt.xlabel('False Positive Rate (FPR)')\n",
    "plt.ylabel('True Positive Rate (TPR)')\n",
    "plt.title('ROC Curve for OCSVM: 7:3')\n",
    "plt.legend(loc=\"lower right\")\n",
    "plt.grid()\n",
    "plt.show()"
   ]
  },
  {
   "cell_type": "markdown",
   "id": "92252d53",
   "metadata": {},
   "source": [
    "### 90/10 Test Splitting"
   ]
  },
  {
   "cell_type": "code",
   "execution_count": 20,
   "id": "fa656e19",
   "metadata": {},
   "outputs": [],
   "source": [
    "X_train = X.iloc[:9000, :]\n",
    "X_test = X.iloc[9000:, :]\n",
    "y_train = y.iloc[:9000]\n",
    "y_test = y.iloc[9000:]"
   ]
  },
  {
   "cell_type": "code",
   "execution_count": 21,
   "id": "31ddf6a9",
   "metadata": {},
   "outputs": [
    {
     "name": "stdout",
     "output_type": "stream",
     "text": [
      "Accuracy: 0.974\n",
      "Confusion Matrix:\n",
      "[[941   7]\n",
      " [ 19  33]]\n",
      "Precision: 0.825\n",
      "Recall: 0.6346153846153846\n",
      "F1 Score: 0.717391304347826\n"
     ]
    }
   ],
   "source": [
    "ocsvm_predictions = ocsvm.predict(X_test)\n",
    "ocsvm_binary_predictions = [0 if pred == 1 else 1 for pred in ocsvm_predictions]\n",
    "\n",
    "ocsvm_true_labels = y_test\n",
    "ocsvm_predicted_labels = ocsvm_binary_predictions\n",
    "accuracy = accuracy_score(ocsvm_true_labels, ocsvm_predicted_labels)\n",
    "confusion = confusion_matrix(ocsvm_true_labels, ocsvm_predicted_labels)\n",
    "precision = precision_score(ocsvm_true_labels, ocsvm_predicted_labels)\n",
    "recall = recall_score(ocsvm_true_labels, ocsvm_predicted_labels)\n",
    "f1 = f1_score(ocsvm_true_labels, ocsvm_predicted_labels)\n",
    "\n",
    "print(\"Accuracy:\", accuracy)\n",
    "print(\"Confusion Matrix:\")\n",
    "print(confusion)\n",
    "print(\"Precision:\", precision)\n",
    "print(\"Recall:\", recall)\n",
    "print(\"F1 Score:\", f1)"
   ]
  },
  {
   "cell_type": "code",
   "execution_count": 22,
   "id": "2e3c3a86",
   "metadata": {},
   "outputs": [
    {
     "data": {
      "image/png": "[encoded data removed]",
      "text/plain": [
       "<Figure size 400x300 with 1 Axes>"
      ]
     },
     "metadata": {},
     "output_type": "display_data"
    }
   ],
   "source": [
    "decision_scores = ocsvm.decision_function(X_test)\n",
    "fpr, tpr, thresholds = roc_curve(ocsvm_true_labels, -decision_scores)\n",
    "roc_auc = auc(fpr, tpr)\n",
    "\n",
    "# Plot the ROC Curve\n",
    "plt.figure(figsize=(4, 3))\n",
    "plt.plot(fpr, tpr, color='blue', lw=2, label=f\"ROC Curve (AUC = {roc_auc:.4f})\")\n",
    "plt.plot([0, 1], [0, 1], color='gray', linestyle='--', lw=1)  # Diagonal line\n",
    "plt.xlim([0.0, 1.0])\n",
    "plt.ylim([0.0, 1.05])\n",
    "plt.xlabel('False Positive Rate (FPR)')\n",
    "plt.ylabel('True Positive Rate (TPR)')\n",
    "plt.title('ROC Curve for OCSVM: 9:1')\n",
    "plt.legend(loc=\"lower right\")\n",
    "plt.grid()\n",
    "plt.show()"
   ]
  },
  {
   "cell_type": "markdown",
   "id": "b2286357",
   "metadata": {},
   "source": [
    "### 60/40 Test Splitting"
   ]
  },
  {
   "cell_type": "code",
   "execution_count": 23,
   "id": "60180dc1",
   "metadata": {},
   "outputs": [],
   "source": [
    "X_train = X.iloc[:6000, :]\n",
    "X_test = X.iloc[6000:, :]\n",
    "y_train = y.iloc[:6000]\n",
    "y_test = y.iloc[6000:]"
   ]
  },
  {
   "cell_type": "code",
   "execution_count": 24,
   "id": "4da42918",
   "metadata": {},
   "outputs": [
    {
     "name": "stdout",
     "output_type": "stream",
     "text": [
      "Accuracy: 0.97375\n",
      "Confusion Matrix:\n",
      "[[3741   38]\n",
      " [  67  154]]\n",
      "Precision: 0.8020833333333334\n",
      "Recall: 0.6968325791855203\n",
      "F1 Score: 0.7457627118644069\n"
     ]
    }
   ],
   "source": [
    "ocsvm_predictions = ocsvm.predict(X_test)\n",
    "ocsvm_binary_predictions = [0 if pred == 1 else 1 for pred in ocsvm_predictions]\n",
    "\n",
    "ocsvm_true_labels = y_test\n",
    "ocsvm_predicted_labels = ocsvm_binary_predictions\n",
    "accuracy = accuracy_score(ocsvm_true_labels, ocsvm_predicted_labels)\n",
    "confusion = confusion_matrix(ocsvm_true_labels, ocsvm_predicted_labels)\n",
    "precision = precision_score(ocsvm_true_labels, ocsvm_predicted_labels)\n",
    "recall = recall_score(ocsvm_true_labels, ocsvm_predicted_labels)\n",
    "f1 = f1_score(ocsvm_true_labels, ocsvm_predicted_labels)\n",
    "\n",
    "print(\"Accuracy:\", accuracy)\n",
    "print(\"Confusion Matrix:\")\n",
    "print(confusion)\n",
    "print(\"Precision:\", precision)\n",
    "print(\"Recall:\", recall)\n",
    "print(\"F1 Score:\", f1)"
   ]
  },
  {
   "cell_type": "code",
   "execution_count": 25,
   "id": "9ce8af25",
   "metadata": {},
   "outputs": [
    {
     "data": {
      "image/png": "[encoded data removed]",
      "text/plain": [
       "<Figure size 400x300 with 1 Axes>"
      ]
     },
     "metadata": {},
     "output_type": "display_data"
    }
   ],
   "source": [
    "decision_scores = ocsvm.decision_function(X_test)\n",
    "fpr, tpr, thresholds = roc_curve(ocsvm_true_labels, -decision_scores)\n",
    "roc_auc = auc(fpr, tpr)\n",
    "\n",
    "# Plot the ROC Curve\n",
    "plt.figure(figsize=(4, 3))\n",
    "plt.plot(fpr, tpr, color='blue', lw=2, label=f\"ROC Curve (AUC = {roc_auc:.4f})\")\n",
    "plt.plot([0, 1], [0, 1], color='gray', linestyle='--', lw=1)  # Diagonal line\n",
    "plt.xlim([0.0, 1.0])\n",
    "plt.ylim([0.0, 1.05])\n",
    "plt.xlabel('False Positive Rate (FPR)')\n",
    "plt.ylabel('True Positive Rate (TPR)')\n",
    "plt.title('ROC Curve for OCSVM: 6:4')\n",
    "plt.legend(loc=\"lower right\")\n",
    "plt.grid()\n",
    "plt.show()"
   ]
  },
  {
   "cell_type": "markdown",
   "id": "b40c6942",
   "metadata": {},
   "source": [
    "### k-fold cross validation"
   ]
  },
  {
   "cell_type": "code",
   "execution_count": 29,
   "id": "35d476d5",
   "metadata": {},
   "outputs": [],
   "source": [
    "sampled_data = data.sample(n=10000, random_state=42)\n",
    "X = sampled_data.drop(columns=['anomaly'])\n",
    "y = sampled_data['anomaly']"
   ]
  },
  {
   "cell_type": "code",
   "execution_count": 11,
   "id": "7fb7545a",
   "metadata": {},
   "outputs": [],
   "source": [
    "from sklearn.model_selection import StratifiedKFold"
   ]
  },
  {
   "cell_type": "code",
   "execution_count": 32,
   "id": "b046adc7",
   "metadata": {},
   "outputs": [
    {
     "name": "stderr",
     "output_type": "stream",
     "text": [
      "C:\\Users\\Asus\\anaconda3\\Lib\\site-packages\\sklearn\\base.py:288: UserWarning: Trying to unpickle estimator OneClassSVM from version 1.5.1 when using version 1.2.0. This might lead to breaking code or invalid results. Use at your own risk. For more info please refer to:\n",
      "https://scikit-learn.org/stable/model_persistence.html#security-maintainability-limitations\n",
      "  warnings.warn(\n"
     ]
    }
   ],
   "source": [
    "ocsvm_gs = load(r'C:\\Users\\Asus\\Downloads\\Thesis\\models\\model\\ocsvm\\gs_ocsvm.joblib')\n",
    "ocsvm_pso = load(r'C:\\Users\\Asus\\Downloads\\Thesis\\models\\model\\ocsvm\\pso_ocsvm.joblib')\n",
    "ocsvm_rs = load(r'C:\\Users\\Asus\\Downloads\\Thesis\\models\\model\\ocsvm\\rs_ocsvm.joblib')\n",
    "ocsvm_bo = load(r'C:\\Users\\Asus\\Downloads\\Thesis\\models\\model\\ocsvm\\bo_ocsvm.joblib')\n",
    "ocsvm_hb = load(r'C:\\Users\\Asus\\Downloads\\Thesis\\models\\model\\ocsvm\\hb_ocsvm.joblib')\n",
    "# ocsvm_de = load(r'C:\\Users\\Asus\\Downloads\\Thesis\\models\\model\\ocsvm\\de_ocsvm.joblib')"
   ]
  },
  {
   "cell_type": "code",
   "execution_count": 33,
   "id": "82c5ba98",
   "metadata": {},
   "outputs": [],
   "source": [
    "# Assuming `ocsvm_model_1` and `ocsvm_model_2` are your loaded OCSVM models\n",
    "skf = StratifiedKFold(n_splits=10, shuffle=True, random_state=42)\n",
    "\n",
    "auc_scores_model_1 = []\n",
    "auc_scores_model_2 = []\n",
    "auc_scores_model_3 = []\n",
    "auc_scores_model_4 = []\n",
    "auc_scores_model_5 = []\n",
    "auc_scores_model_6 = []\n",
    "\n",
    "\n",
    "for train_index, test_index in skf.split(X, y):\n",
    "    X_train, X_test = X.iloc[train_index], X.iloc[test_index]\n",
    "    y_train, y_test = y.iloc[train_index], y.iloc[test_index]\n",
    "\n",
    "    # PSO\n",
    "    ocsvm_pso.fit(X_train)\n",
    "    scores_model_1 = ocsvm_pso.decision_function(X_test)\n",
    "    scores_model_1 = -scores_model_1  # Adjust if necessary\n",
    "    fpr_1, tpr_1, _ = roc_curve(y_test, scores_model_1)\n",
    "    auc_scores_model_1.append(auc(fpr_1, tpr_1))\n",
    "\n",
    "    # Grid\n",
    "    ocsvm_gs.fit(X_train)\n",
    "    scores_model_2 = ocsvm_gs.decision_function(X_test)\n",
    "    scores_model_2 = -scores_model_2  # Adjust if necessary\n",
    "    fpr_2, tpr_2, _ = roc_curve(y_test, scores_model_2)\n",
    "    auc_scores_model_2.append(auc(fpr_2, tpr_2))\n",
    "    \n",
    "    # Random\n",
    "    ocsvm_rs.fit(X_train)\n",
    "    scores_model_3 = ocsvm_rs.decision_function(X_test)\n",
    "    scores_model_3 = -scores_model_3  # Adjust if necessary\n",
    "    fpr_3, tpr_3, _ = roc_curve(y_test, scores_model_3)\n",
    "    auc_scores_model_3.append(auc(fpr_3, tpr_3))\n",
    "\n",
    "    # Bayesian\n",
    "    ocsvm_bo.fit(X_train)\n",
    "    scores_model_4 = ocsvm_bo.decision_function(X_test)\n",
    "    scores_model_4 = -scores_model_4  # Adjust if necessary\n",
    "    fpr_4, tpr_4, _ = roc_curve(y_test, scores_model_4)\n",
    "    auc_scores_model_4.append(auc(fpr_4, tpr_4))\n",
    "\n",
    "    # Hyperband\n",
    "    ocsvm_hb.fit(X_train)\n",
    "    scores_model_5 = ocsvm_hb.decision_function(X_test)\n",
    "    scores_model_5 = -scores_model_5  # Adjust if necessary\n",
    "    fpr_5, tpr_5, _ = roc_curve(y_test, scores_model_5)\n",
    "    auc_scores_model_5.append(auc(fpr_5, tpr_5))\n",
    "\n",
    "#     # Differential Evolution\n",
    "#     ocsvm_de.fit(X_train)\n",
    "#     scores_model_6 = ocsvm_de.decision_function(X_test)\n",
    "#     scores_model_6 = -scores_model_6  # Adjust if necessary\n",
    "#     fpr_6, tpr_6, _ = roc_curve(y_test, scores_model_6)\n",
    "#     auc_scores_model_6.append(auc(fpr_6, tpr_6))"
   ]
  },
  {
   "cell_type": "code",
   "execution_count": 34,
   "id": "266d7cc0",
   "metadata": {},
   "outputs": [
    {
     "data": {
      "image/png": "[encoded data removed]",
      "text/plain": [
       "<Figure size 800x300 with 1 Axes>"
      ]
     },
     "metadata": {},
     "output_type": "display_data"
    }
   ],
   "source": [
    "# Plotting AUC scores for both models\n",
    "plt.figure(figsize=(8, 3))\n",
    "folds = list(range(1, len(auc_scores_model_1) + 1))\n",
    "\n",
    "plt.plot(folds, auc_scores_model_1, marker='o', label='OCSVM PSO')\n",
    "plt.plot(folds, auc_scores_model_2, marker='s', label='OCSVM Grid')\n",
    "plt.plot(folds, auc_scores_model_3, marker='o', label='OCSVM Random')\n",
    "plt.plot(folds, auc_scores_model_4, marker='s', label='OCSVM Bayesian')\n",
    "plt.plot(folds, auc_scores_model_5, marker='o', label='OCSVM Hyperband')\n",
    "# plt.plot(folds, auc_scores_model_6, marker='s', label='OCSVM Differential Evo')\n",
    "\n",
    "\n",
    "\n",
    "# Add mean AUC as horizontal lines\n",
    "plt.axhline(np.mean(auc_scores_model_1), color='blue', linestyle='--', label='OCSVM PSO Mean AUC')\n",
    "plt.axhline(np.mean(auc_scores_model_2), color='orange', linestyle='--', label='OCSVM Grid Mean AUC')\n",
    "plt.axhline(np.mean(auc_scores_model_3), color='green', linestyle='--', label='OCSVM Random Mean AUC')\n",
    "plt.axhline(np.mean(auc_scores_model_4), color='red', linestyle='--', label='OCSVM Bayesian Mean AUC')\n",
    "plt.axhline(np.mean(auc_scores_model_5), color='purple', linestyle='--', label='OCSVM Hyperband Mean AUC')\n",
    "# plt.axhline(np.mean(auc_scores_model_6), color='grey', linestyle='--', label='OCSVM Differential Evo Mean AUC')\n",
    "\n",
    "\n",
    "\n",
    "plt.legend(bbox_to_anchor=(1.05, 1), loc='upper left', fontsize='small')\n",
    "\n",
    "plt.xlabel('Cross-validation Fold')\n",
    "plt.ylabel('AUC')\n",
    "plt.title('AUC Scores per Fold for OCSVM Models')\n",
    "plt.xticks(folds)\n",
    "plt.grid(True)\n",
    "plt.show()"
   ]
  },
  {
   "cell_type": "markdown",
   "id": "f75ca201",
   "metadata": {},
   "source": [
    "### AUC Curve per data split"
   ]
  },
  {
   "cell_type": "code",
   "execution_count": 26,
   "id": "5d0eb548",
   "metadata": {},
   "outputs": [],
   "source": [
    "split_ratios = ['7:3', '6:4', '9:1', '8:2']\n",
    "auc_scores = [0.8726, 0.8854, 0.8662, 0.8740]"
   ]
  },
  {
   "cell_type": "code",
   "execution_count": 27,
   "id": "ae633a2f",
   "metadata": {},
   "outputs": [
    {
     "data": {
      "image/png": "[encoded data removed]",
      "text/plain": [
       "<Figure size 500x300 with 1 Axes>"
      ]
     },
     "metadata": {},
     "output_type": "display_data"
    }
   ],
   "source": [
    "# Creating the plot\n",
    "plt.figure(figsize=(5, 3))\n",
    "plt.bar(split_ratios, auc_scores, color='firebrick')\n",
    "\n",
    "# Adding titles and labels\n",
    "plt.xlabel('Data Split Ratios')\n",
    "plt.ylabel('AUC Scores')\n",
    "plt.title('AUC Scores for Different Data Split Ratios: OCSVM')\n",
    "plt.ylim([0.83, 0.9])  # Adjust the y-axis limits to make differences more visible\n",
    "\n",
    "# Adding the AUC scores on top of each bar for clarity\n",
    "for i in range(len(auc_scores)):\n",
    "    plt.text(i, auc_scores[i] + 0.001, f'{auc_scores[i]:.4f}', ha = 'center', color = 'black')\n",
    "\n",
    "# Show the plot\n",
    "plt.grid(axis='y', linestyle='--', alpha=0.7)\n",
    "plt.show()"
   ]
  },
  {
   "cell_type": "markdown",
   "id": "40c727ef",
   "metadata": {},
   "source": [
    "### Time computation"
   ]
  },
  {
   "cell_type": "code",
   "execution_count": 15,
   "id": "3b7d3894",
   "metadata": {},
   "outputs": [],
   "source": [
    "import time"
   ]
  },
  {
   "cell_type": "code",
   "execution_count": 74,
   "id": "c3f5eda2",
   "metadata": {},
   "outputs": [],
   "source": [
    "sampled_data = data.sample(n=300000, random_state=42)"
   ]
  },
  {
   "cell_type": "code",
   "execution_count": 76,
   "id": "afb3703a-3c56-465b-b198-aaa7b4cdaed3",
   "metadata": {},
   "outputs": [
    {
     "name": "stdout",
     "output_type": "stream",
     "text": [
      "Training data shape: (240000, 20)\n",
      "Test data shape: (60000, 20)\n"
     ]
    }
   ],
   "source": [
    "X = sampled_data.drop(columns=['anomaly'])\n",
    "y = sampled_data['anomaly']\n",
    "\n",
    "X_train, X_test, y_train, y_test = train_test_split(X, y, test_size=0.2, random_state=42)\n",
    "print(\"Training data shape:\", X_train.shape)\n",
    "print(\"Test data shape:\", X_test.shape)"
   ]
  },
  {
   "cell_type": "code",
   "execution_count": 78,
   "id": "17f665dc-f4aa-4b5f-9066-3ec8a990fbf5",
   "metadata": {},
   "outputs": [],
   "source": [
    "ocsvm_model = OneClassSVM(kernel='rbf', gamma='auto', nu=0.01)  # nu is roughly the proportion of outliers\n",
    "\n",
    "start_time = time.time()\n",
    "\n",
    "normal_data_train = X_train[y_train == 0]\n",
    "ocsvm_model.fit(normal_data_train)\n",
    "\n",
    "# End time\n",
    "end_time = time.time()\n",
    "# Calculate elapsed time\n",
    "elapsed_time = end_time - start_time"
   ]
  },
  {
   "cell_type": "code",
   "execution_count": 79,
   "id": "16aad3e4-364b-4d67-aba3-3140b9539cc2",
   "metadata": {},
   "outputs": [
    {
     "name": "stdout",
     "output_type": "stream",
     "text": [
      "Computational Time: 545.6752 seconds.\n",
      "Trained data shape: (240000, 20)\n"
     ]
    }
   ],
   "source": [
    "print(f\"Computational Time: {elapsed_time:.4f} seconds.\")\n",
    "print(\"Trained data shape:\", X_train.shape)"
   ]
  },
  {
   "cell_type": "markdown",
   "id": "f4fb4862-385e-406a-82ee-71d55c6e1468",
   "metadata": {},
   "source": [
    "#### paralelization"
   ]
  },
  {
   "cell_type": "code",
   "execution_count": 83,
   "id": "5521b00b-411c-4eb2-a7a4-2e5178575681",
   "metadata": {},
   "outputs": [],
   "source": [
    "# Function to train OCSVM on a data chunk\n",
    "def train_ocsvm_on_chunk(data_chunk, gamma, nu):\n",
    "    model = OneClassSVM(kernel=\"rbf\", gamma=gamma, nu=nu)\n",
    "    model.fit(data_chunk)\n",
    "    return model\n",
    "    \n",
    "# ocsvm_model = OneClassSVM(kernel='rbf', gamma='auto', nu=0.01)  # nu is roughly the proportion of outliers"
   ]
  },
  {
   "cell_type": "code",
   "execution_count": 85,
   "id": "5bc8f935-35cb-4a17-be08-fa62b4e0ab1a",
   "metadata": {},
   "outputs": [
    {
     "name": "stderr",
     "output_type": "stream",
     "text": [
      "C:\\Users\\azad.aliyev\\AppData\\Local\\anaconda3\\Lib\\site-packages\\numpy\\core\\fromnumeric.py:59: FutureWarning: 'DataFrame.swapaxes' is deprecated and will be removed in a future version. Please use 'DataFrame.transpose' instead.\n",
      "  return bound(*args, **kwds)\n"
     ]
    }
   ],
   "source": [
    "# Split the dataset into chunks (e.g., 4 chunks)\n",
    "chunks = np.array_split(X_train, 8)  # Replace 4 with the number of cores you want to use\n",
    "\n",
    "# Start time\n",
    "start_time = time.time()\n",
    "\n",
    "# Train models in parallel\n",
    "models = Parallel(n_jobs=-1)(\n",
    "    delayed(train_ocsvm_on_chunk)(chunk, gamma='auto', nu=0.01) for chunk in chunks)\n",
    "\n",
    "# End time\n",
    "end_time = time.time()\n",
    "# Calculate elapsed time\n",
    "elapsed_time = end_time - start_time\n"
   ]
  },
  {
   "cell_type": "code",
   "execution_count": 87,
   "id": "7e00b6ab-99b2-4b06-8cbf-383b16325bf8",
   "metadata": {},
   "outputs": [
    {
     "name": "stdout",
     "output_type": "stream",
     "text": [
      "Trained 8 OCSVM models in parallel.\n",
      "Computational Time: 14.4010 seconds.\n",
      "Trained data shape: (240000, 20)\n"
     ]
    }
   ],
   "source": [
    "print(f\"Trained {len(models)} OCSVM models in parallel.\")\n",
    "print(f\"Computational Time: {elapsed_time:.4f} seconds.\")\n",
    "print(\"Trained data shape:\", X_train.shape)"
   ]
  },
  {
   "cell_type": "markdown",
   "id": "716003d9-e9be-4a93-a2ab-5c2be808b8c6",
   "metadata": {},
   "source": [
    "#### Full data"
   ]
  },
  {
   "cell_type": "code",
   "execution_count": 17,
   "id": "d5481773",
   "metadata": {},
   "outputs": [],
   "source": [
    "X = data.drop(columns=['anomaly'])\n",
    "y = data['anomaly']"
   ]
  },
  {
   "cell_type": "code",
   "execution_count": 54,
   "id": "86388e00",
   "metadata": {},
   "outputs": [
    {
     "name": "stdout",
     "output_type": "stream",
     "text": [
      "Training data shape: (743118, 20)\n",
      "Test data shape: (185780, 20)\n"
     ]
    }
   ],
   "source": [
    "X_train, X_test, y_train, y_test = train_test_split(X, y, test_size=0.2, random_state=42)\n",
    "print(\"Training data shape:\", X_train.shape)\n",
    "print(\"Test data shape:\", X_test.shape)"
   ]
  },
  {
   "cell_type": "code",
   "execution_count": 56,
   "id": "190d5b23-f6ec-43aa-9dd1-fee76281c4f6",
   "metadata": {},
   "outputs": [],
   "source": [
    "ocsvm_model = OneClassSVM(kernel='rbf', gamma='auto', nu=0.01)  # nu is roughly the proportion of outliers\n",
    "\n",
    "start_time = time.time()\n",
    "\n",
    "normal_data_train = X_train[y_train == 0]\n",
    "ocsvm_model.fit(normal_data_train)\n",
    "\n",
    "# End time\n",
    "end_time = time.time()\n",
    "# Calculate elapsed time\n",
    "elapsed_time = end_time - start_time"
   ]
  },
  {
   "cell_type": "code",
   "execution_count": 58,
   "id": "767aaf2c-3170-49cc-9eb2-0594c560ad8b",
   "metadata": {},
   "outputs": [
    {
     "name": "stdout",
     "output_type": "stream",
     "text": [
      "Computational Time: 7042.7727 seconds.\n",
      "Trained data shape: (743118, 20)\n"
     ]
    }
   ],
   "source": [
    "print(f\"Computational Time: {elapsed_time:.4f} seconds.\")\n",
    "print(\"Trained data shape:\", X_train.shape)"
   ]
  },
  {
   "cell_type": "code",
   "execution_count": 60,
   "id": "abaea53f-0d8d-44af-a541-56ad7e2051ed",
   "metadata": {},
   "outputs": [],
   "source": [
    "start_predict_time=time.time()\n",
    "ocsvm_predictions=ocsvm_model.predict(X_test)\n",
    "end_predict_time=time.time()\n",
    "prediction_time=end_predict_time-start_predict_time"
   ]
  },
  {
   "cell_type": "code",
   "execution_count": 61,
   "id": "439fe65a-787d-442f-967e-a26774194ae9",
   "metadata": {},
   "outputs": [
    {
     "name": "stdout",
     "output_type": "stream",
     "text": [
      "Computational Time: 72.2293 seconds.\n"
     ]
    }
   ],
   "source": [
    "print(f\"Computational Time: {prediction_time:.4f} seconds.\")"
   ]
  },
  {
   "cell_type": "markdown",
   "id": "85de036b-a26d-45c2-8335-fb5c05391b9f",
   "metadata": {},
   "source": [
    "#### Paralelization implemented"
   ]
  },
  {
   "cell_type": "code",
   "execution_count": 21,
   "id": "4c8ebc8d-e518-4b7c-bc07-97749fc93ddd",
   "metadata": {},
   "outputs": [],
   "source": [
    "import numpy as np\n",
    "from sklearn.svm import OneClassSVM\n",
    "from joblib import Parallel, delayed"
   ]
  },
  {
   "cell_type": "code",
   "execution_count": 25,
   "id": "1f7c0ddf",
   "metadata": {},
   "outputs": [],
   "source": [
    "# Function to train OCSVM on a data chunk\n",
    "def train_ocsvm_on_chunk(data_chunk, gamma, nu):\n",
    "    model = OneClassSVM(kernel=\"rbf\", gamma=gamma, nu=nu)\n",
    "    model.fit(data_chunk)\n",
    "    return model\n",
    "    \n",
    "# ocsvm_model = OneClassSVM(kernel='rbf', gamma='auto', nu=0.01)  # nu is roughly the proportion of outliers"
   ]
  },
  {
   "cell_type": "code",
   "execution_count": 31,
   "id": "59880162-9792-4c26-90af-829cef09fd4d",
   "metadata": {},
   "outputs": [
    {
     "name": "stderr",
     "output_type": "stream",
     "text": [
      "C:\\Users\\azad.aliyev\\AppData\\Local\\anaconda3\\Lib\\site-packages\\numpy\\core\\fromnumeric.py:59: FutureWarning: 'DataFrame.swapaxes' is deprecated and will be removed in a future version. Please use 'DataFrame.transpose' instead.\n",
      "  return bound(*args, **kwds)\n"
     ]
    }
   ],
   "source": [
    "# Split the dataset into chunks (e.g., 4 chunks)\n",
    "chunks = np.array_split(X_train, 8)  # Replace 4 with the number of cores you want to use"
   ]
  },
  {
   "cell_type": "code",
   "execution_count": 33,
   "id": "d0f5abb5-2925-4eb8-99e9-537d8ffff5b0",
   "metadata": {},
   "outputs": [],
   "source": [
    "# Start time\n",
    "start_time = time.time()\n",
    "\n",
    "# Train models in parallel\n",
    "models = Parallel(n_jobs=-1)(\n",
    "    delayed(train_ocsvm_on_chunk)(chunk, gamma='auto', nu=0.01) for chunk in chunks\n",
    ")\n",
    "\n",
    "# End time\n",
    "end_time = time.time()\n",
    "\n",
    "# Calculate elapsed time\n",
    "elapsed_time = end_time - start_time"
   ]
  },
  {
   "cell_type": "code",
   "execution_count": 35,
   "id": "38825bf8",
   "metadata": {},
   "outputs": [
    {
     "name": "stdout",
     "output_type": "stream",
     "text": [
      "Trained 8 OCSVM models in parallel.\n",
      "Computational Time: 159.2417 seconds.\n",
      "Trained data shape: (743118, 20)\n"
     ]
    }
   ],
   "source": [
    "print(f\"Trained {len(models)} OCSVM models in parallel.\")\n",
    "print(f\"Computational Time: {elapsed_time:.4f} seconds.\")\n",
    "print(\"Trained data shape:\", X_train.shape)"
   ]
  },
  {
   "cell_type": "code",
   "execution_count": 45,
   "id": "2c705cfc",
   "metadata": {},
   "outputs": [
    {
     "name": "stdout",
     "output_type": "stream",
     "text": [
      "Prediction time: 97.4588 seconds\n"
     ]
    }
   ],
   "source": [
    "print(f\"Prediction time: {prediction_time:.4f} seconds\")"
   ]
  },
  {
   "cell_type": "code",
   "execution_count": 49,
   "id": "3567d08d-23cf-4212-90bc-6642dd52fd06",
   "metadata": {},
   "outputs": [
    {
     "name": "stdout",
     "output_type": "stream",
     "text": [
      "Prediction time: 14.5414 seconds\n"
     ]
    }
   ],
   "source": [
    "print(f\"Prediction time: {prediction_time:.4f} seconds\")"
   ]
  }
 ],
 "metadata": {
  "accelerator": "GPU",
  "colab": {
   "gpuType": "T4",
   "provenance": []
  },
  "kernelspec": {
   "display_name": "Python 3 (ipykernel)",
   "language": "python",
   "name": "python3"
  },
  "language_info": {
   "codemirror_mode": {
    "name": "ipython",
    "version": 3
   },
   "file_extension": ".py",
   "mimetype": "text/x-python",
   "name": "python",
   "nbconvert_exporter": "python",
   "pygments_lexer": "ipython3",
   "version": "3.11.5"
  }
 },
 "nbformat": 4,
 "nbformat_minor": 5
}
