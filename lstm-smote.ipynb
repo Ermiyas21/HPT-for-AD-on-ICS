{
 "cells": [
  {
   "cell_type": "code",
   "execution_count": 1,
   "id": "40ce1832",
   "metadata": {
    "executionInfo": {
     "elapsed": 17169,
     "status": "ok",
     "timestamp": 1732826834807,
     "user": {
      "displayName": "Narmin Aliyeva",
      "userId": "05305446266640033678"
     },
     "user_tz": -240
    },
    "id": "40ce1832"
   },
   "outputs": [],
   "source": [
    "import pandas as pd\n",
    "import numpy as np\n",
    "\n",
    "from sklearn.model_selection import train_test_split\n",
    "\n",
    "import tensorflow as tf\n",
    "from sklearn.metrics import confusion_matrix, precision_recall_fscore_support\n",
    "from sklearn.metrics import confusion_matrix, precision_score, recall_score, f1_score, roc_curve, roc_auc_score,accuracy_score,classification_report\n",
    "\n",
    "from tensorflow import keras\n",
    "from sklearn.metrics import roc_curve, auc\n",
    "import matplotlib.pyplot as plt\n",
    "\n",
    "from tensorflow.keras.models import Sequential\n",
    "from tensorflow.keras.layers import LSTM, Dense, Dropout\n",
    "from tensorflow import keras\n",
    "import tensorflow as tf\n",
    "from tensorflow.keras.models import load_model\n",
    "\n",
    "\n",
    "import random"
   ]
  },
  {
   "cell_type": "code",
   "execution_count": 2,
   "id": "DqHDJojk0j4n",
   "metadata": {
    "colab": {
     "base_uri": "https://localhost:8080/"
    },
    "executionInfo": {
     "elapsed": 24360,
     "status": "ok",
     "timestamp": 1732826861845,
     "user": {
      "displayName": "Narmin Aliyeva",
      "userId": "05305446266640033678"
     },
     "user_tz": -240
    },
    "id": "DqHDJojk0j4n",
    "outputId": "adf0e113-7e68-47c3-8c4a-1d182f12a852"
   },
   "outputs": [
    {
     "name": "stdout",
     "output_type": "stream",
     "text": [
      "Mounted at /content/drive/\n"
     ]
    }
   ],
   "source": [
    "from google.colab import drive\n",
    "drive.mount('/content/drive/')"
   ]
  },
  {
   "cell_type": "code",
   "execution_count": 3,
   "id": "8a793c02",
   "metadata": {
    "executionInfo": {
     "elapsed": 8352,
     "status": "ok",
     "timestamp": 1732826871659,
     "user": {
      "displayName": "Narmin Aliyeva",
      "userId": "05305446266640033678"
     },
     "user_tz": -240
    },
    "id": "8a793c02"
   },
   "outputs": [],
   "source": [
    "data = pd.read_csv('/content/drive/My Drive/thesis/data.csv')"
   ]
  },
  {
   "cell_type": "code",
   "execution_count": 2,
   "id": "509b8082",
   "metadata": {
    "id": "509b8082"
   },
   "outputs": [],
   "source": [
    "# for anaconda\n",
    "data=pd.read_csv(r'C:\\Users\\Asus\\Downloads\\Thesis\\dataset\\data.csv')"
   ]
  },
  {
   "cell_type": "code",
   "execution_count": 12,
   "id": "249ec335",
   "metadata": {
    "executionInfo": {
     "elapsed": 4,
     "status": "ok",
     "timestamp": 1732826875391,
     "user": {
      "displayName": "Narmin Aliyeva",
      "userId": "05305446266640033678"
     },
     "user_tz": -240
    },
    "id": "249ec335"
   },
   "outputs": [],
   "source": [
    "sampled_data = data.sample(n=5000, random_state=42)"
   ]
  },
  {
   "cell_type": "code",
   "execution_count": 4,
   "id": "f0a0a22a",
   "metadata": {
    "colab": {
     "base_uri": "https://localhost:8080/",
     "height": 255
    },
    "executionInfo": {
     "elapsed": 399,
     "status": "ok",
     "timestamp": 1732826877321,
     "user": {
      "displayName": "Narmin Aliyeva",
      "userId": "05305446266640033678"
     },
     "user_tz": -240
    },
    "id": "f0a0a22a",
    "outputId": "c511338a-e525-4b24-dda0-daad3bfd147d"
   },
   "outputs": [
    {
     "data": {
      "text/html": [
       "<div>\n",
       "<style scoped>\n",
       "    .dataframe tbody tr th:only-of-type {\n",
       "        vertical-align: middle;\n",
       "    }\n",
       "\n",
       "    .dataframe tbody tr th {\n",
       "        vertical-align: top;\n",
       "    }\n",
       "\n",
       "    .dataframe thead th {\n",
       "        text-align: right;\n",
       "    }\n",
       "</style>\n",
       "<table border=\"1\" class=\"dataframe\">\n",
       "  <thead>\n",
       "    <tr style=\"text-align: right;\">\n",
       "      <th></th>\n",
       "      <th>FIT504</th>\n",
       "      <th>FIT401</th>\n",
       "      <th>FIT503</th>\n",
       "      <th>UV401_2</th>\n",
       "      <th>P501_2</th>\n",
       "      <th>PIT501</th>\n",
       "      <th>PIT503</th>\n",
       "      <th>FIT501</th>\n",
       "      <th>FIT502</th>\n",
       "      <th>P402_2</th>\n",
       "      <th>...</th>\n",
       "      <th>LIT401</th>\n",
       "      <th>MV304_2</th>\n",
       "      <th>AIT501</th>\n",
       "      <th>MV304_1</th>\n",
       "      <th>PIT502</th>\n",
       "      <th>AIT502</th>\n",
       "      <th>FIT301</th>\n",
       "      <th>P302_2</th>\n",
       "      <th>MV302_1</th>\n",
       "      <th>anomaly</th>\n",
       "    </tr>\n",
       "  </thead>\n",
       "  <tbody>\n",
       "    <tr>\n",
       "      <th>693046</th>\n",
       "      <td>0.968680</td>\n",
       "      <td>0.989222</td>\n",
       "      <td>0.956915</td>\n",
       "      <td>1.0</td>\n",
       "      <td>1.0</td>\n",
       "      <td>0.928773</td>\n",
       "      <td>0.923433</td>\n",
       "      <td>0.989281</td>\n",
       "      <td>0.966895</td>\n",
       "      <td>1.0</td>\n",
       "      <td>...</td>\n",
       "      <td>0.877454</td>\n",
       "      <td>0.0</td>\n",
       "      <td>0.460236</td>\n",
       "      <td>1.0</td>\n",
       "      <td>0.323144</td>\n",
       "      <td>0.098584</td>\n",
       "      <td>0.927162</td>\n",
       "      <td>1.0</td>\n",
       "      <td>0.0</td>\n",
       "      <td>0.0</td>\n",
       "    </tr>\n",
       "    <tr>\n",
       "      <th>916789</th>\n",
       "      <td>0.972722</td>\n",
       "      <td>0.976684</td>\n",
       "      <td>0.959598</td>\n",
       "      <td>1.0</td>\n",
       "      <td>1.0</td>\n",
       "      <td>0.934097</td>\n",
       "      <td>0.925866</td>\n",
       "      <td>0.975208</td>\n",
       "      <td>0.953165</td>\n",
       "      <td>1.0</td>\n",
       "      <td>...</td>\n",
       "      <td>0.775993</td>\n",
       "      <td>0.0</td>\n",
       "      <td>0.450335</td>\n",
       "      <td>1.0</td>\n",
       "      <td>0.240175</td>\n",
       "      <td>0.910127</td>\n",
       "      <td>0.000000</td>\n",
       "      <td>0.0</td>\n",
       "      <td>1.0</td>\n",
       "      <td>1.0</td>\n",
       "    </tr>\n",
       "    <tr>\n",
       "      <th>292515</th>\n",
       "      <td>0.971509</td>\n",
       "      <td>0.978224</td>\n",
       "      <td>0.965633</td>\n",
       "      <td>1.0</td>\n",
       "      <td>1.0</td>\n",
       "      <td>0.953016</td>\n",
       "      <td>0.953930</td>\n",
       "      <td>0.978708</td>\n",
       "      <td>0.921565</td>\n",
       "      <td>1.0</td>\n",
       "      <td>...</td>\n",
       "      <td>0.767145</td>\n",
       "      <td>0.0</td>\n",
       "      <td>0.604918</td>\n",
       "      <td>1.0</td>\n",
       "      <td>0.283843</td>\n",
       "      <td>0.130668</td>\n",
       "      <td>0.000000</td>\n",
       "      <td>0.0</td>\n",
       "      <td>1.0</td>\n",
       "      <td>0.0</td>\n",
       "    </tr>\n",
       "    <tr>\n",
       "      <th>738953</th>\n",
       "      <td>0.000000</td>\n",
       "      <td>0.000000</td>\n",
       "      <td>0.001341</td>\n",
       "      <td>0.0</td>\n",
       "      <td>0.0</td>\n",
       "      <td>0.003445</td>\n",
       "      <td>0.001866</td>\n",
       "      <td>0.000510</td>\n",
       "      <td>0.000846</td>\n",
       "      <td>0.0</td>\n",
       "      <td>...</td>\n",
       "      <td>0.134079</td>\n",
       "      <td>1.0</td>\n",
       "      <td>0.162248</td>\n",
       "      <td>0.0</td>\n",
       "      <td>0.000000</td>\n",
       "      <td>0.490590</td>\n",
       "      <td>0.000000</td>\n",
       "      <td>0.0</td>\n",
       "      <td>1.0</td>\n",
       "      <td>1.0</td>\n",
       "    </tr>\n",
       "    <tr>\n",
       "      <th>748096</th>\n",
       "      <td>0.978986</td>\n",
       "      <td>0.973678</td>\n",
       "      <td>0.965968</td>\n",
       "      <td>1.0</td>\n",
       "      <td>1.0</td>\n",
       "      <td>0.947065</td>\n",
       "      <td>0.942494</td>\n",
       "      <td>0.971708</td>\n",
       "      <td>0.926644</td>\n",
       "      <td>1.0</td>\n",
       "      <td>...</td>\n",
       "      <td>0.258561</td>\n",
       "      <td>0.0</td>\n",
       "      <td>0.313638</td>\n",
       "      <td>1.0</td>\n",
       "      <td>0.262009</td>\n",
       "      <td>0.131924</td>\n",
       "      <td>0.927647</td>\n",
       "      <td>1.0</td>\n",
       "      <td>0.0</td>\n",
       "      <td>0.0</td>\n",
       "    </tr>\n",
       "  </tbody>\n",
       "</table>\n",
       "<p>5 rows × 21 columns</p>\n",
       "</div>"
      ],
      "text/plain": [
       "          FIT504    FIT401    FIT503  UV401_2  P501_2    PIT501    PIT503  \\\n",
       "693046  0.968680  0.989222  0.956915      1.0     1.0  0.928773  0.923433   \n",
       "916789  0.972722  0.976684  0.959598      1.0     1.0  0.934097  0.925866   \n",
       "292515  0.971509  0.978224  0.965633      1.0     1.0  0.953016  0.953930   \n",
       "738953  0.000000  0.000000  0.001341      0.0     0.0  0.003445  0.001866   \n",
       "748096  0.978986  0.973678  0.965968      1.0     1.0  0.947065  0.942494   \n",
       "\n",
       "          FIT501    FIT502  P402_2  ...    LIT401  MV304_2    AIT501  MV304_1  \\\n",
       "693046  0.989281  0.966895     1.0  ...  0.877454      0.0  0.460236      1.0   \n",
       "916789  0.975208  0.953165     1.0  ...  0.775993      0.0  0.450335      1.0   \n",
       "292515  0.978708  0.921565     1.0  ...  0.767145      0.0  0.604918      1.0   \n",
       "738953  0.000510  0.000846     0.0  ...  0.134079      1.0  0.162248      0.0   \n",
       "748096  0.971708  0.926644     1.0  ...  0.258561      0.0  0.313638      1.0   \n",
       "\n",
       "          PIT502    AIT502    FIT301  P302_2  MV302_1  anomaly  \n",
       "693046  0.323144  0.098584  0.927162     1.0      0.0      0.0  \n",
       "916789  0.240175  0.910127  0.000000     0.0      1.0      1.0  \n",
       "292515  0.283843  0.130668  0.000000     0.0      1.0      0.0  \n",
       "738953  0.000000  0.490590  0.000000     0.0      1.0      1.0  \n",
       "748096  0.262009  0.131924  0.927647     1.0      0.0      0.0  \n",
       "\n",
       "[5 rows x 21 columns]"
      ]
     },
     "execution_count": 4,
     "metadata": {},
     "output_type": "execute_result"
    }
   ],
   "source": [
    "sampled_data.head()"
   ]
  },
  {
   "cell_type": "code",
   "execution_count": 6,
   "id": "861e3935",
   "metadata": {
    "executionInfo": {
     "elapsed": 394,
     "status": "ok",
     "timestamp": 1732826882640,
     "user": {
      "displayName": "Narmin Aliyeva",
      "userId": "05305446266640033678"
     },
     "user_tz": -240
    },
    "id": "861e3935"
   },
   "outputs": [],
   "source": [
    "def create_3d_array(data, window_size):\n",
    "    samples, features = data.shape\n",
    "    new_samples = samples - window_size + 1\n",
    "\n",
    "    # Initialize an empty array for the 3D data\n",
    "    result = np.zeros((new_samples, window_size, features))\n",
    "\n",
    "    # Populate the 3D array using a rolling window\n",
    "    for i in range(new_samples):\n",
    "        result[i, :, :] = data.iloc[i:i+window_size, :].values\n",
    "\n",
    "    return result"
   ]
  },
  {
   "cell_type": "code",
   "execution_count": null,
   "id": "FD5Xu9XmsM1K",
   "metadata": {
    "colab": {
     "base_uri": "https://localhost:8080/",
     "height": 249
    },
    "executionInfo": {
     "elapsed": 284,
     "status": "ok",
     "timestamp": 1732745694742,
     "user": {
      "displayName": "Narmin Aliyeva",
      "userId": "05305446266640033678"
     },
     "user_tz": -240
    },
    "id": "FD5Xu9XmsM1K",
    "outputId": "dbc176ad-9a01-4014-e4b1-c8a7b6338df7"
   },
   "outputs": [
    {
     "data": {
      "text/html": [
       "<div>\n",
       "<style scoped>\n",
       "    .dataframe tbody tr th:only-of-type {\n",
       "        vertical-align: middle;\n",
       "    }\n",
       "\n",
       "    .dataframe tbody tr th {\n",
       "        vertical-align: top;\n",
       "    }\n",
       "\n",
       "    .dataframe thead th {\n",
       "        text-align: right;\n",
       "    }\n",
       "</style>\n",
       "<table border=\"1\" class=\"dataframe\">\n",
       "  <thead>\n",
       "    <tr style=\"text-align: right;\">\n",
       "      <th></th>\n",
       "      <th>FIT504</th>\n",
       "      <th>FIT401</th>\n",
       "      <th>FIT503</th>\n",
       "      <th>UV401_2</th>\n",
       "      <th>P501_2</th>\n",
       "      <th>PIT501</th>\n",
       "      <th>PIT503</th>\n",
       "      <th>FIT501</th>\n",
       "      <th>FIT502</th>\n",
       "      <th>P402_2</th>\n",
       "      <th>...</th>\n",
       "      <th>LIT401</th>\n",
       "      <th>MV304_2</th>\n",
       "      <th>AIT501</th>\n",
       "      <th>MV304_1</th>\n",
       "      <th>PIT502</th>\n",
       "      <th>AIT502</th>\n",
       "      <th>FIT301</th>\n",
       "      <th>P302_2</th>\n",
       "      <th>MV302_1</th>\n",
       "      <th>anomaly</th>\n",
       "    </tr>\n",
       "  </thead>\n",
       "  <tbody>\n",
       "    <tr>\n",
       "      <th>693046</th>\n",
       "      <td>0.968680</td>\n",
       "      <td>0.989222</td>\n",
       "      <td>0.956915</td>\n",
       "      <td>1.0</td>\n",
       "      <td>1.0</td>\n",
       "      <td>0.928773</td>\n",
       "      <td>0.923433</td>\n",
       "      <td>0.989281</td>\n",
       "      <td>0.966895</td>\n",
       "      <td>1.0</td>\n",
       "      <td>...</td>\n",
       "      <td>0.877454</td>\n",
       "      <td>0.0</td>\n",
       "      <td>0.460236</td>\n",
       "      <td>1.0</td>\n",
       "      <td>0.323144</td>\n",
       "      <td>0.098584</td>\n",
       "      <td>0.927162</td>\n",
       "      <td>1.0</td>\n",
       "      <td>0.0</td>\n",
       "      <td>0.0</td>\n",
       "    </tr>\n",
       "    <tr>\n",
       "      <th>916789</th>\n",
       "      <td>0.972722</td>\n",
       "      <td>0.976684</td>\n",
       "      <td>0.959598</td>\n",
       "      <td>1.0</td>\n",
       "      <td>1.0</td>\n",
       "      <td>0.934097</td>\n",
       "      <td>0.925866</td>\n",
       "      <td>0.975208</td>\n",
       "      <td>0.953165</td>\n",
       "      <td>1.0</td>\n",
       "      <td>...</td>\n",
       "      <td>0.775993</td>\n",
       "      <td>0.0</td>\n",
       "      <td>0.450335</td>\n",
       "      <td>1.0</td>\n",
       "      <td>0.240175</td>\n",
       "      <td>0.910127</td>\n",
       "      <td>0.000000</td>\n",
       "      <td>0.0</td>\n",
       "      <td>1.0</td>\n",
       "      <td>1.0</td>\n",
       "    </tr>\n",
       "    <tr>\n",
       "      <th>292515</th>\n",
       "      <td>0.971509</td>\n",
       "      <td>0.978224</td>\n",
       "      <td>0.965633</td>\n",
       "      <td>1.0</td>\n",
       "      <td>1.0</td>\n",
       "      <td>0.953016</td>\n",
       "      <td>0.953930</td>\n",
       "      <td>0.978708</td>\n",
       "      <td>0.921565</td>\n",
       "      <td>1.0</td>\n",
       "      <td>...</td>\n",
       "      <td>0.767145</td>\n",
       "      <td>0.0</td>\n",
       "      <td>0.604918</td>\n",
       "      <td>1.0</td>\n",
       "      <td>0.283843</td>\n",
       "      <td>0.130668</td>\n",
       "      <td>0.000000</td>\n",
       "      <td>0.0</td>\n",
       "      <td>1.0</td>\n",
       "      <td>0.0</td>\n",
       "    </tr>\n",
       "    <tr>\n",
       "      <th>738953</th>\n",
       "      <td>0.000000</td>\n",
       "      <td>0.000000</td>\n",
       "      <td>0.001341</td>\n",
       "      <td>0.0</td>\n",
       "      <td>0.0</td>\n",
       "      <td>0.003445</td>\n",
       "      <td>0.001866</td>\n",
       "      <td>0.000510</td>\n",
       "      <td>0.000846</td>\n",
       "      <td>0.0</td>\n",
       "      <td>...</td>\n",
       "      <td>0.134079</td>\n",
       "      <td>1.0</td>\n",
       "      <td>0.162248</td>\n",
       "      <td>0.0</td>\n",
       "      <td>0.000000</td>\n",
       "      <td>0.490590</td>\n",
       "      <td>0.000000</td>\n",
       "      <td>0.0</td>\n",
       "      <td>1.0</td>\n",
       "      <td>1.0</td>\n",
       "    </tr>\n",
       "    <tr>\n",
       "      <th>748096</th>\n",
       "      <td>0.978986</td>\n",
       "      <td>0.973678</td>\n",
       "      <td>0.965968</td>\n",
       "      <td>1.0</td>\n",
       "      <td>1.0</td>\n",
       "      <td>0.947065</td>\n",
       "      <td>0.942494</td>\n",
       "      <td>0.971708</td>\n",
       "      <td>0.926644</td>\n",
       "      <td>1.0</td>\n",
       "      <td>...</td>\n",
       "      <td>0.258561</td>\n",
       "      <td>0.0</td>\n",
       "      <td>0.313638</td>\n",
       "      <td>1.0</td>\n",
       "      <td>0.262009</td>\n",
       "      <td>0.131924</td>\n",
       "      <td>0.927647</td>\n",
       "      <td>1.0</td>\n",
       "      <td>0.0</td>\n",
       "      <td>0.0</td>\n",
       "    </tr>\n",
       "  </tbody>\n",
       "</table>\n",
       "<p>5 rows × 21 columns</p>\n",
       "</div>"
      ],
      "text/plain": [
       "          FIT504    FIT401    FIT503  UV401_2  P501_2    PIT501    PIT503  \\\n",
       "693046  0.968680  0.989222  0.956915      1.0     1.0  0.928773  0.923433   \n",
       "916789  0.972722  0.976684  0.959598      1.0     1.0  0.934097  0.925866   \n",
       "292515  0.971509  0.978224  0.965633      1.0     1.0  0.953016  0.953930   \n",
       "738953  0.000000  0.000000  0.001341      0.0     0.0  0.003445  0.001866   \n",
       "748096  0.978986  0.973678  0.965968      1.0     1.0  0.947065  0.942494   \n",
       "\n",
       "          FIT501    FIT502  P402_2  ...    LIT401  MV304_2    AIT501  MV304_1  \\\n",
       "693046  0.989281  0.966895     1.0  ...  0.877454      0.0  0.460236      1.0   \n",
       "916789  0.975208  0.953165     1.0  ...  0.775993      0.0  0.450335      1.0   \n",
       "292515  0.978708  0.921565     1.0  ...  0.767145      0.0  0.604918      1.0   \n",
       "738953  0.000510  0.000846     0.0  ...  0.134079      1.0  0.162248      0.0   \n",
       "748096  0.971708  0.926644     1.0  ...  0.258561      0.0  0.313638      1.0   \n",
       "\n",
       "          PIT502    AIT502    FIT301  P302_2  MV302_1  anomaly  \n",
       "693046  0.323144  0.098584  0.927162     1.0      0.0      0.0  \n",
       "916789  0.240175  0.910127  0.000000     0.0      1.0      1.0  \n",
       "292515  0.283843  0.130668  0.000000     0.0      1.0      0.0  \n",
       "738953  0.000000  0.490590  0.000000     0.0      1.0      1.0  \n",
       "748096  0.262009  0.131924  0.927647     1.0      0.0      0.0  \n",
       "\n",
       "[5 rows x 21 columns]"
      ]
     },
     "execution_count": 8,
     "metadata": {},
     "output_type": "execute_result"
    }
   ],
   "source": [
    "X.head()"
   ]
  },
  {
   "cell_type": "code",
   "execution_count": 4,
   "id": "LHHG3kDRBMsK",
   "metadata": {
    "executionInfo": {
     "elapsed": 390,
     "status": "ok",
     "timestamp": 1732826887595,
     "user": {
      "displayName": "Narmin Aliyeva",
      "userId": "05305446266640033678"
     },
     "user_tz": -240
    },
    "id": "LHHG3kDRBMsK"
   },
   "outputs": [],
   "source": [
    "X=sampled_data"
   ]
  },
  {
   "cell_type": "code",
   "execution_count": 7,
   "id": "b5182908",
   "metadata": {
    "executionInfo": {
     "elapsed": 399,
     "status": "ok",
     "timestamp": 1732826889609,
     "user": {
      "displayName": "Narmin Aliyeva",
      "userId": "05305446266640033678"
     },
     "user_tz": -240
    },
    "id": "b5182908"
   },
   "outputs": [],
   "source": [
    "window_size = 120\n",
    "X_final_reshaped = create_3d_array(X, window_size)"
   ]
  },
  {
   "cell_type": "code",
   "execution_count": 8,
   "id": "8d4d3097",
   "metadata": {
    "executionInfo": {
     "elapsed": 3,
     "status": "ok",
     "timestamp": 1732826891825,
     "user": {
      "displayName": "Narmin Aliyeva",
      "userId": "05305446266640033678"
     },
     "user_tz": -240
    },
    "id": "8d4d3097"
   },
   "outputs": [],
   "source": [
    "y_final_reshaped = X_final_reshaped[:, :, -1:]\n",
    "X_final_reshaped = X_final_reshaped[:, :, :-1]"
   ]
  },
  {
   "cell_type": "code",
   "execution_count": 17,
   "id": "123dd382",
   "metadata": {
    "executionInfo": {
     "elapsed": 390,
     "status": "ok",
     "timestamp": 1732826894109,
     "user": {
      "displayName": "Narmin Aliyeva",
      "userId": "05305446266640033678"
     },
     "user_tz": -240
    },
    "id": "123dd382"
   },
   "outputs": [],
   "source": [
    "X_train, X_test, y_train, y_test = train_test_split(X_final_reshaped, y_final_reshaped, test_size=0.2, random_state=42)"
   ]
  },
  {
   "cell_type": "code",
   "execution_count": null,
   "id": "wXFpaBtlr-FS",
   "metadata": {
    "colab": {
     "base_uri": "https://localhost:8080/"
    },
    "executionInfo": {
     "elapsed": 311,
     "status": "ok",
     "timestamp": 1732790840491,
     "user": {
      "displayName": "Narmin Aliyeva",
      "userId": "05305446266640033678"
     },
     "user_tz": -240
    },
    "id": "wXFpaBtlr-FS",
    "outputId": "0713f8a9-11ea-4aa1-cc52-a98dd15b0290"
   },
   "outputs": [
    {
     "name": "stdout",
     "output_type": "stream",
     "text": [
      "(79904, 120, 20)\n",
      "(79904, 120, 1)\n",
      "(19977, 120, 20)\n",
      "(19977, 120, 1)\n"
     ]
    }
   ],
   "source": [
    "print(X_train.shape)\n",
    "print(y_train.shape)\n",
    "print(X_test.shape)\n",
    "print(y_test.shape)"
   ]
  },
  {
   "cell_type": "code",
   "execution_count": null,
   "id": "28295134",
   "metadata": {
    "colab": {
     "base_uri": "https://localhost:8080/",
     "height": 448
    },
    "executionInfo": {
     "elapsed": 3656,
     "status": "ok",
     "timestamp": 1732792016435,
     "user": {
      "displayName": "Narmin Aliyeva",
      "userId": "05305446266640033678"
     },
     "user_tz": -240
    },
    "id": "28295134",
    "outputId": "00e5d36d-86b8-4035-8ded-6790312448aa"
   },
   "outputs": [
    {
     "name": "stderr",
     "output_type": "stream",
     "text": [
      "/usr/local/lib/python3.10/dist-packages/keras/src/layers/rnn/rnn.py:204: UserWarning: Do not pass an `input_shape`/`input_dim` argument to a layer. When using Sequential models, prefer using an `Input(shape)` object as the first layer in the model instead.\n",
      "  super().__init__(**kwargs)\n"
     ]
    },
    {
     "data": {
      "text/html": [
       "<pre style=\"white-space:pre;overflow-x:auto;line-height:normal;font-family:Menlo,'DejaVu Sans Mono',consolas,'Courier New',monospace\"><span style=\"font-weight: bold\">Model: \"sequential\"</span>\n",
       "</pre>\n"
      ],
      "text/plain": [
       "\u001b[1mModel: \"sequential\"\u001b[0m\n"
      ]
     },
     "metadata": {},
     "output_type": "display_data"
    },
    {
     "data": {
      "text/html": [
       "<pre style=\"white-space:pre;overflow-x:auto;line-height:normal;font-family:Menlo,'DejaVu Sans Mono',consolas,'Courier New',monospace\">┏━━━━━━━━━━━━━━━━━━━━━━━━━━━━━━━━━━━━━━┳━━━━━━━━━━━━━━━━━━━━━━━━━━━━━┳━━━━━━━━━━━━━━━━━┓\n",
       "┃<span style=\"font-weight: bold\"> Layer (type)                         </span>┃<span style=\"font-weight: bold\"> Output Shape                </span>┃<span style=\"font-weight: bold\">         Param # </span>┃\n",
       "┡━━━━━━━━━━━━━━━━━━━━━━━━━━━━━━━━━━━━━━╇━━━━━━━━━━━━━━━━━━━━━━━━━━━━━╇━━━━━━━━━━━━━━━━━┩\n",
       "│ lstm (<span style=\"color: #0087ff; text-decoration-color: #0087ff\">LSTM</span>)                          │ (<span style=\"color: #00d7ff; text-decoration-color: #00d7ff\">None</span>, <span style=\"color: #00af00; text-decoration-color: #00af00\">120</span>, <span style=\"color: #00af00; text-decoration-color: #00af00\">64</span>)             │          <span style=\"color: #00af00; text-decoration-color: #00af00\">21,760</span> │\n",
       "├──────────────────────────────────────┼─────────────────────────────┼─────────────────┤\n",
       "│ lstm_1 (<span style=\"color: #0087ff; text-decoration-color: #0087ff\">LSTM</span>)                        │ (<span style=\"color: #00d7ff; text-decoration-color: #00d7ff\">None</span>, <span style=\"color: #00af00; text-decoration-color: #00af00\">32</span>)                  │          <span style=\"color: #00af00; text-decoration-color: #00af00\">12,416</span> │\n",
       "├──────────────────────────────────────┼─────────────────────────────┼─────────────────┤\n",
       "│ dropout (<span style=\"color: #0087ff; text-decoration-color: #0087ff\">Dropout</span>)                    │ (<span style=\"color: #00d7ff; text-decoration-color: #00d7ff\">None</span>, <span style=\"color: #00af00; text-decoration-color: #00af00\">32</span>)                  │               <span style=\"color: #00af00; text-decoration-color: #00af00\">0</span> │\n",
       "├──────────────────────────────────────┼─────────────────────────────┼─────────────────┤\n",
       "│ repeat_vector (<span style=\"color: #0087ff; text-decoration-color: #0087ff\">RepeatVector</span>)         │ (<span style=\"color: #00d7ff; text-decoration-color: #00d7ff\">None</span>, <span style=\"color: #00af00; text-decoration-color: #00af00\">120</span>, <span style=\"color: #00af00; text-decoration-color: #00af00\">32</span>)             │               <span style=\"color: #00af00; text-decoration-color: #00af00\">0</span> │\n",
       "├──────────────────────────────────────┼─────────────────────────────┼─────────────────┤\n",
       "│ lstm_2 (<span style=\"color: #0087ff; text-decoration-color: #0087ff\">LSTM</span>)                        │ (<span style=\"color: #00d7ff; text-decoration-color: #00d7ff\">None</span>, <span style=\"color: #00af00; text-decoration-color: #00af00\">120</span>, <span style=\"color: #00af00; text-decoration-color: #00af00\">32</span>)             │           <span style=\"color: #00af00; text-decoration-color: #00af00\">8,320</span> │\n",
       "├──────────────────────────────────────┼─────────────────────────────┼─────────────────┤\n",
       "│ lstm_3 (<span style=\"color: #0087ff; text-decoration-color: #0087ff\">LSTM</span>)                        │ (<span style=\"color: #00d7ff; text-decoration-color: #00d7ff\">None</span>, <span style=\"color: #00af00; text-decoration-color: #00af00\">120</span>, <span style=\"color: #00af00; text-decoration-color: #00af00\">64</span>)             │          <span style=\"color: #00af00; text-decoration-color: #00af00\">24,832</span> │\n",
       "├──────────────────────────────────────┼─────────────────────────────┼─────────────────┤\n",
       "│ dropout_1 (<span style=\"color: #0087ff; text-decoration-color: #0087ff\">Dropout</span>)                  │ (<span style=\"color: #00d7ff; text-decoration-color: #00d7ff\">None</span>, <span style=\"color: #00af00; text-decoration-color: #00af00\">120</span>, <span style=\"color: #00af00; text-decoration-color: #00af00\">64</span>)             │               <span style=\"color: #00af00; text-decoration-color: #00af00\">0</span> │\n",
       "├──────────────────────────────────────┼─────────────────────────────┼─────────────────┤\n",
       "│ dense (<span style=\"color: #0087ff; text-decoration-color: #0087ff\">Dense</span>)                        │ (<span style=\"color: #00d7ff; text-decoration-color: #00d7ff\">None</span>, <span style=\"color: #00af00; text-decoration-color: #00af00\">120</span>, <span style=\"color: #00af00; text-decoration-color: #00af00\">1</span>)              │              <span style=\"color: #00af00; text-decoration-color: #00af00\">65</span> │\n",
       "└──────────────────────────────────────┴─────────────────────────────┴─────────────────┘\n",
       "</pre>\n"
      ],
      "text/plain": [
       "┏━━━━━━━━━━━━━━━━━━━━━━━━━━━━━━━━━━━━━━┳━━━━━━━━━━━━━━━━━━━━━━━━━━━━━┳━━━━━━━━━━━━━━━━━┓\n",
       "┃\u001b[1m \u001b[0m\u001b[1mLayer (type)                        \u001b[0m\u001b[1m \u001b[0m┃\u001b[1m \u001b[0m\u001b[1mOutput Shape               \u001b[0m\u001b[1m \u001b[0m┃\u001b[1m \u001b[0m\u001b[1m        Param #\u001b[0m\u001b[1m \u001b[0m┃\n",
       "┡━━━━━━━━━━━━━━━━━━━━━━━━━━━━━━━━━━━━━━╇━━━━━━━━━━━━━━━━━━━━━━━━━━━━━╇━━━━━━━━━━━━━━━━━┩\n",
       "│ lstm (\u001b[38;5;33mLSTM\u001b[0m)                          │ (\u001b[38;5;45mNone\u001b[0m, \u001b[38;5;34m120\u001b[0m, \u001b[38;5;34m64\u001b[0m)             │          \u001b[38;5;34m21,760\u001b[0m │\n",
       "├──────────────────────────────────────┼─────────────────────────────┼─────────────────┤\n",
       "│ lstm_1 (\u001b[38;5;33mLSTM\u001b[0m)                        │ (\u001b[38;5;45mNone\u001b[0m, \u001b[38;5;34m32\u001b[0m)                  │          \u001b[38;5;34m12,416\u001b[0m │\n",
       "├──────────────────────────────────────┼─────────────────────────────┼─────────────────┤\n",
       "│ dropout (\u001b[38;5;33mDropout\u001b[0m)                    │ (\u001b[38;5;45mNone\u001b[0m, \u001b[38;5;34m32\u001b[0m)                  │               \u001b[38;5;34m0\u001b[0m │\n",
       "├──────────────────────────────────────┼─────────────────────────────┼─────────────────┤\n",
       "│ repeat_vector (\u001b[38;5;33mRepeatVector\u001b[0m)         │ (\u001b[38;5;45mNone\u001b[0m, \u001b[38;5;34m120\u001b[0m, \u001b[38;5;34m32\u001b[0m)             │               \u001b[38;5;34m0\u001b[0m │\n",
       "├──────────────────────────────────────┼─────────────────────────────┼─────────────────┤\n",
       "│ lstm_2 (\u001b[38;5;33mLSTM\u001b[0m)                        │ (\u001b[38;5;45mNone\u001b[0m, \u001b[38;5;34m120\u001b[0m, \u001b[38;5;34m32\u001b[0m)             │           \u001b[38;5;34m8,320\u001b[0m │\n",
       "├──────────────────────────────────────┼─────────────────────────────┼─────────────────┤\n",
       "│ lstm_3 (\u001b[38;5;33mLSTM\u001b[0m)                        │ (\u001b[38;5;45mNone\u001b[0m, \u001b[38;5;34m120\u001b[0m, \u001b[38;5;34m64\u001b[0m)             │          \u001b[38;5;34m24,832\u001b[0m │\n",
       "├──────────────────────────────────────┼─────────────────────────────┼─────────────────┤\n",
       "│ dropout_1 (\u001b[38;5;33mDropout\u001b[0m)                  │ (\u001b[38;5;45mNone\u001b[0m, \u001b[38;5;34m120\u001b[0m, \u001b[38;5;34m64\u001b[0m)             │               \u001b[38;5;34m0\u001b[0m │\n",
       "├──────────────────────────────────────┼─────────────────────────────┼─────────────────┤\n",
       "│ dense (\u001b[38;5;33mDense\u001b[0m)                        │ (\u001b[38;5;45mNone\u001b[0m, \u001b[38;5;34m120\u001b[0m, \u001b[38;5;34m1\u001b[0m)              │              \u001b[38;5;34m65\u001b[0m │\n",
       "└──────────────────────────────────────┴─────────────────────────────┴─────────────────┘\n"
      ]
     },
     "metadata": {},
     "output_type": "display_data"
    },
    {
     "data": {
      "text/html": [
       "<pre style=\"white-space:pre;overflow-x:auto;line-height:normal;font-family:Menlo,'DejaVu Sans Mono',consolas,'Courier New',monospace\"><span style=\"font-weight: bold\"> Total params: </span><span style=\"color: #00af00; text-decoration-color: #00af00\">67,393</span> (263.25 KB)\n",
       "</pre>\n"
      ],
      "text/plain": [
       "\u001b[1m Total params: \u001b[0m\u001b[38;5;34m67,393\u001b[0m (263.25 KB)\n"
      ]
     },
     "metadata": {},
     "output_type": "display_data"
    },
    {
     "data": {
      "text/html": [
       "<pre style=\"white-space:pre;overflow-x:auto;line-height:normal;font-family:Menlo,'DejaVu Sans Mono',consolas,'Courier New',monospace\"><span style=\"font-weight: bold\"> Trainable params: </span><span style=\"color: #00af00; text-decoration-color: #00af00\">67,393</span> (263.25 KB)\n",
       "</pre>\n"
      ],
      "text/plain": [
       "\u001b[1m Trainable params: \u001b[0m\u001b[38;5;34m67,393\u001b[0m (263.25 KB)\n"
      ]
     },
     "metadata": {},
     "output_type": "display_data"
    },
    {
     "data": {
      "text/html": [
       "<pre style=\"white-space:pre;overflow-x:auto;line-height:normal;font-family:Menlo,'DejaVu Sans Mono',consolas,'Courier New',monospace\"><span style=\"font-weight: bold\"> Non-trainable params: </span><span style=\"color: #00af00; text-decoration-color: #00af00\">0</span> (0.00 B)\n",
       "</pre>\n"
      ],
      "text/plain": [
       "\u001b[1m Non-trainable params: \u001b[0m\u001b[38;5;34m0\u001b[0m (0.00 B)\n"
      ]
     },
     "metadata": {},
     "output_type": "display_data"
    }
   ],
   "source": [
    "window_size = X_train.shape[1]\n",
    "number_of_features = X_train.shape[2]\n",
    "\n",
    "model = tf.keras.Sequential([\n",
    "    tf.keras.layers.LSTM(64, activation='tanh', return_sequences=True, input_shape=(window_size, number_of_features)),\n",
    "    tf.keras.layers.LSTM(32, activation='tanh', return_sequences=False),\n",
    "    tf.keras.layers.Dropout(rate=0.2),\n",
    "    tf.keras.layers.RepeatVector(window_size),\n",
    "    tf.keras.layers.LSTM(32, activation='tanh', return_sequences=True),\n",
    "    tf.keras.layers.LSTM(64, activation='tanh', return_sequences=True),\n",
    "    tf.keras.layers.Dropout(rate=0.2),\n",
    "    tf.keras.layers.Dense(1)\n",
    "])\n",
    "\n",
    "model.compile(optimizer='adam', loss='mse')\n",
    "model.summary()"
   ]
  },
  {
   "cell_type": "code",
   "execution_count": null,
   "id": "27cbc03b",
   "metadata": {
    "colab": {
     "base_uri": "https://localhost:8080/"
    },
    "collapsed": true,
    "executionInfo": {
     "elapsed": 10429568,
     "status": "ok",
     "timestamp": 1732744963210,
     "user": {
      "displayName": "Narmin Aliyeva",
      "userId": "05305446266640033678"
     },
     "user_tz": -240
    },
    "id": "27cbc03b",
    "outputId": "78bca067-0392-40df-996f-869e93866d01"
   },
   "outputs": [
    {
     "name": "stdout",
     "output_type": "stream",
     "text": [
      "Epoch 1/100\n",
      "\u001b[1m562/562\u001b[0m \u001b[32m━━━━━━━━━━━━━━━━━━━━\u001b[0m\u001b[37m\u001b[0m \u001b[1m316s\u001b[0m 550ms/step - loss: 0.0550 - val_loss: 0.0543\n",
      "Epoch 2/100\n",
      "\u001b[1m562/562\u001b[0m \u001b[32m━━━━━━━━━━━━━━━━━━━━\u001b[0m\u001b[37m\u001b[0m \u001b[1m307s\u001b[0m 546ms/step - loss: 0.0544 - val_loss: 0.0542\n",
      "Epoch 3/100\n",
      "\u001b[1m562/562\u001b[0m \u001b[32m━━━━━━━━━━━━━━━━━━━━\u001b[0m\u001b[37m\u001b[0m \u001b[1m322s\u001b[0m 547ms/step - loss: 0.0545 - val_loss: 0.0542\n",
      "Epoch 4/100\n",
      "\u001b[1m562/562\u001b[0m \u001b[32m━━━━━━━━━━━━━━━━━━━━\u001b[0m\u001b[37m\u001b[0m \u001b[1m324s\u001b[0m 551ms/step - loss: 0.0544 - val_loss: 0.0542\n",
      "Epoch 5/100\n",
      "\u001b[1m562/562\u001b[0m \u001b[32m━━━━━━━━━━━━━━━━━━━━\u001b[0m\u001b[37m\u001b[0m \u001b[1m322s\u001b[0m 551ms/step - loss: 0.0544 - val_loss: 0.0540\n",
      "Epoch 6/100\n",
      "\u001b[1m562/562\u001b[0m \u001b[32m━━━━━━━━━━━━━━━━━━━━\u001b[0m\u001b[37m\u001b[0m \u001b[1m320s\u001b[0m 548ms/step - loss: 0.0543 - val_loss: 0.0538\n",
      "Epoch 7/100\n",
      "\u001b[1m562/562\u001b[0m \u001b[32m━━━━━━━━━━━━━━━━━━━━\u001b[0m\u001b[37m\u001b[0m \u001b[1m302s\u001b[0m 538ms/step - loss: 0.0540 - val_loss: 0.0534\n",
      "Epoch 8/100\n",
      "\u001b[1m562/562\u001b[0m \u001b[32m━━━━━━━━━━━━━━━━━━━━\u001b[0m\u001b[37m\u001b[0m \u001b[1m320s\u001b[0m 533ms/step - loss: 0.0536 - val_loss: 0.0527\n",
      "Epoch 9/100\n",
      "\u001b[1m562/562\u001b[0m \u001b[32m━━━━━━━━━━━━━━━━━━━━\u001b[0m\u001b[37m\u001b[0m \u001b[1m320s\u001b[0m 530ms/step - loss: 0.0527 - val_loss: 0.0508\n",
      "Epoch 10/100\n",
      "\u001b[1m562/562\u001b[0m \u001b[32m━━━━━━━━━━━━━━━━━━━━\u001b[0m\u001b[37m\u001b[0m \u001b[1m322s\u001b[0m 530ms/step - loss: 0.0516 - val_loss: 0.0500\n",
      "Epoch 11/100\n",
      "\u001b[1m562/562\u001b[0m \u001b[32m━━━━━━━━━━━━━━━━━━━━\u001b[0m\u001b[37m\u001b[0m \u001b[1m320s\u001b[0m 528ms/step - loss: 0.0509 - val_loss: 0.0496\n",
      "Epoch 12/100\n",
      "\u001b[1m562/562\u001b[0m \u001b[32m━━━━━━━━━━━━━━━━━━━━\u001b[0m\u001b[37m\u001b[0m \u001b[1m293s\u001b[0m 522ms/step - loss: 0.0506 - val_loss: 0.0491\n",
      "Epoch 13/100\n",
      "\u001b[1m562/562\u001b[0m \u001b[32m━━━━━━━━━━━━━━━━━━━━\u001b[0m\u001b[37m\u001b[0m \u001b[1m321s\u001b[0m 521ms/step - loss: 0.0503 - val_loss: 0.0494\n",
      "Epoch 14/100\n",
      "\u001b[1m562/562\u001b[0m \u001b[32m━━━━━━━━━━━━━━━━━━━━\u001b[0m\u001b[37m\u001b[0m \u001b[1m322s\u001b[0m 522ms/step - loss: 0.0502 - val_loss: 0.0489\n",
      "Epoch 15/100\n",
      "\u001b[1m562/562\u001b[0m \u001b[32m━━━━━━━━━━━━━━━━━━━━\u001b[0m\u001b[37m\u001b[0m \u001b[1m294s\u001b[0m 524ms/step - loss: 0.0500 - val_loss: 0.0484\n",
      "Epoch 16/100\n",
      "\u001b[1m562/562\u001b[0m \u001b[32m━━━━━━━━━━━━━━━━━━━━\u001b[0m\u001b[37m\u001b[0m \u001b[1m328s\u001b[0m 536ms/step - loss: 0.0498 - val_loss: 0.0487\n",
      "Epoch 17/100\n",
      "\u001b[1m562/562\u001b[0m \u001b[32m━━━━━━━━━━━━━━━━━━━━\u001b[0m\u001b[37m\u001b[0m \u001b[1m319s\u001b[0m 530ms/step - loss: 0.0496 - val_loss: 0.0486\n",
      "Epoch 18/100\n",
      "\u001b[1m562/562\u001b[0m \u001b[32m━━━━━━━━━━━━━━━━━━━━\u001b[0m\u001b[37m\u001b[0m \u001b[1m321s\u001b[0m 528ms/step - loss: 0.0496 - val_loss: 0.0490\n",
      "Epoch 19/100\n",
      "\u001b[1m562/562\u001b[0m \u001b[32m━━━━━━━━━━━━━━━━━━━━\u001b[0m\u001b[37m\u001b[0m \u001b[1m324s\u001b[0m 533ms/step - loss: 0.0494 - val_loss: 0.0481\n",
      "Epoch 20/100\n",
      "\u001b[1m562/562\u001b[0m \u001b[32m━━━━━━━━━━━━━━━━━━━━\u001b[0m\u001b[37m\u001b[0m \u001b[1m315s\u001b[0m 520ms/step - loss: 0.0494 - val_loss: 0.0480\n",
      "Epoch 21/100\n",
      "\u001b[1m562/562\u001b[0m \u001b[32m━━━━━━━━━━━━━━━━━━━━\u001b[0m\u001b[37m\u001b[0m \u001b[1m325s\u001b[0m 526ms/step - loss: 0.0493 - val_loss: 0.0480\n",
      "Epoch 22/100\n",
      "\u001b[1m562/562\u001b[0m \u001b[32m━━━━━━━━━━━━━━━━━━━━\u001b[0m\u001b[37m\u001b[0m \u001b[1m305s\u001b[0m 542ms/step - loss: 0.0492 - val_loss: 0.0477\n",
      "Epoch 23/100\n",
      "\u001b[1m562/562\u001b[0m \u001b[32m━━━━━━━━━━━━━━━━━━━━\u001b[0m\u001b[37m\u001b[0m \u001b[1m316s\u001b[0m 532ms/step - loss: 0.0490 - val_loss: 0.0477\n",
      "Epoch 24/100\n",
      "\u001b[1m562/562\u001b[0m \u001b[32m━━━━━━━━━━━━━━━━━━━━\u001b[0m\u001b[37m\u001b[0m \u001b[1m322s\u001b[0m 532ms/step - loss: 0.0489 - val_loss: 0.0475\n",
      "Epoch 25/100\n",
      "\u001b[1m562/562\u001b[0m \u001b[32m━━━━━━━━━━━━━━━━━━━━\u001b[0m\u001b[37m\u001b[0m \u001b[1m323s\u001b[0m 533ms/step - loss: 0.0488 - val_loss: 0.0486\n",
      "Epoch 26/100\n",
      "\u001b[1m562/562\u001b[0m \u001b[32m━━━━━━━━━━━━━━━━━━━━\u001b[0m\u001b[37m\u001b[0m \u001b[1m327s\u001b[0m 541ms/step - loss: 0.0518 - val_loss: 0.0512\n",
      "Epoch 27/100\n",
      "\u001b[1m562/562\u001b[0m \u001b[32m━━━━━━━━━━━━━━━━━━━━\u001b[0m\u001b[37m\u001b[0m \u001b[1m326s\u001b[0m 549ms/step - loss: 0.0500 - val_loss: 0.0473\n",
      "Epoch 28/100\n",
      "\u001b[1m562/562\u001b[0m \u001b[32m━━━━━━━━━━━━━━━━━━━━\u001b[0m\u001b[37m\u001b[0m \u001b[1m303s\u001b[0m 538ms/step - loss: 0.0488 - val_loss: 0.0471\n",
      "Epoch 29/100\n",
      "\u001b[1m562/562\u001b[0m \u001b[32m━━━━━━━━━━━━━━━━━━━━\u001b[0m\u001b[37m\u001b[0m \u001b[1m328s\u001b[0m 550ms/step - loss: 0.0487 - val_loss: 0.0474\n",
      "Epoch 30/100\n",
      "\u001b[1m562/562\u001b[0m \u001b[32m━━━━━━━━━━━━━━━━━━━━\u001b[0m\u001b[37m\u001b[0m \u001b[1m312s\u001b[0m 532ms/step - loss: 0.0486 - val_loss: 0.0471\n",
      "Epoch 31/100\n",
      "\u001b[1m562/562\u001b[0m \u001b[32m━━━━━━━━━━━━━━━━━━━━\u001b[0m\u001b[37m\u001b[0m \u001b[1m300s\u001b[0m 533ms/step - loss: 0.0485 - val_loss: 0.0511\n",
      "Epoch 32/100\n",
      "\u001b[1m562/562\u001b[0m \u001b[32m━━━━━━━━━━━━━━━━━━━━\u001b[0m\u001b[37m\u001b[0m \u001b[1m316s\u001b[0m 522ms/step - loss: 0.0493 - val_loss: 0.0478\n",
      "Epoch 33/100\n",
      "\u001b[1m562/562\u001b[0m \u001b[32m━━━━━━━━━━━━━━━━━━━━\u001b[0m\u001b[37m\u001b[0m \u001b[1m291s\u001b[0m 518ms/step - loss: 0.0491 - val_loss: 0.0484\n"
     ]
    }
   ],
   "source": [
    "# Train the model\n",
    "history = model.fit(X_train, y_train, epochs=100, batch_size=128, validation_split=0.1,\n",
    "                    callbacks=[tf.keras.callbacks.EarlyStopping(monitor='val_loss', patience=5, restore_best_weights=True)], verbose=1)"
   ]
  },
  {
   "cell_type": "code",
   "execution_count": null,
   "id": "16e0dbb0",
   "metadata": {
    "id": "16e0dbb0"
   },
   "outputs": [],
   "source": [
    "model.save('/content/drive/My Drive/thesis/lstm3.keras') #saved model i drive as lstm3"
   ]
  },
  {
   "cell_type": "code",
   "execution_count": null,
   "id": "DyEVRqGpqxMt",
   "metadata": {
    "colab": {
     "base_uri": "https://localhost:8080/"
    },
    "executionInfo": {
     "elapsed": 43618,
     "status": "ok",
     "timestamp": 1732745377020,
     "user": {
      "displayName": "Narmin Aliyeva",
      "userId": "05305446266640033678"
     },
     "user_tz": -240
    },
    "id": "DyEVRqGpqxMt",
    "outputId": "ee2b9ee1-e9e5-409d-e7c0-23914a1b83b8"
   },
   "outputs": [
    {
     "name": "stdout",
     "output_type": "stream",
     "text": [
      "\u001b[1m625/625\u001b[0m \u001b[32m━━━━━━━━━━━━━━━━━━━━\u001b[0m\u001b[37m\u001b[0m \u001b[1m42s\u001b[0m 67ms/step\n"
     ]
    }
   ],
   "source": [
    "y_pred = model.predict(X_test)"
   ]
  },
  {
   "cell_type": "code",
   "execution_count": null,
   "id": "AOJB2QUprEbV",
   "metadata": {
    "colab": {
     "base_uri": "https://localhost:8080/"
    },
    "executionInfo": {
     "elapsed": 270,
     "status": "ok",
     "timestamp": 1732745392719,
     "user": {
      "displayName": "Narmin Aliyeva",
      "userId": "05305446266640033678"
     },
     "user_tz": -240
    },
    "id": "AOJB2QUprEbV",
    "outputId": "87d6078f-cebd-4c88-a7a5-caa1abdd19a5"
   },
   "outputs": [
    {
     "name": "stdout",
     "output_type": "stream",
     "text": [
      "(19977, 120, 1)\n",
      "(19977, 120, 20)\n"
     ]
    }
   ],
   "source": [
    "print(y_pred.shape)\n",
    "\n",
    "print(X_test.shape)"
   ]
  },
  {
   "cell_type": "code",
   "execution_count": null,
   "id": "0e9737fe",
   "metadata": {
    "id": "0e9737fe",
    "outputId": "2c6994ee-ac6e-492e-d10e-f59a1fe9c6d2"
   },
   "outputs": [
    {
     "name": "stdout",
     "output_type": "stream",
     "text": [
      "(39977, 1)\n",
      "(39977, 1)\n"
     ]
    }
   ],
   "source": [
    "y_test_final = y_test[:,0,:]\n",
    "y_pred_final = y_pred[:,0,:]\n",
    "print(y_pred_final.shape)\n",
    "\n",
    "print(y_test_final.shape)"
   ]
  },
  {
   "cell_type": "code",
   "execution_count": null,
   "id": "31424796",
   "metadata": {
    "id": "31424796"
   },
   "outputs": [],
   "source": [
    "mse = np.mean(np.power(y_test_final - y_pred_final, 2), axis=1)"
   ]
  },
  {
   "cell_type": "code",
   "execution_count": null,
   "id": "56fd46e3",
   "metadata": {
    "colab": {
     "base_uri": "https://localhost:8080/"
    },
    "executionInfo": {
     "elapsed": 260,
     "status": "ok",
     "timestamp": 1732745999771,
     "user": {
      "displayName": "Narmin Aliyeva",
      "userId": "05305446266640033678"
     },
     "user_tz": -240
    },
    "id": "56fd46e3",
    "outputId": "11dbd2e2-ed45-429d-becb-1aafa447e520"
   },
   "outputs": [
    {
     "data": {
      "text/plain": [
       "0.0014777449354558166"
      ]
     },
     "execution_count": 52,
     "metadata": {},
     "output_type": "execute_result"
    }
   ],
   "source": [
    "threshold = np.percentile(mse, 95)\n",
    "threshold"
   ]
  },
  {
   "cell_type": "code",
   "execution_count": null,
   "id": "a4e1733d",
   "metadata": {
    "id": "a4e1733d"
   },
   "outputs": [],
   "source": [
    "y_pred = (mse > threshold).astype(int)"
   ]
  },
  {
   "cell_type": "code",
   "execution_count": null,
   "id": "1bc00958",
   "metadata": {
    "colab": {
     "base_uri": "https://localhost:8080/"
    },
    "executionInfo": {
     "elapsed": 653,
     "status": "ok",
     "timestamp": 1732746002330,
     "user": {
      "displayName": "Narmin Aliyeva",
      "userId": "05305446266640033678"
     },
     "user_tz": -240
    },
    "id": "1bc00958",
    "outputId": "0fbf83d1-c687-441c-a230-9c986673b1ea"
   },
   "outputs": [
    {
     "name": "stdout",
     "output_type": "stream",
     "text": [
      "Precision: 0.8428428428428428\n",
      "Recall: 0.729004329004329\n",
      "F1-score: 0.7818012999071495\n"
     ]
    }
   ],
   "source": [
    "precision = precision_score(y_test_final, y_pred)\n",
    "recall = recall_score(y_test_final, y_pred)\n",
    "f1 = f1_score(y_test_final, y_pred)\n",
    "\n",
    "# Print all evaluation metrics\n",
    "print(f\"Precision: {precision}\")\n",
    "print(f\"Recall: {recall}\")\n",
    "print(f\"F1-score: {f1}\")"
   ]
  },
  {
   "cell_type": "code",
   "execution_count": null,
   "id": "6eb91eee",
   "metadata": {
    "colab": {
     "base_uri": "https://localhost:8080/"
    },
    "executionInfo": {
     "elapsed": 272,
     "status": "ok",
     "timestamp": 1732745473441,
     "user": {
      "displayName": "Narmin Aliyeva",
      "userId": "05305446266640033678"
     },
     "user_tz": -240
    },
    "id": "6eb91eee",
    "outputId": "5ecc5711-b4de-4af8-82ce-7258644d45c3"
   },
   "outputs": [
    {
     "name": "stdout",
     "output_type": "stream",
     "text": [
      "Accuracy: 0.9764729438854682\n",
      "Confusion Matrix:\n",
      "[[18665   157]\n",
      " [  313   842]]\n"
     ]
    }
   ],
   "source": [
    "# Evaluate model performance using labeled data\n",
    "accuracy = accuracy_score(y_test_final, y_pred)\n",
    "conf_matrix = confusion_matrix(y_test_final, y_pred)\n",
    "\n",
    "print(f\"Accuracy: {accuracy}\")\n",
    "print(\"Confusion Matrix:\")\n",
    "print(conf_matrix)"
   ]
  },
  {
   "cell_type": "code",
   "execution_count": null,
   "id": "ddd35fe2",
   "metadata": {
    "colab": {
     "base_uri": "https://localhost:8080/",
     "height": 332
    },
    "executionInfo": {
     "elapsed": 666,
     "status": "ok",
     "timestamp": 1732745477854,
     "user": {
      "displayName": "Narmin Aliyeva",
      "userId": "05305446266640033678"
     },
     "user_tz": -240
    },
    "id": "ddd35fe2",
    "outputId": "d29e9b90-b56c-484f-b364-b2def2e2e3b7"
   },
   "outputs": [
    {
     "data": {
      "image/png": "[encoded data removed]",
      "text/plain": [
       "<Figure size 400x300 with 1 Axes>"
      ]
     },
     "metadata": {},
     "output_type": "display_data"
    }
   ],
   "source": [
    "# Calculate the ROC curve\n",
    "fpr, tpr, thresholds = roc_curve(y_test_final, mse)\n",
    "\n",
    "# Calculate the AUC\n",
    "roc_auc = auc(fpr, tpr)\n",
    "\n",
    "# Plot the ROC Curve\n",
    "plt.figure(figsize=(4, 3))\n",
    "plt.plot(fpr, tpr, color='blue', lw=2, label=f\"ROC Curve (AUC = {roc_auc:.4f})\")\n",
    "plt.plot([0, 1], [0, 1], color='gray', linestyle='--', lw=1)  # Diagonal line\n",
    "plt.xlim([0.0, 1.0])\n",
    "plt.ylim([0.0, 1.05])\n",
    "plt.xlabel('False Positive Rate (FPR)')\n",
    "plt.ylabel('True Positive Rate (TPR)')\n",
    "plt.title('ROC Curve')\n",
    "plt.legend(loc=\"lower right\")\n",
    "plt.grid()\n",
    "plt.show()"
   ]
  },
  {
   "cell_type": "markdown",
   "id": "uKpO9peJiaRV",
   "metadata": {
    "id": "uKpO9peJiaRV"
   },
   "source": [
    "### LSTM with SMOTE"
   ]
  },
  {
   "cell_type": "code",
   "execution_count": null,
   "id": "gNhbJOquYNlT",
   "metadata": {
    "id": "gNhbJOquYNlT"
   },
   "outputs": [],
   "source": [
    "from imblearn.over_sampling import SMOTE"
   ]
  },
  {
   "cell_type": "code",
   "execution_count": null,
   "id": "EYh4iye1jh6O",
   "metadata": {
    "colab": {
     "base_uri": "https://localhost:8080/",
     "height": 448
    },
    "executionInfo": {
     "elapsed": 3350,
     "status": "ok",
     "timestamp": 1732794498810,
     "user": {
      "displayName": "Narmin Aliyeva",
      "userId": "05305446266640033678"
     },
     "user_tz": -240
    },
    "id": "EYh4iye1jh6O",
    "outputId": "d07c610d-bfe6-4f54-ed8b-83b0715df32a"
   },
   "outputs": [
    {
     "name": "stderr",
     "output_type": "stream",
     "text": [
      "/usr/local/lib/python3.10/dist-packages/keras/src/layers/rnn/rnn.py:204: UserWarning: Do not pass an `input_shape`/`input_dim` argument to a layer. When using Sequential models, prefer using an `Input(shape)` object as the first layer in the model instead.\n",
      "  super().__init__(**kwargs)\n"
     ]
    },
    {
     "data": {
      "text/html": [
       "<pre style=\"white-space:pre;overflow-x:auto;line-height:normal;font-family:Menlo,'DejaVu Sans Mono',consolas,'Courier New',monospace\"><span style=\"font-weight: bold\">Model: \"sequential\"</span>\n",
       "</pre>\n"
      ],
      "text/plain": [
       "\u001b[1mModel: \"sequential\"\u001b[0m\n"
      ]
     },
     "metadata": {},
     "output_type": "display_data"
    },
    {
     "data": {
      "text/html": [
       "<pre style=\"white-space:pre;overflow-x:auto;line-height:normal;font-family:Menlo,'DejaVu Sans Mono',consolas,'Courier New',monospace\">┏━━━━━━━━━━━━━━━━━━━━━━━━━━━━━━━━━━━━━━┳━━━━━━━━━━━━━━━━━━━━━━━━━━━━━┳━━━━━━━━━━━━━━━━━┓\n",
       "┃<span style=\"font-weight: bold\"> Layer (type)                         </span>┃<span style=\"font-weight: bold\"> Output Shape                </span>┃<span style=\"font-weight: bold\">         Param # </span>┃\n",
       "┡━━━━━━━━━━━━━━━━━━━━━━━━━━━━━━━━━━━━━━╇━━━━━━━━━━━━━━━━━━━━━━━━━━━━━╇━━━━━━━━━━━━━━━━━┩\n",
       "│ lstm (<span style=\"color: #0087ff; text-decoration-color: #0087ff\">LSTM</span>)                          │ (<span style=\"color: #00d7ff; text-decoration-color: #00d7ff\">None</span>, <span style=\"color: #00af00; text-decoration-color: #00af00\">120</span>, <span style=\"color: #00af00; text-decoration-color: #00af00\">64</span>)             │          <span style=\"color: #00af00; text-decoration-color: #00af00\">21,760</span> │\n",
       "├──────────────────────────────────────┼─────────────────────────────┼─────────────────┤\n",
       "│ lstm_1 (<span style=\"color: #0087ff; text-decoration-color: #0087ff\">LSTM</span>)                        │ (<span style=\"color: #00d7ff; text-decoration-color: #00d7ff\">None</span>, <span style=\"color: #00af00; text-decoration-color: #00af00\">32</span>)                  │          <span style=\"color: #00af00; text-decoration-color: #00af00\">12,416</span> │\n",
       "├──────────────────────────────────────┼─────────────────────────────┼─────────────────┤\n",
       "│ dropout (<span style=\"color: #0087ff; text-decoration-color: #0087ff\">Dropout</span>)                    │ (<span style=\"color: #00d7ff; text-decoration-color: #00d7ff\">None</span>, <span style=\"color: #00af00; text-decoration-color: #00af00\">32</span>)                  │               <span style=\"color: #00af00; text-decoration-color: #00af00\">0</span> │\n",
       "├──────────────────────────────────────┼─────────────────────────────┼─────────────────┤\n",
       "│ repeat_vector (<span style=\"color: #0087ff; text-decoration-color: #0087ff\">RepeatVector</span>)         │ (<span style=\"color: #00d7ff; text-decoration-color: #00d7ff\">None</span>, <span style=\"color: #00af00; text-decoration-color: #00af00\">120</span>, <span style=\"color: #00af00; text-decoration-color: #00af00\">32</span>)             │               <span style=\"color: #00af00; text-decoration-color: #00af00\">0</span> │\n",
       "├──────────────────────────────────────┼─────────────────────────────┼─────────────────┤\n",
       "│ lstm_2 (<span style=\"color: #0087ff; text-decoration-color: #0087ff\">LSTM</span>)                        │ (<span style=\"color: #00d7ff; text-decoration-color: #00d7ff\">None</span>, <span style=\"color: #00af00; text-decoration-color: #00af00\">120</span>, <span style=\"color: #00af00; text-decoration-color: #00af00\">32</span>)             │           <span style=\"color: #00af00; text-decoration-color: #00af00\">8,320</span> │\n",
       "├──────────────────────────────────────┼─────────────────────────────┼─────────────────┤\n",
       "│ lstm_3 (<span style=\"color: #0087ff; text-decoration-color: #0087ff\">LSTM</span>)                        │ (<span style=\"color: #00d7ff; text-decoration-color: #00d7ff\">None</span>, <span style=\"color: #00af00; text-decoration-color: #00af00\">120</span>, <span style=\"color: #00af00; text-decoration-color: #00af00\">64</span>)             │          <span style=\"color: #00af00; text-decoration-color: #00af00\">24,832</span> │\n",
       "├──────────────────────────────────────┼─────────────────────────────┼─────────────────┤\n",
       "│ dropout_1 (<span style=\"color: #0087ff; text-decoration-color: #0087ff\">Dropout</span>)                  │ (<span style=\"color: #00d7ff; text-decoration-color: #00d7ff\">None</span>, <span style=\"color: #00af00; text-decoration-color: #00af00\">120</span>, <span style=\"color: #00af00; text-decoration-color: #00af00\">64</span>)             │               <span style=\"color: #00af00; text-decoration-color: #00af00\">0</span> │\n",
       "├──────────────────────────────────────┼─────────────────────────────┼─────────────────┤\n",
       "│ dense (<span style=\"color: #0087ff; text-decoration-color: #0087ff\">Dense</span>)                        │ (<span style=\"color: #00d7ff; text-decoration-color: #00d7ff\">None</span>, <span style=\"color: #00af00; text-decoration-color: #00af00\">120</span>, <span style=\"color: #00af00; text-decoration-color: #00af00\">1</span>)              │              <span style=\"color: #00af00; text-decoration-color: #00af00\">65</span> │\n",
       "└──────────────────────────────────────┴─────────────────────────────┴─────────────────┘\n",
       "</pre>\n"
      ],
      "text/plain": [
       "┏━━━━━━━━━━━━━━━━━━━━━━━━━━━━━━━━━━━━━━┳━━━━━━━━━━━━━━━━━━━━━━━━━━━━━┳━━━━━━━━━━━━━━━━━┓\n",
       "┃\u001b[1m \u001b[0m\u001b[1mLayer (type)                        \u001b[0m\u001b[1m \u001b[0m┃\u001b[1m \u001b[0m\u001b[1mOutput Shape               \u001b[0m\u001b[1m \u001b[0m┃\u001b[1m \u001b[0m\u001b[1m        Param #\u001b[0m\u001b[1m \u001b[0m┃\n",
       "┡━━━━━━━━━━━━━━━━━━━━━━━━━━━━━━━━━━━━━━╇━━━━━━━━━━━━━━━━━━━━━━━━━━━━━╇━━━━━━━━━━━━━━━━━┩\n",
       "│ lstm (\u001b[38;5;33mLSTM\u001b[0m)                          │ (\u001b[38;5;45mNone\u001b[0m, \u001b[38;5;34m120\u001b[0m, \u001b[38;5;34m64\u001b[0m)             │          \u001b[38;5;34m21,760\u001b[0m │\n",
       "├──────────────────────────────────────┼─────────────────────────────┼─────────────────┤\n",
       "│ lstm_1 (\u001b[38;5;33mLSTM\u001b[0m)                        │ (\u001b[38;5;45mNone\u001b[0m, \u001b[38;5;34m32\u001b[0m)                  │          \u001b[38;5;34m12,416\u001b[0m │\n",
       "├──────────────────────────────────────┼─────────────────────────────┼─────────────────┤\n",
       "│ dropout (\u001b[38;5;33mDropout\u001b[0m)                    │ (\u001b[38;5;45mNone\u001b[0m, \u001b[38;5;34m32\u001b[0m)                  │               \u001b[38;5;34m0\u001b[0m │\n",
       "├──────────────────────────────────────┼─────────────────────────────┼─────────────────┤\n",
       "│ repeat_vector (\u001b[38;5;33mRepeatVector\u001b[0m)         │ (\u001b[38;5;45mNone\u001b[0m, \u001b[38;5;34m120\u001b[0m, \u001b[38;5;34m32\u001b[0m)             │               \u001b[38;5;34m0\u001b[0m │\n",
       "├──────────────────────────────────────┼─────────────────────────────┼─────────────────┤\n",
       "│ lstm_2 (\u001b[38;5;33mLSTM\u001b[0m)                        │ (\u001b[38;5;45mNone\u001b[0m, \u001b[38;5;34m120\u001b[0m, \u001b[38;5;34m32\u001b[0m)             │           \u001b[38;5;34m8,320\u001b[0m │\n",
       "├──────────────────────────────────────┼─────────────────────────────┼─────────────────┤\n",
       "│ lstm_3 (\u001b[38;5;33mLSTM\u001b[0m)                        │ (\u001b[38;5;45mNone\u001b[0m, \u001b[38;5;34m120\u001b[0m, \u001b[38;5;34m64\u001b[0m)             │          \u001b[38;5;34m24,832\u001b[0m │\n",
       "├──────────────────────────────────────┼─────────────────────────────┼─────────────────┤\n",
       "│ dropout_1 (\u001b[38;5;33mDropout\u001b[0m)                  │ (\u001b[38;5;45mNone\u001b[0m, \u001b[38;5;34m120\u001b[0m, \u001b[38;5;34m64\u001b[0m)             │               \u001b[38;5;34m0\u001b[0m │\n",
       "├──────────────────────────────────────┼─────────────────────────────┼─────────────────┤\n",
       "│ dense (\u001b[38;5;33mDense\u001b[0m)                        │ (\u001b[38;5;45mNone\u001b[0m, \u001b[38;5;34m120\u001b[0m, \u001b[38;5;34m1\u001b[0m)              │              \u001b[38;5;34m65\u001b[0m │\n",
       "└──────────────────────────────────────┴─────────────────────────────┴─────────────────┘\n"
      ]
     },
     "metadata": {},
     "output_type": "display_data"
    },
    {
     "data": {
      "text/html": [
       "<pre style=\"white-space:pre;overflow-x:auto;line-height:normal;font-family:Menlo,'DejaVu Sans Mono',consolas,'Courier New',monospace\"><span style=\"font-weight: bold\"> Total params: </span><span style=\"color: #00af00; text-decoration-color: #00af00\">67,393</span> (263.25 KB)\n",
       "</pre>\n"
      ],
      "text/plain": [
       "\u001b[1m Total params: \u001b[0m\u001b[38;5;34m67,393\u001b[0m (263.25 KB)\n"
      ]
     },
     "metadata": {},
     "output_type": "display_data"
    },
    {
     "data": {
      "text/html": [
       "<pre style=\"white-space:pre;overflow-x:auto;line-height:normal;font-family:Menlo,'DejaVu Sans Mono',consolas,'Courier New',monospace\"><span style=\"font-weight: bold\"> Trainable params: </span><span style=\"color: #00af00; text-decoration-color: #00af00\">67,393</span> (263.25 KB)\n",
       "</pre>\n"
      ],
      "text/plain": [
       "\u001b[1m Trainable params: \u001b[0m\u001b[38;5;34m67,393\u001b[0m (263.25 KB)\n"
      ]
     },
     "metadata": {},
     "output_type": "display_data"
    },
    {
     "data": {
      "text/html": [
       "<pre style=\"white-space:pre;overflow-x:auto;line-height:normal;font-family:Menlo,'DejaVu Sans Mono',consolas,'Courier New',monospace\"><span style=\"font-weight: bold\"> Non-trainable params: </span><span style=\"color: #00af00; text-decoration-color: #00af00\">0</span> (0.00 B)\n",
       "</pre>\n"
      ],
      "text/plain": [
       "\u001b[1m Non-trainable params: \u001b[0m\u001b[38;5;34m0\u001b[0m (0.00 B)\n"
      ]
     },
     "metadata": {},
     "output_type": "display_data"
    }
   ],
   "source": [
    "window_size = X_train.shape[1]\n",
    "number_of_features = X_train.shape[2]\n",
    "\n",
    "model = tf.keras.Sequential([\n",
    "    tf.keras.layers.LSTM(64, activation='tanh', return_sequences=True, input_shape=(window_size, number_of_features)),\n",
    "    tf.keras.layers.LSTM(32, activation='tanh', return_sequences=False),\n",
    "    tf.keras.layers.Dropout(rate=0.2),\n",
    "    tf.keras.layers.RepeatVector(window_size),\n",
    "    tf.keras.layers.LSTM(32, activation='tanh', return_sequences=True),\n",
    "    tf.keras.layers.LSTM(64, activation='tanh', return_sequences=True),\n",
    "    tf.keras.layers.Dropout(rate=0.2),\n",
    "    tf.keras.layers.Dense(1)\n",
    "])\n",
    "\n",
    "#optimizer = tf.keras.optimizers.Adam(learning_rate=0.0005, clipvalue=1.0)\n",
    "model.compile(optimizer='adam', loss='mse')\n",
    "model.summary()"
   ]
  },
  {
   "cell_type": "code",
   "execution_count": null,
   "id": "PIWXF7jDjqbF",
   "metadata": {
    "colab": {
     "base_uri": "https://localhost:8080/"
    },
    "executionInfo": {
     "elapsed": 367,
     "status": "ok",
     "timestamp": 1732793785870,
     "user": {
      "displayName": "Narmin Aliyeva",
      "userId": "05305446266640033678"
     },
     "user_tz": -240
    },
    "id": "PIWXF7jDjqbF",
    "outputId": "a07361e5-32ef-4590-91b3-8aebac704c45"
   },
   "outputs": [
    {
     "name": "stdout",
     "output_type": "stream",
     "text": [
      "(150514, 120, 20)\n"
     ]
    }
   ],
   "source": [
    "print(X_train_resampled.shape)"
   ]
  },
  {
   "cell_type": "code",
   "execution_count": null,
   "id": "HoLs9LpoY3vK",
   "metadata": {
    "id": "HoLs9LpoY3vK"
   },
   "outputs": [],
   "source": [
    "# Defining number_of_features before reshaping back to 3D\n",
    "number_of_features = X_train.shape[2]"
   ]
  },
  {
   "cell_type": "code",
   "execution_count": null,
   "id": "l6I_AYj8YNr9",
   "metadata": {
    "colab": {
     "base_uri": "https://localhost:8080/"
    },
    "executionInfo": {
     "elapsed": 12951,
     "status": "ok",
     "timestamp": 1732791990142,
     "user": {
      "displayName": "Narmin Aliyeva",
      "userId": "05305446266640033678"
     },
     "user_tz": -240
    },
    "id": "l6I_AYj8YNr9",
    "outputId": "5afa2ab8-44d2-494a-fb82-87b2823a29d5"
   },
   "outputs": [
    {
     "name": "stdout",
     "output_type": "stream",
     "text": [
      "(150514, 120, 20)\n",
      "(150514, 1, 1)\n"
     ]
    }
   ],
   "source": [
    "# Flatten 3D training data to 2D for SMOTE\n",
    "X_train_flattened = X_train.reshape(X_train.shape[0], -1)  # Shape: (samples, window_size * features)\n",
    "y_train_flattened = y_train[:, 0, 0]  # Flatten to 1D for SMOTE\n",
    "\n",
    "# Apply SMOTE to oversample the minority class\n",
    "smote = SMOTE(random_state=42)\n",
    "X_train_smote, y_train_smote = smote.fit_resample(X_train_flattened, y_train_flattened)\n",
    "\n",
    "# Define number_of_features before reshaping\n",
    "number_of_features = X_train.shape[2]\n",
    "\n",
    "# Reshape the oversampled data back to 3D for LSTM\n",
    "X_train_resampled = X_train_smote.reshape(-1, window_size, number_of_features)  # Shape: (new_samples, window_size, features)\n",
    "y_train_resampled = y_train_smote.reshape(-1, 1, 1)  # Shape: (new_samples, 1, 1)\n",
    "\n",
    "# Check new shapes after SMOTE\n",
    "print(X_train_resampled.shape)  # Should show increased samples\n",
    "print(y_train_resampled.shape)\n"
   ]
  },
  {
   "cell_type": "code",
   "execution_count": null,
   "id": "gf8WnKz5YNxG",
   "metadata": {
    "colab": {
     "base_uri": "https://localhost:8080/"
    },
    "collapsed": true,
    "executionInfo": {
     "elapsed": 711963,
     "status": "ok",
     "timestamp": 1732792748785,
     "user": {
      "displayName": "Narmin Aliyeva",
      "userId": "05305446266640033678"
     },
     "user_tz": -240
    },
    "id": "gf8WnKz5YNxG",
    "outputId": "6bb70d1a-bf83-41c3-e6b9-00dc8eda67cb"
   },
   "outputs": [
    {
     "name": "stdout",
     "output_type": "stream",
     "text": [
      "Epoch 1/100\n",
      "\u001b[1m1059/1059\u001b[0m \u001b[32m━━━━━━━━━━━━━━━━━━━━\u001b[0m\u001b[37m\u001b[0m \u001b[1m33s\u001b[0m 24ms/step - loss: 0.1927 - val_loss: 0.0601\n",
      "Epoch 2/100\n",
      "\u001b[1m1059/1059\u001b[0m \u001b[32m━━━━━━━━━━━━━━━━━━━━\u001b[0m\u001b[37m\u001b[0m \u001b[1m35s\u001b[0m 22ms/step - loss: 0.0510 - val_loss: 0.1187\n",
      "Epoch 3/100\n",
      "\u001b[1m1059/1059\u001b[0m \u001b[32m━━━━━━━━━━━━━━━━━━━━\u001b[0m\u001b[37m\u001b[0m \u001b[1m41s\u001b[0m 22ms/step - loss: 0.0416 - val_loss: 0.0293\n",
      "Epoch 4/100\n",
      "\u001b[1m1059/1059\u001b[0m \u001b[32m━━━━━━━━━━━━━━━━━━━━\u001b[0m\u001b[37m\u001b[0m \u001b[1m40s\u001b[0m 22ms/step - loss: 0.0403 - val_loss: 0.0515\n",
      "Epoch 5/100\n",
      "\u001b[1m1059/1059\u001b[0m \u001b[32m━━━━━━━━━━━━━━━━━━━━\u001b[0m\u001b[37m\u001b[0m \u001b[1m42s\u001b[0m 23ms/step - loss: 0.0362 - val_loss: 0.0339\n",
      "Epoch 6/100\n",
      "\u001b[1m1059/1059\u001b[0m \u001b[32m━━━━━━━━━━━━━━━━━━━━\u001b[0m\u001b[37m\u001b[0m \u001b[1m41s\u001b[0m 23ms/step - loss: 0.0333 - val_loss: 0.0539\n",
      "Epoch 7/100\n",
      "\u001b[1m1059/1059\u001b[0m \u001b[32m━━━━━━━━━━━━━━━━━━━━\u001b[0m\u001b[37m\u001b[0m \u001b[1m41s\u001b[0m 23ms/step - loss: 0.0313 - val_loss: 0.0260\n",
      "Epoch 8/100\n",
      "\u001b[1m1059/1059\u001b[0m \u001b[32m━━━━━━━━━━━━━━━━━━━━\u001b[0m\u001b[37m\u001b[0m \u001b[1m41s\u001b[0m 23ms/step - loss: 0.0282 - val_loss: 0.0164\n",
      "Epoch 9/100\n",
      "\u001b[1m1059/1059\u001b[0m \u001b[32m━━━━━━━━━━━━━━━━━━━━\u001b[0m\u001b[37m\u001b[0m \u001b[1m41s\u001b[0m 23ms/step - loss: 0.0270 - val_loss: 0.0119\n",
      "Epoch 10/100\n",
      "\u001b[1m1059/1059\u001b[0m \u001b[32m━━━━━━━━━━━━━━━━━━━━\u001b[0m\u001b[37m\u001b[0m \u001b[1m24s\u001b[0m 23ms/step - loss: 0.0260 - val_loss: 0.0150\n",
      "Epoch 11/100\n",
      "\u001b[1m1059/1059\u001b[0m \u001b[32m━━━━━━━━━━━━━━━━━━━━\u001b[0m\u001b[37m\u001b[0m \u001b[1m41s\u001b[0m 23ms/step - loss: 0.0241 - val_loss: 0.0113\n",
      "Epoch 12/100\n",
      "\u001b[1m1059/1059\u001b[0m \u001b[32m━━━━━━━━━━━━━━━━━━━━\u001b[0m\u001b[37m\u001b[0m \u001b[1m41s\u001b[0m 23ms/step - loss: 0.0246 - val_loss: 0.0115\n",
      "Epoch 13/100\n",
      "\u001b[1m1059/1059\u001b[0m \u001b[32m━━━━━━━━━━━━━━━━━━━━\u001b[0m\u001b[37m\u001b[0m \u001b[1m41s\u001b[0m 23ms/step - loss: 0.0226 - val_loss: 0.0092\n",
      "Epoch 14/100\n",
      "\u001b[1m1059/1059\u001b[0m \u001b[32m━━━━━━━━━━━━━━━━━━━━\u001b[0m\u001b[37m\u001b[0m \u001b[1m23s\u001b[0m 22ms/step - loss: 0.0214 - val_loss: 0.0129\n",
      "Epoch 15/100\n",
      "\u001b[1m1059/1059\u001b[0m \u001b[32m━━━━━━━━━━━━━━━━━━━━\u001b[0m\u001b[37m\u001b[0m \u001b[1m42s\u001b[0m 23ms/step - loss: 0.0211 - val_loss: 0.0114\n",
      "Epoch 16/100\n",
      "\u001b[1m1059/1059\u001b[0m \u001b[32m━━━━━━━━━━━━━━━━━━━━\u001b[0m\u001b[37m\u001b[0m \u001b[1m41s\u001b[0m 23ms/step - loss: 0.0207 - val_loss: 0.0212\n",
      "Epoch 17/100\n",
      "\u001b[1m1059/1059\u001b[0m \u001b[32m━━━━━━━━━━━━━━━━━━━━\u001b[0m\u001b[37m\u001b[0m \u001b[1m41s\u001b[0m 23ms/step - loss: 0.0196 - val_loss: 0.0143\n",
      "Epoch 18/100\n",
      "\u001b[1m1059/1059\u001b[0m \u001b[32m━━━━━━━━━━━━━━━━━━━━\u001b[0m\u001b[37m\u001b[0m \u001b[1m41s\u001b[0m 23ms/step - loss: 0.0184 - val_loss: 0.0106\n"
     ]
    }
   ],
   "source": [
    "history = model.fit(X_train_resampled, y_train_resampled, epochs=100, batch_size=128, validation_split=0.1,\n",
    "                    callbacks=[tf.keras.callbacks.EarlyStopping(monitor='val_loss', patience=5, restore_best_weights=True)], verbose=1)"
   ]
  },
  {
   "cell_type": "code",
   "execution_count": null,
   "id": "3pk76UK-YN3f",
   "metadata": {
    "id": "3pk76UK-YN3f"
   },
   "outputs": [],
   "source": [
    "model.save('/content/drive/My Drive/thesis/lstm_smote.keras') #saved model i drive as lstm3"
   ]
  },
  {
   "cell_type": "code",
   "execution_count": null,
   "id": "zHpiP3WVYN8a",
   "metadata": {
    "colab": {
     "base_uri": "https://localhost:8080/"
    },
    "executionInfo": {
     "elapsed": 11084,
     "status": "ok",
     "timestamp": 1732793087319,
     "user": {
      "displayName": "Narmin Aliyeva",
      "userId": "05305446266640033678"
     },
     "user_tz": -240
    },
    "id": "zHpiP3WVYN8a",
    "outputId": "085799db-c30b-4c92-afcc-a61db676e49d"
   },
   "outputs": [
    {
     "name": "stdout",
     "output_type": "stream",
     "text": [
      "\u001b[1m625/625\u001b[0m \u001b[32m━━━━━━━━━━━━━━━━━━━━\u001b[0m\u001b[37m\u001b[0m \u001b[1m5s\u001b[0m 8ms/step\n"
     ]
    }
   ],
   "source": [
    "y_pred = model.predict(X_test)\n",
    "y_test_final = y_test[:, 0, :]  # Adjusting shape for evaluation\n",
    "y_pred_final = y_pred[:, 0, :]"
   ]
  },
  {
   "cell_type": "code",
   "execution_count": null,
   "id": "m8LCd0--YOBG",
   "metadata": {
    "colab": {
     "base_uri": "https://localhost:8080/"
    },
    "executionInfo": {
     "elapsed": 342,
     "status": "ok",
     "timestamp": 1732793189308,
     "user": {
      "displayName": "Narmin Aliyeva",
      "userId": "05305446266640033678"
     },
     "user_tz": -240
    },
    "id": "m8LCd0--YOBG",
    "outputId": "2c8bd57f-f464-46bf-e358-9ced6fb2ae2b"
   },
   "outputs": [
    {
     "name": "stdout",
     "output_type": "stream",
     "text": [
      "(19977, 1)\n",
      "(19977, 1)\n"
     ]
    }
   ],
   "source": [
    "print(y_pred_final.shape)\n",
    "\n",
    "print(y_test_final.shape)"
   ]
  },
  {
   "cell_type": "code",
   "execution_count": null,
   "id": "pLZRRceHYOGJ",
   "metadata": {
    "id": "pLZRRceHYOGJ"
   },
   "outputs": [],
   "source": [
    "mse = np.mean(np.power(y_test_final - y_pred_final, 2), axis=1)"
   ]
  },
  {
   "cell_type": "code",
   "execution_count": null,
   "id": "_ylJM9SqYOK3",
   "metadata": {
    "colab": {
     "base_uri": "https://localhost:8080/"
    },
    "executionInfo": {
     "elapsed": 425,
     "status": "ok",
     "timestamp": 1732793396585,
     "user": {
      "displayName": "Narmin Aliyeva",
      "userId": "05305446266640033678"
     },
     "user_tz": -240
    },
    "id": "_ylJM9SqYOK3",
    "outputId": "f76eeb8a-76c3-4b03-b6b6-ea8a84f84a9c"
   },
   "outputs": [
    {
     "data": {
      "text/plain": [
       "0.04279529217114949"
      ]
     },
     "execution_count": 29,
     "metadata": {},
     "output_type": "execute_result"
    }
   ],
   "source": [
    "# Set a threshold for identifying anomalies\n",
    "threshold = np.percentile(mse, 95)\n",
    "threshold"
   ]
  },
  {
   "cell_type": "code",
   "execution_count": null,
   "id": "jjMZhc2FYOP2",
   "metadata": {
    "colab": {
     "base_uri": "https://localhost:8080/"
    },
    "executionInfo": {
     "elapsed": 5,
     "status": "ok",
     "timestamp": 1732793397717,
     "user": {
      "displayName": "Narmin Aliyeva",
      "userId": "05305446266640033678"
     },
     "user_tz": -240
    },
    "id": "jjMZhc2FYOP2",
    "outputId": "bc857788-a97c-428e-8510-54b30be787ba"
   },
   "outputs": [
    {
     "name": "stdout",
     "output_type": "stream",
     "text": [
      "Precision: 0.46846846846846846\n",
      "Recall: 0.4051948051948052\n",
      "F1-score: 0.43454038997214484\n"
     ]
    }
   ],
   "source": [
    "# Classify data points as normal (0) or anomaly (1) based on the threshold\n",
    "y_pred = (mse > threshold).astype(int)\n",
    "precision = precision_score(y_test_final, y_pred)\n",
    "recall = recall_score(y_test_final, y_pred)\n",
    "f1 = f1_score(y_test_final, y_pred)\n",
    "\n",
    "# Print all evaluation metrics\n",
    "print(f\"Precision: {precision}\")\n",
    "print(f\"Recall: {recall}\")\n",
    "print(f\"F1-score: {f1}\")"
   ]
  },
  {
   "cell_type": "code",
   "execution_count": null,
   "id": "hyzDtMNPYOUm",
   "metadata": {
    "colab": {
     "base_uri": "https://localhost:8080/"
    },
    "executionInfo": {
     "elapsed": 323,
     "status": "ok",
     "timestamp": 1732793309695,
     "user": {
      "displayName": "Narmin Aliyeva",
      "userId": "05305446266640033678"
     },
     "user_tz": -240
    },
    "id": "hyzDtMNPYOUm",
    "outputId": "94ce351d-96a4-415c-f708-b4480cfc0205"
   },
   "outputs": [
    {
     "name": "stdout",
     "output_type": "stream",
     "text": [
      "Accuracy: 0.8892226059968964\n",
      "Confusion Matrix:\n",
      "[[17294  1528]\n",
      " [  685   470]]\n"
     ]
    }
   ],
   "source": [
    "# Evaluate model performance using labeled data\n",
    "accuracy = accuracy_score(y_test_final, y_pred)\n",
    "conf_matrix = confusion_matrix(y_test_final, y_pred)\n",
    "\n",
    "print(f\"Accuracy: {accuracy}\")\n",
    "print(\"Confusion Matrix:\")\n",
    "print(conf_matrix)"
   ]
  },
  {
   "cell_type": "code",
   "execution_count": null,
   "id": "QT_gzW40YOZR",
   "metadata": {
    "colab": {
     "base_uri": "https://localhost:8080/",
     "height": 332
    },
    "executionInfo": {
     "elapsed": 429,
     "status": "ok",
     "timestamp": 1732793557199,
     "user": {
      "displayName": "Narmin Aliyeva",
      "userId": "05305446266640033678"
     },
     "user_tz": -240
    },
    "id": "QT_gzW40YOZR",
    "outputId": "cde150a9-0eb4-4de4-845c-f4277b9de3ce"
   },
   "outputs": [
    {
     "data": {
      "image/png": "[encoded data removed]",
      "text/plain": [
       "<Figure size 400x300 with 1 Axes>"
      ]
     },
     "metadata": {},
     "output_type": "display_data"
    }
   ],
   "source": [
    "# Calculate the ROC curve\n",
    "fpr, tpr, thresholds = roc_curve(y_test_final, mse)\n",
    "\n",
    "# Calculate the AUC\n",
    "roc_auc = auc(fpr, tpr)\n",
    "\n",
    "# Plot the ROC Curve\n",
    "plt.figure(figsize=(4, 3))\n",
    "plt.plot(fpr, tpr, color='blue', lw=2, label=f\"ROC Curve (AUC = {roc_auc:.4f})\")\n",
    "plt.plot([0, 1], [0, 1], color='gray', linestyle='--', lw=1)  # Diagonal line\n",
    "plt.xlim([0.0, 1.0])\n",
    "plt.ylim([0.0, 1.05])\n",
    "plt.xlabel('False Positive Rate (FPR)')\n",
    "plt.ylabel('True Positive Rate (TPR)')\n",
    "plt.title('ROC Curve LSTM: SMOTE')\n",
    "plt.legend(loc=\"lower right\")\n",
    "plt.grid()\n",
    "plt.show()"
   ]
  },
  {
   "cell_type": "markdown",
   "id": "3ae67dd2",
   "metadata": {
    "id": "3ae67dd2"
   },
   "source": [
    "## Optimization\n",
    "\n",
    "**Grid** {'batch_size': 256, 'dropout_rate': 0.2, 'learning_rate': 0.001,'units': 64}  \n",
    "**Random** {'batch_size': 128, 'dropout_rate': 0.1, 'learning_rate': 0.001,'units': 64}  \n",
    "**Bayesian** {'units': 128, 'dropout_rate': 0.2, 'learning_rate': 0.00045953089995941953, 'batch_size': 64}  \n",
    "**PSO** {'units_1': 61, 'units_2': 28, 'dropout_rate': 0.26, 'batch_size': 102, 'learning_rate': 0.0001}"
   ]
  },
  {
   "cell_type": "markdown",
   "id": "hQy6UzL3RyS5",
   "metadata": {
    "id": "hQy6UzL3RyS5"
   },
   "source": [
    "### Grid Search"
   ]
  },
  {
   "cell_type": "code",
   "execution_count": null,
   "id": "de4533e4",
   "metadata": {
    "id": "de4533e4"
   },
   "outputs": [],
   "source": [
    "# Define parameter grid\n",
    "param_grid = {\n",
    "    'units': [32, 64],\n",
    "    'dropout_rate': [0.2, 0.5],\n",
    "    'learning_rate': [0.001, 0.0001],\n",
    "    'batch_size': [128, 256]\n",
    "}\n",
    "\n",
    "best_params = None\n",
    "best_loss = float('inf')"
   ]
  },
  {
   "cell_type": "code",
   "execution_count": null,
   "id": "267d550b",
   "metadata": {
    "id": "267d550b"
   },
   "outputs": [],
   "source": [
    "# Iterate over all parameter combinations\n",
    "for params in ParameterGrid(param_grid):\n",
    "    print(f\"Testing parameters: {params}\")\n",
    "\n",
    "    # Build the model\n",
    "    model = Sequential([\n",
    "        LSTM(params['units'], activation='relu', input_shape=(timesteps, X_train.shape[2]), return_sequences=True),\n",
    "        Dropout(params['dropout_rate']),\n",
    "        LSTM(params['units'] // 2, activation='relu', return_sequences=False),\n",
    "        RepeatVector(timesteps),\n",
    "        LSTM(params['units'] // 2, activation='relu', return_sequences=True),\n",
    "        Dropout(params['dropout_rate']),\n",
    "        LSTM(params['units'], activation='relu', return_sequences=True),\n",
    "        TimeDistributed(Dense(X_train.shape[2]))\n",
    "    ])\n",
    "    optimizer = Adam(learning_rate=params['learning_rate'])\n",
    "    model.compile(optimizer=optimizer, loss='mse')\n",
    "\n",
    "    # Train the model\n",
    "    history = model.fit(\n",
    "        X_train, X_train,\n",
    "        epochs=20,  # Fewer epochs for grid search\n",
    "        batch_size=params['batch_size'],\n",
    "        validation_split=0.2,\n",
    "        shuffle=False,\n",
    "        verbose=0\n",
    "    )\n",
    "\n",
    "    # Get validation loss from the last epoch\n",
    "    val_loss = history.history['val_loss'][-1]\n",
    "    print(f\"Validation loss: {val_loss}\")\n",
    "\n",
    "    # Update best parameters\n",
    "    if val_loss < best_loss:\n",
    "        best_loss = val_loss\n",
    "        best_params = params\n",
    "\n",
    "# Print best parameters and loss\n",
    "print(\"Best Parameters:\", best_params)\n",
    "print(\"Best Validation Loss:\", best_loss)"
   ]
  },
  {
   "cell_type": "code",
   "execution_count": null,
   "id": "fc691873",
   "metadata": {
    "id": "fc691873"
   },
   "outputs": [],
   "source": [
    "gs_best_params = {\n",
    "    'batch_size': 256,\n",
    "    'dropout_rate': 0.2,\n",
    "    'learning_rate': 0.001,\n",
    "    'units': 64\n",
    "}"
   ]
  },
  {
   "cell_type": "code",
   "execution_count": null,
   "id": "dac4ba53",
   "metadata": {
    "id": "dac4ba53",
    "outputId": "19342458-0947-479c-c710-bc4b6c035377"
   },
   "outputs": [
    {
     "data": {
      "text/plain": [
       "32"
      ]
     },
     "execution_count": 103,
     "metadata": {},
     "output_type": "execute_result"
    }
   ],
   "source": [
    "gs_best_params['units']//2"
   ]
  },
  {
   "cell_type": "code",
   "execution_count": null,
   "id": "5ce9fa18",
   "metadata": {
    "colab": {
     "base_uri": "https://localhost:8080/",
     "height": 448
    },
    "executionInfo": {
     "elapsed": 441,
     "status": "ok",
     "timestamp": 1732746368909,
     "user": {
      "displayName": "Narmin Aliyeva",
      "userId": "05305446266640033678"
     },
     "user_tz": -240
    },
    "id": "5ce9fa18",
    "outputId": "9f05dc2c-b051-4e75-a1fc-c4094bd8a4b2"
   },
   "outputs": [
    {
     "name": "stderr",
     "output_type": "stream",
     "text": [
      "/usr/local/lib/python3.10/dist-packages/keras/src/layers/rnn/rnn.py:204: UserWarning: Do not pass an `input_shape`/`input_dim` argument to a layer. When using Sequential models, prefer using an `Input(shape)` object as the first layer in the model instead.\n",
      "  super().__init__(**kwargs)\n"
     ]
    },
    {
     "data": {
      "text/html": [
       "<pre style=\"white-space:pre;overflow-x:auto;line-height:normal;font-family:Menlo,'DejaVu Sans Mono',consolas,'Courier New',monospace\"><span style=\"font-weight: bold\">Model: \"sequential_1\"</span>\n",
       "</pre>\n"
      ],
      "text/plain": [
       "\u001b[1mModel: \"sequential_1\"\u001b[0m\n"
      ]
     },
     "metadata": {},
     "output_type": "display_data"
    },
    {
     "data": {
      "text/html": [
       "<pre style=\"white-space:pre;overflow-x:auto;line-height:normal;font-family:Menlo,'DejaVu Sans Mono',consolas,'Courier New',monospace\">┏━━━━━━━━━━━━━━━━━━━━━━━━━━━━━━━━━━━━━━┳━━━━━━━━━━━━━━━━━━━━━━━━━━━━━┳━━━━━━━━━━━━━━━━━┓\n",
       "┃<span style=\"font-weight: bold\"> Layer (type)                         </span>┃<span style=\"font-weight: bold\"> Output Shape                </span>┃<span style=\"font-weight: bold\">         Param # </span>┃\n",
       "┡━━━━━━━━━━━━━━━━━━━━━━━━━━━━━━━━━━━━━━╇━━━━━━━━━━━━━━━━━━━━━━━━━━━━━╇━━━━━━━━━━━━━━━━━┩\n",
       "│ lstm_4 (<span style=\"color: #0087ff; text-decoration-color: #0087ff\">LSTM</span>)                        │ (<span style=\"color: #00d7ff; text-decoration-color: #00d7ff\">None</span>, <span style=\"color: #00af00; text-decoration-color: #00af00\">120</span>, <span style=\"color: #00af00; text-decoration-color: #00af00\">64</span>)             │          <span style=\"color: #00af00; text-decoration-color: #00af00\">21,760</span> │\n",
       "├──────────────────────────────────────┼─────────────────────────────┼─────────────────┤\n",
       "│ lstm_5 (<span style=\"color: #0087ff; text-decoration-color: #0087ff\">LSTM</span>)                        │ (<span style=\"color: #00d7ff; text-decoration-color: #00d7ff\">None</span>, <span style=\"color: #00af00; text-decoration-color: #00af00\">32</span>)                  │          <span style=\"color: #00af00; text-decoration-color: #00af00\">12,416</span> │\n",
       "├──────────────────────────────────────┼─────────────────────────────┼─────────────────┤\n",
       "│ dropout_2 (<span style=\"color: #0087ff; text-decoration-color: #0087ff\">Dropout</span>)                  │ (<span style=\"color: #00d7ff; text-decoration-color: #00d7ff\">None</span>, <span style=\"color: #00af00; text-decoration-color: #00af00\">32</span>)                  │               <span style=\"color: #00af00; text-decoration-color: #00af00\">0</span> │\n",
       "├──────────────────────────────────────┼─────────────────────────────┼─────────────────┤\n",
       "│ repeat_vector_1 (<span style=\"color: #0087ff; text-decoration-color: #0087ff\">RepeatVector</span>)       │ (<span style=\"color: #00d7ff; text-decoration-color: #00d7ff\">None</span>, <span style=\"color: #00af00; text-decoration-color: #00af00\">120</span>, <span style=\"color: #00af00; text-decoration-color: #00af00\">32</span>)             │               <span style=\"color: #00af00; text-decoration-color: #00af00\">0</span> │\n",
       "├──────────────────────────────────────┼─────────────────────────────┼─────────────────┤\n",
       "│ lstm_6 (<span style=\"color: #0087ff; text-decoration-color: #0087ff\">LSTM</span>)                        │ (<span style=\"color: #00d7ff; text-decoration-color: #00d7ff\">None</span>, <span style=\"color: #00af00; text-decoration-color: #00af00\">120</span>, <span style=\"color: #00af00; text-decoration-color: #00af00\">32</span>)             │           <span style=\"color: #00af00; text-decoration-color: #00af00\">8,320</span> │\n",
       "├──────────────────────────────────────┼─────────────────────────────┼─────────────────┤\n",
       "│ lstm_7 (<span style=\"color: #0087ff; text-decoration-color: #0087ff\">LSTM</span>)                        │ (<span style=\"color: #00d7ff; text-decoration-color: #00d7ff\">None</span>, <span style=\"color: #00af00; text-decoration-color: #00af00\">120</span>, <span style=\"color: #00af00; text-decoration-color: #00af00\">64</span>)             │          <span style=\"color: #00af00; text-decoration-color: #00af00\">24,832</span> │\n",
       "├──────────────────────────────────────┼─────────────────────────────┼─────────────────┤\n",
       "│ dropout_3 (<span style=\"color: #0087ff; text-decoration-color: #0087ff\">Dropout</span>)                  │ (<span style=\"color: #00d7ff; text-decoration-color: #00d7ff\">None</span>, <span style=\"color: #00af00; text-decoration-color: #00af00\">120</span>, <span style=\"color: #00af00; text-decoration-color: #00af00\">64</span>)             │               <span style=\"color: #00af00; text-decoration-color: #00af00\">0</span> │\n",
       "├──────────────────────────────────────┼─────────────────────────────┼─────────────────┤\n",
       "│ dense_1 (<span style=\"color: #0087ff; text-decoration-color: #0087ff\">Dense</span>)                      │ (<span style=\"color: #00d7ff; text-decoration-color: #00d7ff\">None</span>, <span style=\"color: #00af00; text-decoration-color: #00af00\">120</span>, <span style=\"color: #00af00; text-decoration-color: #00af00\">1</span>)              │              <span style=\"color: #00af00; text-decoration-color: #00af00\">65</span> │\n",
       "└──────────────────────────────────────┴─────────────────────────────┴─────────────────┘\n",
       "</pre>\n"
      ],
      "text/plain": [
       "┏━━━━━━━━━━━━━━━━━━━━━━━━━━━━━━━━━━━━━━┳━━━━━━━━━━━━━━━━━━━━━━━━━━━━━┳━━━━━━━━━━━━━━━━━┓\n",
       "┃\u001b[1m \u001b[0m\u001b[1mLayer (type)                        \u001b[0m\u001b[1m \u001b[0m┃\u001b[1m \u001b[0m\u001b[1mOutput Shape               \u001b[0m\u001b[1m \u001b[0m┃\u001b[1m \u001b[0m\u001b[1m        Param #\u001b[0m\u001b[1m \u001b[0m┃\n",
       "┡━━━━━━━━━━━━━━━━━━━━━━━━━━━━━━━━━━━━━━╇━━━━━━━━━━━━━━━━━━━━━━━━━━━━━╇━━━━━━━━━━━━━━━━━┩\n",
       "│ lstm_4 (\u001b[38;5;33mLSTM\u001b[0m)                        │ (\u001b[38;5;45mNone\u001b[0m, \u001b[38;5;34m120\u001b[0m, \u001b[38;5;34m64\u001b[0m)             │          \u001b[38;5;34m21,760\u001b[0m │\n",
       "├──────────────────────────────────────┼─────────────────────────────┼─────────────────┤\n",
       "│ lstm_5 (\u001b[38;5;33mLSTM\u001b[0m)                        │ (\u001b[38;5;45mNone\u001b[0m, \u001b[38;5;34m32\u001b[0m)                  │          \u001b[38;5;34m12,416\u001b[0m │\n",
       "├──────────────────────────────────────┼─────────────────────────────┼─────────────────┤\n",
       "│ dropout_2 (\u001b[38;5;33mDropout\u001b[0m)                  │ (\u001b[38;5;45mNone\u001b[0m, \u001b[38;5;34m32\u001b[0m)                  │               \u001b[38;5;34m0\u001b[0m │\n",
       "├──────────────────────────────────────┼─────────────────────────────┼─────────────────┤\n",
       "│ repeat_vector_1 (\u001b[38;5;33mRepeatVector\u001b[0m)       │ (\u001b[38;5;45mNone\u001b[0m, \u001b[38;5;34m120\u001b[0m, \u001b[38;5;34m32\u001b[0m)             │               \u001b[38;5;34m0\u001b[0m │\n",
       "├──────────────────────────────────────┼─────────────────────────────┼─────────────────┤\n",
       "│ lstm_6 (\u001b[38;5;33mLSTM\u001b[0m)                        │ (\u001b[38;5;45mNone\u001b[0m, \u001b[38;5;34m120\u001b[0m, \u001b[38;5;34m32\u001b[0m)             │           \u001b[38;5;34m8,320\u001b[0m │\n",
       "├──────────────────────────────────────┼─────────────────────────────┼─────────────────┤\n",
       "│ lstm_7 (\u001b[38;5;33mLSTM\u001b[0m)                        │ (\u001b[38;5;45mNone\u001b[0m, \u001b[38;5;34m120\u001b[0m, \u001b[38;5;34m64\u001b[0m)             │          \u001b[38;5;34m24,832\u001b[0m │\n",
       "├──────────────────────────────────────┼─────────────────────────────┼─────────────────┤\n",
       "│ dropout_3 (\u001b[38;5;33mDropout\u001b[0m)                  │ (\u001b[38;5;45mNone\u001b[0m, \u001b[38;5;34m120\u001b[0m, \u001b[38;5;34m64\u001b[0m)             │               \u001b[38;5;34m0\u001b[0m │\n",
       "├──────────────────────────────────────┼─────────────────────────────┼─────────────────┤\n",
       "│ dense_1 (\u001b[38;5;33mDense\u001b[0m)                      │ (\u001b[38;5;45mNone\u001b[0m, \u001b[38;5;34m120\u001b[0m, \u001b[38;5;34m1\u001b[0m)              │              \u001b[38;5;34m65\u001b[0m │\n",
       "└──────────────────────────────────────┴─────────────────────────────┴─────────────────┘\n"
      ]
     },
     "metadata": {},
     "output_type": "display_data"
    },
    {
     "data": {
      "text/html": [
       "<pre style=\"white-space:pre;overflow-x:auto;line-height:normal;font-family:Menlo,'DejaVu Sans Mono',consolas,'Courier New',monospace\"><span style=\"font-weight: bold\"> Total params: </span><span style=\"color: #00af00; text-decoration-color: #00af00\">67,393</span> (263.25 KB)\n",
       "</pre>\n"
      ],
      "text/plain": [
       "\u001b[1m Total params: \u001b[0m\u001b[38;5;34m67,393\u001b[0m (263.25 KB)\n"
      ]
     },
     "metadata": {},
     "output_type": "display_data"
    },
    {
     "data": {
      "text/html": [
       "<pre style=\"white-space:pre;overflow-x:auto;line-height:normal;font-family:Menlo,'DejaVu Sans Mono',consolas,'Courier New',monospace\"><span style=\"font-weight: bold\"> Trainable params: </span><span style=\"color: #00af00; text-decoration-color: #00af00\">67,393</span> (263.25 KB)\n",
       "</pre>\n"
      ],
      "text/plain": [
       "\u001b[1m Trainable params: \u001b[0m\u001b[38;5;34m67,393\u001b[0m (263.25 KB)\n"
      ]
     },
     "metadata": {},
     "output_type": "display_data"
    },
    {
     "data": {
      "text/html": [
       "<pre style=\"white-space:pre;overflow-x:auto;line-height:normal;font-family:Menlo,'DejaVu Sans Mono',consolas,'Courier New',monospace\"><span style=\"font-weight: bold\"> Non-trainable params: </span><span style=\"color: #00af00; text-decoration-color: #00af00\">0</span> (0.00 B)\n",
       "</pre>\n"
      ],
      "text/plain": [
       "\u001b[1m Non-trainable params: \u001b[0m\u001b[38;5;34m0\u001b[0m (0.00 B)\n"
      ]
     },
     "metadata": {},
     "output_type": "display_data"
    }
   ],
   "source": [
    "window_size = X_train.shape[1]\n",
    "number_of_features = X_train.shape[2]\n",
    "\n",
    "grid_model = tf.keras.Sequential([\n",
    "    tf.keras.layers.LSTM(64, activation='tanh', return_sequences=True, input_shape=(window_size, number_of_features)),\n",
    "    tf.keras.layers.LSTM(32, activation='tanh', return_sequences=False),\n",
    "    tf.keras.layers.Dropout(rate=0.2),\n",
    "    tf.keras.layers.RepeatVector(window_size),\n",
    "    tf.keras.layers.LSTM(32, activation='tanh', return_sequences=True),\n",
    "    tf.keras.layers.LSTM(64, activation='tanh', return_sequences=True),\n",
    "    tf.keras.layers.Dropout(rate=0.2),\n",
    "    tf.keras.layers.Dense(1)\n",
    "])\n",
    "\n",
    "optimizer = tf.keras.optimizers.Adam(learning_rate=0.001, clipvalue=1.0)\n",
    "grid_model.compile(optimizer=optimizer, loss='mse')\n",
    "grid_model.summary()\n"
   ]
  },
  {
   "cell_type": "code",
   "execution_count": null,
   "id": "e398d5e8",
   "metadata": {
    "colab": {
     "base_uri": "https://localhost:8080/"
    },
    "collapsed": true,
    "executionInfo": {
     "elapsed": 9806261,
     "status": "ok",
     "timestamp": 1732756240666,
     "user": {
      "displayName": "Narmin Aliyeva",
      "userId": "05305446266640033678"
     },
     "user_tz": -240
    },
    "id": "e398d5e8",
    "outputId": "22c5d1e4-9803-40c0-d974-e428c1c469eb"
   },
   "outputs": [
    {
     "name": "stdout",
     "output_type": "stream",
     "text": [
      "Epoch 1/50\n",
      "\u001b[1m281/281\u001b[0m \u001b[32m━━━━━━━━━━━━━━━━━━━━\u001b[0m\u001b[37m\u001b[0m \u001b[1m248s\u001b[0m 866ms/step - loss: 0.0563 - val_loss: 0.0544\n",
      "Epoch 2/50\n",
      "\u001b[1m281/281\u001b[0m \u001b[32m━━━━━━━━━━━━━━━━━━━━\u001b[0m\u001b[37m\u001b[0m \u001b[1m258s\u001b[0m 851ms/step - loss: 0.0548 - val_loss: 0.0543\n",
      "Epoch 3/50\n",
      "\u001b[1m281/281\u001b[0m \u001b[32m━━━━━━━━━━━━━━━━━━━━\u001b[0m\u001b[37m\u001b[0m \u001b[1m254s\u001b[0m 822ms/step - loss: 0.0545 - val_loss: 0.0542\n",
      "Epoch 4/50\n",
      "\u001b[1m281/281\u001b[0m \u001b[32m━━━━━━━━━━━━━━━━━━━━\u001b[0m\u001b[37m\u001b[0m \u001b[1m266s\u001b[0m 838ms/step - loss: 0.0546 - val_loss: 0.0542\n",
      "Epoch 5/50\n",
      "\u001b[1m281/281\u001b[0m \u001b[32m━━━━━━━━━━━━━━━━━━━━\u001b[0m\u001b[37m\u001b[0m \u001b[1m277s\u001b[0m 889ms/step - loss: 0.0547 - val_loss: 0.0542\n",
      "Epoch 6/50\n",
      "\u001b[1m281/281\u001b[0m \u001b[32m━━━━━━━━━━━━━━━━━━━━\u001b[0m\u001b[37m\u001b[0m \u001b[1m304s\u001b[0m 1s/step - loss: 0.0544 - val_loss: 0.0542\n",
      "Epoch 7/50\n",
      "\u001b[1m281/281\u001b[0m \u001b[32m━━━━━━━━━━━━━━━━━━━━\u001b[0m\u001b[37m\u001b[0m \u001b[1m284s\u001b[0m 1s/step - loss: 0.0545 - val_loss: 0.0540\n",
      "Epoch 8/50\n",
      "\u001b[1m281/281\u001b[0m \u001b[32m━━━━━━━━━━━━━━━━━━━━\u001b[0m\u001b[37m\u001b[0m \u001b[1m312s\u001b[0m 977ms/step - loss: 0.0543 - val_loss: 0.0540\n",
      "Epoch 9/50\n",
      "\u001b[1m281/281\u001b[0m \u001b[32m━━━━━━━━━━━━━━━━━━━━\u001b[0m\u001b[37m\u001b[0m \u001b[1m318s\u001b[0m 964ms/step - loss: 0.0543 - val_loss: 0.0539\n",
      "Epoch 10/50\n",
      "\u001b[1m281/281\u001b[0m \u001b[32m━━━━━━━━━━━━━━━━━━━━\u001b[0m\u001b[37m\u001b[0m \u001b[1m309s\u001b[0m 919ms/step - loss: 0.0541 - val_loss: 0.0537\n",
      "Epoch 11/50\n",
      "\u001b[1m281/281\u001b[0m \u001b[32m━━━━━━━━━━━━━━━━━━━━\u001b[0m\u001b[37m\u001b[0m \u001b[1m258s\u001b[0m 906ms/step - loss: 0.0540 - val_loss: 0.0534\n",
      "Epoch 12/50\n",
      "\u001b[1m281/281\u001b[0m \u001b[32m━━━━━━━━━━━━━━━━━━━━\u001b[0m\u001b[37m\u001b[0m \u001b[1m248s\u001b[0m 882ms/step - loss: 0.0538 - val_loss: 0.0532\n",
      "Epoch 13/50\n",
      "\u001b[1m281/281\u001b[0m \u001b[32m━━━━━━━━━━━━━━━━━━━━\u001b[0m\u001b[37m\u001b[0m \u001b[1m264s\u001b[0m 890ms/step - loss: 0.0535 - val_loss: 0.0527\n",
      "Epoch 14/50\n",
      "\u001b[1m281/281\u001b[0m \u001b[32m━━━━━━━━━━━━━━━━━━━━\u001b[0m\u001b[37m\u001b[0m \u001b[1m257s\u001b[0m 917ms/step - loss: 0.0531 - val_loss: 0.0525\n",
      "Epoch 15/50\n",
      "\u001b[1m281/281\u001b[0m \u001b[32m━━━━━━━━━━━━━━━━━━━━\u001b[0m\u001b[37m\u001b[0m \u001b[1m257s\u001b[0m 899ms/step - loss: 0.0528 - val_loss: 0.0519\n",
      "Epoch 16/50\n",
      "\u001b[1m281/281\u001b[0m \u001b[32m━━━━━━━━━━━━━━━━━━━━\u001b[0m\u001b[37m\u001b[0m \u001b[1m248s\u001b[0m 884ms/step - loss: 0.0524 - val_loss: 0.0517\n",
      "Epoch 17/50\n",
      "\u001b[1m281/281\u001b[0m \u001b[32m━━━━━━━━━━━━━━━━━━━━\u001b[0m\u001b[37m\u001b[0m \u001b[1m247s\u001b[0m 878ms/step - loss: 0.0521 - val_loss: 0.0509\n",
      "Epoch 18/50\n",
      "\u001b[1m281/281\u001b[0m \u001b[32m━━━━━━━━━━━━━━━━━━━━\u001b[0m\u001b[37m\u001b[0m \u001b[1m250s\u001b[0m 837ms/step - loss: 0.0521 - val_loss: 0.0508\n",
      "Epoch 19/50\n",
      "\u001b[1m281/281\u001b[0m \u001b[32m━━━━━━━━━━━━━━━━━━━━\u001b[0m\u001b[37m\u001b[0m \u001b[1m259s\u001b[0m 828ms/step - loss: 0.0518 - val_loss: 0.0508\n",
      "Epoch 20/50\n",
      "\u001b[1m281/281\u001b[0m \u001b[32m━━━━━━━━━━━━━━━━━━━━\u001b[0m\u001b[37m\u001b[0m \u001b[1m267s\u001b[0m 847ms/step - loss: 0.0515 - val_loss: 0.0502\n",
      "Epoch 21/50\n",
      "\u001b[1m281/281\u001b[0m \u001b[32m━━━━━━━━━━━━━━━━━━━━\u001b[0m\u001b[37m\u001b[0m \u001b[1m254s\u001b[0m 819ms/step - loss: 0.0514 - val_loss: 0.0502\n",
      "Epoch 22/50\n",
      "\u001b[1m281/281\u001b[0m \u001b[32m━━━━━━━━━━━━━━━━━━━━\u001b[0m\u001b[37m\u001b[0m \u001b[1m261s\u001b[0m 816ms/step - loss: 0.0512 - val_loss: 0.0495\n",
      "Epoch 23/50\n",
      "\u001b[1m281/281\u001b[0m \u001b[32m━━━━━━━━━━━━━━━━━━━━\u001b[0m\u001b[37m\u001b[0m \u001b[1m258s\u001b[0m 804ms/step - loss: 0.0509 - val_loss: 0.0495\n",
      "Epoch 24/50\n",
      "\u001b[1m281/281\u001b[0m \u001b[32m━━━━━━━━━━━━━━━━━━━━\u001b[0m\u001b[37m\u001b[0m \u001b[1m264s\u001b[0m 809ms/step - loss: 0.0509 - val_loss: 0.0491\n",
      "Epoch 25/50\n",
      "\u001b[1m281/281\u001b[0m \u001b[32m━━━━━━━━━━━━━━━━━━━━\u001b[0m\u001b[37m\u001b[0m \u001b[1m266s\u001b[0m 822ms/step - loss: 0.0508 - val_loss: 0.0491\n",
      "Epoch 26/50\n",
      "\u001b[1m281/281\u001b[0m \u001b[32m━━━━━━━━━━━━━━━━━━━━\u001b[0m\u001b[37m\u001b[0m \u001b[1m260s\u001b[0m 814ms/step - loss: 0.0507 - val_loss: 0.0493\n",
      "Epoch 27/50\n",
      "\u001b[1m281/281\u001b[0m \u001b[32m━━━━━━━━━━━━━━━━━━━━\u001b[0m\u001b[37m\u001b[0m \u001b[1m263s\u001b[0m 816ms/step - loss: 0.0504 - val_loss: 0.0485\n",
      "Epoch 28/50\n",
      "\u001b[1m281/281\u001b[0m \u001b[32m━━━━━━━━━━━━━━━━━━━━\u001b[0m\u001b[37m\u001b[0m \u001b[1m267s\u001b[0m 831ms/step - loss: 0.0504 - val_loss: 0.0480\n",
      "Epoch 29/50\n",
      "\u001b[1m281/281\u001b[0m \u001b[32m━━━━━━━━━━━━━━━━━━━━\u001b[0m\u001b[37m\u001b[0m \u001b[1m259s\u001b[0m 821ms/step - loss: 0.0503 - val_loss: 0.0492\n",
      "Epoch 30/50\n",
      "\u001b[1m281/281\u001b[0m \u001b[32m━━━━━━━━━━━━━━━━━━━━\u001b[0m\u001b[37m\u001b[0m \u001b[1m259s\u001b[0m 813ms/step - loss: 0.0504 - val_loss: 0.0484\n",
      "Epoch 31/50\n",
      "\u001b[1m281/281\u001b[0m \u001b[32m━━━━━━━━━━━━━━━━━━━━\u001b[0m\u001b[37m\u001b[0m \u001b[1m264s\u001b[0m 818ms/step - loss: 0.0503 - val_loss: 0.0515\n",
      "Epoch 32/50\n",
      "\u001b[1m281/281\u001b[0m \u001b[32m━━━━━━━━━━━━━━━━━━━━\u001b[0m\u001b[37m\u001b[0m \u001b[1m263s\u001b[0m 824ms/step - loss: 0.0508 - val_loss: 0.0477\n",
      "Epoch 33/50\n",
      "\u001b[1m281/281\u001b[0m \u001b[32m━━━━━━━━━━━━━━━━━━━━\u001b[0m\u001b[37m\u001b[0m \u001b[1m230s\u001b[0m 816ms/step - loss: 0.0503 - val_loss: 0.0542\n",
      "Epoch 34/50\n",
      "\u001b[1m281/281\u001b[0m \u001b[32m━━━━━━━━━━━━━━━━━━━━\u001b[0m\u001b[37m\u001b[0m \u001b[1m297s\u001b[0m 943ms/step - loss: 0.0543 - val_loss: 0.0531\n",
      "Epoch 35/50\n",
      "\u001b[1m281/281\u001b[0m \u001b[32m━━━━━━━━━━━━━━━━━━━━\u001b[0m\u001b[37m\u001b[0m \u001b[1m225s\u001b[0m 801ms/step - loss: 0.0533 - val_loss: 0.0523\n",
      "Epoch 36/50\n",
      "\u001b[1m281/281\u001b[0m \u001b[32m━━━━━━━━━━━━━━━━━━━━\u001b[0m\u001b[37m\u001b[0m \u001b[1m264s\u001b[0m 807ms/step - loss: 0.0530 - val_loss: 0.0513\n",
      "Epoch 37/50\n",
      "\u001b[1m281/281\u001b[0m \u001b[32m━━━━━━━━━━━━━━━━━━━━\u001b[0m\u001b[37m\u001b[0m \u001b[1m230s\u001b[0m 817ms/step - loss: 0.0522 - val_loss: 0.0507\n"
     ]
    }
   ],
   "source": [
    "# Train the model\n",
    "history = grid_model.fit(X_train, y_train, epochs=50, batch_size=256, validation_split=0.1,\n",
    "                    callbacks=[tf.keras.callbacks.EarlyStopping(monitor='val_loss', patience=5, restore_best_weights=True)], verbose=1)"
   ]
  },
  {
   "cell_type": "code",
   "execution_count": null,
   "id": "YNuU4lbuvei1",
   "metadata": {
    "id": "YNuU4lbuvei1"
   },
   "outputs": [],
   "source": [
    "grid_model.save('/content/drive/My Drive/thesis/lstm_grid.keras')"
   ]
  },
  {
   "cell_type": "code",
   "execution_count": null,
   "id": "90aeHvddOwuj",
   "metadata": {
    "id": "90aeHvddOwuj"
   },
   "outputs": [],
   "source": [
    "from tensorflow.keras.models import load_model\n",
    "\n",
    "lstm_grid = load_model(r'/content/drive/My Drive/thesis/lstm_grid.keras')"
   ]
  },
  {
   "cell_type": "code",
   "execution_count": null,
   "id": "f96b5898",
   "metadata": {
    "id": "f96b5898",
    "outputId": "c4b014f4-9e6e-43de-ffc3-901636749619"
   },
   "outputs": [
    {
     "data": {
      "text/plain": [
       "191769600"
      ]
     },
     "execution_count": 156,
     "metadata": {},
     "output_type": "execute_result"
    }
   ],
   "source": [
    "X_train.size"
   ]
  },
  {
   "cell_type": "code",
   "execution_count": null,
   "id": "e01906d8",
   "metadata": {
    "colab": {
     "base_uri": "https://localhost:8080/"
    },
    "executionInfo": {
     "elapsed": 83454,
     "status": "ok",
     "timestamp": 1732788433436,
     "user": {
      "displayName": "Narmin Aliyeva",
      "userId": "05305446266640033678"
     },
     "user_tz": -240
    },
    "id": "e01906d8",
    "outputId": "43cc9e01-0800-4065-9d34-e1214b729834"
   },
   "outputs": [
    {
     "name": "stdout",
     "output_type": "stream",
     "text": [
      "\u001b[1m625/625\u001b[0m \u001b[32m━━━━━━━━━━━━━━━━━━━━\u001b[0m\u001b[37m\u001b[0m \u001b[1m56s\u001b[0m 82ms/step\n"
     ]
    }
   ],
   "source": [
    "y_pred = lstm_grid.predict(X_test)"
   ]
  },
  {
   "cell_type": "code",
   "execution_count": null,
   "id": "1e3e5966",
   "metadata": {
    "colab": {
     "base_uri": "https://localhost:8080/"
    },
    "executionInfo": {
     "elapsed": 264,
     "status": "ok",
     "timestamp": 1732788438387,
     "user": {
      "displayName": "Narmin Aliyeva",
      "userId": "05305446266640033678"
     },
     "user_tz": -240
    },
    "id": "1e3e5966",
    "outputId": "2301e833-f2a0-4681-d2c2-a4aeae94cd26"
   },
   "outputs": [
    {
     "name": "stdout",
     "output_type": "stream",
     "text": [
      "(19977, 1)\n",
      "(19977, 1)\n"
     ]
    }
   ],
   "source": [
    "y_test_final = y_test[:,0,:]\n",
    "y_pred_final = y_pred[:,0,:]\n",
    "print(y_pred_final.shape)\n",
    "\n",
    "print(y_test_final.shape)"
   ]
  },
  {
   "cell_type": "code",
   "execution_count": null,
   "id": "bab28853",
   "metadata": {
    "colab": {
     "base_uri": "https://localhost:8080/"
    },
    "executionInfo": {
     "elapsed": 333,
     "status": "ok",
     "timestamp": 1732788795079,
     "user": {
      "displayName": "Narmin Aliyeva",
      "userId": "05305446266640033678"
     },
     "user_tz": -240
    },
    "id": "bab28853",
    "outputId": "98cdcffb-676f-46dc-8bd8-a45e39fe53be"
   },
   "outputs": [
    {
     "data": {
      "text/plain": [
       "0.004435674702330284"
      ]
     },
     "execution_count": 28,
     "metadata": {},
     "output_type": "execute_result"
    }
   ],
   "source": [
    "mse = np.mean(np.power(y_test_final - y_pred_final, 2), axis=1)\n",
    "\n",
    "# Set a threshold for identifying anomalies\n",
    "threshold = np.percentile(mse, 93)\n",
    "threshold"
   ]
  },
  {
   "cell_type": "code",
   "execution_count": null,
   "id": "6681cab5",
   "metadata": {
    "colab": {
     "base_uri": "https://localhost:8080/"
    },
    "executionInfo": {
     "elapsed": 233,
     "status": "ok",
     "timestamp": 1732788796180,
     "user": {
      "displayName": "Narmin Aliyeva",
      "userId": "05305446266640033678"
     },
     "user_tz": -240
    },
    "id": "6681cab5",
    "outputId": "5cb03503-277d-461c-a126-bf507a8ddcf9"
   },
   "outputs": [
    {
     "name": "stdout",
     "output_type": "stream",
     "text": [
      "Precision: 0.825589706933524\n",
      "Recall: 1.0\n",
      "F1-score: 0.9044635865309318\n"
     ]
    }
   ],
   "source": [
    "# Classify data points as normal (0) or anomaly (1) based on the threshold\n",
    "y_pred = (mse > threshold).astype(int)\n",
    "\n",
    "precision = precision_score(y_test_final, y_pred)\n",
    "recall = recall_score(y_test_final, y_pred)\n",
    "f1 = f1_score(y_test_final, y_pred)\n",
    "\n",
    "# Print all evaluation metrics\n",
    "print(f\"Precision: {precision}\")\n",
    "print(f\"Recall: {recall}\")\n",
    "print(f\"F1-score: {f1}\")"
   ]
  },
  {
   "cell_type": "code",
   "execution_count": null,
   "id": "8c0b0fff",
   "metadata": {
    "colab": {
     "base_uri": "https://localhost:8080/"
    },
    "executionInfo": {
     "elapsed": 231,
     "status": "ok",
     "timestamp": 1732788804552,
     "user": {
      "displayName": "Narmin Aliyeva",
      "userId": "05305446266640033678"
     },
     "user_tz": -240
    },
    "id": "8c0b0fff",
    "outputId": "d655c197-3a0b-4692-c408-f2e2cdb8cd9e"
   },
   "outputs": [
    {
     "name": "stdout",
     "output_type": "stream",
     "text": [
      "Accuracy: 0.9877859538469239\n",
      "Confusion Matrix:\n",
      "[[18578   244]\n",
      " [    0  1155]]\n"
     ]
    }
   ],
   "source": [
    "# Evaluate model performance using labeled data\n",
    "accuracy = accuracy_score(y_test_final, y_pred)\n",
    "conf_matrix = confusion_matrix(y_test_final, y_pred)\n",
    "\n",
    "print(f\"Accuracy: {accuracy}\")\n",
    "print(\"Confusion Matrix:\")\n",
    "print(conf_matrix)"
   ]
  },
  {
   "cell_type": "code",
   "execution_count": null,
   "id": "244e1cb8",
   "metadata": {
    "colab": {
     "base_uri": "https://localhost:8080/",
     "height": 332
    },
    "executionInfo": {
     "elapsed": 664,
     "status": "ok",
     "timestamp": 1732788806994,
     "user": {
      "displayName": "Narmin Aliyeva",
      "userId": "05305446266640033678"
     },
     "user_tz": -240
    },
    "id": "244e1cb8",
    "outputId": "d675359c-9421-4d1f-e3d9-746ce1f2dc66"
   },
   "outputs": [
    {
     "data": {
      "image/png": "[encoded data removed]",
      "text/plain": [
       "<Figure size 400x300 with 1 Axes>"
      ]
     },
     "metadata": {},
     "output_type": "display_data"
    }
   ],
   "source": [
    "# Calculate the ROC curve\n",
    "fpr, tpr, thresholds = roc_curve(y_test_final, mse)\n",
    "\n",
    "# Calculate the AUC\n",
    "roc_auc = auc(fpr, tpr)\n",
    "\n",
    "# Plot the ROC Curve\n",
    "plt.figure(figsize=(4, 3))\n",
    "plt.plot(fpr, tpr, color='blue', lw=2, label=f\"ROC Curve (AUC = {roc_auc:.4f})\")\n",
    "plt.plot([0, 1], [0, 1], color='gray', linestyle='--', lw=1)  # Diagonal line\n",
    "plt.xlim([0.0, 1.0])\n",
    "plt.ylim([0.0, 1.05])\n",
    "plt.xlabel('False Positive Rate (FPR)')\n",
    "plt.ylabel('True Positive Rate (TPR)')\n",
    "plt.title('ROC Curve')\n",
    "plt.legend(loc=\"lower right\")\n",
    "plt.grid()\n",
    "plt.show()"
   ]
  },
  {
   "cell_type": "markdown",
   "id": "e9334aa7",
   "metadata": {
    "id": "e9334aa7"
   },
   "source": [
    "### Random Search"
   ]
  },
  {
   "cell_type": "code",
   "execution_count": null,
   "id": "00351f97",
   "metadata": {
    "id": "00351f97"
   },
   "outputs": [],
   "source": [
    "# Define parameter ranges\n",
    "param_dist = {\n",
    "    'units': [32, 64, 128],\n",
    "    'dropout_rate': [0.1, 0.2, 0.5],\n",
    "    'learning_rate': [0.001, 0.0001, 0.00001],\n",
    "    'batch_size': [64, 128, 256]\n",
    "}"
   ]
  },
  {
   "cell_type": "code",
   "execution_count": null,
   "id": "9a57aa76",
   "metadata": {
    "id": "9a57aa76"
   },
   "outputs": [],
   "source": [
    "n_iter = 10  # Number of random combinations to try\n",
    "best_params = None\n",
    "best_loss = float('inf')"
   ]
  },
  {
   "cell_type": "code",
   "execution_count": null,
   "id": "8ffea991",
   "metadata": {
    "id": "8ffea991"
   },
   "outputs": [],
   "source": [
    "for _ in range(n_iter):\n",
    "    params = {key: random.choice(values) for key, values in param_dist.items()}\n",
    "    print(f\"Testing parameters: {params}\")\n",
    "\n",
    "    # Build and train the model\n",
    "    model = Sequential([\n",
    "        LSTM(params['units'], activation='relu', input_shape=(timesteps, X_train.shape[2]), return_sequences=True),\n",
    "        Dropout(params['dropout_rate']),\n",
    "        LSTM(params['units'] // 2, activation='relu', return_sequences=False),\n",
    "        RepeatVector(timesteps),\n",
    "        LSTM(params['units'] // 2, activation='relu', return_sequences=True),\n",
    "        Dropout(params['dropout_rate']),\n",
    "        LSTM(params['units'], activation='relu', return_sequences=True),\n",
    "        TimeDistributed(Dense(X_train.shape[2]))\n",
    "    ])\n",
    "    optimizer = Adam(learning_rate=params['learning_rate'])\n",
    "    model.compile(optimizer=optimizer, loss='mse')\n",
    "\n",
    "    history = model.fit(\n",
    "        X_train, X_train,\n",
    "        epochs=20,  # Fewer epochs for random search\n",
    "        batch_size=params['batch_size'],\n",
    "        validation_split=0.2,\n",
    "        shuffle=False,\n",
    "        verbose=0\n",
    "    )\n",
    "\n",
    "    val_loss = history.history['val_loss'][-1]\n",
    "    print(f\"Validation loss: {val_loss}\")\n",
    "\n",
    "    if val_loss < best_loss:\n",
    "        best_loss = val_loss\n",
    "        best_params = params\n",
    "\n",
    "print(\"Best Parameters:\", best_params)\n",
    "print(\"Best Validation Loss:\", best_loss)"
   ]
  },
  {
   "cell_type": "code",
   "execution_count": null,
   "id": "f6e0e5e3",
   "metadata": {
    "id": "f6e0e5e3"
   },
   "outputs": [],
   "source": [
    "rs_best_params = {\n",
    "    'batch_size': 128,\n",
    "    'dropout_rate': 0.1,\n",
    "    'learning_rate': 0.001,\n",
    "    'units': 64\n",
    "}"
   ]
  },
  {
   "cell_type": "code",
   "execution_count": null,
   "id": "a66ea258",
   "metadata": {
    "id": "a66ea258",
    "outputId": "0265e9ec-911b-4296-c3cb-fa85e880bf3b"
   },
   "outputs": [
    {
     "name": "stderr",
     "output_type": "stream",
     "text": [
      "C:\\Users\\Asus\\anaconda3\\Lib\\site-packages\\keras\\src\\layers\\rnn\\rnn.py:204: UserWarning: Do not pass an `input_shape`/`input_dim` argument to a layer. When using Sequential models, prefer using an `Input(shape)` object as the first layer in the model instead.\n",
      "  super().__init__(**kwargs)\n"
     ]
    },
    {
     "data": {
      "text/html": [
       "<pre style=\"white-space:pre;overflow-x:auto;line-height:normal;font-family:Menlo,'DejaVu Sans Mono',consolas,'Courier New',monospace\"><span style=\"font-weight: bold\">Model: \"sequential_7\"</span>\n",
       "</pre>\n"
      ],
      "text/plain": [
       "\u001b[1mModel: \"sequential_7\"\u001b[0m\n"
      ]
     },
     "metadata": {},
     "output_type": "display_data"
    },
    {
     "data": {
      "text/html": [
       "<pre style=\"white-space:pre;overflow-x:auto;line-height:normal;font-family:Menlo,'DejaVu Sans Mono',consolas,'Courier New',monospace\">┏━━━━━━━━━━━━━━━━━━━━━━━━━━━━━━━━━┳━━━━━━━━━━━━━━━━━━━━━━━━┳━━━━━━━━━━━━━━━┓\n",
       "┃<span style=\"font-weight: bold\"> Layer (type)                    </span>┃<span style=\"font-weight: bold\"> Output Shape           </span>┃<span style=\"font-weight: bold\">       Param # </span>┃\n",
       "┡━━━━━━━━━━━━━━━━━━━━━━━━━━━━━━━━━╇━━━━━━━━━━━━━━━━━━━━━━━━╇━━━━━━━━━━━━━━━┩\n",
       "│ lstm_28 (<span style=\"color: #0087ff; text-decoration-color: #0087ff\">LSTM</span>)                  │ (<span style=\"color: #00d7ff; text-decoration-color: #00d7ff\">None</span>, <span style=\"color: #00af00; text-decoration-color: #00af00\">120</span>, <span style=\"color: #00af00; text-decoration-color: #00af00\">64</span>)        │        <span style=\"color: #00af00; text-decoration-color: #00af00\">21,760</span> │\n",
       "├─────────────────────────────────┼────────────────────────┼───────────────┤\n",
       "│ lstm_29 (<span style=\"color: #0087ff; text-decoration-color: #0087ff\">LSTM</span>)                  │ (<span style=\"color: #00d7ff; text-decoration-color: #00d7ff\">None</span>, <span style=\"color: #00af00; text-decoration-color: #00af00\">32</span>)             │        <span style=\"color: #00af00; text-decoration-color: #00af00\">12,416</span> │\n",
       "├─────────────────────────────────┼────────────────────────┼───────────────┤\n",
       "│ dropout_10 (<span style=\"color: #0087ff; text-decoration-color: #0087ff\">Dropout</span>)            │ (<span style=\"color: #00d7ff; text-decoration-color: #00d7ff\">None</span>, <span style=\"color: #00af00; text-decoration-color: #00af00\">32</span>)             │             <span style=\"color: #00af00; text-decoration-color: #00af00\">0</span> │\n",
       "├─────────────────────────────────┼────────────────────────┼───────────────┤\n",
       "│ repeat_vector_7 (<span style=\"color: #0087ff; text-decoration-color: #0087ff\">RepeatVector</span>)  │ (<span style=\"color: #00d7ff; text-decoration-color: #00d7ff\">None</span>, <span style=\"color: #00af00; text-decoration-color: #00af00\">120</span>, <span style=\"color: #00af00; text-decoration-color: #00af00\">32</span>)        │             <span style=\"color: #00af00; text-decoration-color: #00af00\">0</span> │\n",
       "├─────────────────────────────────┼────────────────────────┼───────────────┤\n",
       "│ lstm_30 (<span style=\"color: #0087ff; text-decoration-color: #0087ff\">LSTM</span>)                  │ (<span style=\"color: #00d7ff; text-decoration-color: #00d7ff\">None</span>, <span style=\"color: #00af00; text-decoration-color: #00af00\">120</span>, <span style=\"color: #00af00; text-decoration-color: #00af00\">32</span>)        │         <span style=\"color: #00af00; text-decoration-color: #00af00\">8,320</span> │\n",
       "├─────────────────────────────────┼────────────────────────┼───────────────┤\n",
       "│ lstm_31 (<span style=\"color: #0087ff; text-decoration-color: #0087ff\">LSTM</span>)                  │ (<span style=\"color: #00d7ff; text-decoration-color: #00d7ff\">None</span>, <span style=\"color: #00af00; text-decoration-color: #00af00\">120</span>, <span style=\"color: #00af00; text-decoration-color: #00af00\">64</span>)        │        <span style=\"color: #00af00; text-decoration-color: #00af00\">24,832</span> │\n",
       "├─────────────────────────────────┼────────────────────────┼───────────────┤\n",
       "│ dropout_11 (<span style=\"color: #0087ff; text-decoration-color: #0087ff\">Dropout</span>)            │ (<span style=\"color: #00d7ff; text-decoration-color: #00d7ff\">None</span>, <span style=\"color: #00af00; text-decoration-color: #00af00\">120</span>, <span style=\"color: #00af00; text-decoration-color: #00af00\">64</span>)        │             <span style=\"color: #00af00; text-decoration-color: #00af00\">0</span> │\n",
       "├─────────────────────────────────┼────────────────────────┼───────────────┤\n",
       "│ dense_7 (<span style=\"color: #0087ff; text-decoration-color: #0087ff\">Dense</span>)                 │ (<span style=\"color: #00d7ff; text-decoration-color: #00d7ff\">None</span>, <span style=\"color: #00af00; text-decoration-color: #00af00\">120</span>, <span style=\"color: #00af00; text-decoration-color: #00af00\">1</span>)         │            <span style=\"color: #00af00; text-decoration-color: #00af00\">65</span> │\n",
       "└─────────────────────────────────┴────────────────────────┴───────────────┘\n",
       "</pre>\n"
      ],
      "text/plain": [
       "┏━━━━━━━━━━━━━━━━━━━━━━━━━━━━━━━━━┳━━━━━━━━━━━━━━━━━━━━━━━━┳━━━━━━━━━━━━━━━┓\n",
       "┃\u001b[1m \u001b[0m\u001b[1mLayer (type)                   \u001b[0m\u001b[1m \u001b[0m┃\u001b[1m \u001b[0m\u001b[1mOutput Shape          \u001b[0m\u001b[1m \u001b[0m┃\u001b[1m \u001b[0m\u001b[1m      Param #\u001b[0m\u001b[1m \u001b[0m┃\n",
       "┡━━━━━━━━━━━━━━━━━━━━━━━━━━━━━━━━━╇━━━━━━━━━━━━━━━━━━━━━━━━╇━━━━━━━━━━━━━━━┩\n",
       "│ lstm_28 (\u001b[38;5;33mLSTM\u001b[0m)                  │ (\u001b[38;5;45mNone\u001b[0m, \u001b[38;5;34m120\u001b[0m, \u001b[38;5;34m64\u001b[0m)        │        \u001b[38;5;34m21,760\u001b[0m │\n",
       "├─────────────────────────────────┼────────────────────────┼───────────────┤\n",
       "│ lstm_29 (\u001b[38;5;33mLSTM\u001b[0m)                  │ (\u001b[38;5;45mNone\u001b[0m, \u001b[38;5;34m32\u001b[0m)             │        \u001b[38;5;34m12,416\u001b[0m │\n",
       "├─────────────────────────────────┼────────────────────────┼───────────────┤\n",
       "│ dropout_10 (\u001b[38;5;33mDropout\u001b[0m)            │ (\u001b[38;5;45mNone\u001b[0m, \u001b[38;5;34m32\u001b[0m)             │             \u001b[38;5;34m0\u001b[0m │\n",
       "├─────────────────────────────────┼────────────────────────┼───────────────┤\n",
       "│ repeat_vector_7 (\u001b[38;5;33mRepeatVector\u001b[0m)  │ (\u001b[38;5;45mNone\u001b[0m, \u001b[38;5;34m120\u001b[0m, \u001b[38;5;34m32\u001b[0m)        │             \u001b[38;5;34m0\u001b[0m │\n",
       "├─────────────────────────────────┼────────────────────────┼───────────────┤\n",
       "│ lstm_30 (\u001b[38;5;33mLSTM\u001b[0m)                  │ (\u001b[38;5;45mNone\u001b[0m, \u001b[38;5;34m120\u001b[0m, \u001b[38;5;34m32\u001b[0m)        │         \u001b[38;5;34m8,320\u001b[0m │\n",
       "├─────────────────────────────────┼────────────────────────┼───────────────┤\n",
       "│ lstm_31 (\u001b[38;5;33mLSTM\u001b[0m)                  │ (\u001b[38;5;45mNone\u001b[0m, \u001b[38;5;34m120\u001b[0m, \u001b[38;5;34m64\u001b[0m)        │        \u001b[38;5;34m24,832\u001b[0m │\n",
       "├─────────────────────────────────┼────────────────────────┼───────────────┤\n",
       "│ dropout_11 (\u001b[38;5;33mDropout\u001b[0m)            │ (\u001b[38;5;45mNone\u001b[0m, \u001b[38;5;34m120\u001b[0m, \u001b[38;5;34m64\u001b[0m)        │             \u001b[38;5;34m0\u001b[0m │\n",
       "├─────────────────────────────────┼────────────────────────┼───────────────┤\n",
       "│ dense_7 (\u001b[38;5;33mDense\u001b[0m)                 │ (\u001b[38;5;45mNone\u001b[0m, \u001b[38;5;34m120\u001b[0m, \u001b[38;5;34m1\u001b[0m)         │            \u001b[38;5;34m65\u001b[0m │\n",
       "└─────────────────────────────────┴────────────────────────┴───────────────┘\n"
      ]
     },
     "metadata": {},
     "output_type": "display_data"
    },
    {
     "data": {
      "text/html": [
       "<pre style=\"white-space:pre;overflow-x:auto;line-height:normal;font-family:Menlo,'DejaVu Sans Mono',consolas,'Courier New',monospace\"><span style=\"font-weight: bold\"> Total params: </span><span style=\"color: #00af00; text-decoration-color: #00af00\">67,393</span> (263.25 KB)\n",
       "</pre>\n"
      ],
      "text/plain": [
       "\u001b[1m Total params: \u001b[0m\u001b[38;5;34m67,393\u001b[0m (263.25 KB)\n"
      ]
     },
     "metadata": {},
     "output_type": "display_data"
    },
    {
     "data": {
      "text/html": [
       "<pre style=\"white-space:pre;overflow-x:auto;line-height:normal;font-family:Menlo,'DejaVu Sans Mono',consolas,'Courier New',monospace\"><span style=\"font-weight: bold\"> Trainable params: </span><span style=\"color: #00af00; text-decoration-color: #00af00\">67,393</span> (263.25 KB)\n",
       "</pre>\n"
      ],
      "text/plain": [
       "\u001b[1m Trainable params: \u001b[0m\u001b[38;5;34m67,393\u001b[0m (263.25 KB)\n"
      ]
     },
     "metadata": {},
     "output_type": "display_data"
    },
    {
     "data": {
      "text/html": [
       "<pre style=\"white-space:pre;overflow-x:auto;line-height:normal;font-family:Menlo,'DejaVu Sans Mono',consolas,'Courier New',monospace\"><span style=\"font-weight: bold\"> Non-trainable params: </span><span style=\"color: #00af00; text-decoration-color: #00af00\">0</span> (0.00 B)\n",
       "</pre>\n"
      ],
      "text/plain": [
       "\u001b[1m Non-trainable params: \u001b[0m\u001b[38;5;34m0\u001b[0m (0.00 B)\n"
      ]
     },
     "metadata": {},
     "output_type": "display_data"
    }
   ],
   "source": [
    "window_size = X_train.shape[1]\n",
    "number_of_features = X_train.shape[2]\n",
    "\n",
    "rs_model = tf.keras.Sequential([\n",
    "    tf.keras.layers.LSTM(rs_best_params['units'], activation='tanh', return_sequences=True, input_shape=(window_size, number_of_features)),\n",
    "    tf.keras.layers.LSTM(rs_best_params['units']//2, activation='tanh', return_sequences=False),\n",
    "    tf.keras.layers.Dropout(rs_best_params['dropout_rate']),\n",
    "    tf.keras.layers.RepeatVector(window_size),\n",
    "    tf.keras.layers.LSTM(rs_best_params['units']//2, activation='tanh', return_sequences=True),\n",
    "    tf.keras.layers.LSTM(rs_best_params['units'], activation='tanh', return_sequences=True),\n",
    "    tf.keras.layers.Dropout(rs_best_params['dropout_rate']),\n",
    "    tf.keras.layers.Dense(1)\n",
    "])\n",
    "\n",
    "optimizer = tf.keras.optimizers.Adam(rs_best_params['learning_rate'], clipvalue=1.0)\n",
    "rs_model.compile(optimizer=optimizer, loss='mse')\n",
    "rs_model.summary()"
   ]
  },
  {
   "cell_type": "code",
   "execution_count": null,
   "id": "24daa086",
   "metadata": {
    "id": "24daa086",
    "outputId": "399b6f42-ec66-4829-9c6d-6b1c932a24c3"
   },
   "outputs": [
    {
     "name": "stdout",
     "output_type": "stream",
     "text": [
      "Epoch 1/50\n",
      "\u001b[1m562/562\u001b[0m \u001b[32m━━━━━━━━━━━━━━━━━━━━\u001b[0m\u001b[37m\u001b[0m \u001b[1m187s\u001b[0m 322ms/step - loss: 0.0554 - val_loss: 0.0542\n",
      "Epoch 2/50\n",
      "\u001b[1m562/562\u001b[0m \u001b[32m━━━━━━━━━━━━━━━━━━━━\u001b[0m\u001b[37m\u001b[0m \u001b[1m191s\u001b[0m 340ms/step - loss: 0.0546 - val_loss: 0.0542\n",
      "Epoch 3/50\n",
      "\u001b[1m562/562\u001b[0m \u001b[32m━━━━━━━━━━━━━━━━━━━━\u001b[0m\u001b[37m\u001b[0m \u001b[1m191s\u001b[0m 339ms/step - loss: 0.0545 - val_loss: 0.0542\n",
      "Epoch 4/50\n",
      "\u001b[1m562/562\u001b[0m \u001b[32m━━━━━━━━━━━━━━━━━━━━\u001b[0m\u001b[37m\u001b[0m \u001b[1m192s\u001b[0m 341ms/step - loss: 0.0544 - val_loss: 0.0541\n",
      "Epoch 5/50\n",
      "\u001b[1m562/562\u001b[0m \u001b[32m━━━━━━━━━━━━━━━━━━━━\u001b[0m\u001b[37m\u001b[0m \u001b[1m196s\u001b[0m 349ms/step - loss: 0.0543 - val_loss: 0.0538\n",
      "Epoch 6/50\n",
      "\u001b[1m562/562\u001b[0m \u001b[32m━━━━━━━━━━━━━━━━━━━━\u001b[0m\u001b[37m\u001b[0m \u001b[1m194s\u001b[0m 346ms/step - loss: 0.0540 - val_loss: 0.0534\n",
      "Epoch 7/50\n",
      "\u001b[1m562/562\u001b[0m \u001b[32m━━━━━━━━━━━━━━━━━━━━\u001b[0m\u001b[37m\u001b[0m \u001b[1m186s\u001b[0m 331ms/step - loss: 0.0536 - val_loss: 0.0526\n",
      "Epoch 8/50\n",
      "\u001b[1m562/562\u001b[0m \u001b[32m━━━━━━━━━━━━━━━━━━━━\u001b[0m\u001b[37m\u001b[0m \u001b[1m186s\u001b[0m 331ms/step - loss: 0.0529 - val_loss: 0.0521\n",
      "Epoch 9/50\n",
      "\u001b[1m562/562\u001b[0m \u001b[32m━━━━━━━━━━━━━━━━━━━━\u001b[0m\u001b[37m\u001b[0m \u001b[1m186s\u001b[0m 331ms/step - loss: 0.0526 - val_loss: 0.0517\n",
      "Epoch 10/50\n",
      "\u001b[1m562/562\u001b[0m \u001b[32m━━━━━━━━━━━━━━━━━━━━\u001b[0m\u001b[37m\u001b[0m \u001b[1m189s\u001b[0m 335ms/step - loss: 0.0522 - val_loss: 0.0512\n",
      "Epoch 11/50\n",
      "\u001b[1m562/562\u001b[0m \u001b[32m━━━━━━━━━━━━━━━━━━━━\u001b[0m\u001b[37m\u001b[0m \u001b[1m189s\u001b[0m 336ms/step - loss: 0.0515 - val_loss: 0.0497\n",
      "Epoch 12/50\n",
      "\u001b[1m562/562\u001b[0m \u001b[32m━━━━━━━━━━━━━━━━━━━━\u001b[0m\u001b[37m\u001b[0m \u001b[1m186s\u001b[0m 331ms/step - loss: 0.0513 - val_loss: 0.0501\n",
      "Epoch 13/50\n",
      "\u001b[1m562/562\u001b[0m \u001b[32m━━━━━━━━━━━━━━━━━━━━\u001b[0m\u001b[37m\u001b[0m \u001b[1m186s\u001b[0m 331ms/step - loss: 0.0511 - val_loss: 0.0541\n",
      "Epoch 14/50\n",
      "\u001b[1m562/562\u001b[0m \u001b[32m━━━━━━━━━━━━━━━━━━━━\u001b[0m\u001b[37m\u001b[0m \u001b[1m186s\u001b[0m 331ms/step - loss: 0.0530 - val_loss: 0.0522\n",
      "Epoch 15/50\n",
      "\u001b[1m562/562\u001b[0m \u001b[32m━━━━━━━━━━━━━━━━━━━━\u001b[0m\u001b[37m\u001b[0m \u001b[1m186s\u001b[0m 332ms/step - loss: 0.0533 - val_loss: 0.0523\n",
      "Epoch 16/50\n",
      "\u001b[1m562/562\u001b[0m \u001b[32m━━━━━━━━━━━━━━━━━━━━\u001b[0m\u001b[37m\u001b[0m \u001b[1m188s\u001b[0m 334ms/step - loss: 0.0531 - val_loss: 0.0534\n"
     ]
    }
   ],
   "source": [
    "# Train the model\n",
    "history = rs_model.fit(X_train, y_train, epochs=50, batch_size=rs_best_params['batch_size'], validation_split=0.1,\n",
    "                    callbacks=[tf.keras.callbacks.EarlyStopping(monitor='val_loss', patience=5, restore_best_weights=True)], verbose=1)"
   ]
  },
  {
   "cell_type": "code",
   "execution_count": null,
   "id": "7630b225",
   "metadata": {
    "id": "7630b225",
    "outputId": "be4902e1-4f1e-4fc1-cb74-6a1b8a6979bb"
   },
   "outputs": [
    {
     "name": "stdout",
     "output_type": "stream",
     "text": [
      "\u001b[1m625/625\u001b[0m \u001b[32m━━━━━━━━━━━━━━━━━━━━\u001b[0m\u001b[37m\u001b[0m \u001b[1m31s\u001b[0m 49ms/step\n"
     ]
    }
   ],
   "source": [
    "y_pred = rs_model.predict(X_test)"
   ]
  },
  {
   "cell_type": "code",
   "execution_count": null,
   "id": "911fec75",
   "metadata": {
    "id": "911fec75",
    "outputId": "68c4c811-ecf2-412c-9ace-34946ba8a90f"
   },
   "outputs": [
    {
     "name": "stdout",
     "output_type": "stream",
     "text": [
      "(19977, 1)\n",
      "(19977, 1)\n"
     ]
    }
   ],
   "source": [
    "y_test_final = y_test[:,0,:]\n",
    "y_pred_final = y_pred[:,0,:]\n",
    "print(y_pred_final.shape)\n",
    "\n",
    "print(y_test_final.shape)"
   ]
  },
  {
   "cell_type": "code",
   "execution_count": null,
   "id": "64f35f9c",
   "metadata": {
    "id": "64f35f9c",
    "outputId": "a5417fce-a527-4b98-afe8-833557e6f8f5"
   },
   "outputs": [
    {
     "data": {
      "text/plain": [
       "0.8478645080618891"
      ]
     },
     "execution_count": 199,
     "metadata": {},
     "output_type": "execute_result"
    }
   ],
   "source": [
    "mse = np.mean(np.power(y_test_final - y_pred_final, 2), axis=1)\n",
    "\n",
    "# Set a threshold for identifying anomalies\n",
    "threshold = np.percentile(mse, 95)\n",
    "threshold"
   ]
  },
  {
   "cell_type": "code",
   "execution_count": null,
   "id": "15006411",
   "metadata": {
    "id": "15006411",
    "outputId": "aeb258ed-2208-4225-b35e-2a9656204471"
   },
   "outputs": [
    {
     "name": "stdout",
     "output_type": "stream",
     "text": [
      "Precision: 1.0\n",
      "Recall: 0.8649350649350649\n",
      "F1-score: 0.9275766016713092\n"
     ]
    }
   ],
   "source": [
    "# Classify data points as normal (0) or anomaly (1) based on the threshold\n",
    "y_pred = (mse > threshold).astype(int)\n",
    "\n",
    "precision = precision_score(y_test_final, y_pred)\n",
    "recall = recall_score(y_test_final, y_pred)\n",
    "f1 = f1_score(y_test_final, y_pred)\n",
    "\n",
    "# Print all evaluation metrics\n",
    "print(f\"Precision: {precision}\")\n",
    "print(f\"Recall: {recall}\")\n",
    "print(f\"F1-score: {f1}\")"
   ]
  },
  {
   "cell_type": "code",
   "execution_count": null,
   "id": "d0f74364",
   "metadata": {
    "id": "d0f74364",
    "outputId": "a0e7fad7-5574-456e-96bd-e1ffeffeb3ca"
   },
   "outputs": [
    {
     "name": "stdout",
     "output_type": "stream",
     "text": [
      "Accuracy: 0.9921910196726235\n",
      "Confusion Matrix:\n",
      "[[18822     0]\n",
      " [  156   999]]\n"
     ]
    }
   ],
   "source": [
    "# Evaluate model performance using labeled data\n",
    "accuracy = accuracy_score(y_test_final, y_pred)\n",
    "conf_matrix = confusion_matrix(y_test_final, y_pred)\n",
    "\n",
    "print(f\"Accuracy: {accuracy}\")\n",
    "print(\"Confusion Matrix:\")\n",
    "print(conf_matrix)"
   ]
  },
  {
   "cell_type": "code",
   "execution_count": null,
   "id": "2059779f",
   "metadata": {
    "id": "2059779f",
    "outputId": "63b331f9-f5c6-4c52-ac6d-2bf40ef4c74e"
   },
   "outputs": [
    {
     "data": {
      "image/png": "[encoded data removed]",
      "text/plain": [
       "<Figure size 400x300 with 1 Axes>"
      ]
     },
     "metadata": {},
     "output_type": "display_data"
    }
   ],
   "source": [
    "# Calculate the ROC curve\n",
    "fpr, tpr, thresholds = roc_curve(y_test_final, mse)\n",
    "\n",
    "# Calculate the AUC\n",
    "roc_auc = auc(fpr, tpr)\n",
    "\n",
    "# Plot the ROC Curve\n",
    "plt.figure(figsize=(4, 3))\n",
    "plt.plot(fpr, tpr, color='blue', lw=2, label=f\"ROC Curve (AUC = {roc_auc:.4f})\")\n",
    "plt.plot([0, 1], [0, 1], color='gray', linestyle='--', lw=1)  # Diagonal line\n",
    "plt.xlim([0.0, 1.0])\n",
    "plt.ylim([0.0, 1.05])\n",
    "plt.xlabel('False Positive Rate (FPR)')\n",
    "plt.ylabel('True Positive Rate (TPR)')\n",
    "plt.title('ROC Curve')\n",
    "plt.legend(loc=\"lower right\")\n",
    "plt.grid()\n",
    "plt.show()"
   ]
  },
  {
   "cell_type": "code",
   "execution_count": null,
   "id": "a160c21a",
   "metadata": {
    "id": "a160c21a"
   },
   "outputs": [],
   "source": [
    "# Save the final model\n",
    "rs_model.save(r'C:\\Users\\Asus\\Downloads\\Thesis\\models\\model\\lstm\\rs_lstm.keras')"
   ]
  },
  {
   "cell_type": "code",
   "execution_count": null,
   "id": "c9f674ab",
   "metadata": {
    "id": "c9f674ab",
    "outputId": "ad3db5b3-e5e0-4534-8c7e-767adb379bab"
   },
   "outputs": [
    {
     "data": {
      "text/plain": [
       "{'batch_size': 128, 'dropout_rate': 0.1, 'learning_rate': 0.001, 'units': 64}"
      ]
     },
     "execution_count": 205,
     "metadata": {},
     "output_type": "execute_result"
    }
   ],
   "source": [
    "rs_best_params"
   ]
  },
  {
   "cell_type": "markdown",
   "id": "93781981",
   "metadata": {
    "id": "93781981"
   },
   "source": [
    "### Bayesian"
   ]
  },
  {
   "cell_type": "code",
   "execution_count": null,
   "id": "fa7fe8bd",
   "metadata": {},
   "outputs": [],
   "source": [
    "def objective(trial):\n",
    "    # Suggest hyperparameters\n",
    "    units = trial.suggest_int('units', 32, 128, step=32)\n",
    "    dropout_rate = trial.suggest_float('dropout_rate', 0.1, 0.5, step=0.1)\n",
    "    learning_rate = trial.suggest_loguniform('learning_rate', 1e-5, 1e-3)\n",
    "    batch_size = trial.suggest_categorical('batch_size', [64, 128, 256])\n",
    "\n",
    "    # Build the model\n",
    "    model = Sequential([\n",
    "        LSTM(units, activation='relu', input_shape=(timesteps, X_train.shape[2]), return_sequences=True),\n",
    "        Dropout(dropout_rate),\n",
    "        LSTM(units // 2, activation='relu', return_sequences=False),\n",
    "        RepeatVector(timesteps),\n",
    "        LSTM(units // 2, activation='relu', return_sequences=True),\n",
    "        Dropout(dropout_rate),\n",
    "        LSTM(units, activation='relu', return_sequences=True),\n",
    "        TimeDistributed(Dense(X_train.shape[2]))\n",
    "    ])\n",
    "    optimizer = Adam(learning_rate=learning_rate)\n",
    "    model.compile(optimizer=optimizer, loss='mse')\n",
    "\n",
    "    # Train the model\n",
    "    history = model.fit(\n",
    "        X_train, X_train,\n",
    "        epochs=20,\n",
    "        batch_size=batch_size,\n",
    "        validation_split=0.2,\n",
    "        shuffle=False,\n",
    "        verbose=0\n",
    "    )\n",
    "\n",
    "    # Return validation loss\n",
    "    return history.history['val_loss'][-1]\n",
    "\n",
    "# Create study and optimize\n",
    "study = optuna.create_study(direction='minimize')\n",
    "study.optimize(objective, n_trials=10)\n",
    "\n",
    "# Print best parameters\n",
    "print(\"Best Parameters:\", study.best_params)\n",
    "print(\"Best Validation Loss:\", study.best_value)"
   ]
  },
  {
   "cell_type": "code",
   "execution_count": null,
   "id": "84c37bf9",
   "metadata": {
    "id": "84c37bf9"
   },
   "outputs": [],
   "source": [
    "bs_best_params = {'units': 128, 'dropout_rate': 0.2, 'learning_rate': 0.00045953089995941953, 'batch_size': 64}"
   ]
  },
  {
   "cell_type": "code",
   "execution_count": null,
   "id": "367c89c2",
   "metadata": {
    "id": "367c89c2",
    "outputId": "661e9af7-b1b2-4c10-a487-e2a52eca19a6"
   },
   "outputs": [
    {
     "name": "stderr",
     "output_type": "stream",
     "text": [
      "C:\\Users\\Asus\\anaconda3\\Lib\\site-packages\\keras\\src\\layers\\rnn\\rnn.py:204: UserWarning: Do not pass an `input_shape`/`input_dim` argument to a layer. When using Sequential models, prefer using an `Input(shape)` object as the first layer in the model instead.\n",
      "  super().__init__(**kwargs)\n"
     ]
    },
    {
     "data": {
      "text/html": [
       "<pre style=\"white-space:pre;overflow-x:auto;line-height:normal;font-family:Menlo,'DejaVu Sans Mono',consolas,'Courier New',monospace\"><span style=\"font-weight: bold\">Model: \"sequential_8\"</span>\n",
       "</pre>\n"
      ],
      "text/plain": [
       "\u001b[1mModel: \"sequential_8\"\u001b[0m\n"
      ]
     },
     "metadata": {},
     "output_type": "display_data"
    },
    {
     "data": {
      "text/html": [
       "<pre style=\"white-space:pre;overflow-x:auto;line-height:normal;font-family:Menlo,'DejaVu Sans Mono',consolas,'Courier New',monospace\">┏━━━━━━━━━━━━━━━━━━━━━━━━━━━━━━━━━┳━━━━━━━━━━━━━━━━━━━━━━━━┳━━━━━━━━━━━━━━━┓\n",
       "┃<span style=\"font-weight: bold\"> Layer (type)                    </span>┃<span style=\"font-weight: bold\"> Output Shape           </span>┃<span style=\"font-weight: bold\">       Param # </span>┃\n",
       "┡━━━━━━━━━━━━━━━━━━━━━━━━━━━━━━━━━╇━━━━━━━━━━━━━━━━━━━━━━━━╇━━━━━━━━━━━━━━━┩\n",
       "│ lstm_32 (<span style=\"color: #0087ff; text-decoration-color: #0087ff\">LSTM</span>)                  │ (<span style=\"color: #00d7ff; text-decoration-color: #00d7ff\">None</span>, <span style=\"color: #00af00; text-decoration-color: #00af00\">120</span>, <span style=\"color: #00af00; text-decoration-color: #00af00\">128</span>)       │        <span style=\"color: #00af00; text-decoration-color: #00af00\">76,288</span> │\n",
       "├─────────────────────────────────┼────────────────────────┼───────────────┤\n",
       "│ lstm_33 (<span style=\"color: #0087ff; text-decoration-color: #0087ff\">LSTM</span>)                  │ (<span style=\"color: #00d7ff; text-decoration-color: #00d7ff\">None</span>, <span style=\"color: #00af00; text-decoration-color: #00af00\">64</span>)             │        <span style=\"color: #00af00; text-decoration-color: #00af00\">49,408</span> │\n",
       "├─────────────────────────────────┼────────────────────────┼───────────────┤\n",
       "│ dropout_12 (<span style=\"color: #0087ff; text-decoration-color: #0087ff\">Dropout</span>)            │ (<span style=\"color: #00d7ff; text-decoration-color: #00d7ff\">None</span>, <span style=\"color: #00af00; text-decoration-color: #00af00\">64</span>)             │             <span style=\"color: #00af00; text-decoration-color: #00af00\">0</span> │\n",
       "├─────────────────────────────────┼────────────────────────┼───────────────┤\n",
       "│ repeat_vector_8 (<span style=\"color: #0087ff; text-decoration-color: #0087ff\">RepeatVector</span>)  │ (<span style=\"color: #00d7ff; text-decoration-color: #00d7ff\">None</span>, <span style=\"color: #00af00; text-decoration-color: #00af00\">120</span>, <span style=\"color: #00af00; text-decoration-color: #00af00\">64</span>)        │             <span style=\"color: #00af00; text-decoration-color: #00af00\">0</span> │\n",
       "├─────────────────────────────────┼────────────────────────┼───────────────┤\n",
       "│ lstm_34 (<span style=\"color: #0087ff; text-decoration-color: #0087ff\">LSTM</span>)                  │ (<span style=\"color: #00d7ff; text-decoration-color: #00d7ff\">None</span>, <span style=\"color: #00af00; text-decoration-color: #00af00\">120</span>, <span style=\"color: #00af00; text-decoration-color: #00af00\">64</span>)        │        <span style=\"color: #00af00; text-decoration-color: #00af00\">33,024</span> │\n",
       "├─────────────────────────────────┼────────────────────────┼───────────────┤\n",
       "│ lstm_35 (<span style=\"color: #0087ff; text-decoration-color: #0087ff\">LSTM</span>)                  │ (<span style=\"color: #00d7ff; text-decoration-color: #00d7ff\">None</span>, <span style=\"color: #00af00; text-decoration-color: #00af00\">120</span>, <span style=\"color: #00af00; text-decoration-color: #00af00\">128</span>)       │        <span style=\"color: #00af00; text-decoration-color: #00af00\">98,816</span> │\n",
       "├─────────────────────────────────┼────────────────────────┼───────────────┤\n",
       "│ dropout_13 (<span style=\"color: #0087ff; text-decoration-color: #0087ff\">Dropout</span>)            │ (<span style=\"color: #00d7ff; text-decoration-color: #00d7ff\">None</span>, <span style=\"color: #00af00; text-decoration-color: #00af00\">120</span>, <span style=\"color: #00af00; text-decoration-color: #00af00\">128</span>)       │             <span style=\"color: #00af00; text-decoration-color: #00af00\">0</span> │\n",
       "├─────────────────────────────────┼────────────────────────┼───────────────┤\n",
       "│ dense_8 (<span style=\"color: #0087ff; text-decoration-color: #0087ff\">Dense</span>)                 │ (<span style=\"color: #00d7ff; text-decoration-color: #00d7ff\">None</span>, <span style=\"color: #00af00; text-decoration-color: #00af00\">120</span>, <span style=\"color: #00af00; text-decoration-color: #00af00\">1</span>)         │           <span style=\"color: #00af00; text-decoration-color: #00af00\">129</span> │\n",
       "└─────────────────────────────────┴────────────────────────┴───────────────┘\n",
       "</pre>\n"
      ],
      "text/plain": [
       "┏━━━━━━━━━━━━━━━━━━━━━━━━━━━━━━━━━┳━━━━━━━━━━━━━━━━━━━━━━━━┳━━━━━━━━━━━━━━━┓\n",
       "┃\u001b[1m \u001b[0m\u001b[1mLayer (type)                   \u001b[0m\u001b[1m \u001b[0m┃\u001b[1m \u001b[0m\u001b[1mOutput Shape          \u001b[0m\u001b[1m \u001b[0m┃\u001b[1m \u001b[0m\u001b[1m      Param #\u001b[0m\u001b[1m \u001b[0m┃\n",
       "┡━━━━━━━━━━━━━━━━━━━━━━━━━━━━━━━━━╇━━━━━━━━━━━━━━━━━━━━━━━━╇━━━━━━━━━━━━━━━┩\n",
       "│ lstm_32 (\u001b[38;5;33mLSTM\u001b[0m)                  │ (\u001b[38;5;45mNone\u001b[0m, \u001b[38;5;34m120\u001b[0m, \u001b[38;5;34m128\u001b[0m)       │        \u001b[38;5;34m76,288\u001b[0m │\n",
       "├─────────────────────────────────┼────────────────────────┼───────────────┤\n",
       "│ lstm_33 (\u001b[38;5;33mLSTM\u001b[0m)                  │ (\u001b[38;5;45mNone\u001b[0m, \u001b[38;5;34m64\u001b[0m)             │        \u001b[38;5;34m49,408\u001b[0m │\n",
       "├─────────────────────────────────┼────────────────────────┼───────────────┤\n",
       "│ dropout_12 (\u001b[38;5;33mDropout\u001b[0m)            │ (\u001b[38;5;45mNone\u001b[0m, \u001b[38;5;34m64\u001b[0m)             │             \u001b[38;5;34m0\u001b[0m │\n",
       "├─────────────────────────────────┼────────────────────────┼───────────────┤\n",
       "│ repeat_vector_8 (\u001b[38;5;33mRepeatVector\u001b[0m)  │ (\u001b[38;5;45mNone\u001b[0m, \u001b[38;5;34m120\u001b[0m, \u001b[38;5;34m64\u001b[0m)        │             \u001b[38;5;34m0\u001b[0m │\n",
       "├─────────────────────────────────┼────────────────────────┼───────────────┤\n",
       "│ lstm_34 (\u001b[38;5;33mLSTM\u001b[0m)                  │ (\u001b[38;5;45mNone\u001b[0m, \u001b[38;5;34m120\u001b[0m, \u001b[38;5;34m64\u001b[0m)        │        \u001b[38;5;34m33,024\u001b[0m │\n",
       "├─────────────────────────────────┼────────────────────────┼───────────────┤\n",
       "│ lstm_35 (\u001b[38;5;33mLSTM\u001b[0m)                  │ (\u001b[38;5;45mNone\u001b[0m, \u001b[38;5;34m120\u001b[0m, \u001b[38;5;34m128\u001b[0m)       │        \u001b[38;5;34m98,816\u001b[0m │\n",
       "├─────────────────────────────────┼────────────────────────┼───────────────┤\n",
       "│ dropout_13 (\u001b[38;5;33mDropout\u001b[0m)            │ (\u001b[38;5;45mNone\u001b[0m, \u001b[38;5;34m120\u001b[0m, \u001b[38;5;34m128\u001b[0m)       │             \u001b[38;5;34m0\u001b[0m │\n",
       "├─────────────────────────────────┼────────────────────────┼───────────────┤\n",
       "│ dense_8 (\u001b[38;5;33mDense\u001b[0m)                 │ (\u001b[38;5;45mNone\u001b[0m, \u001b[38;5;34m120\u001b[0m, \u001b[38;5;34m1\u001b[0m)         │           \u001b[38;5;34m129\u001b[0m │\n",
       "└─────────────────────────────────┴────────────────────────┴───────────────┘\n"
      ]
     },
     "metadata": {},
     "output_type": "display_data"
    },
    {
     "data": {
      "text/html": [
       "<pre style=\"white-space:pre;overflow-x:auto;line-height:normal;font-family:Menlo,'DejaVu Sans Mono',consolas,'Courier New',monospace\"><span style=\"font-weight: bold\"> Total params: </span><span style=\"color: #00af00; text-decoration-color: #00af00\">257,665</span> (1006.50 KB)\n",
       "</pre>\n"
      ],
      "text/plain": [
       "\u001b[1m Total params: \u001b[0m\u001b[38;5;34m257,665\u001b[0m (1006.50 KB)\n"
      ]
     },
     "metadata": {},
     "output_type": "display_data"
    },
    {
     "data": {
      "text/html": [
       "<pre style=\"white-space:pre;overflow-x:auto;line-height:normal;font-family:Menlo,'DejaVu Sans Mono',consolas,'Courier New',monospace\"><span style=\"font-weight: bold\"> Trainable params: </span><span style=\"color: #00af00; text-decoration-color: #00af00\">257,665</span> (1006.50 KB)\n",
       "</pre>\n"
      ],
      "text/plain": [
       "\u001b[1m Trainable params: \u001b[0m\u001b[38;5;34m257,665\u001b[0m (1006.50 KB)\n"
      ]
     },
     "metadata": {},
     "output_type": "display_data"
    },
    {
     "data": {
      "text/html": [
       "<pre style=\"white-space:pre;overflow-x:auto;line-height:normal;font-family:Menlo,'DejaVu Sans Mono',consolas,'Courier New',monospace\"><span style=\"font-weight: bold\"> Non-trainable params: </span><span style=\"color: #00af00; text-decoration-color: #00af00\">0</span> (0.00 B)\n",
       "</pre>\n"
      ],
      "text/plain": [
       "\u001b[1m Non-trainable params: \u001b[0m\u001b[38;5;34m0\u001b[0m (0.00 B)\n"
      ]
     },
     "metadata": {},
     "output_type": "display_data"
    }
   ],
   "source": [
    "window_size = X_train.shape[1]\n",
    "number_of_features = X_train.shape[2]\n",
    "\n",
    "bs_model = tf.keras.Sequential([\n",
    "    tf.keras.layers.LSTM(bs_best_params['units'], activation='tanh', return_sequences=True, input_shape=(window_size, number_of_features)),\n",
    "    tf.keras.layers.LSTM(bs_best_params['units']//2, activation='tanh', return_sequences=False),\n",
    "    tf.keras.layers.Dropout(bs_best_params['dropout_rate']),\n",
    "    tf.keras.layers.RepeatVector(window_size),\n",
    "    tf.keras.layers.LSTM(bs_best_params['units']//2, activation='tanh', return_sequences=True),\n",
    "    tf.keras.layers.LSTM(bs_best_params['units'], activation='tanh', return_sequences=True),\n",
    "    tf.keras.layers.Dropout(bs_best_params['dropout_rate']),\n",
    "    tf.keras.layers.Dense(1)\n",
    "])\n",
    "\n",
    "optimizer = tf.keras.optimizers.Adam(bs_best_params['learning_rate'], clipvalue=1.0)\n",
    "bs_model.compile(optimizer=optimizer, loss='mse')\n",
    "bs_model.summary()"
   ]
  },
  {
   "cell_type": "code",
   "execution_count": null,
   "id": "07ee440a",
   "metadata": {
    "id": "07ee440a",
    "outputId": "daa7b0d4-eb0b-4420-e58d-85a7c42215f4"
   },
   "outputs": [
    {
     "name": "stdout",
     "output_type": "stream",
     "text": [
      "Epoch 1/50\n",
      "\u001b[1m1124/1124\u001b[0m \u001b[32m━━━━━━━━━━━━━━━━━━━━\u001b[0m\u001b[37m\u001b[0m \u001b[1m766s\u001b[0m 676ms/step - loss: 0.0550 - val_loss: 0.0542\n",
      "Epoch 2/50\n",
      "\u001b[1m1124/1124\u001b[0m \u001b[32m━━━━━━━━━━━━━━━━━━━━\u001b[0m\u001b[37m\u001b[0m \u001b[1m719s\u001b[0m 640ms/step - loss: 0.0545 - val_loss: 0.0540\n",
      "Epoch 3/50\n",
      "\u001b[1m1124/1124\u001b[0m \u001b[32m━━━━━━━━━━━━━━━━━━━━\u001b[0m\u001b[37m\u001b[0m \u001b[1m730s\u001b[0m 650ms/step - loss: 0.0543 - val_loss: 0.0535\n",
      "Epoch 4/50\n",
      "\u001b[1m1124/1124\u001b[0m \u001b[32m━━━━━━━━━━━━━━━━━━━━\u001b[0m\u001b[37m\u001b[0m \u001b[1m691s\u001b[0m 615ms/step - loss: 0.0537 - val_loss: 0.0529\n",
      "Epoch 5/50\n",
      "\u001b[1m1124/1124\u001b[0m \u001b[32m━━━━━━━━━━━━━━━━━━━━\u001b[0m\u001b[37m\u001b[0m \u001b[1m690s\u001b[0m 614ms/step - loss: 0.0528 - val_loss: 0.0515\n",
      "Epoch 6/50\n",
      "\u001b[1m1124/1124\u001b[0m \u001b[32m━━━━━━━━━━━━━━━━━━━━\u001b[0m\u001b[37m\u001b[0m \u001b[1m691s\u001b[0m 615ms/step - loss: 0.0520 - val_loss: 0.0502\n",
      "Epoch 7/50\n",
      "\u001b[1m1124/1124\u001b[0m \u001b[32m━━━━━━━━━━━━━━━━━━━━\u001b[0m\u001b[37m\u001b[0m \u001b[1m690s\u001b[0m 614ms/step - loss: 0.0512 - val_loss: 0.0492\n",
      "Epoch 8/50\n",
      "\u001b[1m1124/1124\u001b[0m \u001b[32m━━━━━━━━━━━━━━━━━━━━\u001b[0m\u001b[37m\u001b[0m \u001b[1m692s\u001b[0m 616ms/step - loss: 0.0508 - val_loss: 0.0485\n",
      "Epoch 9/50\n",
      "\u001b[1m1124/1124\u001b[0m \u001b[32m━━━━━━━━━━━━━━━━━━━━\u001b[0m\u001b[37m\u001b[0m \u001b[1m685s\u001b[0m 610ms/step - loss: 0.0503 - val_loss: 0.0478\n",
      "Epoch 10/50\n",
      "\u001b[1m1124/1124\u001b[0m \u001b[32m━━━━━━━━━━━━━━━━━━━━\u001b[0m\u001b[37m\u001b[0m \u001b[1m689s\u001b[0m 613ms/step - loss: 0.0500 - val_loss: 0.0485\n",
      "Epoch 11/50\n",
      "\u001b[1m1124/1124\u001b[0m \u001b[32m━━━━━━━━━━━━━━━━━━━━\u001b[0m\u001b[37m\u001b[0m \u001b[1m694s\u001b[0m 617ms/step - loss: 0.0507 - val_loss: 0.0523\n",
      "Epoch 12/50\n",
      "\u001b[1m1124/1124\u001b[0m \u001b[32m━━━━━━━━━━━━━━━━━━━━\u001b[0m\u001b[37m\u001b[0m \u001b[1m691s\u001b[0m 615ms/step - loss: 0.0529 - val_loss: 0.0505\n",
      "Epoch 13/50\n",
      "\u001b[1m1124/1124\u001b[0m \u001b[32m━━━━━━━━━━━━━━━━━━━━\u001b[0m\u001b[37m\u001b[0m \u001b[1m695s\u001b[0m 619ms/step - loss: 0.0515 - val_loss: 0.0487\n",
      "Epoch 14/50\n",
      "\u001b[1m1124/1124\u001b[0m \u001b[32m━━━━━━━━━━━━━━━━━━━━\u001b[0m\u001b[37m\u001b[0m \u001b[1m695s\u001b[0m 618ms/step - loss: 0.0504 - val_loss: 0.0488\n"
     ]
    }
   ],
   "source": [
    "# Train the model\n",
    "history = bs_model.fit(X_train, y_train, epochs=50, batch_size=bs_best_params['batch_size'], validation_split=0.1,\n",
    "                    callbacks=[tf.keras.callbacks.EarlyStopping(monitor='val_loss', patience=5, restore_best_weights=True)], verbose=1)"
   ]
  },
  {
   "cell_type": "code",
   "execution_count": null,
   "id": "470b2045",
   "metadata": {
    "id": "470b2045"
   },
   "outputs": [],
   "source": [
    "# Save the final model\n",
    "bs_model.save(r'C:\\Users\\Asus\\Downloads\\Thesis\\models\\model\\lstm\\bs_lstm.keras')"
   ]
  },
  {
   "cell_type": "code",
   "execution_count": null,
   "id": "cb4831fe",
   "metadata": {
    "id": "cb4831fe",
    "outputId": "6aecfe7a-a3e8-48c6-e491-a34c345c0d4a"
   },
   "outputs": [
    {
     "name": "stdout",
     "output_type": "stream",
     "text": [
      "\u001b[1m625/625\u001b[0m \u001b[32m━━━━━━━━━━━━━━━━━━━━\u001b[0m\u001b[37m\u001b[0m \u001b[1m125s\u001b[0m 199ms/step\n"
     ]
    }
   ],
   "source": [
    "y_pred = bs_model.predict(X_test)"
   ]
  },
  {
   "cell_type": "code",
   "execution_count": null,
   "id": "d767bed2",
   "metadata": {
    "id": "d767bed2",
    "outputId": "0e767f0a-8f14-4041-a296-24331ccc04da"
   },
   "outputs": [
    {
     "data": {
      "text/plain": [
       "array([0, 0, 0, ..., 0, 0, 0])"
      ]
     },
     "execution_count": 244,
     "metadata": {},
     "output_type": "execute_result"
    }
   ],
   "source": [
    "y_pred"
   ]
  },
  {
   "cell_type": "code",
   "execution_count": null,
   "id": "81881327",
   "metadata": {
    "id": "81881327",
    "outputId": "b4a26090-d19a-4bc3-fa86-871913b7e62c"
   },
   "outputs": [
    {
     "data": {
      "text/plain": [
       "(19977, 120, 1)"
      ]
     },
     "execution_count": 235,
     "metadata": {},
     "output_type": "execute_result"
    }
   ],
   "source": [
    "y_test.shape"
   ]
  },
  {
   "cell_type": "code",
   "execution_count": null,
   "id": "6ea3a3dd",
   "metadata": {
    "id": "6ea3a3dd",
    "outputId": "afbee60a-8956-41fe-a3fe-ecbb203568b4"
   },
   "outputs": [
    {
     "name": "stdout",
     "output_type": "stream",
     "text": [
      "(19977, 1)\n",
      "(19977, 1)\n"
     ]
    }
   ],
   "source": [
    "y_test_final = y_test[:,0,:]\n",
    "y_pred_final = y_pred[:,0,:]\n",
    "print(y_pred_final.shape)\n",
    "\n",
    "print(y_test_final.shape)"
   ]
  },
  {
   "cell_type": "code",
   "execution_count": null,
   "id": "8da51046",
   "metadata": {
    "id": "8da51046",
    "outputId": "76dae829-c9c8-4a65-c5c0-605245b83a0c"
   },
   "outputs": [
    {
     "data": {
      "text/plain": [
       "0.8854914654010939"
      ]
     },
     "execution_count": 230,
     "metadata": {},
     "output_type": "execute_result"
    }
   ],
   "source": [
    "mse = np.mean(np.power(y_test_final - y_pred_final, 2), axis=1)\n",
    "\n",
    "# Set a threshold for identifying anomalies\n",
    "threshold = np.percentile(mse, 95)\n",
    "threshold\n",
    "\n",
    "#0.8989490184036354 Random Search"
   ]
  },
  {
   "cell_type": "code",
   "execution_count": null,
   "id": "59fc9f35",
   "metadata": {
    "id": "59fc9f35",
    "outputId": "ba69f5ed-cb48-4ea7-aa3b-2ab9c2b5559f"
   },
   "outputs": [
    {
     "data": {
      "text/plain": [
       "(19977, 1)"
      ]
     },
     "execution_count": 241,
     "metadata": {},
     "output_type": "execute_result"
    }
   ],
   "source": [
    "y_pred_final.shape"
   ]
  },
  {
   "cell_type": "code",
   "execution_count": null,
   "id": "56da311f",
   "metadata": {
    "id": "56da311f",
    "outputId": "a65fbd15-8c43-4edc-bb19-a260be17fb90"
   },
   "outputs": [
    {
     "name": "stdout",
     "output_type": "stream",
     "text": [
      "Precision: 1.0000\n",
      "Recall: 0.8649\n",
      "F1-score: 0.9276\n"
     ]
    }
   ],
   "source": [
    "# Classify data points as normal (0) or anomaly (1) based on the threshold\n",
    "y_pred = (mse > threshold).astype(int)\n",
    "\n",
    "precision = precision_score(y_test_final, y_pred)\n",
    "recall = recall_score(y_test_final, y_pred)\n",
    "f1 = f1_score(y_test_final, y_pred)\n",
    "\n",
    "# Print all evaluation metrics\n",
    "print(f\"Precision: {precision:.4f}\")\n",
    "print(f\"Recall: {recall:.4f}\")\n",
    "print(f\"F1-score: {f1:.4f}\")"
   ]
  },
  {
   "cell_type": "code",
   "execution_count": null,
   "id": "adf03437",
   "metadata": {
    "id": "adf03437",
    "outputId": "be61010d-5772-4a72-ce5d-9f83085d7ff3"
   },
   "outputs": [
    {
     "name": "stdout",
     "output_type": "stream",
     "text": [
      "Accuracy: 0.9922\n",
      "Confusion Matrix:\n",
      "[[18822     0]\n",
      " [  156   999]]\n"
     ]
    }
   ],
   "source": [
    "# Evaluate model performance using labeled data\n",
    "accuracy = accuracy_score(y_test_final, y_pred)\n",
    "conf_matrix = confusion_matrix(y_test_final, y_pred)\n",
    "\n",
    "print(f\"Accuracy: {accuracy:.4f}\")\n",
    "print(\"Confusion Matrix:\")\n",
    "print(conf_matrix)"
   ]
  },
  {
   "cell_type": "code",
   "execution_count": null,
   "id": "bff7a046",
   "metadata": {
    "id": "bff7a046",
    "outputId": "a0ea45c3-af52-4415-b1a7-4b1c8432b38e"
   },
   "outputs": [
    {
     "data": {
      "image/png": "[encoded data removed]",
      "text/plain": [
       "<Figure size 400x300 with 1 Axes>"
      ]
     },
     "metadata": {},
     "output_type": "display_data"
    }
   ],
   "source": [
    "# Calculate the ROC curve\n",
    "fpr, tpr, thresholds = roc_curve(y_test_final, mse)\n",
    "\n",
    "# Calculate the AUC\n",
    "roc_auc = auc(fpr, tpr)\n",
    "\n",
    "# Plot the ROC Curve\n",
    "plt.figure(figsize=(4, 3))\n",
    "plt.plot(fpr, tpr, color='blue', lw=2, label=f\"ROC Curve (AUC = {roc_auc:.4f})\")\n",
    "plt.plot([0, 1], [0, 1], color='gray', linestyle='--', lw=1)  # Diagonal line\n",
    "plt.xlim([0.0, 1.0])\n",
    "plt.ylim([0.0, 1.05])\n",
    "plt.xlabel('False Positive Rate (FPR)')\n",
    "plt.ylabel('True Positive Rate (TPR)')\n",
    "plt.title('ROC Curve')\n",
    "plt.legend(loc=\"lower right\")\n",
    "plt.grid()\n",
    "plt.show()"
   ]
  },
  {
   "cell_type": "markdown",
   "id": "ec1bb402",
   "metadata": {
    "id": "ec1bb402"
   },
   "source": [
    "## Different Splitting"
   ]
  },
  {
   "cell_type": "markdown",
   "id": "171eb501",
   "metadata": {},
   "source": [
    "### k-fold cross validation"
   ]
  },
  {
   "cell_type": "code",
   "execution_count": null,
   "id": "65567723",
   "metadata": {
    "id": "65567723"
   },
   "outputs": [],
   "source": [
    "#download the best performiing model\n",
    "lstm = load_model(r'C:\\Users\\Asus\\Downloads\\Thesis\\models\\model\\lstm\\gs_lstm.keras')"
   ]
  },
  {
   "cell_type": "code",
   "execution_count": 3,
   "id": "7e205648",
   "metadata": {},
   "outputs": [],
   "source": [
    "sampled_data = data.sample(n=5000, random_state=42)"
   ]
  },
  {
   "cell_type": "code",
   "execution_count": 9,
   "id": "6a8583ea",
   "metadata": {},
   "outputs": [
    {
     "name": "stdout",
     "output_type": "stream",
     "text": [
      "(4881, 120, 20)\n",
      "(4881, 120, 1)\n"
     ]
    }
   ],
   "source": [
    "print(X_final_reshaped.shape)\n",
    "print(y_final_reshaped.shape)"
   ]
  },
  {
   "cell_type": "code",
   "execution_count": 11,
   "id": "657a439f",
   "metadata": {},
   "outputs": [],
   "source": [
    "grid = load_model(r'C:\\Users\\Asus\\Downloads\\Thesis\\models\\model\\lstm\\gs_lstm.keras')\n",
    "random = load_model(r'C:\\Users\\Asus\\Downloads\\Thesis\\models\\model\\lstm\\rs_lstm.keras')\n",
    "pso = load_model(r'C:\\Users\\Asus\\Downloads\\Thesis\\models\\model\\lstm\\pso_lstm.keras')\n",
    "bayes = load_model(r'C:\\Users\\Asus\\Downloads\\Thesis\\models\\model\\lstm\\bs_lstm.keras')"
   ]
  },
  {
   "cell_type": "code",
   "execution_count": 13,
   "id": "522e6d9b",
   "metadata": {
    "collapsed": true
   },
   "outputs": [
    {
     "name": "stdout",
     "output_type": "stream",
     "text": [
      "\u001b[1m16/16\u001b[0m \u001b[32m━━━━━━━━━━━━━━━━━━━━\u001b[0m\u001b[37m\u001b[0m \u001b[1m2s\u001b[0m 85ms/step\n",
      "\u001b[1m16/16\u001b[0m \u001b[32m━━━━━━━━━━━━━━━━━━━━\u001b[0m\u001b[37m\u001b[0m \u001b[1m2s\u001b[0m 83ms/step\n",
      "\u001b[1m16/16\u001b[0m \u001b[32m━━━━━━━━━━━━━━━━━━━━\u001b[0m\u001b[37m\u001b[0m \u001b[1m2s\u001b[0m 95ms/step\n",
      "\u001b[1m16/16\u001b[0m \u001b[32m━━━━━━━━━━━━━━━━━━━━\u001b[0m\u001b[37m\u001b[0m \u001b[1m3s\u001b[0m 134ms/step\n",
      "\u001b[1m16/16\u001b[0m \u001b[32m━━━━━━━━━━━━━━━━━━━━\u001b[0m\u001b[37m\u001b[0m \u001b[1m1s\u001b[0m 39ms/step\n",
      "\u001b[1m16/16\u001b[0m \u001b[32m━━━━━━━━━━━━━━━━━━━━\u001b[0m\u001b[37m\u001b[0m \u001b[1m1s\u001b[0m 40ms/step\n",
      "\u001b[1m16/16\u001b[0m \u001b[32m━━━━━━━━━━━━━━━━━━━━\u001b[0m\u001b[37m\u001b[0m \u001b[1m1s\u001b[0m 40ms/step\n",
      "\u001b[1m16/16\u001b[0m \u001b[32m━━━━━━━━━━━━━━━━━━━━\u001b[0m\u001b[37m\u001b[0m \u001b[1m1s\u001b[0m 65ms/step\n",
      "\u001b[1m16/16\u001b[0m \u001b[32m━━━━━━━━━━━━━━━━━━━━\u001b[0m\u001b[37m\u001b[0m \u001b[1m1s\u001b[0m 39ms/step\n",
      "\u001b[1m16/16\u001b[0m \u001b[32m━━━━━━━━━━━━━━━━━━━━\u001b[0m\u001b[37m\u001b[0m \u001b[1m1s\u001b[0m 39ms/step\n",
      "\u001b[1m16/16\u001b[0m \u001b[32m━━━━━━━━━━━━━━━━━━━━\u001b[0m\u001b[37m\u001b[0m \u001b[1m1s\u001b[0m 40ms/step\n",
      "\u001b[1m16/16\u001b[0m \u001b[32m━━━━━━━━━━━━━━━━━━━━\u001b[0m\u001b[37m\u001b[0m \u001b[1m1s\u001b[0m 73ms/step\n",
      "\u001b[1m16/16\u001b[0m \u001b[32m━━━━━━━━━━━━━━━━━━━━\u001b[0m\u001b[37m\u001b[0m \u001b[1m1s\u001b[0m 38ms/step\n",
      "\u001b[1m16/16\u001b[0m \u001b[32m━━━━━━━━━━━━━━━━━━━━\u001b[0m\u001b[37m\u001b[0m \u001b[1m1s\u001b[0m 41ms/step\n",
      "\u001b[1m16/16\u001b[0m \u001b[32m━━━━━━━━━━━━━━━━━━━━\u001b[0m\u001b[37m\u001b[0m \u001b[1m1s\u001b[0m 42ms/step\n",
      "\u001b[1m16/16\u001b[0m \u001b[32m━━━━━━━━━━━━━━━━━━━━\u001b[0m\u001b[37m\u001b[0m \u001b[1m1s\u001b[0m 74ms/step\n",
      "\u001b[1m16/16\u001b[0m \u001b[32m━━━━━━━━━━━━━━━━━━━━\u001b[0m\u001b[37m\u001b[0m \u001b[1m1s\u001b[0m 37ms/step\n",
      "\u001b[1m16/16\u001b[0m \u001b[32m━━━━━━━━━━━━━━━━━━━━\u001b[0m\u001b[37m\u001b[0m \u001b[1m1s\u001b[0m 38ms/step\n",
      "\u001b[1m16/16\u001b[0m \u001b[32m━━━━━━━━━━━━━━━━━━━━\u001b[0m\u001b[37m\u001b[0m \u001b[1m1s\u001b[0m 40ms/step\n",
      "\u001b[1m16/16\u001b[0m \u001b[32m━━━━━━━━━━━━━━━━━━━━\u001b[0m\u001b[37m\u001b[0m \u001b[1m1s\u001b[0m 81ms/step\n",
      "\u001b[1m16/16\u001b[0m \u001b[32m━━━━━━━━━━━━━━━━━━━━\u001b[0m\u001b[37m\u001b[0m \u001b[1m1s\u001b[0m 41ms/step\n",
      "\u001b[1m16/16\u001b[0m \u001b[32m━━━━━━━━━━━━━━━━━━━━\u001b[0m\u001b[37m\u001b[0m \u001b[1m1s\u001b[0m 39ms/step\n",
      "\u001b[1m16/16\u001b[0m \u001b[32m━━━━━━━━━━━━━━━━━━━━\u001b[0m\u001b[37m\u001b[0m \u001b[1m1s\u001b[0m 40ms/step\n",
      "\u001b[1m16/16\u001b[0m \u001b[32m━━━━━━━━━━━━━━━━━━━━\u001b[0m\u001b[37m\u001b[0m \u001b[1m1s\u001b[0m 68ms/step\n",
      "\u001b[1m16/16\u001b[0m \u001b[32m━━━━━━━━━━━━━━━━━━━━\u001b[0m\u001b[37m\u001b[0m \u001b[1m1s\u001b[0m 38ms/step\n",
      "\u001b[1m16/16\u001b[0m \u001b[32m━━━━━━━━━━━━━━━━━━━━\u001b[0m\u001b[37m\u001b[0m \u001b[1m1s\u001b[0m 38ms/step\n",
      "\u001b[1m16/16\u001b[0m \u001b[32m━━━━━━━━━━━━━━━━━━━━\u001b[0m\u001b[37m\u001b[0m \u001b[1m1s\u001b[0m 40ms/step\n",
      "\u001b[1m16/16\u001b[0m \u001b[32m━━━━━━━━━━━━━━━━━━━━\u001b[0m\u001b[37m\u001b[0m \u001b[1m1s\u001b[0m 67ms/step\n",
      "\u001b[1m16/16\u001b[0m \u001b[32m━━━━━━━━━━━━━━━━━━━━\u001b[0m\u001b[37m\u001b[0m \u001b[1m1s\u001b[0m 39ms/step\n",
      "\u001b[1m16/16\u001b[0m \u001b[32m━━━━━━━━━━━━━━━━━━━━\u001b[0m\u001b[37m\u001b[0m \u001b[1m1s\u001b[0m 42ms/step\n",
      "\u001b[1m16/16\u001b[0m \u001b[32m━━━━━━━━━━━━━━━━━━━━\u001b[0m\u001b[37m\u001b[0m \u001b[1m1s\u001b[0m 41ms/step\n",
      "\u001b[1m16/16\u001b[0m \u001b[32m━━━━━━━━━━━━━━━━━━━━\u001b[0m\u001b[37m\u001b[0m \u001b[1m1s\u001b[0m 73ms/step\n",
      "\u001b[1m16/16\u001b[0m \u001b[32m━━━━━━━━━━━━━━━━━━━━\u001b[0m\u001b[37m\u001b[0m \u001b[1m1s\u001b[0m 37ms/step\n",
      "\u001b[1m16/16\u001b[0m \u001b[32m━━━━━━━━━━━━━━━━━━━━\u001b[0m\u001b[37m\u001b[0m \u001b[1m1s\u001b[0m 40ms/step\n",
      "\u001b[1m16/16\u001b[0m \u001b[32m━━━━━━━━━━━━━━━━━━━━\u001b[0m\u001b[37m\u001b[0m \u001b[1m1s\u001b[0m 40ms/step\n",
      "\u001b[1m16/16\u001b[0m \u001b[32m━━━━━━━━━━━━━━━━━━━━\u001b[0m\u001b[37m\u001b[0m \u001b[1m1s\u001b[0m 66ms/step\n",
      "\u001b[1m16/16\u001b[0m \u001b[32m━━━━━━━━━━━━━━━━━━━━\u001b[0m\u001b[37m\u001b[0m \u001b[1m1s\u001b[0m 40ms/step\n",
      "\u001b[1m16/16\u001b[0m \u001b[32m━━━━━━━━━━━━━━━━━━━━\u001b[0m\u001b[37m\u001b[0m \u001b[1m1s\u001b[0m 42ms/step\n",
      "\u001b[1m16/16\u001b[0m \u001b[32m━━━━━━━━━━━━━━━━━━━━\u001b[0m\u001b[37m\u001b[0m \u001b[1m1s\u001b[0m 42ms/step\n",
      "\u001b[1m16/16\u001b[0m \u001b[32m━━━━━━━━━━━━━━━━━━━━\u001b[0m\u001b[37m\u001b[0m \u001b[1m1s\u001b[0m 68ms/step\n"
     ]
    }
   ],
   "source": [
    "kf = KFold(n_splits=10, shuffle=True, random_state=42)\n",
    "\n",
    "# Initialize lists to store AUC scores for each model\n",
    "auc_scores_model_1 = []\n",
    "auc_scores_model_2 = []\n",
    "auc_scores_model_3 = []\n",
    "auc_scores_model_4 = []\n",
    "\n",
    "# Perform k-fold cross-validation\n",
    "for train_index, test_index in kf.split(X_final_reshaped):\n",
    "    X_train, X_test = X_final_reshaped[train_index], X_final_reshaped[test_index]\n",
    "    y_train, y_test = y_final_reshaped[train_index], y_final_reshaped[test_index]\n",
    "\n",
    "    # PSO\n",
    "    y_pred_1 = pso.predict(X_test)\n",
    "    y_test_final_1 = y_test[:, 0, :]\n",
    "    y_pred_final_1 = y_pred_1[:, 0, :]\n",
    "    fpr_1, tpr_1, _ = roc_curve(y_test_final_1.ravel(), y_pred_final_1.ravel())\n",
    "    auc_scores_model_1.append(auc(fpr_1, tpr_1))\n",
    "\n",
    "    # Grid\n",
    "    y_pred_2 = grid.predict(X_test)\n",
    "    y_test_final_2 = y_test[:, 0, :]\n",
    "    y_pred_final_2 = y_pred_2[:, 0, :]\n",
    "    fpr_2, tpr_2, _ = roc_curve(y_test_final_2.ravel(), y_pred_final_2.ravel())\n",
    "    auc_scores_model_2.append(auc(fpr_2, tpr_2))\n",
    "\n",
    "    # Random\n",
    "    y_pred_3 = random.predict(X_test)\n",
    "    y_test_final_3 = y_test[:, 0, :]\n",
    "    y_pred_final_3 = y_pred_3[:, 0, :]\n",
    "    fpr_3, tpr_3, _ = roc_curve(y_test_final_3.ravel(), y_pred_final_3.ravel())\n",
    "    auc_scores_model_3.append(auc(fpr_3, tpr_3))\n",
    "\n",
    "    # Bayesian\n",
    "    y_pred_4 = bayes.predict(X_test)\n",
    "    y_test_final_4 = y_test[:, 0, :]\n",
    "    y_pred_final_4 = y_pred_4[:, 0, :]\n",
    "    fpr_4, tpr_4, _ = roc_curve(y_test_final_4.ravel(), y_pred_final_4.ravel())\n",
    "    auc_scores_model_4.append(auc(fpr_4, tpr_4))"
   ]
  },
  {
   "cell_type": "code",
   "execution_count": 16,
   "id": "3552dc60",
   "metadata": {},
   "outputs": [
    {
     "data": {
      "image/png": "[encoded data removed]",
      "text/plain": [
       "<Figure size 800x300 with 1 Axes>"
      ]
     },
     "metadata": {},
     "output_type": "display_data"
    }
   ],
   "source": [
    "# Plotting the AUC scores for each model\n",
    "plt.figure(figsize=(8, 3))\n",
    "folds = list(range(1, len(auc_scores_model_1) + 1))\n",
    "\n",
    "# Plot AUC scores for each model\n",
    "plt.plot(folds, auc_scores_model_1, marker='o', label='PSO AUC')\n",
    "plt.plot(folds, auc_scores_model_2, marker='s', label='Grid Search AUC')\n",
    "plt.plot(folds, auc_scores_model_3, marker='^', label='Random Search AUC')\n",
    "plt.plot(folds, auc_scores_model_4, marker='d', label='Bayesian Optimization AUC')\n",
    "\n",
    "# Add mean AUC as horizontal lines\n",
    "plt.axhline(np.mean(auc_scores_model_1), color='blue', linestyle='--', label='PSO Mean AUC')\n",
    "plt.axhline(np.mean(auc_scores_model_2), color='orange', linestyle='--', label='Grid Search Mean AUC')\n",
    "plt.axhline(np.mean(auc_scores_model_3), color='green', linestyle='--', label='Random Search Mean AUC')\n",
    "plt.axhline(np.mean(auc_scores_model_4), color='red', linestyle='--', label='Bayesian Optimization Mean AUC')\n",
    "\n",
    "# Customize plot\n",
    "plt.xlabel('Cross-validation Fold')\n",
    "plt.ylabel('AUC')\n",
    "plt.title('AUC Scores per Fold for LSTM Models')\n",
    "plt.xticks(folds)\n",
    "plt.legend(bbox_to_anchor=(1.05, 1), loc='upper left', fontsize='small')\n",
    "plt.grid(True)\n",
    "\n",
    "plt.show()"
   ]
  },
  {
   "cell_type": "markdown",
   "id": "a905a759",
   "metadata": {
    "id": "a905a759"
   },
   "source": [
    "### k-fold cross validation for specific optimization"
   ]
  },
  {
   "cell_type": "code",
   "execution_count": 12,
   "id": "acf70b69",
   "metadata": {
    "id": "acf70b69"
   },
   "outputs": [],
   "source": [
    "from sklearn.model_selection import StratifiedKFold\n",
    "from sklearn.metrics import roc_auc_score, roc_curve, auc\n",
    "import tensorflow as tf\n",
    "from sklearn.model_selection import KFold"
   ]
  },
  {
   "cell_type": "code",
   "execution_count": null,
   "id": "aba76c05",
   "metadata": {
    "id": "aba76c05"
   },
   "outputs": [],
   "source": [
    "# y_final_reshaped = X_final_reshaped[:, :, -1:]\n",
    "# X_final_reshaped = X_final_reshaped[:, :, :-1]"
   ]
  },
  {
   "cell_type": "code",
   "execution_count": null,
   "id": "d7b68902",
   "metadata": {
    "id": "d7b68902",
    "outputId": "1cef7659-aa6e-4a88-f635-3c90b2d6893e"
   },
   "outputs": [
    {
     "name": "stdout",
     "output_type": "stream",
     "text": [
      "(99881, 120, 20)\n",
      "(99881, 120, 1)\n"
     ]
    }
   ],
   "source": [
    "print(X_final_reshaped.shape)\n",
    "print(y_final_reshaped.shape)"
   ]
  },
  {
   "cell_type": "code",
   "execution_count": null,
   "id": "bc9472c9",
   "metadata": {
    "id": "bc9472c9"
   },
   "outputs": [],
   "source": [
    "X = sampled_data.drop(columns=['anomaly'])\n",
    "y = sampled_data['anomaly']"
   ]
  },
  {
   "cell_type": "code",
   "execution_count": null,
   "id": "520e93ea",
   "metadata": {
    "id": "520e93ea",
    "outputId": "929692dd-3ea2-4381-8ec0-ca9b31506f9e"
   },
   "outputs": [
    {
     "name": "stdout",
     "output_type": "stream",
     "text": [
      "\u001b[1m313/313\u001b[0m \u001b[32m━━━━━━━━━━━━━━━━━━━━\u001b[0m\u001b[37m\u001b[0m \u001b[1m25s\u001b[0m 81ms/step\n",
      "\u001b[1m313/313\u001b[0m \u001b[32m━━━━━━━━━━━━━━━━━━━━\u001b[0m\u001b[37m\u001b[0m \u001b[1m24s\u001b[0m 77ms/step\n",
      "\u001b[1m313/313\u001b[0m \u001b[32m━━━━━━━━━━━━━━━━━━━━\u001b[0m\u001b[37m\u001b[0m \u001b[1m24s\u001b[0m 76ms/step\n",
      "\u001b[1m313/313\u001b[0m \u001b[32m━━━━━━━━━━━━━━━━━━━━\u001b[0m\u001b[37m\u001b[0m \u001b[1m23s\u001b[0m 75ms/step\n",
      "\u001b[1m313/313\u001b[0m \u001b[32m━━━━━━━━━━━━━━━━━━━━\u001b[0m\u001b[37m\u001b[0m \u001b[1m25s\u001b[0m 79ms/step\n",
      "\u001b[1m313/313\u001b[0m \u001b[32m━━━━━━━━━━━━━━━━━━━━\u001b[0m\u001b[37m\u001b[0m \u001b[1m24s\u001b[0m 75ms/step\n",
      "\u001b[1m313/313\u001b[0m \u001b[32m━━━━━━━━━━━━━━━━━━━━\u001b[0m\u001b[37m\u001b[0m \u001b[1m24s\u001b[0m 75ms/step\n",
      "\u001b[1m313/313\u001b[0m \u001b[32m━━━━━━━━━━━━━━━━━━━━\u001b[0m\u001b[37m\u001b[0m \u001b[1m24s\u001b[0m 76ms/step\n",
      "\u001b[1m313/313\u001b[0m \u001b[32m━━━━━━━━━━━━━━━━━━━━\u001b[0m\u001b[37m\u001b[0m \u001b[1m23s\u001b[0m 74ms/step\n",
      "\u001b[1m313/313\u001b[0m \u001b[32m━━━━━━━━━━━━━━━━━━━━\u001b[0m\u001b[37m\u001b[0m \u001b[1m24s\u001b[0m 78ms/step\n"
     ]
    }
   ],
   "source": [
    "kf = KFold(n_splits=10, shuffle=True, random_state=42)\n",
    "\n",
    "auc_scores = []\n",
    "fold_predictions = []\n",
    "\n",
    "for train_index, test_index in kf.split(X_final_reshaped):\n",
    "    X_train, X_test = X_final_reshaped[train_index], X_final_reshaped[test_index]\n",
    "    y_train, y_test = y_final_reshaped[train_index], y_final_reshaped[test_index]\n",
    "\n",
    "    # Get predictions\n",
    "    y_pred = lstm.predict(X_test)\n",
    "\n",
    "    # Reshape or slice predictions and actuals if needed\n",
    "    y_test_final = y_test[:,0,:]\n",
    "    y_pred_final = y_pred[:,0,:]\n",
    "\n",
    "    # Calculate AUC or other performance metrics\n",
    "    fpr, tpr, _ = roc_curve(y_test_final.ravel(), y_pred_final.ravel())  # Ensure flattening if required for roc_curve\n",
    "    roc_auc = auc(fpr, tpr)\n",
    "    auc_scores.append(roc_auc)\n",
    "    fold_predictions.append((fpr, tpr))"
   ]
  },
  {
   "cell_type": "code",
   "execution_count": null,
   "id": "f1666e11",
   "metadata": {
    "id": "f1666e11",
    "outputId": "78ab41c1-3396-462b-c097-8380e0097be2"
   },
   "outputs": [
    {
     "name": "stdout",
     "output_type": "stream",
     "text": [
      "AUC Scores per Fold: [0.5789318422759466, 0.5778614462163313, 0.5738095883153319, 0.5537991579640605, 0.572044923868822, 0.5724946312815997, 0.557742925110477, 0.5683875687109627, 0.5973813759518842, 0.5865872133769164]\n",
      "Average AUC: 0.5739040673072333\n"
     ]
    },
    {
     "data": {
      "image/png": "[encoded data removed]",
      "text/plain": [
       "<Figure size 700x300 with 1 Axes>"
      ]
     },
     "metadata": {},
     "output_type": "display_data"
    }
   ],
   "source": [
    "# Output the results\n",
    "print(\"AUC Scores per Fold:\", auc_scores)\n",
    "print(\"Average AUC:\", np.mean(auc_scores))\n",
    "\n",
    "plt.figure(figsize=(7, 3))\n",
    "plt.plot(range(1, 12), auc_scores + [np.mean(auc_scores)], marker='o', label='LSTM AUC')\n",
    "plt.xticks(list(range(1, 12)), labels=list(range(1, 11)) + ['Mean'])\n",
    "plt.xlabel('Cross-validation passes')\n",
    "plt.ylabel('AUC')\n",
    "plt.title('AUC Scores per Fold for LSTM')\n",
    "plt.legend()\n",
    "plt.grid(True)\n",
    "plt.show()"
   ]
  },
  {
   "cell_type": "markdown",
   "id": "9600faaa",
   "metadata": {
    "id": "9600faaa"
   },
   "source": [
    "### 90/10 Splitting"
   ]
  },
  {
   "cell_type": "code",
   "execution_count": null,
   "id": "4b59840a",
   "metadata": {
    "id": "4b59840a"
   },
   "outputs": [],
   "source": [
    "X_train, X_test, y_train, y_test = train_test_split(X_final_reshaped, y_final_reshaped, test_size=0.1, random_state=42)"
   ]
  },
  {
   "cell_type": "code",
   "execution_count": null,
   "id": "5768bf16",
   "metadata": {
    "id": "5768bf16",
    "outputId": "b79c0e84-b6d5-4926-ce2b-27be4dc2bef2"
   },
   "outputs": [
    {
     "name": "stdout",
     "output_type": "stream",
     "text": [
      "\u001b[1m313/313\u001b[0m \u001b[32m━━━━━━━━━━━━━━━━━━━━\u001b[0m\u001b[37m\u001b[0m \u001b[1m27s\u001b[0m 83ms/step\n"
     ]
    }
   ],
   "source": [
    "y_pred = lstm.predict(X_test)\n",
    "\n",
    "y_test_final = y_test[:,0,:]\n",
    "y_pred_final = y_pred[:,0,:]"
   ]
  },
  {
   "cell_type": "code",
   "execution_count": null,
   "id": "eaf14e04",
   "metadata": {
    "id": "eaf14e04",
    "outputId": "a1ad9e44-4716-4671-b934-8e428d0184c2"
   },
   "outputs": [
    {
     "name": "stdout",
     "output_type": "stream",
     "text": [
      "Precision: 1.0\n",
      "Recall: 0.8880994671403197\n",
      "F1-score: 0.940733772342427\n"
     ]
    }
   ],
   "source": [
    "mse = np.mean(np.power(y_test_final - y_pred_final, 2), axis=1)\n",
    "# Set a threshold for identifying anomalies\n",
    "threshold = np.percentile(mse, 95)\n",
    "# Classify data points as normal (0) or anomaly (1) based on the threshold\n",
    "y_pred = (mse > threshold).astype(int)"
   ]
  },
  {
   "cell_type": "code",
   "execution_count": null,
   "id": "8c57bb3c",
   "metadata": {
    "id": "8c57bb3c",
    "outputId": "aa296439-3903-4783-b851-e244432a9f3c"
   },
   "outputs": [
    {
     "name": "stdout",
     "output_type": "stream",
     "text": [
      "Precision: 1.0\n",
      "Recall: 0.8880994671403197\n",
      "F1-score: 0.940733772342427\n",
      "Accuracy: 0.9936930623686054\n",
      "Confusion Matrix:\n",
      "[[9426    0]\n",
      " [  63  500]]\n"
     ]
    }
   ],
   "source": [
    "precision = precision_score(y_test_final, y_pred)\n",
    "recall = recall_score(y_test_final, y_pred)\n",
    "f1 = f1_score(y_test_final, y_pred)\n",
    "\n",
    "# Print all evaluation metrics\n",
    "print(f\"Precision: {precision}\")\n",
    "print(f\"Recall: {recall}\")\n",
    "print(f\"F1-score: {f1}\")\n",
    "\n",
    "# Evaluate model performance using labeled data\n",
    "accuracy = accuracy_score(y_test_final, y_pred)\n",
    "conf_matrix = confusion_matrix(y_test_final, y_pred)\n",
    "\n",
    "print(f\"Accuracy: {accuracy}\")\n",
    "print(\"Confusion Matrix:\")\n",
    "print(conf_matrix)"
   ]
  },
  {
   "cell_type": "code",
   "execution_count": null,
   "id": "7aa37e03",
   "metadata": {
    "id": "7aa37e03",
    "outputId": "7a8ff422-3d51-49cc-9d4a-066309aae1f6"
   },
   "outputs": [
    {
     "data": {
      "image/png": "[encoded data removed]",
      "text/plain": [
       "<Figure size 400x300 with 1 Axes>"
      ]
     },
     "metadata": {},
     "output_type": "display_data"
    }
   ],
   "source": [
    "# Calculate the ROC curve\n",
    "fpr, tpr, thresholds = roc_curve(y_test_final, mse)\n",
    "\n",
    "# Calculate the AUC\n",
    "roc_auc = auc(fpr, tpr)\n",
    "\n",
    "# Plot the ROC Curve\n",
    "plt.figure(figsize=(4, 3))\n",
    "plt.plot(fpr, tpr, color='blue', lw=2, label=f\"ROC Curve (AUC = {roc_auc:.4f})\")\n",
    "plt.plot([0, 1], [0, 1], color='gray', linestyle='--', lw=1)  # Diagonal line\n",
    "plt.xlim([0.0, 1.0])\n",
    "plt.ylim([0.0, 1.05])\n",
    "plt.xlabel('False Positive Rate (FPR)')\n",
    "plt.ylabel('True Positive Rate (TPR)')\n",
    "plt.title('ROC Curve')\n",
    "plt.legend(loc=\"lower right\")\n",
    "plt.grid()\n",
    "plt.show()"
   ]
  },
  {
   "cell_type": "markdown",
   "id": "d15b8ad3",
   "metadata": {
    "id": "d15b8ad3"
   },
   "source": [
    "### 60/40 Test Splitting"
   ]
  },
  {
   "cell_type": "code",
   "execution_count": null,
   "id": "51edf186",
   "metadata": {
    "id": "51edf186"
   },
   "outputs": [],
   "source": [
    "X_train, X_test, y_train, y_test = train_test_split(X_final_reshaped, y_final_reshaped, test_size=0.4, random_state=42)"
   ]
  },
  {
   "cell_type": "code",
   "execution_count": null,
   "id": "b376a125",
   "metadata": {
    "id": "b376a125",
    "outputId": "896c8c1e-5c4b-4dd9-adb4-fe64feeb0242"
   },
   "outputs": [
    {
     "name": "stdout",
     "output_type": "stream",
     "text": [
      "\u001b[1m1249/1249\u001b[0m \u001b[32m━━━━━━━━━━━━━━━━━━━━\u001b[0m\u001b[37m\u001b[0m \u001b[1m98s\u001b[0m 79ms/step\n"
     ]
    }
   ],
   "source": [
    "y_pred = lstm.predict(X_test)\n",
    "\n",
    "y_test_final = y_test[:,0,:]\n",
    "y_pred_final = y_pred[:,0,:]"
   ]
  },
  {
   "cell_type": "code",
   "execution_count": null,
   "id": "e69ab9d9",
   "metadata": {
    "id": "e69ab9d9",
    "outputId": "9a8f5cc3-2b51-4e30-e55d-7e86b3634a79"
   },
   "outputs": [
    {
     "name": "stdout",
     "output_type": "stream",
     "text": [
      "60/40 threshold: 0.898055354795981\n"
     ]
    }
   ],
   "source": [
    "mse = np.mean(np.power(y_test_final - y_pred_final, 2), axis=1)\n",
    "# Set a threshold for identifying anomalies\n",
    "threshold = np.percentile(mse, 95)\n",
    "# Classify data points as normal (0) or anomaly (1) based on the threshold\n",
    "y_pred = (mse > threshold).astype(int)\n",
    "\n",
    "print(f\"60/40 threshold: {threshold}\")"
   ]
  },
  {
   "cell_type": "code",
   "execution_count": null,
   "id": "f0502d2d",
   "metadata": {
    "id": "f0502d2d",
    "outputId": "c03d5621-e946-4fd2-ac39-cdb648c8b6d9"
   },
   "outputs": [
    {
     "name": "stdout",
     "output_type": "stream",
     "text": [
      "Precision: 1.0\n",
      "Recall: 0.8844621513944223\n",
      "F1-score: 0.9386892177589852\n",
      "Accuracy: 0.9934673241058244\n",
      "Confusion Matrix:\n",
      "[[37694     0]\n",
      " [  261  1998]]\n"
     ]
    }
   ],
   "source": [
    "precision = precision_score(y_test_final, y_pred)\n",
    "recall = recall_score(y_test_final, y_pred)\n",
    "f1 = f1_score(y_test_final, y_pred)\n",
    "\n",
    "# Print all evaluation metrics\n",
    "print(f\"Precision: {precision}\")\n",
    "print(f\"Recall: {recall}\")\n",
    "print(f\"F1-score: {f1}\")\n",
    "\n",
    "# Evaluate model performance using labeled data\n",
    "accuracy = accuracy_score(y_test_final, y_pred)\n",
    "conf_matrix = confusion_matrix(y_test_final, y_pred)\n",
    "\n",
    "print(f\"Accuracy: {accuracy}\")\n",
    "print(\"Confusion Matrix:\")\n",
    "print(conf_matrix)"
   ]
  },
  {
   "cell_type": "code",
   "execution_count": null,
   "id": "9e7c2c75",
   "metadata": {
    "id": "9e7c2c75",
    "outputId": "8bfea759-c0da-4f22-e7f1-9ea2ac5cb2cc"
   },
   "outputs": [
    {
     "data": {
      "image/png": "[encoded data removed]",
      "text/plain": [
       "<Figure size 400x300 with 1 Axes>"
      ]
     },
     "metadata": {},
     "output_type": "display_data"
    }
   ],
   "source": [
    "# Calculate the ROC curve\n",
    "fpr, tpr, thresholds = roc_curve(y_test_final, mse)\n",
    "\n",
    "# Calculate the AUC\n",
    "roc_auc = auc(fpr, tpr)\n",
    "\n",
    "# Plot the ROC Curve\n",
    "plt.figure(figsize=(4, 3))\n",
    "plt.plot(fpr, tpr, color='blue', lw=2, label=f\"ROC Curve (AUC = {roc_auc:.4f})\")\n",
    "plt.plot([0, 1], [0, 1], color='gray', linestyle='--', lw=1)  # Diagonal line\n",
    "plt.xlim([0.0, 1.0])\n",
    "plt.ylim([0.0, 1.05])\n",
    "plt.xlabel('False Positive Rate (FPR)')\n",
    "plt.ylabel('True Positive Rate (TPR)')\n",
    "plt.title('ROC Curve')\n",
    "plt.legend(loc=\"lower right\")\n",
    "plt.grid()\n",
    "plt.show()"
   ]
  },
  {
   "cell_type": "markdown",
   "id": "6a188d8f",
   "metadata": {
    "id": "6a188d8f"
   },
   "source": [
    "### 70/30 Test Splittig"
   ]
  },
  {
   "cell_type": "code",
   "execution_count": null,
   "id": "89cb02d5",
   "metadata": {
    "id": "89cb02d5"
   },
   "outputs": [],
   "source": [
    "X_train, X_test, y_train, y_test = train_test_split(X_final_reshaped, y_final_reshaped, test_size=0.3, random_state=42)"
   ]
  },
  {
   "cell_type": "code",
   "execution_count": null,
   "id": "0f442b2c",
   "metadata": {
    "id": "0f442b2c",
    "outputId": "6e83b467-d921-4a92-fed3-8f4f4bb30964"
   },
   "outputs": [
    {
     "name": "stdout",
     "output_type": "stream",
     "text": [
      "\u001b[1m937/937\u001b[0m \u001b[32m━━━━━━━━━━━━━━━━━━━━\u001b[0m\u001b[37m\u001b[0m \u001b[1m75s\u001b[0m 80ms/step\n"
     ]
    }
   ],
   "source": [
    "y_pred = lstm.predict(X_test)\n",
    "\n",
    "y_test_final = y_test[:,0,:]\n",
    "y_pred_final = y_pred[:,0,:]"
   ]
  },
  {
   "cell_type": "code",
   "execution_count": null,
   "id": "cd7a170c",
   "metadata": {
    "id": "cd7a170c",
    "outputId": "5d1166dd-df48-408b-d063-345804a1990f"
   },
   "outputs": [
    {
     "name": "stdout",
     "output_type": "stream",
     "text": [
      "70/30 threshold: 0.8984309770943312\n"
     ]
    }
   ],
   "source": [
    "mse = np.mean(np.power(y_test_final - y_pred_final, 2), axis=1)\n",
    "# Set a threshold for identifying anomalies\n",
    "threshold = np.percentile(mse, 95)\n",
    "# Classify data points as normal (0) or anomaly (1) based on the threshold\n",
    "y_pred = (mse > threshold).astype(int)\n",
    "\n",
    "print(f\"70/30 threshold: {threshold}\")"
   ]
  },
  {
   "cell_type": "code",
   "execution_count": null,
   "id": "468ac026",
   "metadata": {
    "id": "468ac026",
    "outputId": "7cf7cc61-8ced-4425-9f2f-37d341c63e42"
   },
   "outputs": [
    {
     "name": "stdout",
     "output_type": "stream",
     "text": [
      "Precision: 1.0\n",
      "Recall: 0.8720186154741129\n",
      "F1-score: 0.9316345556246116\n",
      "Accuracy: 0.9926581011179709\n",
      "Confusion Matrix:\n",
      "[[28246     0]\n",
      " [  220  1499]]\n"
     ]
    }
   ],
   "source": [
    "precision = precision_score(y_test_final, y_pred)\n",
    "recall = recall_score(y_test_final, y_pred)\n",
    "f1 = f1_score(y_test_final, y_pred)\n",
    "\n",
    "# Print all evaluation metrics\n",
    "print(f\"Precision: {precision}\")\n",
    "print(f\"Recall: {recall}\")\n",
    "print(f\"F1-score: {f1}\")\n",
    "\n",
    "# Evaluate model performance using labeled data\n",
    "accuracy = accuracy_score(y_test_final, y_pred)\n",
    "conf_matrix = confusion_matrix(y_test_final, y_pred)\n",
    "\n",
    "print(f\"Accuracy: {accuracy}\")\n",
    "print(\"Confusion Matrix:\")\n",
    "print(conf_matrix)"
   ]
  },
  {
   "cell_type": "code",
   "execution_count": null,
   "id": "19c4a259",
   "metadata": {
    "id": "19c4a259",
    "outputId": "bf46e7a8-a9c2-4b8f-efe4-c87b669d0641"
   },
   "outputs": [
    {
     "data": {
      "image/png": "[encoded data removed]",
      "text/plain": [
       "<Figure size 400x300 with 1 Axes>"
      ]
     },
     "metadata": {},
     "output_type": "display_data"
    }
   ],
   "source": [
    "# Calculate the ROC curve\n",
    "fpr, tpr, thresholds = roc_curve(y_test_final, mse)\n",
    "\n",
    "# Calculate the AUC\n",
    "roc_auc = auc(fpr, tpr)\n",
    "\n",
    "# Plot the ROC Curve\n",
    "plt.figure(figsize=(4, 3))\n",
    "plt.plot(fpr, tpr, color='blue', lw=2, label=f\"ROC Curve (AUC = {roc_auc:.4f})\")\n",
    "plt.plot([0, 1], [0, 1], color='gray', linestyle='--', lw=1)  # Diagonal line\n",
    "plt.xlim([0.0, 1.0])\n",
    "plt.ylim([0.0, 1.05])\n",
    "plt.xlabel('False Positive Rate (FPR)')\n",
    "plt.ylabel('True Positive Rate (TPR)')\n",
    "plt.title('ROC Curve LSTM 7:3')\n",
    "plt.legend(loc=\"lower right\")\n",
    "plt.grid()\n",
    "plt.show()"
   ]
  },
  {
   "cell_type": "code",
   "execution_count": null,
   "id": "1a0c5a26",
   "metadata": {
    "id": "1a0c5a26"
   },
   "outputs": [],
   "source": []
  }
 ],
 "metadata": {
  "accelerator": "GPU",
  "colab": {
   "gpuType": "T4",
   "provenance": []
  },
  "kernelspec": {
   "display_name": "Python 3 (ipykernel)",
   "language": "python",
   "name": "python3"
  },
  "language_info": {
   "codemirror_mode": {
    "name": "ipython",
    "version": 3
   },
   "file_extension": ".py",
   "mimetype": "text/x-python",
   "name": "python",
   "nbconvert_exporter": "python",
   "pygments_lexer": "ipython3",
   "version": "3.11.5"
  }
 },
 "nbformat": 4,
 "nbformat_minor": 5
}
