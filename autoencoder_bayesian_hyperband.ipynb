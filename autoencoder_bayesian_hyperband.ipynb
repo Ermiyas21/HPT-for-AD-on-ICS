{
 "cells": [
  {
   "cell_type": "code",
   "execution_count": 59,
   "id": "54c9bdcb-3b6a-4962-b7be-b79b519e98b3",
   "metadata": {},
   "outputs": [],
   "source": [
    "import optuna\n",
    "import numpy as np\n",
    "import pandas as pd\n",
    "\n",
    "from tensorflow.keras.models import Model\n",
    "from sklearn.model_selection import train_test_split\n",
    "from tensorflow.keras.layers import Input, Dense, Dropout, BatchNormalization\n",
    "from tensorflow.keras.optimizers import Adam, RMSprop\n",
    "from tensorflow.keras.callbacks import EarlyStopping\n",
    "from sklearn.metrics import accuracy_score, precision_score, recall_score, f1_score, roc_auc_score"
   ]
  },
  {
   "cell_type": "code",
   "execution_count": 7,
   "id": "e17f4fd8-21d4-4dc9-b65f-c8313fd4c028",
   "metadata": {},
   "outputs": [],
   "source": [
    "data=pd.read_csv(r'C:\\Users\\azad.aliyev\\Downloads\\data.csv')"
   ]
  },
  {
   "cell_type": "code",
   "execution_count": 164,
   "id": "cd66561e-2692-4dac-88de-88f56fa849b1",
   "metadata": {},
   "outputs": [],
   "source": [
    "sampled_data = data.sample(n=1000, random_state=42)"
   ]
  },
  {
   "cell_type": "code",
   "execution_count": 166,
   "id": "ff44bdc9-5737-428f-8e5f-4e5b5c716db2",
   "metadata": {},
   "outputs": [],
   "source": [
    "X = sampled_data.drop(columns=['anomaly'])\n",
    "y = sampled_data['anomaly']"
   ]
  },
  {
   "cell_type": "markdown",
   "id": "d5908659",
   "metadata": {},
   "source": [
    "### Bayesian Optimization"
   ]
  },
  {
   "cell_type": "code",
   "execution_count": 168,
   "id": "f4166e91-def9-4492-8bc8-78dd3227cdb6",
   "metadata": {},
   "outputs": [],
   "source": [
    "X_train, X_test, y_train, y_test = train_test_split(\n",
    "    X, y, test_size=0.2, stratify=y, random_state=42)"
   ]
  },
  {
   "cell_type": "code",
   "execution_count": 75,
   "id": "ec6cf6bd-da8b-41fc-84de-beb9a1a629e0",
   "metadata": {},
   "outputs": [],
   "source": [
    "baseline_metrics = {\n",
    "    \"Accuracy\": 0.937,\n",
    "    \"Precision\": 0.8212,\n",
    "    \"Recall\": 0.7731,\n",
    "    \"F1 Score\": 0.7965,\n",
    "    \"AUC\": 0.8935,\n",
    "}"
   ]
  },
  {
   "cell_type": "code",
   "execution_count": 77,
   "id": "89540c3f-dcf6-42cb-a1ad-884c3df1487f",
   "metadata": {},
   "outputs": [],
   "source": [
    "# Define the objective function for Optuna\n",
    "def objective(trial):\n",
    "    # Hyperparameter suggestions\n",
    "    hidden_units = trial.suggest_int(\"hidden_units\", 16, 128, step=16)\n",
    "    dropout_rate = trial.suggest_float(\"dropout_rate\", 0.2, 0.5)\n",
    "    learning_rate = trial.suggest_loguniform(\"learning_rate\", 1e-4, 1e-2)\n",
    "    batch_size = trial.suggest_int(\"batch_size\", 64, 256, step=64)\n",
    "    activation = trial.suggest_categorical(\"activation\", [\"relu\", \"tanh\"])\n",
    "    optimizer_name = trial.suggest_categorical(\"optimizer\", [\"adam\", \"rmsprop\"])\n",
    "    \n",
    "    # Build the Autoencoder\n",
    "    input_shape = X_train.shape[1]\n",
    "    input_data = Input(shape=(input_shape,))\n",
    "    encoded = Dense(hidden_units, activation=activation)(input_data)\n",
    "    encoded = BatchNormalization()(encoded)\n",
    "    encoded = Dropout(dropout_rate)(encoded)\n",
    "    decoded = Dense(input_shape, activation=\"sigmoid\")(encoded)\n",
    "    autoencoder = Model(input_data, decoded)\n",
    "    \n",
    "    # Compile the model\n",
    "    optimizer = Adam(learning_rate=learning_rate) if optimizer_name == \"adam\" else RMSprop(learning_rate=learning_rate)\n",
    "    autoencoder.compile(optimizer=optimizer, loss=\"mean_squared_error\")\n",
    "    \n",
    "    # Train the Autoencoder\n",
    "    early_stopping = EarlyStopping(monitor=\"val_loss\", patience=5, restore_best_weights=True)\n",
    "    autoencoder.fit(\n",
    "        X_train, X_train,\n",
    "        epochs=50,\n",
    "        batch_size=batch_size,\n",
    "        validation_data=(X_test, X_test),\n",
    "        shuffle=True,\n",
    "        callbacks=[early_stopping],\n",
    "        verbose=0\n",
    "    )\n",
    "    \n",
    "    # Predict and compute reconstruction errors\n",
    "    y_pred = autoencoder.predict(X_test)\n",
    "    mse = np.mean(np.power(X_test - y_pred, 2), axis=1)\n",
    "    threshold = np.percentile(mse, 85)  # Use 85th percentile as the anomaly threshold\n",
    "    y_pred_binary = (mse > threshold).astype(int)\n",
    "    \n",
    "    # Compute evaluation metrics\n",
    "    precision = precision_score(y_test, y_pred_binary)\n",
    "    recall = recall_score(y_test, y_pred_binary)\n",
    "    f1 = f1_score(y_test, y_pred_binary)\n",
    "    auc = roc_auc_score(y_test, mse)\n",
    "\n",
    "    # Combine metrics (weighted average for optimization)\n",
    "    return 0.4 * f1 + 0.3 * recall + 0.2 * precision + 0.1 * auc"
   ]
  },
  {
   "cell_type": "code",
   "execution_count": 79,
   "id": "b1d1562a-034c-4d8b-bcaa-b2ce626dff05",
   "metadata": {
    "scrolled": true
   },
   "outputs": [
    {
     "name": "stderr",
     "output_type": "stream",
     "text": [
      "[I 2024-12-01 17:08:35,926] A new study created in memory with name: no-name-5e38c1cf-858f-48a9-b7ee-47f9636d0e06\n",
      "C:\\Users\\azad.aliyev\\AppData\\Local\\Temp\\ipykernel_17300\\339139007.py:6: FutureWarning: suggest_loguniform has been deprecated in v3.0.0. This feature will be removed in v6.0.0. See https://github.com/optuna/optuna/releases/tag/v3.0.0. Use suggest_float(..., log=True) instead.\n",
      "  learning_rate = trial.suggest_loguniform(\"learning_rate\", 1e-4, 1e-2)\n"
     ]
    },
    {
     "name": "stdout",
     "output_type": "stream",
     "text": [
      "\u001b[1m7/7\u001b[0m \u001b[32m━━━━━━━━━━━━━━━━━━━━\u001b[0m\u001b[37m\u001b[0m \u001b[1m0s\u001b[0m 23ms/step\n",
      "\u001b[1m7/7\u001b[0m \u001b[32m━━━━━━━━━━━━━━━━━━━━\u001b[0m\u001b[37m\u001b[0m \u001b[1m0s\u001b[0m 25ms/step\n",
      "\u001b[1m1/7\u001b[0m \u001b[32m━━\u001b[0m\u001b[37m━━━━━━━━━━━━━━━━━━\u001b[0m \u001b[1m0s\u001b[0m 96ms/step"
     ]
    },
    {
     "name": "stderr",
     "output_type": "stream",
     "text": [
      "[I 2024-12-01 17:08:46,207] Trial 11 finished with value: 0.5195027407612907 and parameters: {'hidden_units': 64, 'dropout_rate': 0.2980288304559988, 'learning_rate': 0.008579881340764473, 'batch_size': 256, 'activation': 'relu', 'optimizer': 'adam'}. Best is trial 11 with value: 0.5195027407612907.\n",
      "[I 2024-12-01 17:08:46,227] Trial 7 finished with value: 0.269616739849298 and parameters: {'hidden_units': 32, 'dropout_rate': 0.40128650498271107, 'learning_rate': 0.008724482356087629, 'batch_size': 128, 'activation': 'tanh', 'optimizer': 'adam'}. Best is trial 11 with value: 0.5195027407612907.\n"
     ]
    },
    {
     "name": "stdout",
     "output_type": "stream",
     "text": [
      "\u001b[1m7/7\u001b[0m \u001b[32m━━━━━━━━━━━━━━━━━━━━\u001b[0m\u001b[37m\u001b[0m \u001b[1m0s\u001b[0m 28ms/step\n"
     ]
    },
    {
     "name": "stderr",
     "output_type": "stream",
     "text": [
      "C:\\Users\\azad.aliyev\\AppData\\Local\\Temp\\ipykernel_17300\\339139007.py:6: FutureWarning: suggest_loguniform has been deprecated in v3.0.0. This feature will be removed in v6.0.0. See https://github.com/optuna/optuna/releases/tag/v3.0.0. Use suggest_float(..., log=True) instead.\n",
      "  learning_rate = trial.suggest_loguniform(\"learning_rate\", 1e-4, 1e-2)\n"
     ]
    },
    {
     "name": "stdout",
     "output_type": "stream",
     "text": [
      "\u001b[1m1/7\u001b[0m \u001b[32m━━\u001b[0m\u001b[37m━━━━━━━━━━━━━━━━━━\u001b[0m \u001b[1m0s\u001b[0m 83ms/step"
     ]
    },
    {
     "name": "stderr",
     "output_type": "stream",
     "text": [
      "[I 2024-12-01 17:08:46,640] Trial 6 finished with value: 0.37211330393272934 and parameters: {'hidden_units': 112, 'dropout_rate': 0.222558676762171, 'learning_rate': 0.002357669827804014, 'batch_size': 128, 'activation': 'tanh', 'optimizer': 'adam'}. Best is trial 11 with value: 0.5195027407612907.\n"
     ]
    },
    {
     "name": "stdout",
     "output_type": "stream",
     "text": [
      "\u001b[1m7/7\u001b[0m \u001b[32m━━━━━━━━━━━━━━━━━━━━\u001b[0m\u001b[37m\u001b[0m \u001b[1m0s\u001b[0m 36ms/step\n"
     ]
    },
    {
     "name": "stderr",
     "output_type": "stream",
     "text": [
      "C:\\Users\\azad.aliyev\\AppData\\Local\\Temp\\ipykernel_17300\\339139007.py:6: FutureWarning: suggest_loguniform has been deprecated in v3.0.0. This feature will be removed in v6.0.0. See https://github.com/optuna/optuna/releases/tag/v3.0.0. Use suggest_float(..., log=True) instead.\n",
      "  learning_rate = trial.suggest_loguniform(\"learning_rate\", 1e-4, 1e-2)\n",
      "[I 2024-12-01 17:08:47,099] Trial 5 finished with value: 0.5694141244072844 and parameters: {'hidden_units': 96, 'dropout_rate': 0.3522057717600075, 'learning_rate': 0.002003273119627821, 'batch_size': 128, 'activation': 'tanh', 'optimizer': 'adam'}. Best is trial 5 with value: 0.5694141244072844.\n",
      "C:\\Users\\azad.aliyev\\AppData\\Local\\Temp\\ipykernel_17300\\339139007.py:6: FutureWarning: suggest_loguniform has been deprecated in v3.0.0. This feature will be removed in v6.0.0. See https://github.com/optuna/optuna/releases/tag/v3.0.0. Use suggest_float(..., log=True) instead.\n",
      "  learning_rate = trial.suggest_loguniform(\"learning_rate\", 1e-4, 1e-2)\n"
     ]
    },
    {
     "name": "stdout",
     "output_type": "stream",
     "text": [
      "\u001b[1m7/7\u001b[0m \u001b[32m━━━━━━━━━━━━━━━━━━━━\u001b[0m\u001b[37m\u001b[0m \u001b[1m0s\u001b[0m 15ms/step\n"
     ]
    },
    {
     "name": "stderr",
     "output_type": "stream",
     "text": [
      "[I 2024-12-01 17:08:52,374] Trial 10 finished with value: 0.5707715904706329 and parameters: {'hidden_units': 112, 'dropout_rate': 0.31463842210692794, 'learning_rate': 0.003694259534882374, 'batch_size': 64, 'activation': 'relu', 'optimizer': 'adam'}. Best is trial 10 with value: 0.5707715904706329.\n",
      "C:\\Users\\azad.aliyev\\AppData\\Local\\Temp\\ipykernel_17300\\339139007.py:6: FutureWarning: suggest_loguniform has been deprecated in v3.0.0. This feature will be removed in v6.0.0. See https://github.com/optuna/optuna/releases/tag/v3.0.0. Use suggest_float(..., log=True) instead.\n",
      "  learning_rate = trial.suggest_loguniform(\"learning_rate\", 1e-4, 1e-2)\n"
     ]
    },
    {
     "name": "stdout",
     "output_type": "stream",
     "text": [
      "\u001b[1m7/7\u001b[0m \u001b[32m━━━━━━━━━━━━━━━━━━━━\u001b[0m\u001b[37m\u001b[0m \u001b[1m0s\u001b[0m 18ms/step\n"
     ]
    },
    {
     "name": "stderr",
     "output_type": "stream",
     "text": [
      "[I 2024-12-01 17:08:54,458] Trial 1 finished with value: 0.30953223702881705 and parameters: {'hidden_units': 96, 'dropout_rate': 0.46449569948993835, 'learning_rate': 0.0035048724491669975, 'batch_size': 256, 'activation': 'relu', 'optimizer': 'rmsprop'}. Best is trial 10 with value: 0.5707715904706329.\n",
      "C:\\Users\\azad.aliyev\\AppData\\Local\\Temp\\ipykernel_17300\\339139007.py:6: FutureWarning: suggest_loguniform has been deprecated in v3.0.0. This feature will be removed in v6.0.0. See https://github.com/optuna/optuna/releases/tag/v3.0.0. Use suggest_float(..., log=True) instead.\n",
      "  learning_rate = trial.suggest_loguniform(\"learning_rate\", 1e-4, 1e-2)\n"
     ]
    },
    {
     "name": "stdout",
     "output_type": "stream",
     "text": [
      "\u001b[1m7/7\u001b[0m \u001b[32m━━━━━━━━━━━━━━━━━━━━\u001b[0m\u001b[37m\u001b[0m \u001b[1m0s\u001b[0m 29ms/step\n",
      "\u001b[1m5/7\u001b[0m \u001b[32m━━━━━━━━━━━━━━\u001b[0m\u001b[37m━━━━━━\u001b[0m \u001b[1m0s\u001b[0m 13ms/step "
     ]
    },
    {
     "name": "stderr",
     "output_type": "stream",
     "text": [
      "[I 2024-12-01 17:08:55,407] Trial 9 finished with value: 0.31529118396423456 and parameters: {'hidden_units': 32, 'dropout_rate': 0.28284011691854916, 'learning_rate': 0.005909070396309509, 'batch_size': 192, 'activation': 'tanh', 'optimizer': 'rmsprop'}. Best is trial 10 with value: 0.5707715904706329.\n"
     ]
    },
    {
     "name": "stdout",
     "output_type": "stream",
     "text": [
      "\u001b[1m7/7\u001b[0m \u001b[32m━━━━━━━━━━━━━━━━━━━━\u001b[0m\u001b[37m\u001b[0m \u001b[1m0s\u001b[0m 29ms/step\n",
      "\u001b[1m7/7\u001b[0m \u001b[32m━━━━━━━━━━━━━━━━━━━━\u001b[0m\u001b[37m\u001b[0m \u001b[1m0s\u001b[0m 37ms/step\n",
      "\u001b[1m7/7\u001b[0m \u001b[32m━━━━━━━━━━━━━━━━━━━━\u001b[0m\u001b[37m\u001b[0m \u001b[1m0s\u001b[0m 28ms/step\n"
     ]
    },
    {
     "name": "stderr",
     "output_type": "stream",
     "text": [
      "C:\\Users\\azad.aliyev\\AppData\\Local\\Temp\\ipykernel_17300\\339139007.py:6: FutureWarning: suggest_loguniform has been deprecated in v3.0.0. This feature will be removed in v6.0.0. See https://github.com/optuna/optuna/releases/tag/v3.0.0. Use suggest_float(..., log=True) instead.\n",
      "  learning_rate = trial.suggest_loguniform(\"learning_rate\", 1e-4, 1e-2)\n",
      "[I 2024-12-01 17:08:55,643] Trial 0 finished with value: 0.24061632849594547 and parameters: {'hidden_units': 32, 'dropout_rate': 0.42322726270592476, 'learning_rate': 0.0014696376667441102, 'batch_size': 256, 'activation': 'relu', 'optimizer': 'adam'}. Best is trial 10 with value: 0.5707715904706329.\n",
      "C:\\Users\\azad.aliyev\\AppData\\Local\\Temp\\ipykernel_17300\\339139007.py:6: FutureWarning: suggest_loguniform has been deprecated in v3.0.0. This feature will be removed in v6.0.0. See https://github.com/optuna/optuna/releases/tag/v3.0.0. Use suggest_float(..., log=True) instead.\n",
      "  learning_rate = trial.suggest_loguniform(\"learning_rate\", 1e-4, 1e-2)\n",
      "[I 2024-12-01 17:08:55,732] Trial 4 finished with value: 0.5731163045800529 and parameters: {'hidden_units': 48, 'dropout_rate': 0.24591471570878104, 'learning_rate': 0.007239624705298143, 'batch_size': 128, 'activation': 'tanh', 'optimizer': 'adam'}. Best is trial 4 with value: 0.5731163045800529.\n",
      "C:\\Users\\azad.aliyev\\AppData\\Local\\Temp\\ipykernel_17300\\339139007.py:6: FutureWarning: suggest_loguniform has been deprecated in v3.0.0. This feature will be removed in v6.0.0. See https://github.com/optuna/optuna/releases/tag/v3.0.0. Use suggest_float(..., log=True) instead.\n",
      "  learning_rate = trial.suggest_loguniform(\"learning_rate\", 1e-4, 1e-2)\n",
      "[I 2024-12-01 17:08:55,776] Trial 2 finished with value: 0.31512664262322265 and parameters: {'hidden_units': 128, 'dropout_rate': 0.4342361604527256, 'learning_rate': 0.000133505038531084, 'batch_size': 192, 'activation': 'tanh', 'optimizer': 'rmsprop'}. Best is trial 4 with value: 0.5731163045800529.\n",
      "C:\\Users\\azad.aliyev\\AppData\\Local\\Temp\\ipykernel_17300\\339139007.py:6: FutureWarning: suggest_loguniform has been deprecated in v3.0.0. This feature will be removed in v6.0.0. See https://github.com/optuna/optuna/releases/tag/v3.0.0. Use suggest_float(..., log=True) instead.\n",
      "  learning_rate = trial.suggest_loguniform(\"learning_rate\", 1e-4, 1e-2)\n"
     ]
    },
    {
     "name": "stdout",
     "output_type": "stream",
     "text": [
      "\u001b[1m7/7\u001b[0m \u001b[32m━━━━━━━━━━━━━━━━━━━━\u001b[0m\u001b[37m\u001b[0m \u001b[1m0s\u001b[0m 41ms/step\n"
     ]
    },
    {
     "name": "stderr",
     "output_type": "stream",
     "text": [
      "[I 2024-12-01 17:08:56,871] Trial 8 finished with value: 0.27019263454283976 and parameters: {'hidden_units': 80, 'dropout_rate': 0.49844938422547247, 'learning_rate': 0.000267670721445346, 'batch_size': 192, 'activation': 'tanh', 'optimizer': 'adam'}. Best is trial 4 with value: 0.5731163045800529.\n",
      "C:\\Users\\azad.aliyev\\AppData\\Local\\Temp\\ipykernel_17300\\339139007.py:6: FutureWarning: suggest_loguniform has been deprecated in v3.0.0. This feature will be removed in v6.0.0. See https://github.com/optuna/optuna/releases/tag/v3.0.0. Use suggest_float(..., log=True) instead.\n",
      "  learning_rate = trial.suggest_loguniform(\"learning_rate\", 1e-4, 1e-2)\n"
     ]
    },
    {
     "name": "stdout",
     "output_type": "stream",
     "text": [
      "\u001b[1m7/7\u001b[0m \u001b[32m━━━━━━━━━━━━━━━━━━━━\u001b[0m\u001b[37m\u001b[0m \u001b[1m0s\u001b[0m 37ms/step\n"
     ]
    },
    {
     "name": "stderr",
     "output_type": "stream",
     "text": [
      "[I 2024-12-01 17:09:01,915] Trial 3 finished with value: 0.5669460042921055 and parameters: {'hidden_units': 112, 'dropout_rate': 0.32907126984548174, 'learning_rate': 0.0005015517010075425, 'batch_size': 64, 'activation': 'tanh', 'optimizer': 'adam'}. Best is trial 4 with value: 0.5731163045800529.\n",
      "C:\\Users\\azad.aliyev\\AppData\\Local\\Temp\\ipykernel_17300\\339139007.py:6: FutureWarning: suggest_loguniform has been deprecated in v3.0.0. This feature will be removed in v6.0.0. See https://github.com/optuna/optuna/releases/tag/v3.0.0. Use suggest_float(..., log=True) instead.\n",
      "  learning_rate = trial.suggest_loguniform(\"learning_rate\", 1e-4, 1e-2)\n"
     ]
    },
    {
     "name": "stdout",
     "output_type": "stream",
     "text": [
      "\u001b[1m7/7\u001b[0m \u001b[32m━━━━━━━━━━━━━━━━━━━━\u001b[0m\u001b[37m\u001b[0m \u001b[1m0s\u001b[0m 30ms/step\n",
      "\u001b[1m1/7\u001b[0m \u001b[32m━━\u001b[0m\u001b[37m━━━━━━━━━━━━━━━━━━\u001b[0m \u001b[1m0s\u001b[0m 133ms/step"
     ]
    },
    {
     "name": "stderr",
     "output_type": "stream",
     "text": [
      "[I 2024-12-01 17:09:04,410] Trial 14 finished with value: 0.5222176728879875 and parameters: {'hidden_units': 16, 'dropout_rate': 0.2808244636765941, 'learning_rate': 0.0001309303858548284, 'batch_size': 128, 'activation': 'tanh', 'optimizer': 'rmsprop'}. Best is trial 4 with value: 0.5731163045800529.\n"
     ]
    },
    {
     "name": "stdout",
     "output_type": "stream",
     "text": [
      "\u001b[1m7/7\u001b[0m \u001b[32m━━━━━━━━━━━━━━━━━━━━\u001b[0m\u001b[37m\u001b[0m \u001b[1m0s\u001b[0m 36ms/step\n"
     ]
    },
    {
     "name": "stderr",
     "output_type": "stream",
     "text": [
      "C:\\Users\\azad.aliyev\\AppData\\Local\\Temp\\ipykernel_17300\\339139007.py:6: FutureWarning: suggest_loguniform has been deprecated in v3.0.0. This feature will be removed in v6.0.0. See https://github.com/optuna/optuna/releases/tag/v3.0.0. Use suggest_float(..., log=True) instead.\n",
      "  learning_rate = trial.suggest_loguniform(\"learning_rate\", 1e-4, 1e-2)\n",
      "[I 2024-12-01 17:09:04,960] Trial 13 finished with value: 0.6177212299784121 and parameters: {'hidden_units': 128, 'dropout_rate': 0.33653017629772697, 'learning_rate': 0.00016778802796844179, 'batch_size': 192, 'activation': 'tanh', 'optimizer': 'adam'}. Best is trial 13 with value: 0.6177212299784121.\n",
      "C:\\Users\\azad.aliyev\\AppData\\Local\\Temp\\ipykernel_17300\\339139007.py:6: FutureWarning: suggest_loguniform has been deprecated in v3.0.0. This feature will be removed in v6.0.0. See https://github.com/optuna/optuna/releases/tag/v3.0.0. Use suggest_float(..., log=True) instead.\n",
      "  learning_rate = trial.suggest_loguniform(\"learning_rate\", 1e-4, 1e-2)\n"
     ]
    },
    {
     "name": "stdout",
     "output_type": "stream",
     "text": [
      "\u001b[1m7/7\u001b[0m \u001b[32m━━━━━━━━━━━━━━━━━━━━\u001b[0m\u001b[37m\u001b[0m \u001b[1m0s\u001b[0m 47ms/step\n"
     ]
    },
    {
     "name": "stderr",
     "output_type": "stream",
     "text": [
      "[I 2024-12-01 17:09:05,955] Trial 15 finished with value: 0.41651255265482356 and parameters: {'hidden_units': 16, 'dropout_rate': 0.36992912867065947, 'learning_rate': 0.002771172880983621, 'batch_size': 192, 'activation': 'tanh', 'optimizer': 'adam'}. Best is trial 13 with value: 0.6177212299784121.\n",
      "C:\\Users\\azad.aliyev\\AppData\\Local\\Temp\\ipykernel_17300\\339139007.py:6: FutureWarning: suggest_loguniform has been deprecated in v3.0.0. This feature will be removed in v6.0.0. See https://github.com/optuna/optuna/releases/tag/v3.0.0. Use suggest_float(..., log=True) instead.\n",
      "  learning_rate = trial.suggest_loguniform(\"learning_rate\", 1e-4, 1e-2)\n"
     ]
    },
    {
     "name": "stdout",
     "output_type": "stream",
     "text": [
      "\u001b[1m7/7\u001b[0m \u001b[32m━━━━━━━━━━━━━━━━━━━━\u001b[0m\u001b[37m\u001b[0m \u001b[1m0s\u001b[0m 36ms/step\n",
      "\u001b[1m7/7\u001b[0m \u001b[32m━━━━━━━━━━━━━━━━━━━━\u001b[0m\u001b[37m\u001b[0m \u001b[1m0s\u001b[0m 34ms/step\n"
     ]
    },
    {
     "name": "stderr",
     "output_type": "stream",
     "text": [
      "[I 2024-12-01 17:09:10,784] Trial 17 finished with value: 0.36561392096275813 and parameters: {'hidden_units': 48, 'dropout_rate': 0.23101738596762003, 'learning_rate': 0.0013170575056245227, 'batch_size': 128, 'activation': 'relu', 'optimizer': 'rmsprop'}. Best is trial 13 with value: 0.6177212299784121.\n",
      "C:\\Users\\azad.aliyev\\AppData\\Local\\Temp\\ipykernel_17300\\339139007.py:6: FutureWarning: suggest_loguniform has been deprecated in v3.0.0. This feature will be removed in v6.0.0. See https://github.com/optuna/optuna/releases/tag/v3.0.0. Use suggest_float(..., log=True) instead.\n",
      "  learning_rate = trial.suggest_loguniform(\"learning_rate\", 1e-4, 1e-2)\n",
      "[I 2024-12-01 17:09:11,016] Trial 12 finished with value: 0.5649715081999623 and parameters: {'hidden_units': 96, 'dropout_rate': 0.4441536765654029, 'learning_rate': 0.00011815694926534795, 'batch_size': 64, 'activation': 'tanh', 'optimizer': 'adam'}. Best is trial 13 with value: 0.6177212299784121.\n",
      "C:\\Users\\azad.aliyev\\AppData\\Local\\Temp\\ipykernel_17300\\339139007.py:6: FutureWarning: suggest_loguniform has been deprecated in v3.0.0. This feature will be removed in v6.0.0. See https://github.com/optuna/optuna/releases/tag/v3.0.0. Use suggest_float(..., log=True) instead.\n",
      "  learning_rate = trial.suggest_loguniform(\"learning_rate\", 1e-4, 1e-2)\n"
     ]
    },
    {
     "name": "stdout",
     "output_type": "stream",
     "text": [
      "\u001b[1m7/7\u001b[0m \u001b[32m━━━━━━━━━━━━━━━━━━━━\u001b[0m\u001b[37m\u001b[0m \u001b[1m0s\u001b[0m 30ms/step\n"
     ]
    },
    {
     "name": "stderr",
     "output_type": "stream",
     "text": [
      "[I 2024-12-01 17:09:11,823] Trial 16 finished with value: 0.42054381550961584 and parameters: {'hidden_units': 128, 'dropout_rate': 0.3218429184408513, 'learning_rate': 0.0005255748014370559, 'batch_size': 128, 'activation': 'relu', 'optimizer': 'rmsprop'}. Best is trial 13 with value: 0.6177212299784121.\n",
      "C:\\Users\\azad.aliyev\\AppData\\Local\\Temp\\ipykernel_17300\\339139007.py:6: FutureWarning: suggest_loguniform has been deprecated in v3.0.0. This feature will be removed in v6.0.0. See https://github.com/optuna/optuna/releases/tag/v3.0.0. Use suggest_float(..., log=True) instead.\n",
      "  learning_rate = trial.suggest_loguniform(\"learning_rate\", 1e-4, 1e-2)\n"
     ]
    },
    {
     "name": "stdout",
     "output_type": "stream",
     "text": [
      "\u001b[1m7/7\u001b[0m \u001b[32m━━━━━━━━━━━━━━━━━━━━\u001b[0m\u001b[37m\u001b[0m \u001b[1m0s\u001b[0m 30ms/step\n"
     ]
    },
    {
     "name": "stderr",
     "output_type": "stream",
     "text": [
      "[I 2024-12-01 17:09:14,927] Trial 18 finished with value: 0.21522160466072915 and parameters: {'hidden_units': 112, 'dropout_rate': 0.45519808247884086, 'learning_rate': 0.0005934138958753222, 'batch_size': 256, 'activation': 'relu', 'optimizer': 'adam'}. Best is trial 13 with value: 0.6177212299784121.\n",
      "C:\\Users\\azad.aliyev\\AppData\\Local\\Temp\\ipykernel_17300\\339139007.py:6: FutureWarning: suggest_loguniform has been deprecated in v3.0.0. This feature will be removed in v6.0.0. See https://github.com/optuna/optuna/releases/tag/v3.0.0. Use suggest_float(..., log=True) instead.\n",
      "  learning_rate = trial.suggest_loguniform(\"learning_rate\", 1e-4, 1e-2)\n"
     ]
    },
    {
     "name": "stdout",
     "output_type": "stream",
     "text": [
      "\u001b[1m7/7\u001b[0m \u001b[32m━━━━━━━━━━━━━━━━━━━━\u001b[0m\u001b[37m\u001b[0m \u001b[1m0s\u001b[0m 43ms/step\n",
      "\u001b[1m5/7\u001b[0m \u001b[32m━━━━━━━━━━━━━━\u001b[0m\u001b[37m━━━━━━\u001b[0m \u001b[1m0s\u001b[0m 13ms/step "
     ]
    },
    {
     "name": "stderr",
     "output_type": "stream",
     "text": [
      "[I 2024-12-01 17:09:15,747] Trial 19 finished with value: 0.319034499472256 and parameters: {'hidden_units': 96, 'dropout_rate': 0.27383699323549093, 'learning_rate': 0.0003184477452103259, 'batch_size': 128, 'activation': 'relu', 'optimizer': 'rmsprop'}. Best is trial 13 with value: 0.6177212299784121.\n"
     ]
    },
    {
     "name": "stdout",
     "output_type": "stream",
     "text": [
      "\u001b[1m7/7\u001b[0m \u001b[32m━━━━━━━━━━━━━━━━━━━━\u001b[0m\u001b[37m\u001b[0m \u001b[1m0s\u001b[0m 39ms/step\n"
     ]
    },
    {
     "name": "stderr",
     "output_type": "stream",
     "text": [
      "C:\\Users\\azad.aliyev\\AppData\\Local\\Temp\\ipykernel_17300\\339139007.py:6: FutureWarning: suggest_loguniform has been deprecated in v3.0.0. This feature will be removed in v6.0.0. See https://github.com/optuna/optuna/releases/tag/v3.0.0. Use suggest_float(..., log=True) instead.\n",
      "  learning_rate = trial.suggest_loguniform(\"learning_rate\", 1e-4, 1e-2)\n",
      "[I 2024-12-01 17:09:16,206] Trial 20 finished with value: 0.5741446879613774 and parameters: {'hidden_units': 32, 'dropout_rate': 0.4557967625767392, 'learning_rate': 0.007110324800838578, 'batch_size': 192, 'activation': 'relu', 'optimizer': 'adam'}. Best is trial 13 with value: 0.6177212299784121.\n",
      "C:\\Users\\azad.aliyev\\AppData\\Local\\Temp\\ipykernel_17300\\339139007.py:6: FutureWarning: suggest_loguniform has been deprecated in v3.0.0. This feature will be removed in v6.0.0. See https://github.com/optuna/optuna/releases/tag/v3.0.0. Use suggest_float(..., log=True) instead.\n",
      "  learning_rate = trial.suggest_loguniform(\"learning_rate\", 1e-4, 1e-2)\n"
     ]
    },
    {
     "name": "stdout",
     "output_type": "stream",
     "text": [
      "\u001b[1m7/7\u001b[0m \u001b[32m━━━━━━━━━━━━━━━━━━━━\u001b[0m\u001b[37m\u001b[0m \u001b[1m0s\u001b[0m 32ms/step\n",
      "\u001b[1m1/7\u001b[0m \u001b[32m━━\u001b[0m\u001b[37m━━━━━━━━━━━━━━━━━━\u001b[0m \u001b[1m0s\u001b[0m 144ms/step"
     ]
    },
    {
     "name": "stderr",
     "output_type": "stream",
     "text": [
      "[I 2024-12-01 17:09:19,385] Trial 22 finished with value: 0.356687553212861 and parameters: {'hidden_units': 64, 'dropout_rate': 0.20998824331288143, 'learning_rate': 0.0007369683396170729, 'batch_size': 64, 'activation': 'relu', 'optimizer': 'adam'}. Best is trial 13 with value: 0.6177212299784121.\n"
     ]
    },
    {
     "name": "stdout",
     "output_type": "stream",
     "text": [
      "\u001b[1m6/7\u001b[0m \u001b[32m━━━━━━━━━━━━━━━━━\u001b[0m\u001b[37m━━━\u001b[0m \u001b[1m0s\u001b[0m 12ms/step "
     ]
    },
    {
     "name": "stderr",
     "output_type": "stream",
     "text": [
      "C:\\Users\\azad.aliyev\\AppData\\Local\\Temp\\ipykernel_17300\\339139007.py:6: FutureWarning: suggest_loguniform has been deprecated in v3.0.0. This feature will be removed in v6.0.0. See https://github.com/optuna/optuna/releases/tag/v3.0.0. Use suggest_float(..., log=True) instead.\n",
      "  learning_rate = trial.suggest_loguniform(\"learning_rate\", 1e-4, 1e-2)\n"
     ]
    },
    {
     "name": "stdout",
     "output_type": "stream",
     "text": [
      "\u001b[1m7/7\u001b[0m \u001b[32m━━━━━━━━━━━━━━━━━━━━\u001b[0m\u001b[37m\u001b[0m \u001b[1m0s\u001b[0m 52ms/step\n"
     ]
    },
    {
     "name": "stderr",
     "output_type": "stream",
     "text": [
      "[I 2024-12-01 17:09:19,979] Trial 24 finished with value: 0.4144146505569215 and parameters: {'hidden_units': 64, 'dropout_rate': 0.20405186270686726, 'learning_rate': 0.004190724849165909, 'batch_size': 64, 'activation': 'relu', 'optimizer': 'adam'}. Best is trial 13 with value: 0.6177212299784121.\n",
      "C:\\Users\\azad.aliyev\\AppData\\Local\\Temp\\ipykernel_17300\\339139007.py:6: FutureWarning: suggest_loguniform has been deprecated in v3.0.0. This feature will be removed in v6.0.0. See https://github.com/optuna/optuna/releases/tag/v3.0.0. Use suggest_float(..., log=True) instead.\n",
      "  learning_rate = trial.suggest_loguniform(\"learning_rate\", 1e-4, 1e-2)\n"
     ]
    },
    {
     "name": "stdout",
     "output_type": "stream",
     "text": [
      "\u001b[1m7/7\u001b[0m \u001b[32m━━━━━━━━━━━━━━━━━━━━\u001b[0m\u001b[37m\u001b[0m \u001b[1m0s\u001b[0m 41ms/step\n"
     ]
    },
    {
     "name": "stderr",
     "output_type": "stream",
     "text": [
      "[I 2024-12-01 17:09:21,381] Trial 21 finished with value: 0.5695786657482964 and parameters: {'hidden_units': 64, 'dropout_rate': 0.20738852061357724, 'learning_rate': 0.0005001693312705199, 'batch_size': 64, 'activation': 'tanh', 'optimizer': 'rmsprop'}. Best is trial 13 with value: 0.6177212299784121.\n",
      "C:\\Users\\azad.aliyev\\AppData\\Local\\Temp\\ipykernel_17300\\339139007.py:6: FutureWarning: suggest_loguniform has been deprecated in v3.0.0. This feature will be removed in v6.0.0. See https://github.com/optuna/optuna/releases/tag/v3.0.0. Use suggest_float(..., log=True) instead.\n",
      "  learning_rate = trial.suggest_loguniform(\"learning_rate\", 1e-4, 1e-2)\n"
     ]
    },
    {
     "name": "stdout",
     "output_type": "stream",
     "text": [
      "\u001b[1m7/7\u001b[0m \u001b[32m━━━━━━━━━━━━━━━━━━━━\u001b[0m\u001b[37m\u001b[0m \u001b[1m0s\u001b[0m 37ms/step\n"
     ]
    },
    {
     "name": "stderr",
     "output_type": "stream",
     "text": [
      "[I 2024-12-01 17:09:23,555] Trial 23 finished with value: 0.3690281537887557 and parameters: {'hidden_units': 64, 'dropout_rate': 0.20707882824659443, 'learning_rate': 0.004101874067667552, 'batch_size': 64, 'activation': 'relu', 'optimizer': 'adam'}. Best is trial 13 with value: 0.6177212299784121.\n",
      "C:\\Users\\azad.aliyev\\AppData\\Local\\Temp\\ipykernel_17300\\339139007.py:6: FutureWarning: suggest_loguniform has been deprecated in v3.0.0. This feature will be removed in v6.0.0. See https://github.com/optuna/optuna/releases/tag/v3.0.0. Use suggest_float(..., log=True) instead.\n",
      "  learning_rate = trial.suggest_loguniform(\"learning_rate\", 1e-4, 1e-2)\n"
     ]
    },
    {
     "name": "stdout",
     "output_type": "stream",
     "text": [
      "\u001b[1m7/7\u001b[0m \u001b[32m━━━━━━━━━━━━━━━━━━━━\u001b[0m\u001b[37m\u001b[0m \u001b[1m0s\u001b[0m 52ms/step\n"
     ]
    },
    {
     "name": "stderr",
     "output_type": "stream",
     "text": [
      "[I 2024-12-01 17:09:25,767] Trial 32 finished with value: 0.5689616357195016 and parameters: {'hidden_units': 64, 'dropout_rate': 0.3878236563681525, 'learning_rate': 0.005149212365908173, 'batch_size': 192, 'activation': 'tanh', 'optimizer': 'adam'}. Best is trial 13 with value: 0.6177212299784121.\n",
      "C:\\Users\\azad.aliyev\\AppData\\Local\\Temp\\ipykernel_17300\\339139007.py:6: FutureWarning: suggest_loguniform has been deprecated in v3.0.0. This feature will be removed in v6.0.0. See https://github.com/optuna/optuna/releases/tag/v3.0.0. Use suggest_float(..., log=True) instead.\n",
      "  learning_rate = trial.suggest_loguniform(\"learning_rate\", 1e-4, 1e-2)\n"
     ]
    },
    {
     "name": "stdout",
     "output_type": "stream",
     "text": [
      "\u001b[1m7/7\u001b[0m \u001b[32m━━━━━━━━━━━━━━━━━━━━\u001b[0m\u001b[37m\u001b[0m \u001b[1m0s\u001b[0m 35ms/step\n",
      "\u001b[1m7/7\u001b[0m \u001b[32m━━━━━━━━━━━━━━━━━━━━\u001b[0m\u001b[37m\u001b[0m \u001b[1m0s\u001b[0m 37ms/step\n"
     ]
    },
    {
     "name": "stderr",
     "output_type": "stream",
     "text": [
      "[I 2024-12-01 17:09:27,514] Trial 33 finished with value: 0.5694552597425374 and parameters: {'hidden_units': 48, 'dropout_rate': 0.2519593721324599, 'learning_rate': 0.005413193261468887, 'batch_size': 192, 'activation': 'tanh', 'optimizer': 'adam'}. Best is trial 13 with value: 0.6177212299784121.\n",
      "C:\\Users\\azad.aliyev\\AppData\\Local\\Temp\\ipykernel_17300\\339139007.py:6: FutureWarning: suggest_loguniform has been deprecated in v3.0.0. This feature will be removed in v6.0.0. See https://github.com/optuna/optuna/releases/tag/v3.0.0. Use suggest_float(..., log=True) instead.\n",
      "  learning_rate = trial.suggest_loguniform(\"learning_rate\", 1e-4, 1e-2)\n",
      "[I 2024-12-01 17:09:27,730] Trial 25 finished with value: 0.31775930407941355 and parameters: {'hidden_units': 64, 'dropout_rate': 0.21007823709378176, 'learning_rate': 0.0007006706326565024, 'batch_size': 192, 'activation': 'tanh', 'optimizer': 'adam'}. Best is trial 13 with value: 0.6177212299784121.\n",
      "C:\\Users\\azad.aliyev\\AppData\\Local\\Temp\\ipykernel_17300\\339139007.py:6: FutureWarning: suggest_loguniform has been deprecated in v3.0.0. This feature will be removed in v6.0.0. See https://github.com/optuna/optuna/releases/tag/v3.0.0. Use suggest_float(..., log=True) instead.\n",
      "  learning_rate = trial.suggest_loguniform(\"learning_rate\", 1e-4, 1e-2)\n"
     ]
    },
    {
     "name": "stdout",
     "output_type": "stream",
     "text": [
      "\u001b[1m7/7\u001b[0m \u001b[32m━━━━━━━━━━━━━━━━━━━━\u001b[0m\u001b[37m\u001b[0m \u001b[1m0s\u001b[0m 43ms/step\n"
     ]
    },
    {
     "name": "stderr",
     "output_type": "stream",
     "text": [
      "[I 2024-12-01 17:09:28,687] Trial 34 finished with value: 0.5197906881080616 and parameters: {'hidden_units': 48, 'dropout_rate': 0.38511247704377616, 'learning_rate': 0.005751643329672899, 'batch_size': 192, 'activation': 'tanh', 'optimizer': 'adam'}. Best is trial 13 with value: 0.6177212299784121.\n",
      "C:\\Users\\azad.aliyev\\AppData\\Local\\Temp\\ipykernel_17300\\339139007.py:6: FutureWarning: suggest_loguniform has been deprecated in v3.0.0. This feature will be removed in v6.0.0. See https://github.com/optuna/optuna/releases/tag/v3.0.0. Use suggest_float(..., log=True) instead.\n",
      "  learning_rate = trial.suggest_loguniform(\"learning_rate\", 1e-4, 1e-2)\n"
     ]
    },
    {
     "name": "stdout",
     "output_type": "stream",
     "text": [
      "\u001b[1m7/7\u001b[0m \u001b[32m━━━━━━━━━━━━━━━━━━━━\u001b[0m\u001b[37m\u001b[0m \u001b[1m1s\u001b[0m 43ms/step\n"
     ]
    },
    {
     "name": "stderr",
     "output_type": "stream",
     "text": [
      "[I 2024-12-01 17:09:31,412] Trial 31 finished with value: 0.21847129614571476 and parameters: {'hidden_units': 64, 'dropout_rate': 0.24737212205593878, 'learning_rate': 0.0009103471977247769, 'batch_size': 192, 'activation': 'tanh', 'optimizer': 'adam'}. Best is trial 13 with value: 0.6177212299784121.\n"
     ]
    },
    {
     "name": "stdout",
     "output_type": "stream",
     "text": [
      "\u001b[1m7/7\u001b[0m \u001b[32m━━━━━━━━━━━━━━━━━━━━\u001b[0m\u001b[37m\u001b[0m \u001b[1m0s\u001b[0m 26ms/step "
     ]
    },
    {
     "name": "stderr",
     "output_type": "stream",
     "text": [
      "C:\\Users\\azad.aliyev\\AppData\\Local\\Temp\\ipykernel_17300\\339139007.py:6: FutureWarning: suggest_loguniform has been deprecated in v3.0.0. This feature will be removed in v6.0.0. See https://github.com/optuna/optuna/releases/tag/v3.0.0. Use suggest_float(..., log=True) instead.\n",
      "  learning_rate = trial.suggest_loguniform(\"learning_rate\", 1e-4, 1e-2)\n"
     ]
    },
    {
     "name": "stdout",
     "output_type": "stream",
     "text": [
      "\u001b[1m7/7\u001b[0m \u001b[32m━━━━━━━━━━━━━━━━━━━━\u001b[0m\u001b[37m\u001b[0m \u001b[1m0s\u001b[0m 33ms/step\n"
     ]
    },
    {
     "name": "stderr",
     "output_type": "stream",
     "text": [
      "[I 2024-12-01 17:09:32,091] Trial 36 finished with value: 0.5693729890720315 and parameters: {'hidden_units': 48, 'dropout_rate': 0.25011066845004837, 'learning_rate': 0.006094314077407563, 'batch_size': 192, 'activation': 'tanh', 'optimizer': 'adam'}. Best is trial 13 with value: 0.6177212299784121.\n",
      "C:\\Users\\azad.aliyev\\AppData\\Local\\Temp\\ipykernel_17300\\339139007.py:6: FutureWarning: suggest_loguniform has been deprecated in v3.0.0. This feature will be removed in v6.0.0. See https://github.com/optuna/optuna/releases/tag/v3.0.0. Use suggest_float(..., log=True) instead.\n",
      "  learning_rate = trial.suggest_loguniform(\"learning_rate\", 1e-4, 1e-2)\n"
     ]
    },
    {
     "name": "stdout",
     "output_type": "stream",
     "text": [
      "\u001b[1m7/7\u001b[0m \u001b[32m━━━━━━━━━━━━━━━━━━━━\u001b[0m\u001b[37m\u001b[0m \u001b[1m0s\u001b[0m 46ms/step\n"
     ]
    },
    {
     "name": "stderr",
     "output_type": "stream",
     "text": [
      "[I 2024-12-01 17:09:34,548] Trial 28 finished with value: 0.2657088830002647 and parameters: {'hidden_units': 64, 'dropout_rate': 0.2548005801972643, 'learning_rate': 0.0006677342928937961, 'batch_size': 192, 'activation': 'tanh', 'optimizer': 'adam'}. Best is trial 13 with value: 0.6177212299784121.\n",
      "C:\\Users\\azad.aliyev\\AppData\\Local\\Temp\\ipykernel_17300\\339139007.py:6: FutureWarning: suggest_loguniform has been deprecated in v3.0.0. This feature will be removed in v6.0.0. See https://github.com/optuna/optuna/releases/tag/v3.0.0. Use suggest_float(..., log=True) instead.\n",
      "  learning_rate = trial.suggest_loguniform(\"learning_rate\", 1e-4, 1e-2)\n"
     ]
    },
    {
     "name": "stdout",
     "output_type": "stream",
     "text": [
      "\u001b[1m7/7\u001b[0m \u001b[32m━━━━━━━━━━━━━━━━━━━━\u001b[0m\u001b[37m\u001b[0m \u001b[1m0s\u001b[0m 44ms/step\n",
      "\u001b[1m7/7\u001b[0m \u001b[32m━━━━━━━━━━━━━━━━━━━━\u001b[0m\u001b[37m\u001b[0m \u001b[1m0s\u001b[0m 51ms/step\n"
     ]
    },
    {
     "name": "stderr",
     "output_type": "stream",
     "text": [
      "[I 2024-12-01 17:09:35,977] Trial 26 finished with value: 0.5725404098865111 and parameters: {'hidden_units': 64, 'dropout_rate': 0.20703763493350658, 'learning_rate': 0.0006734774337329374, 'batch_size': 64, 'activation': 'tanh', 'optimizer': 'adam'}. Best is trial 13 with value: 0.6177212299784121.\n"
     ]
    },
    {
     "name": "stdout",
     "output_type": "stream",
     "text": [
      "\u001b[1m7/7\u001b[0m \u001b[32m━━━━━━━━━━━━━━━━━━━━\u001b[0m\u001b[37m\u001b[0m \u001b[1m0s\u001b[0m 46ms/step\n"
     ]
    },
    {
     "name": "stderr",
     "output_type": "stream",
     "text": [
      "C:\\Users\\azad.aliyev\\AppData\\Local\\Temp\\ipykernel_17300\\339139007.py:6: FutureWarning: suggest_loguniform has been deprecated in v3.0.0. This feature will be removed in v6.0.0. See https://github.com/optuna/optuna/releases/tag/v3.0.0. Use suggest_float(..., log=True) instead.\n",
      "  learning_rate = trial.suggest_loguniform(\"learning_rate\", 1e-4, 1e-2)\n",
      "[I 2024-12-01 17:09:36,323] Trial 29 finished with value: 0.21657907072407756 and parameters: {'hidden_units': 64, 'dropout_rate': 0.2585307630431004, 'learning_rate': 0.0006326218252584696, 'batch_size': 192, 'activation': 'tanh', 'optimizer': 'adam'}. Best is trial 13 with value: 0.6177212299784121.\n",
      "C:\\Users\\azad.aliyev\\AppData\\Local\\Temp\\ipykernel_17300\\339139007.py:6: FutureWarning: suggest_loguniform has been deprecated in v3.0.0. This feature will be removed in v6.0.0. See https://github.com/optuna/optuna/releases/tag/v3.0.0. Use suggest_float(..., log=True) instead.\n",
      "  learning_rate = trial.suggest_loguniform(\"learning_rate\", 1e-4, 1e-2)\n",
      "[I 2024-12-01 17:09:36,603] Trial 27 finished with value: 0.5139494705021381 and parameters: {'hidden_units': 64, 'dropout_rate': 0.25320047389897227, 'learning_rate': 0.0006564489109578967, 'batch_size': 64, 'activation': 'tanh', 'optimizer': 'adam'}. Best is trial 13 with value: 0.6177212299784121.\n",
      "C:\\Users\\azad.aliyev\\AppData\\Local\\Temp\\ipykernel_17300\\339139007.py:6: FutureWarning: suggest_loguniform has been deprecated in v3.0.0. This feature will be removed in v6.0.0. See https://github.com/optuna/optuna/releases/tag/v3.0.0. Use suggest_float(..., log=True) instead.\n",
      "  learning_rate = trial.suggest_loguniform(\"learning_rate\", 1e-4, 1e-2)\n"
     ]
    },
    {
     "name": "stdout",
     "output_type": "stream",
     "text": [
      "\u001b[1m7/7\u001b[0m \u001b[32m━━━━━━━━━━━━━━━━━━━━\u001b[0m\u001b[37m\u001b[0m \u001b[1m1s\u001b[0m 75ms/step\n"
     ]
    },
    {
     "name": "stderr",
     "output_type": "stream",
     "text": [
      "[I 2024-12-01 17:09:39,462] Trial 30 finished with value: 0.37071470253412797 and parameters: {'hidden_units': 64, 'dropout_rate': 0.2560054747435916, 'learning_rate': 0.00021379189692616408, 'batch_size': 192, 'activation': 'tanh', 'optimizer': 'adam'}. Best is trial 13 with value: 0.6177212299784121.\n",
      "C:\\Users\\azad.aliyev\\AppData\\Local\\Temp\\ipykernel_17300\\339139007.py:6: FutureWarning: suggest_loguniform has been deprecated in v3.0.0. This feature will be removed in v6.0.0. See https://github.com/optuna/optuna/releases/tag/v3.0.0. Use suggest_float(..., log=True) instead.\n",
      "  learning_rate = trial.suggest_loguniform(\"learning_rate\", 1e-4, 1e-2)\n"
     ]
    },
    {
     "name": "stdout",
     "output_type": "stream",
     "text": [
      "\u001b[1m7/7\u001b[0m \u001b[32m━━━━━━━━━━━━━━━━━━━━\u001b[0m\u001b[37m\u001b[0m \u001b[1m0s\u001b[0m 40ms/step\n"
     ]
    },
    {
     "name": "stderr",
     "output_type": "stream",
     "text": [
      "[I 2024-12-01 17:09:42,263] Trial 42 finished with value: 0.5193793347555318 and parameters: {'hidden_units': 128, 'dropout_rate': 0.32853079013713915, 'learning_rate': 0.008859115996238539, 'batch_size': 256, 'activation': 'relu', 'optimizer': 'adam'}. Best is trial 13 with value: 0.6177212299784121.\n"
     ]
    },
    {
     "name": "stdout",
     "output_type": "stream",
     "text": [
      "\u001b[1m1/7\u001b[0m \u001b[32m━━\u001b[0m\u001b[37m━━━━━━━━━━━━━━━━━━\u001b[0m \u001b[1m1s\u001b[0m 178ms/step"
     ]
    },
    {
     "name": "stderr",
     "output_type": "stream",
     "text": [
      "C:\\Users\\azad.aliyev\\AppData\\Local\\Temp\\ipykernel_17300\\339139007.py:6: FutureWarning: suggest_loguniform has been deprecated in v3.0.0. This feature will be removed in v6.0.0. See https://github.com/optuna/optuna/releases/tag/v3.0.0. Use suggest_float(..., log=True) instead.\n",
      "  learning_rate = trial.suggest_loguniform(\"learning_rate\", 1e-4, 1e-2)\n"
     ]
    },
    {
     "name": "stdout",
     "output_type": "stream",
     "text": [
      "\u001b[1m7/7\u001b[0m \u001b[32m━━━━━━━━━━━━━━━━━━━━\u001b[0m\u001b[37m\u001b[0m \u001b[1m0s\u001b[0m 47ms/step\n"
     ]
    },
    {
     "name": "stderr",
     "output_type": "stream",
     "text": [
      "[I 2024-12-01 17:09:43,054] Trial 43 finished with value: 0.521189289506663 and parameters: {'hidden_units': 128, 'dropout_rate': 0.3088569852542879, 'learning_rate': 0.009775888782715486, 'batch_size': 256, 'activation': 'relu', 'optimizer': 'adam'}. Best is trial 13 with value: 0.6177212299784121.\n",
      "C:\\Users\\azad.aliyev\\AppData\\Local\\Temp\\ipykernel_17300\\339139007.py:6: FutureWarning: suggest_loguniform has been deprecated in v3.0.0. This feature will be removed in v6.0.0. See https://github.com/optuna/optuna/releases/tag/v3.0.0. Use suggest_float(..., log=True) instead.\n",
      "  learning_rate = trial.suggest_loguniform(\"learning_rate\", 1e-4, 1e-2)\n"
     ]
    },
    {
     "name": "stdout",
     "output_type": "stream",
     "text": [
      "\u001b[1m7/7\u001b[0m \u001b[32m━━━━━━━━━━━━━━━━━━━━\u001b[0m\u001b[37m\u001b[0m \u001b[1m0s\u001b[0m 43ms/step\n"
     ]
    },
    {
     "name": "stderr",
     "output_type": "stream",
     "text": [
      "[I 2024-12-01 17:09:44,433] Trial 35 finished with value: 0.3735119053313308 and parameters: {'hidden_units': 48, 'dropout_rate': 0.24925751032757815, 'learning_rate': 0.005141834555769317, 'batch_size': 192, 'activation': 'tanh', 'optimizer': 'adam'}. Best is trial 13 with value: 0.6177212299784121.\n",
      "C:\\Users\\azad.aliyev\\AppData\\Local\\Temp\\ipykernel_17300\\339139007.py:6: FutureWarning: suggest_loguniform has been deprecated in v3.0.0. This feature will be removed in v6.0.0. See https://github.com/optuna/optuna/releases/tag/v3.0.0. Use suggest_float(..., log=True) instead.\n",
      "  learning_rate = trial.suggest_loguniform(\"learning_rate\", 1e-4, 1e-2)\n"
     ]
    },
    {
     "name": "stdout",
     "output_type": "stream",
     "text": [
      "\u001b[1m7/7\u001b[0m \u001b[32m━━━━━━━━━━━━━━━━━━━━\u001b[0m\u001b[37m\u001b[0m \u001b[1m0s\u001b[0m 28ms/step\n"
     ]
    },
    {
     "name": "stderr",
     "output_type": "stream",
     "text": [
      "[I 2024-12-01 17:09:50,452] Trial 37 finished with value: 0.29303696759237113 and parameters: {'hidden_units': 48, 'dropout_rate': 0.251857419640689, 'learning_rate': 0.00022524855747627486, 'batch_size': 192, 'activation': 'tanh', 'optimizer': 'adam'}. Best is trial 13 with value: 0.6177212299784121.\n",
      "C:\\Users\\azad.aliyev\\AppData\\Local\\Temp\\ipykernel_17300\\339139007.py:6: FutureWarning: suggest_loguniform has been deprecated in v3.0.0. This feature will be removed in v6.0.0. See https://github.com/optuna/optuna/releases/tag/v3.0.0. Use suggest_float(..., log=True) instead.\n",
      "  learning_rate = trial.suggest_loguniform(\"learning_rate\", 1e-4, 1e-2)\n"
     ]
    },
    {
     "name": "stdout",
     "output_type": "stream",
     "text": [
      "\u001b[1m7/7\u001b[0m \u001b[32m━━━━━━━━━━━━━━━━━━━━\u001b[0m\u001b[37m\u001b[0m \u001b[1m0s\u001b[0m 41ms/step\n",
      "\u001b[1m7/7\u001b[0m \u001b[32m━━━━━━━━━━━━━━━━━━━━\u001b[0m\u001b[37m\u001b[0m \u001b[1m0s\u001b[0m 31ms/step\n"
     ]
    },
    {
     "name": "stderr",
     "output_type": "stream",
     "text": [
      "[I 2024-12-01 17:09:51,795] Trial 38 finished with value: 0.1904581328384338 and parameters: {'hidden_units': 48, 'dropout_rate': 0.4880239769897957, 'learning_rate': 0.0002755958585917205, 'batch_size': 192, 'activation': 'tanh', 'optimizer': 'adam'}. Best is trial 13 with value: 0.6177212299784121.\n",
      "C:\\Users\\azad.aliyev\\AppData\\Local\\Temp\\ipykernel_17300\\339139007.py:6: FutureWarning: suggest_loguniform has been deprecated in v3.0.0. This feature will be removed in v6.0.0. See https://github.com/optuna/optuna/releases/tag/v3.0.0. Use suggest_float(..., log=True) instead.\n",
      "  learning_rate = trial.suggest_loguniform(\"learning_rate\", 1e-4, 1e-2)\n",
      "[I 2024-12-01 17:09:51,931] Trial 40 finished with value: 0.307310928925156 and parameters: {'hidden_units': 32, 'dropout_rate': 0.417536262149609, 'learning_rate': 0.0012674587128070078, 'batch_size': 256, 'activation': 'relu', 'optimizer': 'adam'}. Best is trial 13 with value: 0.6177212299784121.\n"
     ]
    },
    {
     "name": "stdout",
     "output_type": "stream",
     "text": [
      "\u001b[1m1/7\u001b[0m \u001b[32m━━\u001b[0m\u001b[37m━━━━━━━━━━━━━━━━━━\u001b[0m \u001b[1m1s\u001b[0m 190ms/step"
     ]
    },
    {
     "name": "stderr",
     "output_type": "stream",
     "text": [
      "C:\\Users\\azad.aliyev\\AppData\\Local\\Temp\\ipykernel_17300\\339139007.py:6: FutureWarning: suggest_loguniform has been deprecated in v3.0.0. This feature will be removed in v6.0.0. See https://github.com/optuna/optuna/releases/tag/v3.0.0. Use suggest_float(..., log=True) instead.\n",
      "  learning_rate = trial.suggest_loguniform(\"learning_rate\", 1e-4, 1e-2)\n"
     ]
    },
    {
     "name": "stdout",
     "output_type": "stream",
     "text": [
      "\u001b[1m7/7\u001b[0m \u001b[32m━━━━━━━━━━━━━━━━━━━━\u001b[0m\u001b[37m\u001b[0m \u001b[1m0s\u001b[0m 36ms/step\n"
     ]
    },
    {
     "name": "stderr",
     "output_type": "stream",
     "text": [
      "[I 2024-12-01 17:09:52,590] Trial 39 finished with value: 0.2670663490636131 and parameters: {'hidden_units': 48, 'dropout_rate': 0.4851375363533901, 'learning_rate': 0.00024382674004554223, 'batch_size': 192, 'activation': 'tanh', 'optimizer': 'adam'}. Best is trial 13 with value: 0.6177212299784121.\n",
      "C:\\Users\\azad.aliyev\\AppData\\Local\\Temp\\ipykernel_17300\\339139007.py:6: FutureWarning: suggest_loguniform has been deprecated in v3.0.0. This feature will be removed in v6.0.0. See https://github.com/optuna/optuna/releases/tag/v3.0.0. Use suggest_float(..., log=True) instead.\n",
      "  learning_rate = trial.suggest_loguniform(\"learning_rate\", 1e-4, 1e-2)\n"
     ]
    },
    {
     "name": "stdout",
     "output_type": "stream",
     "text": [
      "\u001b[1m7/7\u001b[0m \u001b[32m━━━━━━━━━━━━━━━━━━━━\u001b[0m\u001b[37m\u001b[0m \u001b[1m0s\u001b[0m 38ms/step\n"
     ]
    },
    {
     "name": "stderr",
     "output_type": "stream",
     "text": [
      "[I 2024-12-01 17:09:54,398] Trial 41 finished with value: 0.2616776201454724 and parameters: {'hidden_units': 32, 'dropout_rate': 0.4867361525546755, 'learning_rate': 0.0015123191284039626, 'batch_size': 256, 'activation': 'relu', 'optimizer': 'adam'}. Best is trial 13 with value: 0.6177212299784121.\n",
      "C:\\Users\\azad.aliyev\\AppData\\Local\\Temp\\ipykernel_17300\\339139007.py:6: FutureWarning: suggest_loguniform has been deprecated in v3.0.0. This feature will be removed in v6.0.0. See https://github.com/optuna/optuna/releases/tag/v3.0.0. Use suggest_float(..., log=True) instead.\n",
      "  learning_rate = trial.suggest_loguniform(\"learning_rate\", 1e-4, 1e-2)\n"
     ]
    },
    {
     "name": "stdout",
     "output_type": "stream",
     "text": [
      "\u001b[1m7/7\u001b[0m \u001b[32m━━━━━━━━━━━━━━━━━━━━\u001b[0m\u001b[37m\u001b[0m \u001b[1m0s\u001b[0m 36ms/step\n",
      "\u001b[1m7/7\u001b[0m \u001b[32m━━━━━━━━━━━━━━━━━━━━\u001b[0m\u001b[37m\u001b[0m \u001b[1m0s\u001b[0m 23ms/step "
     ]
    },
    {
     "name": "stderr",
     "output_type": "stream",
     "text": [
      "[I 2024-12-01 17:09:59,419] Trial 44 finished with value: 0.19942563592358392 and parameters: {'hidden_units': 32, 'dropout_rate': 0.4194299570880796, 'learning_rate': 0.0002229682760105188, 'batch_size': 256, 'activation': 'tanh', 'optimizer': 'adam'}. Best is trial 13 with value: 0.6177212299784121.\n"
     ]
    },
    {
     "name": "stdout",
     "output_type": "stream",
     "text": [
      "\u001b[1m7/7\u001b[0m \u001b[32m━━━━━━━━━━━━━━━━━━━━\u001b[0m\u001b[37m\u001b[0m \u001b[1m0s\u001b[0m 28ms/step\n",
      "\u001b[1m7/7\u001b[0m \u001b[32m━━━━━━━━━━━━━━━━━━━━\u001b[0m\u001b[37m\u001b[0m \u001b[1m0s\u001b[0m 30ms/step\n"
     ]
    },
    {
     "name": "stderr",
     "output_type": "stream",
     "text": [
      "C:\\Users\\azad.aliyev\\AppData\\Local\\Temp\\ipykernel_17300\\339139007.py:6: FutureWarning: suggest_loguniform has been deprecated in v3.0.0. This feature will be removed in v6.0.0. See https://github.com/optuna/optuna/releases/tag/v3.0.0. Use suggest_float(..., log=True) instead.\n",
      "  learning_rate = trial.suggest_loguniform(\"learning_rate\", 1e-4, 1e-2)\n",
      "[I 2024-12-01 17:09:59,697] Trial 45 finished with value: 0.28439854718924484 and parameters: {'hidden_units': 80, 'dropout_rate': 0.41648096214987995, 'learning_rate': 0.000252860172870235, 'batch_size': 256, 'activation': 'relu', 'optimizer': 'adam'}. Best is trial 13 with value: 0.6177212299784121.\n",
      "C:\\Users\\azad.aliyev\\AppData\\Local\\Temp\\ipykernel_17300\\339139007.py:6: FutureWarning: suggest_loguniform has been deprecated in v3.0.0. This feature will be removed in v6.0.0. See https://github.com/optuna/optuna/releases/tag/v3.0.0. Use suggest_float(..., log=True) instead.\n",
      "  learning_rate = trial.suggest_loguniform(\"learning_rate\", 1e-4, 1e-2)\n",
      "[I 2024-12-01 17:09:59,834] Trial 46 finished with value: 0.4241225896766253 and parameters: {'hidden_units': 80, 'dropout_rate': 0.4879356314771226, 'learning_rate': 0.00020026089110009886, 'batch_size': 256, 'activation': 'relu', 'optimizer': 'adam'}. Best is trial 13 with value: 0.6177212299784121.\n",
      "C:\\Users\\azad.aliyev\\AppData\\Local\\Temp\\ipykernel_17300\\339139007.py:6: FutureWarning: suggest_loguniform has been deprecated in v3.0.0. This feature will be removed in v6.0.0. See https://github.com/optuna/optuna/releases/tag/v3.0.0. Use suggest_float(..., log=True) instead.\n",
      "  learning_rate = trial.suggest_loguniform(\"learning_rate\", 1e-4, 1e-2)\n"
     ]
    },
    {
     "name": "stdout",
     "output_type": "stream",
     "text": [
      "\u001b[1m7/7\u001b[0m \u001b[32m━━━━━━━━━━━━━━━━━━━━\u001b[0m\u001b[37m\u001b[0m \u001b[1m0s\u001b[0m 55ms/step\n"
     ]
    },
    {
     "name": "stderr",
     "output_type": "stream",
     "text": [
      "[I 2024-12-01 17:10:00,715] Trial 51 finished with value: 0.2199521682148221 and parameters: {'hidden_units': 80, 'dropout_rate': 0.48703433612137936, 'learning_rate': 0.0015157318829758454, 'batch_size': 128, 'activation': 'tanh', 'optimizer': 'adam'}. Best is trial 13 with value: 0.6177212299784121.\n",
      "C:\\Users\\azad.aliyev\\AppData\\Local\\Temp\\ipykernel_17300\\339139007.py:6: FutureWarning: suggest_loguniform has been deprecated in v3.0.0. This feature will be removed in v6.0.0. See https://github.com/optuna/optuna/releases/tag/v3.0.0. Use suggest_float(..., log=True) instead.\n",
      "  learning_rate = trial.suggest_loguniform(\"learning_rate\", 1e-4, 1e-2)\n"
     ]
    },
    {
     "name": "stdout",
     "output_type": "stream",
     "text": [
      "\u001b[1m7/7\u001b[0m \u001b[32m━━━━━━━━━━━━━━━━━━━━\u001b[0m\u001b[37m\u001b[0m \u001b[1m1s\u001b[0m 67ms/step\n"
     ]
    },
    {
     "name": "stderr",
     "output_type": "stream",
     "text": [
      "[I 2024-12-01 17:10:02,176] Trial 47 finished with value: 0.3223664616277475 and parameters: {'hidden_units': 80, 'dropout_rate': 0.3461713965557702, 'learning_rate': 0.00017490609787301423, 'batch_size': 256, 'activation': 'relu', 'optimizer': 'adam'}. Best is trial 13 with value: 0.6177212299784121.\n",
      "C:\\Users\\azad.aliyev\\AppData\\Local\\Temp\\ipykernel_17300\\339139007.py:6: FutureWarning: suggest_loguniform has been deprecated in v3.0.0. This feature will be removed in v6.0.0. See https://github.com/optuna/optuna/releases/tag/v3.0.0. Use suggest_float(..., log=True) instead.\n",
      "  learning_rate = trial.suggest_loguniform(\"learning_rate\", 1e-4, 1e-2)\n"
     ]
    },
    {
     "name": "stdout",
     "output_type": "stream",
     "text": [
      "\u001b[1m7/7\u001b[0m \u001b[32m━━━━━━━━━━━━━━━━━━━━\u001b[0m\u001b[37m\u001b[0m \u001b[1m0s\u001b[0m 30ms/step\n"
     ]
    },
    {
     "name": "stderr",
     "output_type": "stream",
     "text": [
      "[I 2024-12-01 17:10:08,324] Trial 48 finished with value: 0.3149621012822107 and parameters: {'hidden_units': 32, 'dropout_rate': 0.42095187652812427, 'learning_rate': 0.001381082901027213, 'batch_size': 128, 'activation': 'tanh', 'optimizer': 'adam'}. Best is trial 13 with value: 0.6177212299784121.\n"
     ]
    },
    {
     "name": "stdout",
     "output_type": "stream",
     "text": [
      "\u001b[1m7/7\u001b[0m \u001b[32m━━━━━━━━━━━━━━━━━━━━\u001b[0m\u001b[37m\u001b[0m \u001b[1m0s\u001b[0m 31ms/step\n"
     ]
    },
    {
     "name": "stderr",
     "output_type": "stream",
     "text": [
      "C:\\Users\\azad.aliyev\\AppData\\Local\\Temp\\ipykernel_17300\\339139007.py:6: FutureWarning: suggest_loguniform has been deprecated in v3.0.0. This feature will be removed in v6.0.0. See https://github.com/optuna/optuna/releases/tag/v3.0.0. Use suggest_float(..., log=True) instead.\n",
      "  learning_rate = trial.suggest_loguniform(\"learning_rate\", 1e-4, 1e-2)\n",
      "[I 2024-12-01 17:10:08,739] Trial 49 finished with value: 0.18609778730161766 and parameters: {'hidden_units': 32, 'dropout_rate': 0.41508599127530316, 'learning_rate': 0.00017429907459760955, 'batch_size': 128, 'activation': 'tanh', 'optimizer': 'adam'}. Best is trial 13 with value: 0.6177212299784121.\n",
      "C:\\Users\\azad.aliyev\\AppData\\Local\\Temp\\ipykernel_17300\\339139007.py:6: FutureWarning: suggest_loguniform has been deprecated in v3.0.0. This feature will be removed in v6.0.0. See https://github.com/optuna/optuna/releases/tag/v3.0.0. Use suggest_float(..., log=True) instead.\n",
      "  learning_rate = trial.suggest_loguniform(\"learning_rate\", 1e-4, 1e-2)\n"
     ]
    },
    {
     "name": "stdout",
     "output_type": "stream",
     "text": [
      "\u001b[1m7/7\u001b[0m \u001b[32m━━━━━━━━━━━━━━━━━━━━\u001b[0m\u001b[37m\u001b[0m \u001b[1m0s\u001b[0m 46ms/step\n"
     ]
    },
    {
     "name": "stderr",
     "output_type": "stream",
     "text": [
      "[I 2024-12-01 17:10:09,830] Trial 50 finished with value: 0.2857971485878463 and parameters: {'hidden_units': 32, 'dropout_rate': 0.41659369503522986, 'learning_rate': 0.0001739361410976943, 'batch_size': 128, 'activation': 'tanh', 'optimizer': 'adam'}. Best is trial 13 with value: 0.6177212299784121.\n",
      "C:\\Users\\azad.aliyev\\AppData\\Local\\Temp\\ipykernel_17300\\339139007.py:6: FutureWarning: suggest_loguniform has been deprecated in v3.0.0. This feature will be removed in v6.0.0. See https://github.com/optuna/optuna/releases/tag/v3.0.0. Use suggest_float(..., log=True) instead.\n",
      "  learning_rate = trial.suggest_loguniform(\"learning_rate\", 1e-4, 1e-2)\n"
     ]
    },
    {
     "name": "stdout",
     "output_type": "stream",
     "text": [
      "\u001b[1m7/7\u001b[0m \u001b[32m━━━━━━━━━━━━━━━━━━━━\u001b[0m\u001b[37m\u001b[0m \u001b[1m0s\u001b[0m 36ms/step\n",
      "\u001b[1m4/7\u001b[0m \u001b[32m━━━━━━━━━━━\u001b[0m\u001b[37m━━━━━━━━━\u001b[0m \u001b[1m0s\u001b[0m 27ms/step "
     ]
    },
    {
     "name": "stderr",
     "output_type": "stream",
     "text": [
      "[I 2024-12-01 17:10:11,700] Trial 54 finished with value: 0.5720467858634753 and parameters: {'hidden_units': 80, 'dropout_rate': 0.33989335440080287, 'learning_rate': 0.0030956397991962824, 'batch_size': 64, 'activation': 'relu', 'optimizer': 'adam'}. Best is trial 13 with value: 0.6177212299784121.\n"
     ]
    },
    {
     "name": "stdout",
     "output_type": "stream",
     "text": [
      "\u001b[1m7/7\u001b[0m \u001b[32m━━━━━━━━━━━━━━━━━━━━\u001b[0m\u001b[37m\u001b[0m \u001b[1m0s\u001b[0m 58ms/step"
     ]
    },
    {
     "name": "stderr",
     "output_type": "stream",
     "text": [
      "C:\\Users\\azad.aliyev\\AppData\\Local\\Temp\\ipykernel_17300\\339139007.py:6: FutureWarning: suggest_loguniform has been deprecated in v3.0.0. This feature will be removed in v6.0.0. See https://github.com/optuna/optuna/releases/tag/v3.0.0. Use suggest_float(..., log=True) instead.\n",
      "  learning_rate = trial.suggest_loguniform(\"learning_rate\", 1e-4, 1e-2)\n"
     ]
    },
    {
     "name": "stdout",
     "output_type": "stream",
     "text": [
      "\u001b[1m7/7\u001b[0m \u001b[32m━━━━━━━━━━━━━━━━━━━━\u001b[0m\u001b[37m\u001b[0m \u001b[1m1s\u001b[0m 74ms/step\n"
     ]
    },
    {
     "name": "stderr",
     "output_type": "stream",
     "text": [
      "[I 2024-12-01 17:10:12,290] Trial 53 finished with value: 0.39886549383129416 and parameters: {'hidden_units': 112, 'dropout_rate': 0.34493200545284214, 'learning_rate': 0.0019291652627492543, 'batch_size': 64, 'activation': 'relu', 'optimizer': 'adam'}. Best is trial 13 with value: 0.6177212299784121.\n",
      "C:\\Users\\azad.aliyev\\AppData\\Local\\Temp\\ipykernel_17300\\339139007.py:6: FutureWarning: suggest_loguniform has been deprecated in v3.0.0. This feature will be removed in v6.0.0. See https://github.com/optuna/optuna/releases/tag/v3.0.0. Use suggest_float(..., log=True) instead.\n",
      "  learning_rate = trial.suggest_loguniform(\"learning_rate\", 1e-4, 1e-2)\n"
     ]
    },
    {
     "name": "stdout",
     "output_type": "stream",
     "text": [
      "\u001b[1m7/7\u001b[0m \u001b[32m━━━━━━━━━━━━━━━━━━━━\u001b[0m\u001b[37m\u001b[0m \u001b[1m0s\u001b[0m 46ms/step\n"
     ]
    },
    {
     "name": "stderr",
     "output_type": "stream",
     "text": [
      "[I 2024-12-01 17:10:14,936] Trial 52 finished with value: 0.47522689804495555 and parameters: {'hidden_units': 80, 'dropout_rate': 0.34722878899729803, 'learning_rate': 0.0016503210066866438, 'batch_size': 64, 'activation': 'relu', 'optimizer': 'adam'}. Best is trial 13 with value: 0.6177212299784121.\n",
      "C:\\Users\\azad.aliyev\\AppData\\Local\\Temp\\ipykernel_17300\\339139007.py:6: FutureWarning: suggest_loguniform has been deprecated in v3.0.0. This feature will be removed in v6.0.0. See https://github.com/optuna/optuna/releases/tag/v3.0.0. Use suggest_float(..., log=True) instead.\n",
      "  learning_rate = trial.suggest_loguniform(\"learning_rate\", 1e-4, 1e-2)\n"
     ]
    },
    {
     "name": "stdout",
     "output_type": "stream",
     "text": [
      "\u001b[1m7/7\u001b[0m \u001b[32m━━━━━━━━━━━━━━━━━━━━\u001b[0m\u001b[37m\u001b[0m \u001b[1m0s\u001b[0m 49ms/step\n"
     ]
    },
    {
     "name": "stderr",
     "output_type": "stream",
     "text": [
      "[I 2024-12-01 17:10:16,098] Trial 55 finished with value: 0.24534689205003846 and parameters: {'hidden_units': 80, 'dropout_rate': 0.35194144317503445, 'learning_rate': 0.00286003465200296, 'batch_size': 64, 'activation': 'relu', 'optimizer': 'adam'}. Best is trial 13 with value: 0.6177212299784121.\n",
      "C:\\Users\\azad.aliyev\\AppData\\Local\\Temp\\ipykernel_17300\\339139007.py:6: FutureWarning: suggest_loguniform has been deprecated in v3.0.0. This feature will be removed in v6.0.0. See https://github.com/optuna/optuna/releases/tag/v3.0.0. Use suggest_float(..., log=True) instead.\n",
      "  learning_rate = trial.suggest_loguniform(\"learning_rate\", 1e-4, 1e-2)\n"
     ]
    },
    {
     "name": "stdout",
     "output_type": "stream",
     "text": [
      "\u001b[1m7/7\u001b[0m \u001b[32m━━━━━━━━━━━━━━━━━━━━\u001b[0m\u001b[37m\u001b[0m \u001b[1m0s\u001b[0m 51ms/step\n",
      "\u001b[1m7/7\u001b[0m \u001b[32m━━━━━━━━━━━━━━━━━━━━\u001b[0m\u001b[37m\u001b[0m \u001b[1m1s\u001b[0m 46ms/step\n"
     ]
    },
    {
     "name": "stderr",
     "output_type": "stream",
     "text": [
      "[I 2024-12-01 17:10:18,972] Trial 57 finished with value: 0.36935723647077956 and parameters: {'hidden_units': 112, 'dropout_rate': 0.344312643206263, 'learning_rate': 0.0030160450550059917, 'batch_size': 128, 'activation': 'relu', 'optimizer': 'rmsprop'}. Best is trial 13 with value: 0.6177212299784121.\n",
      "C:\\Users\\azad.aliyev\\AppData\\Local\\Temp\\ipykernel_17300\\339139007.py:6: FutureWarning: suggest_loguniform has been deprecated in v3.0.0. This feature will be removed in v6.0.0. See https://github.com/optuna/optuna/releases/tag/v3.0.0. Use suggest_float(..., log=True) instead.\n",
      "  learning_rate = trial.suggest_loguniform(\"learning_rate\", 1e-4, 1e-2)\n",
      "[I 2024-12-01 17:10:19,201] Trial 58 finished with value: 0.3429483512383649 and parameters: {'hidden_units': 112, 'dropout_rate': 0.3391308230077534, 'learning_rate': 0.0030648892545428923, 'batch_size': 128, 'activation': 'relu', 'optimizer': 'rmsprop'}. Best is trial 13 with value: 0.6177212299784121.\n",
      "C:\\Users\\azad.aliyev\\AppData\\Local\\Temp\\ipykernel_17300\\339139007.py:6: FutureWarning: suggest_loguniform has been deprecated in v3.0.0. This feature will be removed in v6.0.0. See https://github.com/optuna/optuna/releases/tag/v3.0.0. Use suggest_float(..., log=True) instead.\n",
      "  learning_rate = trial.suggest_loguniform(\"learning_rate\", 1e-4, 1e-2)\n"
     ]
    },
    {
     "name": "stdout",
     "output_type": "stream",
     "text": [
      "\u001b[1m7/7\u001b[0m \u001b[32m━━━━━━━━━━━━━━━━━━━━\u001b[0m\u001b[37m\u001b[0m \u001b[1m0s\u001b[0m 32ms/step\n",
      "\u001b[1m1/7\u001b[0m \u001b[32m━━\u001b[0m\u001b[37m━━━━━━━━━━━━━━━━━━\u001b[0m \u001b[1m0s\u001b[0m 93ms/step"
     ]
    },
    {
     "name": "stderr",
     "output_type": "stream",
     "text": [
      "[I 2024-12-01 17:10:23,928] Trial 56 finished with value: 0.4143323798864155 and parameters: {'hidden_units': 80, 'dropout_rate': 0.3482184764112848, 'learning_rate': 0.0030427110879395806, 'batch_size': 128, 'activation': 'relu', 'optimizer': 'adam'}. Best is trial 13 with value: 0.6177212299784121.\n"
     ]
    },
    {
     "name": "stdout",
     "output_type": "stream",
     "text": [
      "\u001b[1m7/7\u001b[0m \u001b[32m━━━━━━━━━━━━━━━━━━━━\u001b[0m\u001b[37m\u001b[0m \u001b[1m0s\u001b[0m 37ms/step\n"
     ]
    },
    {
     "name": "stderr",
     "output_type": "stream",
     "text": [
      "C:\\Users\\azad.aliyev\\AppData\\Local\\Temp\\ipykernel_17300\\339139007.py:6: FutureWarning: suggest_loguniform has been deprecated in v3.0.0. This feature will be removed in v6.0.0. See https://github.com/optuna/optuna/releases/tag/v3.0.0. Use suggest_float(..., log=True) instead.\n",
      "  learning_rate = trial.suggest_loguniform(\"learning_rate\", 1e-4, 1e-2)\n"
     ]
    },
    {
     "name": "stdout",
     "output_type": "stream",
     "text": [
      "\u001b[1m1/7\u001b[0m \u001b[32m━━\u001b[0m\u001b[37m━━━━━━━━━━━━━━━━━━\u001b[0m \u001b[1m0s\u001b[0m 136ms/step"
     ]
    },
    {
     "name": "stderr",
     "output_type": "stream",
     "text": [
      "[I 2024-12-01 17:10:24,358] Trial 59 finished with value: 0.5697020717540553 and parameters: {'hidden_units': 112, 'dropout_rate': 0.35831189975228944, 'learning_rate': 0.007031985697429741, 'batch_size': 128, 'activation': 'relu', 'optimizer': 'rmsprop'}. Best is trial 13 with value: 0.6177212299784121.\n"
     ]
    },
    {
     "name": "stdout",
     "output_type": "stream",
     "text": [
      "\u001b[1m7/7\u001b[0m \u001b[32m━━━━━━━━━━━━━━━━━━━━\u001b[0m\u001b[37m\u001b[0m \u001b[1m0s\u001b[0m 39ms/step\n"
     ]
    },
    {
     "name": "stderr",
     "output_type": "stream",
     "text": [
      "C:\\Users\\azad.aliyev\\AppData\\Local\\Temp\\ipykernel_17300\\339139007.py:6: FutureWarning: suggest_loguniform has been deprecated in v3.0.0. This feature will be removed in v6.0.0. See https://github.com/optuna/optuna/releases/tag/v3.0.0. Use suggest_float(..., log=True) instead.\n",
      "  learning_rate = trial.suggest_loguniform(\"learning_rate\", 1e-4, 1e-2)\n",
      "[I 2024-12-01 17:10:24,858] Trial 60 finished with value: 0.6210531921339035 and parameters: {'hidden_units': 112, 'dropout_rate': 0.3458545223377069, 'learning_rate': 0.0073705094654547545, 'batch_size': 128, 'activation': 'relu', 'optimizer': 'rmsprop'}. Best is trial 60 with value: 0.6210531921339035.\n",
      "C:\\Users\\azad.aliyev\\AppData\\Local\\Temp\\ipykernel_17300\\339139007.py:6: FutureWarning: suggest_loguniform has been deprecated in v3.0.0. This feature will be removed in v6.0.0. See https://github.com/optuna/optuna/releases/tag/v3.0.0. Use suggest_float(..., log=True) instead.\n",
      "  learning_rate = trial.suggest_loguniform(\"learning_rate\", 1e-4, 1e-2)\n"
     ]
    },
    {
     "name": "stdout",
     "output_type": "stream",
     "text": [
      "\u001b[1m7/7\u001b[0m \u001b[32m━━━━━━━━━━━━━━━━━━━━\u001b[0m\u001b[37m\u001b[0m \u001b[1m0s\u001b[0m 36ms/step\n",
      "\u001b[1m7/7\u001b[0m \u001b[32m━━━━━━━━━━━━━━━━━━━━\u001b[0m\u001b[37m\u001b[0m \u001b[1m0s\u001b[0m 42ms/step\n"
     ]
    },
    {
     "name": "stderr",
     "output_type": "stream",
     "text": [
      "[I 2024-12-01 17:10:29,217] Trial 64 finished with value: 0.46955022178004396 and parameters: {'hidden_units': 112, 'dropout_rate': 0.3462254955698195, 'learning_rate': 0.007374377698075188, 'batch_size': 64, 'activation': 'relu', 'optimizer': 'rmsprop'}. Best is trial 60 with value: 0.6210531921339035.\n",
      "C:\\Users\\azad.aliyev\\AppData\\Local\\Temp\\ipykernel_17300\\339139007.py:6: FutureWarning: suggest_loguniform has been deprecated in v3.0.0. This feature will be removed in v6.0.0. See https://github.com/optuna/optuna/releases/tag/v3.0.0. Use suggest_float(..., log=True) instead.\n",
      "  learning_rate = trial.suggest_loguniform(\"learning_rate\", 1e-4, 1e-2)\n",
      "[I 2024-12-01 17:10:29,404] Trial 66 finished with value: 0.321255807575917 and parameters: {'hidden_units': 112, 'dropout_rate': 0.22792621790744896, 'learning_rate': 0.007410366620766246, 'batch_size': 64, 'activation': 'relu', 'optimizer': 'adam'}. Best is trial 60 with value: 0.6210531921339035.\n",
      "C:\\Users\\azad.aliyev\\AppData\\Local\\Temp\\ipykernel_17300\\339139007.py:6: FutureWarning: suggest_loguniform has been deprecated in v3.0.0. This feature will be removed in v6.0.0. See https://github.com/optuna/optuna/releases/tag/v3.0.0. Use suggest_float(..., log=True) instead.\n",
      "  learning_rate = trial.suggest_loguniform(\"learning_rate\", 1e-4, 1e-2)\n"
     ]
    },
    {
     "name": "stdout",
     "output_type": "stream",
     "text": [
      "\u001b[1m7/7\u001b[0m \u001b[32m━━━━━━━━━━━━━━━━━━━━\u001b[0m\u001b[37m\u001b[0m \u001b[1m0s\u001b[0m 45ms/step\n"
     ]
    },
    {
     "name": "stderr",
     "output_type": "stream",
     "text": [
      "[I 2024-12-01 17:10:32,765] Trial 61 finished with value: 0.5704013724533561 and parameters: {'hidden_units': 112, 'dropout_rate': 0.34329214747565506, 'learning_rate': 0.007096399505082382, 'batch_size': 64, 'activation': 'relu', 'optimizer': 'rmsprop'}. Best is trial 60 with value: 0.6210531921339035.\n",
      "C:\\Users\\azad.aliyev\\AppData\\Local\\Temp\\ipykernel_17300\\339139007.py:6: FutureWarning: suggest_loguniform has been deprecated in v3.0.0. This feature will be removed in v6.0.0. See https://github.com/optuna/optuna/releases/tag/v3.0.0. Use suggest_float(..., log=True) instead.\n",
      "  learning_rate = trial.suggest_loguniform(\"learning_rate\", 1e-4, 1e-2)\n"
     ]
    },
    {
     "name": "stdout",
     "output_type": "stream",
     "text": [
      "\u001b[1m7/7\u001b[0m \u001b[32m━━━━━━━━━━━━━━━━━━━━\u001b[0m\u001b[37m\u001b[0m \u001b[1m0s\u001b[0m 49ms/step\n",
      "\u001b[1m7/7\u001b[0m \u001b[32m━━━━━━━━━━━━━━━━━━━━\u001b[0m\u001b[37m\u001b[0m \u001b[1m0s\u001b[0m 32ms/step\n"
     ]
    },
    {
     "name": "stderr",
     "output_type": "stream",
     "text": [
      "[I 2024-12-01 17:10:33,783] Trial 65 finished with value: 0.2969859597766574 and parameters: {'hidden_units': 96, 'dropout_rate': 0.36472391297220863, 'learning_rate': 0.002998541943822926, 'batch_size': 64, 'activation': 'relu', 'optimizer': 'rmsprop'}. Best is trial 60 with value: 0.6210531921339035.\n",
      "[I 2024-12-01 17:10:33,797] Trial 67 finished with value: 0.5694141244072844 and parameters: {'hidden_units': 96, 'dropout_rate': 0.22766279402049436, 'learning_rate': 0.0033108859808802693, 'batch_size': 64, 'activation': 'relu', 'optimizer': 'rmsprop'}. Best is trial 60 with value: 0.6210531921339035.\n",
      "C:\\Users\\azad.aliyev\\AppData\\Local\\Temp\\ipykernel_17300\\339139007.py:6: FutureWarning: suggest_loguniform has been deprecated in v3.0.0. This feature will be removed in v6.0.0. See https://github.com/optuna/optuna/releases/tag/v3.0.0. Use suggest_float(..., log=True) instead.\n",
      "  learning_rate = trial.suggest_loguniform(\"learning_rate\", 1e-4, 1e-2)\n"
     ]
    },
    {
     "name": "stdout",
     "output_type": "stream",
     "text": [
      "\u001b[1m7/7\u001b[0m \u001b[32m━━━━━━━━━━━━━━━━━━━━\u001b[0m\u001b[37m\u001b[0m \u001b[1m1s\u001b[0m 62ms/step\n"
     ]
    },
    {
     "name": "stderr",
     "output_type": "stream",
     "text": [
      "[I 2024-12-01 17:10:37,088] Trial 63 finished with value: 0.5690439063900077 and parameters: {'hidden_units': 112, 'dropout_rate': 0.22566951907917818, 'learning_rate': 0.0003907195560239161, 'batch_size': 64, 'activation': 'relu', 'optimizer': 'rmsprop'}. Best is trial 60 with value: 0.6210531921339035.\n",
      "C:\\Users\\azad.aliyev\\AppData\\Local\\Temp\\ipykernel_17300\\339139007.py:6: FutureWarning: suggest_loguniform has been deprecated in v3.0.0. This feature will be removed in v6.0.0. See https://github.com/optuna/optuna/releases/tag/v3.0.0. Use suggest_float(..., log=True) instead.\n",
      "  learning_rate = trial.suggest_loguniform(\"learning_rate\", 1e-4, 1e-2)\n"
     ]
    },
    {
     "name": "stdout",
     "output_type": "stream",
     "text": [
      "\u001b[1m7/7\u001b[0m \u001b[32m━━━━━━━━━━━━━━━━━━━━\u001b[0m\u001b[37m\u001b[0m \u001b[1m1s\u001b[0m 99ms/step\n",
      "\u001b[1m7/7\u001b[0m \u001b[32m━━━━━━━━━━━━━━━━━━━━\u001b[0m\u001b[37m\u001b[0m \u001b[1m1s\u001b[0m 65ms/step\n"
     ]
    },
    {
     "name": "stderr",
     "output_type": "stream",
     "text": [
      "[I 2024-12-01 17:10:38,578] Trial 62 finished with value: 0.5639842601538908 and parameters: {'hidden_units': 112, 'dropout_rate': 0.22971637480287807, 'learning_rate': 0.0003982471405352025, 'batch_size': 64, 'activation': 'tanh', 'optimizer': 'rmsprop'}. Best is trial 60 with value: 0.6210531921339035.\n",
      "[I 2024-12-01 17:10:38,628] Trial 68 finished with value: 0.4239580483356134 and parameters: {'hidden_units': 16, 'dropout_rate': 0.30199883534139604, 'learning_rate': 0.007277174344960097, 'batch_size': 64, 'activation': 'relu', 'optimizer': 'rmsprop'}. Best is trial 60 with value: 0.6210531921339035.\n",
      "C:\\Users\\azad.aliyev\\AppData\\Local\\Temp\\ipykernel_17300\\339139007.py:6: FutureWarning: suggest_loguniform has been deprecated in v3.0.0. This feature will be removed in v6.0.0. See https://github.com/optuna/optuna/releases/tag/v3.0.0. Use suggest_float(..., log=True) instead.\n",
      "  learning_rate = trial.suggest_loguniform(\"learning_rate\", 1e-4, 1e-2)\n"
     ]
    },
    {
     "name": "stdout",
     "output_type": "stream",
     "text": [
      "\u001b[1m7/7\u001b[0m \u001b[32m━━━━━━━━━━━━━━━━━━━━\u001b[0m\u001b[37m\u001b[0m \u001b[1m0s\u001b[0m 26ms/step\n"
     ]
    },
    {
     "name": "stderr",
     "output_type": "stream",
     "text": [
      "[I 2024-12-01 17:10:45,054] Trial 72 finished with value: 0.6720752298317277 and parameters: {'hidden_units': 96, 'dropout_rate': 0.3092770495947894, 'learning_rate': 0.0073218106416146345, 'batch_size': 64, 'activation': 'relu', 'optimizer': 'rmsprop'}. Best is trial 72 with value: 0.6720752298317277.\n",
      "C:\\Users\\azad.aliyev\\AppData\\Local\\Temp\\ipykernel_17300\\339139007.py:6: FutureWarning: suggest_loguniform has been deprecated in v3.0.0. This feature will be removed in v6.0.0. See https://github.com/optuna/optuna/releases/tag/v3.0.0. Use suggest_float(..., log=True) instead.\n",
      "  learning_rate = trial.suggest_loguniform(\"learning_rate\", 1e-4, 1e-2)\n"
     ]
    },
    {
     "name": "stdout",
     "output_type": "stream",
     "text": [
      "\u001b[1m7/7\u001b[0m \u001b[32m━━━━━━━━━━━━━━━━━━━━\u001b[0m\u001b[37m\u001b[0m \u001b[1m0s\u001b[0m 49ms/step\n",
      "\u001b[1m7/7\u001b[0m \u001b[32m━━━━━━━━━━━━━━━━━━━━\u001b[0m\u001b[37m\u001b[0m \u001b[1m0s\u001b[0m 29ms/step\n"
     ]
    },
    {
     "name": "stderr",
     "output_type": "stream",
     "text": [
      "[I 2024-12-01 17:10:47,306] Trial 80 finished with value: 0.5190091167382549 and parameters: {'hidden_units': 128, 'dropout_rate': 0.3151875931956134, 'learning_rate': 0.004018818754611105, 'batch_size': 128, 'activation': 'tanh', 'optimizer': 'adam'}. Best is trial 72 with value: 0.6720752298317277.\n",
      "C:\\Users\\azad.aliyev\\AppData\\Local\\Temp\\ipykernel_17300\\339139007.py:6: FutureWarning: suggest_loguniform has been deprecated in v3.0.0. This feature will be removed in v6.0.0. See https://github.com/optuna/optuna/releases/tag/v3.0.0. Use suggest_float(..., log=True) instead.\n",
      "  learning_rate = trial.suggest_loguniform(\"learning_rate\", 1e-4, 1e-2)\n",
      "[I 2024-12-01 17:10:47,547] Trial 69 finished with value: 0.3692338304650206 and parameters: {'hidden_units': 16, 'dropout_rate': 0.3679727061065929, 'learning_rate': 0.00038809564164444925, 'batch_size': 64, 'activation': 'relu', 'optimizer': 'rmsprop'}. Best is trial 72 with value: 0.6720752298317277.\n",
      "C:\\Users\\azad.aliyev\\AppData\\Local\\Temp\\ipykernel_17300\\339139007.py:6: FutureWarning: suggest_loguniform has been deprecated in v3.0.0. This feature will be removed in v6.0.0. See https://github.com/optuna/optuna/releases/tag/v3.0.0. Use suggest_float(..., log=True) instead.\n",
      "  learning_rate = trial.suggest_loguniform(\"learning_rate\", 1e-4, 1e-2)\n"
     ]
    },
    {
     "name": "stdout",
     "output_type": "stream",
     "text": [
      "\u001b[1m7/7\u001b[0m \u001b[32m━━━━━━━━━━━━━━━━━━━━\u001b[0m\u001b[37m\u001b[0m \u001b[1m0s\u001b[0m 29ms/step\n",
      "\u001b[1m7/7\u001b[0m \u001b[32m━━━━━━━━━━━━━━━━━━━━\u001b[0m\u001b[37m\u001b[0m \u001b[1m0s\u001b[0m 32ms/step\n"
     ]
    },
    {
     "name": "stderr",
     "output_type": "stream",
     "text": [
      "[I 2024-12-01 17:10:51,592] Trial 74 finished with value: 0.31697773270960683 and parameters: {'hidden_units': 96, 'dropout_rate': 0.3079016768001434, 'learning_rate': 0.0042451767553140195, 'batch_size': 64, 'activation': 'relu', 'optimizer': 'rmsprop'}. Best is trial 72 with value: 0.6720752298317277.\n",
      "C:\\Users\\azad.aliyev\\AppData\\Local\\Temp\\ipykernel_17300\\339139007.py:6: FutureWarning: suggest_loguniform has been deprecated in v3.0.0. This feature will be removed in v6.0.0. See https://github.com/optuna/optuna/releases/tag/v3.0.0. Use suggest_float(..., log=True) instead.\n",
      "  learning_rate = trial.suggest_loguniform(\"learning_rate\", 1e-4, 1e-2)\n",
      "[I 2024-12-01 17:10:51,879] Trial 81 finished with value: 0.5696609364188023 and parameters: {'hidden_units': 96, 'dropout_rate': 0.29094974219084324, 'learning_rate': 0.004537603024812003, 'batch_size': 128, 'activation': 'tanh', 'optimizer': 'rmsprop'}. Best is trial 72 with value: 0.6720752298317277.\n",
      "C:\\Users\\azad.aliyev\\AppData\\Local\\Temp\\ipykernel_17300\\339139007.py:6: FutureWarning: suggest_loguniform has been deprecated in v3.0.0. This feature will be removed in v6.0.0. See https://github.com/optuna/optuna/releases/tag/v3.0.0. Use suggest_float(..., log=True) instead.\n",
      "  learning_rate = trial.suggest_loguniform(\"learning_rate\", 1e-4, 1e-2)\n"
     ]
    },
    {
     "name": "stdout",
     "output_type": "stream",
     "text": [
      "\u001b[1m7/7\u001b[0m \u001b[32m━━━━━━━━━━━━━━━━━━━━\u001b[0m\u001b[37m\u001b[0m \u001b[1m1s\u001b[0m 37ms/step\n",
      "\u001b[1m6/7\u001b[0m \u001b[32m━━━━━━━━━━━━━━━━━\u001b[0m\u001b[37m━━━\u001b[0m \u001b[1m0s\u001b[0m 10ms/step "
     ]
    },
    {
     "name": "stderr",
     "output_type": "stream",
     "text": [
      "[I 2024-12-01 17:10:54,572] Trial 73 finished with value: 0.26439255227216923 and parameters: {'hidden_units': 96, 'dropout_rate': 0.3051528509148769, 'learning_rate': 0.004307812529216684, 'batch_size': 64, 'activation': 'relu', 'optimizer': 'rmsprop'}. Best is trial 72 with value: 0.6720752298317277.\n"
     ]
    },
    {
     "name": "stdout",
     "output_type": "stream",
     "text": [
      "\u001b[1m7/7\u001b[0m \u001b[32m━━━━━━━━━━━━━━━━━━━━\u001b[0m\u001b[37m\u001b[0m \u001b[1m0s\u001b[0m 45ms/step\n"
     ]
    },
    {
     "name": "stderr",
     "output_type": "stream",
     "text": [
      "C:\\Users\\azad.aliyev\\AppData\\Local\\Temp\\ipykernel_17300\\339139007.py:6: FutureWarning: suggest_loguniform has been deprecated in v3.0.0. This feature will be removed in v6.0.0. See https://github.com/optuna/optuna/releases/tag/v3.0.0. Use suggest_float(..., log=True) instead.\n",
      "  learning_rate = trial.suggest_loguniform(\"learning_rate\", 1e-4, 1e-2)\n",
      "[I 2024-12-01 17:10:54,988] Trial 70 finished with value: 0.34286608056785894 and parameters: {'hidden_units': 16, 'dropout_rate': 0.3688051925470832, 'learning_rate': 0.0003788903642911054, 'batch_size': 64, 'activation': 'relu', 'optimizer': 'rmsprop'}. Best is trial 72 with value: 0.6720752298317277.\n",
      "C:\\Users\\azad.aliyev\\AppData\\Local\\Temp\\ipykernel_17300\\339139007.py:6: FutureWarning: suggest_loguniform has been deprecated in v3.0.0. This feature will be removed in v6.0.0. See https://github.com/optuna/optuna/releases/tag/v3.0.0. Use suggest_float(..., log=True) instead.\n",
      "  learning_rate = trial.suggest_loguniform(\"learning_rate\", 1e-4, 1e-2)\n"
     ]
    },
    {
     "name": "stdout",
     "output_type": "stream",
     "text": [
      "\u001b[1m7/7\u001b[0m \u001b[32m━━━━━━━━━━━━━━━━━━━━\u001b[0m\u001b[37m\u001b[0m \u001b[1m1s\u001b[0m 71ms/step\n"
     ]
    },
    {
     "name": "stderr",
     "output_type": "stream",
     "text": [
      "[I 2024-12-01 17:10:57,250] Trial 71 finished with value: 0.5673162223093824 and parameters: {'hidden_units': 128, 'dropout_rate': 0.2299480503199245, 'learning_rate': 0.00038716180601465933, 'batch_size': 64, 'activation': 'relu', 'optimizer': 'adam'}. Best is trial 72 with value: 0.6720752298317277.\n"
     ]
    },
    {
     "name": "stdout",
     "output_type": "stream",
     "text": [
      "\u001b[1m6/7\u001b[0m \u001b[32m━━━━━━━━━━━━━━━━━\u001b[0m\u001b[37m━━━\u001b[0m \u001b[1m0s\u001b[0m 20ms/step"
     ]
    },
    {
     "name": "stderr",
     "output_type": "stream",
     "text": [
      "C:\\Users\\azad.aliyev\\AppData\\Local\\Temp\\ipykernel_17300\\339139007.py:6: FutureWarning: suggest_loguniform has been deprecated in v3.0.0. This feature will be removed in v6.0.0. See https://github.com/optuna/optuna/releases/tag/v3.0.0. Use suggest_float(..., log=True) instead.\n",
      "  learning_rate = trial.suggest_loguniform(\"learning_rate\", 1e-4, 1e-2)\n"
     ]
    },
    {
     "name": "stdout",
     "output_type": "stream",
     "text": [
      "\u001b[1m7/7\u001b[0m \u001b[32m━━━━━━━━━━━━━━━━━━━━\u001b[0m\u001b[37m\u001b[0m \u001b[1m1s\u001b[0m 53ms/step\n"
     ]
    },
    {
     "name": "stderr",
     "output_type": "stream",
     "text": [
      "[I 2024-12-01 17:10:58,178] Trial 78 finished with value: 0.565917620910781 and parameters: {'hidden_units': 16, 'dropout_rate': 0.31209729649652374, 'learning_rate': 0.003988310226129517, 'batch_size': 64, 'activation': 'tanh', 'optimizer': 'adam'}. Best is trial 72 with value: 0.6720752298317277.\n",
      "C:\\Users\\azad.aliyev\\AppData\\Local\\Temp\\ipykernel_17300\\339139007.py:6: FutureWarning: suggest_loguniform has been deprecated in v3.0.0. This feature will be removed in v6.0.0. See https://github.com/optuna/optuna/releases/tag/v3.0.0. Use suggest_float(..., log=True) instead.\n",
      "  learning_rate = trial.suggest_loguniform(\"learning_rate\", 1e-4, 1e-2)\n"
     ]
    },
    {
     "name": "stdout",
     "output_type": "stream",
     "text": [
      "\u001b[1m7/7\u001b[0m \u001b[32m━━━━━━━━━━━━━━━━━━━━\u001b[0m\u001b[37m\u001b[0m \u001b[1m0s\u001b[0m 40ms/step\n",
      "\u001b[1m7/7\u001b[0m \u001b[32m━━━━━━━━━━━━━━━━━━━━\u001b[0m\u001b[37m\u001b[0m \u001b[1m0s\u001b[0m 33ms/step\n"
     ]
    },
    {
     "name": "stderr",
     "output_type": "stream",
     "text": [
      "[I 2024-12-01 17:10:59,088] Trial 75 finished with value: 0.46864524440447836 and parameters: {'hidden_units': 96, 'dropout_rate': 0.3051626471045817, 'learning_rate': 0.004175711723594812, 'batch_size': 64, 'activation': 'relu', 'optimizer': 'rmsprop'}. Best is trial 72 with value: 0.6720752298317277.\n",
      "[I 2024-12-01 17:10:59,207] Trial 76 finished with value: 0.4713601765311752 and parameters: {'hidden_units': 16, 'dropout_rate': 0.3009728746518823, 'learning_rate': 0.003907187428376793, 'batch_size': 64, 'activation': 'relu', 'optimizer': 'rmsprop'}. Best is trial 72 with value: 0.6720752298317277.\n",
      "C:\\Users\\azad.aliyev\\AppData\\Local\\Temp\\ipykernel_17300\\339139007.py:6: FutureWarning: suggest_loguniform has been deprecated in v3.0.0. This feature will be removed in v6.0.0. See https://github.com/optuna/optuna/releases/tag/v3.0.0. Use suggest_float(..., log=True) instead.\n",
      "  learning_rate = trial.suggest_loguniform(\"learning_rate\", 1e-4, 1e-2)\n"
     ]
    },
    {
     "name": "stdout",
     "output_type": "stream",
     "text": [
      "\u001b[1m7/7\u001b[0m \u001b[32m━━━━━━━━━━━━━━━━━━━━\u001b[0m\u001b[37m\u001b[0m \u001b[1m0s\u001b[0m 51ms/step\n",
      "\u001b[1m1/7\u001b[0m \u001b[32m━━\u001b[0m\u001b[37m━━━━━━━━━━━━━━━━━━\u001b[0m \u001b[1m1s\u001b[0m 167ms/step"
     ]
    },
    {
     "name": "stderr",
     "output_type": "stream",
     "text": [
      "[I 2024-12-01 17:11:04,969] Trial 77 finished with value: 0.5711418084879097 and parameters: {'hidden_units': 16, 'dropout_rate': 0.3008933384041397, 'learning_rate': 0.0003857068092335248, 'batch_size': 64, 'activation': 'relu', 'optimizer': 'rmsprop'}. Best is trial 72 with value: 0.6720752298317277.\n"
     ]
    },
    {
     "name": "stdout",
     "output_type": "stream",
     "text": [
      "\u001b[1m7/7\u001b[0m \u001b[32m━━━━━━━━━━━━━━━━━━━━\u001b[0m\u001b[37m\u001b[0m \u001b[1m0s\u001b[0m 36ms/step\n"
     ]
    },
    {
     "name": "stderr",
     "output_type": "stream",
     "text": [
      "C:\\Users\\azad.aliyev\\AppData\\Local\\Temp\\ipykernel_17300\\339139007.py:6: FutureWarning: suggest_loguniform has been deprecated in v3.0.0. This feature will be removed in v6.0.0. See https://github.com/optuna/optuna/releases/tag/v3.0.0. Use suggest_float(..., log=True) instead.\n",
      "  learning_rate = trial.suggest_loguniform(\"learning_rate\", 1e-4, 1e-2)\n"
     ]
    },
    {
     "name": "stdout",
     "output_type": "stream",
     "text": [
      "\u001b[1m1/7\u001b[0m \u001b[32m━━\u001b[0m\u001b[37m━━━━━━━━━━━━━━━━━━\u001b[0m \u001b[1m0s\u001b[0m 157ms/step"
     ]
    },
    {
     "name": "stderr",
     "output_type": "stream",
     "text": [
      "[I 2024-12-01 17:11:05,416] Trial 79 finished with value: 0.42498643171693795 and parameters: {'hidden_units': 16, 'dropout_rate': 0.29707790734789963, 'learning_rate': 0.004483400533769088, 'batch_size': 128, 'activation': 'relu', 'optimizer': 'adam'}. Best is trial 72 with value: 0.6720752298317277.\n"
     ]
    },
    {
     "name": "stdout",
     "output_type": "stream",
     "text": [
      "\u001b[1m4/7\u001b[0m \u001b[32m━━━━━━━━━━━\u001b[0m\u001b[37m━━━━━━━━━\u001b[0m \u001b[1m0s\u001b[0m 17ms/step "
     ]
    },
    {
     "name": "stderr",
     "output_type": "stream",
     "text": [
      "C:\\Users\\azad.aliyev\\AppData\\Local\\Temp\\ipykernel_17300\\339139007.py:6: FutureWarning: suggest_loguniform has been deprecated in v3.0.0. This feature will be removed in v6.0.0. See https://github.com/optuna/optuna/releases/tag/v3.0.0. Use suggest_float(..., log=True) instead.\n",
      "  learning_rate = trial.suggest_loguniform(\"learning_rate\", 1e-4, 1e-2)\n"
     ]
    },
    {
     "name": "stdout",
     "output_type": "stream",
     "text": [
      "\u001b[1m7/7\u001b[0m \u001b[32m━━━━━━━━━━━━━━━━━━━━\u001b[0m\u001b[37m\u001b[0m \u001b[1m0s\u001b[0m 44ms/step\n"
     ]
    },
    {
     "name": "stderr",
     "output_type": "stream",
     "text": [
      "[I 2024-12-01 17:11:05,995] Trial 88 finished with value: 0.5169523499756058 and parameters: {'hidden_units': 128, 'dropout_rate': 0.33013277158441695, 'learning_rate': 0.006291484025492453, 'batch_size': 192, 'activation': 'tanh', 'optimizer': 'adam'}. Best is trial 72 with value: 0.6720752298317277.\n",
      "C:\\Users\\azad.aliyev\\AppData\\Local\\Temp\\ipykernel_17300\\339139007.py:6: FutureWarning: suggest_loguniform has been deprecated in v3.0.0. This feature will be removed in v6.0.0. See https://github.com/optuna/optuna/releases/tag/v3.0.0. Use suggest_float(..., log=True) instead.\n",
      "  learning_rate = trial.suggest_loguniform(\"learning_rate\", 1e-4, 1e-2)\n"
     ]
    },
    {
     "name": "stdout",
     "output_type": "stream",
     "text": [
      "\u001b[1m7/7\u001b[0m \u001b[32m━━━━━━━━━━━━━━━━━━━━\u001b[0m\u001b[37m\u001b[0m \u001b[1m1s\u001b[0m 60ms/step\n",
      "\u001b[1m7/7\u001b[0m \u001b[32m━━━━━━━━━━━━━━━━━━━━\u001b[0m\u001b[37m\u001b[0m \u001b[1m1s\u001b[0m 85ms/step\n",
      "\u001b[1m7/7\u001b[0m \u001b[32m━━━━━━━━━━━━━━━━━━━━\u001b[0m\u001b[37m\u001b[0m \u001b[1m1s\u001b[0m 48ms/step\n"
     ]
    },
    {
     "name": "stderr",
     "output_type": "stream",
     "text": [
      "[I 2024-12-01 17:11:08,494] Trial 90 finished with value: 0.5700311544360792 and parameters: {'hidden_units': 128, 'dropout_rate': 0.26729401411943265, 'learning_rate': 0.002397215516426905, 'batch_size': 192, 'activation': 'tanh', 'optimizer': 'adam'}. Best is trial 72 with value: 0.6720752298317277.\n",
      "C:\\Users\\azad.aliyev\\AppData\\Local\\Temp\\ipykernel_17300\\339139007.py:6: FutureWarning: suggest_loguniform has been deprecated in v3.0.0. This feature will be removed in v6.0.0. See https://github.com/optuna/optuna/releases/tag/v3.0.0. Use suggest_float(..., log=True) instead.\n",
      "  learning_rate = trial.suggest_loguniform(\"learning_rate\", 1e-4, 1e-2)\n",
      "[I 2024-12-01 17:11:08,787] Trial 89 finished with value: 0.5181452746979422 and parameters: {'hidden_units': 128, 'dropout_rate': 0.26933394221935925, 'learning_rate': 0.0023894447406107044, 'batch_size': 192, 'activation': 'relu', 'optimizer': 'adam'}. Best is trial 72 with value: 0.6720752298317277.\n",
      "[I 2024-12-01 17:11:08,959] Trial 91 finished with value: 0.5673984929798883 and parameters: {'hidden_units': 128, 'dropout_rate': 0.2753941937068484, 'learning_rate': 0.0023784510481655702, 'batch_size': 192, 'activation': 'tanh', 'optimizer': 'adam'}. Best is trial 72 with value: 0.6720752298317277.\n",
      "C:\\Users\\azad.aliyev\\AppData\\Local\\Temp\\ipykernel_17300\\339139007.py:6: FutureWarning: suggest_loguniform has been deprecated in v3.0.0. This feature will be removed in v6.0.0. See https://github.com/optuna/optuna/releases/tag/v3.0.0. Use suggest_float(..., log=True) instead.\n",
      "  learning_rate = trial.suggest_loguniform(\"learning_rate\", 1e-4, 1e-2)\n"
     ]
    },
    {
     "name": "stdout",
     "output_type": "stream",
     "text": [
      "\u001b[1m7/7\u001b[0m \u001b[32m━━━━━━━━━━━━━━━━━━━━\u001b[0m\u001b[37m\u001b[0m \u001b[1m1s\u001b[0m 50ms/step\n"
     ]
    },
    {
     "name": "stderr",
     "output_type": "stream",
     "text": [
      "[I 2024-12-01 17:11:11,570] Trial 83 finished with value: 0.5676453049914062 and parameters: {'hidden_units': 96, 'dropout_rate': 0.28054189448021566, 'learning_rate': 0.004676329717141073, 'batch_size': 64, 'activation': 'relu', 'optimizer': 'rmsprop'}. Best is trial 72 with value: 0.6720752298317277.\n",
      "C:\\Users\\azad.aliyev\\AppData\\Local\\Temp\\ipykernel_17300\\339139007.py:6: FutureWarning: suggest_loguniform has been deprecated in v3.0.0. This feature will be removed in v6.0.0. See https://github.com/optuna/optuna/releases/tag/v3.0.0. Use suggest_float(..., log=True) instead.\n",
      "  learning_rate = trial.suggest_loguniform(\"learning_rate\", 1e-4, 1e-2)\n"
     ]
    },
    {
     "name": "stdout",
     "output_type": "stream",
     "text": [
      "\u001b[1m7/7\u001b[0m \u001b[32m━━━━━━━━━━━━━━━━━━━━\u001b[0m\u001b[37m\u001b[0m \u001b[1m1s\u001b[0m 60ms/step\n"
     ]
    },
    {
     "name": "stderr",
     "output_type": "stream",
     "text": [
      "[I 2024-12-01 17:11:15,069] Trial 86 finished with value: 0.3466093960758803 and parameters: {'hidden_units': 128, 'dropout_rate': 0.33275770604580046, 'learning_rate': 0.006284789019956228, 'batch_size': 64, 'activation': 'relu', 'optimizer': 'adam'}. Best is trial 72 with value: 0.6720752298317277.\n",
      "C:\\Users\\azad.aliyev\\AppData\\Local\\Temp\\ipykernel_17300\\339139007.py:6: FutureWarning: suggest_loguniform has been deprecated in v3.0.0. This feature will be removed in v6.0.0. See https://github.com/optuna/optuna/releases/tag/v3.0.0. Use suggest_float(..., log=True) instead.\n",
      "  learning_rate = trial.suggest_loguniform(\"learning_rate\", 1e-4, 1e-2)\n"
     ]
    },
    {
     "name": "stdout",
     "output_type": "stream",
     "text": [
      "\u001b[1m7/7\u001b[0m \u001b[32m━━━━━━━━━━━━━━━━━━━━\u001b[0m\u001b[37m\u001b[0m \u001b[1m0s\u001b[0m 46ms/step\n"
     ]
    },
    {
     "name": "stderr",
     "output_type": "stream",
     "text": [
      "[I 2024-12-01 17:11:17,457] Trial 82 finished with value: 0.42239490559600007 and parameters: {'hidden_units': 96, 'dropout_rate': 0.2946913951123384, 'learning_rate': 0.004614317334313167, 'batch_size': 64, 'activation': 'relu', 'optimizer': 'rmsprop'}. Best is trial 72 with value: 0.6720752298317277.\n",
      "C:\\Users\\azad.aliyev\\AppData\\Local\\Temp\\ipykernel_17300\\339139007.py:6: FutureWarning: suggest_loguniform has been deprecated in v3.0.0. This feature will be removed in v6.0.0. See https://github.com/optuna/optuna/releases/tag/v3.0.0. Use suggest_float(..., log=True) instead.\n",
      "  learning_rate = trial.suggest_loguniform(\"learning_rate\", 1e-4, 1e-2)\n"
     ]
    },
    {
     "name": "stdout",
     "output_type": "stream",
     "text": [
      "\u001b[1m7/7\u001b[0m \u001b[32m━━━━━━━━━━━━━━━━━━━━\u001b[0m\u001b[37m\u001b[0m \u001b[1m0s\u001b[0m 33ms/step\n"
     ]
    },
    {
     "name": "stderr",
     "output_type": "stream",
     "text": [
      "[I 2024-12-01 17:11:20,088] Trial 84 finished with value: 0.46745231968214185 and parameters: {'hidden_units': 128, 'dropout_rate': 0.29051304248485177, 'learning_rate': 0.004738323842039803, 'batch_size': 64, 'activation': 'relu', 'optimizer': 'adam'}. Best is trial 72 with value: 0.6720752298317277.\n",
      "C:\\Users\\azad.aliyev\\AppData\\Local\\Temp\\ipykernel_17300\\339139007.py:6: FutureWarning: suggest_loguniform has been deprecated in v3.0.0. This feature will be removed in v6.0.0. See https://github.com/optuna/optuna/releases/tag/v3.0.0. Use suggest_float(..., log=True) instead.\n",
      "  learning_rate = trial.suggest_loguniform(\"learning_rate\", 1e-4, 1e-2)\n"
     ]
    },
    {
     "name": "stdout",
     "output_type": "stream",
     "text": [
      "\u001b[1m7/7\u001b[0m \u001b[32m━━━━━━━━━━━━━━━━━━━━\u001b[0m\u001b[37m\u001b[0m \u001b[1m0s\u001b[0m 47ms/step\n"
     ]
    },
    {
     "name": "stderr",
     "output_type": "stream",
     "text": [
      "[I 2024-12-01 17:11:22,377] Trial 87 finished with value: 0.23057930669421778 and parameters: {'hidden_units': 128, 'dropout_rate': 0.33181117660744863, 'learning_rate': 0.00010375754505306017, 'batch_size': 192, 'activation': 'relu', 'optimizer': 'adam'}. Best is trial 72 with value: 0.6720752298317277.\n",
      "C:\\Users\\azad.aliyev\\AppData\\Local\\Temp\\ipykernel_17300\\339139007.py:6: FutureWarning: suggest_loguniform has been deprecated in v3.0.0. This feature will be removed in v6.0.0. See https://github.com/optuna/optuna/releases/tag/v3.0.0. Use suggest_float(..., log=True) instead.\n",
      "  learning_rate = trial.suggest_loguniform(\"learning_rate\", 1e-4, 1e-2)\n"
     ]
    },
    {
     "name": "stdout",
     "output_type": "stream",
     "text": [
      "\u001b[1m7/7\u001b[0m \u001b[32m━━━━━━━━━━━━━━━━━━━━\u001b[0m\u001b[37m\u001b[0m \u001b[1m1s\u001b[0m 73ms/step\n",
      "\u001b[1m7/7\u001b[0m \u001b[32m━━━━━━━━━━━━━━━━━━━━\u001b[0m\u001b[37m\u001b[0m \u001b[1m1s\u001b[0m 61ms/step\n"
     ]
    },
    {
     "name": "stderr",
     "output_type": "stream",
     "text": [
      "[I 2024-12-01 17:11:24,963] Trial 85 finished with value: 0.31204149247924895 and parameters: {'hidden_units': 128, 'dropout_rate': 0.2684632872706519, 'learning_rate': 0.002510863978820368, 'batch_size': 64, 'activation': 'relu', 'optimizer': 'adam'}. Best is trial 72 with value: 0.6720752298317277.\n",
      "[I 2024-12-01 17:11:24,999] Trial 95 finished with value: 0.36943950714128554 and parameters: {'hidden_units': 48, 'dropout_rate': 0.3220898144234273, 'learning_rate': 0.009902930430164067, 'batch_size': 64, 'activation': 'relu', 'optimizer': 'adam'}. Best is trial 72 with value: 0.6720752298317277.\n",
      "C:\\Users\\azad.aliyev\\AppData\\Local\\Temp\\ipykernel_17300\\339139007.py:6: FutureWarning: suggest_loguniform has been deprecated in v3.0.0. This feature will be removed in v6.0.0. See https://github.com/optuna/optuna/releases/tag/v3.0.0. Use suggest_float(..., log=True) instead.\n",
      "  learning_rate = trial.suggest_loguniform(\"learning_rate\", 1e-4, 1e-2)\n"
     ]
    },
    {
     "name": "stdout",
     "output_type": "stream",
     "text": [
      "\u001b[1m7/7\u001b[0m \u001b[32m━━━━━━━━━━━━━━━━━━━━\u001b[0m\u001b[37m\u001b[0m \u001b[1m0s\u001b[0m 35ms/step\n"
     ]
    },
    {
     "name": "stderr",
     "output_type": "stream",
     "text": [
      "[I 2024-12-01 17:11:30,787] Trial 92 finished with value: 0.2366262009764062 and parameters: {'hidden_units': 128, 'dropout_rate': 0.27007875482784954, 'learning_rate': 0.00010120693319764715, 'batch_size': 192, 'activation': 'relu', 'optimizer': 'adam'}. Best is trial 72 with value: 0.6720752298317277.\n",
      "C:\\Users\\azad.aliyev\\AppData\\Local\\Temp\\ipykernel_17300\\339139007.py:6: FutureWarning: suggest_loguniform has been deprecated in v3.0.0. This feature will be removed in v6.0.0. See https://github.com/optuna/optuna/releases/tag/v3.0.0. Use suggest_float(..., log=True) instead.\n",
      "  learning_rate = trial.suggest_loguniform(\"learning_rate\", 1e-4, 1e-2)\n"
     ]
    },
    {
     "name": "stdout",
     "output_type": "stream",
     "text": [
      "\u001b[1m7/7\u001b[0m \u001b[32m━━━━━━━━━━━━━━━━━━━━\u001b[0m\u001b[37m\u001b[0m \u001b[1m0s\u001b[0m 51ms/step\n"
     ]
    },
    {
     "name": "stderr",
     "output_type": "stream",
     "text": [
      "[I 2024-12-01 17:11:31,949] Trial 93 finished with value: 0.3093265603525521 and parameters: {'hidden_units': 128, 'dropout_rate': 0.26947311887986203, 'learning_rate': 0.0008583105552537209, 'batch_size': 192, 'activation': 'relu', 'optimizer': 'adam'}. Best is trial 72 with value: 0.6720752298317277.\n",
      "C:\\Users\\azad.aliyev\\AppData\\Local\\Temp\\ipykernel_17300\\339139007.py:6: FutureWarning: suggest_loguniform has been deprecated in v3.0.0. This feature will be removed in v6.0.0. See https://github.com/optuna/optuna/releases/tag/v3.0.0. Use suggest_float(..., log=True) instead.\n",
      "  learning_rate = trial.suggest_loguniform(\"learning_rate\", 1e-4, 1e-2)\n"
     ]
    },
    {
     "name": "stdout",
     "output_type": "stream",
     "text": [
      "\u001b[1m7/7\u001b[0m \u001b[32m━━━━━━━━━━━━━━━━━━━━\u001b[0m\u001b[37m\u001b[0m \u001b[1m0s\u001b[0m 51ms/step\n"
     ]
    },
    {
     "name": "stderr",
     "output_type": "stream",
     "text": [
      "[I 2024-12-01 17:11:33,260] Trial 94 finished with value: 0.23510419357204584 and parameters: {'hidden_units': 128, 'dropout_rate': 0.2688995579770229, 'learning_rate': 0.00010082329840709457, 'batch_size': 192, 'activation': 'relu', 'optimizer': 'adam'}. Best is trial 72 with value: 0.6720752298317277.\n",
      "C:\\Users\\azad.aliyev\\AppData\\Local\\Temp\\ipykernel_17300\\339139007.py:6: FutureWarning: suggest_loguniform has been deprecated in v3.0.0. This feature will be removed in v6.0.0. See https://github.com/optuna/optuna/releases/tag/v3.0.0. Use suggest_float(..., log=True) instead.\n",
      "  learning_rate = trial.suggest_loguniform(\"learning_rate\", 1e-4, 1e-2)\n"
     ]
    },
    {
     "name": "stdout",
     "output_type": "stream",
     "text": [
      "\u001b[1m7/7\u001b[0m \u001b[32m━━━━━━━━━━━━━━━━━━━━\u001b[0m\u001b[37m\u001b[0m \u001b[1m1s\u001b[0m 54ms/step\n",
      "\u001b[1m7/7\u001b[0m \u001b[32m━━━━━━━━━━━━━━━━━━━━\u001b[0m\u001b[37m\u001b[0m \u001b[1m0s\u001b[0m 33ms/step\n"
     ]
    },
    {
     "name": "stderr",
     "output_type": "stream",
     "text": [
      "[I 2024-12-01 17:11:36,799] Trial 97 finished with value: 0.5712652144936686 and parameters: {'hidden_units': 48, 'dropout_rate': 0.23868495653305424, 'learning_rate': 0.0008761109774081656, 'batch_size': 64, 'activation': 'relu', 'optimizer': 'rmsprop'}. Best is trial 72 with value: 0.6720752298317277.\n",
      "C:\\Users\\azad.aliyev\\AppData\\Local\\Temp\\ipykernel_17300\\339139007.py:6: FutureWarning: suggest_loguniform has been deprecated in v3.0.0. This feature will be removed in v6.0.0. See https://github.com/optuna/optuna/releases/tag/v3.0.0. Use suggest_float(..., log=True) instead.\n",
      "  learning_rate = trial.suggest_loguniform(\"learning_rate\", 1e-4, 1e-2)\n",
      "[I 2024-12-01 17:11:37,183] Trial 101 finished with value: 0.21871810815723264 and parameters: {'hidden_units': 48, 'dropout_rate': 0.24129327965360642, 'learning_rate': 0.0010053144836868378, 'batch_size': 192, 'activation': 'tanh', 'optimizer': 'adam'}. Best is trial 72 with value: 0.6720752298317277.\n",
      "C:\\Users\\azad.aliyev\\AppData\\Local\\Temp\\ipykernel_17300\\339139007.py:6: FutureWarning: suggest_loguniform has been deprecated in v3.0.0. This feature will be removed in v6.0.0. See https://github.com/optuna/optuna/releases/tag/v3.0.0. Use suggest_float(..., log=True) instead.\n",
      "  learning_rate = trial.suggest_loguniform(\"learning_rate\", 1e-4, 1e-2)\n"
     ]
    },
    {
     "name": "stdout",
     "output_type": "stream",
     "text": [
      "\u001b[1m7/7\u001b[0m \u001b[32m━━━━━━━━━━━━━━━━━━━━\u001b[0m\u001b[37m\u001b[0m \u001b[1m1s\u001b[0m 53ms/step\n"
     ]
    },
    {
     "name": "stderr",
     "output_type": "stream",
     "text": [
      "[I 2024-12-01 17:11:40,614] Trial 96 finished with value: 0.13844884709453795 and parameters: {'hidden_units': 48, 'dropout_rate': 0.3244506121923595, 'learning_rate': 0.00010246403174328086, 'batch_size': 64, 'activation': 'relu', 'optimizer': 'rmsprop'}. Best is trial 72 with value: 0.6720752298317277.\n",
      "C:\\Users\\azad.aliyev\\AppData\\Local\\Temp\\ipykernel_17300\\339139007.py:6: FutureWarning: suggest_loguniform has been deprecated in v3.0.0. This feature will be removed in v6.0.0. See https://github.com/optuna/optuna/releases/tag/v3.0.0. Use suggest_float(..., log=True) instead.\n",
      "  learning_rate = trial.suggest_loguniform(\"learning_rate\", 1e-4, 1e-2)\n"
     ]
    },
    {
     "name": "stdout",
     "output_type": "stream",
     "text": [
      "\u001b[1m7/7\u001b[0m \u001b[32m━━━━━━━━━━━━━━━━━━━━\u001b[0m\u001b[37m\u001b[0m \u001b[1m2s\u001b[0m 275ms/step\n"
     ]
    },
    {
     "name": "stderr",
     "output_type": "stream",
     "text": [
      "[I 2024-12-01 17:11:43,297] Trial 98 finished with value: 0.5664935156043227 and parameters: {'hidden_units': 48, 'dropout_rate': 0.33273447446785737, 'learning_rate': 0.0008262249643308932, 'batch_size': 64, 'activation': 'relu', 'optimizer': 'adam'}. Best is trial 72 with value: 0.6720752298317277.\n",
      "C:\\Users\\azad.aliyev\\AppData\\Local\\Temp\\ipykernel_17300\\339139007.py:6: FutureWarning: suggest_loguniform has been deprecated in v3.0.0. This feature will be removed in v6.0.0. See https://github.com/optuna/optuna/releases/tag/v3.0.0. Use suggest_float(..., log=True) instead.\n",
      "  learning_rate = trial.suggest_loguniform(\"learning_rate\", 1e-4, 1e-2)\n"
     ]
    },
    {
     "name": "stdout",
     "output_type": "stream",
     "text": [
      "\u001b[1m7/7\u001b[0m \u001b[32m━━━━━━━━━━━━━━━━━━━━\u001b[0m\u001b[37m\u001b[0m \u001b[1m0s\u001b[0m 41ms/step\n",
      "\u001b[1m1/7\u001b[0m \u001b[32m━━\u001b[0m\u001b[37m━━━━━━━━━━━━━━━━━━\u001b[0m \u001b[1m1s\u001b[0m 225ms/step"
     ]
    },
    {
     "name": "stderr",
     "output_type": "stream",
     "text": [
      "[I 2024-12-01 17:11:45,498] Trial 100 finished with value: 0.570524778459115 and parameters: {'hidden_units': 48, 'dropout_rate': 0.3204246608398034, 'learning_rate': 0.0009048946346250334, 'batch_size': 64, 'activation': 'relu', 'optimizer': 'adam'}. Best is trial 72 with value: 0.6720752298317277.\n"
     ]
    },
    {
     "name": "stdout",
     "output_type": "stream",
     "text": [
      "\u001b[1m6/7\u001b[0m \u001b[32m━━━━━━━━━━━━━━━━━\u001b[0m\u001b[37m━━━\u001b[0m \u001b[1m0s\u001b[0m 11ms/step "
     ]
    },
    {
     "name": "stderr",
     "output_type": "stream",
     "text": [
      "C:\\Users\\azad.aliyev\\AppData\\Local\\Temp\\ipykernel_17300\\339139007.py:6: FutureWarning: suggest_loguniform has been deprecated in v3.0.0. This feature will be removed in v6.0.0. See https://github.com/optuna/optuna/releases/tag/v3.0.0. Use suggest_float(..., log=True) instead.\n",
      "  learning_rate = trial.suggest_loguniform(\"learning_rate\", 1e-4, 1e-2)\n"
     ]
    },
    {
     "name": "stdout",
     "output_type": "stream",
     "text": [
      "\u001b[1m7/7\u001b[0m \u001b[32m━━━━━━━━━━━━━━━━━━━━\u001b[0m\u001b[37m\u001b[0m \u001b[1m1s\u001b[0m 52ms/step\n",
      "\u001b[1m7/7\u001b[0m \u001b[32m━━━━━━━━━━━━━━━━━━━━\u001b[0m\u001b[37m\u001b[0m \u001b[1m0s\u001b[0m 45ms/step\n"
     ]
    },
    {
     "name": "stderr",
     "output_type": "stream",
     "text": [
      "[I 2024-12-01 17:11:46,185] Trial 99 finished with value: 0.41725298868937727 and parameters: {'hidden_units': 48, 'dropout_rate': 0.3840057272133218, 'learning_rate': 0.0008544513838298596, 'batch_size': 64, 'activation': 'relu', 'optimizer': 'adam'}. Best is trial 72 with value: 0.6720752298317277.\n",
      "C:\\Users\\azad.aliyev\\AppData\\Local\\Temp\\ipykernel_17300\\339139007.py:6: FutureWarning: suggest_loguniform has been deprecated in v3.0.0. This feature will be removed in v6.0.0. See https://github.com/optuna/optuna/releases/tag/v3.0.0. Use suggest_float(..., log=True) instead.\n",
      "  learning_rate = trial.suggest_loguniform(\"learning_rate\", 1e-4, 1e-2)\n",
      "[I 2024-12-01 17:11:46,533] Trial 102 finished with value: 0.5748851239959312 and parameters: {'hidden_units': 112, 'dropout_rate': 0.3207363749475234, 'learning_rate': 0.0009183082084570456, 'batch_size': 64, 'activation': 'relu', 'optimizer': 'rmsprop'}. Best is trial 72 with value: 0.6720752298317277.\n",
      "C:\\Users\\azad.aliyev\\AppData\\Local\\Temp\\ipykernel_17300\\339139007.py:6: FutureWarning: suggest_loguniform has been deprecated in v3.0.0. This feature will be removed in v6.0.0. See https://github.com/optuna/optuna/releases/tag/v3.0.0. Use suggest_float(..., log=True) instead.\n",
      "  learning_rate = trial.suggest_loguniform(\"learning_rate\", 1e-4, 1e-2)\n"
     ]
    },
    {
     "name": "stdout",
     "output_type": "stream",
     "text": [
      "\u001b[1m7/7\u001b[0m \u001b[32m━━━━━━━━━━━━━━━━━━━━\u001b[0m\u001b[37m\u001b[0m \u001b[1m1s\u001b[0m 63ms/step\n"
     ]
    },
    {
     "name": "stderr",
     "output_type": "stream",
     "text": [
      "[I 2024-12-01 17:11:48,515] Trial 103 finished with value: 0.572910627903788 and parameters: {'hidden_units': 112, 'dropout_rate': 0.2407124118812997, 'learning_rate': 0.0009371694488351219, 'batch_size': 64, 'activation': 'relu', 'optimizer': 'rmsprop'}. Best is trial 72 with value: 0.6720752298317277.\n",
      "C:\\Users\\azad.aliyev\\AppData\\Local\\Temp\\ipykernel_17300\\339139007.py:6: FutureWarning: suggest_loguniform has been deprecated in v3.0.0. This feature will be removed in v6.0.0. See https://github.com/optuna/optuna/releases/tag/v3.0.0. Use suggest_float(..., log=True) instead.\n",
      "  learning_rate = trial.suggest_loguniform(\"learning_rate\", 1e-4, 1e-2)\n"
     ]
    },
    {
     "name": "stdout",
     "output_type": "stream",
     "text": [
      "\u001b[1m7/7\u001b[0m \u001b[32m━━━━━━━━━━━━━━━━━━━━\u001b[0m\u001b[37m\u001b[0m \u001b[1m0s\u001b[0m 52ms/step\n"
     ]
    },
    {
     "name": "stderr",
     "output_type": "stream",
     "text": [
      "[I 2024-12-01 17:11:51,640] Trial 104 finished with value: 0.5697843424245613 and parameters: {'hidden_units': 32, 'dropout_rate': 0.3184949119533763, 'learning_rate': 0.000984841704393159, 'batch_size': 64, 'activation': 'relu', 'optimizer': 'rmsprop'}. Best is trial 72 with value: 0.6720752298317277.\n",
      "C:\\Users\\azad.aliyev\\AppData\\Local\\Temp\\ipykernel_17300\\339139007.py:6: FutureWarning: suggest_loguniform has been deprecated in v3.0.0. This feature will be removed in v6.0.0. See https://github.com/optuna/optuna/releases/tag/v3.0.0. Use suggest_float(..., log=True) instead.\n",
      "  learning_rate = trial.suggest_loguniform(\"learning_rate\", 1e-4, 1e-2)\n"
     ]
    },
    {
     "name": "stdout",
     "output_type": "stream",
     "text": [
      "\u001b[1m7/7\u001b[0m \u001b[32m━━━━━━━━━━━━━━━━━━━━\u001b[0m\u001b[37m\u001b[0m \u001b[1m0s\u001b[0m 50ms/step\n"
     ]
    },
    {
     "name": "stderr",
     "output_type": "stream",
     "text": [
      "[I 2024-12-01 17:11:54,495] Trial 105 finished with value: 0.36639549233256485 and parameters: {'hidden_units': 32, 'dropout_rate': 0.3799730521671022, 'learning_rate': 0.008109583526143532, 'batch_size': 64, 'activation': 'relu', 'optimizer': 'rmsprop'}. Best is trial 72 with value: 0.6720752298317277.\n",
      "C:\\Users\\azad.aliyev\\AppData\\Local\\Temp\\ipykernel_17300\\339139007.py:6: FutureWarning: suggest_loguniform has been deprecated in v3.0.0. This feature will be removed in v6.0.0. See https://github.com/optuna/optuna/releases/tag/v3.0.0. Use suggest_float(..., log=True) instead.\n",
      "  learning_rate = trial.suggest_loguniform(\"learning_rate\", 1e-4, 1e-2)\n"
     ]
    },
    {
     "name": "stdout",
     "output_type": "stream",
     "text": [
      "\u001b[1m7/7\u001b[0m \u001b[32m━━━━━━━━━━━━━━━━━━━━\u001b[0m\u001b[37m\u001b[0m \u001b[1m1s\u001b[0m 57ms/step\n"
     ]
    },
    {
     "name": "stderr",
     "output_type": "stream",
     "text": [
      "[I 2024-12-01 17:11:57,570] Trial 106 finished with value: 0.3634748835296031 and parameters: {'hidden_units': 112, 'dropout_rate': 0.37841596315168735, 'learning_rate': 0.008537959772164583, 'batch_size': 64, 'activation': 'tanh', 'optimizer': 'rmsprop'}. Best is trial 72 with value: 0.6720752298317277.\n",
      "C:\\Users\\azad.aliyev\\AppData\\Local\\Temp\\ipykernel_17300\\339139007.py:6: FutureWarning: suggest_loguniform has been deprecated in v3.0.0. This feature will be removed in v6.0.0. See https://github.com/optuna/optuna/releases/tag/v3.0.0. Use suggest_float(..., log=True) instead.\n",
      "  learning_rate = trial.suggest_loguniform(\"learning_rate\", 1e-4, 1e-2)\n"
     ]
    },
    {
     "name": "stdout",
     "output_type": "stream",
     "text": [
      "\u001b[1m7/7\u001b[0m \u001b[32m━━━━━━━━━━━━━━━━━━━━\u001b[0m\u001b[37m\u001b[0m \u001b[1m1s\u001b[0m 50ms/step\n",
      "\u001b[1m7/7\u001b[0m \u001b[32m━━━━━━━━━━━━━━━━━━━━\u001b[0m\u001b[37m\u001b[0m \u001b[1m1s\u001b[0m 58ms/step\n"
     ]
    },
    {
     "name": "stderr",
     "output_type": "stream",
     "text": [
      "[I 2024-12-01 17:11:59,768] Trial 107 finished with value: 0.5675218989856473 and parameters: {'hidden_units': 112, 'dropout_rate': 0.21513508330939118, 'learning_rate': 0.006563336346750189, 'batch_size': 64, 'activation': 'tanh', 'optimizer': 'rmsprop'}. Best is trial 72 with value: 0.6720752298317277.\n",
      "C:\\Users\\azad.aliyev\\AppData\\Local\\Temp\\ipykernel_17300\\339139007.py:6: FutureWarning: suggest_loguniform has been deprecated in v3.0.0. This feature will be removed in v6.0.0. See https://github.com/optuna/optuna/releases/tag/v3.0.0. Use suggest_float(..., log=True) instead.\n",
      "  learning_rate = trial.suggest_loguniform(\"learning_rate\", 1e-4, 1e-2)\n",
      "[I 2024-12-01 17:12:00,109] Trial 108 finished with value: 0.41774661271241303 and parameters: {'hidden_units': 48, 'dropout_rate': 0.24381290199975897, 'learning_rate': 0.001126906081331949, 'batch_size': 64, 'activation': 'tanh', 'optimizer': 'rmsprop'}. Best is trial 72 with value: 0.6720752298317277.\n",
      "C:\\Users\\azad.aliyev\\AppData\\Local\\Temp\\ipykernel_17300\\339139007.py:6: FutureWarning: suggest_loguniform has been deprecated in v3.0.0. This feature will be removed in v6.0.0. See https://github.com/optuna/optuna/releases/tag/v3.0.0. Use suggest_float(..., log=True) instead.\n",
      "  learning_rate = trial.suggest_loguniform(\"learning_rate\", 1e-4, 1e-2)\n"
     ]
    },
    {
     "name": "stdout",
     "output_type": "stream",
     "text": [
      "\u001b[1m7/7\u001b[0m \u001b[32m━━━━━━━━━━━━━━━━━━━━\u001b[0m\u001b[37m\u001b[0m \u001b[1m0s\u001b[0m 56ms/step\n"
     ]
    },
    {
     "name": "stderr",
     "output_type": "stream",
     "text": [
      "[I 2024-12-01 17:12:02,324] Trial 116 finished with value: 0.2200344388853281 and parameters: {'hidden_units': 112, 'dropout_rate': 0.24005065406351866, 'learning_rate': 0.0011137036026077302, 'batch_size': 64, 'activation': 'tanh', 'optimizer': 'rmsprop'}. Best is trial 72 with value: 0.6720752298317277.\n"
     ]
    },
    {
     "name": "stdout",
     "output_type": "stream",
     "text": [
      "\u001b[1m7/7\u001b[0m \u001b[32m━━━━━━━━━━━━━━━━━━━━\u001b[0m\u001b[37m\u001b[0m \u001b[1m0s\u001b[0m 37ms/step\n"
     ]
    },
    {
     "name": "stderr",
     "output_type": "stream",
     "text": [
      "C:\\Users\\azad.aliyev\\AppData\\Local\\Temp\\ipykernel_17300\\339139007.py:6: FutureWarning: suggest_loguniform has been deprecated in v3.0.0. This feature will be removed in v6.0.0. See https://github.com/optuna/optuna/releases/tag/v3.0.0. Use suggest_float(..., log=True) instead.\n",
      "  learning_rate = trial.suggest_loguniform(\"learning_rate\", 1e-4, 1e-2)\n",
      "[I 2024-12-01 17:12:03,182] Trial 110 finished with value: 0.3565230118718491 and parameters: {'hidden_units': 32, 'dropout_rate': 0.2403550988099794, 'learning_rate': 0.0011480432287813407, 'batch_size': 64, 'activation': 'tanh', 'optimizer': 'rmsprop'}. Best is trial 72 with value: 0.6720752298317277.\n",
      "C:\\Users\\azad.aliyev\\AppData\\Local\\Temp\\ipykernel_17300\\339139007.py:6: FutureWarning: suggest_loguniform has been deprecated in v3.0.0. This feature will be removed in v6.0.0. See https://github.com/optuna/optuna/releases/tag/v3.0.0. Use suggest_float(..., log=True) instead.\n",
      "  learning_rate = trial.suggest_loguniform(\"learning_rate\", 1e-4, 1e-2)\n"
     ]
    },
    {
     "name": "stdout",
     "output_type": "stream",
     "text": [
      "\u001b[1m7/7\u001b[0m \u001b[32m━━━━━━━━━━━━━━━━━━━━\u001b[0m\u001b[37m\u001b[0m \u001b[1m1s\u001b[0m 53ms/step\n"
     ]
    },
    {
     "name": "stderr",
     "output_type": "stream",
     "text": [
      "[I 2024-12-01 17:12:07,190] Trial 112 finished with value: 0.4158132519555229 and parameters: {'hidden_units': 32, 'dropout_rate': 0.21705730057214287, 'learning_rate': 0.0011387006600390593, 'batch_size': 64, 'activation': 'relu', 'optimizer': 'rmsprop'}. Best is trial 72 with value: 0.6720752298317277.\n"
     ]
    },
    {
     "name": "stdout",
     "output_type": "stream",
     "text": [
      "\u001b[1m1/7\u001b[0m \u001b[32m━━\u001b[0m\u001b[37m━━━━━━━━━━━━━━━━━━\u001b[0m \u001b[1m1s\u001b[0m 214ms/step"
     ]
    },
    {
     "name": "stderr",
     "output_type": "stream",
     "text": [
      "C:\\Users\\azad.aliyev\\AppData\\Local\\Temp\\ipykernel_17300\\339139007.py:6: FutureWarning: suggest_loguniform has been deprecated in v3.0.0. This feature will be removed in v6.0.0. See https://github.com/optuna/optuna/releases/tag/v3.0.0. Use suggest_float(..., log=True) instead.\n",
      "  learning_rate = trial.suggest_loguniform(\"learning_rate\", 1e-4, 1e-2)\n"
     ]
    },
    {
     "name": "stdout",
     "output_type": "stream",
     "text": [
      "\u001b[1m7/7\u001b[0m \u001b[32m━━━━━━━━━━━━━━━━━━━━\u001b[0m\u001b[37m\u001b[0m \u001b[1m0s\u001b[0m 46ms/step\n"
     ]
    },
    {
     "name": "stderr",
     "output_type": "stream",
     "text": [
      "[I 2024-12-01 17:12:07,896] Trial 113 finished with value: 0.42005019148658007 and parameters: {'hidden_units': 32, 'dropout_rate': 0.23643626254478567, 'learning_rate': 0.0011910450279731537, 'batch_size': 64, 'activation': 'relu', 'optimizer': 'rmsprop'}. Best is trial 72 with value: 0.6720752298317277.\n",
      "C:\\Users\\azad.aliyev\\AppData\\Local\\Temp\\ipykernel_17300\\339139007.py:6: FutureWarning: suggest_loguniform has been deprecated in v3.0.0. This feature will be removed in v6.0.0. See https://github.com/optuna/optuna/releases/tag/v3.0.0. Use suggest_float(..., log=True) instead.\n",
      "  learning_rate = trial.suggest_loguniform(\"learning_rate\", 1e-4, 1e-2)\n"
     ]
    },
    {
     "name": "stdout",
     "output_type": "stream",
     "text": [
      "\u001b[1m7/7\u001b[0m \u001b[32m━━━━━━━━━━━━━━━━━━━━\u001b[0m\u001b[37m\u001b[0m \u001b[1m0s\u001b[0m 49ms/step\n",
      "\u001b[1m7/7\u001b[0m \u001b[32m━━━━━━━━━━━━━━━━━━━━\u001b[0m\u001b[37m\u001b[0m \u001b[1m0s\u001b[0m 37ms/step\n"
     ]
    },
    {
     "name": "stderr",
     "output_type": "stream",
     "text": [
      "[I 2024-12-01 17:12:09,071] Trial 111 finished with value: 0.42165446956144637 and parameters: {'hidden_units': 32, 'dropout_rate': 0.20125106317811184, 'learning_rate': 0.0011802267259412712, 'batch_size': 128, 'activation': 'tanh', 'optimizer': 'rmsprop'}. Best is trial 72 with value: 0.6720752298317277.\n",
      "C:\\Users\\azad.aliyev\\AppData\\Local\\Temp\\ipykernel_17300\\339139007.py:6: FutureWarning: suggest_loguniform has been deprecated in v3.0.0. This feature will be removed in v6.0.0. See https://github.com/optuna/optuna/releases/tag/v3.0.0. Use suggest_float(..., log=True) instead.\n",
      "  learning_rate = trial.suggest_loguniform(\"learning_rate\", 1e-4, 1e-2)\n",
      "[I 2024-12-01 17:12:09,349] Trial 109 finished with value: 0.5646424255179385 and parameters: {'hidden_units': 32, 'dropout_rate': 0.2130689931588391, 'learning_rate': 0.0005295947467351936, 'batch_size': 64, 'activation': 'tanh', 'optimizer': 'rmsprop'}. Best is trial 72 with value: 0.6720752298317277.\n",
      "C:\\Users\\azad.aliyev\\AppData\\Local\\Temp\\ipykernel_17300\\339139007.py:6: FutureWarning: suggest_loguniform has been deprecated in v3.0.0. This feature will be removed in v6.0.0. See https://github.com/optuna/optuna/releases/tag/v3.0.0. Use suggest_float(..., log=True) instead.\n",
      "  learning_rate = trial.suggest_loguniform(\"learning_rate\", 1e-4, 1e-2)\n"
     ]
    },
    {
     "name": "stdout",
     "output_type": "stream",
     "text": [
      "\u001b[1m7/7\u001b[0m \u001b[32m━━━━━━━━━━━━━━━━━━━━\u001b[0m\u001b[37m\u001b[0m \u001b[1m1s\u001b[0m 41ms/step\n"
     ]
    },
    {
     "name": "stderr",
     "output_type": "stream",
     "text": [
      "[I 2024-12-01 17:12:10,824] Trial 117 finished with value: 0.269616739849298 and parameters: {'hidden_units': 64, 'dropout_rate': 0.2421373105858298, 'learning_rate': 0.0005435762852150954, 'batch_size': 128, 'activation': 'tanh', 'optimizer': 'rmsprop'}. Best is trial 72 with value: 0.6720752298317277.\n",
      "C:\\Users\\azad.aliyev\\AppData\\Local\\Temp\\ipykernel_17300\\339139007.py:6: FutureWarning: suggest_loguniform has been deprecated in v3.0.0. This feature will be removed in v6.0.0. See https://github.com/optuna/optuna/releases/tag/v3.0.0. Use suggest_float(..., log=True) instead.\n",
      "  learning_rate = trial.suggest_loguniform(\"learning_rate\", 1e-4, 1e-2)\n"
     ]
    },
    {
     "name": "stdout",
     "output_type": "stream",
     "text": [
      "\u001b[1m7/7\u001b[0m \u001b[32m━━━━━━━━━━━━━━━━━━━━\u001b[0m\u001b[37m\u001b[0m \u001b[1m0s\u001b[0m 34ms/step\n"
     ]
    },
    {
     "name": "stderr",
     "output_type": "stream",
     "text": [
      "[I 2024-12-01 17:12:15,283] Trial 115 finished with value: 0.5725815452217641 and parameters: {'hidden_units': 32, 'dropout_rate': 0.24421608899335734, 'learning_rate': 0.001086518829003476, 'batch_size': 64, 'activation': 'tanh', 'optimizer': 'rmsprop'}. Best is trial 72 with value: 0.6720752298317277.\n",
      "C:\\Users\\azad.aliyev\\AppData\\Local\\Temp\\ipykernel_17300\\339139007.py:6: FutureWarning: suggest_loguniform has been deprecated in v3.0.0. This feature will be removed in v6.0.0. See https://github.com/optuna/optuna/releases/tag/v3.0.0. Use suggest_float(..., log=True) instead.\n",
      "  learning_rate = trial.suggest_loguniform(\"learning_rate\", 1e-4, 1e-2)\n"
     ]
    },
    {
     "name": "stdout",
     "output_type": "stream",
     "text": [
      "\u001b[1m7/7\u001b[0m \u001b[32m━━━━━━━━━━━━━━━━━━━━\u001b[0m\u001b[37m\u001b[0m \u001b[1m0s\u001b[0m 31ms/step\n"
     ]
    },
    {
     "name": "stderr",
     "output_type": "stream",
     "text": [
      "[I 2024-12-01 17:12:16,053] Trial 118 finished with value: 0.267230890404625 and parameters: {'hidden_units': 64, 'dropout_rate': 0.21517656277425, 'learning_rate': 0.0005213238845564812, 'batch_size': 128, 'activation': 'tanh', 'optimizer': 'rmsprop'}. Best is trial 72 with value: 0.6720752298317277.\n",
      "C:\\Users\\azad.aliyev\\AppData\\Local\\Temp\\ipykernel_17300\\339139007.py:6: FutureWarning: suggest_loguniform has been deprecated in v3.0.0. This feature will be removed in v6.0.0. See https://github.com/optuna/optuna/releases/tag/v3.0.0. Use suggest_float(..., log=True) instead.\n",
      "  learning_rate = trial.suggest_loguniform(\"learning_rate\", 1e-4, 1e-2)\n"
     ]
    },
    {
     "name": "stdout",
     "output_type": "stream",
     "text": [
      "\u001b[1m7/7\u001b[0m \u001b[32m━━━━━━━━━━━━━━━━━━━━\u001b[0m\u001b[37m\u001b[0m \u001b[1m0s\u001b[0m 39ms/step\n"
     ]
    },
    {
     "name": "stderr",
     "output_type": "stream",
     "text": [
      "[I 2024-12-01 17:12:18,574] Trial 114 finished with value: 0.5666169216100817 and parameters: {'hidden_units': 64, 'dropout_rate': 0.2126487370901981, 'learning_rate': 0.0005561739413794059, 'batch_size': 64, 'activation': 'tanh', 'optimizer': 'rmsprop'}. Best is trial 72 with value: 0.6720752298317277.\n",
      "C:\\Users\\azad.aliyev\\AppData\\Local\\Temp\\ipykernel_17300\\339139007.py:6: FutureWarning: suggest_loguniform has been deprecated in v3.0.0. This feature will be removed in v6.0.0. See https://github.com/optuna/optuna/releases/tag/v3.0.0. Use suggest_float(..., log=True) instead.\n",
      "  learning_rate = trial.suggest_loguniform(\"learning_rate\", 1e-4, 1e-2)\n"
     ]
    },
    {
     "name": "stdout",
     "output_type": "stream",
     "text": [
      "\u001b[1m7/7\u001b[0m \u001b[32m━━━━━━━━━━━━━━━━━━━━\u001b[0m\u001b[37m\u001b[0m \u001b[1m0s\u001b[0m 33ms/step\n"
     ]
    },
    {
     "name": "stderr",
     "output_type": "stream",
     "text": [
      "[I 2024-12-01 17:12:26,330] Trial 119 finished with value: 0.6187496133597365 and parameters: {'hidden_units': 64, 'dropout_rate': 0.23713979990910458, 'learning_rate': 0.0005173577142899773, 'batch_size': 128, 'activation': 'relu', 'optimizer': 'rmsprop'}. Best is trial 72 with value: 0.6720752298317277.\n",
      "C:\\Users\\azad.aliyev\\AppData\\Local\\Temp\\ipykernel_17300\\339139007.py:6: FutureWarning: suggest_loguniform has been deprecated in v3.0.0. This feature will be removed in v6.0.0. See https://github.com/optuna/optuna/releases/tag/v3.0.0. Use suggest_float(..., log=True) instead.\n",
      "  learning_rate = trial.suggest_loguniform(\"learning_rate\", 1e-4, 1e-2)\n"
     ]
    },
    {
     "name": "stdout",
     "output_type": "stream",
     "text": [
      "\u001b[1m7/7\u001b[0m \u001b[32m━━━━━━━━━━━━━━━━━━━━\u001b[0m\u001b[37m\u001b[0m \u001b[1m0s\u001b[0m 43ms/step\n"
     ]
    },
    {
     "name": "stderr",
     "output_type": "stream",
     "text": [
      "[I 2024-12-01 17:12:27,352] Trial 120 finished with value: 0.5220942668822286 and parameters: {'hidden_units': 80, 'dropout_rate': 0.236747530437785, 'learning_rate': 0.000723113919548699, 'batch_size': 128, 'activation': 'relu', 'optimizer': 'rmsprop'}. Best is trial 72 with value: 0.6720752298317277.\n",
      "C:\\Users\\azad.aliyev\\AppData\\Local\\Temp\\ipykernel_17300\\339139007.py:6: FutureWarning: suggest_loguniform has been deprecated in v3.0.0. This feature will be removed in v6.0.0. See https://github.com/optuna/optuna/releases/tag/v3.0.0. Use suggest_float(..., log=True) instead.\n",
      "  learning_rate = trial.suggest_loguniform(\"learning_rate\", 1e-4, 1e-2)\n"
     ]
    },
    {
     "name": "stdout",
     "output_type": "stream",
     "text": [
      "\u001b[1m7/7\u001b[0m \u001b[32m━━━━━━━━━━━━━━━━━━━━\u001b[0m\u001b[37m\u001b[0m \u001b[1m1s\u001b[0m 58ms/step\n"
     ]
    },
    {
     "name": "stderr",
     "output_type": "stream",
     "text": [
      "[I 2024-12-01 17:12:29,640] Trial 121 finished with value: 0.3178415747499195 and parameters: {'hidden_units': 64, 'dropout_rate': 0.20236009485744336, 'learning_rate': 0.0005214350242362193, 'batch_size': 128, 'activation': 'relu', 'optimizer': 'rmsprop'}. Best is trial 72 with value: 0.6720752298317277.\n",
      "C:\\Users\\azad.aliyev\\AppData\\Local\\Temp\\ipykernel_17300\\339139007.py:6: FutureWarning: suggest_loguniform has been deprecated in v3.0.0. This feature will be removed in v6.0.0. See https://github.com/optuna/optuna/releases/tag/v3.0.0. Use suggest_float(..., log=True) instead.\n",
      "  learning_rate = trial.suggest_loguniform(\"learning_rate\", 1e-4, 1e-2)\n"
     ]
    },
    {
     "name": "stdout",
     "output_type": "stream",
     "text": [
      "\u001b[1m7/7\u001b[0m \u001b[32m━━━━━━━━━━━━━━━━━━━━\u001b[0m\u001b[37m\u001b[0m \u001b[1m0s\u001b[0m 42ms/step\n",
      "\u001b[1m1/7\u001b[0m \u001b[32m━━\u001b[0m\u001b[37m━━━━━━━━━━━━━━━━━━\u001b[0m \u001b[1m1s\u001b[0m 253ms/step"
     ]
    },
    {
     "name": "stderr",
     "output_type": "stream",
     "text": [
      "[I 2024-12-01 17:12:33,744] Trial 122 finished with value: 0.568180064349695 and parameters: {'hidden_units': 64, 'dropout_rate': 0.3562950002709954, 'learning_rate': 0.0005427639285442728, 'batch_size': 64, 'activation': 'relu', 'optimizer': 'rmsprop'}. Best is trial 72 with value: 0.6720752298317277.\n"
     ]
    },
    {
     "name": "stdout",
     "output_type": "stream",
     "text": [
      "\u001b[1m5/7\u001b[0m \u001b[32m━━━━━━━━━━━━━━\u001b[0m\u001b[37m━━━━━━\u001b[0m \u001b[1m0s\u001b[0m 34ms/step"
     ]
    },
    {
     "name": "stderr",
     "output_type": "stream",
     "text": [
      "C:\\Users\\azad.aliyev\\AppData\\Local\\Temp\\ipykernel_17300\\339139007.py:6: FutureWarning: suggest_loguniform has been deprecated in v3.0.0. This feature will be removed in v6.0.0. See https://github.com/optuna/optuna/releases/tag/v3.0.0. Use suggest_float(..., log=True) instead.\n",
      "  learning_rate = trial.suggest_loguniform(\"learning_rate\", 1e-4, 1e-2)\n"
     ]
    },
    {
     "name": "stdout",
     "output_type": "stream",
     "text": [
      "\u001b[1m7/7\u001b[0m \u001b[32m━━━━━━━━━━━━━━━━━━━━\u001b[0m\u001b[37m\u001b[0m \u001b[1m1s\u001b[0m 62ms/step\n",
      "\u001b[1m7/7\u001b[0m \u001b[32m━━━━━━━━━━━━━━━━━━━━\u001b[0m\u001b[37m\u001b[0m \u001b[1m0s\u001b[0m 48ms/step"
     ]
    },
    {
     "name": "stderr",
     "output_type": "stream",
     "text": [
      "[I 2024-12-01 17:12:34,489] Trial 123 finished with value: 0.3490363808558063 and parameters: {'hidden_units': 64, 'dropout_rate': 0.20085482322650244, 'learning_rate': 0.0006245071816679023, 'batch_size': 128, 'activation': 'relu', 'optimizer': 'rmsprop'}. Best is trial 72 with value: 0.6720752298317277.\n"
     ]
    },
    {
     "name": "stdout",
     "output_type": "stream",
     "text": [
      "\u001b[1m7/7\u001b[0m \u001b[32m━━━━━━━━━━━━━━━━━━━━\u001b[0m\u001b[37m\u001b[0m \u001b[1m1s\u001b[0m 56ms/step\n",
      "\u001b[1m7/7\u001b[0m \u001b[32m━━━━━━━━━━━━━━━━━━━━\u001b[0m\u001b[37m\u001b[0m \u001b[1m1s\u001b[0m 61ms/step\n",
      "\u001b[1m7/7\u001b[0m \u001b[32m━━━━━━━━━━━━━━━━━━━━\u001b[0m\u001b[37m\u001b[0m \u001b[1m0s\u001b[0m 54ms/step"
     ]
    },
    {
     "name": "stderr",
     "output_type": "stream",
     "text": [
      "C:\\Users\\azad.aliyev\\AppData\\Local\\Temp\\ipykernel_17300\\339139007.py:6: FutureWarning: suggest_loguniform has been deprecated in v3.0.0. This feature will be removed in v6.0.0. See https://github.com/optuna/optuna/releases/tag/v3.0.0. Use suggest_float(..., log=True) instead.\n",
      "  learning_rate = trial.suggest_loguniform(\"learning_rate\", 1e-4, 1e-2)\n"
     ]
    },
    {
     "name": "stdout",
     "output_type": "stream",
     "text": [
      "\u001b[1m7/7\u001b[0m \u001b[32m━━━━━━━━━━━━━━━━━━━━\u001b[0m\u001b[37m\u001b[0m \u001b[1m1s\u001b[0m 60ms/step\n",
      "\u001b[1m1/7\u001b[0m \u001b[32m━━\u001b[0m\u001b[37m━━━━━━━━━━━━━━━━━━\u001b[0m \u001b[1m1s\u001b[0m 191ms/step"
     ]
    },
    {
     "name": "stderr",
     "output_type": "stream",
     "text": [
      "[I 2024-12-01 17:12:34,978] Trial 124 finished with value: 0.42009132682183303 and parameters: {'hidden_units': 64, 'dropout_rate': 0.26200194108534247, 'learning_rate': 0.0005759386659660846, 'batch_size': 128, 'activation': 'relu', 'optimizer': 'rmsprop'}. Best is trial 72 with value: 0.6720752298317277.\n"
     ]
    },
    {
     "name": "stdout",
     "output_type": "stream",
     "text": [
      "\u001b[1m7/7\u001b[0m \u001b[32m━━━━━━━━━━━━━━━━━━━━\u001b[0m\u001b[37m\u001b[0m \u001b[1m0s\u001b[0m 25ms/step "
     ]
    },
    {
     "name": "stderr",
     "output_type": "stream",
     "text": [
      "C:\\Users\\azad.aliyev\\AppData\\Local\\Temp\\ipykernel_17300\\339139007.py:6: FutureWarning: suggest_loguniform has been deprecated in v3.0.0. This feature will be removed in v6.0.0. See https://github.com/optuna/optuna/releases/tag/v3.0.0. Use suggest_float(..., log=True) instead.\n",
      "  learning_rate = trial.suggest_loguniform(\"learning_rate\", 1e-4, 1e-2)\n",
      "[I 2024-12-01 17:12:35,182] Trial 127 finished with value: 0.5685914177022249 and parameters: {'hidden_units': 112, 'dropout_rate': 0.353125628295507, 'learning_rate': 0.0007625926979062821, 'batch_size': 64, 'activation': 'relu', 'optimizer': 'rmsprop'}. Best is trial 72 with value: 0.6720752298317277.\n"
     ]
    },
    {
     "name": "stdout",
     "output_type": "stream",
     "text": [
      "\u001b[1m7/7\u001b[0m \u001b[32m━━━━━━━━━━━━━━━━━━━━\u001b[0m\u001b[37m\u001b[0m \u001b[1m0s\u001b[0m 32ms/step\n"
     ]
    },
    {
     "name": "stderr",
     "output_type": "stream",
     "text": [
      "[I 2024-12-01 17:12:35,316] Trial 128 finished with value: 0.4138387558633797 and parameters: {'hidden_units': 64, 'dropout_rate': 0.2613718538106073, 'learning_rate': 0.0007559820241091653, 'batch_size': 64, 'activation': 'relu', 'optimizer': 'rmsprop'}. Best is trial 72 with value: 0.6720752298317277.\n",
      "C:\\Users\\azad.aliyev\\AppData\\Local\\Temp\\ipykernel_17300\\339139007.py:6: FutureWarning: suggest_loguniform has been deprecated in v3.0.0. This feature will be removed in v6.0.0. See https://github.com/optuna/optuna/releases/tag/v3.0.0. Use suggest_float(..., log=True) instead.\n",
      "  learning_rate = trial.suggest_loguniform(\"learning_rate\", 1e-4, 1e-2)\n",
      "C:\\Users\\azad.aliyev\\AppData\\Local\\Temp\\ipykernel_17300\\339139007.py:6: FutureWarning: suggest_loguniform has been deprecated in v3.0.0. This feature will be removed in v6.0.0. See https://github.com/optuna/optuna/releases/tag/v3.0.0. Use suggest_float(..., log=True) instead.\n",
      "  learning_rate = trial.suggest_loguniform(\"learning_rate\", 1e-4, 1e-2)\n",
      "[I 2024-12-01 17:12:35,590] Trial 126 finished with value: 0.5673573576446354 and parameters: {'hidden_units': 64, 'dropout_rate': 0.3537500269614906, 'learning_rate': 0.0007312133209062946, 'batch_size': 128, 'activation': 'relu', 'optimizer': 'rmsprop'}. Best is trial 72 with value: 0.6720752298317277.\n"
     ]
    },
    {
     "name": "stdout",
     "output_type": "stream",
     "text": [
      "\u001b[1m3/7\u001b[0m \u001b[32m━━━━━━━━\u001b[0m\u001b[37m━━━━━━━━━━━━\u001b[0m \u001b[1m0s\u001b[0m 30ms/step "
     ]
    },
    {
     "name": "stderr",
     "output_type": "stream",
     "text": [
      "C:\\Users\\azad.aliyev\\AppData\\Local\\Temp\\ipykernel_17300\\339139007.py:6: FutureWarning: suggest_loguniform has been deprecated in v3.0.0. This feature will be removed in v6.0.0. See https://github.com/optuna/optuna/releases/tag/v3.0.0. Use suggest_float(..., log=True) instead.\n",
      "  learning_rate = trial.suggest_loguniform(\"learning_rate\", 1e-4, 1e-2)\n"
     ]
    },
    {
     "name": "stdout",
     "output_type": "stream",
     "text": [
      "\u001b[1m7/7\u001b[0m \u001b[32m━━━━━━━━━━━━━━━━━━━━\u001b[0m\u001b[37m\u001b[0m \u001b[1m0s\u001b[0m 50ms/step\n"
     ]
    },
    {
     "name": "stderr",
     "output_type": "stream",
     "text": [
      "[I 2024-12-01 17:12:36,394] Trial 129 finished with value: 0.41885726676424356 and parameters: {'hidden_units': 80, 'dropout_rate': 0.25990420619283067, 'learning_rate': 0.0018198269838577829, 'batch_size': 64, 'activation': 'relu', 'optimizer': 'rmsprop'}. Best is trial 72 with value: 0.6720752298317277.\n",
      "C:\\Users\\azad.aliyev\\AppData\\Local\\Temp\\ipykernel_17300\\339139007.py:6: FutureWarning: suggest_loguniform has been deprecated in v3.0.0. This feature will be removed in v6.0.0. See https://github.com/optuna/optuna/releases/tag/v3.0.0. Use suggest_float(..., log=True) instead.\n",
      "  learning_rate = trial.suggest_loguniform(\"learning_rate\", 1e-4, 1e-2)\n"
     ]
    },
    {
     "name": "stdout",
     "output_type": "stream",
     "text": [
      "\u001b[1m7/7\u001b[0m \u001b[32m━━━━━━━━━━━━━━━━━━━━\u001b[0m\u001b[37m\u001b[0m \u001b[1m0s\u001b[0m 45ms/step\n"
     ]
    },
    {
     "name": "stderr",
     "output_type": "stream",
     "text": [
      "[I 2024-12-01 17:12:40,232] Trial 125 finished with value: 0.5657119442345161 and parameters: {'hidden_units': 64, 'dropout_rate': 0.3574229734211626, 'learning_rate': 0.0005870354141409623, 'batch_size': 64, 'activation': 'relu', 'optimizer': 'rmsprop'}. Best is trial 72 with value: 0.6720752298317277.\n",
      "C:\\Users\\azad.aliyev\\AppData\\Local\\Temp\\ipykernel_17300\\339139007.py:6: FutureWarning: suggest_loguniform has been deprecated in v3.0.0. This feature will be removed in v6.0.0. See https://github.com/optuna/optuna/releases/tag/v3.0.0. Use suggest_float(..., log=True) instead.\n",
      "  learning_rate = trial.suggest_loguniform(\"learning_rate\", 1e-4, 1e-2)\n"
     ]
    },
    {
     "name": "stdout",
     "output_type": "stream",
     "text": [
      "\u001b[1m7/7\u001b[0m \u001b[32m━━━━━━━━━━━━━━━━━━━━\u001b[0m\u001b[37m\u001b[0m \u001b[1m0s\u001b[0m 28ms/step\n"
     ]
    },
    {
     "name": "stderr",
     "output_type": "stream",
     "text": [
      "[I 2024-12-01 17:12:50,072] Trial 130 finished with value: 0.5662055682575519 and parameters: {'hidden_units': 80, 'dropout_rate': 0.2592981550782173, 'learning_rate': 0.00044378154218588383, 'batch_size': 64, 'activation': 'relu', 'optimizer': 'rmsprop'}. Best is trial 72 with value: 0.6720752298317277.\n",
      "C:\\Users\\azad.aliyev\\AppData\\Local\\Temp\\ipykernel_17300\\339139007.py:6: FutureWarning: suggest_loguniform has been deprecated in v3.0.0. This feature will be removed in v6.0.0. See https://github.com/optuna/optuna/releases/tag/v3.0.0. Use suggest_float(..., log=True) instead.\n",
      "  learning_rate = trial.suggest_loguniform(\"learning_rate\", 1e-4, 1e-2)\n"
     ]
    },
    {
     "name": "stdout",
     "output_type": "stream",
     "text": [
      "\u001b[1m7/7\u001b[0m \u001b[32m━━━━━━━━━━━━━━━━━━━━\u001b[0m\u001b[37m\u001b[0m \u001b[1m1s\u001b[0m 49ms/step\n"
     ]
    },
    {
     "name": "stderr",
     "output_type": "stream",
     "text": [
      "[I 2024-12-01 17:12:53,082] Trial 131 finished with value: 0.5688382297137426 and parameters: {'hidden_units': 80, 'dropout_rate': 0.4331358613183097, 'learning_rate': 0.0007333764980523912, 'batch_size': 128, 'activation': 'relu', 'optimizer': 'rmsprop'}. Best is trial 72 with value: 0.6720752298317277.\n",
      "C:\\Users\\azad.aliyev\\AppData\\Local\\Temp\\ipykernel_17300\\339139007.py:6: FutureWarning: suggest_loguniform has been deprecated in v3.0.0. This feature will be removed in v6.0.0. See https://github.com/optuna/optuna/releases/tag/v3.0.0. Use suggest_float(..., log=True) instead.\n",
      "  learning_rate = trial.suggest_loguniform(\"learning_rate\", 1e-4, 1e-2)\n"
     ]
    },
    {
     "name": "stdout",
     "output_type": "stream",
     "text": [
      "\u001b[1m7/7\u001b[0m \u001b[32m━━━━━━━━━━━━━━━━━━━━\u001b[0m\u001b[37m\u001b[0m \u001b[1m0s\u001b[0m 44ms/step\n"
     ]
    },
    {
     "name": "stderr",
     "output_type": "stream",
     "text": [
      "[I 2024-12-01 17:12:53,923] Trial 132 finished with value: 0.316648650027583 and parameters: {'hidden_units': 64, 'dropout_rate': 0.4624400943674109, 'learning_rate': 0.000470029219645803, 'batch_size': 128, 'activation': 'relu', 'optimizer': 'rmsprop'}. Best is trial 72 with value: 0.6720752298317277.\n",
      "C:\\Users\\azad.aliyev\\AppData\\Local\\Temp\\ipykernel_17300\\339139007.py:6: FutureWarning: suggest_loguniform has been deprecated in v3.0.0. This feature will be removed in v6.0.0. See https://github.com/optuna/optuna/releases/tag/v3.0.0. Use suggest_float(..., log=True) instead.\n",
      "  learning_rate = trial.suggest_loguniform(\"learning_rate\", 1e-4, 1e-2)\n"
     ]
    },
    {
     "name": "stdout",
     "output_type": "stream",
     "text": [
      "\u001b[1m7/7\u001b[0m \u001b[32m━━━━━━━━━━━━━━━━━━━━\u001b[0m\u001b[37m\u001b[0m \u001b[1m0s\u001b[0m 41ms/step\n"
     ]
    },
    {
     "name": "stderr",
     "output_type": "stream",
     "text": [
      "[I 2024-12-01 17:12:57,744] Trial 133 finished with value: 0.420255868162845 and parameters: {'hidden_units': 80, 'dropout_rate': 0.26126484828207047, 'learning_rate': 0.0006615672308431599, 'batch_size': 128, 'activation': 'relu', 'optimizer': 'rmsprop'}. Best is trial 72 with value: 0.6720752298317277.\n",
      "C:\\Users\\azad.aliyev\\AppData\\Local\\Temp\\ipykernel_17300\\339139007.py:6: FutureWarning: suggest_loguniform has been deprecated in v3.0.0. This feature will be removed in v6.0.0. See https://github.com/optuna/optuna/releases/tag/v3.0.0. Use suggest_float(..., log=True) instead.\n",
      "  learning_rate = trial.suggest_loguniform(\"learning_rate\", 1e-4, 1e-2)\n"
     ]
    },
    {
     "name": "stdout",
     "output_type": "stream",
     "text": [
      "\u001b[1m7/7\u001b[0m \u001b[32m━━━━━━━━━━━━━━━━━━━━\u001b[0m\u001b[37m\u001b[0m \u001b[1m0s\u001b[0m 45ms/step\n"
     ]
    },
    {
     "name": "stderr",
     "output_type": "stream",
     "text": [
      "[I 2024-12-01 17:12:59,977] Trial 134 finished with value: 0.3678352290664192 and parameters: {'hidden_units': 80, 'dropout_rate': 0.436180627853863, 'learning_rate': 0.0006622405444694211, 'batch_size': 128, 'activation': 'relu', 'optimizer': 'rmsprop'}. Best is trial 72 with value: 0.6720752298317277.\n",
      "C:\\Users\\azad.aliyev\\AppData\\Local\\Temp\\ipykernel_17300\\339139007.py:6: FutureWarning: suggest_loguniform has been deprecated in v3.0.0. This feature will be removed in v6.0.0. See https://github.com/optuna/optuna/releases/tag/v3.0.0. Use suggest_float(..., log=True) instead.\n",
      "  learning_rate = trial.suggest_loguniform(\"learning_rate\", 1e-4, 1e-2)\n"
     ]
    },
    {
     "name": "stdout",
     "output_type": "stream",
     "text": [
      "\u001b[1m7/7\u001b[0m \u001b[32m━━━━━━━━━━━━━━━━━━━━\u001b[0m\u001b[37m\u001b[0m \u001b[1m1s\u001b[0m 55ms/step\n"
     ]
    },
    {
     "name": "stderr",
     "output_type": "stream",
     "text": [
      "[I 2024-12-01 17:13:02,614] Trial 138 finished with value: 0.36080108673815925 and parameters: {'hidden_units': 80, 'dropout_rate': 0.4512854137482914, 'learning_rate': 0.0003129141161837533, 'batch_size': 128, 'activation': 'relu', 'optimizer': 'rmsprop'}. Best is trial 72 with value: 0.6720752298317277.\n",
      "C:\\Users\\azad.aliyev\\AppData\\Local\\Temp\\ipykernel_17300\\339139007.py:6: FutureWarning: suggest_loguniform has been deprecated in v3.0.0. This feature will be removed in v6.0.0. See https://github.com/optuna/optuna/releases/tag/v3.0.0. Use suggest_float(..., log=True) instead.\n",
      "  learning_rate = trial.suggest_loguniform(\"learning_rate\", 1e-4, 1e-2)\n"
     ]
    },
    {
     "name": "stdout",
     "output_type": "stream",
     "text": [
      "\u001b[1m7/7\u001b[0m \u001b[32m━━━━━━━━━━━━━━━━━━━━\u001b[0m\u001b[37m\u001b[0m \u001b[1m1s\u001b[0m 53ms/step\n",
      "\u001b[1m7/7\u001b[0m \u001b[32m━━━━━━━━━━━━━━━━━━━━\u001b[0m\u001b[37m\u001b[0m \u001b[1m0s\u001b[0m 42ms/step\n"
     ]
    },
    {
     "name": "stderr",
     "output_type": "stream",
     "text": [
      "[I 2024-12-01 17:13:06,589] Trial 136 finished with value: 0.5623799820790245 and parameters: {'hidden_units': 80, 'dropout_rate': 0.44776087591045066, 'learning_rate': 0.00043281774268461227, 'batch_size': 64, 'activation': 'relu', 'optimizer': 'rmsprop'}. Best is trial 72 with value: 0.6720752298317277.\n",
      "C:\\Users\\azad.aliyev\\AppData\\Local\\Temp\\ipykernel_17300\\339139007.py:6: FutureWarning: suggest_loguniform has been deprecated in v3.0.0. This feature will be removed in v6.0.0. See https://github.com/optuna/optuna/releases/tag/v3.0.0. Use suggest_float(..., log=True) instead.\n",
      "  learning_rate = trial.suggest_loguniform(\"learning_rate\", 1e-4, 1e-2)\n"
     ]
    },
    {
     "name": "stdout",
     "output_type": "stream",
     "text": [
      "\u001b[1m5/7\u001b[0m \u001b[32m━━━━━━━━━━━━━━\u001b[0m\u001b[37m━━━━━━\u001b[0m \u001b[1m0s\u001b[0m 13ms/step "
     ]
    },
    {
     "name": "stderr",
     "output_type": "stream",
     "text": [
      "[I 2024-12-01 17:13:06,948] Trial 137 finished with value: 0.5701545604418381 and parameters: {'hidden_units': 80, 'dropout_rate': 0.3384905674322198, 'learning_rate': 0.00044429916653203203, 'batch_size': 64, 'activation': 'relu', 'optimizer': 'rmsprop'}. Best is trial 72 with value: 0.6720752298317277.\n"
     ]
    },
    {
     "name": "stdout",
     "output_type": "stream",
     "text": [
      "\u001b[1m7/7\u001b[0m \u001b[32m━━━━━━━━━━━━━━━━━━━━\u001b[0m\u001b[37m\u001b[0m \u001b[1m0s\u001b[0m 43ms/step\n"
     ]
    },
    {
     "name": "stderr",
     "output_type": "stream",
     "text": [
      "C:\\Users\\azad.aliyev\\AppData\\Local\\Temp\\ipykernel_17300\\339139007.py:6: FutureWarning: suggest_loguniform has been deprecated in v3.0.0. This feature will be removed in v6.0.0. See https://github.com/optuna/optuna/releases/tag/v3.0.0. Use suggest_float(..., log=True) instead.\n",
      "  learning_rate = trial.suggest_loguniform(\"learning_rate\", 1e-4, 1e-2)\n",
      "[I 2024-12-01 17:13:07,430] Trial 139 finished with value: 0.5665757862748286 and parameters: {'hidden_units': 80, 'dropout_rate': 0.43936394834724185, 'learning_rate': 0.0004516778613189636, 'batch_size': 64, 'activation': 'relu', 'optimizer': 'rmsprop'}. Best is trial 72 with value: 0.6720752298317277.\n"
     ]
    },
    {
     "name": "stdout",
     "output_type": "stream",
     "text": [
      "\u001b[1m4/7\u001b[0m \u001b[32m━━━━━━━━━━━\u001b[0m\u001b[37m━━━━━━━━━\u001b[0m \u001b[1m0s\u001b[0m 43ms/step"
     ]
    },
    {
     "name": "stderr",
     "output_type": "stream",
     "text": [
      "C:\\Users\\azad.aliyev\\AppData\\Local\\Temp\\ipykernel_17300\\339139007.py:6: FutureWarning: suggest_loguniform has been deprecated in v3.0.0. This feature will be removed in v6.0.0. See https://github.com/optuna/optuna/releases/tag/v3.0.0. Use suggest_float(..., log=True) instead.\n",
      "  learning_rate = trial.suggest_loguniform(\"learning_rate\", 1e-4, 1e-2)\n"
     ]
    },
    {
     "name": "stdout",
     "output_type": "stream",
     "text": [
      "\u001b[1m7/7\u001b[0m \u001b[32m━━━━━━━━━━━━━━━━━━━━\u001b[0m\u001b[37m\u001b[0m \u001b[1m1s\u001b[0m 62ms/step\n"
     ]
    },
    {
     "name": "stderr",
     "output_type": "stream",
     "text": [
      "[I 2024-12-01 17:13:08,238] Trial 135 finished with value: 0.5708949964763919 and parameters: {'hidden_units': 80, 'dropout_rate': 0.3380747360937164, 'learning_rate': 0.0004277031494400767, 'batch_size': 64, 'activation': 'relu', 'optimizer': 'rmsprop'}. Best is trial 72 with value: 0.6720752298317277.\n"
     ]
    },
    {
     "name": "stdout",
     "output_type": "stream",
     "text": [
      "\u001b[1m4/7\u001b[0m \u001b[32m━━━━━━━━━━━\u001b[0m\u001b[37m━━━━━━━━━\u001b[0m \u001b[1m0s\u001b[0m 23ms/step"
     ]
    },
    {
     "name": "stderr",
     "output_type": "stream",
     "text": [
      "C:\\Users\\azad.aliyev\\AppData\\Local\\Temp\\ipykernel_17300\\339139007.py:6: FutureWarning: suggest_loguniform has been deprecated in v3.0.0. This feature will be removed in v6.0.0. See https://github.com/optuna/optuna/releases/tag/v3.0.0. Use suggest_float(..., log=True) instead.\n",
      "  learning_rate = trial.suggest_loguniform(\"learning_rate\", 1e-4, 1e-2)\n"
     ]
    },
    {
     "name": "stdout",
     "output_type": "stream",
     "text": [
      "\u001b[1m7/7\u001b[0m \u001b[32m━━━━━━━━━━━━━━━━━━━━\u001b[0m\u001b[37m\u001b[0m \u001b[1m0s\u001b[0m 49ms/step\n"
     ]
    },
    {
     "name": "stderr",
     "output_type": "stream",
     "text": [
      "[I 2024-12-01 17:13:09,156] Trial 140 finished with value: 0.2929135615866122 and parameters: {'hidden_units': 16, 'dropout_rate': 0.4324780189032953, 'learning_rate': 0.00044608917966068015, 'batch_size': 64, 'activation': 'relu', 'optimizer': 'rmsprop'}. Best is trial 72 with value: 0.6720752298317277.\n",
      "C:\\Users\\azad.aliyev\\AppData\\Local\\Temp\\ipykernel_17300\\339139007.py:6: FutureWarning: suggest_loguniform has been deprecated in v3.0.0. This feature will be removed in v6.0.0. See https://github.com/optuna/optuna/releases/tag/v3.0.0. Use suggest_float(..., log=True) instead.\n",
      "  learning_rate = trial.suggest_loguniform(\"learning_rate\", 1e-4, 1e-2)\n"
     ]
    },
    {
     "name": "stdout",
     "output_type": "stream",
     "text": [
      "\u001b[1m7/7\u001b[0m \u001b[32m━━━━━━━━━━━━━━━━━━━━\u001b[0m\u001b[37m\u001b[0m \u001b[1m1s\u001b[0m 80ms/step\n"
     ]
    },
    {
     "name": "stderr",
     "output_type": "stream",
     "text": [
      "[I 2024-12-01 17:13:12,276] Trial 141 finished with value: 0.2927490202456003 and parameters: {'hidden_units': 16, 'dropout_rate': 0.43749435892925304, 'learning_rate': 0.0004730852059633054, 'batch_size': 64, 'activation': 'relu', 'optimizer': 'rmsprop'}. Best is trial 72 with value: 0.6720752298317277.\n",
      "C:\\Users\\azad.aliyev\\AppData\\Local\\Temp\\ipykernel_17300\\339139007.py:6: FutureWarning: suggest_loguniform has been deprecated in v3.0.0. This feature will be removed in v6.0.0. See https://github.com/optuna/optuna/releases/tag/v3.0.0. Use suggest_float(..., log=True) instead.\n",
      "  learning_rate = trial.suggest_loguniform(\"learning_rate\", 1e-4, 1e-2)\n"
     ]
    },
    {
     "name": "stdout",
     "output_type": "stream",
     "text": [
      "\u001b[1m7/7\u001b[0m \u001b[32m━━━━━━━━━━━━━━━━━━━━\u001b[0m\u001b[37m\u001b[0m \u001b[1m0s\u001b[0m 41ms/step\n"
     ]
    },
    {
     "name": "stderr",
     "output_type": "stream",
     "text": [
      "[I 2024-12-01 17:13:17,910] Trial 149 finished with value: 0.5678921170029241 and parameters: {'hidden_units': 112, 'dropout_rate': 0.21990440608296166, 'learning_rate': 0.005610493453250855, 'batch_size': 64, 'activation': 'tanh', 'optimizer': 'adam'}. Best is trial 72 with value: 0.6720752298317277.\n",
      "C:\\Users\\azad.aliyev\\AppData\\Local\\Temp\\ipykernel_17300\\339139007.py:6: FutureWarning: suggest_loguniform has been deprecated in v3.0.0. This feature will be removed in v6.0.0. See https://github.com/optuna/optuna/releases/tag/v3.0.0. Use suggest_float(..., log=True) instead.\n",
      "  learning_rate = trial.suggest_loguniform(\"learning_rate\", 1e-4, 1e-2)\n"
     ]
    },
    {
     "name": "stdout",
     "output_type": "stream",
     "text": [
      "\u001b[1m7/7\u001b[0m \u001b[32m━━━━━━━━━━━━━━━━━━━━\u001b[0m\u001b[37m\u001b[0m \u001b[1m0s\u001b[0m 37ms/step\n"
     ]
    },
    {
     "name": "stderr",
     "output_type": "stream",
     "text": [
      "[I 2024-12-01 17:13:21,241] Trial 145 finished with value: 0.5198729587785675 and parameters: {'hidden_units': 112, 'dropout_rate': 0.33758758484349394, 'learning_rate': 0.007840743449590081, 'batch_size': 64, 'activation': 'relu', 'optimizer': 'adam'}. Best is trial 72 with value: 0.6720752298317277.\n",
      "C:\\Users\\azad.aliyev\\AppData\\Local\\Temp\\ipykernel_17300\\339139007.py:6: FutureWarning: suggest_loguniform has been deprecated in v3.0.0. This feature will be removed in v6.0.0. See https://github.com/optuna/optuna/releases/tag/v3.0.0. Use suggest_float(..., log=True) instead.\n",
      "  learning_rate = trial.suggest_loguniform(\"learning_rate\", 1e-4, 1e-2)\n"
     ]
    },
    {
     "name": "stdout",
     "output_type": "stream",
     "text": [
      "\u001b[1m7/7\u001b[0m \u001b[32m━━━━━━━━━━━━━━━━━━━━\u001b[0m\u001b[37m\u001b[0m \u001b[1m0s\u001b[0m 45ms/step\n"
     ]
    },
    {
     "name": "stderr",
     "output_type": "stream",
     "text": [
      "[I 2024-12-01 17:13:22,812] Trial 153 finished with value: 0.5195850114317966 and parameters: {'hidden_units': 96, 'dropout_rate': 0.21999579589033197, 'learning_rate': 0.005315690927493804, 'batch_size': 64, 'activation': 'tanh', 'optimizer': 'adam'}. Best is trial 72 with value: 0.6720752298317277.\n",
      "C:\\Users\\azad.aliyev\\AppData\\Local\\Temp\\ipykernel_17300\\339139007.py:6: FutureWarning: suggest_loguniform has been deprecated in v3.0.0. This feature will be removed in v6.0.0. See https://github.com/optuna/optuna/releases/tag/v3.0.0. Use suggest_float(..., log=True) instead.\n",
      "  learning_rate = trial.suggest_loguniform(\"learning_rate\", 1e-4, 1e-2)\n"
     ]
    },
    {
     "name": "stdout",
     "output_type": "stream",
     "text": [
      "\u001b[1m7/7\u001b[0m \u001b[32m━━━━━━━━━━━━━━━━━━━━\u001b[0m\u001b[37m\u001b[0m \u001b[1m1s\u001b[0m 56ms/step\n"
     ]
    },
    {
     "name": "stderr",
     "output_type": "stream",
     "text": [
      "[I 2024-12-01 17:13:24,090] Trial 142 finished with value: 0.5675630343209003 and parameters: {'hidden_units': 112, 'dropout_rate': 0.33827929865454764, 'learning_rate': 0.0002906197461854268, 'batch_size': 64, 'activation': 'relu', 'optimizer': 'rmsprop'}. Best is trial 72 with value: 0.6720752298317277.\n",
      "C:\\Users\\azad.aliyev\\AppData\\Local\\Temp\\ipykernel_17300\\339139007.py:6: FutureWarning: suggest_loguniform has been deprecated in v3.0.0. This feature will be removed in v6.0.0. See https://github.com/optuna/optuna/releases/tag/v3.0.0. Use suggest_float(..., log=True) instead.\n",
      "  learning_rate = trial.suggest_loguniform(\"learning_rate\", 1e-4, 1e-2)\n"
     ]
    },
    {
     "name": "stdout",
     "output_type": "stream",
     "text": [
      "\u001b[1m7/7\u001b[0m \u001b[32m━━━━━━━━━━━━━━━━━━━━\u001b[0m\u001b[37m\u001b[0m \u001b[1m1s\u001b[0m 59ms/step\n",
      "\u001b[1m6/7\u001b[0m \u001b[32m━━━━━━━━━━━━━━━━━\u001b[0m\u001b[37m━━━\u001b[0m \u001b[1m0s\u001b[0m 50ms/step"
     ]
    },
    {
     "name": "stderr",
     "output_type": "stream",
     "text": [
      "[I 2024-12-01 17:13:28,852] Trial 143 finished with value: 0.5644367488416736 and parameters: {'hidden_units': 112, 'dropout_rate': 0.3378744827057628, 'learning_rate': 0.00029315672400597674, 'batch_size': 64, 'activation': 'relu', 'optimizer': 'adam'}. Best is trial 72 with value: 0.6720752298317277.\n"
     ]
    },
    {
     "name": "stdout",
     "output_type": "stream",
     "text": [
      "\u001b[1m7/7\u001b[0m \u001b[32m━━━━━━━━━━━━━━━━━━━━\u001b[0m\u001b[37m\u001b[0m \u001b[1m0s\u001b[0m 38ms/step\n",
      "\u001b[1m7/7\u001b[0m \u001b[32m━━━━━━━━━━━━━━━━━━━━\u001b[0m\u001b[37m\u001b[0m \u001b[1m1s\u001b[0m 72ms/step\n"
     ]
    },
    {
     "name": "stderr",
     "output_type": "stream",
     "text": [
      "C:\\Users\\azad.aliyev\\AppData\\Local\\Temp\\ipykernel_17300\\339139007.py:6: FutureWarning: suggest_loguniform has been deprecated in v3.0.0. This feature will be removed in v6.0.0. See https://github.com/optuna/optuna/releases/tag/v3.0.0. Use suggest_float(..., log=True) instead.\n",
      "  learning_rate = trial.suggest_loguniform(\"learning_rate\", 1e-4, 1e-2)\n",
      "[I 2024-12-01 17:13:29,257] Trial 150 finished with value: 0.37305941664354797 and parameters: {'hidden_units': 112, 'dropout_rate': 0.3361335029140122, 'learning_rate': 0.00559438125578096, 'batch_size': 64, 'activation': 'tanh', 'optimizer': 'adam'}. Best is trial 72 with value: 0.6720752298317277.\n"
     ]
    },
    {
     "name": "stdout",
     "output_type": "stream",
     "text": [
      "\u001b[1m7/7\u001b[0m \u001b[32m━━━━━━━━━━━━━━━━━━━━\u001b[0m\u001b[37m\u001b[0m \u001b[1m0s\u001b[0m 30ms/step"
     ]
    },
    {
     "name": "stderr",
     "output_type": "stream",
     "text": [
      "[I 2024-12-01 17:13:29,476] Trial 152 finished with value: 0.572622680557017 and parameters: {'hidden_units': 112, 'dropout_rate': 0.4030988057102379, 'learning_rate': 0.008002632183014998, 'batch_size': 64, 'activation': 'relu', 'optimizer': 'adam'}. Best is trial 72 with value: 0.6720752298317277.\n",
      "C:\\Users\\azad.aliyev\\AppData\\Local\\Temp\\ipykernel_17300\\339139007.py:6: FutureWarning: suggest_loguniform has been deprecated in v3.0.0. This feature will be removed in v6.0.0. See https://github.com/optuna/optuna/releases/tag/v3.0.0. Use suggest_float(..., log=True) instead.\n",
      "  learning_rate = trial.suggest_loguniform(\"learning_rate\", 1e-4, 1e-2)\n"
     ]
    },
    {
     "name": "stdout",
     "output_type": "stream",
     "text": [
      "\u001b[1m7/7\u001b[0m \u001b[32m━━━━━━━━━━━━━━━━━━━━\u001b[0m\u001b[37m\u001b[0m \u001b[1m0s\u001b[0m 41ms/step\n",
      "\u001b[1m1/7\u001b[0m \u001b[32m━━\u001b[0m\u001b[37m━━━━━━━━━━━━━━━━━━\u001b[0m \u001b[1m1s\u001b[0m 221ms/step"
     ]
    },
    {
     "name": "stderr",
     "output_type": "stream",
     "text": [
      "C:\\Users\\azad.aliyev\\AppData\\Local\\Temp\\ipykernel_17300\\339139007.py:6: FutureWarning: suggest_loguniform has been deprecated in v3.0.0. This feature will be removed in v6.0.0. See https://github.com/optuna/optuna/releases/tag/v3.0.0. Use suggest_float(..., log=True) instead.\n",
      "  learning_rate = trial.suggest_loguniform(\"learning_rate\", 1e-4, 1e-2)\n"
     ]
    },
    {
     "name": "stdout",
     "output_type": "stream",
     "text": [
      "\u001b[1m7/7\u001b[0m \u001b[32m━━━━━━━━━━━━━━━━━━━━\u001b[0m\u001b[37m\u001b[0m \u001b[1m0s\u001b[0m 33ms/step"
     ]
    },
    {
     "name": "stderr",
     "output_type": "stream",
     "text": [
      "[I 2024-12-01 17:13:30,124] Trial 151 finished with value: 0.30459599679845917 and parameters: {'hidden_units': 16, 'dropout_rate': 0.22232903255376896, 'learning_rate': 0.00542702567769222, 'batch_size': 64, 'activation': 'tanh', 'optimizer': 'rmsprop'}. Best is trial 72 with value: 0.6720752298317277.\n"
     ]
    },
    {
     "name": "stdout",
     "output_type": "stream",
     "text": [
      "\u001b[1m7/7\u001b[0m \u001b[32m━━━━━━━━━━━━━━━━━━━━\u001b[0m\u001b[37m\u001b[0m \u001b[1m0s\u001b[0m 43ms/step\n"
     ]
    },
    {
     "name": "stderr",
     "output_type": "stream",
     "text": [
      "C:\\Users\\azad.aliyev\\AppData\\Local\\Temp\\ipykernel_17300\\339139007.py:6: FutureWarning: suggest_loguniform has been deprecated in v3.0.0. This feature will be removed in v6.0.0. See https://github.com/optuna/optuna/releases/tag/v3.0.0. Use suggest_float(..., log=True) instead.\n",
      "  learning_rate = trial.suggest_loguniform(\"learning_rate\", 1e-4, 1e-2)\n",
      "[I 2024-12-01 17:13:30,565] Trial 144 finished with value: 0.3554946284905245 and parameters: {'hidden_units': 112, 'dropout_rate': 0.3363144435054295, 'learning_rate': 0.0001362900115292318, 'batch_size': 64, 'activation': 'relu', 'optimizer': 'adam'}. Best is trial 72 with value: 0.6720752298317277.\n",
      "C:\\Users\\azad.aliyev\\AppData\\Local\\Temp\\ipykernel_17300\\339139007.py:6: FutureWarning: suggest_loguniform has been deprecated in v3.0.0. This feature will be removed in v6.0.0. See https://github.com/optuna/optuna/releases/tag/v3.0.0. Use suggest_float(..., log=True) instead.\n",
      "  learning_rate = trial.suggest_loguniform(\"learning_rate\", 1e-4, 1e-2)\n"
     ]
    },
    {
     "name": "stdout",
     "output_type": "stream",
     "text": [
      "\u001b[1m7/7\u001b[0m \u001b[32m━━━━━━━━━━━━━━━━━━━━\u001b[0m\u001b[37m\u001b[0m \u001b[1m1s\u001b[0m 79ms/step\n"
     ]
    },
    {
     "name": "stderr",
     "output_type": "stream",
     "text": [
      "[I 2024-12-01 17:13:34,417] Trial 148 finished with value: 0.5673984929798883 and parameters: {'hidden_units': 112, 'dropout_rate': 0.33790330028004095, 'learning_rate': 0.00543275519696638, 'batch_size': 64, 'activation': 'tanh', 'optimizer': 'adam'}. Best is trial 72 with value: 0.6720752298317277.\n",
      "C:\\Users\\azad.aliyev\\AppData\\Local\\Temp\\ipykernel_17300\\339139007.py:6: FutureWarning: suggest_loguniform has been deprecated in v3.0.0. This feature will be removed in v6.0.0. See https://github.com/optuna/optuna/releases/tag/v3.0.0. Use suggest_float(..., log=True) instead.\n",
      "  learning_rate = trial.suggest_loguniform(\"learning_rate\", 1e-4, 1e-2)\n"
     ]
    },
    {
     "name": "stdout",
     "output_type": "stream",
     "text": [
      "\u001b[1m7/7\u001b[0m \u001b[32m━━━━━━━━━━━━━━━━━━━━\u001b[0m\u001b[37m\u001b[0m \u001b[1m0s\u001b[0m 56ms/step\n"
     ]
    },
    {
     "name": "stderr",
     "output_type": "stream",
     "text": [
      "[I 2024-12-01 17:13:37,160] Trial 146 finished with value: 0.4184459134117138 and parameters: {'hidden_units': 112, 'dropout_rate': 0.21969864092140826, 'learning_rate': 0.00015374154060445822, 'batch_size': 64, 'activation': 'relu', 'optimizer': 'adam'}. Best is trial 72 with value: 0.6720752298317277.\n",
      "C:\\Users\\azad.aliyev\\AppData\\Local\\Temp\\ipykernel_17300\\339139007.py:6: FutureWarning: suggest_loguniform has been deprecated in v3.0.0. This feature will be removed in v6.0.0. See https://github.com/optuna/optuna/releases/tag/v3.0.0. Use suggest_float(..., log=True) instead.\n",
      "  learning_rate = trial.suggest_loguniform(\"learning_rate\", 1e-4, 1e-2)\n"
     ]
    },
    {
     "name": "stdout",
     "output_type": "stream",
     "text": [
      "\u001b[1m7/7\u001b[0m \u001b[32m━━━━━━━━━━━━━━━━━━━━\u001b[0m\u001b[37m\u001b[0m \u001b[1m1s\u001b[0m 67ms/step\n",
      "\u001b[1m6/7\u001b[0m \u001b[32m━━━━━━━━━━━━━━━━━\u001b[0m\u001b[37m━━━\u001b[0m \u001b[1m0s\u001b[0m 12ms/step "
     ]
    },
    {
     "name": "stderr",
     "output_type": "stream",
     "text": [
      "[I 2024-12-01 17:13:39,361] Trial 147 finished with value: 0.29270788491034727 and parameters: {'hidden_units': 112, 'dropout_rate': 0.22156750600187955, 'learning_rate': 0.00013991563427594576, 'batch_size': 64, 'activation': 'relu', 'optimizer': 'adam'}. Best is trial 72 with value: 0.6720752298317277.\n"
     ]
    },
    {
     "name": "stdout",
     "output_type": "stream",
     "text": [
      "\u001b[1m7/7\u001b[0m \u001b[32m━━━━━━━━━━━━━━━━━━━━\u001b[0m\u001b[37m\u001b[0m \u001b[1m1s\u001b[0m 54ms/step\n"
     ]
    },
    {
     "name": "stderr",
     "output_type": "stream",
     "text": [
      "C:\\Users\\azad.aliyev\\AppData\\Local\\Temp\\ipykernel_17300\\339139007.py:6: FutureWarning: suggest_loguniform has been deprecated in v3.0.0. This feature will be removed in v6.0.0. See https://github.com/optuna/optuna/releases/tag/v3.0.0. Use suggest_float(..., log=True) instead.\n",
      "  learning_rate = trial.suggest_loguniform(\"learning_rate\", 1e-4, 1e-2)\n",
      "[I 2024-12-01 17:13:39,893] Trial 160 finished with value: 0.5683034703554539 and parameters: {'hidden_units': 96, 'dropout_rate': 0.25052145877711973, 'learning_rate': 0.009327774668185419, 'batch_size': 192, 'activation': 'relu', 'optimizer': 'adam'}. Best is trial 72 with value: 0.6720752298317277.\n",
      "C:\\Users\\azad.aliyev\\AppData\\Local\\Temp\\ipykernel_17300\\339139007.py:6: FutureWarning: suggest_loguniform has been deprecated in v3.0.0. This feature will be removed in v6.0.0. See https://github.com/optuna/optuna/releases/tag/v3.0.0. Use suggest_float(..., log=True) instead.\n",
      "  learning_rate = trial.suggest_loguniform(\"learning_rate\", 1e-4, 1e-2)\n"
     ]
    },
    {
     "name": "stdout",
     "output_type": "stream",
     "text": [
      "\u001b[1m7/7\u001b[0m \u001b[32m━━━━━━━━━━━━━━━━━━━━\u001b[0m\u001b[37m\u001b[0m \u001b[1m1s\u001b[0m 58ms/step\n"
     ]
    },
    {
     "name": "stderr",
     "output_type": "stream",
     "text": [
      "[I 2024-12-01 17:13:42,354] Trial 157 finished with value: 0.2204869275731109 and parameters: {'hidden_units': 96, 'dropout_rate': 0.39795481400710736, 'learning_rate': 0.000968120299664077, 'batch_size': 192, 'activation': 'relu', 'optimizer': 'adam'}. Best is trial 72 with value: 0.6720752298317277.\n",
      "C:\\Users\\azad.aliyev\\AppData\\Local\\Temp\\ipykernel_17300\\339139007.py:6: FutureWarning: suggest_loguniform has been deprecated in v3.0.0. This feature will be removed in v6.0.0. See https://github.com/optuna/optuna/releases/tag/v3.0.0. Use suggest_float(..., log=True) instead.\n",
      "  learning_rate = trial.suggest_loguniform(\"learning_rate\", 1e-4, 1e-2)\n"
     ]
    },
    {
     "name": "stdout",
     "output_type": "stream",
     "text": [
      "\u001b[1m7/7\u001b[0m \u001b[32m━━━━━━━━━━━━━━━━━━━━\u001b[0m\u001b[37m\u001b[0m \u001b[1m1s\u001b[0m 45ms/step\n"
     ]
    },
    {
     "name": "stderr",
     "output_type": "stream",
     "text": [
      "[I 2024-12-01 17:13:44,722] Trial 163 finished with value: 0.31891109346649704 and parameters: {'hidden_units': 96, 'dropout_rate': 0.4797612851327342, 'learning_rate': 0.009060669043399836, 'batch_size': 192, 'activation': 'relu', 'optimizer': 'adam'}. Best is trial 72 with value: 0.6720752298317277.\n",
      "C:\\Users\\azad.aliyev\\AppData\\Local\\Temp\\ipykernel_17300\\339139007.py:6: FutureWarning: suggest_loguniform has been deprecated in v3.0.0. This feature will be removed in v6.0.0. See https://github.com/optuna/optuna/releases/tag/v3.0.0. Use suggest_float(..., log=True) instead.\n",
      "  learning_rate = trial.suggest_loguniform(\"learning_rate\", 1e-4, 1e-2)\n"
     ]
    },
    {
     "name": "stdout",
     "output_type": "stream",
     "text": [
      "\u001b[1m7/7\u001b[0m \u001b[32m━━━━━━━━━━━━━━━━━━━━\u001b[0m\u001b[37m\u001b[0m \u001b[1m1s\u001b[0m 59ms/step\n"
     ]
    },
    {
     "name": "stderr",
     "output_type": "stream",
     "text": [
      "[I 2024-12-01 17:13:47,248] Trial 164 finished with value: 0.518926846067749 and parameters: {'hidden_units': 96, 'dropout_rate': 0.32531818719529615, 'learning_rate': 0.009064566373790446, 'batch_size': 192, 'activation': 'relu', 'optimizer': 'adam'}. Best is trial 72 with value: 0.6720752298317277.\n",
      "C:\\Users\\azad.aliyev\\AppData\\Local\\Temp\\ipykernel_17300\\339139007.py:6: FutureWarning: suggest_loguniform has been deprecated in v3.0.0. This feature will be removed in v6.0.0. See https://github.com/optuna/optuna/releases/tag/v3.0.0. Use suggest_float(..., log=True) instead.\n",
      "  learning_rate = trial.suggest_loguniform(\"learning_rate\", 1e-4, 1e-2)\n"
     ]
    },
    {
     "name": "stdout",
     "output_type": "stream",
     "text": [
      "\u001b[1m7/7\u001b[0m \u001b[32m━━━━━━━━━━━━━━━━━━━━\u001b[0m\u001b[37m\u001b[0m \u001b[1m1s\u001b[0m 58ms/step\n",
      "\u001b[1m7/7\u001b[0m \u001b[32m━━━━━━━━━━━━━━━━━━━━\u001b[0m\u001b[37m\u001b[0m \u001b[1m1s\u001b[0m 61ms/step\n"
     ]
    },
    {
     "name": "stderr",
     "output_type": "stream",
     "text": [
      "[I 2024-12-01 17:13:49,242] Trial 162 finished with value: 0.5677275756619122 and parameters: {'hidden_units': 96, 'dropout_rate': 0.32783058485833977, 'learning_rate': 0.008892874326264972, 'batch_size': 64, 'activation': 'relu', 'optimizer': 'adam'}. Best is trial 72 with value: 0.6720752298317277.\n"
     ]
    },
    {
     "name": "stdout",
     "output_type": "stream",
     "text": [
      "\u001b[1m1/7\u001b[0m \u001b[32m━━\u001b[0m\u001b[37m━━━━━━━━━━━━━━━━━━\u001b[0m \u001b[1m1s\u001b[0m 217ms/step"
     ]
    },
    {
     "name": "stderr",
     "output_type": "stream",
     "text": [
      "C:\\Users\\azad.aliyev\\AppData\\Local\\Temp\\ipykernel_17300\\339139007.py:6: FutureWarning: suggest_loguniform has been deprecated in v3.0.0. This feature will be removed in v6.0.0. See https://github.com/optuna/optuna/releases/tag/v3.0.0. Use suggest_float(..., log=True) instead.\n",
      "  learning_rate = trial.suggest_loguniform(\"learning_rate\", 1e-4, 1e-2)\n"
     ]
    },
    {
     "name": "stdout",
     "output_type": "stream",
     "text": [
      "\u001b[1m5/7\u001b[0m \u001b[32m━━━━━━━━━━━━━━\u001b[0m\u001b[37m━━━━━━\u001b[0m \u001b[1m0s\u001b[0m 13ms/step "
     ]
    },
    {
     "name": "stderr",
     "output_type": "stream",
     "text": [
      "[I 2024-12-01 17:13:49,514] Trial 156 finished with value: 0.2526689817250693 and parameters: {'hidden_units': 96, 'dropout_rate': 0.31333504393283984, 'learning_rate': 0.009158042147309727, 'batch_size': 64, 'activation': 'relu', 'optimizer': 'adam'}. Best is trial 72 with value: 0.6720752298317277.\n"
     ]
    },
    {
     "name": "stdout",
     "output_type": "stream",
     "text": [
      "\u001b[1m7/7\u001b[0m \u001b[32m━━━━━━━━━━━━━━━━━━━━\u001b[0m\u001b[37m\u001b[0m \u001b[1m1s\u001b[0m 70ms/step\n"
     ]
    },
    {
     "name": "stderr",
     "output_type": "stream",
     "text": [
      "C:\\Users\\azad.aliyev\\AppData\\Local\\Temp\\ipykernel_17300\\339139007.py:6: FutureWarning: suggest_loguniform has been deprecated in v3.0.0. This feature will be removed in v6.0.0. See https://github.com/optuna/optuna/releases/tag/v3.0.0. Use suggest_float(..., log=True) instead.\n",
      "  learning_rate = trial.suggest_loguniform(\"learning_rate\", 1e-4, 1e-2)\n",
      "[I 2024-12-01 17:13:50,359] Trial 165 finished with value: 0.3699331311643213 and parameters: {'hidden_units': 96, 'dropout_rate': 0.31604413073795834, 'learning_rate': 0.008849396885368843, 'batch_size': 192, 'activation': 'relu', 'optimizer': 'adam'}. Best is trial 72 with value: 0.6720752298317277.\n",
      "C:\\Users\\azad.aliyev\\AppData\\Local\\Temp\\ipykernel_17300\\339139007.py:6: FutureWarning: suggest_loguniform has been deprecated in v3.0.0. This feature will be removed in v6.0.0. See https://github.com/optuna/optuna/releases/tag/v3.0.0. Use suggest_float(..., log=True) instead.\n",
      "  learning_rate = trial.suggest_loguniform(\"learning_rate\", 1e-4, 1e-2)\n"
     ]
    },
    {
     "name": "stdout",
     "output_type": "stream",
     "text": [
      "\u001b[1m7/7\u001b[0m \u001b[32m━━━━━━━━━━━━━━━━━━━━\u001b[0m\u001b[37m\u001b[0m \u001b[1m0s\u001b[0m 43ms/step\n"
     ]
    },
    {
     "name": "stderr",
     "output_type": "stream",
     "text": [
      "[I 2024-12-01 17:13:54,383] Trial 154 finished with value: 0.5656296735640101 and parameters: {'hidden_units': 96, 'dropout_rate': 0.31413720193299544, 'learning_rate': 0.0003417416156904178, 'batch_size': 64, 'activation': 'relu', 'optimizer': 'adam'}. Best is trial 72 with value: 0.6720752298317277.\n",
      "C:\\Users\\azad.aliyev\\AppData\\Local\\Temp\\ipykernel_17300\\339139007.py:6: FutureWarning: suggest_loguniform has been deprecated in v3.0.0. This feature will be removed in v6.0.0. See https://github.com/optuna/optuna/releases/tag/v3.0.0. Use suggest_float(..., log=True) instead.\n",
      "  learning_rate = trial.suggest_loguniform(\"learning_rate\", 1e-4, 1e-2)\n"
     ]
    },
    {
     "name": "stdout",
     "output_type": "stream",
     "text": [
      "\u001b[1m7/7\u001b[0m \u001b[32m━━━━━━━━━━━━━━━━━━━━\u001b[0m\u001b[37m\u001b[0m \u001b[1m0s\u001b[0m 54ms/step\n",
      "\u001b[1m7/7\u001b[0m \u001b[32m━━━━━━━━━━━━━━━━━━━━\u001b[0m\u001b[37m\u001b[0m \u001b[1m1s\u001b[0m 44ms/step\n"
     ]
    },
    {
     "name": "stderr",
     "output_type": "stream",
     "text": [
      "[I 2024-12-01 17:13:56,930] Trial 159 finished with value: 0.2414801705362581 and parameters: {'hidden_units': 96, 'dropout_rate': 0.3274880650259108, 'learning_rate': 0.0003492278287158253, 'batch_size': 192, 'activation': 'relu', 'optimizer': 'adam'}. Best is trial 72 with value: 0.6720752298317277.\n",
      "C:\\Users\\azad.aliyev\\AppData\\Local\\Temp\\ipykernel_17300\\339139007.py:6: FutureWarning: suggest_loguniform has been deprecated in v3.0.0. This feature will be removed in v6.0.0. See https://github.com/optuna/optuna/releases/tag/v3.0.0. Use suggest_float(..., log=True) instead.\n",
      "  learning_rate = trial.suggest_loguniform(\"learning_rate\", 1e-4, 1e-2)\n",
      "[I 2024-12-01 17:13:57,151] Trial 158 finished with value: 0.19144538088450536 and parameters: {'hidden_units': 96, 'dropout_rate': 0.25149070457867534, 'learning_rate': 0.0003555457273221226, 'batch_size': 192, 'activation': 'relu', 'optimizer': 'adam'}. Best is trial 72 with value: 0.6720752298317277.\n",
      "C:\\Users\\azad.aliyev\\AppData\\Local\\Temp\\ipykernel_17300\\339139007.py:6: FutureWarning: suggest_loguniform has been deprecated in v3.0.0. This feature will be removed in v6.0.0. See https://github.com/optuna/optuna/releases/tag/v3.0.0. Use suggest_float(..., log=True) instead.\n",
      "  learning_rate = trial.suggest_loguniform(\"learning_rate\", 1e-4, 1e-2)\n"
     ]
    },
    {
     "name": "stdout",
     "output_type": "stream",
     "text": [
      "\u001b[1m7/7\u001b[0m \u001b[32m━━━━━━━━━━━━━━━━━━━━\u001b[0m\u001b[37m\u001b[0m \u001b[1m0s\u001b[0m 54ms/step\n"
     ]
    },
    {
     "name": "stderr",
     "output_type": "stream",
     "text": [
      "[I 2024-12-01 17:14:00,066] Trial 155 finished with value: 0.5660821622517929 and parameters: {'hidden_units': 96, 'dropout_rate': 0.3115876131478025, 'learning_rate': 0.0003477985010983232, 'batch_size': 64, 'activation': 'relu', 'optimizer': 'adam'}. Best is trial 72 with value: 0.6720752298317277.\n",
      "C:\\Users\\azad.aliyev\\AppData\\Local\\Temp\\ipykernel_17300\\339139007.py:6: FutureWarning: suggest_loguniform has been deprecated in v3.0.0. This feature will be removed in v6.0.0. See https://github.com/optuna/optuna/releases/tag/v3.0.0. Use suggest_float(..., log=True) instead.\n",
      "  learning_rate = trial.suggest_loguniform(\"learning_rate\", 1e-4, 1e-2)\n"
     ]
    },
    {
     "name": "stdout",
     "output_type": "stream",
     "text": [
      "\u001b[1m7/7\u001b[0m \u001b[32m━━━━━━━━━━━━━━━━━━━━\u001b[0m\u001b[37m\u001b[0m \u001b[1m0s\u001b[0m 54ms/step\n"
     ]
    },
    {
     "name": "stderr",
     "output_type": "stream",
     "text": [
      "[I 2024-12-01 17:14:01,332] Trial 161 finished with value: 0.23580349427134653 and parameters: {'hidden_units': 96, 'dropout_rate': 0.39392911797504326, 'learning_rate': 0.0001359291835250672, 'batch_size': 192, 'activation': 'relu', 'optimizer': 'adam'}. Best is trial 72 with value: 0.6720752298317277.\n",
      "C:\\Users\\azad.aliyev\\AppData\\Local\\Temp\\ipykernel_17300\\339139007.py:6: FutureWarning: suggest_loguniform has been deprecated in v3.0.0. This feature will be removed in v6.0.0. See https://github.com/optuna/optuna/releases/tag/v3.0.0. Use suggest_float(..., log=True) instead.\n",
      "  learning_rate = trial.suggest_loguniform(\"learning_rate\", 1e-4, 1e-2)\n"
     ]
    },
    {
     "name": "stdout",
     "output_type": "stream",
     "text": [
      "\u001b[1m7/7\u001b[0m \u001b[32m━━━━━━━━━━━━━━━━━━━━\u001b[0m\u001b[37m\u001b[0m \u001b[1m0s\u001b[0m 36ms/step\n"
     ]
    },
    {
     "name": "stderr",
     "output_type": "stream",
     "text": [
      "[I 2024-12-01 17:14:06,748] Trial 168 finished with value: 0.5260432590665148 and parameters: {'hidden_units': 48, 'dropout_rate': 0.31258783803284945, 'learning_rate': 0.007787289005418417, 'batch_size': 64, 'activation': 'relu', 'optimizer': 'adam'}. Best is trial 72 with value: 0.6720752298317277.\n",
      "C:\\Users\\azad.aliyev\\AppData\\Local\\Temp\\ipykernel_17300\\339139007.py:6: FutureWarning: suggest_loguniform has been deprecated in v3.0.0. This feature will be removed in v6.0.0. See https://github.com/optuna/optuna/releases/tag/v3.0.0. Use suggest_float(..., log=True) instead.\n",
      "  learning_rate = trial.suggest_loguniform(\"learning_rate\", 1e-4, 1e-2)\n"
     ]
    },
    {
     "name": "stdout",
     "output_type": "stream",
     "text": [
      "\u001b[1m7/7\u001b[0m \u001b[32m━━━━━━━━━━━━━━━━━━━━\u001b[0m\u001b[37m\u001b[0m \u001b[1m0s\u001b[0m 46ms/step\n"
     ]
    },
    {
     "name": "stderr",
     "output_type": "stream",
     "text": [
      "[I 2024-12-01 17:14:10,094] Trial 167 finished with value: 0.5720467858634753 and parameters: {'hidden_units': 48, 'dropout_rate': 0.3108674970765355, 'learning_rate': 0.006722222163528815, 'batch_size': 64, 'activation': 'relu', 'optimizer': 'adam'}. Best is trial 72 with value: 0.6720752298317277.\n",
      "C:\\Users\\azad.aliyev\\AppData\\Local\\Temp\\ipykernel_17300\\339139007.py:6: FutureWarning: suggest_loguniform has been deprecated in v3.0.0. This feature will be removed in v6.0.0. See https://github.com/optuna/optuna/releases/tag/v3.0.0. Use suggest_float(..., log=True) instead.\n",
      "  learning_rate = trial.suggest_loguniform(\"learning_rate\", 1e-4, 1e-2)\n"
     ]
    },
    {
     "name": "stdout",
     "output_type": "stream",
     "text": [
      "\u001b[1m7/7\u001b[0m \u001b[32m━━━━━━━━━━━━━━━━━━━━\u001b[0m\u001b[37m\u001b[0m \u001b[1m0s\u001b[0m 36ms/step\n"
     ]
    },
    {
     "name": "stderr",
     "output_type": "stream",
     "text": [
      "[I 2024-12-01 17:14:12,961] Trial 169 finished with value: 0.5676041696561532 and parameters: {'hidden_units': 48, 'dropout_rate': 0.31340554296387213, 'learning_rate': 0.006576484962998586, 'batch_size': 64, 'activation': 'relu', 'optimizer': 'rmsprop'}. Best is trial 72 with value: 0.6720752298317277.\n",
      "C:\\Users\\azad.aliyev\\AppData\\Local\\Temp\\ipykernel_17300\\339139007.py:6: FutureWarning: suggest_loguniform has been deprecated in v3.0.0. This feature will be removed in v6.0.0. See https://github.com/optuna/optuna/releases/tag/v3.0.0. Use suggest_float(..., log=True) instead.\n",
      "  learning_rate = trial.suggest_loguniform(\"learning_rate\", 1e-4, 1e-2)\n"
     ]
    },
    {
     "name": "stdout",
     "output_type": "stream",
     "text": [
      "\u001b[1m7/7\u001b[0m \u001b[32m━━━━━━━━━━━━━━━━━━━━\u001b[0m\u001b[37m\u001b[0m \u001b[1m0s\u001b[0m 40ms/step\n",
      "\u001b[1m7/7\u001b[0m \u001b[32m━━━━━━━━━━━━━━━━━━━━\u001b[0m\u001b[37m\u001b[0m \u001b[1m0s\u001b[0m 47ms/step\n"
     ]
    },
    {
     "name": "stderr",
     "output_type": "stream",
     "text": [
      "[I 2024-12-01 17:14:14,163] Trial 172 finished with value: 0.4218190109024583 and parameters: {'hidden_units': 48, 'dropout_rate': 0.318679260506365, 'learning_rate': 0.0065310901288995055, 'batch_size': 64, 'activation': 'relu', 'optimizer': 'adam'}. Best is trial 72 with value: 0.6720752298317277.\n",
      "C:\\Users\\azad.aliyev\\AppData\\Local\\Temp\\ipykernel_17300\\339139007.py:6: FutureWarning: suggest_loguniform has been deprecated in v3.0.0. This feature will be removed in v6.0.0. See https://github.com/optuna/optuna/releases/tag/v3.0.0. Use suggest_float(..., log=True) instead.\n",
      "  learning_rate = trial.suggest_loguniform(\"learning_rate\", 1e-4, 1e-2)\n",
      "[I 2024-12-01 17:14:14,502] Trial 173 finished with value: 0.3208444542233872 and parameters: {'hidden_units': 48, 'dropout_rate': 0.3203974133985153, 'learning_rate': 0.006863443271223433, 'batch_size': 64, 'activation': 'relu', 'optimizer': 'adam'}. Best is trial 72 with value: 0.6720752298317277.\n",
      "C:\\Users\\azad.aliyev\\AppData\\Local\\Temp\\ipykernel_17300\\339139007.py:6: FutureWarning: suggest_loguniform has been deprecated in v3.0.0. This feature will be removed in v6.0.0. See https://github.com/optuna/optuna/releases/tag/v3.0.0. Use suggest_float(..., log=True) instead.\n",
      "  learning_rate = trial.suggest_loguniform(\"learning_rate\", 1e-4, 1e-2)\n"
     ]
    },
    {
     "name": "stdout",
     "output_type": "stream",
     "text": [
      "\u001b[1m7/7\u001b[0m \u001b[32m━━━━━━━━━━━━━━━━━━━━\u001b[0m\u001b[37m\u001b[0m \u001b[1m0s\u001b[0m 49ms/step\n",
      "\u001b[1m7/7\u001b[0m \u001b[32m━━━━━━━━━━━━━━━━━━━━\u001b[0m\u001b[37m\u001b[0m \u001b[1m0s\u001b[0m 38ms/step\n"
     ]
    },
    {
     "name": "stderr",
     "output_type": "stream",
     "text": [
      "[I 2024-12-01 17:14:16,601] Trial 171 finished with value: 0.5694141244072844 and parameters: {'hidden_units': 48, 'dropout_rate': 0.2322400408649981, 'learning_rate': 0.006621573886979164, 'batch_size': 64, 'activation': 'relu', 'optimizer': 'rmsprop'}. Best is trial 72 with value: 0.6720752298317277.\n",
      "C:\\Users\\azad.aliyev\\AppData\\Local\\Temp\\ipykernel_17300\\339139007.py:6: FutureWarning: suggest_loguniform has been deprecated in v3.0.0. This feature will be removed in v6.0.0. See https://github.com/optuna/optuna/releases/tag/v3.0.0. Use suggest_float(..., log=True) instead.\n",
      "  learning_rate = trial.suggest_loguniform(\"learning_rate\", 1e-4, 1e-2)\n",
      "[I 2024-12-01 17:14:17,064] Trial 166 finished with value: 0.5657119442345161 and parameters: {'hidden_units': 96, 'dropout_rate': 0.31527689746084375, 'learning_rate': 0.00035389283026750776, 'batch_size': 64, 'activation': 'relu', 'optimizer': 'adam'}. Best is trial 72 with value: 0.6720752298317277.\n",
      "C:\\Users\\azad.aliyev\\AppData\\Local\\Temp\\ipykernel_17300\\339139007.py:6: FutureWarning: suggest_loguniform has been deprecated in v3.0.0. This feature will be removed in v6.0.0. See https://github.com/optuna/optuna/releases/tag/v3.0.0. Use suggest_float(..., log=True) instead.\n",
      "  learning_rate = trial.suggest_loguniform(\"learning_rate\", 1e-4, 1e-2)\n"
     ]
    },
    {
     "name": "stdout",
     "output_type": "stream",
     "text": [
      "\u001b[1m7/7\u001b[0m \u001b[32m━━━━━━━━━━━━━━━━━━━━\u001b[0m\u001b[37m\u001b[0m \u001b[1m0s\u001b[0m 36ms/step\n"
     ]
    },
    {
     "name": "stderr",
     "output_type": "stream",
     "text": [
      "[I 2024-12-01 17:14:23,397] Trial 176 finished with value: 0.6222872521914931 and parameters: {'hidden_units': 48, 'dropout_rate': 0.2339377882893716, 'learning_rate': 0.006885829761220558, 'batch_size': 64, 'activation': 'relu', 'optimizer': 'rmsprop'}. Best is trial 72 with value: 0.6720752298317277.\n",
      "C:\\Users\\azad.aliyev\\AppData\\Local\\Temp\\ipykernel_17300\\339139007.py:6: FutureWarning: suggest_loguniform has been deprecated in v3.0.0. This feature will be removed in v6.0.0. See https://github.com/optuna/optuna/releases/tag/v3.0.0. Use suggest_float(..., log=True) instead.\n",
      "  learning_rate = trial.suggest_loguniform(\"learning_rate\", 1e-4, 1e-2)\n"
     ]
    },
    {
     "name": "stdout",
     "output_type": "stream",
     "text": [
      "\u001b[1m7/7\u001b[0m \u001b[32m━━━━━━━━━━━━━━━━━━━━\u001b[0m\u001b[37m\u001b[0m \u001b[1m0s\u001b[0m 32ms/step\n"
     ]
    },
    {
     "name": "stderr",
     "output_type": "stream",
     "text": [
      "[I 2024-12-01 17:14:24,111] Trial 175 finished with value: 0.568097793679189 and parameters: {'hidden_units': 48, 'dropout_rate': 0.23459865999143747, 'learning_rate': 0.007059171950634971, 'batch_size': 64, 'activation': 'relu', 'optimizer': 'rmsprop'}. Best is trial 72 with value: 0.6720752298317277.\n",
      "C:\\Users\\azad.aliyev\\AppData\\Local\\Temp\\ipykernel_17300\\339139007.py:6: FutureWarning: suggest_loguniform has been deprecated in v3.0.0. This feature will be removed in v6.0.0. See https://github.com/optuna/optuna/releases/tag/v3.0.0. Use suggest_float(..., log=True) instead.\n",
      "  learning_rate = trial.suggest_loguniform(\"learning_rate\", 1e-4, 1e-2)\n"
     ]
    },
    {
     "name": "stdout",
     "output_type": "stream",
     "text": [
      "\u001b[1m7/7\u001b[0m \u001b[32m━━━━━━━━━━━━━━━━━━━━\u001b[0m\u001b[37m\u001b[0m \u001b[1m0s\u001b[0m 33ms/step\n"
     ]
    },
    {
     "name": "stderr",
     "output_type": "stream",
     "text": [
      "[I 2024-12-01 17:14:25,838] Trial 170 finished with value: 0.5625445234200364 and parameters: {'hidden_units': 48, 'dropout_rate': 0.31415370481207816, 'learning_rate': 0.00034394140478843764, 'batch_size': 64, 'activation': 'relu', 'optimizer': 'rmsprop'}. Best is trial 72 with value: 0.6720752298317277.\n",
      "C:\\Users\\azad.aliyev\\AppData\\Local\\Temp\\ipykernel_17300\\339139007.py:6: FutureWarning: suggest_loguniform has been deprecated in v3.0.0. This feature will be removed in v6.0.0. See https://github.com/optuna/optuna/releases/tag/v3.0.0. Use suggest_float(..., log=True) instead.\n",
      "  learning_rate = trial.suggest_loguniform(\"learning_rate\", 1e-4, 1e-2)\n"
     ]
    },
    {
     "name": "stdout",
     "output_type": "stream",
     "text": [
      "\u001b[1m7/7\u001b[0m \u001b[32m━━━━━━━━━━━━━━━━━━━━\u001b[0m\u001b[37m\u001b[0m \u001b[1m0s\u001b[0m 49ms/step\n"
     ]
    },
    {
     "name": "stderr",
     "output_type": "stream",
     "text": [
      "[I 2024-12-01 17:14:29,637] Trial 183 finished with value: 0.2185535668162207 and parameters: {'hidden_units': 48, 'dropout_rate': 0.2846559633778149, 'learning_rate': 0.0008814352971968968, 'batch_size': 64, 'activation': 'tanh', 'optimizer': 'rmsprop'}. Best is trial 72 with value: 0.6720752298317277.\n"
     ]
    },
    {
     "name": "stdout",
     "output_type": "stream",
     "text": [
      "\u001b[1m4/7\u001b[0m \u001b[32m━━━━━━━━━━━\u001b[0m\u001b[37m━━━━━━━━━\u001b[0m \u001b[1m0s\u001b[0m 17ms/step "
     ]
    },
    {
     "name": "stderr",
     "output_type": "stream",
     "text": [
      "C:\\Users\\azad.aliyev\\AppData\\Local\\Temp\\ipykernel_17300\\339139007.py:6: FutureWarning: suggest_loguniform has been deprecated in v3.0.0. This feature will be removed in v6.0.0. See https://github.com/optuna/optuna/releases/tag/v3.0.0. Use suggest_float(..., log=True) instead.\n",
      "  learning_rate = trial.suggest_loguniform(\"learning_rate\", 1e-4, 1e-2)\n"
     ]
    },
    {
     "name": "stdout",
     "output_type": "stream",
     "text": [
      "\u001b[1m7/7\u001b[0m \u001b[32m━━━━━━━━━━━━━━━━━━━━\u001b[0m\u001b[37m\u001b[0m \u001b[1m0s\u001b[0m 46ms/step\n"
     ]
    },
    {
     "name": "stderr",
     "output_type": "stream",
     "text": [
      "[I 2024-12-01 17:14:30,333] Trial 174 finished with value: 0.5722524625397403 and parameters: {'hidden_units': 48, 'dropout_rate': 0.40379022216497235, 'learning_rate': 0.000891924967158106, 'batch_size': 64, 'activation': 'relu', 'optimizer': 'rmsprop'}. Best is trial 72 with value: 0.6720752298317277.\n",
      "C:\\Users\\azad.aliyev\\AppData\\Local\\Temp\\ipykernel_17300\\339139007.py:6: FutureWarning: suggest_loguniform has been deprecated in v3.0.0. This feature will be removed in v6.0.0. See https://github.com/optuna/optuna/releases/tag/v3.0.0. Use suggest_float(..., log=True) instead.\n",
      "  learning_rate = trial.suggest_loguniform(\"learning_rate\", 1e-4, 1e-2)\n"
     ]
    },
    {
     "name": "stdout",
     "output_type": "stream",
     "text": [
      "\u001b[1m7/7\u001b[0m \u001b[32m━━━━━━━━━━━━━━━━━━━━\u001b[0m\u001b[37m\u001b[0m \u001b[1m1s\u001b[0m 50ms/step\n",
      "\u001b[1m7/7\u001b[0m \u001b[32m━━━━━━━━━━━━━━━━━━━━\u001b[0m\u001b[37m\u001b[0m \u001b[1m1s\u001b[0m 70ms/step\n"
     ]
    },
    {
     "name": "stderr",
     "output_type": "stream",
     "text": [
      "[I 2024-12-01 17:14:31,663] Trial 177 finished with value: 0.4213665222146755 and parameters: {'hidden_units': 32, 'dropout_rate': 0.28564423990133475, 'learning_rate': 0.007058958185369979, 'batch_size': 64, 'activation': 'relu', 'optimizer': 'rmsprop'}. Best is trial 72 with value: 0.6720752298317277.\n"
     ]
    },
    {
     "name": "stdout",
     "output_type": "stream",
     "text": [
      "\u001b[1m7/7\u001b[0m \u001b[32m━━━━━━━━━━━━━━━━━━━━\u001b[0m\u001b[37m\u001b[0m \u001b[1m0s\u001b[0m 36ms/step\n"
     ]
    },
    {
     "name": "stderr",
     "output_type": "stream",
     "text": [
      "C:\\Users\\azad.aliyev\\AppData\\Local\\Temp\\ipykernel_17300\\339139007.py:6: FutureWarning: suggest_loguniform has been deprecated in v3.0.0. This feature will be removed in v6.0.0. See https://github.com/optuna/optuna/releases/tag/v3.0.0. Use suggest_float(..., log=True) instead.\n",
      "  learning_rate = trial.suggest_loguniform(\"learning_rate\", 1e-4, 1e-2)\n",
      "[I 2024-12-01 17:14:32,025] Trial 178 finished with value: 0.46749345501739487 and parameters: {'hidden_units': 48, 'dropout_rate': 0.23446790927054972, 'learning_rate': 0.006925126644808369, 'batch_size': 64, 'activation': 'tanh', 'optimizer': 'rmsprop'}. Best is trial 72 with value: 0.6720752298317277.\n",
      "[I 2024-12-01 17:14:32,123] Trial 180 finished with value: 0.36709479303186554 and parameters: {'hidden_units': 48, 'dropout_rate': 0.3614182679764349, 'learning_rate': 0.003513974662281887, 'batch_size': 64, 'activation': 'tanh', 'optimizer': 'rmsprop'}. Best is trial 72 with value: 0.6720752298317277.\n",
      "C:\\Users\\azad.aliyev\\AppData\\Local\\Temp\\ipykernel_17300\\339139007.py:6: FutureWarning: suggest_loguniform has been deprecated in v3.0.0. This feature will be removed in v6.0.0. See https://github.com/optuna/optuna/releases/tag/v3.0.0. Use suggest_float(..., log=True) instead.\n",
      "  learning_rate = trial.suggest_loguniform(\"learning_rate\", 1e-4, 1e-2)\n"
     ]
    },
    {
     "name": "stdout",
     "output_type": "stream",
     "text": [
      "\u001b[1m7/7\u001b[0m \u001b[32m━━━━━━━━━━━━━━━━━━━━\u001b[0m\u001b[37m\u001b[0m \u001b[1m1s\u001b[0m 62ms/step\n"
     ]
    },
    {
     "name": "stderr",
     "output_type": "stream",
     "text": [
      "[I 2024-12-01 17:14:36,015] Trial 179 finished with value: 0.5722935978749932 and parameters: {'hidden_units': 48, 'dropout_rate': 0.28730957523516626, 'learning_rate': 0.006630172067985302, 'batch_size': 64, 'activation': 'tanh', 'optimizer': 'rmsprop'}. Best is trial 72 with value: 0.6720752298317277.\n",
      "C:\\Users\\azad.aliyev\\AppData\\Local\\Temp\\ipykernel_17300\\339139007.py:6: FutureWarning: suggest_loguniform has been deprecated in v3.0.0. This feature will be removed in v6.0.0. See https://github.com/optuna/optuna/releases/tag/v3.0.0. Use suggest_float(..., log=True) instead.\n",
      "  learning_rate = trial.suggest_loguniform(\"learning_rate\", 1e-4, 1e-2)\n"
     ]
    },
    {
     "name": "stdout",
     "output_type": "stream",
     "text": [
      "\u001b[1m7/7\u001b[0m \u001b[32m━━━━━━━━━━━━━━━━━━━━\u001b[0m\u001b[37m\u001b[0m \u001b[1m0s\u001b[0m 41ms/step\n",
      "\u001b[1m7/7\u001b[0m \u001b[32m━━━━━━━━━━━━━━━━━━━━\u001b[0m\u001b[37m\u001b[0m \u001b[1m0s\u001b[0m 43ms/step\n"
     ]
    },
    {
     "name": "stderr",
     "output_type": "stream",
     "text": [
      "[I 2024-12-01 17:14:42,508] Trial 186 finished with value: 0.4113295004129478 and parameters: {'hidden_units': 48, 'dropout_rate': 0.24755032977430194, 'learning_rate': 0.00597586393162285, 'batch_size': 64, 'activation': 'tanh', 'optimizer': 'rmsprop'}. Best is trial 72 with value: 0.6720752298317277.\n"
     ]
    },
    {
     "name": "stdout",
     "output_type": "stream",
     "text": [
      "\u001b[1m7/7\u001b[0m \u001b[32m━━━━━━━━━━━━━━━━━━━━\u001b[0m\u001b[37m\u001b[0m \u001b[1m0s\u001b[0m 34ms/step\n"
     ]
    },
    {
     "name": "stderr",
     "output_type": "stream",
     "text": [
      "[I 2024-12-01 17:14:42,745] Trial 184 finished with value: 0.5701545604418381 and parameters: {'hidden_units': 48, 'dropout_rate': 0.29936545299516326, 'learning_rate': 0.0009023501335672539, 'batch_size': 64, 'activation': 'tanh', 'optimizer': 'rmsprop'}. Best is trial 72 with value: 0.6720752298317277.\n",
      "C:\\Users\\azad.aliyev\\AppData\\Local\\Temp\\ipykernel_17300\\339139007.py:6: FutureWarning: suggest_loguniform has been deprecated in v3.0.0. This feature will be removed in v6.0.0. See https://github.com/optuna/optuna/releases/tag/v3.0.0. Use suggest_float(..., log=True) instead.\n",
      "  learning_rate = trial.suggest_loguniform(\"learning_rate\", 1e-4, 1e-2)\n",
      "C:\\Users\\azad.aliyev\\AppData\\Local\\Temp\\ipykernel_17300\\339139007.py:6: FutureWarning: suggest_loguniform has been deprecated in v3.0.0. This feature will be removed in v6.0.0. See https://github.com/optuna/optuna/releases/tag/v3.0.0. Use suggest_float(..., log=True) instead.\n",
      "  learning_rate = trial.suggest_loguniform(\"learning_rate\", 1e-4, 1e-2)\n",
      "[I 2024-12-01 17:14:42,968] Trial 190 finished with value: 0.27027490521334574 and parameters: {'hidden_units': 48, 'dropout_rate': 0.49685287238520814, 'learning_rate': 0.0010240750927143366, 'batch_size': 64, 'activation': 'tanh', 'optimizer': 'rmsprop'}. Best is trial 72 with value: 0.6720752298317277.\n",
      "C:\\Users\\azad.aliyev\\AppData\\Local\\Temp\\ipykernel_17300\\339139007.py:6: FutureWarning: suggest_loguniform has been deprecated in v3.0.0. This feature will be removed in v6.0.0. See https://github.com/optuna/optuna/releases/tag/v3.0.0. Use suggest_float(..., log=True) instead.\n",
      "  learning_rate = trial.suggest_loguniform(\"learning_rate\", 1e-4, 1e-2)\n"
     ]
    },
    {
     "name": "stdout",
     "output_type": "stream",
     "text": [
      "\u001b[1m7/7\u001b[0m \u001b[32m━━━━━━━━━━━━━━━━━━━━\u001b[0m\u001b[37m\u001b[0m \u001b[1m1s\u001b[0m 65ms/step\n",
      "\u001b[1m5/7\u001b[0m \u001b[32m━━━━━━━━━━━━━━\u001b[0m\u001b[37m━━━━━━\u001b[0m \u001b[1m0s\u001b[0m 42ms/step"
     ]
    },
    {
     "name": "stderr",
     "output_type": "stream",
     "text": [
      "[I 2024-12-01 17:14:44,694] Trial 182 finished with value: 0.622328387526746 and parameters: {'hidden_units': 48, 'dropout_rate': 0.23238199994225045, 'learning_rate': 0.000951916628275953, 'batch_size': 64, 'activation': 'relu', 'optimizer': 'rmsprop'}. Best is trial 72 with value: 0.6720752298317277.\n"
     ]
    },
    {
     "name": "stdout",
     "output_type": "stream",
     "text": [
      "\u001b[1m7/7\u001b[0m \u001b[32m━━━━━━━━━━━━━━━━━━━━\u001b[0m\u001b[37m\u001b[0m \u001b[1m1s\u001b[0m 83ms/step\n",
      "\u001b[1m5/7\u001b[0m \u001b[32m━━━━━━━━━━━━━━\u001b[0m\u001b[37m━━━━━━\u001b[0m \u001b[1m0s\u001b[0m 17ms/step "
     ]
    },
    {
     "name": "stderr",
     "output_type": "stream",
     "text": [
      "C:\\Users\\azad.aliyev\\AppData\\Local\\Temp\\ipykernel_17300\\339139007.py:6: FutureWarning: suggest_loguniform has been deprecated in v3.0.0. This feature will be removed in v6.0.0. See https://github.com/optuna/optuna/releases/tag/v3.0.0. Use suggest_float(..., log=True) instead.\n",
      "  learning_rate = trial.suggest_loguniform(\"learning_rate\", 1e-4, 1e-2)\n"
     ]
    },
    {
     "name": "stdout",
     "output_type": "stream",
     "text": [
      "\u001b[1m7/7\u001b[0m \u001b[32m━━━━━━━━━━━━━━━━━━━━\u001b[0m\u001b[37m\u001b[0m \u001b[1m1s\u001b[0m 59ms/step\n"
     ]
    },
    {
     "name": "stderr",
     "output_type": "stream",
     "text": [
      "[I 2024-12-01 17:14:45,425] Trial 181 finished with value: 0.4152784925972341 and parameters: {'hidden_units': 48, 'dropout_rate': 0.41121559258829277, 'learning_rate': 0.0035473140307820668, 'batch_size': 64, 'activation': 'tanh', 'optimizer': 'rmsprop'}. Best is trial 72 with value: 0.6720752298317277.\n",
      "C:\\Users\\azad.aliyev\\AppData\\Local\\Temp\\ipykernel_17300\\339139007.py:6: FutureWarning: suggest_loguniform has been deprecated in v3.0.0. This feature will be removed in v6.0.0. See https://github.com/optuna/optuna/releases/tag/v3.0.0. Use suggest_float(..., log=True) instead.\n",
      "  learning_rate = trial.suggest_loguniform(\"learning_rate\", 1e-4, 1e-2)\n",
      "[I 2024-12-01 17:14:45,835] Trial 187 finished with value: 0.3668891163556006 and parameters: {'hidden_units': 32, 'dropout_rate': 0.2463488126548289, 'learning_rate': 0.003397156808836253, 'batch_size': 64, 'activation': 'tanh', 'optimizer': 'rmsprop'}. Best is trial 72 with value: 0.6720752298317277.\n",
      "C:\\Users\\azad.aliyev\\AppData\\Local\\Temp\\ipykernel_17300\\339139007.py:6: FutureWarning: suggest_loguniform has been deprecated in v3.0.0. This feature will be removed in v6.0.0. See https://github.com/optuna/optuna/releases/tag/v3.0.0. Use suggest_float(..., log=True) instead.\n",
      "  learning_rate = trial.suggest_loguniform(\"learning_rate\", 1e-4, 1e-2)\n"
     ]
    },
    {
     "name": "stdout",
     "output_type": "stream",
     "text": [
      "\u001b[1m7/7\u001b[0m \u001b[32m━━━━━━━━━━━━━━━━━━━━\u001b[0m\u001b[37m\u001b[0m \u001b[1m1s\u001b[0m 51ms/step\n"
     ]
    },
    {
     "name": "stderr",
     "output_type": "stream",
     "text": [
      "[I 2024-12-01 17:14:48,176] Trial 185 finished with value: 0.5734042519268238 and parameters: {'hidden_units': 48, 'dropout_rate': 0.23471720215184066, 'learning_rate': 0.007983248638866656, 'batch_size': 64, 'activation': 'tanh', 'optimizer': 'rmsprop'}. Best is trial 72 with value: 0.6720752298317277.\n"
     ]
    },
    {
     "name": "stdout",
     "output_type": "stream",
     "text": [
      "\u001b[1m7/7\u001b[0m \u001b[32m━━━━━━━━━━━━━━━━━━━━\u001b[0m\u001b[37m\u001b[0m \u001b[1m0s\u001b[0m 23ms/step\n"
     ]
    },
    {
     "name": "stderr",
     "output_type": "stream",
     "text": [
      "[I 2024-12-01 17:14:51,435] Trial 188 finished with value: 0.408573432950998 and parameters: {'hidden_units': 32, 'dropout_rate': 0.24675463595948263, 'learning_rate': 0.008045036188283993, 'batch_size': 64, 'activation': 'tanh', 'optimizer': 'rmsprop'}. Best is trial 72 with value: 0.6720752298317277.\n"
     ]
    },
    {
     "name": "stdout",
     "output_type": "stream",
     "text": [
      "\u001b[1m7/7\u001b[0m \u001b[32m━━━━━━━━━━━━━━━━━━━━\u001b[0m\u001b[37m\u001b[0m \u001b[1m0s\u001b[0m 21ms/step\n"
     ]
    },
    {
     "name": "stderr",
     "output_type": "stream",
     "text": [
      "[I 2024-12-01 17:14:51,758] Trial 189 finished with value: 0.41803456005918394 and parameters: {'hidden_units': 48, 'dropout_rate': 0.24539241061859018, 'learning_rate': 0.0013783391200711747, 'batch_size': 64, 'activation': 'tanh', 'optimizer': 'rmsprop'}. Best is trial 72 with value: 0.6720752298317277.\n"
     ]
    },
    {
     "name": "stdout",
     "output_type": "stream",
     "text": [
      "\u001b[1m7/7\u001b[0m \u001b[32m━━━━━━━━━━━━━━━━━━━━\u001b[0m\u001b[37m\u001b[0m \u001b[1m0s\u001b[0m 29ms/step\n"
     ]
    },
    {
     "name": "stderr",
     "output_type": "stream",
     "text": [
      "[I 2024-12-01 17:14:52,612] Trial 192 finished with value: 0.5706893198001269 and parameters: {'hidden_units': 48, 'dropout_rate': 0.24583954384800152, 'learning_rate': 0.008065635984529154, 'batch_size': 64, 'activation': 'relu', 'optimizer': 'rmsprop'}. Best is trial 72 with value: 0.6720752298317277.\n"
     ]
    },
    {
     "name": "stdout",
     "output_type": "stream",
     "text": [
      "\u001b[1m7/7\u001b[0m \u001b[32m━━━━━━━━━━━━━━━━━━━━\u001b[0m\u001b[37m\u001b[0m \u001b[1m0s\u001b[0m 25ms/step\n"
     ]
    },
    {
     "name": "stderr",
     "output_type": "stream",
     "text": [
      "[I 2024-12-01 17:14:53,216] Trial 194 finished with value: 0.17045213792135816 and parameters: {'hidden_units': 48, 'dropout_rate': 0.4741999498290382, 'learning_rate': 0.0010213264936407593, 'batch_size': 64, 'activation': 'tanh', 'optimizer': 'rmsprop'}. Best is trial 72 with value: 0.6720752298317277.\n"
     ]
    },
    {
     "name": "stdout",
     "output_type": "stream",
     "text": [
      "\u001b[1m7/7\u001b[0m \u001b[32m━━━━━━━━━━━━━━━━━━━━\u001b[0m\u001b[37m\u001b[0m \u001b[1m0s\u001b[0m 24ms/step\n"
     ]
    },
    {
     "name": "stderr",
     "output_type": "stream",
     "text": [
      "[I 2024-12-01 17:14:55,215] Trial 193 finished with value: 0.471730394548452 and parameters: {'hidden_units': 48, 'dropout_rate': 0.4098613802697347, 'learning_rate': 0.007782157768787848, 'batch_size': 64, 'activation': 'tanh', 'optimizer': 'rmsprop'}. Best is trial 72 with value: 0.6720752298317277.\n"
     ]
    },
    {
     "name": "stdout",
     "output_type": "stream",
     "text": [
      "\u001b[1m7/7\u001b[0m \u001b[32m━━━━━━━━━━━━━━━━━━━━\u001b[0m\u001b[37m\u001b[0m \u001b[1m0s\u001b[0m 19ms/step\n"
     ]
    },
    {
     "name": "stderr",
     "output_type": "stream",
     "text": [
      "[I 2024-12-01 17:14:57,692] Trial 191 finished with value: 0.6195723200647962 and parameters: {'hidden_units': 48, 'dropout_rate': 0.36172369143090777, 'learning_rate': 0.0013162561216097577, 'batch_size': 64, 'activation': 'relu', 'optimizer': 'rmsprop'}. Best is trial 72 with value: 0.6720752298317277.\n"
     ]
    },
    {
     "name": "stdout",
     "output_type": "stream",
     "text": [
      "\u001b[1m7/7\u001b[0m \u001b[32m━━━━━━━━━━━━━━━━━━━━\u001b[0m\u001b[37m\u001b[0m \u001b[1m0s\u001b[0m 16ms/step\n"
     ]
    },
    {
     "name": "stderr",
     "output_type": "stream",
     "text": [
      "[I 2024-12-01 17:14:58,176] Trial 195 finished with value: 0.5227935675815293 and parameters: {'hidden_units': 48, 'dropout_rate': 0.3042282418679017, 'learning_rate': 0.007946380665106736, 'batch_size': 64, 'activation': 'tanh', 'optimizer': 'rmsprop'}. Best is trial 72 with value: 0.6720752298317277.\n"
     ]
    },
    {
     "name": "stdout",
     "output_type": "stream",
     "text": [
      "\u001b[1m7/7\u001b[0m \u001b[32m━━━━━━━━━━━━━━━━━━━━\u001b[0m\u001b[37m\u001b[0m \u001b[1m0s\u001b[0m 17ms/step\n"
     ]
    },
    {
     "name": "stderr",
     "output_type": "stream",
     "text": [
      "[I 2024-12-01 17:14:58,826] Trial 199 finished with value: 0.5727049512275231 and parameters: {'hidden_units': 48, 'dropout_rate': 0.2268820207505082, 'learning_rate': 0.0013509980309155273, 'batch_size': 64, 'activation': 'relu', 'optimizer': 'rmsprop'}. Best is trial 72 with value: 0.6720752298317277.\n"
     ]
    },
    {
     "name": "stdout",
     "output_type": "stream",
     "text": [
      "\u001b[1m7/7\u001b[0m \u001b[32m━━━━━━━━━━━━━━━━━━━━\u001b[0m\u001b[37m\u001b[0m \u001b[1m0s\u001b[0m 13ms/step\n"
     ]
    },
    {
     "name": "stderr",
     "output_type": "stream",
     "text": [
      "[I 2024-12-01 17:15:00,423] Trial 196 finished with value: 0.4107124703841531 and parameters: {'hidden_units': 32, 'dropout_rate': 0.41276446007519474, 'learning_rate': 0.007522413371727077, 'batch_size': 64, 'activation': 'tanh', 'optimizer': 'rmsprop'}. Best is trial 72 with value: 0.6720752298317277.\n"
     ]
    },
    {
     "name": "stdout",
     "output_type": "stream",
     "text": [
      "\u001b[1m7/7\u001b[0m \u001b[32m━━━━━━━━━━━━━━━━━━━━\u001b[0m\u001b[37m\u001b[0m \u001b[1m0s\u001b[0m 9ms/step \n"
     ]
    },
    {
     "name": "stderr",
     "output_type": "stream",
     "text": [
      "[I 2024-12-01 17:15:01,072] Trial 197 finished with value: 0.5720467858634753 and parameters: {'hidden_units': 48, 'dropout_rate': 0.24541656164735173, 'learning_rate': 0.0008352247044346964, 'batch_size': 64, 'activation': 'tanh', 'optimizer': 'rmsprop'}. Best is trial 72 with value: 0.6720752298317277.\n"
     ]
    },
    {
     "name": "stdout",
     "output_type": "stream",
     "text": [
      "\u001b[1m7/7\u001b[0m \u001b[32m━━━━━━━━━━━━━━━━━━━━\u001b[0m\u001b[37m\u001b[0m \u001b[1m0s\u001b[0m 9ms/step \n"
     ]
    },
    {
     "name": "stderr",
     "output_type": "stream",
     "text": [
      "[I 2024-12-01 17:15:01,224] Trial 198 finished with value: 0.5660410269165399 and parameters: {'hidden_units': 32, 'dropout_rate': 0.24484044970386273, 'learning_rate': 0.000780175056508096, 'batch_size': 64, 'activation': 'relu', 'optimizer': 'rmsprop'}. Best is trial 72 with value: 0.6720752298317277.\n"
     ]
    },
    {
     "name": "stdout",
     "output_type": "stream",
     "text": [
      "Best hyperparameters: {'hidden_units': 96, 'dropout_rate': 0.3092770495947894, 'learning_rate': 0.0073218106416146345, 'batch_size': 64, 'activation': 'relu', 'optimizer': 'rmsprop'}\n"
     ]
    }
   ],
   "source": [
    "# Run Optuna optimization\n",
    "study = optuna.create_study(direction=\"maximize\")\n",
    "study.optimize(objective, n_trials=200, n_jobs=-1)\n",
    "\n",
    "# Display the best hyperparameters\n",
    "print(\"Best hyperparameters:\", study.best_params)"
   ]
  },
  {
   "cell_type": "code",
   "execution_count": 174,
   "id": "8ae2aecd-6c10-4ea1-b35b-5fe5d725d36b",
   "metadata": {},
   "outputs": [
    {
     "name": "stdout",
     "output_type": "stream",
     "text": [
      "Training data shape: (650000, 20)\n",
      "Test data shape: (278898, 20)\n"
     ]
    }
   ],
   "source": [
    "X = data.drop(columns=['anomaly'])\n",
    "y = data['anomaly']\n",
    "\n",
    "X_train = X.iloc[:650000, :]\n",
    "X_test = X.iloc[650000:, :]\n",
    "y_train = y.iloc[:650000]\n",
    "y_test = y.iloc[650000:]\n",
    "\n",
    "print(\"Training data shape:\", X_train.shape)\n",
    "print(\"Test data shape:\", X_test.shape)"
   ]
  },
  {
   "cell_type": "code",
   "execution_count": 135,
   "id": "907124c9-5106-4db4-9b6a-17f43c8e149f",
   "metadata": {},
   "outputs": [
    {
     "data": {
      "text/plain": [
       "<keras.src.callbacks.history.History at 0x200244f39b0>"
      ]
     },
     "execution_count": 135,
     "metadata": {},
     "output_type": "execute_result"
    }
   ],
   "source": [
    "# depth of autoencoder increased\n",
    "\n",
    "input_shape = X_train.shape[1]\n",
    "input_data = Input(shape=(input_shape,))\n",
    "\n",
    "encoded = Dense(best_params['hidden_units'], activation=best_params['activation'])(input_data)\n",
    "encoded = BatchNormalization()(encoded)\n",
    "encoded = Dropout(best_params['dropout_rate'])(encoded)\n",
    "encoded = Dense(best_params['hidden_units']//2, activation=best_params['activation'])(encoded)\n",
    "encoded = BatchNormalization()(encoded)\n",
    "\n",
    "decoded = Dense(best_params['hidden_units']//2, activation=best_params['activation'])(encoded)\n",
    "decoded = BatchNormalization()(decoded)\n",
    "decoded = Dense(best_params['hidden_units'], activation=best_params['activation'])(decoded)\n",
    "decoded = BatchNormalization()(decoded)\n",
    "decoded = Dense(input_shape, activation=\"sigmoid\")(decoded)\n",
    "\n",
    "best_model = Model(input_data, decoded)\n",
    "best_model.compile(optimizer=Adam(learning_rate=best_params['learning_rate']), loss=\"mean_squared_error\")\n",
    "\n",
    "# Compile the model\n",
    "#optimizer = Adam(learning_rate=best_params['learning_rate']) if optimizer_name == \"adam\" else RMSprop(learning_rate=best_params['learning_rate'])\n",
    "#best_model.compile(optimizer=\"adam\", loss=\"mean_absolute_error\")\n",
    "\n",
    "# Train the Autoencoder\n",
    "early_stopping = EarlyStopping(monitor=\"val_loss\", patience=5, restore_best_weights=True)\n",
    "best_model.fit(\n",
    "    X_train, X_train,\n",
    "    epochs=50,\n",
    "    batch_size=best_params['batch_size'],\n",
    "    validation_data=(X_test, X_test),\n",
    "    shuffle=True,\n",
    "    callbacks=[early_stopping],\n",
    "    verbose=0\n",
    ")"
   ]
  },
  {
   "cell_type": "code",
   "execution_count": 133,
   "id": "1ab51984-b96b-4bbe-9484-cf426d21dee7",
   "metadata": {},
   "outputs": [
    {
     "name": "stdout",
     "output_type": "stream",
     "text": [
      "\u001b[1m8716/8716\u001b[0m \u001b[32m━━━━━━━━━━━━━━━━━━━━\u001b[0m\u001b[37m\u001b[0m \u001b[1m7s\u001b[0m 743us/step\n",
      "Baseline Metrics:\n",
      "Accuracy: 0.937, Recall: 0.7731, Precision: 0.8212, F1 Score: 0.7965, AUC: 0.8935\n",
      "Optimized Model Metrics:\n",
      "Accuracy: 0.9369, Recall: 0.7727, Precision: 0.8207, F1 Score: 0.7960, AUC: 0.9134\n"
     ]
    }
   ],
   "source": [
    "y_pred = best_model.predict(X_test)\n",
    "mse = np.mean(np.power(X_test - y_pred, 2), axis=1)\n",
    "\n",
    "threshold = np.percentile(mse, 85)\n",
    "y_pred_binary = (mse > threshold).astype(int)\n",
    "\n",
    "accuracy = accuracy_score(y_test, y_pred_binary)\n",
    "precision = precision_score(y_test, y_pred_binary)\n",
    "recall = recall_score(y_test, y_pred_binary)\n",
    "f1 = f1_score(y_test, y_pred_binary)\n",
    "auc = roc_auc_score(y_test, mse)\n",
    "\n",
    "print(\"Baseline Metrics:\")\n",
    "print(f\"Accuracy: 0.937, Recall: 0.7731, Precision: 0.8212, F1 Score: 0.7965, AUC: 0.8935\")\n",
    "\n",
    "print(\"Optimized Model Metrics:\")\n",
    "print(f\"Accuracy: {accuracy:.4f}, Recall: {recall:.4f}, Precision: {precision:.4f}, F1 Score: {f1:.4f}, AUC: {auc:.4f}\")"
   ]
  },
  {
   "cell_type": "code",
   "execution_count": 117,
   "id": "b2280fba-ebc6-46fd-a086-6c587de1c162",
   "metadata": {},
   "outputs": [
    {
     "data": {
      "text/plain": [
       "{'hidden_units': 64,\n",
       " 'dropout_rate': 0.4444672017557935,\n",
       " 'learning_rate': 0.008962676579297325,\n",
       " 'batch_size': 256,\n",
       " 'activation': 'relu',\n",
       " 'optimizer': 'rmsprop'}"
      ]
     },
     "execution_count": 117,
     "metadata": {},
     "output_type": "execute_result"
    }
   ],
   "source": [
    "best_params"
   ]
  },
  {
   "cell_type": "markdown",
   "id": "573ec523-8322-40f4-ac87-ea7f236f82c3",
   "metadata": {},
   "source": [
    "### Hyperband"
   ]
  },
  {
   "cell_type": "code",
   "execution_count": 170,
   "id": "dbe5edc6-b21d-4ff6-a009-d0915fa7f350",
   "metadata": {},
   "outputs": [],
   "source": [
    "# Define the search space and the objective function\n",
    "def objective(trial):\n",
    "    # Hyperparameter suggestions\n",
    "    hidden_units = trial.suggest_int(\"hidden_units\", 16, 128, step=16)\n",
    "    dropout_rate = trial.suggest_float(\"dropout_rate\", 0.2, 0.5)\n",
    "    learning_rate = trial.suggest_loguniform(\"learning_rate\", 1e-4, 1e-2)\n",
    "    batch_size = trial.suggest_int(\"batch_size\", 64, 256, step=64)\n",
    "    activation = trial.suggest_categorical(\"activation\", [\"relu\", \"tanh\"])\n",
    "    optimizer_name = trial.suggest_categorical(\"optimizer\", [\"adam\", \"rmsprop\"])\n",
    "\n",
    "    # Build the Autoencoder\n",
    "    input_shape = X_train.shape[1]\n",
    "    input_data = Input(shape=(input_shape,))\n",
    "    encoded = Dense(hidden_units, activation=activation)(input_data)\n",
    "    encoded = BatchNormalization()(encoded)\n",
    "    encoded = Dropout(dropout_rate)(encoded)\n",
    "    decoded = Dense(input_shape, activation=\"sigmoid\")(encoded)\n",
    "    autoencoder = Model(input_data, decoded)\n",
    "\n",
    "    # Compile the model\n",
    "    optimizer = Adam(learning_rate=learning_rate) if optimizer_name == \"adam\" else RMSprop(learning_rate=learning_rate)\n",
    "    autoencoder.compile(optimizer=optimizer, loss=\"mean_squared_error\")\n",
    "\n",
    "    # Early stopping for regular training\n",
    "    early_stopping = EarlyStopping(monitor=\"val_loss\", patience=5, restore_best_weights=True)\n",
    "\n",
    "    # Train the Autoencoder\n",
    "    autoencoder.fit(\n",
    "        X_train, X_train,\n",
    "        epochs=50,  # Set max epochs; Hyperband will prune unpromising trials\n",
    "        batch_size=batch_size,\n",
    "        validation_data=(X_test, X_test),\n",
    "        shuffle=True,\n",
    "        callbacks=[early_stopping],\n",
    "        verbose=0  # Suppress training output for better performance\n",
    "    )\n",
    "\n",
    "    # Predict and evaluate reconstruction errors\n",
    "    y_pred = autoencoder.predict(X_test)\n",
    "    mse = np.mean(np.power(X_test - y_pred, 2), axis=1)\n",
    "    threshold = np.percentile(mse, 85)  # Use the 85th percentile as the anomaly threshold\n",
    "    y_pred_binary = (mse > threshold).astype(int)\n",
    "\n",
    "    # Compute evaluation metrics\n",
    "    precision = precision_score(y_test, y_pred_binary)\n",
    "    recall = recall_score(y_test, y_pred_binary)\n",
    "    f1 = f1_score(y_test, y_pred_binary)\n",
    "    auc = roc_auc_score(y_test, mse)\n",
    "    \n",
    "    # Compare with baseline\n",
    "    if f1 < 0.75:  # Penalize if F1 Score is worse than 0.75\n",
    "        return -1\n",
    "    else:\n",
    "        return 0.3 * f1 + 0.2 * recall + 0.2 * precision + 0.2 * auc + 0.1 * accuracy"
   ]
  },
  {
   "cell_type": "code",
   "execution_count": 172,
   "id": "55714198-5883-4b99-8966-2fa665de9276",
   "metadata": {
    "scrolled": true
   },
   "outputs": [
    {
     "name": "stderr",
     "output_type": "stream",
     "text": [
      "[I 2024-12-01 18:03:21,168] A new study created in memory with name: no-name-8af5474f-2454-459d-a7ed-9099768b1780\n",
      "C:\\Users\\azad.aliyev\\AppData\\Local\\Temp\\ipykernel_17300\\1127333341.py:6: FutureWarning: suggest_loguniform has been deprecated in v3.0.0. This feature will be removed in v6.0.0. See https://github.com/optuna/optuna/releases/tag/v3.0.0. Use suggest_float(..., log=True) instead.\n",
      "  learning_rate = trial.suggest_loguniform(\"learning_rate\", 1e-4, 1e-2)\n"
     ]
    },
    {
     "name": "stdout",
     "output_type": "stream",
     "text": [
      "\u001b[1m7/7\u001b[0m \u001b[32m━━━━━━━━━━━━━━━━━━━━\u001b[0m\u001b[37m\u001b[0m \u001b[1m0s\u001b[0m 15ms/step\n"
     ]
    },
    {
     "name": "stderr",
     "output_type": "stream",
     "text": [
      "[I 2024-12-01 18:03:30,894] Trial 7 finished with value: -1.0 and parameters: {'hidden_units': 112, 'dropout_rate': 0.3197190001781801, 'learning_rate': 0.006442740611297978, 'batch_size': 256, 'activation': 'relu', 'optimizer': 'adam'}. Best is trial 7 with value: -1.0.\n",
      "C:\\Users\\azad.aliyev\\AppData\\Local\\Temp\\ipykernel_17300\\1127333341.py:6: FutureWarning: suggest_loguniform has been deprecated in v3.0.0. This feature will be removed in v6.0.0. See https://github.com/optuna/optuna/releases/tag/v3.0.0. Use suggest_float(..., log=True) instead.\n",
      "  learning_rate = trial.suggest_loguniform(\"learning_rate\", 1e-4, 1e-2)\n"
     ]
    },
    {
     "name": "stdout",
     "output_type": "stream",
     "text": [
      "\u001b[1m7/7\u001b[0m \u001b[32m━━━━━━━━━━━━━━━━━━━━\u001b[0m\u001b[37m\u001b[0m \u001b[1m0s\u001b[0m 22ms/step\n"
     ]
    },
    {
     "name": "stderr",
     "output_type": "stream",
     "text": [
      "[I 2024-12-01 18:03:34,928] Trial 8 finished with value: -1.0 and parameters: {'hidden_units': 80, 'dropout_rate': 0.2697052679792505, 'learning_rate': 0.0034835547992661843, 'batch_size': 192, 'activation': 'relu', 'optimizer': 'rmsprop'}. Best is trial 7 with value: -1.0.\n",
      "C:\\Users\\azad.aliyev\\AppData\\Local\\Temp\\ipykernel_17300\\1127333341.py:6: FutureWarning: suggest_loguniform has been deprecated in v3.0.0. This feature will be removed in v6.0.0. See https://github.com/optuna/optuna/releases/tag/v3.0.0. Use suggest_float(..., log=True) instead.\n",
      "  learning_rate = trial.suggest_loguniform(\"learning_rate\", 1e-4, 1e-2)\n"
     ]
    },
    {
     "name": "stdout",
     "output_type": "stream",
     "text": [
      "\u001b[1m7/7\u001b[0m \u001b[32m━━━━━━━━━━━━━━━━━━━━\u001b[0m\u001b[37m\u001b[0m \u001b[1m0s\u001b[0m 21ms/step\n"
     ]
    },
    {
     "name": "stderr",
     "output_type": "stream",
     "text": [
      "[I 2024-12-01 18:03:37,490] Trial 4 finished with value: -1.0 and parameters: {'hidden_units': 48, 'dropout_rate': 0.30795935848787814, 'learning_rate': 0.0006667234628534814, 'batch_size': 192, 'activation': 'tanh', 'optimizer': 'rmsprop'}. Best is trial 7 with value: -1.0.\n",
      "C:\\Users\\azad.aliyev\\AppData\\Local\\Temp\\ipykernel_17300\\1127333341.py:6: FutureWarning: suggest_loguniform has been deprecated in v3.0.0. This feature will be removed in v6.0.0. See https://github.com/optuna/optuna/releases/tag/v3.0.0. Use suggest_float(..., log=True) instead.\n",
      "  learning_rate = trial.suggest_loguniform(\"learning_rate\", 1e-4, 1e-2)\n"
     ]
    },
    {
     "name": "stdout",
     "output_type": "stream",
     "text": [
      "\u001b[1m7/7\u001b[0m \u001b[32m━━━━━━━━━━━━━━━━━━━━\u001b[0m\u001b[37m\u001b[0m \u001b[1m0s\u001b[0m 29ms/step\n"
     ]
    },
    {
     "name": "stderr",
     "output_type": "stream",
     "text": [
      "[I 2024-12-01 18:03:39,650] Trial 5 finished with value: -1.0 and parameters: {'hidden_units': 16, 'dropout_rate': 0.28694372590219774, 'learning_rate': 0.0037762766557394153, 'batch_size': 256, 'activation': 'tanh', 'optimizer': 'rmsprop'}. Best is trial 7 with value: -1.0.\n",
      "C:\\Users\\azad.aliyev\\AppData\\Local\\Temp\\ipykernel_17300\\1127333341.py:6: FutureWarning: suggest_loguniform has been deprecated in v3.0.0. This feature will be removed in v6.0.0. See https://github.com/optuna/optuna/releases/tag/v3.0.0. Use suggest_float(..., log=True) instead.\n",
      "  learning_rate = trial.suggest_loguniform(\"learning_rate\", 1e-4, 1e-2)\n"
     ]
    },
    {
     "name": "stdout",
     "output_type": "stream",
     "text": [
      "\u001b[1m7/7\u001b[0m \u001b[32m━━━━━━━━━━━━━━━━━━━━\u001b[0m\u001b[37m\u001b[0m \u001b[1m0s\u001b[0m 29ms/step\n"
     ]
    },
    {
     "name": "stderr",
     "output_type": "stream",
     "text": [
      "[I 2024-12-01 18:03:40,459] Trial 0 finished with value: -1.0 and parameters: {'hidden_units': 112, 'dropout_rate': 0.367254749434243, 'learning_rate': 0.00825841894791927, 'batch_size': 192, 'activation': 'relu', 'optimizer': 'rmsprop'}. Best is trial 7 with value: -1.0.\n",
      "C:\\Users\\azad.aliyev\\AppData\\Local\\Temp\\ipykernel_17300\\1127333341.py:6: FutureWarning: suggest_loguniform has been deprecated in v3.0.0. This feature will be removed in v6.0.0. See https://github.com/optuna/optuna/releases/tag/v3.0.0. Use suggest_float(..., log=True) instead.\n",
      "  learning_rate = trial.suggest_loguniform(\"learning_rate\", 1e-4, 1e-2)\n"
     ]
    },
    {
     "name": "stdout",
     "output_type": "stream",
     "text": [
      "\u001b[1m7/7\u001b[0m \u001b[32m━━━━━━━━━━━━━━━━━━━━\u001b[0m\u001b[37m\u001b[0m \u001b[1m0s\u001b[0m 40ms/step\n"
     ]
    },
    {
     "name": "stderr",
     "output_type": "stream",
     "text": [
      "[I 2024-12-01 18:03:41,400] Trial 9 finished with value: -1.0 and parameters: {'hidden_units': 48, 'dropout_rate': 0.33973540435551713, 'learning_rate': 0.00023065385074285715, 'batch_size': 256, 'activation': 'relu', 'optimizer': 'adam'}. Best is trial 7 with value: -1.0.\n",
      "C:\\Users\\azad.aliyev\\AppData\\Local\\Temp\\ipykernel_17300\\1127333341.py:6: FutureWarning: suggest_loguniform has been deprecated in v3.0.0. This feature will be removed in v6.0.0. See https://github.com/optuna/optuna/releases/tag/v3.0.0. Use suggest_float(..., log=True) instead.\n",
      "  learning_rate = trial.suggest_loguniform(\"learning_rate\", 1e-4, 1e-2)\n"
     ]
    },
    {
     "name": "stdout",
     "output_type": "stream",
     "text": [
      "\u001b[1m7/7\u001b[0m \u001b[32m━━━━━━━━━━━━━━━━━━━━\u001b[0m\u001b[37m\u001b[0m \u001b[1m0s\u001b[0m 49ms/step\n",
      "\u001b[1m7/7\u001b[0m \u001b[32m━━━━━━━━━━━━━━━━━━━━\u001b[0m\u001b[37m\u001b[0m \u001b[1m1s\u001b[0m 49ms/step\n",
      "\u001b[1m7/7\u001b[0m \u001b[32m━━━━━━━━━━━━━━━━━━━━\u001b[0m\u001b[37m\u001b[0m \u001b[1m0s\u001b[0m 50ms/step\n",
      "\u001b[1m7/7\u001b[0m \u001b[32m━━━━━━━━━━━━━━━━━━━━\u001b[0m\u001b[37m\u001b[0m \u001b[1m0s\u001b[0m 32ms/step "
     ]
    },
    {
     "name": "stderr",
     "output_type": "stream",
     "text": [
      "[I 2024-12-01 18:03:42,309] Trial 11 finished with value: -1.0 and parameters: {'hidden_units': 16, 'dropout_rate': 0.399941582127313, 'learning_rate': 0.009655108559199986, 'batch_size': 192, 'activation': 'tanh', 'optimizer': 'adam'}. Best is trial 7 with value: -1.0.\n"
     ]
    },
    {
     "name": "stdout",
     "output_type": "stream",
     "text": [
      "\u001b[1m7/7\u001b[0m \u001b[32m━━━━━━━━━━━━━━━━━━━━\u001b[0m\u001b[37m\u001b[0m \u001b[1m0s\u001b[0m 40ms/step\n"
     ]
    },
    {
     "name": "stderr",
     "output_type": "stream",
     "text": [
      "C:\\Users\\azad.aliyev\\AppData\\Local\\Temp\\ipykernel_17300\\1127333341.py:6: FutureWarning: suggest_loguniform has been deprecated in v3.0.0. This feature will be removed in v6.0.0. See https://github.com/optuna/optuna/releases/tag/v3.0.0. Use suggest_float(..., log=True) instead.\n",
      "  learning_rate = trial.suggest_loguniform(\"learning_rate\", 1e-4, 1e-2)\n",
      "[I 2024-12-01 18:03:42,393] Trial 3 finished with value: -1.0 and parameters: {'hidden_units': 32, 'dropout_rate': 0.22879492050042702, 'learning_rate': 0.0003368586740118506, 'batch_size': 256, 'activation': 'tanh', 'optimizer': 'adam'}. Best is trial 7 with value: -1.0.\n",
      "C:\\Users\\azad.aliyev\\AppData\\Local\\Temp\\ipykernel_17300\\1127333341.py:6: FutureWarning: suggest_loguniform has been deprecated in v3.0.0. This feature will be removed in v6.0.0. See https://github.com/optuna/optuna/releases/tag/v3.0.0. Use suggest_float(..., log=True) instead.\n",
      "  learning_rate = trial.suggest_loguniform(\"learning_rate\", 1e-4, 1e-2)\n",
      "[I 2024-12-01 18:03:42,626] Trial 2 finished with value: -1.0 and parameters: {'hidden_units': 16, 'dropout_rate': 0.22702509595212234, 'learning_rate': 0.0006683327252726813, 'batch_size': 192, 'activation': 'tanh', 'optimizer': 'adam'}. Best is trial 7 with value: -1.0.\n"
     ]
    },
    {
     "name": "stdout",
     "output_type": "stream",
     "text": [
      "\u001b[1m5/7\u001b[0m \u001b[32m━━━━━━━━━━━━━━\u001b[0m\u001b[37m━━━━━━\u001b[0m \u001b[1m0s\u001b[0m 29ms/step"
     ]
    },
    {
     "name": "stderr",
     "output_type": "stream",
     "text": [
      "C:\\Users\\azad.aliyev\\AppData\\Local\\Temp\\ipykernel_17300\\1127333341.py:6: FutureWarning: suggest_loguniform has been deprecated in v3.0.0. This feature will be removed in v6.0.0. See https://github.com/optuna/optuna/releases/tag/v3.0.0. Use suggest_float(..., log=True) instead.\n",
      "  learning_rate = trial.suggest_loguniform(\"learning_rate\", 1e-4, 1e-2)\n",
      "[I 2024-12-01 18:03:42,827] Trial 12 finished with value: -1.0 and parameters: {'hidden_units': 32, 'dropout_rate': 0.485127562363209, 'learning_rate': 0.008672352362405539, 'batch_size': 64, 'activation': 'relu', 'optimizer': 'adam'}. Best is trial 7 with value: -1.0.\n",
      "C:\\Users\\azad.aliyev\\AppData\\Local\\Temp\\ipykernel_17300\\1127333341.py:6: FutureWarning: suggest_loguniform has been deprecated in v3.0.0. This feature will be removed in v6.0.0. See https://github.com/optuna/optuna/releases/tag/v3.0.0. Use suggest_float(..., log=True) instead.\n",
      "  learning_rate = trial.suggest_loguniform(\"learning_rate\", 1e-4, 1e-2)\n"
     ]
    },
    {
     "name": "stdout",
     "output_type": "stream",
     "text": [
      "\u001b[1m7/7\u001b[0m \u001b[32m━━━━━━━━━━━━━━━━━━━━\u001b[0m\u001b[37m\u001b[0m \u001b[1m1s\u001b[0m 67ms/step\n"
     ]
    },
    {
     "name": "stderr",
     "output_type": "stream",
     "text": [
      "[I 2024-12-01 18:03:43,527] Trial 6 finished with value: -1.0 and parameters: {'hidden_units': 112, 'dropout_rate': 0.4200580436997914, 'learning_rate': 0.0002109919018181681, 'batch_size': 192, 'activation': 'relu', 'optimizer': 'adam'}. Best is trial 7 with value: -1.0.\n",
      "C:\\Users\\azad.aliyev\\AppData\\Local\\Temp\\ipykernel_17300\\1127333341.py:6: FutureWarning: suggest_loguniform has been deprecated in v3.0.0. This feature will be removed in v6.0.0. See https://github.com/optuna/optuna/releases/tag/v3.0.0. Use suggest_float(..., log=True) instead.\n",
      "  learning_rate = trial.suggest_loguniform(\"learning_rate\", 1e-4, 1e-2)\n"
     ]
    },
    {
     "name": "stdout",
     "output_type": "stream",
     "text": [
      "\u001b[1m7/7\u001b[0m \u001b[32m━━━━━━━━━━━━━━━━━━━━\u001b[0m\u001b[37m\u001b[0m \u001b[1m3s\u001b[0m 390ms/step\n"
     ]
    },
    {
     "name": "stderr",
     "output_type": "stream",
     "text": [
      "[I 2024-12-01 18:03:47,183] Trial 1 finished with value: -1.0 and parameters: {'hidden_units': 16, 'dropout_rate': 0.20567669359010227, 'learning_rate': 0.0025459561642096366, 'batch_size': 128, 'activation': 'tanh', 'optimizer': 'adam'}. Best is trial 7 with value: -1.0.\n",
      "C:\\Users\\azad.aliyev\\AppData\\Local\\Temp\\ipykernel_17300\\1127333341.py:6: FutureWarning: suggest_loguniform has been deprecated in v3.0.0. This feature will be removed in v6.0.0. See https://github.com/optuna/optuna/releases/tag/v3.0.0. Use suggest_float(..., log=True) instead.\n",
      "  learning_rate = trial.suggest_loguniform(\"learning_rate\", 1e-4, 1e-2)\n"
     ]
    },
    {
     "name": "stdout",
     "output_type": "stream",
     "text": [
      "\u001b[1m7/7\u001b[0m \u001b[32m━━━━━━━━━━━━━━━━━━━━\u001b[0m\u001b[37m\u001b[0m \u001b[1m0s\u001b[0m 40ms/step\n"
     ]
    },
    {
     "name": "stderr",
     "output_type": "stream",
     "text": [
      "[I 2024-12-01 18:03:50,743] Trial 10 finished with value: -1.0 and parameters: {'hidden_units': 80, 'dropout_rate': 0.2468632756889909, 'learning_rate': 0.00030500111614074026, 'batch_size': 64, 'activation': 'relu', 'optimizer': 'rmsprop'}. Best is trial 7 with value: -1.0.\n",
      "C:\\Users\\azad.aliyev\\AppData\\Local\\Temp\\ipykernel_17300\\1127333341.py:6: FutureWarning: suggest_loguniform has been deprecated in v3.0.0. This feature will be removed in v6.0.0. See https://github.com/optuna/optuna/releases/tag/v3.0.0. Use suggest_float(..., log=True) instead.\n",
      "  learning_rate = trial.suggest_loguniform(\"learning_rate\", 1e-4, 1e-2)\n"
     ]
    },
    {
     "name": "stdout",
     "output_type": "stream",
     "text": [
      "\u001b[1m7/7\u001b[0m \u001b[32m━━━━━━━━━━━━━━━━━━━━\u001b[0m\u001b[37m\u001b[0m \u001b[1m0s\u001b[0m 29ms/step\n"
     ]
    },
    {
     "name": "stderr",
     "output_type": "stream",
     "text": [
      "[I 2024-12-01 18:03:51,644] Trial 18 finished with value: -1.0 and parameters: {'hidden_units': 112, 'dropout_rate': 0.3475242178528745, 'learning_rate': 0.006134449692511113, 'batch_size': 192, 'activation': 'tanh', 'optimizer': 'rmsprop'}. Best is trial 7 with value: -1.0.\n",
      "C:\\Users\\azad.aliyev\\AppData\\Local\\Temp\\ipykernel_17300\\1127333341.py:6: FutureWarning: suggest_loguniform has been deprecated in v3.0.0. This feature will be removed in v6.0.0. See https://github.com/optuna/optuna/releases/tag/v3.0.0. Use suggest_float(..., log=True) instead.\n",
      "  learning_rate = trial.suggest_loguniform(\"learning_rate\", 1e-4, 1e-2)\n"
     ]
    },
    {
     "name": "stdout",
     "output_type": "stream",
     "text": [
      "\u001b[1m7/7\u001b[0m \u001b[32m━━━━━━━━━━━━━━━━━━━━\u001b[0m\u001b[37m\u001b[0m \u001b[1m0s\u001b[0m 28ms/step\n",
      "\u001b[1m7/7\u001b[0m \u001b[32m━━━━━━━━━━━━━━━━━━━━\u001b[0m\u001b[37m\u001b[0m \u001b[1m0s\u001b[0m 40ms/step\n"
     ]
    },
    {
     "name": "stderr",
     "output_type": "stream",
     "text": [
      "[I 2024-12-01 18:03:55,070] Trial 13 finished with value: -1.0 and parameters: {'hidden_units': 16, 'dropout_rate': 0.4246655734044563, 'learning_rate': 0.0030159695590634113, 'batch_size': 192, 'activation': 'tanh', 'optimizer': 'rmsprop'}. Best is trial 7 with value: -1.0.\n",
      "C:\\Users\\azad.aliyev\\AppData\\Local\\Temp\\ipykernel_17300\\1127333341.py:6: FutureWarning: suggest_loguniform has been deprecated in v3.0.0. This feature will be removed in v6.0.0. See https://github.com/optuna/optuna/releases/tag/v3.0.0. Use suggest_float(..., log=True) instead.\n",
      "  learning_rate = trial.suggest_loguniform(\"learning_rate\", 1e-4, 1e-2)\n",
      "[I 2024-12-01 18:03:55,178] Trial 22 finished with value: -1.0 and parameters: {'hidden_units': 80, 'dropout_rate': 0.2136714526479211, 'learning_rate': 0.0011706080763019906, 'batch_size': 128, 'activation': 'tanh', 'optimizer': 'rmsprop'}. Best is trial 7 with value: -1.0.\n",
      "C:\\Users\\azad.aliyev\\AppData\\Local\\Temp\\ipykernel_17300\\1127333341.py:6: FutureWarning: suggest_loguniform has been deprecated in v3.0.0. This feature will be removed in v6.0.0. See https://github.com/optuna/optuna/releases/tag/v3.0.0. Use suggest_float(..., log=True) instead.\n",
      "  learning_rate = trial.suggest_loguniform(\"learning_rate\", 1e-4, 1e-2)\n"
     ]
    },
    {
     "name": "stdout",
     "output_type": "stream",
     "text": [
      "\u001b[1m7/7\u001b[0m \u001b[32m━━━━━━━━━━━━━━━━━━━━\u001b[0m\u001b[37m\u001b[0m \u001b[1m0s\u001b[0m 34ms/step\n"
     ]
    },
    {
     "name": "stderr",
     "output_type": "stream",
     "text": [
      "[I 2024-12-01 18:03:56,661] Trial 24 finished with value: -1.0 and parameters: {'hidden_units': 128, 'dropout_rate': 0.3825460588096304, 'learning_rate': 0.0019309594973825695, 'batch_size': 128, 'activation': 'tanh', 'optimizer': 'rmsprop'}. Best is trial 7 with value: -1.0.\n",
      "C:\\Users\\azad.aliyev\\AppData\\Local\\Temp\\ipykernel_17300\\1127333341.py:6: FutureWarning: suggest_loguniform has been deprecated in v3.0.0. This feature will be removed in v6.0.0. See https://github.com/optuna/optuna/releases/tag/v3.0.0. Use suggest_float(..., log=True) instead.\n",
      "  learning_rate = trial.suggest_loguniform(\"learning_rate\", 1e-4, 1e-2)\n"
     ]
    },
    {
     "name": "stdout",
     "output_type": "stream",
     "text": [
      "\u001b[1m7/7\u001b[0m \u001b[32m━━━━━━━━━━━━━━━━━━━━\u001b[0m\u001b[37m\u001b[0m \u001b[1m0s\u001b[0m 36ms/step\n",
      "\u001b[1m7/7\u001b[0m \u001b[32m━━━━━━━━━━━━━━━━━━━━\u001b[0m\u001b[37m\u001b[0m \u001b[1m0s\u001b[0m 32ms/step\n"
     ]
    },
    {
     "name": "stderr",
     "output_type": "stream",
     "text": [
      "[I 2024-12-01 18:03:59,928] Trial 14 finished with value: -1.0 and parameters: {'hidden_units': 128, 'dropout_rate': 0.28756099675191454, 'learning_rate': 0.00016722245520939076, 'batch_size': 256, 'activation': 'relu', 'optimizer': 'adam'}. Best is trial 7 with value: -1.0.\n"
     ]
    },
    {
     "name": "stdout",
     "output_type": "stream",
     "text": [
      "\u001b[1m7/7\u001b[0m \u001b[32m━━━━━━━━━━━━━━━━━━━━\u001b[0m\u001b[37m\u001b[0m \u001b[1m0s\u001b[0m 31ms/step "
     ]
    },
    {
     "name": "stderr",
     "output_type": "stream",
     "text": [
      "C:\\Users\\azad.aliyev\\AppData\\Local\\Temp\\ipykernel_17300\\1127333341.py:6: FutureWarning: suggest_loguniform has been deprecated in v3.0.0. This feature will be removed in v6.0.0. See https://github.com/optuna/optuna/releases/tag/v3.0.0. Use suggest_float(..., log=True) instead.\n",
      "  learning_rate = trial.suggest_loguniform(\"learning_rate\", 1e-4, 1e-2)\n"
     ]
    },
    {
     "name": "stdout",
     "output_type": "stream",
     "text": [
      "\u001b[1m7/7\u001b[0m \u001b[32m━━━━━━━━━━━━━━━━━━━━\u001b[0m\u001b[37m\u001b[0m \u001b[1m0s\u001b[0m 38ms/step\n"
     ]
    },
    {
     "name": "stderr",
     "output_type": "stream",
     "text": [
      "[I 2024-12-01 18:04:00,172] Trial 21 finished with value: -1.0 and parameters: {'hidden_units': 128, 'dropout_rate': 0.40081372452929853, 'learning_rate': 0.0019016682855508243, 'batch_size': 64, 'activation': 'relu', 'optimizer': 'rmsprop'}. Best is trial 7 with value: -1.0.\n",
      "C:\\Users\\azad.aliyev\\AppData\\Local\\Temp\\ipykernel_17300\\1127333341.py:6: FutureWarning: suggest_loguniform has been deprecated in v3.0.0. This feature will be removed in v6.0.0. See https://github.com/optuna/optuna/releases/tag/v3.0.0. Use suggest_float(..., log=True) instead.\n",
      "  learning_rate = trial.suggest_loguniform(\"learning_rate\", 1e-4, 1e-2)\n",
      "[I 2024-12-01 18:04:00,380] Trial 15 finished with value: -1.0 and parameters: {'hidden_units': 32, 'dropout_rate': 0.3546781705761469, 'learning_rate': 0.003839281799840312, 'batch_size': 256, 'activation': 'relu', 'optimizer': 'rmsprop'}. Best is trial 7 with value: -1.0.\n",
      "C:\\Users\\azad.aliyev\\AppData\\Local\\Temp\\ipykernel_17300\\1127333341.py:6: FutureWarning: suggest_loguniform has been deprecated in v3.0.0. This feature will be removed in v6.0.0. See https://github.com/optuna/optuna/releases/tag/v3.0.0. Use suggest_float(..., log=True) instead.\n",
      "  learning_rate = trial.suggest_loguniform(\"learning_rate\", 1e-4, 1e-2)\n"
     ]
    },
    {
     "name": "stdout",
     "output_type": "stream",
     "text": [
      "\u001b[1m7/7\u001b[0m \u001b[32m━━━━━━━━━━━━━━━━━━━━\u001b[0m\u001b[37m\u001b[0m \u001b[1m0s\u001b[0m 49ms/step\n"
     ]
    },
    {
     "name": "stderr",
     "output_type": "stream",
     "text": [
      "[I 2024-12-01 18:04:01,856] Trial 19 finished with value: -1.0 and parameters: {'hidden_units': 48, 'dropout_rate': 0.30426870641876863, 'learning_rate': 0.002080193823380471, 'batch_size': 64, 'activation': 'relu', 'optimizer': 'adam'}. Best is trial 7 with value: -1.0.\n",
      "C:\\Users\\azad.aliyev\\AppData\\Local\\Temp\\ipykernel_17300\\1127333341.py:6: FutureWarning: suggest_loguniform has been deprecated in v3.0.0. This feature will be removed in v6.0.0. See https://github.com/optuna/optuna/releases/tag/v3.0.0. Use suggest_float(..., log=True) instead.\n",
      "  learning_rate = trial.suggest_loguniform(\"learning_rate\", 1e-4, 1e-2)\n"
     ]
    },
    {
     "name": "stdout",
     "output_type": "stream",
     "text": [
      "\u001b[1m7/7\u001b[0m \u001b[32m━━━━━━━━━━━━━━━━━━━━\u001b[0m\u001b[37m\u001b[0m \u001b[1m0s\u001b[0m 46ms/step\n"
     ]
    },
    {
     "name": "stderr",
     "output_type": "stream",
     "text": [
      "[I 2024-12-01 18:04:04,913] Trial 23 finished with value: -1.0 and parameters: {'hidden_units': 80, 'dropout_rate': 0.38172514469059204, 'learning_rate': 0.0019576792132431167, 'batch_size': 64, 'activation': 'relu', 'optimizer': 'rmsprop'}. Best is trial 7 with value: -1.0.\n",
      "C:\\Users\\azad.aliyev\\AppData\\Local\\Temp\\ipykernel_17300\\1127333341.py:6: FutureWarning: suggest_loguniform has been deprecated in v3.0.0. This feature will be removed in v6.0.0. See https://github.com/optuna/optuna/releases/tag/v3.0.0. Use suggest_float(..., log=True) instead.\n",
      "  learning_rate = trial.suggest_loguniform(\"learning_rate\", 1e-4, 1e-2)\n"
     ]
    },
    {
     "name": "stdout",
     "output_type": "stream",
     "text": [
      "\u001b[1m7/7\u001b[0m \u001b[32m━━━━━━━━━━━━━━━━━━━━\u001b[0m\u001b[37m\u001b[0m \u001b[1m0s\u001b[0m 42ms/step\n"
     ]
    },
    {
     "name": "stderr",
     "output_type": "stream",
     "text": [
      "[I 2024-12-01 18:04:06,173] Trial 17 finished with value: -1.0 and parameters: {'hidden_units': 16, 'dropout_rate': 0.21084062295557732, 'learning_rate': 0.0002997464598581467, 'batch_size': 128, 'activation': 'tanh', 'optimizer': 'adam'}. Best is trial 7 with value: -1.0.\n",
      "C:\\Users\\azad.aliyev\\AppData\\Local\\Temp\\ipykernel_17300\\1127333341.py:6: FutureWarning: suggest_loguniform has been deprecated in v3.0.0. This feature will be removed in v6.0.0. See https://github.com/optuna/optuna/releases/tag/v3.0.0. Use suggest_float(..., log=True) instead.\n",
      "  learning_rate = trial.suggest_loguniform(\"learning_rate\", 1e-4, 1e-2)\n"
     ]
    },
    {
     "name": "stdout",
     "output_type": "stream",
     "text": [
      "\u001b[1m7/7\u001b[0m \u001b[32m━━━━━━━━━━━━━━━━━━━━\u001b[0m\u001b[37m\u001b[0m \u001b[1m0s\u001b[0m 33ms/step\n"
     ]
    },
    {
     "name": "stderr",
     "output_type": "stream",
     "text": [
      "[I 2024-12-01 18:04:08,132] Trial 30 finished with value: -1.0 and parameters: {'hidden_units': 96, 'dropout_rate': 0.4915853286738283, 'learning_rate': 0.004861375964028047, 'batch_size': 128, 'activation': 'relu', 'optimizer': 'adam'}. Best is trial 7 with value: -1.0.\n",
      "C:\\Users\\azad.aliyev\\AppData\\Local\\Temp\\ipykernel_17300\\1127333341.py:6: FutureWarning: suggest_loguniform has been deprecated in v3.0.0. This feature will be removed in v6.0.0. See https://github.com/optuna/optuna/releases/tag/v3.0.0. Use suggest_float(..., log=True) instead.\n",
      "  learning_rate = trial.suggest_loguniform(\"learning_rate\", 1e-4, 1e-2)\n"
     ]
    },
    {
     "name": "stdout",
     "output_type": "stream",
     "text": [
      "\u001b[1m7/7\u001b[0m \u001b[32m━━━━━━━━━━━━━━━━━━━━\u001b[0m\u001b[37m\u001b[0m \u001b[1m0s\u001b[0m 36ms/step\n",
      "\u001b[1m6/7\u001b[0m \u001b[32m━━━━━━━━━━━━━━━━━\u001b[0m\u001b[37m━━━\u001b[0m \u001b[1m0s\u001b[0m 22ms/step"
     ]
    },
    {
     "name": "stderr",
     "output_type": "stream",
     "text": [
      "[I 2024-12-01 18:04:09,642] Trial 20 finished with value: -1.0 and parameters: {'hidden_units': 48, 'dropout_rate': 0.21705663115127, 'learning_rate': 0.002255540776535963, 'batch_size': 64, 'activation': 'relu', 'optimizer': 'rmsprop'}. Best is trial 7 with value: -1.0.\n"
     ]
    },
    {
     "name": "stdout",
     "output_type": "stream",
     "text": [
      "\u001b[1m7/7\u001b[0m \u001b[32m━━━━━━━━━━━━━━━━━━━━\u001b[0m\u001b[37m\u001b[0m \u001b[1m0s\u001b[0m 46ms/step\n"
     ]
    },
    {
     "name": "stderr",
     "output_type": "stream",
     "text": [
      "C:\\Users\\azad.aliyev\\AppData\\Local\\Temp\\ipykernel_17300\\1127333341.py:6: FutureWarning: suggest_loguniform has been deprecated in v3.0.0. This feature will be removed in v6.0.0. See https://github.com/optuna/optuna/releases/tag/v3.0.0. Use suggest_float(..., log=True) instead.\n",
      "  learning_rate = trial.suggest_loguniform(\"learning_rate\", 1e-4, 1e-2)\n"
     ]
    },
    {
     "name": "stdout",
     "output_type": "stream",
     "text": [
      "\u001b[1m7/7\u001b[0m \u001b[32m━━━━━━━━━━━━━━━━━━━━\u001b[0m\u001b[37m\u001b[0m \u001b[1m0s\u001b[0m 33ms/step\n"
     ]
    },
    {
     "name": "stderr",
     "output_type": "stream",
     "text": [
      "[I 2024-12-01 18:04:09,992] Trial 16 finished with value: -1.0 and parameters: {'hidden_units': 16, 'dropout_rate': 0.3649162512577512, 'learning_rate': 0.0002895571191145676, 'batch_size': 64, 'activation': 'relu', 'optimizer': 'rmsprop'}. Best is trial 7 with value: -1.0.\n",
      "C:\\Users\\azad.aliyev\\AppData\\Local\\Temp\\ipykernel_17300\\1127333341.py:6: FutureWarning: suggest_loguniform has been deprecated in v3.0.0. This feature will be removed in v6.0.0. See https://github.com/optuna/optuna/releases/tag/v3.0.0. Use suggest_float(..., log=True) instead.\n",
      "  learning_rate = trial.suggest_loguniform(\"learning_rate\", 1e-4, 1e-2)\n",
      "[I 2024-12-01 18:04:10,208] Trial 25 finished with value: -1.0 and parameters: {'hidden_units': 128, 'dropout_rate': 0.400294060743208, 'learning_rate': 0.0018310097546472754, 'batch_size': 128, 'activation': 'relu', 'optimizer': 'rmsprop'}. Best is trial 7 with value: -1.0.\n",
      "C:\\Users\\azad.aliyev\\AppData\\Local\\Temp\\ipykernel_17300\\1127333341.py:6: FutureWarning: suggest_loguniform has been deprecated in v3.0.0. This feature will be removed in v6.0.0. See https://github.com/optuna/optuna/releases/tag/v3.0.0. Use suggest_float(..., log=True) instead.\n",
      "  learning_rate = trial.suggest_loguniform(\"learning_rate\", 1e-4, 1e-2)\n"
     ]
    },
    {
     "name": "stdout",
     "output_type": "stream",
     "text": [
      "\u001b[1m7/7\u001b[0m \u001b[32m━━━━━━━━━━━━━━━━━━━━\u001b[0m\u001b[37m\u001b[0m \u001b[1m0s\u001b[0m 32ms/step\n"
     ]
    },
    {
     "name": "stderr",
     "output_type": "stream",
     "text": [
      "[I 2024-12-01 18:04:14,029] Trial 27 finished with value: -1.0 and parameters: {'hidden_units': 128, 'dropout_rate': 0.3816707630666773, 'learning_rate': 0.0019049283600366686, 'batch_size': 128, 'activation': 'relu', 'optimizer': 'rmsprop'}. Best is trial 7 with value: -1.0.\n",
      "C:\\Users\\azad.aliyev\\AppData\\Local\\Temp\\ipykernel_17300\\1127333341.py:6: FutureWarning: suggest_loguniform has been deprecated in v3.0.0. This feature will be removed in v6.0.0. See https://github.com/optuna/optuna/releases/tag/v3.0.0. Use suggest_float(..., log=True) instead.\n",
      "  learning_rate = trial.suggest_loguniform(\"learning_rate\", 1e-4, 1e-2)\n"
     ]
    },
    {
     "name": "stdout",
     "output_type": "stream",
     "text": [
      "\u001b[1m7/7\u001b[0m \u001b[32m━━━━━━━━━━━━━━━━━━━━\u001b[0m\u001b[37m\u001b[0m \u001b[1m0s\u001b[0m 29ms/step\n"
     ]
    },
    {
     "name": "stderr",
     "output_type": "stream",
     "text": [
      "[I 2024-12-01 18:04:15,963] Trial 26 finished with value: -1.0 and parameters: {'hidden_units': 128, 'dropout_rate': 0.39549908081231144, 'learning_rate': 0.0017296639063080837, 'batch_size': 128, 'activation': 'relu', 'optimizer': 'rmsprop'}. Best is trial 7 with value: -1.0.\n",
      "C:\\Users\\azad.aliyev\\AppData\\Local\\Temp\\ipykernel_17300\\1127333341.py:6: FutureWarning: suggest_loguniform has been deprecated in v3.0.0. This feature will be removed in v6.0.0. See https://github.com/optuna/optuna/releases/tag/v3.0.0. Use suggest_float(..., log=True) instead.\n",
      "  learning_rate = trial.suggest_loguniform(\"learning_rate\", 1e-4, 1e-2)\n"
     ]
    },
    {
     "name": "stdout",
     "output_type": "stream",
     "text": [
      "\u001b[1m7/7\u001b[0m \u001b[32m━━━━━━━━━━━━━━━━━━━━\u001b[0m\u001b[37m\u001b[0m \u001b[1m0s\u001b[0m 43ms/step\n"
     ]
    },
    {
     "name": "stderr",
     "output_type": "stream",
     "text": [
      "[I 2024-12-01 18:04:17,580] Trial 32 finished with value: -1.0 and parameters: {'hidden_units': 64, 'dropout_rate': 0.2495120406658032, 'learning_rate': 0.0006595332555874255, 'batch_size': 128, 'activation': 'tanh', 'optimizer': 'adam'}. Best is trial 7 with value: -1.0.\n",
      "C:\\Users\\azad.aliyev\\AppData\\Local\\Temp\\ipykernel_17300\\1127333341.py:6: FutureWarning: suggest_loguniform has been deprecated in v3.0.0. This feature will be removed in v6.0.0. See https://github.com/optuna/optuna/releases/tag/v3.0.0. Use suggest_float(..., log=True) instead.\n",
      "  learning_rate = trial.suggest_loguniform(\"learning_rate\", 1e-4, 1e-2)\n"
     ]
    },
    {
     "name": "stdout",
     "output_type": "stream",
     "text": [
      "\u001b[1m7/7\u001b[0m \u001b[32m━━━━━━━━━━━━━━━━━━━━\u001b[0m\u001b[37m\u001b[0m \u001b[1m0s\u001b[0m 49ms/step\n"
     ]
    },
    {
     "name": "stderr",
     "output_type": "stream",
     "text": [
      "[I 2024-12-01 18:04:18,757] Trial 28 finished with value: -1.0 and parameters: {'hidden_units': 96, 'dropout_rate': 0.4826028061070172, 'learning_rate': 0.0017403802996542991, 'batch_size': 128, 'activation': 'relu', 'optimizer': 'adam'}. Best is trial 7 with value: -1.0.\n",
      "C:\\Users\\azad.aliyev\\AppData\\Local\\Temp\\ipykernel_17300\\1127333341.py:6: FutureWarning: suggest_loguniform has been deprecated in v3.0.0. This feature will be removed in v6.0.0. See https://github.com/optuna/optuna/releases/tag/v3.0.0. Use suggest_float(..., log=True) instead.\n",
      "  learning_rate = trial.suggest_loguniform(\"learning_rate\", 1e-4, 1e-2)\n"
     ]
    },
    {
     "name": "stdout",
     "output_type": "stream",
     "text": [
      "\u001b[1m7/7\u001b[0m \u001b[32m━━━━━━━━━━━━━━━━━━━━\u001b[0m\u001b[37m\u001b[0m \u001b[1m0s\u001b[0m 26ms/step\n"
     ]
    },
    {
     "name": "stderr",
     "output_type": "stream",
     "text": [
      "[I 2024-12-01 18:04:20,617] Trial 35 finished with value: -1.0 and parameters: {'hidden_units': 64, 'dropout_rate': 0.25556616990572345, 'learning_rate': 0.000660092279552885, 'batch_size': 128, 'activation': 'tanh', 'optimizer': 'adam'}. Best is trial 7 with value: -1.0.\n",
      "C:\\Users\\azad.aliyev\\AppData\\Local\\Temp\\ipykernel_17300\\1127333341.py:6: FutureWarning: suggest_loguniform has been deprecated in v3.0.0. This feature will be removed in v6.0.0. See https://github.com/optuna/optuna/releases/tag/v3.0.0. Use suggest_float(..., log=True) instead.\n",
      "  learning_rate = trial.suggest_loguniform(\"learning_rate\", 1e-4, 1e-2)\n"
     ]
    },
    {
     "name": "stdout",
     "output_type": "stream",
     "text": [
      "\u001b[1m7/7\u001b[0m \u001b[32m━━━━━━━━━━━━━━━━━━━━\u001b[0m\u001b[37m\u001b[0m \u001b[1m0s\u001b[0m 39ms/step\n",
      "\u001b[1m7/7\u001b[0m \u001b[32m━━━━━━━━━━━━━━━━━━━━\u001b[0m\u001b[37m\u001b[0m \u001b[1m0s\u001b[0m 46ms/step\n"
     ]
    },
    {
     "name": "stderr",
     "output_type": "stream",
     "text": [
      "[I 2024-12-01 18:04:22,400] Trial 37 finished with value: -1.0 and parameters: {'hidden_units': 96, 'dropout_rate': 0.24993335666778266, 'learning_rate': 0.0006182363024345129, 'batch_size': 128, 'activation': 'tanh', 'optimizer': 'adam'}. Best is trial 7 with value: -1.0.\n",
      "C:\\Users\\azad.aliyev\\AppData\\Local\\Temp\\ipykernel_17300\\1127333341.py:6: FutureWarning: suggest_loguniform has been deprecated in v3.0.0. This feature will be removed in v6.0.0. See https://github.com/optuna/optuna/releases/tag/v3.0.0. Use suggest_float(..., log=True) instead.\n",
      "  learning_rate = trial.suggest_loguniform(\"learning_rate\", 1e-4, 1e-2)\n",
      "[I 2024-12-01 18:04:22,667] Trial 29 finished with value: -1.0 and parameters: {'hidden_units': 96, 'dropout_rate': 0.4614436245914952, 'learning_rate': 0.001666410843224582, 'batch_size': 128, 'activation': 'relu', 'optimizer': 'adam'}. Best is trial 7 with value: -1.0.\n",
      "C:\\Users\\azad.aliyev\\AppData\\Local\\Temp\\ipykernel_17300\\1127333341.py:6: FutureWarning: suggest_loguniform has been deprecated in v3.0.0. This feature will be removed in v6.0.0. See https://github.com/optuna/optuna/releases/tag/v3.0.0. Use suggest_float(..., log=True) instead.\n",
      "  learning_rate = trial.suggest_loguniform(\"learning_rate\", 1e-4, 1e-2)\n"
     ]
    },
    {
     "name": "stdout",
     "output_type": "stream",
     "text": [
      "\u001b[1m7/7\u001b[0m \u001b[32m━━━━━━━━━━━━━━━━━━━━\u001b[0m\u001b[37m\u001b[0m \u001b[1m0s\u001b[0m 45ms/step\n"
     ]
    },
    {
     "name": "stderr",
     "output_type": "stream",
     "text": [
      "[I 2024-12-01 18:04:24,209] Trial 31 finished with value: -1.0 and parameters: {'hidden_units': 96, 'dropout_rate': 0.48020056496768937, 'learning_rate': 0.00010464675892219715, 'batch_size': 128, 'activation': 'tanh', 'optimizer': 'adam'}. Best is trial 7 with value: -1.0.\n",
      "C:\\Users\\azad.aliyev\\AppData\\Local\\Temp\\ipykernel_17300\\1127333341.py:6: FutureWarning: suggest_loguniform has been deprecated in v3.0.0. This feature will be removed in v6.0.0. See https://github.com/optuna/optuna/releases/tag/v3.0.0. Use suggest_float(..., log=True) instead.\n",
      "  learning_rate = trial.suggest_loguniform(\"learning_rate\", 1e-4, 1e-2)\n"
     ]
    },
    {
     "name": "stdout",
     "output_type": "stream",
     "text": [
      "\u001b[1m7/7\u001b[0m \u001b[32m━━━━━━━━━━━━━━━━━━━━\u001b[0m\u001b[37m\u001b[0m \u001b[1m0s\u001b[0m 42ms/step\n"
     ]
    },
    {
     "name": "stderr",
     "output_type": "stream",
     "text": [
      "[I 2024-12-01 18:04:26,886] Trial 33 finished with value: -1.0 and parameters: {'hidden_units': 64, 'dropout_rate': 0.20832204087792847, 'learning_rate': 0.0006502548679219459, 'batch_size': 128, 'activation': 'tanh', 'optimizer': 'adam'}. Best is trial 7 with value: -1.0.\n",
      "C:\\Users\\azad.aliyev\\AppData\\Local\\Temp\\ipykernel_17300\\1127333341.py:6: FutureWarning: suggest_loguniform has been deprecated in v3.0.0. This feature will be removed in v6.0.0. See https://github.com/optuna/optuna/releases/tag/v3.0.0. Use suggest_float(..., log=True) instead.\n",
      "  learning_rate = trial.suggest_loguniform(\"learning_rate\", 1e-4, 1e-2)\n"
     ]
    },
    {
     "name": "stdout",
     "output_type": "stream",
     "text": [
      "\u001b[1m7/7\u001b[0m \u001b[32m━━━━━━━━━━━━━━━━━━━━\u001b[0m\u001b[37m\u001b[0m \u001b[1m0s\u001b[0m 38ms/step\n"
     ]
    },
    {
     "name": "stderr",
     "output_type": "stream",
     "text": [
      "[I 2024-12-01 18:04:29,537] Trial 34 finished with value: -1.0 and parameters: {'hidden_units': 64, 'dropout_rate': 0.24710382829012714, 'learning_rate': 0.0005949353841559866, 'batch_size': 128, 'activation': 'tanh', 'optimizer': 'adam'}. Best is trial 7 with value: -1.0.\n",
      "C:\\Users\\azad.aliyev\\AppData\\Local\\Temp\\ipykernel_17300\\1127333341.py:6: FutureWarning: suggest_loguniform has been deprecated in v3.0.0. This feature will be removed in v6.0.0. See https://github.com/optuna/optuna/releases/tag/v3.0.0. Use suggest_float(..., log=True) instead.\n",
      "  learning_rate = trial.suggest_loguniform(\"learning_rate\", 1e-4, 1e-2)\n"
     ]
    },
    {
     "name": "stdout",
     "output_type": "stream",
     "text": [
      "\u001b[1m7/7\u001b[0m \u001b[32m━━━━━━━━━━━━━━━━━━━━\u001b[0m\u001b[37m\u001b[0m \u001b[1m0s\u001b[0m 33ms/step\n"
     ]
    },
    {
     "name": "stderr",
     "output_type": "stream",
     "text": [
      "[I 2024-12-01 18:04:31,298] Trial 38 finished with value: -1.0 and parameters: {'hidden_units': 64, 'dropout_rate': 0.25203649338567213, 'learning_rate': 0.0006088377975516841, 'batch_size': 192, 'activation': 'tanh', 'optimizer': 'adam'}. Best is trial 7 with value: -1.0.\n",
      "C:\\Users\\azad.aliyev\\AppData\\Local\\Temp\\ipykernel_17300\\1127333341.py:6: FutureWarning: suggest_loguniform has been deprecated in v3.0.0. This feature will be removed in v6.0.0. See https://github.com/optuna/optuna/releases/tag/v3.0.0. Use suggest_float(..., log=True) instead.\n",
      "  learning_rate = trial.suggest_loguniform(\"learning_rate\", 1e-4, 1e-2)\n"
     ]
    },
    {
     "name": "stdout",
     "output_type": "stream",
     "text": [
      "\u001b[1m7/7\u001b[0m \u001b[32m━━━━━━━━━━━━━━━━━━━━\u001b[0m\u001b[37m\u001b[0m \u001b[1m0s\u001b[0m 42ms/step\n"
     ]
    },
    {
     "name": "stderr",
     "output_type": "stream",
     "text": [
      "[I 2024-12-01 18:04:32,448] Trial 36 finished with value: -1.0 and parameters: {'hidden_units': 64, 'dropout_rate': 0.25640689196669736, 'learning_rate': 0.0005224299029971127, 'batch_size': 128, 'activation': 'tanh', 'optimizer': 'adam'}. Best is trial 7 with value: -1.0.\n",
      "C:\\Users\\azad.aliyev\\AppData\\Local\\Temp\\ipykernel_17300\\1127333341.py:6: FutureWarning: suggest_loguniform has been deprecated in v3.0.0. This feature will be removed in v6.0.0. See https://github.com/optuna/optuna/releases/tag/v3.0.0. Use suggest_float(..., log=True) instead.\n",
      "  learning_rate = trial.suggest_loguniform(\"learning_rate\", 1e-4, 1e-2)\n"
     ]
    },
    {
     "name": "stdout",
     "output_type": "stream",
     "text": [
      "\u001b[1m7/7\u001b[0m \u001b[32m━━━━━━━━━━━━━━━━━━━━\u001b[0m\u001b[37m\u001b[0m \u001b[1m0s\u001b[0m 30ms/step\n"
     ]
    },
    {
     "name": "stderr",
     "output_type": "stream",
     "text": [
      "[I 2024-12-01 18:04:34,959] Trial 39 finished with value: -1.0 and parameters: {'hidden_units': 64, 'dropout_rate': 0.2485383743480585, 'learning_rate': 0.0005510199532007419, 'batch_size': 192, 'activation': 'tanh', 'optimizer': 'adam'}. Best is trial 7 with value: -1.0.\n",
      "C:\\Users\\azad.aliyev\\AppData\\Local\\Temp\\ipykernel_17300\\1127333341.py:6: FutureWarning: suggest_loguniform has been deprecated in v3.0.0. This feature will be removed in v6.0.0. See https://github.com/optuna/optuna/releases/tag/v3.0.0. Use suggest_float(..., log=True) instead.\n",
      "  learning_rate = trial.suggest_loguniform(\"learning_rate\", 1e-4, 1e-2)\n"
     ]
    },
    {
     "name": "stdout",
     "output_type": "stream",
     "text": [
      "\u001b[1m7/7\u001b[0m \u001b[32m━━━━━━━━━━━━━━━━━━━━\u001b[0m\u001b[37m\u001b[0m \u001b[1m0s\u001b[0m 29ms/step\n"
     ]
    },
    {
     "name": "stderr",
     "output_type": "stream",
     "text": [
      "[I 2024-12-01 18:04:36,609] Trial 40 finished with value: -1.0 and parameters: {'hidden_units': 64, 'dropout_rate': 0.24267492454598502, 'learning_rate': 0.0005427803147497809, 'batch_size': 192, 'activation': 'tanh', 'optimizer': 'adam'}. Best is trial 7 with value: -1.0.\n",
      "C:\\Users\\azad.aliyev\\AppData\\Local\\Temp\\ipykernel_17300\\1127333341.py:6: FutureWarning: suggest_loguniform has been deprecated in v3.0.0. This feature will be removed in v6.0.0. See https://github.com/optuna/optuna/releases/tag/v3.0.0. Use suggest_float(..., log=True) instead.\n",
      "  learning_rate = trial.suggest_loguniform(\"learning_rate\", 1e-4, 1e-2)\n"
     ]
    },
    {
     "name": "stdout",
     "output_type": "stream",
     "text": [
      "\u001b[1m7/7\u001b[0m \u001b[32m━━━━━━━━━━━━━━━━━━━━\u001b[0m\u001b[37m\u001b[0m \u001b[1m0s\u001b[0m 35ms/step\n"
     ]
    },
    {
     "name": "stderr",
     "output_type": "stream",
     "text": [
      "[I 2024-12-01 18:04:37,961] Trial 41 finished with value: -1.0 and parameters: {'hidden_units': 64, 'dropout_rate': 0.23493813154493207, 'learning_rate': 0.00010288663491125698, 'batch_size': 192, 'activation': 'tanh', 'optimizer': 'adam'}. Best is trial 7 with value: -1.0.\n",
      "C:\\Users\\azad.aliyev\\AppData\\Local\\Temp\\ipykernel_17300\\1127333341.py:6: FutureWarning: suggest_loguniform has been deprecated in v3.0.0. This feature will be removed in v6.0.0. See https://github.com/optuna/optuna/releases/tag/v3.0.0. Use suggest_float(..., log=True) instead.\n",
      "  learning_rate = trial.suggest_loguniform(\"learning_rate\", 1e-4, 1e-2)\n"
     ]
    },
    {
     "name": "stdout",
     "output_type": "stream",
     "text": [
      "\u001b[1m7/7\u001b[0m \u001b[32m━━━━━━━━━━━━━━━━━━━━\u001b[0m\u001b[37m\u001b[0m \u001b[1m0s\u001b[0m 42ms/step\n"
     ]
    },
    {
     "name": "stderr",
     "output_type": "stream",
     "text": [
      "[I 2024-12-01 18:04:38,935] Trial 42 finished with value: -1.0 and parameters: {'hidden_units': 32, 'dropout_rate': 0.2354906092793671, 'learning_rate': 0.0006043109366361098, 'batch_size': 192, 'activation': 'tanh', 'optimizer': 'adam'}. Best is trial 7 with value: -1.0.\n",
      "C:\\Users\\azad.aliyev\\AppData\\Local\\Temp\\ipykernel_17300\\1127333341.py:6: FutureWarning: suggest_loguniform has been deprecated in v3.0.0. This feature will be removed in v6.0.0. See https://github.com/optuna/optuna/releases/tag/v3.0.0. Use suggest_float(..., log=True) instead.\n",
      "  learning_rate = trial.suggest_loguniform(\"learning_rate\", 1e-4, 1e-2)\n"
     ]
    },
    {
     "name": "stdout",
     "output_type": "stream",
     "text": [
      "\u001b[1m7/7\u001b[0m \u001b[32m━━━━━━━━━━━━━━━━━━━━\u001b[0m\u001b[37m\u001b[0m \u001b[1m0s\u001b[0m 32ms/step\n"
     ]
    },
    {
     "name": "stderr",
     "output_type": "stream",
     "text": [
      "[I 2024-12-01 18:04:40,695] Trial 43 finished with value: -1.0 and parameters: {'hidden_units': 32, 'dropout_rate': 0.2343865736353658, 'learning_rate': 0.000514319056919933, 'batch_size': 192, 'activation': 'tanh', 'optimizer': 'adam'}. Best is trial 7 with value: -1.0.\n",
      "C:\\Users\\azad.aliyev\\AppData\\Local\\Temp\\ipykernel_17300\\1127333341.py:6: FutureWarning: suggest_loguniform has been deprecated in v3.0.0. This feature will be removed in v6.0.0. See https://github.com/optuna/optuna/releases/tag/v3.0.0. Use suggest_float(..., log=True) instead.\n",
      "  learning_rate = trial.suggest_loguniform(\"learning_rate\", 1e-4, 1e-2)\n"
     ]
    },
    {
     "name": "stdout",
     "output_type": "stream",
     "text": [
      "\u001b[1m7/7\u001b[0m \u001b[32m━━━━━━━━━━━━━━━━━━━━\u001b[0m\u001b[37m\u001b[0m \u001b[1m0s\u001b[0m 33ms/step\n"
     ]
    },
    {
     "name": "stderr",
     "output_type": "stream",
     "text": [
      "[I 2024-12-01 18:04:42,446] Trial 44 finished with value: -1.0 and parameters: {'hidden_units': 32, 'dropout_rate': 0.222592387408897, 'learning_rate': 0.00045284746442894987, 'batch_size': 192, 'activation': 'tanh', 'optimizer': 'adam'}. Best is trial 7 with value: -1.0.\n",
      "C:\\Users\\azad.aliyev\\AppData\\Local\\Temp\\ipykernel_17300\\1127333341.py:6: FutureWarning: suggest_loguniform has been deprecated in v3.0.0. This feature will be removed in v6.0.0. See https://github.com/optuna/optuna/releases/tag/v3.0.0. Use suggest_float(..., log=True) instead.\n",
      "  learning_rate = trial.suggest_loguniform(\"learning_rate\", 1e-4, 1e-2)\n"
     ]
    },
    {
     "name": "stdout",
     "output_type": "stream",
     "text": [
      "\u001b[1m7/7\u001b[0m \u001b[32m━━━━━━━━━━━━━━━━━━━━\u001b[0m\u001b[37m\u001b[0m \u001b[1m0s\u001b[0m 39ms/step\n",
      "\u001b[1m7/7\u001b[0m \u001b[32m━━━━━━━━━━━━━━━━━━━━\u001b[0m\u001b[37m\u001b[0m \u001b[1m0s\u001b[0m 32ms/step\n"
     ]
    },
    {
     "name": "stderr",
     "output_type": "stream",
     "text": [
      "[I 2024-12-01 18:04:44,262] Trial 46 finished with value: -1.0 and parameters: {'hidden_units': 32, 'dropout_rate': 0.23294546311584555, 'learning_rate': 0.00045868141315715, 'batch_size': 192, 'activation': 'tanh', 'optimizer': 'adam'}. Best is trial 7 with value: -1.0.\n",
      "C:\\Users\\azad.aliyev\\AppData\\Local\\Temp\\ipykernel_17300\\1127333341.py:6: FutureWarning: suggest_loguniform has been deprecated in v3.0.0. This feature will be removed in v6.0.0. See https://github.com/optuna/optuna/releases/tag/v3.0.0. Use suggest_float(..., log=True) instead.\n",
      "  learning_rate = trial.suggest_loguniform(\"learning_rate\", 1e-4, 1e-2)\n",
      "[I 2024-12-01 18:04:44,345] Trial 45 finished with value: -1.0 and parameters: {'hidden_units': 32, 'dropout_rate': 0.2294584516221696, 'learning_rate': 0.00044298590865228494, 'batch_size': 192, 'activation': 'tanh', 'optimizer': 'adam'}. Best is trial 7 with value: -1.0.\n",
      "C:\\Users\\azad.aliyev\\AppData\\Local\\Temp\\ipykernel_17300\\1127333341.py:6: FutureWarning: suggest_loguniform has been deprecated in v3.0.0. This feature will be removed in v6.0.0. See https://github.com/optuna/optuna/releases/tag/v3.0.0. Use suggest_float(..., log=True) instead.\n",
      "  learning_rate = trial.suggest_loguniform(\"learning_rate\", 1e-4, 1e-2)\n"
     ]
    },
    {
     "name": "stdout",
     "output_type": "stream",
     "text": [
      "\u001b[1m7/7\u001b[0m \u001b[32m━━━━━━━━━━━━━━━━━━━━\u001b[0m\u001b[37m\u001b[0m \u001b[1m0s\u001b[0m 32ms/step\n"
     ]
    },
    {
     "name": "stderr",
     "output_type": "stream",
     "text": [
      "[I 2024-12-01 18:04:46,756] Trial 47 finished with value: -1.0 and parameters: {'hidden_units': 32, 'dropout_rate': 0.2302344801284594, 'learning_rate': 0.0004288334576334523, 'batch_size': 192, 'activation': 'tanh', 'optimizer': 'adam'}. Best is trial 7 with value: -1.0.\n",
      "C:\\Users\\azad.aliyev\\AppData\\Local\\Temp\\ipykernel_17300\\1127333341.py:6: FutureWarning: suggest_loguniform has been deprecated in v3.0.0. This feature will be removed in v6.0.0. See https://github.com/optuna/optuna/releases/tag/v3.0.0. Use suggest_float(..., log=True) instead.\n",
      "  learning_rate = trial.suggest_loguniform(\"learning_rate\", 1e-4, 1e-2)\n"
     ]
    },
    {
     "name": "stdout",
     "output_type": "stream",
     "text": [
      "\u001b[1m7/7\u001b[0m \u001b[32m━━━━━━━━━━━━━━━━━━━━\u001b[0m\u001b[37m\u001b[0m \u001b[1m0s\u001b[0m 29ms/step\n"
     ]
    },
    {
     "name": "stderr",
     "output_type": "stream",
     "text": [
      "[I 2024-12-01 18:04:47,840] Trial 48 finished with value: -1.0 and parameters: {'hidden_units': 32, 'dropout_rate': 0.22811339484113233, 'learning_rate': 0.00043781473145713913, 'batch_size': 256, 'activation': 'tanh', 'optimizer': 'adam'}. Best is trial 7 with value: -1.0.\n",
      "C:\\Users\\azad.aliyev\\AppData\\Local\\Temp\\ipykernel_17300\\1127333341.py:6: FutureWarning: suggest_loguniform has been deprecated in v3.0.0. This feature will be removed in v6.0.0. See https://github.com/optuna/optuna/releases/tag/v3.0.0. Use suggest_float(..., log=True) instead.\n",
      "  learning_rate = trial.suggest_loguniform(\"learning_rate\", 1e-4, 1e-2)\n"
     ]
    },
    {
     "name": "stdout",
     "output_type": "stream",
     "text": [
      "\u001b[1m7/7\u001b[0m \u001b[32m━━━━━━━━━━━━━━━━━━━━\u001b[0m\u001b[37m\u001b[0m \u001b[1m0s\u001b[0m 26ms/step\n",
      "\u001b[1m7/7\u001b[0m \u001b[32m━━━━━━━━━━━━━━━━━━━━\u001b[0m\u001b[37m\u001b[0m \u001b[1m0s\u001b[0m 41ms/step\n"
     ]
    },
    {
     "name": "stderr",
     "output_type": "stream",
     "text": [
      "[I 2024-12-01 18:04:50,567] Trial 49 finished with value: -1.0 and parameters: {'hidden_units': 32, 'dropout_rate': 0.22960009829744193, 'learning_rate': 0.0004362373996762967, 'batch_size': 256, 'activation': 'tanh', 'optimizer': 'adam'}. Best is trial 7 with value: -1.0.\n",
      "C:\\Users\\azad.aliyev\\AppData\\Local\\Temp\\ipykernel_17300\\1127333341.py:6: FutureWarning: suggest_loguniform has been deprecated in v3.0.0. This feature will be removed in v6.0.0. See https://github.com/optuna/optuna/releases/tag/v3.0.0. Use suggest_float(..., log=True) instead.\n",
      "  learning_rate = trial.suggest_loguniform(\"learning_rate\", 1e-4, 1e-2)\n",
      "[I 2024-12-01 18:04:50,733] Trial 50 finished with value: -1.0 and parameters: {'hidden_units': 32, 'dropout_rate': 0.22926122870449162, 'learning_rate': 0.000993545822731792, 'batch_size': 256, 'activation': 'tanh', 'optimizer': 'adam'}. Best is trial 7 with value: -1.0.\n"
     ]
    },
    {
     "name": "stdout",
     "output_type": "stream",
     "text": [
      "\u001b[1m3/7\u001b[0m \u001b[32m━━━━━━━━\u001b[0m\u001b[37m━━━━━━━━━━━━\u001b[0m \u001b[1m0s\u001b[0m 25ms/step "
     ]
    },
    {
     "name": "stderr",
     "output_type": "stream",
     "text": [
      "C:\\Users\\azad.aliyev\\AppData\\Local\\Temp\\ipykernel_17300\\1127333341.py:6: FutureWarning: suggest_loguniform has been deprecated in v3.0.0. This feature will be removed in v6.0.0. See https://github.com/optuna/optuna/releases/tag/v3.0.0. Use suggest_float(..., log=True) instead.\n",
      "  learning_rate = trial.suggest_loguniform(\"learning_rate\", 1e-4, 1e-2)\n"
     ]
    },
    {
     "name": "stdout",
     "output_type": "stream",
     "text": [
      "\u001b[1m7/7\u001b[0m \u001b[32m━━━━━━━━━━━━━━━━━━━━\u001b[0m\u001b[37m\u001b[0m \u001b[1m0s\u001b[0m 40ms/step\n",
      "\u001b[1m7/7\u001b[0m \u001b[32m━━━━━━━━━━━━━━━━━━━━\u001b[0m\u001b[37m\u001b[0m \u001b[1m0s\u001b[0m 52ms/step\n"
     ]
    },
    {
     "name": "stderr",
     "output_type": "stream",
     "text": [
      "[I 2024-12-01 18:04:51,208] Trial 53 finished with value: -1.0 and parameters: {'hidden_units': 32, 'dropout_rate': 0.3227649917303742, 'learning_rate': 0.0009279400911462089, 'batch_size': 256, 'activation': 'tanh', 'optimizer': 'rmsprop'}. Best is trial 7 with value: -1.0.\n",
      "[I 2024-12-01 18:04:51,283] Trial 52 finished with value: -1.0 and parameters: {'hidden_units': 32, 'dropout_rate': 0.227537065896271, 'learning_rate': 0.0009529640760715864, 'batch_size': 256, 'activation': 'tanh', 'optimizer': 'rmsprop'}. Best is trial 7 with value: -1.0.\n",
      "C:\\Users\\azad.aliyev\\AppData\\Local\\Temp\\ipykernel_17300\\1127333341.py:6: FutureWarning: suggest_loguniform has been deprecated in v3.0.0. This feature will be removed in v6.0.0. See https://github.com/optuna/optuna/releases/tag/v3.0.0. Use suggest_float(..., log=True) instead.\n",
      "  learning_rate = trial.suggest_loguniform(\"learning_rate\", 1e-4, 1e-2)\n",
      "C:\\Users\\azad.aliyev\\AppData\\Local\\Temp\\ipykernel_17300\\1127333341.py:6: FutureWarning: suggest_loguniform has been deprecated in v3.0.0. This feature will be removed in v6.0.0. See https://github.com/optuna/optuna/releases/tag/v3.0.0. Use suggest_float(..., log=True) instead.\n",
      "  learning_rate = trial.suggest_loguniform(\"learning_rate\", 1e-4, 1e-2)\n"
     ]
    },
    {
     "name": "stdout",
     "output_type": "stream",
     "text": [
      "\u001b[1m7/7\u001b[0m \u001b[32m━━━━━━━━━━━━━━━━━━━━\u001b[0m\u001b[37m\u001b[0m \u001b[1m0s\u001b[0m 39ms/step\n"
     ]
    },
    {
     "name": "stderr",
     "output_type": "stream",
     "text": [
      "[I 2024-12-01 18:04:53,167] Trial 54 finished with value: -1.0 and parameters: {'hidden_units': 32, 'dropout_rate': 0.31967435601809463, 'learning_rate': 0.0009396410947669775, 'batch_size': 256, 'activation': 'tanh', 'optimizer': 'rmsprop'}. Best is trial 7 with value: -1.0.\n",
      "C:\\Users\\azad.aliyev\\AppData\\Local\\Temp\\ipykernel_17300\\1127333341.py:6: FutureWarning: suggest_loguniform has been deprecated in v3.0.0. This feature will be removed in v6.0.0. See https://github.com/optuna/optuna/releases/tag/v3.0.0. Use suggest_float(..., log=True) instead.\n",
      "  learning_rate = trial.suggest_loguniform(\"learning_rate\", 1e-4, 1e-2)\n"
     ]
    },
    {
     "name": "stdout",
     "output_type": "stream",
     "text": [
      "\u001b[1m7/7\u001b[0m \u001b[32m━━━━━━━━━━━━━━━━━━━━\u001b[0m\u001b[37m\u001b[0m \u001b[1m1s\u001b[0m 67ms/step\n"
     ]
    },
    {
     "name": "stderr",
     "output_type": "stream",
     "text": [
      "[I 2024-12-01 18:04:54,301] Trial 51 finished with value: -1.0 and parameters: {'hidden_units': 32, 'dropout_rate': 0.22911985382963868, 'learning_rate': 0.0009545326510248229, 'batch_size': 256, 'activation': 'tanh', 'optimizer': 'adam'}. Best is trial 7 with value: -1.0.\n",
      "C:\\Users\\azad.aliyev\\AppData\\Local\\Temp\\ipykernel_17300\\1127333341.py:6: FutureWarning: suggest_loguniform has been deprecated in v3.0.0. This feature will be removed in v6.0.0. See https://github.com/optuna/optuna/releases/tag/v3.0.0. Use suggest_float(..., log=True) instead.\n",
      "  learning_rate = trial.suggest_loguniform(\"learning_rate\", 1e-4, 1e-2)\n"
     ]
    },
    {
     "name": "stdout",
     "output_type": "stream",
     "text": [
      "\u001b[1m7/7\u001b[0m \u001b[32m━━━━━━━━━━━━━━━━━━━━\u001b[0m\u001b[37m\u001b[0m \u001b[1m0s\u001b[0m 19ms/step\n"
     ]
    },
    {
     "name": "stderr",
     "output_type": "stream",
     "text": [
      "[I 2024-12-01 18:04:57,819] Trial 64 finished with value: -1.0 and parameters: {'hidden_units': 16, 'dropout_rate': 0.27720765544802434, 'learning_rate': 0.008786340070504337, 'batch_size': 256, 'activation': 'tanh', 'optimizer': 'rmsprop'}. Best is trial 7 with value: -1.0.\n",
      "C:\\Users\\azad.aliyev\\AppData\\Local\\Temp\\ipykernel_17300\\1127333341.py:6: FutureWarning: suggest_loguniform has been deprecated in v3.0.0. This feature will be removed in v6.0.0. See https://github.com/optuna/optuna/releases/tag/v3.0.0. Use suggest_float(..., log=True) instead.\n",
      "  learning_rate = trial.suggest_loguniform(\"learning_rate\", 1e-4, 1e-2)\n"
     ]
    },
    {
     "name": "stdout",
     "output_type": "stream",
     "text": [
      "\u001b[1m7/7\u001b[0m \u001b[32m━━━━━━━━━━━━━━━━━━━━\u001b[0m\u001b[37m\u001b[0m \u001b[1m0s\u001b[0m 23ms/step\n"
     ]
    },
    {
     "name": "stderr",
     "output_type": "stream",
     "text": [
      "[I 2024-12-01 18:04:58,561] Trial 55 finished with value: -1.0 and parameters: {'hidden_units': 32, 'dropout_rate': 0.3191950102957274, 'learning_rate': 0.000976473258588092, 'batch_size': 256, 'activation': 'tanh', 'optimizer': 'rmsprop'}. Best is trial 7 with value: -1.0.\n",
      "C:\\Users\\azad.aliyev\\AppData\\Local\\Temp\\ipykernel_17300\\1127333341.py:6: FutureWarning: suggest_loguniform has been deprecated in v3.0.0. This feature will be removed in v6.0.0. See https://github.com/optuna/optuna/releases/tag/v3.0.0. Use suggest_float(..., log=True) instead.\n",
      "  learning_rate = trial.suggest_loguniform(\"learning_rate\", 1e-4, 1e-2)\n"
     ]
    },
    {
     "name": "stdout",
     "output_type": "stream",
     "text": [
      "\u001b[1m7/7\u001b[0m \u001b[32m━━━━━━━━━━━━━━━━━━━━\u001b[0m\u001b[37m\u001b[0m \u001b[1m0s\u001b[0m 42ms/step\n"
     ]
    },
    {
     "name": "stderr",
     "output_type": "stream",
     "text": [
      "[I 2024-12-01 18:05:00,810] Trial 56 finished with value: -1.0 and parameters: {'hidden_units': 16, 'dropout_rate': 0.2779440019223491, 'learning_rate': 0.0009679275527334888, 'batch_size': 256, 'activation': 'tanh', 'optimizer': 'rmsprop'}. Best is trial 7 with value: -1.0.\n",
      "C:\\Users\\azad.aliyev\\AppData\\Local\\Temp\\ipykernel_17300\\1127333341.py:6: FutureWarning: suggest_loguniform has been deprecated in v3.0.0. This feature will be removed in v6.0.0. See https://github.com/optuna/optuna/releases/tag/v3.0.0. Use suggest_float(..., log=True) instead.\n",
      "  learning_rate = trial.suggest_loguniform(\"learning_rate\", 1e-4, 1e-2)\n"
     ]
    },
    {
     "name": "stdout",
     "output_type": "stream",
     "text": [
      "\u001b[1m7/7\u001b[0m \u001b[32m━━━━━━━━━━━━━━━━━━━━\u001b[0m\u001b[37m\u001b[0m \u001b[1m0s\u001b[0m 25ms/step\n"
     ]
    },
    {
     "name": "stderr",
     "output_type": "stream",
     "text": [
      "[I 2024-12-01 18:05:03,504] Trial 62 finished with value: -1.0 and parameters: {'hidden_units': 16, 'dropout_rate': 0.3209834184510559, 'learning_rate': 0.00756769440135804, 'batch_size': 256, 'activation': 'tanh', 'optimizer': 'rmsprop'}. Best is trial 7 with value: -1.0.\n"
     ]
    },
    {
     "name": "stdout",
     "output_type": "stream",
     "text": [
      "\u001b[1m1/7\u001b[0m \u001b[32m━━\u001b[0m\u001b[37m━━━━━━━━━━━━━━━━━━\u001b[0m \u001b[1m1s\u001b[0m 217ms/step"
     ]
    },
    {
     "name": "stderr",
     "output_type": "stream",
     "text": [
      "C:\\Users\\azad.aliyev\\AppData\\Local\\Temp\\ipykernel_17300\\1127333341.py:6: FutureWarning: suggest_loguniform has been deprecated in v3.0.0. This feature will be removed in v6.0.0. See https://github.com/optuna/optuna/releases/tag/v3.0.0. Use suggest_float(..., log=True) instead.\n",
      "  learning_rate = trial.suggest_loguniform(\"learning_rate\", 1e-4, 1e-2)\n"
     ]
    },
    {
     "name": "stdout",
     "output_type": "stream",
     "text": [
      "\u001b[1m7/7\u001b[0m \u001b[32m━━━━━━━━━━━━━━━━━━━━\u001b[0m\u001b[37m\u001b[0m \u001b[1m0s\u001b[0m 41ms/step\n",
      "\u001b[1m7/7\u001b[0m \u001b[32m━━━━━━━━━━━━━━━━━━━━\u001b[0m\u001b[37m\u001b[0m \u001b[1m0s\u001b[0m 39ms/step\n"
     ]
    },
    {
     "name": "stderr",
     "output_type": "stream",
     "text": [
      "[I 2024-12-01 18:05:04,088] Trial 58 finished with value: -1.0 and parameters: {'hidden_units': 16, 'dropout_rate': 0.29325901492440426, 'learning_rate': 0.0010045433201238338, 'batch_size': 256, 'activation': 'tanh', 'optimizer': 'rmsprop'}. Best is trial 7 with value: -1.0.\n",
      "[I 2024-12-01 18:05:04,088] Trial 57 finished with value: -1.0 and parameters: {'hidden_units': 16, 'dropout_rate': 0.2801144123759838, 'learning_rate': 0.0009031214786687328, 'batch_size': 256, 'activation': 'tanh', 'optimizer': 'rmsprop'}. Best is trial 7 with value: -1.0.\n",
      "C:\\Users\\azad.aliyev\\AppData\\Local\\Temp\\ipykernel_17300\\1127333341.py:6: FutureWarning: suggest_loguniform has been deprecated in v3.0.0. This feature will be removed in v6.0.0. See https://github.com/optuna/optuna/releases/tag/v3.0.0. Use suggest_float(..., log=True) instead.\n",
      "  learning_rate = trial.suggest_loguniform(\"learning_rate\", 1e-4, 1e-2)\n"
     ]
    },
    {
     "name": "stdout",
     "output_type": "stream",
     "text": [
      "\u001b[1m7/7\u001b[0m \u001b[32m━━━━━━━━━━━━━━━━━━━━\u001b[0m\u001b[37m\u001b[0m \u001b[1m0s\u001b[0m 43ms/step\n"
     ]
    },
    {
     "name": "stderr",
     "output_type": "stream",
     "text": [
      "[I 2024-12-01 18:05:05,839] Trial 59 finished with value: -1.0 and parameters: {'hidden_units': 16, 'dropout_rate': 0.32392637268932106, 'learning_rate': 0.00020899158799799177, 'batch_size': 256, 'activation': 'tanh', 'optimizer': 'rmsprop'}. Best is trial 7 with value: -1.0.\n",
      "C:\\Users\\azad.aliyev\\AppData\\Local\\Temp\\ipykernel_17300\\1127333341.py:6: FutureWarning: suggest_loguniform has been deprecated in v3.0.0. This feature will be removed in v6.0.0. See https://github.com/optuna/optuna/releases/tag/v3.0.0. Use suggest_float(..., log=True) instead.\n",
      "  learning_rate = trial.suggest_loguniform(\"learning_rate\", 1e-4, 1e-2)\n"
     ]
    },
    {
     "name": "stdout",
     "output_type": "stream",
     "text": [
      "\u001b[1m7/7\u001b[0m \u001b[32m━━━━━━━━━━━━━━━━━━━━\u001b[0m\u001b[37m\u001b[0m \u001b[1m0s\u001b[0m 37ms/step\n"
     ]
    },
    {
     "name": "stderr",
     "output_type": "stream",
     "text": [
      "[I 2024-12-01 18:05:09,774] Trial 63 finished with value: -1.0 and parameters: {'hidden_units': 16, 'dropout_rate': 0.2780369270487736, 'learning_rate': 0.0074832207660753165, 'batch_size': 256, 'activation': 'tanh', 'optimizer': 'rmsprop'}. Best is trial 7 with value: -1.0.\n"
     ]
    },
    {
     "name": "stdout",
     "output_type": "stream",
     "text": [
      "\u001b[1m3/7\u001b[0m \u001b[32m━━━━━━━━\u001b[0m\u001b[37m━━━━━━━━━━━━\u001b[0m \u001b[1m0s\u001b[0m 25ms/step "
     ]
    },
    {
     "name": "stderr",
     "output_type": "stream",
     "text": [
      "C:\\Users\\azad.aliyev\\AppData\\Local\\Temp\\ipykernel_17300\\1127333341.py:6: FutureWarning: suggest_loguniform has been deprecated in v3.0.0. This feature will be removed in v6.0.0. See https://github.com/optuna/optuna/releases/tag/v3.0.0. Use suggest_float(..., log=True) instead.\n",
      "  learning_rate = trial.suggest_loguniform(\"learning_rate\", 1e-4, 1e-2)\n"
     ]
    },
    {
     "name": "stdout",
     "output_type": "stream",
     "text": [
      "\u001b[1m7/7\u001b[0m \u001b[32m━━━━━━━━━━━━━━━━━━━━\u001b[0m\u001b[37m\u001b[0m \u001b[1m0s\u001b[0m 47ms/step\n"
     ]
    },
    {
     "name": "stderr",
     "output_type": "stream",
     "text": [
      "[I 2024-12-01 18:05:10,432] Trial 60 finished with value: -1.0 and parameters: {'hidden_units': 16, 'dropout_rate': 0.3221282145677553, 'learning_rate': 0.0008929303878514613, 'batch_size': 256, 'activation': 'tanh', 'optimizer': 'rmsprop'}. Best is trial 7 with value: -1.0.\n",
      "C:\\Users\\azad.aliyev\\AppData\\Local\\Temp\\ipykernel_17300\\1127333341.py:6: FutureWarning: suggest_loguniform has been deprecated in v3.0.0. This feature will be removed in v6.0.0. See https://github.com/optuna/optuna/releases/tag/v3.0.0. Use suggest_float(..., log=True) instead.\n",
      "  learning_rate = trial.suggest_loguniform(\"learning_rate\", 1e-4, 1e-2)\n"
     ]
    },
    {
     "name": "stdout",
     "output_type": "stream",
     "text": [
      "\u001b[1m7/7\u001b[0m \u001b[32m━━━━━━━━━━━━━━━━━━━━\u001b[0m\u001b[37m\u001b[0m \u001b[1m0s\u001b[0m 47ms/step\n"
     ]
    },
    {
     "name": "stderr",
     "output_type": "stream",
     "text": [
      "[I 2024-12-01 18:05:12,191] Trial 61 finished with value: -1.0 and parameters: {'hidden_units': 16, 'dropout_rate': 0.32621466286559764, 'learning_rate': 0.0013255951545575228, 'batch_size': 256, 'activation': 'tanh', 'optimizer': 'rmsprop'}. Best is trial 7 with value: -1.0.\n",
      "C:\\Users\\azad.aliyev\\AppData\\Local\\Temp\\ipykernel_17300\\1127333341.py:6: FutureWarning: suggest_loguniform has been deprecated in v3.0.0. This feature will be removed in v6.0.0. See https://github.com/optuna/optuna/releases/tag/v3.0.0. Use suggest_float(..., log=True) instead.\n",
      "  learning_rate = trial.suggest_loguniform(\"learning_rate\", 1e-4, 1e-2)\n"
     ]
    },
    {
     "name": "stdout",
     "output_type": "stream",
     "text": [
      "\u001b[1m7/7\u001b[0m \u001b[32m━━━━━━━━━━━━━━━━━━━━\u001b[0m\u001b[37m\u001b[0m \u001b[1m0s\u001b[0m 40ms/step\n",
      "\u001b[1m7/7\u001b[0m \u001b[32m━━━━━━━━━━━━━━━━━━━━\u001b[0m\u001b[37m\u001b[0m \u001b[1m0s\u001b[0m 32ms/step\n"
     ]
    },
    {
     "name": "stderr",
     "output_type": "stream",
     "text": [
      "[I 2024-12-01 18:05:14,017] Trial 65 finished with value: -1.0 and parameters: {'hidden_units': 16, 'dropout_rate': 0.27170253519089005, 'learning_rate': 0.006876319710741896, 'batch_size': 256, 'activation': 'tanh', 'optimizer': 'rmsprop'}. Best is trial 7 with value: -1.0.\n"
     ]
    },
    {
     "name": "stdout",
     "output_type": "stream",
     "text": [
      "\u001b[1m1/7\u001b[0m \u001b[32m━━\u001b[0m\u001b[37m━━━━━━━━━━━━━━━━━━\u001b[0m \u001b[1m0s\u001b[0m 118ms/step"
     ]
    },
    {
     "name": "stderr",
     "output_type": "stream",
     "text": [
      "C:\\Users\\azad.aliyev\\AppData\\Local\\Temp\\ipykernel_17300\\1127333341.py:6: FutureWarning: suggest_loguniform has been deprecated in v3.0.0. This feature will be removed in v6.0.0. See https://github.com/optuna/optuna/releases/tag/v3.0.0. Use suggest_float(..., log=True) instead.\n",
      "  learning_rate = trial.suggest_loguniform(\"learning_rate\", 1e-4, 1e-2)\n",
      "[I 2024-12-01 18:05:14,159] Trial 68 finished with value: -1.0 and parameters: {'hidden_units': 16, 'dropout_rate': 0.28907551824551425, 'learning_rate': 0.006843638907862097, 'batch_size': 192, 'activation': 'relu', 'optimizer': 'rmsprop'}. Best is trial 7 with value: -1.0.\n",
      "C:\\Users\\azad.aliyev\\AppData\\Local\\Temp\\ipykernel_17300\\1127333341.py:6: FutureWarning: suggest_loguniform has been deprecated in v3.0.0. This feature will be removed in v6.0.0. See https://github.com/optuna/optuna/releases/tag/v3.0.0. Use suggest_float(..., log=True) instead.\n",
      "  learning_rate = trial.suggest_loguniform(\"learning_rate\", 1e-4, 1e-2)\n"
     ]
    },
    {
     "name": "stdout",
     "output_type": "stream",
     "text": [
      "\u001b[1m7/7\u001b[0m \u001b[32m━━━━━━━━━━━━━━━━━━━━\u001b[0m\u001b[37m\u001b[0m \u001b[1m0s\u001b[0m 39ms/step\n"
     ]
    },
    {
     "name": "stderr",
     "output_type": "stream",
     "text": [
      "[I 2024-12-01 18:05:14,617] Trial 66 finished with value: -1.0 and parameters: {'hidden_units': 16, 'dropout_rate': 0.27941634169594065, 'learning_rate': 0.0033315439838252727, 'batch_size': 256, 'activation': 'tanh', 'optimizer': 'rmsprop'}. Best is trial 7 with value: -1.0.\n",
      "C:\\Users\\azad.aliyev\\AppData\\Local\\Temp\\ipykernel_17300\\1127333341.py:6: FutureWarning: suggest_loguniform has been deprecated in v3.0.0. This feature will be removed in v6.0.0. See https://github.com/optuna/optuna/releases/tag/v3.0.0. Use suggest_float(..., log=True) instead.\n",
      "  learning_rate = trial.suggest_loguniform(\"learning_rate\", 1e-4, 1e-2)\n"
     ]
    },
    {
     "name": "stdout",
     "output_type": "stream",
     "text": [
      "\u001b[1m7/7\u001b[0m \u001b[32m━━━━━━━━━━━━━━━━━━━━\u001b[0m\u001b[37m\u001b[0m \u001b[1m0s\u001b[0m 49ms/step\n"
     ]
    },
    {
     "name": "stderr",
     "output_type": "stream",
     "text": [
      "[I 2024-12-01 18:05:19,771] Trial 67 finished with value: -1.0 and parameters: {'hidden_units': 16, 'dropout_rate': 0.29361569851776126, 'learning_rate': 0.0028568939064443724, 'batch_size': 192, 'activation': 'relu', 'optimizer': 'rmsprop'}. Best is trial 7 with value: -1.0.\n",
      "C:\\Users\\azad.aliyev\\AppData\\Local\\Temp\\ipykernel_17300\\1127333341.py:6: FutureWarning: suggest_loguniform has been deprecated in v3.0.0. This feature will be removed in v6.0.0. See https://github.com/optuna/optuna/releases/tag/v3.0.0. Use suggest_float(..., log=True) instead.\n",
      "  learning_rate = trial.suggest_loguniform(\"learning_rate\", 1e-4, 1e-2)\n"
     ]
    },
    {
     "name": "stdout",
     "output_type": "stream",
     "text": [
      "\u001b[1m7/7\u001b[0m \u001b[32m━━━━━━━━━━━━━━━━━━━━\u001b[0m\u001b[37m\u001b[0m \u001b[1m0s\u001b[0m 37ms/step\n",
      "\u001b[1m1/7\u001b[0m \u001b[32m━━\u001b[0m\u001b[37m━━━━━━━━━━━━━━━━━━\u001b[0m \u001b[1m0s\u001b[0m 165ms/step"
     ]
    },
    {
     "name": "stderr",
     "output_type": "stream",
     "text": [
      "[I 2024-12-01 18:05:21,163] Trial 69 finished with value: -1.0 and parameters: {'hidden_units': 16, 'dropout_rate': 0.29807740334845534, 'learning_rate': 0.003356070252696822, 'batch_size': 192, 'activation': 'relu', 'optimizer': 'rmsprop'}. Best is trial 7 with value: -1.0.\n"
     ]
    },
    {
     "name": "stdout",
     "output_type": "stream",
     "text": [
      "\u001b[1m7/7\u001b[0m \u001b[32m━━━━━━━━━━━━━━━━━━━━\u001b[0m\u001b[37m\u001b[0m \u001b[1m0s\u001b[0m 38ms/step\n"
     ]
    },
    {
     "name": "stderr",
     "output_type": "stream",
     "text": [
      "C:\\Users\\azad.aliyev\\AppData\\Local\\Temp\\ipykernel_17300\\1127333341.py:6: FutureWarning: suggest_loguniform has been deprecated in v3.0.0. This feature will be removed in v6.0.0. See https://github.com/optuna/optuna/releases/tag/v3.0.0. Use suggest_float(..., log=True) instead.\n",
      "  learning_rate = trial.suggest_loguniform(\"learning_rate\", 1e-4, 1e-2)\n",
      "[I 2024-12-01 18:05:21,512] Trial 70 finished with value: -1.0 and parameters: {'hidden_units': 48, 'dropout_rate': 0.20306499681040968, 'learning_rate': 0.002805202287322973, 'batch_size': 192, 'activation': 'relu', 'optimizer': 'rmsprop'}. Best is trial 7 with value: -1.0.\n",
      "C:\\Users\\azad.aliyev\\AppData\\Local\\Temp\\ipykernel_17300\\1127333341.py:6: FutureWarning: suggest_loguniform has been deprecated in v3.0.0. This feature will be removed in v6.0.0. See https://github.com/optuna/optuna/releases/tag/v3.0.0. Use suggest_float(..., log=True) instead.\n",
      "  learning_rate = trial.suggest_loguniform(\"learning_rate\", 1e-4, 1e-2)\n"
     ]
    },
    {
     "name": "stdout",
     "output_type": "stream",
     "text": [
      "\u001b[1m7/7\u001b[0m \u001b[32m━━━━━━━━━━━━━━━━━━━━\u001b[0m\u001b[37m\u001b[0m \u001b[1m0s\u001b[0m 54ms/step\n",
      "\u001b[1m7/7\u001b[0m \u001b[32m━━━━━━━━━━━━━━━━━━━━\u001b[0m\u001b[37m\u001b[0m \u001b[1m0s\u001b[0m 49ms/step\n"
     ]
    },
    {
     "name": "stderr",
     "output_type": "stream",
     "text": [
      "[I 2024-12-01 18:05:23,374] Trial 77 finished with value: -1.0 and parameters: {'hidden_units': 112, 'dropout_rate': 0.41498886033586174, 'learning_rate': 0.00378045862386062, 'batch_size': 192, 'activation': 'relu', 'optimizer': 'adam'}. Best is trial 7 with value: -1.0.\n",
      "C:\\Users\\azad.aliyev\\AppData\\Local\\Temp\\ipykernel_17300\\1127333341.py:6: FutureWarning: suggest_loguniform has been deprecated in v3.0.0. This feature will be removed in v6.0.0. See https://github.com/optuna/optuna/releases/tag/v3.0.0. Use suggest_float(..., log=True) instead.\n",
      "  learning_rate = trial.suggest_loguniform(\"learning_rate\", 1e-4, 1e-2)\n",
      "[I 2024-12-01 18:05:23,607] Trial 79 finished with value: -1.0 and parameters: {'hidden_units': 112, 'dropout_rate': 0.20171677688094358, 'learning_rate': 0.005074173955115582, 'batch_size': 192, 'activation': 'relu', 'optimizer': 'adam'}. Best is trial 7 with value: -1.0.\n",
      "C:\\Users\\azad.aliyev\\AppData\\Local\\Temp\\ipykernel_17300\\1127333341.py:6: FutureWarning: suggest_loguniform has been deprecated in v3.0.0. This feature will be removed in v6.0.0. See https://github.com/optuna/optuna/releases/tag/v3.0.0. Use suggest_float(..., log=True) instead.\n",
      "  learning_rate = trial.suggest_loguniform(\"learning_rate\", 1e-4, 1e-2)\n"
     ]
    },
    {
     "name": "stdout",
     "output_type": "stream",
     "text": [
      "\u001b[1m7/7\u001b[0m \u001b[32m━━━━━━━━━━━━━━━━━━━━\u001b[0m\u001b[37m\u001b[0m \u001b[1m0s\u001b[0m 45ms/step\n",
      "\u001b[1m7/7\u001b[0m \u001b[32m━━━━━━━━━━━━━━━━━━━━\u001b[0m\u001b[37m\u001b[0m \u001b[1m0s\u001b[0m 46ms/step\n"
     ]
    },
    {
     "name": "stderr",
     "output_type": "stream",
     "text": [
      "[I 2024-12-01 18:05:27,950] Trial 80 finished with value: -1.0 and parameters: {'hidden_units': 112, 'dropout_rate': 0.36050656303948453, 'learning_rate': 0.005142100785206073, 'batch_size': 192, 'activation': 'relu', 'optimizer': 'adam'}. Best is trial 7 with value: -1.0.\n",
      "[I 2024-12-01 18:05:28,001] Trial 72 finished with value: -1.0 and parameters: {'hidden_units': 112, 'dropout_rate': 0.20066256759265788, 'learning_rate': 0.00020825071171435866, 'batch_size': 192, 'activation': 'relu', 'optimizer': 'rmsprop'}. Best is trial 7 with value: -1.0.\n"
     ]
    },
    {
     "name": "stdout",
     "output_type": "stream",
     "text": [
      "\u001b[1m1/7\u001b[0m \u001b[32m━━\u001b[0m\u001b[37m━━━━━━━━━━━━━━━━━━\u001b[0m \u001b[1m1s\u001b[0m 192ms/step"
     ]
    },
    {
     "name": "stderr",
     "output_type": "stream",
     "text": [
      "C:\\Users\\azad.aliyev\\AppData\\Local\\Temp\\ipykernel_17300\\1127333341.py:6: FutureWarning: suggest_loguniform has been deprecated in v3.0.0. This feature will be removed in v6.0.0. See https://github.com/optuna/optuna/releases/tag/v3.0.0. Use suggest_float(..., log=True) instead.\n",
      "  learning_rate = trial.suggest_loguniform(\"learning_rate\", 1e-4, 1e-2)\n"
     ]
    },
    {
     "name": "stdout",
     "output_type": "stream",
     "text": [
      "\u001b[1m7/7\u001b[0m \u001b[32m━━━━━━━━━━━━━━━━━━━━\u001b[0m\u001b[37m\u001b[0m \u001b[1m0s\u001b[0m 47ms/step\n"
     ]
    },
    {
     "name": "stderr",
     "output_type": "stream",
     "text": [
      "[I 2024-12-01 18:05:28,650] Trial 71 finished with value: -1.0 and parameters: {'hidden_units': 112, 'dropout_rate': 0.4332236133887369, 'learning_rate': 0.0002176131157922874, 'batch_size': 192, 'activation': 'relu', 'optimizer': 'rmsprop'}. Best is trial 7 with value: -1.0.\n"
     ]
    },
    {
     "name": "stdout",
     "output_type": "stream",
     "text": [
      "\u001b[1m1/7\u001b[0m \u001b[32m━━\u001b[0m\u001b[37m━━━━━━━━━━━━━━━━━━\u001b[0m \u001b[1m0s\u001b[0m 125ms/step"
     ]
    },
    {
     "name": "stderr",
     "output_type": "stream",
     "text": [
      "C:\\Users\\azad.aliyev\\AppData\\Local\\Temp\\ipykernel_17300\\1127333341.py:6: FutureWarning: suggest_loguniform has been deprecated in v3.0.0. This feature will be removed in v6.0.0. See https://github.com/optuna/optuna/releases/tag/v3.0.0. Use suggest_float(..., log=True) instead.\n",
      "  learning_rate = trial.suggest_loguniform(\"learning_rate\", 1e-4, 1e-2)\n"
     ]
    },
    {
     "name": "stdout",
     "output_type": "stream",
     "text": [
      "\u001b[1m7/7\u001b[0m \u001b[32m━━━━━━━━━━━━━━━━━━━━\u001b[0m\u001b[37m\u001b[0m \u001b[1m0s\u001b[0m 47ms/step\n"
     ]
    },
    {
     "name": "stderr",
     "output_type": "stream",
     "text": [
      "[I 2024-12-01 18:05:29,394] Trial 73 finished with value: -1.0 and parameters: {'hidden_units': 112, 'dropout_rate': 0.44239894453287104, 'learning_rate': 0.0027348550635255572, 'batch_size': 192, 'activation': 'relu', 'optimizer': 'rmsprop'}. Best is trial 7 with value: -1.0.\n",
      "C:\\Users\\azad.aliyev\\AppData\\Local\\Temp\\ipykernel_17300\\1127333341.py:6: FutureWarning: suggest_loguniform has been deprecated in v3.0.0. This feature will be removed in v6.0.0. See https://github.com/optuna/optuna/releases/tag/v3.0.0. Use suggest_float(..., log=True) instead.\n",
      "  learning_rate = trial.suggest_loguniform(\"learning_rate\", 1e-4, 1e-2)\n"
     ]
    },
    {
     "name": "stdout",
     "output_type": "stream",
     "text": [
      "\u001b[1m7/7\u001b[0m \u001b[32m━━━━━━━━━━━━━━━━━━━━\u001b[0m\u001b[37m\u001b[0m \u001b[1m0s\u001b[0m 43ms/step\n",
      "\u001b[1m7/7\u001b[0m \u001b[32m━━━━━━━━━━━━━━━━━━━━\u001b[0m\u001b[37m\u001b[0m \u001b[1m0s\u001b[0m 46ms/step\n",
      "\u001b[1m1/7\u001b[0m \u001b[32m━━\u001b[0m\u001b[37m━━━━━━━━━━━━━━━━━━\u001b[0m \u001b[1m0s\u001b[0m 150ms/step"
     ]
    },
    {
     "name": "stderr",
     "output_type": "stream",
     "text": [
      "[I 2024-12-01 18:05:30,987] Trial 74 finished with value: -1.0 and parameters: {'hidden_units': 112, 'dropout_rate': 0.42946533737046155, 'learning_rate': 0.002668618375851667, 'batch_size': 192, 'activation': 'relu', 'optimizer': 'rmsprop'}. Best is trial 7 with value: -1.0.\n"
     ]
    },
    {
     "name": "stdout",
     "output_type": "stream",
     "text": [
      "\u001b[1m4/7\u001b[0m \u001b[32m━━━━━━━━━━━\u001b[0m\u001b[37m━━━━━━━━━\u001b[0m \u001b[1m0s\u001b[0m 44ms/step"
     ]
    },
    {
     "name": "stderr",
     "output_type": "stream",
     "text": [
      "[I 2024-12-01 18:05:31,112] Trial 82 finished with value: -1.0 and parameters: {'hidden_units': 112, 'dropout_rate': 0.41724597233947486, 'learning_rate': 0.004814150401893974, 'batch_size': 192, 'activation': 'relu', 'optimizer': 'adam'}. Best is trial 7 with value: -1.0.\n",
      "C:\\Users\\azad.aliyev\\AppData\\Local\\Temp\\ipykernel_17300\\1127333341.py:6: FutureWarning: suggest_loguniform has been deprecated in v3.0.0. This feature will be removed in v6.0.0. See https://github.com/optuna/optuna/releases/tag/v3.0.0. Use suggest_float(..., log=True) instead.\n",
      "  learning_rate = trial.suggest_loguniform(\"learning_rate\", 1e-4, 1e-2)\n"
     ]
    },
    {
     "name": "stdout",
     "output_type": "stream",
     "text": [
      "\u001b[1m7/7\u001b[0m \u001b[32m━━━━━━━━━━━━━━━━━━━━\u001b[0m\u001b[37m\u001b[0m \u001b[1m1s\u001b[0m 60ms/step\n"
     ]
    },
    {
     "name": "stderr",
     "output_type": "stream",
     "text": [
      "[I 2024-12-01 18:05:31,720] Trial 75 finished with value: -1.0 and parameters: {'hidden_units': 112, 'dropout_rate': 0.4418449207372892, 'learning_rate': 0.003939581211721135, 'batch_size': 192, 'activation': 'relu', 'optimizer': 'rmsprop'}. Best is trial 7 with value: -1.0.\n",
      "C:\\Users\\azad.aliyev\\AppData\\Local\\Temp\\ipykernel_17300\\1127333341.py:6: FutureWarning: suggest_loguniform has been deprecated in v3.0.0. This feature will be removed in v6.0.0. See https://github.com/optuna/optuna/releases/tag/v3.0.0. Use suggest_float(..., log=True) instead.\n",
      "  learning_rate = trial.suggest_loguniform(\"learning_rate\", 1e-4, 1e-2)\n"
     ]
    },
    {
     "name": "stdout",
     "output_type": "stream",
     "text": [
      "\u001b[1m7/7\u001b[0m \u001b[32m━━━━━━━━━━━━━━━━━━━━\u001b[0m\u001b[37m\u001b[0m \u001b[1m1s\u001b[0m 64ms/step\n",
      "\u001b[1m1/7\u001b[0m \u001b[32m━━\u001b[0m\u001b[37m━━━━━━━━━━━━━━━━━━\u001b[0m \u001b[1m1s\u001b[0m 251ms/step"
     ]
    },
    {
     "name": "stderr",
     "output_type": "stream",
     "text": [
      "[I 2024-12-01 18:05:33,318] Trial 76 finished with value: -1.0 and parameters: {'hidden_units': 112, 'dropout_rate': 0.20242154325658568, 'learning_rate': 0.002958534238634625, 'batch_size': 192, 'activation': 'relu', 'optimizer': 'rmsprop'}. Best is trial 7 with value: -1.0.\n"
     ]
    },
    {
     "name": "stdout",
     "output_type": "stream",
     "text": [
      "\u001b[1m6/7\u001b[0m \u001b[32m━━━━━━━━━━━━━━━━━\u001b[0m\u001b[37m━━━\u001b[0m \u001b[1m0s\u001b[0m 38ms/step"
     ]
    },
    {
     "name": "stderr",
     "output_type": "stream",
     "text": [
      "C:\\Users\\azad.aliyev\\AppData\\Local\\Temp\\ipykernel_17300\\1127333341.py:6: FutureWarning: suggest_loguniform has been deprecated in v3.0.0. This feature will be removed in v6.0.0. See https://github.com/optuna/optuna/releases/tag/v3.0.0. Use suggest_float(..., log=True) instead.\n",
      "  learning_rate = trial.suggest_loguniform(\"learning_rate\", 1e-4, 1e-2)\n"
     ]
    },
    {
     "name": "stdout",
     "output_type": "stream",
     "text": [
      "\u001b[1m7/7\u001b[0m \u001b[32m━━━━━━━━━━━━━━━━━━━━\u001b[0m\u001b[37m\u001b[0m \u001b[1m1s\u001b[0m 83ms/step\n"
     ]
    },
    {
     "name": "stderr",
     "output_type": "stream",
     "text": [
      "[I 2024-12-01 18:05:34,126] Trial 83 finished with value: -1.0 and parameters: {'hidden_units': 112, 'dropout_rate': 0.3615446505812237, 'learning_rate': 0.005101425287845842, 'batch_size': 192, 'activation': 'relu', 'optimizer': 'adam'}. Best is trial 7 with value: -1.0.\n",
      "C:\\Users\\azad.aliyev\\AppData\\Local\\Temp\\ipykernel_17300\\1127333341.py:6: FutureWarning: suggest_loguniform has been deprecated in v3.0.0. This feature will be removed in v6.0.0. See https://github.com/optuna/optuna/releases/tag/v3.0.0. Use suggest_float(..., log=True) instead.\n",
      "  learning_rate = trial.suggest_loguniform(\"learning_rate\", 1e-4, 1e-2)\n"
     ]
    },
    {
     "name": "stdout",
     "output_type": "stream",
     "text": [
      "\u001b[1m7/7\u001b[0m \u001b[32m━━━━━━━━━━━━━━━━━━━━\u001b[0m\u001b[37m\u001b[0m \u001b[1m0s\u001b[0m 51ms/step\n"
     ]
    },
    {
     "name": "stderr",
     "output_type": "stream",
     "text": [
      "[I 2024-12-01 18:05:38,312] Trial 78 finished with value: -1.0 and parameters: {'hidden_units': 112, 'dropout_rate': 0.34809852666430596, 'learning_rate': 0.002580874972063093, 'batch_size': 192, 'activation': 'relu', 'optimizer': 'adam'}. Best is trial 7 with value: -1.0.\n",
      "C:\\Users\\azad.aliyev\\AppData\\Local\\Temp\\ipykernel_17300\\1127333341.py:6: FutureWarning: suggest_loguniform has been deprecated in v3.0.0. This feature will be removed in v6.0.0. See https://github.com/optuna/optuna/releases/tag/v3.0.0. Use suggest_float(..., log=True) instead.\n",
      "  learning_rate = trial.suggest_loguniform(\"learning_rate\", 1e-4, 1e-2)\n"
     ]
    },
    {
     "name": "stdout",
     "output_type": "stream",
     "text": [
      "\u001b[1m7/7\u001b[0m \u001b[32m━━━━━━━━━━━━━━━━━━━━\u001b[0m\u001b[37m\u001b[0m \u001b[1m0s\u001b[0m 27ms/step\n"
     ]
    },
    {
     "name": "stderr",
     "output_type": "stream",
     "text": [
      "[I 2024-12-01 18:05:41,088] Trial 81 finished with value: -1.0 and parameters: {'hidden_units': 48, 'dropout_rate': 0.20072651637670516, 'learning_rate': 0.004897845119615204, 'batch_size': 192, 'activation': 'relu', 'optimizer': 'adam'}. Best is trial 7 with value: -1.0.\n",
      "C:\\Users\\azad.aliyev\\AppData\\Local\\Temp\\ipykernel_17300\\1127333341.py:6: FutureWarning: suggest_loguniform has been deprecated in v3.0.0. This feature will be removed in v6.0.0. See https://github.com/optuna/optuna/releases/tag/v3.0.0. Use suggest_float(..., log=True) instead.\n",
      "  learning_rate = trial.suggest_loguniform(\"learning_rate\", 1e-4, 1e-2)\n"
     ]
    },
    {
     "name": "stdout",
     "output_type": "stream",
     "text": [
      "\u001b[1m7/7\u001b[0m \u001b[32m━━━━━━━━━━━━━━━━━━━━\u001b[0m\u001b[37m\u001b[0m \u001b[1m0s\u001b[0m 17ms/step\n"
     ]
    },
    {
     "name": "stderr",
     "output_type": "stream",
     "text": [
      "[I 2024-12-01 18:05:47,718] Trial 84 finished with value: -1.0 and parameters: {'hidden_units': 112, 'dropout_rate': 0.3611683114286081, 'learning_rate': 0.0003536438342416003, 'batch_size': 192, 'activation': 'relu', 'optimizer': 'adam'}. Best is trial 7 with value: -1.0.\n",
      "C:\\Users\\azad.aliyev\\AppData\\Local\\Temp\\ipykernel_17300\\1127333341.py:6: FutureWarning: suggest_loguniform has been deprecated in v3.0.0. This feature will be removed in v6.0.0. See https://github.com/optuna/optuna/releases/tag/v3.0.0. Use suggest_float(..., log=True) instead.\n",
      "  learning_rate = trial.suggest_loguniform(\"learning_rate\", 1e-4, 1e-2)\n"
     ]
    },
    {
     "name": "stdout",
     "output_type": "stream",
     "text": [
      "\u001b[1m7/7\u001b[0m \u001b[32m━━━━━━━━━━━━━━━━━━━━\u001b[0m\u001b[37m\u001b[0m \u001b[1m0s\u001b[0m 33ms/step\n"
     ]
    },
    {
     "name": "stderr",
     "output_type": "stream",
     "text": [
      "[I 2024-12-01 18:05:49,459] Trial 92 finished with value: -1.0 and parameters: {'hidden_units': 48, 'dropout_rate': 0.3105213098466967, 'learning_rate': 0.009987249028009822, 'batch_size': 128, 'activation': 'relu', 'optimizer': 'adam'}. Best is trial 7 with value: -1.0.\n",
      "C:\\Users\\azad.aliyev\\AppData\\Local\\Temp\\ipykernel_17300\\1127333341.py:6: FutureWarning: suggest_loguniform has been deprecated in v3.0.0. This feature will be removed in v6.0.0. See https://github.com/optuna/optuna/releases/tag/v3.0.0. Use suggest_float(..., log=True) instead.\n",
      "  learning_rate = trial.suggest_loguniform(\"learning_rate\", 1e-4, 1e-2)\n"
     ]
    },
    {
     "name": "stdout",
     "output_type": "stream",
     "text": [
      "\u001b[1m7/7\u001b[0m \u001b[32m━━━━━━━━━━━━━━━━━━━━\u001b[0m\u001b[37m\u001b[0m \u001b[1m0s\u001b[0m 32ms/step\n"
     ]
    },
    {
     "name": "stderr",
     "output_type": "stream",
     "text": [
      "[I 2024-12-01 18:05:51,546] Trial 85 finished with value: -1.0 and parameters: {'hidden_units': 112, 'dropout_rate': 0.33974400743584277, 'learning_rate': 0.0003616004357090781, 'batch_size': 192, 'activation': 'relu', 'optimizer': 'adam'}. Best is trial 7 with value: -1.0.\n",
      "C:\\Users\\azad.aliyev\\AppData\\Local\\Temp\\ipykernel_17300\\1127333341.py:6: FutureWarning: suggest_loguniform has been deprecated in v3.0.0. This feature will be removed in v6.0.0. See https://github.com/optuna/optuna/releases/tag/v3.0.0. Use suggest_float(..., log=True) instead.\n",
      "  learning_rate = trial.suggest_loguniform(\"learning_rate\", 1e-4, 1e-2)\n"
     ]
    },
    {
     "name": "stdout",
     "output_type": "stream",
     "text": [
      "\u001b[1m7/7\u001b[0m \u001b[32m━━━━━━━━━━━━━━━━━━━━\u001b[0m\u001b[37m\u001b[0m \u001b[1m0s\u001b[0m 43ms/step\n",
      "\u001b[1m7/7\u001b[0m \u001b[32m━━━━━━━━━━━━━━━━━━━━\u001b[0m\u001b[37m\u001b[0m \u001b[1m0s\u001b[0m 32ms/step\n",
      "\u001b[1m7/7\u001b[0m \u001b[32m━━━━━━━━━━━━━━━━━━━━\u001b[0m\u001b[37m\u001b[0m \u001b[1m0s\u001b[0m 22ms/step\n"
     ]
    },
    {
     "name": "stderr",
     "output_type": "stream",
     "text": [
      "[I 2024-12-01 18:05:56,739] Trial 93 finished with value: -1.0 and parameters: {'hidden_units': 48, 'dropout_rate': 0.3081378446949251, 'learning_rate': 0.00013383269080685997, 'batch_size': 128, 'activation': 'relu', 'optimizer': 'adam'}. Best is trial 7 with value: -1.0.\n",
      "[I 2024-12-01 18:05:56,781] Trial 86 finished with value: -1.0 and parameters: {'hidden_units': 48, 'dropout_rate': 0.3397873828035478, 'learning_rate': 0.00016229161399034222, 'batch_size': 64, 'activation': 'relu', 'optimizer': 'adam'}. Best is trial 7 with value: -1.0.\n",
      "[I 2024-12-01 18:05:56,798] Trial 88 finished with value: -1.0 and parameters: {'hidden_units': 48, 'dropout_rate': 0.3417088152294766, 'learning_rate': 0.0003482157084790644, 'batch_size': 64, 'activation': 'relu', 'optimizer': 'adam'}. Best is trial 7 with value: -1.0.\n"
     ]
    },
    {
     "name": "stdout",
     "output_type": "stream",
     "text": [
      "\u001b[1m1/7\u001b[0m \u001b[32m━━\u001b[0m\u001b[37m━━━━━━━━━━━━━━━━━━\u001b[0m \u001b[1m1s\u001b[0m 174ms/step"
     ]
    },
    {
     "name": "stderr",
     "output_type": "stream",
     "text": [
      "C:\\Users\\azad.aliyev\\AppData\\Local\\Temp\\ipykernel_17300\\1127333341.py:6: FutureWarning: suggest_loguniform has been deprecated in v3.0.0. This feature will be removed in v6.0.0. See https://github.com/optuna/optuna/releases/tag/v3.0.0. Use suggest_float(..., log=True) instead.\n",
      "  learning_rate = trial.suggest_loguniform(\"learning_rate\", 1e-4, 1e-2)\n"
     ]
    },
    {
     "name": "stdout",
     "output_type": "stream",
     "text": [
      "\u001b[1m7/7\u001b[0m \u001b[32m━━━━━━━━━━━━━━━━━━━━\u001b[0m\u001b[37m\u001b[0m \u001b[1m0s\u001b[0m 35ms/step\n"
     ]
    },
    {
     "name": "stderr",
     "output_type": "stream",
     "text": [
      "[I 2024-12-01 18:05:57,315] Trial 87 finished with value: -1.0 and parameters: {'hidden_units': 48, 'dropout_rate': 0.338246789110918, 'learning_rate': 0.0003418994860041325, 'batch_size': 64, 'activation': 'relu', 'optimizer': 'adam'}. Best is trial 7 with value: -1.0.\n",
      "C:\\Users\\azad.aliyev\\AppData\\Local\\Temp\\ipykernel_17300\\1127333341.py:6: FutureWarning: suggest_loguniform has been deprecated in v3.0.0. This feature will be removed in v6.0.0. See https://github.com/optuna/optuna/releases/tag/v3.0.0. Use suggest_float(..., log=True) instead.\n",
      "  learning_rate = trial.suggest_loguniform(\"learning_rate\", 1e-4, 1e-2)\n"
     ]
    },
    {
     "name": "stdout",
     "output_type": "stream",
     "text": [
      "\u001b[1m7/7\u001b[0m \u001b[32m━━━━━━━━━━━━━━━━━━━━\u001b[0m\u001b[37m\u001b[0m \u001b[1m1s\u001b[0m 58ms/step\n",
      "\u001b[1m7/7\u001b[0m \u001b[32m━━━━━━━━━━━━━━━━━━━━\u001b[0m\u001b[37m\u001b[0m \u001b[1m0s\u001b[0m 42ms/step"
     ]
    },
    {
     "name": "stderr",
     "output_type": "stream",
     "text": [
      "[I 2024-12-01 18:05:59,316] Trial 90 finished with value: -1.0 and parameters: {'hidden_units': 48, 'dropout_rate': 0.30939421377747256, 'learning_rate': 0.0003568166438323935, 'batch_size': 64, 'activation': 'relu', 'optimizer': 'adam'}. Best is trial 7 with value: -1.0.\n"
     ]
    },
    {
     "name": "stdout",
     "output_type": "stream",
     "text": [
      "\u001b[1m7/7\u001b[0m \u001b[32m━━━━━━━━━━━━━━━━━━━━\u001b[0m\u001b[37m\u001b[0m \u001b[1m0s\u001b[0m 56ms/step\n",
      "\u001b[1m2/7\u001b[0m \u001b[32m━━━━━\u001b[0m\u001b[37m━━━━━━━━━━━━━━━\u001b[0m \u001b[1m0s\u001b[0m 58ms/step "
     ]
    },
    {
     "name": "stderr",
     "output_type": "stream",
     "text": [
      "C:\\Users\\azad.aliyev\\AppData\\Local\\Temp\\ipykernel_17300\\1127333341.py:6: FutureWarning: suggest_loguniform has been deprecated in v3.0.0. This feature will be removed in v6.0.0. See https://github.com/optuna/optuna/releases/tag/v3.0.0. Use suggest_float(..., log=True) instead.\n",
      "  learning_rate = trial.suggest_loguniform(\"learning_rate\", 1e-4, 1e-2)\n"
     ]
    },
    {
     "name": "stdout",
     "output_type": "stream",
     "text": [
      "\u001b[1m7/7\u001b[0m \u001b[32m━━━━━━━━━━━━━━━━━━━━\u001b[0m\u001b[37m\u001b[0m \u001b[1m1s\u001b[0m 56ms/step\n"
     ]
    },
    {
     "name": "stderr",
     "output_type": "stream",
     "text": [
      "[I 2024-12-01 18:05:59,850] Trial 91 finished with value: -1.0 and parameters: {'hidden_units': 48, 'dropout_rate': 0.34335138818418115, 'learning_rate': 0.00037397897390417634, 'batch_size': 64, 'activation': 'relu', 'optimizer': 'adam'}. Best is trial 7 with value: -1.0.\n",
      "C:\\Users\\azad.aliyev\\AppData\\Local\\Temp\\ipykernel_17300\\1127333341.py:6: FutureWarning: suggest_loguniform has been deprecated in v3.0.0. This feature will be removed in v6.0.0. See https://github.com/optuna/optuna/releases/tag/v3.0.0. Use suggest_float(..., log=True) instead.\n",
      "  learning_rate = trial.suggest_loguniform(\"learning_rate\", 1e-4, 1e-2)\n"
     ]
    },
    {
     "name": "stdout",
     "output_type": "stream",
     "text": [
      "\u001b[1m2/7\u001b[0m \u001b[32m━━━━━\u001b[0m\u001b[37m━━━━━━━━━━━━━━━\u001b[0m \u001b[1m0s\u001b[0m 58ms/step "
     ]
    },
    {
     "name": "stderr",
     "output_type": "stream",
     "text": [
      "[I 2024-12-01 18:06:00,433] Trial 89 finished with value: -1.0 and parameters: {'hidden_units': 48, 'dropout_rate': 0.33867875095152034, 'learning_rate': 0.00027376085414705496, 'batch_size': 64, 'activation': 'relu', 'optimizer': 'adam'}. Best is trial 7 with value: -1.0.\n"
     ]
    },
    {
     "name": "stdout",
     "output_type": "stream",
     "text": [
      "\u001b[1m7/7\u001b[0m \u001b[32m━━━━━━━━━━━━━━━━━━━━\u001b[0m\u001b[37m\u001b[0m \u001b[1m1s\u001b[0m 64ms/step\n"
     ]
    },
    {
     "name": "stderr",
     "output_type": "stream",
     "text": [
      "C:\\Users\\azad.aliyev\\AppData\\Local\\Temp\\ipykernel_17300\\1127333341.py:6: FutureWarning: suggest_loguniform has been deprecated in v3.0.0. This feature will be removed in v6.0.0. See https://github.com/optuna/optuna/releases/tag/v3.0.0. Use suggest_float(..., log=True) instead.\n",
      "  learning_rate = trial.suggest_loguniform(\"learning_rate\", 1e-4, 1e-2)\n",
      "[I 2024-12-01 18:06:01,117] Trial 94 finished with value: -1.0 and parameters: {'hidden_units': 48, 'dropout_rate': 0.33435926628269746, 'learning_rate': 0.0003380699168511292, 'batch_size': 128, 'activation': 'relu', 'optimizer': 'adam'}. Best is trial 7 with value: -1.0.\n",
      "C:\\Users\\azad.aliyev\\AppData\\Local\\Temp\\ipykernel_17300\\1127333341.py:6: FutureWarning: suggest_loguniform has been deprecated in v3.0.0. This feature will be removed in v6.0.0. See https://github.com/optuna/optuna/releases/tag/v3.0.0. Use suggest_float(..., log=True) instead.\n",
      "  learning_rate = trial.suggest_loguniform(\"learning_rate\", 1e-4, 1e-2)\n"
     ]
    },
    {
     "name": "stdout",
     "output_type": "stream",
     "text": [
      "\u001b[1m7/7\u001b[0m \u001b[32m━━━━━━━━━━━━━━━━━━━━\u001b[0m\u001b[37m\u001b[0m \u001b[1m1s\u001b[0m 83ms/step\n"
     ]
    },
    {
     "name": "stderr",
     "output_type": "stream",
     "text": [
      "[I 2024-12-01 18:06:04,841] Trial 95 finished with value: -1.0 and parameters: {'hidden_units': 80, 'dropout_rate': 0.3081599319440699, 'learning_rate': 0.00026725376807481443, 'batch_size': 128, 'activation': 'relu', 'optimizer': 'adam'}. Best is trial 7 with value: -1.0.\n",
      "C:\\Users\\azad.aliyev\\AppData\\Local\\Temp\\ipykernel_17300\\1127333341.py:6: FutureWarning: suggest_loguniform has been deprecated in v3.0.0. This feature will be removed in v6.0.0. See https://github.com/optuna/optuna/releases/tag/v3.0.0. Use suggest_float(..., log=True) instead.\n",
      "  learning_rate = trial.suggest_loguniform(\"learning_rate\", 1e-4, 1e-2)\n"
     ]
    },
    {
     "name": "stdout",
     "output_type": "stream",
     "text": [
      "\u001b[1m7/7\u001b[0m \u001b[32m━━━━━━━━━━━━━━━━━━━━\u001b[0m\u001b[37m\u001b[0m \u001b[1m0s\u001b[0m 28ms/step\n"
     ]
    },
    {
     "name": "stderr",
     "output_type": "stream",
     "text": [
      "[I 2024-12-01 18:06:07,501] Trial 101 finished with value: -1.0 and parameters: {'hidden_units': 80, 'dropout_rate': 0.25987909179076707, 'learning_rate': 0.0014985230131387426, 'batch_size': 128, 'activation': 'tanh', 'optimizer': 'adam'}. Best is trial 7 with value: -1.0.\n",
      "C:\\Users\\azad.aliyev\\AppData\\Local\\Temp\\ipykernel_17300\\1127333341.py:6: FutureWarning: suggest_loguniform has been deprecated in v3.0.0. This feature will be removed in v6.0.0. See https://github.com/optuna/optuna/releases/tag/v3.0.0. Use suggest_float(..., log=True) instead.\n",
      "  learning_rate = trial.suggest_loguniform(\"learning_rate\", 1e-4, 1e-2)\n"
     ]
    },
    {
     "name": "stdout",
     "output_type": "stream",
     "text": [
      "\u001b[1m7/7\u001b[0m \u001b[32m━━━━━━━━━━━━━━━━━━━━\u001b[0m\u001b[37m\u001b[0m \u001b[1m0s\u001b[0m 24ms/step\n"
     ]
    },
    {
     "name": "stderr",
     "output_type": "stream",
     "text": [
      "[I 2024-12-01 18:06:11,371] Trial 96 finished with value: -1.0 and parameters: {'hidden_units': 80, 'dropout_rate': 0.2647135514198711, 'learning_rate': 0.00015638505289060898, 'batch_size': 128, 'activation': 'relu', 'optimizer': 'adam'}. Best is trial 7 with value: -1.0.\n",
      "C:\\Users\\azad.aliyev\\AppData\\Local\\Temp\\ipykernel_17300\\1127333341.py:6: FutureWarning: suggest_loguniform has been deprecated in v3.0.0. This feature will be removed in v6.0.0. See https://github.com/optuna/optuna/releases/tag/v3.0.0. Use suggest_float(..., log=True) instead.\n",
      "  learning_rate = trial.suggest_loguniform(\"learning_rate\", 1e-4, 1e-2)\n"
     ]
    },
    {
     "name": "stdout",
     "output_type": "stream",
     "text": [
      "\u001b[1m7/7\u001b[0m \u001b[32m━━━━━━━━━━━━━━━━━━━━\u001b[0m\u001b[37m\u001b[0m \u001b[1m0s\u001b[0m 20ms/step\n",
      "\u001b[1m1/7\u001b[0m \u001b[32m━━\u001b[0m\u001b[37m━━━━━━━━━━━━━━━━━━\u001b[0m \u001b[1m0s\u001b[0m 82ms/step"
     ]
    },
    {
     "name": "stderr",
     "output_type": "stream",
     "text": [
      "[I 2024-12-01 18:06:13,737] Trial 107 finished with value: -1.0 and parameters: {'hidden_units': 128, 'dropout_rate': 0.26256448087400724, 'learning_rate': 0.0022798539243918466, 'batch_size': 256, 'activation': 'tanh', 'optimizer': 'adam'}. Best is trial 7 with value: -1.0.\n"
     ]
    },
    {
     "name": "stdout",
     "output_type": "stream",
     "text": [
      "\u001b[1m7/7\u001b[0m \u001b[32m━━━━━━━━━━━━━━━━━━━━\u001b[0m\u001b[37m\u001b[0m \u001b[1m0s\u001b[0m 36ms/step\n"
     ]
    },
    {
     "name": "stderr",
     "output_type": "stream",
     "text": [
      "C:\\Users\\azad.aliyev\\AppData\\Local\\Temp\\ipykernel_17300\\1127333341.py:6: FutureWarning: suggest_loguniform has been deprecated in v3.0.0. This feature will be removed in v6.0.0. See https://github.com/optuna/optuna/releases/tag/v3.0.0. Use suggest_float(..., log=True) instead.\n",
      "  learning_rate = trial.suggest_loguniform(\"learning_rate\", 1e-4, 1e-2)\n",
      "[I 2024-12-01 18:06:14,112] Trial 103 finished with value: -1.0 and parameters: {'hidden_units': 80, 'dropout_rate': 0.21830993384641986, 'learning_rate': 0.0007432787287508814, 'batch_size': 256, 'activation': 'tanh', 'optimizer': 'adam'}. Best is trial 7 with value: -1.0.\n",
      "C:\\Users\\azad.aliyev\\AppData\\Local\\Temp\\ipykernel_17300\\1127333341.py:6: FutureWarning: suggest_loguniform has been deprecated in v3.0.0. This feature will be removed in v6.0.0. See https://github.com/optuna/optuna/releases/tag/v3.0.0. Use suggest_float(..., log=True) instead.\n",
      "  learning_rate = trial.suggest_loguniform(\"learning_rate\", 1e-4, 1e-2)\n"
     ]
    },
    {
     "name": "stdout",
     "output_type": "stream",
     "text": [
      "\u001b[1m7/7\u001b[0m \u001b[32m━━━━━━━━━━━━━━━━━━━━\u001b[0m\u001b[37m\u001b[0m \u001b[1m1s\u001b[0m 51ms/step\n",
      "\u001b[1m7/7\u001b[0m \u001b[32m━━━━━━━━━━━━━━━━━━━━\u001b[0m\u001b[37m\u001b[0m \u001b[1m0s\u001b[0m 36ms/step\n"
     ]
    },
    {
     "name": "stderr",
     "output_type": "stream",
     "text": [
      "[I 2024-12-01 18:06:15,346] Trial 102 finished with value: -1.0 and parameters: {'hidden_units': 80, 'dropout_rate': 0.2598407707562939, 'learning_rate': 0.0007860959821594126, 'batch_size': 256, 'activation': 'tanh', 'optimizer': 'adam'}. Best is trial 7 with value: -1.0.\n",
      "C:\\Users\\azad.aliyev\\AppData\\Local\\Temp\\ipykernel_17300\\1127333341.py:6: FutureWarning: suggest_loguniform has been deprecated in v3.0.0. This feature will be removed in v6.0.0. See https://github.com/optuna/optuna/releases/tag/v3.0.0. Use suggest_float(..., log=True) instead.\n",
      "  learning_rate = trial.suggest_loguniform(\"learning_rate\", 1e-4, 1e-2)\n",
      "[I 2024-12-01 18:06:15,563] Trial 98 finished with value: -1.0 and parameters: {'hidden_units': 80, 'dropout_rate': 0.259978612584577, 'learning_rate': 0.00014824721531417757, 'batch_size': 128, 'activation': 'relu', 'optimizer': 'adam'}. Best is trial 7 with value: -1.0.\n",
      "C:\\Users\\azad.aliyev\\AppData\\Local\\Temp\\ipykernel_17300\\1127333341.py:6: FutureWarning: suggest_loguniform has been deprecated in v3.0.0. This feature will be removed in v6.0.0. See https://github.com/optuna/optuna/releases/tag/v3.0.0. Use suggest_float(..., log=True) instead.\n",
      "  learning_rate = trial.suggest_loguniform(\"learning_rate\", 1e-4, 1e-2)\n"
     ]
    },
    {
     "name": "stdout",
     "output_type": "stream",
     "text": [
      "\u001b[1m7/7\u001b[0m \u001b[32m━━━━━━━━━━━━━━━━━━━━\u001b[0m\u001b[37m\u001b[0m \u001b[1m0s\u001b[0m 43ms/step\n"
     ]
    },
    {
     "name": "stderr",
     "output_type": "stream",
     "text": [
      "[I 2024-12-01 18:06:18,231] Trial 97 finished with value: -1.0 and parameters: {'hidden_units': 80, 'dropout_rate': 0.33244204356106444, 'learning_rate': 0.00018372071050912978, 'batch_size': 64, 'activation': 'relu', 'optimizer': 'adam'}. Best is trial 7 with value: -1.0.\n",
      "C:\\Users\\azad.aliyev\\AppData\\Local\\Temp\\ipykernel_17300\\1127333341.py:6: FutureWarning: suggest_loguniform has been deprecated in v3.0.0. This feature will be removed in v6.0.0. See https://github.com/optuna/optuna/releases/tag/v3.0.0. Use suggest_float(..., log=True) instead.\n",
      "  learning_rate = trial.suggest_loguniform(\"learning_rate\", 1e-4, 1e-2)\n"
     ]
    },
    {
     "name": "stdout",
     "output_type": "stream",
     "text": [
      "\u001b[1m7/7\u001b[0m \u001b[32m━━━━━━━━━━━━━━━━━━━━\u001b[0m\u001b[37m\u001b[0m \u001b[1m0s\u001b[0m 35ms/step\n"
     ]
    },
    {
     "name": "stderr",
     "output_type": "stream",
     "text": [
      "[I 2024-12-01 18:06:19,041] Trial 99 finished with value: -1.0 and parameters: {'hidden_units': 80, 'dropout_rate': 0.21286874294294408, 'learning_rate': 0.005728069112714754, 'batch_size': 128, 'activation': 'tanh', 'optimizer': 'adam'}. Best is trial 7 with value: -1.0.\n",
      "C:\\Users\\azad.aliyev\\AppData\\Local\\Temp\\ipykernel_17300\\1127333341.py:6: FutureWarning: suggest_loguniform has been deprecated in v3.0.0. This feature will be removed in v6.0.0. See https://github.com/optuna/optuna/releases/tag/v3.0.0. Use suggest_float(..., log=True) instead.\n",
      "  learning_rate = trial.suggest_loguniform(\"learning_rate\", 1e-4, 1e-2)\n"
     ]
    },
    {
     "name": "stdout",
     "output_type": "stream",
     "text": [
      "\u001b[1m7/7\u001b[0m \u001b[32m━━━━━━━━━━━━━━━━━━━━\u001b[0m\u001b[37m\u001b[0m \u001b[1m0s\u001b[0m 47ms/step\n"
     ]
    },
    {
     "name": "stderr",
     "output_type": "stream",
     "text": [
      "[I 2024-12-01 18:06:20,417] Trial 100 finished with value: -1.0 and parameters: {'hidden_units': 96, 'dropout_rate': 0.21750566188193876, 'learning_rate': 0.00026053019606185683, 'batch_size': 128, 'activation': 'tanh', 'optimizer': 'adam'}. Best is trial 7 with value: -1.0.\n"
     ]
    },
    {
     "name": "stdout",
     "output_type": "stream",
     "text": [
      "\u001b[1m6/7\u001b[0m \u001b[32m━━━━━━━━━━━━━━━━━\u001b[0m\u001b[37m━━━\u001b[0m \u001b[1m0s\u001b[0m 10ms/step "
     ]
    },
    {
     "name": "stderr",
     "output_type": "stream",
     "text": [
      "C:\\Users\\azad.aliyev\\AppData\\Local\\Temp\\ipykernel_17300\\1127333341.py:6: FutureWarning: suggest_loguniform has been deprecated in v3.0.0. This feature will be removed in v6.0.0. See https://github.com/optuna/optuna/releases/tag/v3.0.0. Use suggest_float(..., log=True) instead.\n",
      "  learning_rate = trial.suggest_loguniform(\"learning_rate\", 1e-4, 1e-2)\n"
     ]
    },
    {
     "name": "stdout",
     "output_type": "stream",
     "text": [
      "\u001b[1m7/7\u001b[0m \u001b[32m━━━━━━━━━━━━━━━━━━━━\u001b[0m\u001b[37m\u001b[0m \u001b[1m0s\u001b[0m 38ms/step\n"
     ]
    },
    {
     "name": "stderr",
     "output_type": "stream",
     "text": [
      "[I 2024-12-01 18:06:21,099] Trial 111 finished with value: -1.0 and parameters: {'hidden_units': 96, 'dropout_rate': 0.37002315746138054, 'learning_rate': 0.005820422715725814, 'batch_size': 256, 'activation': 'tanh', 'optimizer': 'rmsprop'}. Best is trial 7 with value: -1.0.\n"
     ]
    },
    {
     "name": "stdout",
     "output_type": "stream",
     "text": [
      "\u001b[1m5/7\u001b[0m \u001b[32m━━━━━━━━━━━━━━\u001b[0m\u001b[37m━━━━━━\u001b[0m \u001b[1m0s\u001b[0m 19ms/step "
     ]
    },
    {
     "name": "stderr",
     "output_type": "stream",
     "text": [
      "C:\\Users\\azad.aliyev\\AppData\\Local\\Temp\\ipykernel_17300\\1127333341.py:6: FutureWarning: suggest_loguniform has been deprecated in v3.0.0. This feature will be removed in v6.0.0. See https://github.com/optuna/optuna/releases/tag/v3.0.0. Use suggest_float(..., log=True) instead.\n",
      "  learning_rate = trial.suggest_loguniform(\"learning_rate\", 1e-4, 1e-2)\n"
     ]
    },
    {
     "name": "stdout",
     "output_type": "stream",
     "text": [
      "\u001b[1m7/7\u001b[0m \u001b[32m━━━━━━━━━━━━━━━━━━━━\u001b[0m\u001b[37m\u001b[0m \u001b[1m0s\u001b[0m 42ms/step\n"
     ]
    },
    {
     "name": "stderr",
     "output_type": "stream",
     "text": [
      "[I 2024-12-01 18:06:21,658] Trial 104 finished with value: -1.0 and parameters: {'hidden_units': 80, 'dropout_rate': 0.3716914222420411, 'learning_rate': 0.0002569724433046106, 'batch_size': 256, 'activation': 'tanh', 'optimizer': 'adam'}. Best is trial 7 with value: -1.0.\n",
      "C:\\Users\\azad.aliyev\\AppData\\Local\\Temp\\ipykernel_17300\\1127333341.py:6: FutureWarning: suggest_loguniform has been deprecated in v3.0.0. This feature will be removed in v6.0.0. See https://github.com/optuna/optuna/releases/tag/v3.0.0. Use suggest_float(..., log=True) instead.\n",
      "  learning_rate = trial.suggest_loguniform(\"learning_rate\", 1e-4, 1e-2)\n"
     ]
    },
    {
     "name": "stdout",
     "output_type": "stream",
     "text": [
      "\u001b[1m7/7\u001b[0m \u001b[32m━━━━━━━━━━━━━━━━━━━━\u001b[0m\u001b[37m\u001b[0m \u001b[1m0s\u001b[0m 46ms/step\n"
     ]
    },
    {
     "name": "stderr",
     "output_type": "stream",
     "text": [
      "[I 2024-12-01 18:06:22,890] Trial 109 finished with value: -1.0 and parameters: {'hidden_units': 128, 'dropout_rate': 0.38686868448263445, 'learning_rate': 0.0007835015541919882, 'batch_size': 256, 'activation': 'tanh', 'optimizer': 'rmsprop'}. Best is trial 7 with value: -1.0.\n"
     ]
    },
    {
     "name": "stdout",
     "output_type": "stream",
     "text": [
      "\u001b[1m7/7\u001b[0m \u001b[32m━━━━━━━━━━━━━━━━━━━━\u001b[0m\u001b[37m\u001b[0m \u001b[1m0s\u001b[0m 36ms/step"
     ]
    },
    {
     "name": "stderr",
     "output_type": "stream",
     "text": [
      "C:\\Users\\azad.aliyev\\AppData\\Local\\Temp\\ipykernel_17300\\1127333341.py:6: FutureWarning: suggest_loguniform has been deprecated in v3.0.0. This feature will be removed in v6.0.0. See https://github.com/optuna/optuna/releases/tag/v3.0.0. Use suggest_float(..., log=True) instead.\n",
      "  learning_rate = trial.suggest_loguniform(\"learning_rate\", 1e-4, 1e-2)\n"
     ]
    },
    {
     "name": "stdout",
     "output_type": "stream",
     "text": [
      "\u001b[1m7/7\u001b[0m \u001b[32m━━━━━━━━━━━━━━━━━━━━\u001b[0m\u001b[37m\u001b[0m \u001b[1m1s\u001b[0m 45ms/step\n",
      "\u001b[1m7/7\u001b[0m \u001b[32m━━━━━━━━━━━━━━━━━━━━\u001b[0m\u001b[37m\u001b[0m \u001b[1m1s\u001b[0m 68ms/step\n"
     ]
    },
    {
     "name": "stderr",
     "output_type": "stream",
     "text": [
      "[I 2024-12-01 18:06:23,557] Trial 106 finished with value: -1.0 and parameters: {'hidden_units': 80, 'dropout_rate': 0.2623966745464229, 'learning_rate': 0.00025955582156814307, 'batch_size': 256, 'activation': 'tanh', 'optimizer': 'adam'}. Best is trial 7 with value: -1.0.\n",
      "C:\\Users\\azad.aliyev\\AppData\\Local\\Temp\\ipykernel_17300\\1127333341.py:6: FutureWarning: suggest_loguniform has been deprecated in v3.0.0. This feature will be removed in v6.0.0. See https://github.com/optuna/optuna/releases/tag/v3.0.0. Use suggest_float(..., log=True) instead.\n",
      "  learning_rate = trial.suggest_loguniform(\"learning_rate\", 1e-4, 1e-2)\n",
      "[I 2024-12-01 18:06:23,883] Trial 105 finished with value: -1.0 and parameters: {'hidden_units': 80, 'dropout_rate': 0.2628858712746319, 'learning_rate': 0.0002721221258857849, 'batch_size': 256, 'activation': 'tanh', 'optimizer': 'adam'}. Best is trial 7 with value: -1.0.\n",
      "C:\\Users\\azad.aliyev\\AppData\\Local\\Temp\\ipykernel_17300\\1127333341.py:6: FutureWarning: suggest_loguniform has been deprecated in v3.0.0. This feature will be removed in v6.0.0. See https://github.com/optuna/optuna/releases/tag/v3.0.0. Use suggest_float(..., log=True) instead.\n",
      "  learning_rate = trial.suggest_loguniform(\"learning_rate\", 1e-4, 1e-2)\n"
     ]
    },
    {
     "name": "stdout",
     "output_type": "stream",
     "text": [
      "\u001b[1m7/7\u001b[0m \u001b[32m━━━━━━━━━━━━━━━━━━━━\u001b[0m\u001b[37m\u001b[0m \u001b[1m1s\u001b[0m 62ms/step\n"
     ]
    },
    {
     "name": "stderr",
     "output_type": "stream",
     "text": [
      "[I 2024-12-01 18:06:25,967] Trial 110 finished with value: -1.0 and parameters: {'hidden_units': 96, 'dropout_rate': 0.37606118855188564, 'learning_rate': 0.0007854456315114579, 'batch_size': 256, 'activation': 'tanh', 'optimizer': 'rmsprop'}. Best is trial 7 with value: -1.0.\n",
      "C:\\Users\\azad.aliyev\\AppData\\Local\\Temp\\ipykernel_17300\\1127333341.py:6: FutureWarning: suggest_loguniform has been deprecated in v3.0.0. This feature will be removed in v6.0.0. See https://github.com/optuna/optuna/releases/tag/v3.0.0. Use suggest_float(..., log=True) instead.\n",
      "  learning_rate = trial.suggest_loguniform(\"learning_rate\", 1e-4, 1e-2)\n"
     ]
    },
    {
     "name": "stdout",
     "output_type": "stream",
     "text": [
      "\u001b[1m7/7\u001b[0m \u001b[32m━━━━━━━━━━━━━━━━━━━━\u001b[0m\u001b[37m\u001b[0m \u001b[1m0s\u001b[0m 35ms/step\n"
     ]
    },
    {
     "name": "stderr",
     "output_type": "stream",
     "text": [
      "[I 2024-12-01 18:06:28,970] Trial 108 finished with value: -1.0 and parameters: {'hidden_units': 128, 'dropout_rate': 0.21417130887690894, 'learning_rate': 0.00024436027044904673, 'batch_size': 256, 'activation': 'tanh', 'optimizer': 'adam'}. Best is trial 7 with value: -1.0.\n",
      "C:\\Users\\azad.aliyev\\AppData\\Local\\Temp\\ipykernel_17300\\1127333341.py:6: FutureWarning: suggest_loguniform has been deprecated in v3.0.0. This feature will be removed in v6.0.0. See https://github.com/optuna/optuna/releases/tag/v3.0.0. Use suggest_float(..., log=True) instead.\n",
      "  learning_rate = trial.suggest_loguniform(\"learning_rate\", 1e-4, 1e-2)\n"
     ]
    },
    {
     "name": "stdout",
     "output_type": "stream",
     "text": [
      "\u001b[1m7/7\u001b[0m \u001b[32m━━━━━━━━━━━━━━━━━━━━\u001b[0m\u001b[37m\u001b[0m \u001b[1m0s\u001b[0m 12ms/step \n"
     ]
    },
    {
     "name": "stderr",
     "output_type": "stream",
     "text": [
      "[I 2024-12-01 18:06:33,980] Trial 123 finished with value: -1.0 and parameters: {'hidden_units': 16, 'dropout_rate': 0.24021380107115456, 'learning_rate': 0.008705908102766238, 'batch_size': 192, 'activation': 'relu', 'optimizer': 'rmsprop'}. Best is trial 7 with value: -1.0.\n",
      "C:\\Users\\azad.aliyev\\AppData\\Local\\Temp\\ipykernel_17300\\1127333341.py:6: FutureWarning: suggest_loguniform has been deprecated in v3.0.0. This feature will be removed in v6.0.0. See https://github.com/optuna/optuna/releases/tag/v3.0.0. Use suggest_float(..., log=True) instead.\n",
      "  learning_rate = trial.suggest_loguniform(\"learning_rate\", 1e-4, 1e-2)\n"
     ]
    },
    {
     "name": "stdout",
     "output_type": "stream",
     "text": [
      "\u001b[1m7/7\u001b[0m \u001b[32m━━━━━━━━━━━━━━━━━━━━\u001b[0m\u001b[37m\u001b[0m \u001b[1m0s\u001b[0m 29ms/step\n"
     ]
    },
    {
     "name": "stderr",
     "output_type": "stream",
     "text": [
      "[I 2024-12-01 18:06:35,529] Trial 113 finished with value: -1.0 and parameters: {'hidden_units': 96, 'dropout_rate': 0.37496672243647494, 'learning_rate': 0.0002289474635624965, 'batch_size': 256, 'activation': 'tanh', 'optimizer': 'rmsprop'}. Best is trial 7 with value: -1.0.\n",
      "C:\\Users\\azad.aliyev\\AppData\\Local\\Temp\\ipykernel_17300\\1127333341.py:6: FutureWarning: suggest_loguniform has been deprecated in v3.0.0. This feature will be removed in v6.0.0. See https://github.com/optuna/optuna/releases/tag/v3.0.0. Use suggest_float(..., log=True) instead.\n",
      "  learning_rate = trial.suggest_loguniform(\"learning_rate\", 1e-4, 1e-2)\n"
     ]
    },
    {
     "name": "stdout",
     "output_type": "stream",
     "text": [
      "\u001b[1m7/7\u001b[0m \u001b[32m━━━━━━━━━━━━━━━━━━━━\u001b[0m\u001b[37m\u001b[0m \u001b[1m0s\u001b[0m 37ms/step\n"
     ]
    },
    {
     "name": "stderr",
     "output_type": "stream",
     "text": [
      "[I 2024-12-01 18:06:36,340] Trial 112 finished with value: -1.0 and parameters: {'hidden_units': 96, 'dropout_rate': 0.37342452069227217, 'learning_rate': 0.00023653601448417268, 'batch_size': 256, 'activation': 'tanh', 'optimizer': 'rmsprop'}. Best is trial 7 with value: -1.0.\n",
      "C:\\Users\\azad.aliyev\\AppData\\Local\\Temp\\ipykernel_17300\\1127333341.py:6: FutureWarning: suggest_loguniform has been deprecated in v3.0.0. This feature will be removed in v6.0.0. See https://github.com/optuna/optuna/releases/tag/v3.0.0. Use suggest_float(..., log=True) instead.\n",
      "  learning_rate = trial.suggest_loguniform(\"learning_rate\", 1e-4, 1e-2)\n"
     ]
    },
    {
     "name": "stdout",
     "output_type": "stream",
     "text": [
      "\u001b[1m7/7\u001b[0m \u001b[32m━━━━━━━━━━━━━━━━━━━━\u001b[0m\u001b[37m\u001b[0m \u001b[1m0s\u001b[0m 40ms/step\n"
     ]
    },
    {
     "name": "stderr",
     "output_type": "stream",
     "text": [
      "[I 2024-12-01 18:06:37,966] Trial 114 finished with value: -1.0 and parameters: {'hidden_units': 96, 'dropout_rate': 0.24273669000893985, 'learning_rate': 0.00022910373308849248, 'batch_size': 256, 'activation': 'tanh', 'optimizer': 'rmsprop'}. Best is trial 7 with value: -1.0.\n",
      "C:\\Users\\azad.aliyev\\AppData\\Local\\Temp\\ipykernel_17300\\1127333341.py:6: FutureWarning: suggest_loguniform has been deprecated in v3.0.0. This feature will be removed in v6.0.0. See https://github.com/optuna/optuna/releases/tag/v3.0.0. Use suggest_float(..., log=True) instead.\n",
      "  learning_rate = trial.suggest_loguniform(\"learning_rate\", 1e-4, 1e-2)\n"
     ]
    },
    {
     "name": "stdout",
     "output_type": "stream",
     "text": [
      "\u001b[1m7/7\u001b[0m \u001b[32m━━━━━━━━━━━━━━━━━━━━\u001b[0m\u001b[37m\u001b[0m \u001b[1m0s\u001b[0m 42ms/step\n"
     ]
    },
    {
     "name": "stderr",
     "output_type": "stream",
     "text": [
      "[I 2024-12-01 18:06:40,220] Trial 115 finished with value: -1.0 and parameters: {'hidden_units': 96, 'dropout_rate': 0.37304576045250204, 'learning_rate': 0.00022379939927295905, 'batch_size': 256, 'activation': 'tanh', 'optimizer': 'rmsprop'}. Best is trial 7 with value: -1.0.\n",
      "C:\\Users\\azad.aliyev\\AppData\\Local\\Temp\\ipykernel_17300\\1127333341.py:6: FutureWarning: suggest_loguniform has been deprecated in v3.0.0. This feature will be removed in v6.0.0. See https://github.com/optuna/optuna/releases/tag/v3.0.0. Use suggest_float(..., log=True) instead.\n",
      "  learning_rate = trial.suggest_loguniform(\"learning_rate\", 1e-4, 1e-2)\n"
     ]
    },
    {
     "name": "stdout",
     "output_type": "stream",
     "text": [
      "\u001b[1m7/7\u001b[0m \u001b[32m━━━━━━━━━━━━━━━━━━━━\u001b[0m\u001b[37m\u001b[0m \u001b[1m0s\u001b[0m 33ms/step\n",
      "\u001b[1m7/7\u001b[0m \u001b[32m━━━━━━━━━━━━━━━━━━━━\u001b[0m\u001b[37m\u001b[0m \u001b[1m0s\u001b[0m 35ms/step\n",
      "\u001b[1m7/7\u001b[0m \u001b[32m━━━━━━━━━━━━━━━━━━━━\u001b[0m\u001b[37m\u001b[0m \u001b[1m0s\u001b[0m 31ms/step "
     ]
    },
    {
     "name": "stderr",
     "output_type": "stream",
     "text": [
      "[I 2024-12-01 18:06:41,129] Trial 117 finished with value: -1.0 and parameters: {'hidden_units': 128, 'dropout_rate': 0.37252484422183973, 'learning_rate': 0.00022525574611981415, 'batch_size': 256, 'activation': 'tanh', 'optimizer': 'rmsprop'}. Best is trial 7 with value: -1.0.\n"
     ]
    },
    {
     "name": "stdout",
     "output_type": "stream",
     "text": [
      "\u001b[1m7/7\u001b[0m \u001b[32m━━━━━━━━━━━━━━━━━━━━\u001b[0m\u001b[37m\u001b[0m \u001b[1m0s\u001b[0m 36ms/step\n"
     ]
    },
    {
     "name": "stderr",
     "output_type": "stream",
     "text": [
      "[I 2024-12-01 18:06:41,204] Trial 122 finished with value: -1.0 and parameters: {'hidden_units': 16, 'dropout_rate': 0.40441744605219015, 'learning_rate': 0.00876563019995085, 'batch_size': 192, 'activation': 'tanh', 'optimizer': 'rmsprop'}. Best is trial 7 with value: -1.0.\n",
      "C:\\Users\\azad.aliyev\\AppData\\Local\\Temp\\ipykernel_17300\\1127333341.py:6: FutureWarning: suggest_loguniform has been deprecated in v3.0.0. This feature will be removed in v6.0.0. See https://github.com/optuna/optuna/releases/tag/v3.0.0. Use suggest_float(..., log=True) instead.\n",
      "  learning_rate = trial.suggest_loguniform(\"learning_rate\", 1e-4, 1e-2)\n",
      "C:\\Users\\azad.aliyev\\AppData\\Local\\Temp\\ipykernel_17300\\1127333341.py:6: FutureWarning: suggest_loguniform has been deprecated in v3.0.0. This feature will be removed in v6.0.0. See https://github.com/optuna/optuna/releases/tag/v3.0.0. Use suggest_float(..., log=True) instead.\n",
      "  learning_rate = trial.suggest_loguniform(\"learning_rate\", 1e-4, 1e-2)\n",
      "[I 2024-12-01 18:06:41,429] Trial 116 finished with value: -1.0 and parameters: {'hidden_units': 96, 'dropout_rate': 0.3741618724451833, 'learning_rate': 0.00022726327216408194, 'batch_size': 256, 'activation': 'tanh', 'optimizer': 'rmsprop'}. Best is trial 7 with value: -1.0.\n",
      "C:\\Users\\azad.aliyev\\AppData\\Local\\Temp\\ipykernel_17300\\1127333341.py:6: FutureWarning: suggest_loguniform has been deprecated in v3.0.0. This feature will be removed in v6.0.0. See https://github.com/optuna/optuna/releases/tag/v3.0.0. Use suggest_float(..., log=True) instead.\n",
      "  learning_rate = trial.suggest_loguniform(\"learning_rate\", 1e-4, 1e-2)\n"
     ]
    },
    {
     "name": "stdout",
     "output_type": "stream",
     "text": [
      "\u001b[1m7/7\u001b[0m \u001b[32m━━━━━━━━━━━━━━━━━━━━\u001b[0m\u001b[37m\u001b[0m \u001b[1m0s\u001b[0m 46ms/step\n"
     ]
    },
    {
     "name": "stderr",
     "output_type": "stream",
     "text": [
      "[I 2024-12-01 18:06:42,363] Trial 118 finished with value: -1.0 and parameters: {'hidden_units': 128, 'dropout_rate': 0.3946865340211113, 'learning_rate': 0.0001846995412375529, 'batch_size': 256, 'activation': 'tanh', 'optimizer': 'rmsprop'}. Best is trial 7 with value: -1.0.\n"
     ]
    },
    {
     "name": "stdout",
     "output_type": "stream",
     "text": [
      "\u001b[1m5/7\u001b[0m \u001b[32m━━━━━━━━━━━━━━\u001b[0m\u001b[37m━━━━━━\u001b[0m \u001b[1m0s\u001b[0m 14ms/step "
     ]
    },
    {
     "name": "stderr",
     "output_type": "stream",
     "text": [
      "C:\\Users\\azad.aliyev\\AppData\\Local\\Temp\\ipykernel_17300\\1127333341.py:6: FutureWarning: suggest_loguniform has been deprecated in v3.0.0. This feature will be removed in v6.0.0. See https://github.com/optuna/optuna/releases/tag/v3.0.0. Use suggest_float(..., log=True) instead.\n",
      "  learning_rate = trial.suggest_loguniform(\"learning_rate\", 1e-4, 1e-2)\n"
     ]
    },
    {
     "name": "stdout",
     "output_type": "stream",
     "text": [
      "\u001b[1m7/7\u001b[0m \u001b[32m━━━━━━━━━━━━━━━━━━━━\u001b[0m\u001b[37m\u001b[0m \u001b[1m0s\u001b[0m 42ms/step\n"
     ]
    },
    {
     "name": "stderr",
     "output_type": "stream",
     "text": [
      "[I 2024-12-01 18:06:45,957] Trial 119 finished with value: -1.0 and parameters: {'hidden_units': 96, 'dropout_rate': 0.24270504024933462, 'learning_rate': 0.008721778235848653, 'batch_size': 192, 'activation': 'relu', 'optimizer': 'rmsprop'}. Best is trial 7 with value: -1.0.\n",
      "C:\\Users\\azad.aliyev\\AppData\\Local\\Temp\\ipykernel_17300\\1127333341.py:6: FutureWarning: suggest_loguniform has been deprecated in v3.0.0. This feature will be removed in v6.0.0. See https://github.com/optuna/optuna/releases/tag/v3.0.0. Use suggest_float(..., log=True) instead.\n",
      "  learning_rate = trial.suggest_loguniform(\"learning_rate\", 1e-4, 1e-2)\n"
     ]
    },
    {
     "name": "stdout",
     "output_type": "stream",
     "text": [
      "\u001b[1m7/7\u001b[0m \u001b[32m━━━━━━━━━━━━━━━━━━━━\u001b[0m\u001b[37m\u001b[0m \u001b[1m1s\u001b[0m 50ms/step\n"
     ]
    },
    {
     "name": "stderr",
     "output_type": "stream",
     "text": [
      "[I 2024-12-01 18:06:48,999] Trial 120 finished with value: -1.0 and parameters: {'hidden_units': 96, 'dropout_rate': 0.24143059910401896, 'learning_rate': 0.0002319745277152952, 'batch_size': 192, 'activation': 'relu', 'optimizer': 'rmsprop'}. Best is trial 7 with value: -1.0.\n",
      "C:\\Users\\azad.aliyev\\AppData\\Local\\Temp\\ipykernel_17300\\1127333341.py:6: FutureWarning: suggest_loguniform has been deprecated in v3.0.0. This feature will be removed in v6.0.0. See https://github.com/optuna/optuna/releases/tag/v3.0.0. Use suggest_float(..., log=True) instead.\n",
      "  learning_rate = trial.suggest_loguniform(\"learning_rate\", 1e-4, 1e-2)\n"
     ]
    },
    {
     "name": "stdout",
     "output_type": "stream",
     "text": [
      "\u001b[1m7/7\u001b[0m \u001b[32m━━━━━━━━━━━━━━━━━━━━\u001b[0m\u001b[37m\u001b[0m \u001b[1m1s\u001b[0m 59ms/step\n"
     ]
    },
    {
     "name": "stderr",
     "output_type": "stream",
     "text": [
      "[I 2024-12-01 18:06:50,118] Trial 121 finished with value: -1.0 and parameters: {'hidden_units': 96, 'dropout_rate': 0.2375155555883675, 'learning_rate': 0.00022737278492507775, 'batch_size': 192, 'activation': 'relu', 'optimizer': 'rmsprop'}. Best is trial 7 with value: -1.0.\n",
      "C:\\Users\\azad.aliyev\\AppData\\Local\\Temp\\ipykernel_17300\\1127333341.py:6: FutureWarning: suggest_loguniform has been deprecated in v3.0.0. This feature will be removed in v6.0.0. See https://github.com/optuna/optuna/releases/tag/v3.0.0. Use suggest_float(..., log=True) instead.\n",
      "  learning_rate = trial.suggest_loguniform(\"learning_rate\", 1e-4, 1e-2)\n"
     ]
    },
    {
     "name": "stdout",
     "output_type": "stream",
     "text": [
      "\u001b[1m7/7\u001b[0m \u001b[32m━━━━━━━━━━━━━━━━━━━━\u001b[0m\u001b[37m\u001b[0m \u001b[1m0s\u001b[0m 22ms/step\n"
     ]
    },
    {
     "name": "stderr",
     "output_type": "stream",
     "text": [
      "[I 2024-12-01 18:06:55,988] Trial 124 finished with value: -1.0 and parameters: {'hidden_units': 64, 'dropout_rate': 0.40970896648884975, 'learning_rate': 0.0003088929201304793, 'batch_size': 192, 'activation': 'tanh', 'optimizer': 'rmsprop'}. Best is trial 7 with value: -1.0.\n",
      "C:\\Users\\azad.aliyev\\AppData\\Local\\Temp\\ipykernel_17300\\1127333341.py:6: FutureWarning: suggest_loguniform has been deprecated in v3.0.0. This feature will be removed in v6.0.0. See https://github.com/optuna/optuna/releases/tag/v3.0.0. Use suggest_float(..., log=True) instead.\n",
      "  learning_rate = trial.suggest_loguniform(\"learning_rate\", 1e-4, 1e-2)\n"
     ]
    },
    {
     "name": "stdout",
     "output_type": "stream",
     "text": [
      "\u001b[1m7/7\u001b[0m \u001b[32m━━━━━━━━━━━━━━━━━━━━\u001b[0m\u001b[37m\u001b[0m \u001b[1m0s\u001b[0m 30ms/step\n"
     ]
    },
    {
     "name": "stderr",
     "output_type": "stream",
     "text": [
      "[I 2024-12-01 18:06:56,813] Trial 129 finished with value: -1.0 and parameters: {'hidden_units': 16, 'dropout_rate': 0.3000652914891002, 'learning_rate': 0.009687172568785455, 'batch_size': 192, 'activation': 'relu', 'optimizer': 'rmsprop'}. Best is trial 7 with value: -1.0.\n",
      "C:\\Users\\azad.aliyev\\AppData\\Local\\Temp\\ipykernel_17300\\1127333341.py:6: FutureWarning: suggest_loguniform has been deprecated in v3.0.0. This feature will be removed in v6.0.0. See https://github.com/optuna/optuna/releases/tag/v3.0.0. Use suggest_float(..., log=True) instead.\n",
      "  learning_rate = trial.suggest_loguniform(\"learning_rate\", 1e-4, 1e-2)\n"
     ]
    },
    {
     "name": "stdout",
     "output_type": "stream",
     "text": [
      "\u001b[1m7/7\u001b[0m \u001b[32m━━━━━━━━━━━━━━━━━━━━\u001b[0m\u001b[37m\u001b[0m \u001b[1m0s\u001b[0m 31ms/step\n"
     ]
    },
    {
     "name": "stderr",
     "output_type": "stream",
     "text": [
      "[I 2024-12-01 18:06:57,754] Trial 125 finished with value: -1.0 and parameters: {'hidden_units': 64, 'dropout_rate': 0.4051051541518614, 'learning_rate': 0.009923901566474394, 'batch_size': 192, 'activation': 'relu', 'optimizer': 'rmsprop'}. Best is trial 7 with value: -1.0.\n",
      "C:\\Users\\azad.aliyev\\AppData\\Local\\Temp\\ipykernel_17300\\1127333341.py:6: FutureWarning: suggest_loguniform has been deprecated in v3.0.0. This feature will be removed in v6.0.0. See https://github.com/optuna/optuna/releases/tag/v3.0.0. Use suggest_float(..., log=True) instead.\n",
      "  learning_rate = trial.suggest_loguniform(\"learning_rate\", 1e-4, 1e-2)\n"
     ]
    },
    {
     "name": "stdout",
     "output_type": "stream",
     "text": [
      "\u001b[1m7/7\u001b[0m \u001b[32m━━━━━━━━━━━━━━━━━━━━\u001b[0m\u001b[37m\u001b[0m \u001b[1m0s\u001b[0m 38ms/step\n",
      "\u001b[1m7/7\u001b[0m \u001b[32m━━━━━━━━━━━━━━━━━━━━\u001b[0m\u001b[37m\u001b[0m \u001b[1m0s\u001b[0m 46ms/step\n"
     ]
    },
    {
     "name": "stderr",
     "output_type": "stream",
     "text": [
      "[I 2024-12-01 18:07:00,600] Trial 126 finished with value: -1.0 and parameters: {'hidden_units': 16, 'dropout_rate': 0.3547565190140442, 'learning_rate': 0.0003140683551142044, 'batch_size': 192, 'activation': 'relu', 'optimizer': 'rmsprop'}. Best is trial 7 with value: -1.0.\n",
      "C:\\Users\\azad.aliyev\\AppData\\Local\\Temp\\ipykernel_17300\\1127333341.py:6: FutureWarning: suggest_loguniform has been deprecated in v3.0.0. This feature will be removed in v6.0.0. See https://github.com/optuna/optuna/releases/tag/v3.0.0. Use suggest_float(..., log=True) instead.\n",
      "  learning_rate = trial.suggest_loguniform(\"learning_rate\", 1e-4, 1e-2)\n",
      "[I 2024-12-01 18:07:00,800] Trial 133 finished with value: -1.0 and parameters: {'hidden_units': 32, 'dropout_rate': 0.3536406388330871, 'learning_rate': 0.004332125984888441, 'batch_size': 64, 'activation': 'relu', 'optimizer': 'adam'}. Best is trial 7 with value: -1.0.\n",
      "C:\\Users\\azad.aliyev\\AppData\\Local\\Temp\\ipykernel_17300\\1127333341.py:6: FutureWarning: suggest_loguniform has been deprecated in v3.0.0. This feature will be removed in v6.0.0. See https://github.com/optuna/optuna/releases/tag/v3.0.0. Use suggest_float(..., log=True) instead.\n",
      "  learning_rate = trial.suggest_loguniform(\"learning_rate\", 1e-4, 1e-2)\n"
     ]
    },
    {
     "name": "stdout",
     "output_type": "stream",
     "text": [
      "\u001b[1m7/7\u001b[0m \u001b[32m━━━━━━━━━━━━━━━━━━━━\u001b[0m\u001b[37m\u001b[0m \u001b[1m0s\u001b[0m 51ms/step\n"
     ]
    },
    {
     "name": "stderr",
     "output_type": "stream",
     "text": [
      "[I 2024-12-01 18:07:01,915] Trial 127 finished with value: -1.0 and parameters: {'hidden_units': 64, 'dropout_rate': 0.40200393982658644, 'learning_rate': 0.00018234170525211385, 'batch_size': 192, 'activation': 'relu', 'optimizer': 'rmsprop'}. Best is trial 7 with value: -1.0.\n",
      "C:\\Users\\azad.aliyev\\AppData\\Local\\Temp\\ipykernel_17300\\1127333341.py:6: FutureWarning: suggest_loguniform has been deprecated in v3.0.0. This feature will be removed in v6.0.0. See https://github.com/optuna/optuna/releases/tag/v3.0.0. Use suggest_float(..., log=True) instead.\n",
      "  learning_rate = trial.suggest_loguniform(\"learning_rate\", 1e-4, 1e-2)\n"
     ]
    },
    {
     "name": "stdout",
     "output_type": "stream",
     "text": [
      "\u001b[1m7/7\u001b[0m \u001b[32m━━━━━━━━━━━━━━━━━━━━\u001b[0m\u001b[37m\u001b[0m \u001b[1m0s\u001b[0m 49ms/step\n"
     ]
    },
    {
     "name": "stderr",
     "output_type": "stream",
     "text": [
      "[I 2024-12-01 18:07:03,549] Trial 130 finished with value: -1.0 and parameters: {'hidden_units': 16, 'dropout_rate': 0.2856491190573841, 'learning_rate': 0.009954316318560308, 'batch_size': 192, 'activation': 'relu', 'optimizer': 'rmsprop'}. Best is trial 7 with value: -1.0.\n",
      "C:\\Users\\azad.aliyev\\AppData\\Local\\Temp\\ipykernel_17300\\1127333341.py:6: FutureWarning: suggest_loguniform has been deprecated in v3.0.0. This feature will be removed in v6.0.0. See https://github.com/optuna/optuna/releases/tag/v3.0.0. Use suggest_float(..., log=True) instead.\n",
      "  learning_rate = trial.suggest_loguniform(\"learning_rate\", 1e-4, 1e-2)\n"
     ]
    },
    {
     "name": "stdout",
     "output_type": "stream",
     "text": [
      "\u001b[1m7/7\u001b[0m \u001b[32m━━━━━━━━━━━━━━━━━━━━\u001b[0m\u001b[37m\u001b[0m \u001b[1m1s\u001b[0m 56ms/step\n"
     ]
    },
    {
     "name": "stderr",
     "output_type": "stream",
     "text": [
      "[I 2024-12-01 18:07:05,100] Trial 128 finished with value: -1.0 and parameters: {'hidden_units': 64, 'dropout_rate': 0.40300265642238947, 'learning_rate': 0.0003063559997113002, 'batch_size': 192, 'activation': 'relu', 'optimizer': 'rmsprop'}. Best is trial 7 with value: -1.0.\n",
      "C:\\Users\\azad.aliyev\\AppData\\Local\\Temp\\ipykernel_17300\\1127333341.py:6: FutureWarning: suggest_loguniform has been deprecated in v3.0.0. This feature will be removed in v6.0.0. See https://github.com/optuna/optuna/releases/tag/v3.0.0. Use suggest_float(..., log=True) instead.\n",
      "  learning_rate = trial.suggest_loguniform(\"learning_rate\", 1e-4, 1e-2)\n"
     ]
    },
    {
     "name": "stdout",
     "output_type": "stream",
     "text": [
      "\u001b[1m7/7\u001b[0m \u001b[32m━━━━━━━━━━━━━━━━━━━━\u001b[0m\u001b[37m\u001b[0m \u001b[1m0s\u001b[0m 42ms/step\n"
     ]
    },
    {
     "name": "stderr",
     "output_type": "stream",
     "text": [
      "[I 2024-12-01 18:07:06,790] Trial 131 finished with value: -1.0 and parameters: {'hidden_units': 64, 'dropout_rate': 0.3534580939244618, 'learning_rate': 0.00030026756208865107, 'batch_size': 192, 'activation': 'relu', 'optimizer': 'rmsprop'}. Best is trial 7 with value: -1.0.\n",
      "C:\\Users\\azad.aliyev\\AppData\\Local\\Temp\\ipykernel_17300\\1127333341.py:6: FutureWarning: suggest_loguniform has been deprecated in v3.0.0. This feature will be removed in v6.0.0. See https://github.com/optuna/optuna/releases/tag/v3.0.0. Use suggest_float(..., log=True) instead.\n",
      "  learning_rate = trial.suggest_loguniform(\"learning_rate\", 1e-4, 1e-2)\n"
     ]
    },
    {
     "name": "stdout",
     "output_type": "stream",
     "text": [
      "\u001b[1m7/7\u001b[0m \u001b[32m━━━━━━━━━━━━━━━━━━━━\u001b[0m\u001b[37m\u001b[0m \u001b[1m0s\u001b[0m 39ms/step\n"
     ]
    },
    {
     "name": "stderr",
     "output_type": "stream",
     "text": [
      "[I 2024-12-01 18:07:08,483] Trial 132 finished with value: -1.0 and parameters: {'hidden_units': 32, 'dropout_rate': 0.46544354035219937, 'learning_rate': 0.009965579982930588, 'batch_size': 192, 'activation': 'relu', 'optimizer': 'adam'}. Best is trial 7 with value: -1.0.\n",
      "C:\\Users\\azad.aliyev\\AppData\\Local\\Temp\\ipykernel_17300\\1127333341.py:6: FutureWarning: suggest_loguniform has been deprecated in v3.0.0. This feature will be removed in v6.0.0. See https://github.com/optuna/optuna/releases/tag/v3.0.0. Use suggest_float(..., log=True) instead.\n",
      "  learning_rate = trial.suggest_loguniform(\"learning_rate\", 1e-4, 1e-2)\n"
     ]
    },
    {
     "name": "stdout",
     "output_type": "stream",
     "text": [
      "\u001b[1m7/7\u001b[0m \u001b[32m━━━━━━━━━━━━━━━━━━━━\u001b[0m\u001b[37m\u001b[0m \u001b[1m0s\u001b[0m 46ms/step\n"
     ]
    },
    {
     "name": "stderr",
     "output_type": "stream",
     "text": [
      "[I 2024-12-01 18:07:11,117] Trial 135 finished with value: -1.0 and parameters: {'hidden_units': 32, 'dropout_rate': 0.4619138227154739, 'learning_rate': 0.009961365731880025, 'batch_size': 64, 'activation': 'relu', 'optimizer': 'adam'}. Best is trial 7 with value: -1.0.\n",
      "C:\\Users\\azad.aliyev\\AppData\\Local\\Temp\\ipykernel_17300\\1127333341.py:6: FutureWarning: suggest_loguniform has been deprecated in v3.0.0. This feature will be removed in v6.0.0. See https://github.com/optuna/optuna/releases/tag/v3.0.0. Use suggest_float(..., log=True) instead.\n",
      "  learning_rate = trial.suggest_loguniform(\"learning_rate\", 1e-4, 1e-2)\n"
     ]
    },
    {
     "name": "stdout",
     "output_type": "stream",
     "text": [
      "\u001b[1m7/7\u001b[0m \u001b[32m━━━━━━━━━━━━━━━━━━━━\u001b[0m\u001b[37m\u001b[0m \u001b[1m0s\u001b[0m 35ms/step\n"
     ]
    },
    {
     "name": "stderr",
     "output_type": "stream",
     "text": [
      "[I 2024-12-01 18:07:13,802] Trial 138 finished with value: -1.0 and parameters: {'hidden_units': 32, 'dropout_rate': 0.4621759795646891, 'learning_rate': 0.007652072228962555, 'batch_size': 64, 'activation': 'relu', 'optimizer': 'adam'}. Best is trial 7 with value: -1.0.\n",
      "C:\\Users\\azad.aliyev\\AppData\\Local\\Temp\\ipykernel_17300\\1127333341.py:6: FutureWarning: suggest_loguniform has been deprecated in v3.0.0. This feature will be removed in v6.0.0. See https://github.com/optuna/optuna/releases/tag/v3.0.0. Use suggest_float(..., log=True) instead.\n",
      "  learning_rate = trial.suggest_loguniform(\"learning_rate\", 1e-4, 1e-2)\n"
     ]
    },
    {
     "name": "stdout",
     "output_type": "stream",
     "text": [
      "\u001b[1m7/7\u001b[0m \u001b[32m━━━━━━━━━━━━━━━━━━━━\u001b[0m\u001b[37m\u001b[0m \u001b[1m0s\u001b[0m 33ms/step\n"
     ]
    },
    {
     "name": "stderr",
     "output_type": "stream",
     "text": [
      "[I 2024-12-01 18:07:14,677] Trial 137 finished with value: -1.0 and parameters: {'hidden_units': 32, 'dropout_rate': 0.2231200222800451, 'learning_rate': 0.007639747109453727, 'batch_size': 64, 'activation': 'relu', 'optimizer': 'adam'}. Best is trial 7 with value: -1.0.\n",
      "C:\\Users\\azad.aliyev\\AppData\\Local\\Temp\\ipykernel_17300\\1127333341.py:6: FutureWarning: suggest_loguniform has been deprecated in v3.0.0. This feature will be removed in v6.0.0. See https://github.com/optuna/optuna/releases/tag/v3.0.0. Use suggest_float(..., log=True) instead.\n",
      "  learning_rate = trial.suggest_loguniform(\"learning_rate\", 1e-4, 1e-2)\n"
     ]
    },
    {
     "name": "stdout",
     "output_type": "stream",
     "text": [
      "\u001b[1m7/7\u001b[0m \u001b[32m━━━━━━━━━━━━━━━━━━━━\u001b[0m\u001b[37m\u001b[0m \u001b[1m0s\u001b[0m 36ms/step\n"
     ]
    },
    {
     "name": "stderr",
     "output_type": "stream",
     "text": [
      "[I 2024-12-01 18:07:16,713] Trial 134 finished with value: -1.0 and parameters: {'hidden_units': 32, 'dropout_rate': 0.2968532547777001, 'learning_rate': 0.0003115341156348868, 'batch_size': 64, 'activation': 'relu', 'optimizer': 'adam'}. Best is trial 7 with value: -1.0.\n",
      "C:\\Users\\azad.aliyev\\AppData\\Local\\Temp\\ipykernel_17300\\1127333341.py:6: FutureWarning: suggest_loguniform has been deprecated in v3.0.0. This feature will be removed in v6.0.0. See https://github.com/optuna/optuna/releases/tag/v3.0.0. Use suggest_float(..., log=True) instead.\n",
      "  learning_rate = trial.suggest_loguniform(\"learning_rate\", 1e-4, 1e-2)\n"
     ]
    },
    {
     "name": "stdout",
     "output_type": "stream",
     "text": [
      "\u001b[1m7/7\u001b[0m \u001b[32m━━━━━━━━━━━━━━━━━━━━\u001b[0m\u001b[37m\u001b[0m \u001b[1m0s\u001b[0m 35ms/step\n"
     ]
    },
    {
     "name": "stderr",
     "output_type": "stream",
     "text": [
      "[I 2024-12-01 18:07:17,947] Trial 136 finished with value: -1.0 and parameters: {'hidden_units': 32, 'dropout_rate': 0.49023848689826943, 'learning_rate': 0.00415690867781497, 'batch_size': 64, 'activation': 'relu', 'optimizer': 'adam'}. Best is trial 7 with value: -1.0.\n"
     ]
    },
    {
     "name": "stdout",
     "output_type": "stream",
     "text": [
      "\u001b[1m7/7\u001b[0m \u001b[32m━━━━━━━━━━━━━━━━━━━━\u001b[0m\u001b[37m\u001b[0m \u001b[1m0s\u001b[0m 49ms/step\n",
      "\u001b[1m1/7\u001b[0m \u001b[32m━━\u001b[0m\u001b[37m━━━━━━━━━━━━━━━━━━\u001b[0m \u001b[1m0s\u001b[0m 133ms/step"
     ]
    },
    {
     "name": "stderr",
     "output_type": "stream",
     "text": [
      "[I 2024-12-01 18:07:19,774] Trial 140 finished with value: -1.0 and parameters: {'hidden_units': 32, 'dropout_rate': 0.46976394026201285, 'learning_rate': 0.0033023263509804252, 'batch_size': 64, 'activation': 'relu', 'optimizer': 'adam'}. Best is trial 7 with value: -1.0.\n"
     ]
    },
    {
     "name": "stdout",
     "output_type": "stream",
     "text": [
      "\u001b[1m7/7\u001b[0m \u001b[32m━━━━━━━━━━━━━━━━━━━━\u001b[0m\u001b[37m\u001b[0m \u001b[1m0s\u001b[0m 40ms/step\n",
      "\u001b[1m6/7\u001b[0m \u001b[32m━━━━━━━━━━━━━━━━━\u001b[0m\u001b[37m━━━\u001b[0m \u001b[1m0s\u001b[0m 12ms/step "
     ]
    },
    {
     "name": "stderr",
     "output_type": "stream",
     "text": [
      "[I 2024-12-01 18:07:20,199] Trial 142 finished with value: -1.0 and parameters: {'hidden_units': 32, 'dropout_rate': 0.42410955604092493, 'learning_rate': 0.007115969496324882, 'batch_size': 64, 'activation': 'relu', 'optimizer': 'adam'}. Best is trial 7 with value: -1.0.\n"
     ]
    },
    {
     "name": "stdout",
     "output_type": "stream",
     "text": [
      "\u001b[1m7/7\u001b[0m \u001b[32m━━━━━━━━━━━━━━━━━━━━\u001b[0m\u001b[37m\u001b[0m \u001b[1m0s\u001b[0m 39ms/step\n"
     ]
    },
    {
     "name": "stderr",
     "output_type": "stream",
     "text": [
      "[I 2024-12-01 18:07:20,408] Trial 139 finished with value: -1.0 and parameters: {'hidden_units': 32, 'dropout_rate': 0.4956330695373441, 'learning_rate': 0.007211573596124098, 'batch_size': 64, 'activation': 'relu', 'optimizer': 'adam'}. Best is trial 7 with value: -1.0.\n"
     ]
    },
    {
     "name": "stdout",
     "output_type": "stream",
     "text": [
      "\u001b[1m7/7\u001b[0m \u001b[32m━━━━━━━━━━━━━━━━━━━━\u001b[0m\u001b[37m\u001b[0m \u001b[1m0s\u001b[0m 14ms/step\n"
     ]
    },
    {
     "name": "stderr",
     "output_type": "stream",
     "text": [
      "[I 2024-12-01 18:07:23,448] Trial 146 finished with value: -1.0 and parameters: {'hidden_units': 16, 'dropout_rate': 0.42016710194030765, 'learning_rate': 0.007359728322536272, 'batch_size': 64, 'activation': 'tanh', 'optimizer': 'adam'}. Best is trial 7 with value: -1.0.\n"
     ]
    },
    {
     "name": "stdout",
     "output_type": "stream",
     "text": [
      "\u001b[1m7/7\u001b[0m \u001b[32m━━━━━━━━━━━━━━━━━━━━\u001b[0m\u001b[37m\u001b[0m \u001b[1m0s\u001b[0m 17ms/step\n"
     ]
    },
    {
     "name": "stderr",
     "output_type": "stream",
     "text": [
      "[I 2024-12-01 18:07:23,674] Trial 145 finished with value: -1.0 and parameters: {'hidden_units': 16, 'dropout_rate': 0.4249041474752081, 'learning_rate': 0.006556876606029471, 'batch_size': 64, 'activation': 'tanh', 'optimizer': 'adam'}. Best is trial 7 with value: -1.0.\n"
     ]
    },
    {
     "name": "stdout",
     "output_type": "stream",
     "text": [
      "\u001b[1m7/7\u001b[0m \u001b[32m━━━━━━━━━━━━━━━━━━━━\u001b[0m\u001b[37m\u001b[0m \u001b[1m0s\u001b[0m 13ms/step\n"
     ]
    },
    {
     "name": "stderr",
     "output_type": "stream",
     "text": [
      "[I 2024-12-01 18:07:24,525] Trial 141 finished with value: -1.0 and parameters: {'hidden_units': 32, 'dropout_rate': 0.4704626331620808, 'learning_rate': 0.007809241159324519, 'batch_size': 64, 'activation': 'relu', 'optimizer': 'adam'}. Best is trial 7 with value: -1.0.\n"
     ]
    },
    {
     "name": "stdout",
     "output_type": "stream",
     "text": [
      "\u001b[1m7/7\u001b[0m \u001b[32m━━━━━━━━━━━━━━━━━━━━\u001b[0m\u001b[37m\u001b[0m \u001b[1m0s\u001b[0m 13ms/step\n"
     ]
    },
    {
     "name": "stderr",
     "output_type": "stream",
     "text": [
      "[I 2024-12-01 18:07:24,941] Trial 143 finished with value: -1.0 and parameters: {'hidden_units': 32, 'dropout_rate': 0.4983862559922861, 'learning_rate': 0.007695215466757074, 'batch_size': 64, 'activation': 'tanh', 'optimizer': 'adam'}. Best is trial 7 with value: -1.0.\n"
     ]
    },
    {
     "name": "stdout",
     "output_type": "stream",
     "text": [
      "\u001b[1m7/7\u001b[0m \u001b[32m━━━━━━━━━━━━━━━━━━━━\u001b[0m\u001b[37m\u001b[0m \u001b[1m0s\u001b[0m 14ms/step\n"
     ]
    },
    {
     "name": "stderr",
     "output_type": "stream",
     "text": [
      "[I 2024-12-01 18:07:25,806] Trial 144 finished with value: -1.0 and parameters: {'hidden_units': 32, 'dropout_rate': 0.47671483034369955, 'learning_rate': 0.003424137828294021, 'batch_size': 64, 'activation': 'tanh', 'optimizer': 'adam'}. Best is trial 7 with value: -1.0.\n"
     ]
    },
    {
     "name": "stdout",
     "output_type": "stream",
     "text": [
      "\u001b[1m7/7\u001b[0m \u001b[32m━━━━━━━━━━━━━━━━━━━━\u001b[0m\u001b[37m\u001b[0m \u001b[1m0s\u001b[0m 10ms/step\n"
     ]
    },
    {
     "name": "stderr",
     "output_type": "stream",
     "text": [
      "[I 2024-12-01 18:07:26,790] Trial 147 finished with value: -1.0 and parameters: {'hidden_units': 16, 'dropout_rate': 0.4198975212710078, 'learning_rate': 0.006936037062145062, 'batch_size': 64, 'activation': 'tanh', 'optimizer': 'adam'}. Best is trial 7 with value: -1.0.\n"
     ]
    },
    {
     "name": "stdout",
     "output_type": "stream",
     "text": [
      "\u001b[1m7/7\u001b[0m \u001b[32m━━━━━━━━━━━━━━━━━━━━\u001b[0m\u001b[37m\u001b[0m \u001b[1m0s\u001b[0m 8ms/step \n"
     ]
    },
    {
     "name": "stderr",
     "output_type": "stream",
     "text": [
      "[I 2024-12-01 18:07:27,265] Trial 148 finished with value: -1.0 and parameters: {'hidden_units': 16, 'dropout_rate': 0.433234002670365, 'learning_rate': 0.006494042886918581, 'batch_size': 192, 'activation': 'tanh', 'optimizer': 'adam'}. Best is trial 7 with value: -1.0.\n"
     ]
    },
    {
     "name": "stdout",
     "output_type": "stream",
     "text": [
      "\u001b[1m7/7\u001b[0m \u001b[32m━━━━━━━━━━━━━━━━━━━━\u001b[0m\u001b[37m\u001b[0m \u001b[1m0s\u001b[0m 7ms/step \n"
     ]
    },
    {
     "name": "stderr",
     "output_type": "stream",
     "text": [
      "[I 2024-12-01 18:07:27,865] Trial 149 finished with value: -1.0 and parameters: {'hidden_units': 16, 'dropout_rate': 0.42525021506048355, 'learning_rate': 0.0034708944371325285, 'batch_size': 192, 'activation': 'tanh', 'optimizer': 'adam'}. Best is trial 7 with value: -1.0.\n"
     ]
    },
    {
     "name": "stdout",
     "output_type": "stream",
     "text": [
      "Best hyperparameters: {'hidden_units': 112, 'dropout_rate': 0.3197190001781801, 'learning_rate': 0.006442740611297978, 'batch_size': 256, 'activation': 'relu', 'optimizer': 'adam'}\n",
      "Best score: -1.0\n"
     ]
    }
   ],
   "source": [
    "# Create the study and run Hyperband optimization\n",
    "study = optuna.create_study(\n",
    "    direction=\"maximize\",\n",
    "    sampler=optuna.samplers.TPESampler(),\n",
    "    pruner=optuna.pruners.HyperbandPruner(min_resource=5, max_resource=50, reduction_factor=3),\n",
    ")\n",
    "\n",
    "study.optimize(objective, n_trials=150, timeout=3600, n_jobs=-1)  # Adjust timeout and trials as needed\n",
    "\n",
    "# Display the best parameters and final results\n",
    "print(\"Best hyperparameters:\", study.best_params)\n",
    "print(\"Best score:\", study.best_value)"
   ]
  },
  {
   "cell_type": "code",
   "execution_count": 198,
   "id": "d28faf74-64b7-412a-bc2d-a5e5f2d22097",
   "metadata": {},
   "outputs": [
    {
     "data": {
      "text/plain": [
       "<keras.src.callbacks.history.History at 0x20067abb9b0>"
      ]
     },
     "execution_count": 198,
     "metadata": {},
     "output_type": "execute_result"
    }
   ],
   "source": [
    "# depth of autoencoder increased\n",
    "\n",
    "input_shape = X_train.shape[1]\n",
    "input_data = Input(shape=(input_shape,))\n",
    "\n",
    "encoded = Dense(best_params['hidden_units'], activation=best_params['activation'])(input_data)\n",
    "encoded = BatchNormalization()(encoded)\n",
    "encoded = Dropout(best_params['dropout_rate'])(encoded)\n",
    "encoded = Dense(best_params['hidden_units']//2, activation=best_params['activation'])(encoded)\n",
    "encoded = BatchNormalization()(encoded)\n",
    "\n",
    "decoded = Dense(best_params['hidden_units']//2, activation=best_params['activation'])(encoded)\n",
    "decoded = BatchNormalization()(decoded)\n",
    "decoded = Dense(best_params['hidden_units'], activation=best_params['activation'])(decoded)\n",
    "decoded = BatchNormalization()(decoded)\n",
    "decoded = Dense(input_shape, activation=\"sigmoid\")(decoded)\n",
    "\n",
    "best_model = Model(input_data, decoded)\n",
    "best_model.compile(optimizer=Adam(learning_rate=best_params['learning_rate']), loss=\"mean_squared_error\")\n",
    "\n",
    "# Compile the model\n",
    "#optimizer = Adam(learning_rate=best_params['learning_rate']) if optimizer_name == \"adam\" else RMSprop(learning_rate=best_params['learning_rate'])\n",
    "#best_model.compile(optimizer=\"adam\", loss=\"mean_absolute_error\")\n",
    "\n",
    "# Train the Autoencoder\n",
    "early_stopping = EarlyStopping(monitor=\"val_loss\", patience=5, restore_best_weights=True)\n",
    "best_model.fit(\n",
    "    X_train, X_train,\n",
    "    epochs=50,\n",
    "    batch_size=best_params['batch_size'],\n",
    "    validation_data=(X_test, X_test),\n",
    "    shuffle=True,\n",
    "    callbacks=[early_stopping],\n",
    "    verbose=0\n",
    ")"
   ]
  },
  {
   "cell_type": "code",
   "execution_count": 206,
   "id": "1d73a294-2dcc-461b-b449-a0c7e5f7a2cd",
   "metadata": {},
   "outputs": [
    {
     "name": "stdout",
     "output_type": "stream",
     "text": [
      "\u001b[1m8716/8716\u001b[0m \u001b[32m━━━━━━━━━━━━━━━━━━━━\u001b[0m\u001b[37m\u001b[0m \u001b[1m17s\u001b[0m 2ms/step\n",
      "Baseline Metrics:\n",
      "Accuracy: 0.937, Recall: 0.7731, Precision: 0.8212, F1 Score: 0.7965, AUC: 0.8935\n",
      "Optimized Model Metrics:\n",
      "Accuracy: 0.9376, Recall: 0.7750, Precision: 0.8232, F1 Score: 0.7984, AUC: 0.8984\n"
     ]
    }
   ],
   "source": [
    "y_pred = best_model.predict(X_test)\n",
    "mse = np.mean(np.power(X_test - y_pred, 2), axis=1)\n",
    "\n",
    "threshold = np.percentile(mse, 85)\n",
    "y_pred_binary = (mse > threshold).astype(int)\n",
    "\n",
    "accuracy = accuracy_score(y_test, y_pred_binary)\n",
    "precision = precision_score(y_test, y_pred_binary)\n",
    "recall = recall_score(y_test, y_pred_binary)\n",
    "f1 = f1_score(y_test, y_pred_binary)\n",
    "auc = roc_auc_score(y_test, mse)\n",
    "\n",
    "print(\"Baseline Metrics:\")\n",
    "print(f\"Accuracy: 0.937, Recall: 0.7731, Precision: 0.8212, F1 Score: 0.7965, AUC: 0.8935\")\n",
    "\n",
    "print(\"Optimized Model Metrics:\")\n",
    "print(f\"Accuracy: {accuracy:.4f}, Recall: {recall:.4f}, Precision: {precision:.4f}, F1 Score: {f1:.4f}, AUC: {auc:.4f}\")"
   ]
  },
  {
   "cell_type": "code",
   "execution_count": null,
   "id": "b2b06339-3c43-4ed0-808b-a7e69c3deb6d",
   "metadata": {},
   "outputs": [],
   "source": []
  }
 ],
 "metadata": {
  "kernelspec": {
   "display_name": "Python 3 (ipykernel)",
   "language": "python",
   "name": "python3"
  },
  "language_info": {
   "codemirror_mode": {
    "name": "ipython",
    "version": 3
   },
   "file_extension": ".py",
   "mimetype": "text/x-python",
   "name": "python",
   "nbconvert_exporter": "python",
   "pygments_lexer": "ipython3",
   "version": "3.11.5"
  }
 },
 "nbformat": 4,
 "nbformat_minor": 5
}
