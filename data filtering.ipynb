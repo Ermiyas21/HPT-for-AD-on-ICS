{
 "cells": [
  {
   "cell_type": "code",
   "execution_count": 23,
   "id": "253ff2c7",
   "metadata": {},
   "outputs": [],
   "source": [
    "import pandas as pd\n",
    "import numpy as np\n",
    "import matplotlib.pyplot as plt\n",
    "from imblearn.over_sampling import SMOTE\n",
    "from sklearn.model_selection import train_test_split\n",
    "\n",
    "from sklearn.feature_selection import f_classif"
   ]
  },
  {
   "cell_type": "code",
   "execution_count": 2,
   "id": "2dbbd26c",
   "metadata": {},
   "outputs": [],
   "source": [
    "# Load our data\n",
    "df = pd.read_csv(r'C:\\Users\\Asus\\Downloads\\Thesis\\dataset\\preprocessed_data.csv')\n",
    "\n",
    "X = df.drop(columns=['anomaly'])\n",
    "y = df['anomaly']"
   ]
  },
  {
   "cell_type": "code",
   "execution_count": 3,
   "id": "ab2e9647",
   "metadata": {},
   "outputs": [],
   "source": [
    "# Compute the ANOVA F-value\n",
    "f_values, p_values = f_classif(X, y)"
   ]
  },
  {
   "cell_type": "code",
   "execution_count": 5,
   "id": "f9176508",
   "metadata": {
    "collapsed": true
   },
   "outputs": [
    {
     "name": "stdout",
     "output_type": "stream",
     "text": [
      "    Feature       F-value        P-value\n",
      "20   FIT504  1.091051e+06   0.000000e+00\n",
      "11   FIT401  1.090508e+06   0.000000e+00\n",
      "19   FIT503  1.078101e+06   0.000000e+00\n",
      "48  UV401_2  1.071961e+06   0.000000e+00\n",
      "49   P501_2  1.061582e+06   0.000000e+00\n",
      "21   PIT501  1.060115e+06   0.000000e+00\n",
      "23   PIT503  1.055522e+06   0.000000e+00\n",
      "17   FIT501  1.026310e+06   0.000000e+00\n",
      "18   FIT502  1.004075e+06   0.000000e+00\n",
      "46   P402_2  9.815666e+05   0.000000e+00\n",
      "10   AIT402  6.366180e+05   0.000000e+00\n",
      "12   LIT401  5.304483e+05   0.000000e+00\n",
      "43  MV304_2  4.213275e+05   0.000000e+00\n",
      "13   AIT501  3.825183e+05   0.000000e+00\n",
      "42  MV304_1  3.648959e+05   0.000000e+00\n",
      "22   PIT502  2.645435e+05   0.000000e+00\n",
      "14   AIT502  2.479046e+05   0.000000e+00\n",
      "7    FIT301  1.041214e+05   0.000000e+00\n",
      "45   P302_2  9.764162e+04   0.000000e+00\n",
      "38  MV302_1  8.876938e+04   0.000000e+00\n",
      "39  MV302_2  8.563787e+04   0.000000e+00\n",
      "6   DPIT301  7.083840e+04   0.000000e+00\n",
      "1    LIT101  6.750006e+04   0.000000e+00\n",
      "32   P203_2  6.140014e+04   0.000000e+00\n",
      "27   P101_2  6.116924e+04   0.000000e+00\n",
      "2    AIT201  6.017814e+04   0.000000e+00\n",
      "29  MV201_1  5.948023e+04   0.000000e+00\n",
      "5    FIT201  5.862766e+04   0.000000e+00\n",
      "30  MV201_2  5.837676e+04   0.000000e+00\n",
      "28   P102_2  4.947640e+04   0.000000e+00\n",
      "34   P205_2  4.438002e+04   0.000000e+00\n",
      "25  MV101_1  4.383816e+04   0.000000e+00\n",
      "0    FIT101  4.349291e+04   0.000000e+00\n",
      "26  MV101_2  4.280925e+04   0.000000e+00\n",
      "3    AIT202  3.172935e+04   0.000000e+00\n",
      "8    LIT301  2.575404e+04   0.000000e+00\n",
      "16   AIT504  7.687159e+03   0.000000e+00\n",
      "9    AIT401  5.429433e+03   0.000000e+00\n",
      "31   P201_2  2.037026e+03   0.000000e+00\n",
      "33   P204_2  8.982264e+02  2.963724e-197\n",
      "35   P206_2  8.818785e+02  1.052700e-193\n",
      "15   AIT503  8.045926e+02  6.446926e-177\n",
      "37  MV301_2  1.719599e+02   2.783651e-39\n",
      "4    AIT203  1.675269e+02   2.586150e-38\n",
      "44   P301_2  1.189289e+02   1.089705e-27\n",
      "36  MV301_1  9.558030e+01   1.423695e-22\n",
      "40  MV303_1  9.062915e+01   1.736806e-21\n",
      "41  MV303_2  8.575061e+01   2.045346e-20\n",
      "24   FIT601  3.916985e+01   3.886609e-10\n",
      "50   P602_2  3.555762e+01   2.477058e-09\n",
      "47   P403_2  3.616611e+00   5.720561e-02\n"
     ]
    }
   ],
   "source": [
    "# Create a DataFrame to view results\n",
    "results = pd.DataFrame({'Feature': X.columns, 'F-value': f_values, 'P-value': p_values})\n",
    "results = results.sort_values(by='F-value', ascending=False)\n",
    "\n",
    "print(results)"
   ]
  },
  {
   "cell_type": "code",
   "execution_count": 6,
   "id": "700941d7",
   "metadata": {},
   "outputs": [
    {
     "name": "stdout",
     "output_type": "stream",
     "text": [
      "20     FIT504\n",
      "11     FIT401\n",
      "19     FIT503\n",
      "48    UV401_2\n",
      "49     P501_2\n",
      "21     PIT501\n",
      "23     PIT503\n",
      "17     FIT501\n",
      "18     FIT502\n",
      "46     P402_2\n",
      "10     AIT402\n",
      "12     LIT401\n",
      "43    MV304_2\n",
      "13     AIT501\n",
      "42    MV304_1\n",
      "22     PIT502\n",
      "14     AIT502\n",
      "7      FIT301\n",
      "45     P302_2\n",
      "38    MV302_1\n",
      "39    MV302_2\n",
      "6     DPIT301\n",
      "1      LIT101\n",
      "32     P203_2\n",
      "27     P101_2\n",
      "2      AIT201\n",
      "29    MV201_1\n",
      "5      FIT201\n",
      "30    MV201_2\n",
      "28     P102_2\n",
      "34     P205_2\n",
      "25    MV101_1\n",
      "0      FIT101\n",
      "26    MV101_2\n",
      "3      AIT202\n",
      "8      LIT301\n",
      "16     AIT504\n",
      "9      AIT401\n",
      "31     P201_2\n",
      "33     P204_2\n",
      "35     P206_2\n",
      "15     AIT503\n",
      "37    MV301_2\n",
      "4      AIT203\n",
      "44     P301_2\n",
      "36    MV301_1\n",
      "40    MV303_1\n",
      "41    MV303_2\n",
      "24     FIT601\n",
      "50     P602_2\n",
      "Name: Feature, dtype: object\n"
     ]
    }
   ],
   "source": [
    "# Selecting features with p < 0.05\n",
    "selected_features = results[results['P-value'] < 0.05]['Feature']\n",
    "print(selected_features)"
   ]
  },
  {
   "cell_type": "code",
   "execution_count": 13,
   "id": "4aba2514",
   "metadata": {},
   "outputs": [],
   "source": [
    "#choosing the top 20 features\n",
    "\n",
    "selected_feature_names = [\n",
    "    'FIT504', 'FIT401', 'FIT503', 'UV401_2', 'P501_2', \n",
    "    'PIT501', 'PIT503', 'FIT501', 'FIT502', 'P402_2' ,'AIT402','LIT401','MV304_2','AIT501','MV304_1','PIT502','AIT502','FIT301','P302_2','MV302_1'\n",
    "]\n",
    "\n",
    "data=df[selected_feature_names]"
   ]
  },
  {
   "cell_type": "code",
   "execution_count": 14,
   "id": "8b9f191d",
   "metadata": {},
   "outputs": [
    {
     "data": {
      "text/plain": [
       "(928898, 20)"
      ]
     },
     "execution_count": 14,
     "metadata": {},
     "output_type": "execute_result"
    }
   ],
   "source": [
    "data.shape"
   ]
  },
  {
   "cell_type": "code",
   "execution_count": 15,
   "id": "da30bb1a",
   "metadata": {},
   "outputs": [],
   "source": [
    "#adding 'anomaly' feature to our dataset\n",
    "\n",
    "data=pd.concat([data,y], axis=1)\n",
    "data = data.astype(np.float64)"
   ]
  },
  {
   "cell_type": "code",
   "execution_count": 16,
   "id": "01d69b93",
   "metadata": {},
   "outputs": [
    {
     "name": "stdout",
     "output_type": "stream",
     "text": [
      "(928898, 21)\n"
     ]
    },
    {
     "data": {
      "text/html": [
       "<div>\n",
       "<style scoped>\n",
       "    .dataframe tbody tr th:only-of-type {\n",
       "        vertical-align: middle;\n",
       "    }\n",
       "\n",
       "    .dataframe tbody tr th {\n",
       "        vertical-align: top;\n",
       "    }\n",
       "\n",
       "    .dataframe thead th {\n",
       "        text-align: right;\n",
       "    }\n",
       "</style>\n",
       "<table border=\"1\" class=\"dataframe\">\n",
       "  <thead>\n",
       "    <tr style=\"text-align: right;\">\n",
       "      <th></th>\n",
       "      <th>FIT504</th>\n",
       "      <th>FIT401</th>\n",
       "      <th>FIT503</th>\n",
       "      <th>UV401_2</th>\n",
       "      <th>P501_2</th>\n",
       "      <th>PIT501</th>\n",
       "      <th>PIT503</th>\n",
       "      <th>FIT501</th>\n",
       "      <th>FIT502</th>\n",
       "      <th>P402_2</th>\n",
       "      <th>...</th>\n",
       "      <th>LIT401</th>\n",
       "      <th>MV304_2</th>\n",
       "      <th>AIT501</th>\n",
       "      <th>MV304_1</th>\n",
       "      <th>PIT502</th>\n",
       "      <th>AIT502</th>\n",
       "      <th>FIT301</th>\n",
       "      <th>P302_2</th>\n",
       "      <th>MV302_1</th>\n",
       "      <th>anomaly</th>\n",
       "    </tr>\n",
       "  </thead>\n",
       "  <tbody>\n",
       "    <tr>\n",
       "      <th>0</th>\n",
       "      <td>0.0</td>\n",
       "      <td>0.0</td>\n",
       "      <td>0.002179</td>\n",
       "      <td>0.0</td>\n",
       "      <td>0.0</td>\n",
       "      <td>0.004448</td>\n",
       "      <td>0.005921</td>\n",
       "      <td>0.000948</td>\n",
       "      <td>0.001035</td>\n",
       "      <td>0.0</td>\n",
       "      <td>...</td>\n",
       "      <td>0.123250</td>\n",
       "      <td>0.0</td>\n",
       "      <td>0.00479</td>\n",
       "      <td>1.0</td>\n",
       "      <td>0.0</td>\n",
       "      <td>0.328554</td>\n",
       "      <td>0.940694</td>\n",
       "      <td>0.0</td>\n",
       "      <td>0.0</td>\n",
       "      <td>0.0</td>\n",
       "    </tr>\n",
       "    <tr>\n",
       "      <th>1</th>\n",
       "      <td>0.0</td>\n",
       "      <td>0.0</td>\n",
       "      <td>0.002179</td>\n",
       "      <td>0.0</td>\n",
       "      <td>0.0</td>\n",
       "      <td>0.004448</td>\n",
       "      <td>0.005921</td>\n",
       "      <td>0.000948</td>\n",
       "      <td>0.001035</td>\n",
       "      <td>0.0</td>\n",
       "      <td>...</td>\n",
       "      <td>0.123338</td>\n",
       "      <td>0.0</td>\n",
       "      <td>0.00479</td>\n",
       "      <td>1.0</td>\n",
       "      <td>0.0</td>\n",
       "      <td>0.328374</td>\n",
       "      <td>0.940371</td>\n",
       "      <td>0.0</td>\n",
       "      <td>0.0</td>\n",
       "      <td>0.0</td>\n",
       "    </tr>\n",
       "    <tr>\n",
       "      <th>2</th>\n",
       "      <td>0.0</td>\n",
       "      <td>0.0</td>\n",
       "      <td>0.002179</td>\n",
       "      <td>0.0</td>\n",
       "      <td>0.0</td>\n",
       "      <td>0.004448</td>\n",
       "      <td>0.005921</td>\n",
       "      <td>0.000948</td>\n",
       "      <td>0.001035</td>\n",
       "      <td>0.0</td>\n",
       "      <td>...</td>\n",
       "      <td>0.123250</td>\n",
       "      <td>0.0</td>\n",
       "      <td>0.00479</td>\n",
       "      <td>1.0</td>\n",
       "      <td>0.0</td>\n",
       "      <td>0.328374</td>\n",
       "      <td>0.939886</td>\n",
       "      <td>0.0</td>\n",
       "      <td>0.0</td>\n",
       "      <td>0.0</td>\n",
       "    </tr>\n",
       "    <tr>\n",
       "      <th>3</th>\n",
       "      <td>0.0</td>\n",
       "      <td>0.0</td>\n",
       "      <td>0.002179</td>\n",
       "      <td>0.0</td>\n",
       "      <td>0.0</td>\n",
       "      <td>0.004448</td>\n",
       "      <td>0.005921</td>\n",
       "      <td>0.000948</td>\n",
       "      <td>0.001035</td>\n",
       "      <td>0.0</td>\n",
       "      <td>...</td>\n",
       "      <td>0.123426</td>\n",
       "      <td>0.0</td>\n",
       "      <td>0.00479</td>\n",
       "      <td>1.0</td>\n",
       "      <td>0.0</td>\n",
       "      <td>0.328374</td>\n",
       "      <td>0.939886</td>\n",
       "      <td>0.0</td>\n",
       "      <td>0.0</td>\n",
       "      <td>0.0</td>\n",
       "    </tr>\n",
       "    <tr>\n",
       "      <th>4</th>\n",
       "      <td>0.0</td>\n",
       "      <td>0.0</td>\n",
       "      <td>0.002179</td>\n",
       "      <td>0.0</td>\n",
       "      <td>0.0</td>\n",
       "      <td>0.004448</td>\n",
       "      <td>0.005921</td>\n",
       "      <td>0.000948</td>\n",
       "      <td>0.001035</td>\n",
       "      <td>0.0</td>\n",
       "      <td>...</td>\n",
       "      <td>0.123691</td>\n",
       "      <td>0.0</td>\n",
       "      <td>0.00479</td>\n",
       "      <td>1.0</td>\n",
       "      <td>0.0</td>\n",
       "      <td>0.328374</td>\n",
       "      <td>0.939886</td>\n",
       "      <td>0.0</td>\n",
       "      <td>0.0</td>\n",
       "      <td>0.0</td>\n",
       "    </tr>\n",
       "  </tbody>\n",
       "</table>\n",
       "<p>5 rows × 21 columns</p>\n",
       "</div>"
      ],
      "text/plain": [
       "   FIT504  FIT401    FIT503  UV401_2  P501_2    PIT501    PIT503    FIT501  \\\n",
       "0     0.0     0.0  0.002179      0.0     0.0  0.004448  0.005921  0.000948   \n",
       "1     0.0     0.0  0.002179      0.0     0.0  0.004448  0.005921  0.000948   \n",
       "2     0.0     0.0  0.002179      0.0     0.0  0.004448  0.005921  0.000948   \n",
       "3     0.0     0.0  0.002179      0.0     0.0  0.004448  0.005921  0.000948   \n",
       "4     0.0     0.0  0.002179      0.0     0.0  0.004448  0.005921  0.000948   \n",
       "\n",
       "     FIT502  P402_2  ...    LIT401  MV304_2   AIT501  MV304_1  PIT502  \\\n",
       "0  0.001035     0.0  ...  0.123250      0.0  0.00479      1.0     0.0   \n",
       "1  0.001035     0.0  ...  0.123338      0.0  0.00479      1.0     0.0   \n",
       "2  0.001035     0.0  ...  0.123250      0.0  0.00479      1.0     0.0   \n",
       "3  0.001035     0.0  ...  0.123426      0.0  0.00479      1.0     0.0   \n",
       "4  0.001035     0.0  ...  0.123691      0.0  0.00479      1.0     0.0   \n",
       "\n",
       "     AIT502    FIT301  P302_2  MV302_1  anomaly  \n",
       "0  0.328554  0.940694     0.0      0.0      0.0  \n",
       "1  0.328374  0.940371     0.0      0.0      0.0  \n",
       "2  0.328374  0.939886     0.0      0.0      0.0  \n",
       "3  0.328374  0.939886     0.0      0.0      0.0  \n",
       "4  0.328374  0.939886     0.0      0.0      0.0  \n",
       "\n",
       "[5 rows x 21 columns]"
      ]
     },
     "execution_count": 16,
     "metadata": {},
     "output_type": "execute_result"
    }
   ],
   "source": [
    "print(data.shape)\n",
    "\n",
    "data.head()"
   ]
  },
  {
   "cell_type": "code",
   "execution_count": null,
   "id": "602c185e",
   "metadata": {},
   "outputs": [],
   "source": [
    "data.to_csv(r'C:\\Users\\Asus\\Downloads\\Thesis\\dataset\\data.csv',index=False)"
   ]
  },
  {
   "cell_type": "code",
   "execution_count": 29,
   "id": "7449fda1",
   "metadata": {},
   "outputs": [],
   "source": [
    "category_counts = data['anomaly'].value_counts()"
   ]
  },
  {
   "cell_type": "code",
   "execution_count": 30,
   "id": "bc9ec2ee",
   "metadata": {},
   "outputs": [
    {
     "data": {
      "image/png": "[encoded data removed]",
      "text/plain": [
       "<Figure size 300x300 with 1 Axes>"
      ]
     },
     "metadata": {},
     "output_type": "display_data"
    }
   ],
   "source": [
    "plt.figure(figsize=(3, 3))  # Set the figure size\n",
    "plt.bar(category_counts.index, category_counts.values, color=['cornflowerblue', 'firebrick'])  # Create a bar chart\n",
    "plt.xlabel('Category')  # Set the x-label\n",
    "plt.ylabel('Number of Observations')  # Set the y-label\n",
    "plt.xticks(ticks=[0, 1], labels=['Normal (0)', 'Attack (1)'])  # Set the x-ticks labels\n",
    "plt.show()"
   ]
  },
  {
   "cell_type": "code",
   "execution_count": 25,
   "id": "52a40bf6",
   "metadata": {},
   "outputs": [
    {
     "name": "stdout",
     "output_type": "stream",
     "text": [
      "anomaly\n",
      "0    875250\n",
      "1    875250\n",
      "Name: count, dtype: int64\n"
     ]
    }
   ],
   "source": [
    "# Create a SMOTE object\n",
    "smote = SMOTE(random_state=42)\n",
    "\n",
    "# Resample the training set\n",
    "X_smote, y_smote = smote.fit_resample(X, y)\n",
    "\n",
    "# Checking the balance\n",
    "print(y_smote.value_counts())"
   ]
  },
  {
   "cell_type": "code",
   "execution_count": 26,
   "id": "169a60e4",
   "metadata": {},
   "outputs": [],
   "source": [
    "category_counts=y_smote.value_counts()"
   ]
  },
  {
   "cell_type": "code",
   "execution_count": 28,
   "id": "6069f787",
   "metadata": {},
   "outputs": [
    {
     "data": {
      "image/png": "[encoded data removed]",
      "text/plain": [
       "<Figure size 300x300 with 1 Axes>"
      ]
     },
     "metadata": {},
     "output_type": "display_data"
    }
   ],
   "source": [
    "plt.figure(figsize=(3, 3))  # Set the figure size\n",
    "plt.bar(category_counts.index, category_counts.values, color=['cornflowerblue', 'firebrick'])  # Create a bar chart\n",
    "plt.xlabel('Category')  # Set the x-label\n",
    "plt.ylabel('Number of Observations')  # Set the y-label\n",
    "plt.xticks(ticks=[0, 1], labels=['Normal (0)', 'Attack (1)'])  # Set the x-ticks labels\n",
    "plt.show()"
   ]
  },
  {
   "cell_type": "code",
   "execution_count": null,
   "id": "fa71bf83",
   "metadata": {},
   "outputs": [],
   "source": []
  }
 ],
 "metadata": {
  "kernelspec": {
   "display_name": "Python 3 (ipykernel)",
   "language": "python",
   "name": "python3"
  },
  "language_info": {
   "codemirror_mode": {
    "name": "ipython",
    "version": 3
   },
   "file_extension": ".py",
   "mimetype": "text/x-python",
   "name": "python",
   "nbconvert_exporter": "python",
   "pygments_lexer": "ipython3",
   "version": "3.11.5"
  }
 },
 "nbformat": 4,
 "nbformat_minor": 5
}
